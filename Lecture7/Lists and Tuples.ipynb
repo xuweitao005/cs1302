{
 "cells": [
  {
   "cell_type": "markdown",
   "metadata": {
    "slideshow": {
     "slide_type": "slide"
    }
   },
   "source": [
    "# Lists and Tuples\n",
    "\n",
    "**CS1302 Introduction to Computer Programming**\n",
    "___"
   ]
  },
  {
   "cell_type": "code",
   "execution_count": 4,
   "metadata": {
    "ExecuteTime": {
     "end_time": "2021-03-12T01:17:41.934898Z",
     "start_time": "2021-03-12T01:17:41.893107Z"
    },
    "hide_input": false
   },
   "outputs": [],
   "source": [
    "# set up environment\n",
    "%reset -f\n",
    "import sys\n",
    "cs1302_site_packages = '/home/course/cs1302/site-packages'\n",
    "if cs1302_site_packages not in sys.path:\n",
    "    sys.path.append(cs1302_site_packages)\n",
    "%reload_ext mytutor"
   ]
  },
  {
   "cell_type": "markdown",
   "metadata": {
    "slideshow": {
     "slide_type": "slide"
    }
   },
   "source": [
    "## Motivation of composite data type"
   ]
  },
  {
   "cell_type": "markdown",
   "metadata": {
    "slideshow": {
     "slide_type": "fragment"
    }
   },
   "source": [
    "The following code calculates the average of five numbers:"
   ]
  },
  {
   "cell_type": "code",
   "execution_count": 1,
   "metadata": {
    "ExecuteTime": {
     "end_time": "2021-03-12T01:10:54.325313Z",
     "start_time": "2021-03-12T01:10:54.316222Z"
    },
    "slideshow": {
     "slide_type": "-"
    }
   },
   "outputs": [
    {
     "data": {
      "text/plain": [
       "3.0"
      ]
     },
     "execution_count": 1,
     "metadata": {},
     "output_type": "execute_result"
    }
   ],
   "source": [
    "def average_five_numbers(n1, n2, n3, n4, n5):\n",
    "    return (n1 + n2 + n3 + n4 + n5) / 5\n",
    "\n",
    "\n",
    "average_five_numbers(1, 2, 3, 4, 5)"
   ]
  },
  {
   "cell_type": "markdown",
   "metadata": {
    "slideshow": {
     "slide_type": "fragment"
    }
   },
   "source": [
    "What about using the above function to compute the average household income in Hong Kong.  \n",
    "The labor size in Hong Kong in 2018 is close to 4 million.\n",
    "- Should we create a variable to store the income of each individual?\n",
    "- Should we recursively apply the function to groups of five numbers?"
   ]
  },
  {
   "cell_type": "markdown",
   "metadata": {
    "slideshow": {
     "slide_type": "fragment"
    }
   },
   "source": [
    "What we need is\n",
    "- a *composite data type* that can keep a variable numbers of items, so that  \n",
    "- we can then define a function that takes an object of the *composite data type*,\n",
    "- and returns the average of all items in the object."
   ]
  },
  {
   "cell_type": "markdown",
   "metadata": {
    "slideshow": {
     "slide_type": "subslide"
    }
   },
   "source": [
    "**How to store a sequence of items in Python?**"
   ]
  },
  {
   "cell_type": "markdown",
   "metadata": {
    "slideshow": {
     "slide_type": "fragment"
    }
   },
   "source": [
    "Python Collections (Arrays)\n",
    "\n",
    "There are four collection data types in the Python programming language:\n",
    "\n",
    "- `List` is a collection which is ordered and changeable/mutable. Allows duplicate members.\n",
    "- `Tuple` is a collection which is ordered and unchangeable/immutable. Allows duplicate members.\n",
    "- `Set` is a collection which is unordered and unindexed. No duplicate members.\n",
    "- `Dictionary` is a collection which is unordered, changeable and indexed. No duplicate members."
   ]
  },
  {
   "cell_type": "markdown",
   "metadata": {},
   "source": [
    "In this class, we will learn `List` and `Tuple`.\n",
    "\n",
    "`list` and `tuple` are two built-in classes for ordered collections of objects of possibly different types.\n",
    "\n",
    "- `List` is a collection which is ordered and changeable. In Python lists are written with square brackets.\n",
    "\n",
    "- `Tuple` is a collection which is ordered and unchangeable. In Python tuples are written with round brackets.\n"
   ]
  },
  {
   "cell_type": "code",
   "execution_count": 2,
   "metadata": {
    "ExecuteTime": {
     "end_time": "2021-03-12T01:16:38.193433Z",
     "start_time": "2021-03-12T01:16:38.188607Z"
    }
   },
   "outputs": [
    {
     "name": "stdout",
     "output_type": "stream",
     "text": [
      "['apple', 'banana', 'cherry', 1, 2, 2.5]\n",
      "('apple', 'banana', 'cherry', 1, 2, 2.5)\n"
     ]
    }
   ],
   "source": [
    "#create a list\n",
    "thislist = [\"apple\", \"banana\", \"cherry\",1, 2, 2.5]\n",
    "print(thislist)\n",
    "#create a tuple\n",
    "thistuple = (\"apple\", \"banana\", \"cherry\",1, 2, 2.5)\n",
    "print(thistuple)"
   ]
  },
  {
   "cell_type": "markdown",
   "metadata": {
    "slideshow": {
     "slide_type": "fragment"
    }
   },
   "source": [
    "Indeed, we have already used tuples and lists before."
   ]
  },
  {
   "cell_type": "code",
   "execution_count": 8,
   "metadata": {
    "ExecuteTime": {
     "end_time": "2021-03-12T01:26:32.192364Z",
     "start_time": "2021-03-12T01:26:32.188701Z"
    },
    "slideshow": {
     "slide_type": "-"
    }
   },
   "outputs": [
    {
     "data": {
      "text/html": [
       "\n",
       "        <iframe\n",
       "            width=\"1100\"\n",
       "            height=\"300\"\n",
       "            src=\"https://e-quiz.cs.cityu.edu.hk/opt/cs1302visualize.html#mode=display&code=a_list%20%3D%20%271%202%203%27.split%28%29%0Aa_tuple%20%3D%20%28lambda%20%2Aargs%3A%20args%29%281%2C2%2C3%29%20%0A%23the%20above%20lambda%20expression%20is%20equivalent%20to%20the%20code%20below%0Ax%3Dlambda%20%2Aargs%3A%20args%0Aa_tuple2%3D%28x%281%2C2%2C3%29%29%0A%0Aa_list%5B0%5D%20%3D%200%0Aa_tuple%5B0%5D%20%3D%200%0A\"\n",
       "            frameborder=\"0\"\n",
       "            allowfullscreen\n",
       "        ></iframe>\n",
       "        "
      ],
      "text/plain": [
       "<IPython.lib.display.IFrame at 0x7ff17be69810>"
      ]
     },
     "metadata": {},
     "output_type": "display_data"
    }
   ],
   "source": [
    "%%mytutor -h 300\n",
    "a_list = '1 2 3'.split()\n",
    "a_tuple = (lambda *args: args)(1,2,3) \n",
    "#the above lambda expression is equivalent to the code below\n",
    "#f=lambda *args: args\n",
    "#a_tuple=(f(1,2,3))\n",
    "\n",
    "a_list[0] = 0\n",
    "a_tuple[0] = 0"
   ]
  },
  {
   "cell_type": "markdown",
   "metadata": {
    "slideshow": {
     "slide_type": "subslide"
    }
   },
   "source": [
    "**What is the difference between tuple and list?**"
   ]
  },
  {
   "cell_type": "markdown",
   "metadata": {
    "slideshow": {
     "slide_type": "fragment"
    }
   },
   "source": [
    "- List is [*mutable*](https://docs.python.org/3/library/stdtypes.html#index-21) (i.e., changable) so programmers can change its items.\n",
    "- Tuple is [*immutable*](https://docs.python.org/3/glossary.html#term-immutable) (i.e., unchangable) like `int`, `float`, and `str`, so\n",
    "   - programmers can be certain the content stay unchanged, and\n",
    "   - Python can preallocate a fixed amount of memory to store its content.\n",
    "   \n",
    "- More explanation about Mutable vs Immutable can be found [here](https://www.geeksforgeeks.org/mutable-vs-immutable-objects-in-python/)"
   ]
  },
  {
   "cell_type": "code",
   "execution_count": 1,
   "metadata": {
    "ExecuteTime": {
     "end_time": "2021-03-11T23:15:07.045971Z",
     "start_time": "2021-03-11T23:15:06.931622Z"
    }
   },
   "outputs": [
    {
     "ename": "TypeError",
     "evalue": "'tuple' object does not support item assignment",
     "output_type": "error",
     "traceback": [
      "\u001b[0;31m---------------------------------------------------------------------------\u001b[0m",
      "\u001b[0;31mTypeError\u001b[0m                                 Traceback (most recent call last)",
      "\u001b[0;32m<ipython-input-1-4d4756de5b9e>\u001b[0m in \u001b[0;36m<module>\u001b[0;34m\u001b[0m\n\u001b[1;32m      1\u001b[0m \u001b[0;31m# this example shows tuples are immutable\u001b[0m\u001b[0;34m\u001b[0m\u001b[0;34m\u001b[0m\u001b[0;34m\u001b[0m\u001b[0m\n\u001b[1;32m      2\u001b[0m \u001b[0mtuple1\u001b[0m \u001b[0;34m=\u001b[0m \u001b[0;34m(\u001b[0m\u001b[0;36m0\u001b[0m\u001b[0;34m,\u001b[0m \u001b[0;36m1\u001b[0m\u001b[0;34m,\u001b[0m \u001b[0;36m2\u001b[0m\u001b[0;34m,\u001b[0m \u001b[0;36m3\u001b[0m\u001b[0;34m)\u001b[0m\u001b[0;34m\u001b[0m\u001b[0;34m\u001b[0m\u001b[0m\n\u001b[0;32m----> 3\u001b[0;31m \u001b[0mtuple1\u001b[0m\u001b[0;34m[\u001b[0m\u001b[0;36m0\u001b[0m\u001b[0;34m]\u001b[0m \u001b[0;34m=\u001b[0m \u001b[0;36m4\u001b[0m\u001b[0;34m\u001b[0m\u001b[0;34m\u001b[0m\u001b[0m\n\u001b[0m\u001b[1;32m      4\u001b[0m \u001b[0mprint\u001b[0m\u001b[0;34m(\u001b[0m\u001b[0mtuple1\u001b[0m\u001b[0;34m)\u001b[0m\u001b[0;34m\u001b[0m\u001b[0;34m\u001b[0m\u001b[0m\n",
      "\u001b[0;31mTypeError\u001b[0m: 'tuple' object does not support item assignment"
     ]
    }
   ],
   "source": [
    "# this example shows tuples are immutable\n",
    "tuple1 = (0, 1, 2, 3)  \n",
    "tuple1[0] = 4\n",
    "print(tuple1)"
   ]
  },
  {
   "cell_type": "code",
   "execution_count": 9,
   "metadata": {
    "ExecuteTime": {
     "end_time": "2021-03-12T01:28:55.036479Z",
     "start_time": "2021-03-12T01:28:54.992187Z"
    }
   },
   "outputs": [
    {
     "ename": "TypeError",
     "evalue": "'str' object does not support item assignment",
     "output_type": "error",
     "traceback": [
      "\u001b[0;31m---------------------------------------------------------------------------\u001b[0m",
      "\u001b[0;31mTypeError\u001b[0m                                 Traceback (most recent call last)",
      "\u001b[0;32m<ipython-input-9-cdf52ac97300>\u001b[0m in \u001b[0;36m<module>\u001b[0;34m\u001b[0m\n\u001b[1;32m      1\u001b[0m \u001b[0;31m# this example shows strings are immutable\u001b[0m\u001b[0;34m\u001b[0m\u001b[0;34m\u001b[0m\u001b[0;34m\u001b[0m\u001b[0m\n\u001b[1;32m      2\u001b[0m \u001b[0mmessage\u001b[0m \u001b[0;34m=\u001b[0m \u001b[0;34m\"Welcome to CS1302\"\u001b[0m\u001b[0;34m\u001b[0m\u001b[0;34m\u001b[0m\u001b[0m\n\u001b[0;32m----> 3\u001b[0;31m \u001b[0mmessage\u001b[0m\u001b[0;34m[\u001b[0m\u001b[0;36m0\u001b[0m\u001b[0;34m]\u001b[0m \u001b[0;34m=\u001b[0m \u001b[0;34m'p'\u001b[0m\u001b[0;34m\u001b[0m\u001b[0;34m\u001b[0m\u001b[0m\n\u001b[0m\u001b[1;32m      4\u001b[0m \u001b[0mprint\u001b[0m\u001b[0;34m(\u001b[0m\u001b[0mmessage\u001b[0m\u001b[0;34m)\u001b[0m\u001b[0;34m\u001b[0m\u001b[0;34m\u001b[0m\u001b[0m\n",
      "\u001b[0;31mTypeError\u001b[0m: 'str' object does not support item assignment"
     ]
    }
   ],
   "source": [
    "# this example shows strings are immutable    \n",
    "message = \"Welcome to CS1302\"\n",
    "message[0] = 'p'\n",
    "print(message)"
   ]
  },
  {
   "cell_type": "code",
   "execution_count": 11,
   "metadata": {
    "ExecuteTime": {
     "end_time": "2021-03-12T01:29:08.548091Z",
     "start_time": "2021-03-12T01:29:08.543656Z"
    }
   },
   "outputs": [
    {
     "name": "stdout",
     "output_type": "stream",
     "text": [
      "['red', 'blue', 'green']\n",
      "['pink', 'blue', 'green']\n"
     ]
    }
   ],
   "source": [
    "# lists are mutable\n",
    "color = [\"red\", \"blue\", \"green\"] \n",
    "print(color) \n",
    "  \n",
    "color[0] = \"pink\"\n",
    "print(color)"
   ]
  },
  {
   "cell_type": "markdown",
   "metadata": {
    "slideshow": {
     "slide_type": "slide"
    }
   },
   "source": [
    "## Constructing sequences"
   ]
  },
  {
   "cell_type": "markdown",
   "metadata": {
    "slideshow": {
     "slide_type": "subslide"
    }
   },
   "source": [
    "**How to create tuple/list?**"
   ]
  },
  {
   "cell_type": "markdown",
   "metadata": {
    "slideshow": {
     "slide_type": "fragment"
    }
   },
   "source": [
    "Mathematicians often represent a set of items in two different ways:\n",
    "1. [Roster notation](https://en.wikipedia.org/wiki/Set_(mathematics)#Roster_notation), which enumerates the elements in the sequence. E.g.,\n",
    "$$ \\{0, 1, 4, 9, 16, 25, 36, 49, 64, 81\\} $$\n",
    "2. [Set-builder notation](https://en.wikipedia.org/wiki/Set-builder_notation), which describes the content using a rule for constructing the elements.\n",
    "$$ \\{x^2| x\\in \\mathbb{N}, x< 10 \\}, $$\n",
    "namely the set of perfect squares less than 100."
   ]
  },
  {
   "cell_type": "markdown",
   "metadata": {
    "slideshow": {
     "slide_type": "fragment"
    }
   },
   "source": [
    "Python also provides two corresponding ways to create a tuple/list:  \n",
    "1. [Enclosure](https://docs.python.org/3/reference/expressions.html?highlight=literals#grammar-token-enclosure)\n",
    "2. [Comprehension](https://docs.python.org/3/reference/expressions.html#index-12)"
   ]
  },
  {
   "cell_type": "markdown",
   "metadata": {
    "slideshow": {
     "slide_type": "subslide"
    }
   },
   "source": [
    "**How to create a tuple/list by enumerating its items?**"
   ]
  },
  {
   "cell_type": "markdown",
   "metadata": {
    "slideshow": {
     "slide_type": "fragment"
    }
   },
   "source": [
    "To create a tuple, we enclose a comma separated sequence by parentheses:"
   ]
  },
  {
   "cell_type": "code",
   "execution_count": 12,
   "metadata": {
    "ExecuteTime": {
     "end_time": "2021-03-12T01:34:20.697240Z",
     "start_time": "2021-03-12T01:34:20.691307Z"
    },
    "slideshow": {
     "slide_type": "-"
    }
   },
   "outputs": [
    {
     "data": {
      "text/html": [
       "\n",
       "        <iframe\n",
       "            width=\"1100\"\n",
       "            height=\"450\"\n",
       "            src=\"https://e-quiz.cs.cityu.edu.hk/opt/cs1302visualize.html#mode=display&code=empty_tuple%20%3D%20%28%29%0Asingleton_tuple%20%3D%20%280%2C%29%20%20%20%23%20why%20not%20%280%29%3F%200%0Aheterogeneous_tuple%20%3D%20%28singleton_tuple%2C%0A%20%20%20%20%20%20%20%20%20%20%20%20%20%20%20%20%20%20%20%20%20%20%20%281%2C%202.0%29%2C%0A%20%20%20%20%20%20%20%20%20%20%20%20%20%20%20%20%20%20%20%20%20%20%20print%29%0Aenclosed_starred_tuple%20%3D%20%28%2Arange%282%29%2C%0A%20%20%20%20%20%20%20%20%20%20%20%20%20%20%20%20%20%20%20%20%20%20%20%20%20%20%2A%2723%27%29%0A\"\n",
       "            frameborder=\"0\"\n",
       "            allowfullscreen\n",
       "        ></iframe>\n",
       "        "
      ],
      "text/plain": [
       "<IPython.lib.display.IFrame at 0x7ff17be504d0>"
      ]
     },
     "metadata": {},
     "output_type": "display_data"
    }
   ],
   "source": [
    "%%mytutor -h 450\n",
    "empty_tuple = ()\n",
    "singleton_tuple = (0,)   # why not (0)? 0\n",
    "heterogeneous_tuple = (singleton_tuple,\n",
    "                       (1, 2.0),\n",
    "                       print)\n",
    "enclosed_starred_tuple = (*range(2),\n",
    "                          *'23')"
   ]
  },
  {
   "cell_type": "markdown",
   "metadata": {
    "slideshow": {
     "slide_type": "fragment"
    }
   },
   "source": [
    "Note that:\n",
    "- If the enclosed sequence has one term, there must be a comma after the term.\n",
    "- The elements of a tuple can have different types.\n",
    "- The unpacking operator `*` can unpack an iterable into a sequence in an enclosure. (see example below)"
   ]
  },
  {
   "cell_type": "code",
   "execution_count": 8,
   "metadata": {
    "ExecuteTime": {
     "end_time": "2021-03-11T23:16:24.762497Z",
     "start_time": "2021-03-11T23:16:24.754225Z"
    }
   },
   "outputs": [
    {
     "name": "stdout",
     "output_type": "stream",
     "text": [
      "range(0, 2)\n",
      "0 1\n",
      "apple\n",
      "a p p l e\n"
     ]
    }
   ],
   "source": [
    "#unpack operator * to unpack an iterable object\n",
    "print(range(2))\n",
    "print(*range(2))\n",
    "print('apple')\n",
    "print(*'apple')"
   ]
  },
  {
   "cell_type": "markdown",
   "metadata": {
    "slideshow": {
     "slide_type": "subslide"
    }
   },
   "source": [
    "To create a list, we use square brackets to enclose a comma separated sequence of objects."
   ]
  },
  {
   "cell_type": "code",
   "execution_count": 13,
   "metadata": {
    "ExecuteTime": {
     "end_time": "2021-03-12T01:35:08.782168Z",
     "start_time": "2021-03-12T01:35:08.778632Z"
    },
    "slideshow": {
     "slide_type": "-"
    }
   },
   "outputs": [
    {
     "data": {
      "text/html": [
       "\n",
       "        <iframe\n",
       "            width=\"1100\"\n",
       "            height=\"450\"\n",
       "            src=\"https://e-quiz.cs.cityu.edu.hk/opt/cs1302visualize.html#mode=display&code=empty_list%20%3D%20%5B%5D%0Asingleton_list%20%3D%20%5B0%5D%20%20%23%20no%20need%20to%20write%20%5B0%2C%5D%0Aheterogeneous_list%20%3D%20%5Bsingleton_list%2C%20%0A%20%20%20%20%20%20%20%20%20%20%20%20%20%20%20%20%20%20%20%20%20%20%281%2C%202.0%29%2C%20%0A%20%20%20%20%20%20%20%20%20%20%20%20%20%20%20%20%20%20%20%20%20%20print%5D%0Aenclosed_starred_list%20%3D%20%5B%2Arange%282%29%2C%0A%20%20%20%20%20%20%20%20%20%20%20%20%20%20%20%20%20%20%20%20%20%20%20%20%20%2A%2723%27%5D%0A\"\n",
       "            frameborder=\"0\"\n",
       "            allowfullscreen\n",
       "        ></iframe>\n",
       "        "
      ],
      "text/plain": [
       "<IPython.lib.display.IFrame at 0x7ff17be50e90>"
      ]
     },
     "metadata": {},
     "output_type": "display_data"
    }
   ],
   "source": [
    "%%mytutor -h 450\n",
    "empty_list = []\n",
    "singleton_list = [0]  # no need to write [0,]\n",
    "heterogeneous_list = [singleton_list, \n",
    "                      (1, 2.0), \n",
    "                      print]\n",
    "enclosed_starred_list = [*range(2),\n",
    "                         *'23']"
   ]
  },
  {
   "cell_type": "markdown",
   "metadata": {
    "slideshow": {
     "slide_type": "subslide"
    }
   },
   "source": [
    "We can also create a tuple/list from other iterables using the constructors `tuple`/`list` as well as addition and multiplication similar to `str`.\n",
    "- it's like data convertion: `int()`, `float()`, `str()`"
   ]
  },
  {
   "cell_type": "code",
   "execution_count": 10,
   "metadata": {
    "ExecuteTime": {
     "end_time": "2021-03-11T23:16:34.712607Z",
     "start_time": "2021-03-11T23:16:34.706230Z"
    },
    "slideshow": {
     "slide_type": "-"
    }
   },
   "outputs": [
    {
     "data": {
      "text/html": [
       "\n",
       "        <iframe\n",
       "            width=\"1100\"\n",
       "            height=\"850\"\n",
       "            src=\"https://e-quiz.cs.cityu.edu.hk/opt/cs1302visualize.html#mode=display&code=str2list%20%3D%20list%28%27Hello%27%29%0Astr2tuple%20%3D%20tuple%28%27Hello%27%29%0Arange2list%20%3D%20list%28range%285%29%29%0Arange2tuple%20%3D%20tuple%28range%285%29%29%0Atuple2list%20%3D%20list%28%281%2C%202%2C%203%29%29%0Alist2tuple%20%3D%20tuple%28%5B1%2C%202%2C%203%5D%29%0Aconcatenated_tuple%20%3D%20%281%2C%29%20%2B%20%282%2C%203%29%0Aconcatenated_list%20%3D%20%5B1%2C%202%5D%20%2B%20%5B3%5D%0Aduplicated_tuple%20%3D%20%281%2C%29%20%2A%202%0Aduplicated_list%20%3D%202%20%2A%20%5B1%5D%0A\"\n",
       "            frameborder=\"0\"\n",
       "            allowfullscreen\n",
       "        ></iframe>\n",
       "        "
      ],
      "text/plain": [
       "<IPython.lib.display.IFrame at 0x7f7b1a787950>"
      ]
     },
     "metadata": {},
     "output_type": "display_data"
    }
   ],
   "source": [
    "%%mytutor -h 850\n",
    "str2list = list('Hello')\n",
    "str2tuple = tuple('Hello')\n",
    "range2list = list(range(5))\n",
    "range2tuple = tuple(range(5))\n",
    "tuple2list = list((1, 2, 3))\n",
    "list2tuple = tuple([1, 2, 3])\n",
    "concatenated_tuple = (1,) + (2, 3)\n",
    "concatenated_list = [1, 2] + [3]\n",
    "duplicated_tuple = (1,) * 2\n",
    "duplicated_list = 2 * [1]"
   ]
  },
  {
   "cell_type": "markdown",
   "metadata": {
    "slideshow": {
     "slide_type": "subslide"
    }
   },
   "source": [
    "**Exercise** Explain the difference between following two expressions. Why a singleton tuple must have a comma after the item."
   ]
  },
  {
   "cell_type": "code",
   "execution_count": 14,
   "metadata": {
    "ExecuteTime": {
     "end_time": "2021-03-12T01:38:10.493826Z",
     "start_time": "2021-03-12T01:38:10.490424Z"
    },
    "slideshow": {
     "slide_type": "-"
    }
   },
   "outputs": [
    {
     "name": "stdout",
     "output_type": "stream",
     "text": [
      "6\n",
      "(3, 3)\n"
     ]
    }
   ],
   "source": [
    "print((1+2)*2, (1+2,)*2, sep='\\n')"
   ]
  },
  {
   "cell_type": "markdown",
   "metadata": {
    "deletable": false,
    "nbgrader": {
     "cell_type": "markdown",
     "checksum": "82da7fcaca2139254bf16e6c105647c2",
     "grade": true,
     "grade_id": "singleton-tuple",
     "locked": false,
     "points": 0,
     "schema_version": 3,
     "solution": true,
     "task": false
    },
    "slideshow": {
     "slide_type": "-"
    }
   },
   "source": [
    "`(1+2)*2` evaluates to `6` but `(1+2,)*2` evaluates to `(3,3)`. \n",
    "- The parentheses in `(1+2)` is used to indicate the addition needs to be performed first, but \n",
    "- the the parentheses in `(1+2,)` creates a tuple.  \n",
    "\n",
    "Hence, single tuple must have a comma after the item to differentiate these two use cases."
   ]
  },
  {
   "cell_type": "markdown",
   "metadata": {
    "slideshow": {
     "slide_type": "subslide"
    }
   },
   "source": [
    "**How to use a rule to construct a tuple/list?**"
   ]
  },
  {
   "cell_type": "markdown",
   "metadata": {
    "ExecuteTime": {
     "end_time": "2020-10-29T00:11:10.722819Z",
     "start_time": "2020-10-29T00:11:10.718451Z"
    },
    "slideshow": {
     "slide_type": "fragment"
    }
   },
   "source": [
    "We can specify the rule using a [comprehension](https://docs.python.org/3/reference/expressions.html#index-12),  \n",
    "which we have used in a generator expression.  \n",
    "- Comprehension is an elegant way to define and create tuple/list based on existing lists. It is generally more compact and faster than normal functions and loops.\n",
    "- A comprehension consists of three parts: output_expression, iteration, and conditional filtering\n",
    "    - Syntax: [ output_expression() `for`(set of values to iterate) `if`(conditional filtering) ]\n",
    "    -  if you want to change a member value instead of filtering it out? In this case, it’s useful to place the conditional near the beginning of the expression: [output_expression (if conditional) for member in iterable]\n",
    "- A nice introduction to comprehension can be found [here](https://realpython.com/list-comprehension-python/)\n",
    "- E.g., the following is a python one-liner that returns a generator for prime numbers."
   ]
  },
  {
   "cell_type": "code",
   "execution_count": 15,
   "metadata": {
    "ExecuteTime": {
     "end_time": "2021-03-12T01:41:56.277026Z",
     "start_time": "2021-03-12T01:41:56.268228Z"
    }
   },
   "outputs": [
    {
     "name": "stdout",
     "output_type": "stream",
     "text": [
      "[2, 4, 6, 8]\n",
      "[2, 4, 6, 8]\n",
      "[1.25, 0, 10.22, 3.78, 0, 1.16]\n"
     ]
    }
   ],
   "source": [
    "#this example shows how comprehension works\n",
    "l=[i for i in range(1,10) if i%2==0] \n",
    "print(l)\n",
    "\n",
    "#the above is a comprehension, it's equivalent to the following for loop\n",
    "l=[]\n",
    "for i in range(1,10):     #the iterator\n",
    "    if i%2==0: #conditional filtering\n",
    "        l = l + [i]               #output-expression\n",
    "print(l)\n",
    "\n",
    "#if we want to change the original value, we can put if conditional in front of for loop\n",
    "original_prices = [1.25, -9.45, 10.22, 3.78, -5.92, 1.16]\n",
    "prices = [i if i > 0 else 0 for i in original_prices]\n",
    "print(prices)"
   ]
  },
  {
   "cell_type": "code",
   "execution_count": 18,
   "metadata": {
    "ExecuteTime": {
     "end_time": "2021-03-12T01:46:18.043160Z",
     "start_time": "2021-03-12T01:46:18.029442Z"
    },
    "slideshow": {
     "slide_type": "-"
    }
   },
   "outputs": [
    {
     "name": "stdout",
     "output_type": "stream",
     "text": [
      "2 3 5 7 11 13 17 19 \n",
      "2 3 5 7 11 13 17 19 "
     ]
    }
   ],
   "source": [
    "#this is a more complex example that uses comprehension to return a generator for prime numbers.\n",
    "prime_sequence = lambda stop: (x for x in range(2, stop) if all(x % divisor for divisor in range(2, x)))\n",
    "\n",
    "for i in prime_sequence(20): \n",
    "    print(i, end=' ')\n",
    "    \n",
    "print()\n",
    "#the lambda expression is equivalent to the function below\n",
    "def f(stop):\n",
    "    for x in range(2, stop):\n",
    "        l = []\n",
    "        for divisor in range (2,x):\n",
    "            l = l + [x % divisor]\n",
    "        \n",
    "        if all(l):        \n",
    "            yield x\n",
    "\n",
    "for i in f(20): \n",
    "    print(i, end=' ')"
   ]
  },
  {
   "cell_type": "markdown",
   "metadata": {
    "slideshow": {
     "slide_type": "fragment"
    }
   },
   "source": [
    "There are two comprehensions used:\n",
    "- In `all(x % divisor for divisor in range(2, x))`, the comprehension creates a generator of remainders to the function `all`, which returns true if all the remainders are `True` in boolean expression.\n",
    "- In the return value `(x for x in range(2, stop) if ...)` of the anonymous function, the comprehension creates a generator of numbers from 2 to `stop-1` that satisfy the condition of the `if` clause. \n",
    "\n",
    "`all()` and `any()`\n",
    "- The `all()` function returns True if all items in an iterable are true, otherwise it returns False.\n",
    "- The `any()` function returns True if any item in an iterable are true, otherwise it returns False."
   ]
  },
  {
   "cell_type": "code",
   "execution_count": 11,
   "metadata": {
    "ExecuteTime": {
     "end_time": "2021-03-11T23:17:43.552707Z",
     "start_time": "2021-03-11T23:17:43.547037Z"
    }
   },
   "outputs": [
    {
     "name": "stdout",
     "output_type": "stream",
     "text": [
      "False\n",
      "True\n"
     ]
    }
   ],
   "source": [
    "#this example shows how all() and any() works\n",
    "l=[True, True, False]\n",
    "print(all(l))\n",
    "print(any(l))"
   ]
  },
  {
   "cell_type": "markdown",
   "metadata": {
    "slideshow": {
     "slide_type": "subslide"
    }
   },
   "source": [
    "**Exercise** Use comprehension to define a function `composite_sequence` that takes a non-negative integer `stop` and returns a generator of composite numbers strictly smaller than `stop`. Use `any` instead of `all` to check if a number is composite."
   ]
  },
  {
   "cell_type": "code",
   "execution_count": 19,
   "metadata": {
    "ExecuteTime": {
     "end_time": "2021-03-12T01:48:33.746264Z",
     "start_time": "2021-03-12T01:48:33.734806Z"
    },
    "deletable": false,
    "nbgrader": {
     "cell_type": "code",
     "checksum": "46f24a068243616a107623dbb14cc3d9",
     "grade": false,
     "grade_id": "composite_sequence",
     "locked": false,
     "schema_version": 3,
     "solution": true,
     "task": false
    },
    "slideshow": {
     "slide_type": "-"
    }
   },
   "outputs": [
    {
     "name": "stdout",
     "output_type": "stream",
     "text": [
      "4 6 8 9 10 12 14 15 16 18 20 21 22 24 25 26 27 28 30 32 33 34 35 36 38 39 40 42 44 45 46 48 49 50 51 52 54 55 56 57 58 60 62 63 64 65 66 68 69 70 72 74 75 76 77 78 80 81 82 84 85 86 87 88 90 91 92 93 94 95 96 98 99 "
     ]
    }
   ],
   "source": [
    "#any?\n",
    "### BEGIN SOLUTION\n",
    "composite_sequence = lambda stop: (x for x in range(2, stop)if any(x % divisor == 0 for divisor in range(2, x)))\n",
    "### END SOLUTION\n",
    "\n",
    "for i in composite_sequence(100): print(i, end=' ')"
   ]
  },
  {
   "cell_type": "markdown",
   "metadata": {
    "slideshow": {
     "slide_type": "subslide"
    }
   },
   "source": [
    "We can construct a list instead of a generator using comprehension:"
   ]
  },
  {
   "cell_type": "code",
   "execution_count": 13,
   "metadata": {
    "ExecuteTime": {
     "end_time": "2021-03-11T23:17:50.187522Z",
     "start_time": "2021-03-11T23:17:50.181242Z"
    },
    "slideshow": {
     "slide_type": "-"
    }
   },
   "outputs": [
    {
     "name": "stdout",
     "output_type": "stream",
     "text": [
      "[0, 1, 4, 9, 16, 25, 36, 49, 64, 81]\n",
      "[0, 1, 4, 9, 16, 25, 36, 49, 64, 81]\n"
     ]
    }
   ],
   "source": [
    "#list?\n",
    "print(list(x**2 for x in range(10)))  # Use the list constructor\n",
    "print([x**2 for x in range(10)])      # Enclose comprehension brackets"
   ]
  },
  {
   "cell_type": "markdown",
   "metadata": {
    "slideshow": {
     "slide_type": "subslide"
    }
   },
   "source": [
    "We can also use comprehension to construct a tuple:"
   ]
  },
  {
   "cell_type": "code",
   "execution_count": 14,
   "metadata": {
    "ExecuteTime": {
     "end_time": "2021-03-11T23:17:54.008218Z",
     "start_time": "2021-03-11T23:17:53.957533Z"
    },
    "slideshow": {
     "slide_type": "-"
    }
   },
   "outputs": [
    {
     "name": "stdout",
     "output_type": "stream",
     "text": [
      "(0, 1, 4, 9, 16, 25, 36, 49, 64, 81)\n"
     ]
    }
   ],
   "source": [
    "tuple?\n",
    "print(tuple(x**2 for x in range(10))) # Use the tuple constructor"
   ]
  },
  {
   "cell_type": "markdown",
   "metadata": {
    "slideshow": {
     "slide_type": "subslide"
    }
   },
   "source": [
    "**Exercise** Explain the difference between the following expressions."
   ]
  },
  {
   "cell_type": "code",
   "execution_count": 15,
   "metadata": {
    "ExecuteTime": {
     "end_time": "2021-03-11T23:18:01.595115Z",
     "start_time": "2021-03-11T23:18:01.557268Z"
    },
    "slideshow": {
     "slide_type": "-"
    }
   },
   "outputs": [
    {
     "name": "stdout",
     "output_type": "stream",
     "text": [
      "<generator object <genexpr> at 0x7f7b1a7ad050>\n",
      "(0, 1, 4, 9, 16, 25, 36, 49, 64, 81)\n"
     ]
    }
   ],
   "source": [
    "print((x**2 for x in range(10)),\n",
    "      (*(x**2 for x in range(10)),), sep='\\n')"
   ]
  },
  {
   "cell_type": "markdown",
   "metadata": {
    "deletable": false,
    "nbgrader": {
     "cell_type": "markdown",
     "checksum": "85bb7291e5ccafc8a73144d2a3d6fcfa",
     "grade": true,
     "grade_id": "generator-vs-tuple",
     "locked": false,
     "points": 0,
     "schema_version": 3,
     "solution": true,
     "task": false
    },
    "slideshow": {
     "slide_type": "-"
    }
   },
   "source": [
    "The first is a generator expression, not a tuple. The second is a tuple constructed by enclosing the sequence from unpacking the generator. There must be a comma after the generator since there is only one enclosed term."
   ]
  },
  {
   "cell_type": "markdown",
   "metadata": {
    "slideshow": {
     "slide_type": "subslide"
    }
   },
   "source": [
    "**Exercise** Explain the difference between the following expressions."
   ]
  },
  {
   "cell_type": "code",
   "execution_count": null,
   "metadata": {
    "ExecuteTime": {
     "end_time": "2020-11-02T04:49:54.443746Z",
     "start_time": "2020-11-02T04:49:54.438560Z"
    },
    "slideshow": {
     "slide_type": "-"
    }
   },
   "outputs": [],
   "source": [
    "print([x for x in range(10)],\n",
    "      [(lambda arg: arg)(x for x in range(10))], sep='\\n')\n",
    "#the first expression creates a list, but the second one create a list which has a generator\n",
    "#we can unpack this generator to make it a list containining numbers\n",
    "print([x for x in range(10)],\n",
    "      [*(lambda arg: arg)(x for x in range(10))], sep='\\n')"
   ]
  },
  {
   "cell_type": "markdown",
   "metadata": {
    "deletable": false,
    "nbgrader": {
     "cell_type": "markdown",
     "checksum": "9c1b96f71a07a61295abe2bb9609bb88",
     "grade": true,
     "grade_id": "comprehension-as-argument",
     "locked": false,
     "points": 0,
     "schema_version": 3,
     "solution": true,
     "task": false
    },
    "slideshow": {
     "slide_type": "-"
    }
   },
   "source": [
    "In the second expression, the comprehension provided as an argument to a function becomes a generator object, which is returned by the anonymous function and enclosed to form the singleton list. In the first expression, the comprehension is not converged to a generator."
   ]
  },
  {
   "cell_type": "markdown",
   "metadata": {
    "slideshow": {
     "slide_type": "subslide"
    }
   },
   "source": [
    "With list comprehension, we can simulate a sequence of biased coin flips."
   ]
  },
  {
   "cell_type": "code",
   "execution_count": 16,
   "metadata": {
    "ExecuteTime": {
     "end_time": "2021-03-11T23:18:12.793910Z",
     "start_time": "2021-03-11T23:18:12.607605Z"
    },
    "slideshow": {
     "slide_type": "-"
    }
   },
   "outputs": [
    {
     "name": "stdout",
     "output_type": "stream",
     "text": [
      "Chance of head: 0.649600032418853\n",
      "Coin flips: T H T T H T H H H H H H T H H H H H T H H H T T T H H H T H H H T H T T H H T H T T H H T H H T H H T H T H T H H H H H T H H T H T H H T H T T H H H T T T T T H T T T T H H H H T H H H T H T H T H H T H H H H H H T H T T H H H H H T H H H H T T H H H T T H H T H H T T H T H H H T T T H H H T H H H H T H T T H T H H H T H H H H T T H T H H T H H T T H H H T H H H H T T H H H H H H H H H H H H T H T H H H H H H H T H H T T T T T H H H H T H H T T H H H T T H H T H H T T H T H T H T H H T T T T H H H T T H H H H T H T H T H H H T T H H H H H H H H H T H H H H H H H H T H T H T H H H T H T T T H H T H H H T T H H H T H H H T H H T T H T H H H T H T H H T H T H H H H T H H H H T H H T H H T H H H H T T H T H H H T H H T H H T H T H H T H H H T H T H H H H T T H H H T H H T T H H H T T H T H H T H H T H H H H H H T T H T H H H H H H H T H H H T H H T T H H H T T H T H T T H H H H H H T H H H H H H H T T H H T H H H T T H H H H T H H T H H H H H H H T H H H H H H T T T H T H H H T H T H T T T H H H H T T H T H T T H H H T T H H H H T H T H H H H H H T H H H T H T H T T H T H H H H H H T T T H T T H H T T H T H H H H T H H H H H H T T T H H H T H H H T H H H H H H H H H T T H H H H H H T H T H H T T H T H H H T T T H H H T H H T T H T T H T H H H H T H H H H H H T H H T H H T H T H H H H H T T H T H T H H T T H T H H H H T H T H T T H T T T H H H H T T H T T T T H T H H T T T H H H H T T T T T T H H T H H H H T H T H H T T T T H H H T T T H T H H T H H T T H T H H T H H H T H H T H H T T H H T H H H H H H H T H T H T H H T H H H T H H T T H T H H H H H H T H T T T T T H H H H H T T T H H H H H H H H H T T T H H T T H H H H H H H H H H H H H T T T H H H H T H H H H H T H T H T T T H H H T H H H H H H T H T T T H H H H H T H H H T T T H H H T T T H H H T T H H H H H T H H T T T H H H H T H T H H H H H H T H T H T H H H H H H H H H H H H H T H H H H H H T T H H H H H H T H T H H T T H H T H T H H T T H H H T T H H T T H T T H H H T H T H H T H H H H H T H T H H H H H T H T H\n"
     ]
    }
   ],
   "source": [
    "from random import random as rand\n",
    "p = rand()  # unknown bias, rand() generate a random value between 0 and 1\n",
    "coin_flips = ['H' if rand() <= p else 'T' for i in range(1000)]\n",
    "print('Chance of head:', p)\n",
    "print('Coin flips:',*coin_flips)\n",
    "\n",
    "\n",
    "#the above comprehension is equivalent to the following code\n",
    "coin_flips=[]\n",
    "for i in range(1000):\n",
    "    if rand()<=p:\n",
    "       coin_flips=coin_flips+['H']\n",
    "    else:\n",
    "       coin_flips=coin_flips+['T']"
   ]
  },
  {
   "cell_type": "markdown",
   "metadata": {
    "slideshow": {
     "slide_type": "fragment"
    }
   },
   "source": [
    "We can then estimate the bias by the fraction of heads coming up."
   ]
  },
  {
   "cell_type": "code",
   "execution_count": 17,
   "metadata": {
    "ExecuteTime": {
     "end_time": "2021-03-11T23:18:16.094863Z",
     "start_time": "2021-03-11T23:18:16.055308Z"
    },
    "slideshow": {
     "slide_type": "-"
    }
   },
   "outputs": [
    {
     "name": "stdout",
     "output_type": "stream",
     "text": [
      "Fraction of heads: 0.648\n"
     ]
    }
   ],
   "source": [
    "def average(seq):\n",
    "    return sum(seq)/len(seq)\n",
    "\n",
    "head_indicators = [1 if outcome == 'H' else 0 for outcome in coin_flips]\n",
    "fraction_of_heads = average(head_indicators)\n",
    "print('Fraction of heads:', fraction_of_heads)"
   ]
  },
  {
   "cell_type": "markdown",
   "metadata": {
    "slideshow": {
     "slide_type": "fragment"
    }
   },
   "source": [
    "Note that `sum` and `len` returns the sum and length of the sequence."
   ]
  },
  {
   "cell_type": "markdown",
   "metadata": {
    "slideshow": {
     "slide_type": "fragment"
    }
   },
   "source": [
    "**Exercise** Define a function `variance` that takes in a sequence `seq` and returns the [variance](https://en.wikipedia.org/wiki/Variance) of the sequence."
   ]
  },
  {
   "cell_type": "code",
   "execution_count": 18,
   "metadata": {
    "ExecuteTime": {
     "end_time": "2021-03-11T23:18:19.952528Z",
     "start_time": "2021-03-11T23:18:19.942969Z"
    },
    "deletable": false,
    "nbgrader": {
     "cell_type": "code",
     "checksum": "a3dbe3d3569ac07c4493d6c6d5251dad",
     "grade": false,
     "grade_id": "variance",
     "locked": false,
     "schema_version": 3,
     "solution": true,
     "task": false
    },
    "slideshow": {
     "slide_type": "-"
    }
   },
   "outputs": [
    {
     "name": "stdout",
     "output_type": "stream",
     "text": [
      "95% confidence interval: [0.62,0.68]\n"
     ]
    }
   ],
   "source": [
    "def variance(seq):\n",
    "    ### BEGIN SOLUTION\n",
    "    return sum(i**2 for i in seq)/len(seq) - average(seq)**2\n",
    "    ### END SOLUTION\n",
    "\n",
    "delta = (variance(head_indicators)/len(head_indicators))**0.5\n",
    "print('95% confidence interval: [{:.2f},{:.2f}]'.format(p-2*delta,p+2*delta))"
   ]
  },
  {
   "cell_type": "markdown",
   "metadata": {},
   "source": [
    "Now let's have a short break."
   ]
  },
  {
   "cell_type": "markdown",
   "metadata": {
    "slideshow": {
     "slide_type": "slide"
    }
   },
   "source": [
    "## Selecting items in a sequence"
   ]
  },
  {
   "cell_type": "markdown",
   "metadata": {
    "slideshow": {
     "slide_type": "subslide"
    }
   },
   "source": [
    "**How to traverse a tuple/list?**"
   ]
  },
  {
   "cell_type": "markdown",
   "metadata": {
    "slideshow": {
     "slide_type": "fragment"
    }
   },
   "source": [
    "Sequence objects such as `str`/`tuple`/`list` implements the [*getter method* `__getitem__`](https://docs.python.org/3/reference/datamodel.html#object.__getitem__) to return their items."
   ]
  },
  {
   "cell_type": "markdown",
   "metadata": {
    "slideshow": {
     "slide_type": "fragment"
    }
   },
   "source": [
    "Instead of calling the [dunder](https://www.geeksforgeeks.org/dunder-magic-methods-python/#:~:text=Dunder%20or%20magic%20methods%20in%20Python%20are%20the%20methods%20having,__%2C%20__repr__%20etc.) method directly, we can use a for loop to iterate over all the items in order.\n",
    "\n",
    "- Dunder here means “Double Under (Underscores)”.\n",
    "- Dunder or magic methods in Python are the methods having two prefix and suffix underscores in the method name. "
   ]
  },
  {
   "cell_type": "code",
   "execution_count": 19,
   "metadata": {
    "ExecuteTime": {
     "end_time": "2021-03-11T23:18:31.094253Z",
     "start_time": "2021-03-11T23:18:31.006083Z"
    },
    "slideshow": {
     "slide_type": "-"
    }
   },
   "outputs": [
    {
     "name": "stdout",
     "output_type": "stream",
     "text": [
      "0 1 2 3 4 "
     ]
    }
   ],
   "source": [
    "a = (*range(5),)\n",
    "for item in a: print(item, end=' ')"
   ]
  },
  {
   "cell_type": "markdown",
   "metadata": {
    "slideshow": {
     "slide_type": "fragment"
    }
   },
   "source": [
    "To do it in reverse, we can use the `reversed` function.\n",
    "- `reversed()` method returns an iterator that accesses the given sequence in the reverse order."
   ]
  },
  {
   "cell_type": "code",
   "execution_count": 20,
   "metadata": {
    "ExecuteTime": {
     "end_time": "2021-03-11T23:18:37.096708Z",
     "start_time": "2021-03-11T23:18:36.999037Z"
    },
    "slideshow": {
     "slide_type": "-"
    }
   },
   "outputs": [
    {
     "name": "stdout",
     "output_type": "stream",
     "text": [
      "4 3 2 1 0 "
     ]
    }
   ],
   "source": [
    "#reversed?\n",
    "a = [*range(5)]\n",
    "for item in reversed(a): print(item, end=' ')"
   ]
  },
  {
   "cell_type": "markdown",
   "metadata": {
    "slideshow": {
     "slide_type": "fragment"
    }
   },
   "source": [
    "We can also traverse multiple tuples/lists simultaneously by `zip`ping them.\n",
    "- The zip() function returns a zip object, which is an iterator of tuples where the first item in each passed iterator is paired together, and then the second item in each passed iterator are paired together etc.\n",
    "\n",
    "- If the passed iterators have different lengths, the iterator with the least items decides the length of the new iterator."
   ]
  },
  {
   "cell_type": "code",
   "execution_count": 21,
   "metadata": {
    "ExecuteTime": {
     "end_time": "2021-03-11T23:18:44.200710Z",
     "start_time": "2021-03-11T23:18:44.192898Z"
    },
    "slideshow": {
     "slide_type": "-"
    }
   },
   "outputs": [
    {
     "name": "stdout",
     "output_type": "stream",
     "text": [
      "0 4\n",
      "1 3\n",
      "2 2\n",
      "3 1\n",
      "4 0\n",
      "John Jenny\n",
      "Charles Christy\n",
      "Mike Monica\n",
      "John Jenny\n",
      "Charles Christy\n",
      "Mike Monica\n"
     ]
    }
   ],
   "source": [
    "#zip?\n",
    "a = (*range(5),)\n",
    "b = reversed(a)\n",
    "for item1, item2 in zip(a,b):\n",
    "    print(item1,item2)\n",
    "    \n",
    "a = (\"John\", \"Charles\", \"Mike\")\n",
    "b = (\"Jenny\", \"Christy\", \"Monica\")\n",
    "\n",
    "x = zip(a, b)\n",
    "for item1, item2 in zip(a,b):\n",
    "    print(item1,item2)\n",
    "    \n",
    "#when a, b have different lengths, it will return the least items. Extra items will be ignored\n",
    "a = (\"John\", \"Charles\", \"Mike\")\n",
    "b = (\"Jenny\", \"Christy\", \"Monica\", \"Vicky\")\n",
    "\n",
    "x = zip(a, b)\n",
    "for item1, item2 in zip(a,b):\n",
    "    print(item1,item2)"
   ]
  },
  {
   "cell_type": "markdown",
   "metadata": {
    "slideshow": {
     "slide_type": "subslide"
    }
   },
   "source": [
    "**How to select an item in a sequence?**"
   ]
  },
  {
   "cell_type": "markdown",
   "metadata": {
    "slideshow": {
     "slide_type": "fragment"
    }
   },
   "source": [
    "We can select an item by [subscription](https://docs.python.org/3/reference/expressions.html#subscriptions) \n",
    "```Python\n",
    "a[i]\n",
    "``` \n",
    "where `a` is a list and `i` is an integer index. We call it `a sub i`"
   ]
  },
  {
   "cell_type": "markdown",
   "metadata": {
    "slideshow": {
     "slide_type": "subslide"
    }
   },
   "source": [
    "A non-negative index indicates the distance from the beginning."
   ]
  },
  {
   "cell_type": "markdown",
   "metadata": {
    "slideshow": {
     "slide_type": "-"
    }
   },
   "source": [
    "$$\\boldsymbol{a} = (a_0, ... , a_{n-1})$$"
   ]
  },
  {
   "cell_type": "code",
   "execution_count": 22,
   "metadata": {
    "ExecuteTime": {
     "end_time": "2021-03-11T23:18:51.305089Z",
     "start_time": "2021-03-11T23:18:51.254294Z"
    },
    "slideshow": {
     "slide_type": "-"
    }
   },
   "outputs": [
    {
     "name": "stdout",
     "output_type": "stream",
     "text": [
      "(0, 1, 2, 3, 4, 5, 6, 7, 8, 9)\n",
      "Length: 10\n",
      "First element: 0\n",
      "Second element: 1\n",
      "Last element: 9\n"
     ]
    },
    {
     "ename": "IndexError",
     "evalue": "tuple index out of range",
     "output_type": "error",
     "traceback": [
      "\u001b[0;31m---------------------------------------------------------------------------\u001b[0m",
      "\u001b[0;31mIndexError\u001b[0m                                Traceback (most recent call last)",
      "\u001b[0;32m<ipython-input-22-8793aa5ed482>\u001b[0m in \u001b[0;36m<module>\u001b[0;34m\u001b[0m\n\u001b[1;32m      5\u001b[0m \u001b[0mprint\u001b[0m\u001b[0;34m(\u001b[0m\u001b[0;34m'Second element:'\u001b[0m\u001b[0;34m,\u001b[0m\u001b[0ma\u001b[0m\u001b[0;34m[\u001b[0m\u001b[0;36m1\u001b[0m\u001b[0;34m]\u001b[0m\u001b[0;34m)\u001b[0m\u001b[0;34m\u001b[0m\u001b[0;34m\u001b[0m\u001b[0m\n\u001b[1;32m      6\u001b[0m \u001b[0mprint\u001b[0m\u001b[0;34m(\u001b[0m\u001b[0;34m'Last element:'\u001b[0m\u001b[0;34m,\u001b[0m\u001b[0ma\u001b[0m\u001b[0;34m[\u001b[0m\u001b[0mlen\u001b[0m\u001b[0;34m(\u001b[0m\u001b[0ma\u001b[0m\u001b[0;34m)\u001b[0m\u001b[0;34m-\u001b[0m\u001b[0;36m1\u001b[0m\u001b[0;34m]\u001b[0m\u001b[0;34m)\u001b[0m\u001b[0;34m\u001b[0m\u001b[0;34m\u001b[0m\u001b[0m\n\u001b[0;32m----> 7\u001b[0;31m \u001b[0mprint\u001b[0m\u001b[0;34m(\u001b[0m\u001b[0ma\u001b[0m\u001b[0;34m[\u001b[0m\u001b[0mlen\u001b[0m\u001b[0;34m(\u001b[0m\u001b[0ma\u001b[0m\u001b[0;34m)\u001b[0m\u001b[0;34m]\u001b[0m\u001b[0;34m)\u001b[0m \u001b[0;31m# IndexError\u001b[0m\u001b[0;34m\u001b[0m\u001b[0;34m\u001b[0m\u001b[0m\n\u001b[0m",
      "\u001b[0;31mIndexError\u001b[0m: tuple index out of range"
     ]
    }
   ],
   "source": [
    "a = (*range(10),)\n",
    "print(a)\n",
    "print('Length:', len(a))\n",
    "print('First element:',a[0])\n",
    "print('Second element:',a[1])\n",
    "print('Last element:',a[len(a)-1])\n",
    "print(a[len(a)]) # IndexError"
   ]
  },
  {
   "cell_type": "markdown",
   "metadata": {
    "ExecuteTime": {
     "end_time": "2020-10-27T14:55:28.986812Z",
     "start_time": "2020-10-27T14:55:28.980088Z"
    },
    "slideshow": {
     "slide_type": "fragment"
    }
   },
   "source": [
    "`a[i]` with `i > len(a)` results in an `IndexError`. "
   ]
  },
  {
   "cell_type": "markdown",
   "metadata": {
    "slideshow": {
     "slide_type": "subslide"
    }
   },
   "source": [
    "A negative index represents a negative offset from an imaginary element one past the end of the sequence."
   ]
  },
  {
   "cell_type": "markdown",
   "metadata": {
    "slideshow": {
     "slide_type": "-"
    }
   },
   "source": [
    "$$\\begin{aligned} \\boldsymbol{a} &= (a_0, ... , a_{n-1})\\\\\n",
    "& = (a_{-n}, ..., a_{-1})\n",
    "\\end{aligned}$$"
   ]
  },
  {
   "cell_type": "code",
   "execution_count": 23,
   "metadata": {
    "ExecuteTime": {
     "end_time": "2021-03-11T23:18:54.100214Z",
     "start_time": "2021-03-11T23:18:54.084267Z"
    },
    "slideshow": {
     "slide_type": "-"
    }
   },
   "outputs": [
    {
     "name": "stdout",
     "output_type": "stream",
     "text": [
      "[0, 1, 2, 3, 4, 5, 6, 7, 8, 9]\n",
      "Last element: 9\n",
      "Second last element: 8\n",
      "First element: 0\n"
     ]
    },
    {
     "ename": "IndexError",
     "evalue": "list index out of range",
     "output_type": "error",
     "traceback": [
      "\u001b[0;31m---------------------------------------------------------------------------\u001b[0m",
      "\u001b[0;31mIndexError\u001b[0m                                Traceback (most recent call last)",
      "\u001b[0;32m<ipython-input-23-6f6376dfba21>\u001b[0m in \u001b[0;36m<module>\u001b[0;34m\u001b[0m\n\u001b[1;32m      4\u001b[0m \u001b[0mprint\u001b[0m\u001b[0;34m(\u001b[0m\u001b[0;34m'Second last element:'\u001b[0m\u001b[0;34m,\u001b[0m\u001b[0ma\u001b[0m\u001b[0;34m[\u001b[0m\u001b[0;34m-\u001b[0m\u001b[0;36m2\u001b[0m\u001b[0;34m]\u001b[0m\u001b[0;34m)\u001b[0m\u001b[0;34m\u001b[0m\u001b[0;34m\u001b[0m\u001b[0m\n\u001b[1;32m      5\u001b[0m \u001b[0mprint\u001b[0m\u001b[0;34m(\u001b[0m\u001b[0;34m'First element:'\u001b[0m\u001b[0;34m,\u001b[0m\u001b[0ma\u001b[0m\u001b[0;34m[\u001b[0m\u001b[0;34m-\u001b[0m\u001b[0mlen\u001b[0m\u001b[0;34m(\u001b[0m\u001b[0ma\u001b[0m\u001b[0;34m)\u001b[0m\u001b[0;34m]\u001b[0m\u001b[0;34m)\u001b[0m\u001b[0;34m\u001b[0m\u001b[0;34m\u001b[0m\u001b[0m\n\u001b[0;32m----> 6\u001b[0;31m \u001b[0mprint\u001b[0m\u001b[0;34m(\u001b[0m\u001b[0ma\u001b[0m\u001b[0;34m[\u001b[0m\u001b[0;34m-\u001b[0m\u001b[0mlen\u001b[0m\u001b[0;34m(\u001b[0m\u001b[0ma\u001b[0m\u001b[0;34m)\u001b[0m\u001b[0;34m-\u001b[0m\u001b[0;36m1\u001b[0m\u001b[0;34m]\u001b[0m\u001b[0;34m)\u001b[0m \u001b[0;31m# IndexError\u001b[0m\u001b[0;34m\u001b[0m\u001b[0;34m\u001b[0m\u001b[0m\n\u001b[0m",
      "\u001b[0;31mIndexError\u001b[0m: list index out of range"
     ]
    }
   ],
   "source": [
    "a = [*range(10)]\n",
    "print(a)\n",
    "print('Last element:',a[-1])\n",
    "print('Second last element:',a[-2])\n",
    "print('First element:',a[-len(a)])\n",
    "print(a[-len(a)-1]) # IndexError"
   ]
  },
  {
   "cell_type": "markdown",
   "metadata": {
    "ExecuteTime": {
     "end_time": "2020-10-29T04:10:06.523676Z",
     "start_time": "2020-10-29T04:10:06.517287Z"
    },
    "slideshow": {
     "slide_type": "fragment"
    }
   },
   "source": [
    "`a[i]` with `i <= -len(a)` results in an `IndexError`. "
   ]
  },
  {
   "cell_type": "markdown",
   "metadata": {
    "slideshow": {
     "slide_type": "subslide"
    }
   },
   "source": [
    "**How to select multiple items?**"
   ]
  },
  {
   "cell_type": "markdown",
   "metadata": {
    "slideshow": {
     "slide_type": "fragment"
    }
   },
   "source": [
    "We can use a [slicing](https://docs.python.org/3/reference/expressions.html#slicings) to select a range of items:\n",
    "```Python\n",
    "a[start:stop]\n",
    "a[start:stop:step]\n",
    "```\n",
    "where `a` is a list;\n",
    "- `start` is an integer representing the index of the starting item in the selection;\n",
    "- `stop` is an integer that is one larger than the index of the last item in the selection; (doesn't include a[stop])\n",
    "- `step` is an integer that specifies the step/stride size through the list."
   ]
  },
  {
   "cell_type": "code",
   "execution_count": 24,
   "metadata": {
    "ExecuteTime": {
     "end_time": "2021-03-11T23:18:58.237933Z",
     "start_time": "2021-03-11T23:18:58.231809Z"
    },
    "slideshow": {
     "slide_type": "-"
    }
   },
   "outputs": [
    {
     "name": "stdout",
     "output_type": "stream",
     "text": [
      "(0, 1, 2, 3, 4, 5, 6, 7, 8, 9)\n",
      "(1, 2, 3)\n",
      "(1, 3)\n"
     ]
    }
   ],
   "source": [
    "a = (*range(10),)\n",
    "print(a)\n",
    "print(a[1:4])\n",
    "print(a[1:4:2])"
   ]
  },
  {
   "cell_type": "markdown",
   "metadata": {
    "slideshow": {
     "slide_type": "subslide"
    }
   },
   "source": [
    "The parameters take their default values if missing or equal to None."
   ]
  },
  {
   "cell_type": "code",
   "execution_count": 25,
   "metadata": {
    "ExecuteTime": {
     "end_time": "2021-03-11T23:19:02.295163Z",
     "start_time": "2021-03-11T23:19:02.232372Z"
    },
    "slideshow": {
     "slide_type": "fragment"
    }
   },
   "outputs": [
    {
     "name": "stdout",
     "output_type": "stream",
     "text": [
      "[0, 1, 2, 3, 4, 5, 6, 7, 8, 9]\n",
      "[0, 1, 2, 3]\n",
      "[1, 2, 3, 4, 5, 6, 7, 8, 9]\n",
      "[1, 2, 3]\n"
     ]
    }
   ],
   "source": [
    "a = [*range(10)]\n",
    "print(a)\n",
    "print(a[:4])   # start defaults to 0\n",
    "print(a[1:])   # stop defaults to len(a)\n",
    "print(a[1:4:]) # step defaults to 1"
   ]
  },
  {
   "cell_type": "markdown",
   "metadata": {
    "slideshow": {
     "slide_type": "fragment"
    }
   },
   "source": [
    "They can take negative values."
   ]
  },
  {
   "cell_type": "code",
   "execution_count": 26,
   "metadata": {
    "ExecuteTime": {
     "end_time": "2021-03-11T23:19:04.894804Z",
     "start_time": "2021-03-11T23:19:04.886458Z"
    },
    "slideshow": {
     "slide_type": "-"
    }
   },
   "outputs": [
    {
     "name": "stdout",
     "output_type": "stream",
     "text": [
      "[9]\n",
      "[0, 1, 2, 3, 4, 5, 6, 7, 8]\n",
      "[9, 8, 7, 6, 5, 4, 3, 2, 1, 0]\n"
     ]
    }
   ],
   "source": [
    "print(a[-1:])\n",
    "print(a[:-1])\n",
    "print(a[::-1])  "
   ]
  },
  {
   "cell_type": "markdown",
   "metadata": {
    "slideshow": {
     "slide_type": "fragment"
    }
   },
   "source": [
    "They can also take a mixture of negative and postive values."
   ]
  },
  {
   "cell_type": "code",
   "execution_count": 27,
   "metadata": {
    "ExecuteTime": {
     "end_time": "2021-03-11T23:19:08.395184Z",
     "start_time": "2021-03-11T23:19:08.327473Z"
    },
    "slideshow": {
     "slide_type": "-"
    }
   },
   "outputs": [
    {
     "name": "stdout",
     "output_type": "stream",
     "text": [
      "[0, 1, 2, 3, 4, 5, 6, 7, 8, 9]\n",
      "[0, 1]\n",
      "[]\n",
      "[1, 2, 3, 4, 5, 6, 7, 8]\n",
      "[1, 2, 3, 4, 5, 6, 7, 8]\n",
      "[0, 1, 2, 3, 4, 5, 6, 7, 8, 9]\n"
     ]
    }
   ],
   "source": [
    "print(a)\n",
    "print(a[0:2])\n",
    "print(a[-1:1])      # equal [a[-1], a[0]]?\n",
    "print(a[1:-1])      # equal []?\n",
    "print(a[1:-1:1])   # equal [a[1], a[0]]?\n",
    "print(a[-100:100])  # result in IndexError unlike subscription?"
   ]
  },
  {
   "cell_type": "markdown",
   "metadata": {
    "slideshow": {
     "slide_type": "subslide"
    }
   },
   "source": [
    "We can now implement a practical sorting algorithm called [quicksort](https://en.wikipedia.org/wiki/Quicksort) to sort a sequence."
   ]
  },
  {
   "cell_type": "code",
   "execution_count": 28,
   "metadata": {
    "ExecuteTime": {
     "end_time": "2021-03-11T23:19:12.394932Z",
     "start_time": "2021-03-11T23:19:12.366617Z"
    },
    "slideshow": {
     "slide_type": "-"
    }
   },
   "outputs": [
    {
     "name": "stdout",
     "output_type": "stream",
     "text": [
      "[35, 76, 70, 85, 90, 77, 70, 54, 22, 69]\n",
      "[22, 35, 54, 69, 70, 70, 76, 77, 85, 90]\n"
     ]
    }
   ],
   "source": [
    "import random\n",
    "\n",
    "\n",
    "def quicksort(seq):\n",
    "    '''Return a sorted list of items from seq.'''\n",
    "    if len(seq) <= 1:\n",
    "        return list(seq)\n",
    "    i = random.randint(0, len(seq) - 1)\n",
    "    pivot, others = seq[i], [*seq[:i], *seq[i + 1:]]\n",
    "    left = quicksort([x for x in others if x < pivot])\n",
    "    right = quicksort([x for x in others if x >= pivot])\n",
    "    return [*left, pivot, *right]\n",
    "\n",
    "\n",
    "seq = [random.randint(0, 99) for i in range(10)]\n",
    "print(seq, quicksort(seq), sep='\\n')"
   ]
  },
  {
   "cell_type": "markdown",
   "metadata": {
    "slideshow": {
     "slide_type": "fragment"
    }
   },
   "source": [
    "The above recursion creates a sorted list as `[*left, pivot, *right]` where\n",
    "- `pivot` is a randomly picked an item in `seq`,\n",
    "- `left` is the sorted list of items smaller than `pivot`, and\n",
    "- `right` is the sorted list of items no smaller than `pivot`.\n",
    "\n",
    "The base case happens when `seq` contains at most one item, in which case `seq` is already sorted."
   ]
  },
  {
   "cell_type": "markdown",
   "metadata": {
    "slideshow": {
     "slide_type": "fragment"
    }
   },
   "source": [
    "There is a built-in function `sorted` for sorting a sequence. It uses the [Timsort](https://en.wikipedia.org/wiki/Timsort) algorithm.\n",
    "- if you want to sort a data sequence, you can use `sorted()` directly"
   ]
  },
  {
   "cell_type": "code",
   "execution_count": 29,
   "metadata": {
    "ExecuteTime": {
     "end_time": "2021-03-11T23:19:22.994793Z",
     "start_time": "2021-03-11T23:19:22.925778Z"
    },
    "slideshow": {
     "slide_type": "-"
    }
   },
   "outputs": [
    {
     "name": "stdout",
     "output_type": "stream",
     "text": [
      "[35, 76, 70, 85, 90, 77, 70, 54, 22, 69]\n",
      "[22, 35, 54, 69, 70, 70, 76, 77, 85, 90]\n"
     ]
    }
   ],
   "source": [
    "sorted?\n",
    "print(seq)\n",
    "print(sorted(seq))"
   ]
  },
  {
   "cell_type": "markdown",
   "metadata": {
    "slideshow": {
     "slide_type": "slide"
    }
   },
   "source": [
    "## Mutating a list"
   ]
  },
  {
   "cell_type": "markdown",
   "metadata": {},
   "source": [
    "What is Mutation?\n",
    "\n",
    "The mutable and immutable datatypes in Python cause a lot of headache for new programmers. In simple words, mutable means ‘able to be changed’ and immutable means ‘constant’. Want your head to spin? Consider this example:"
   ]
  },
  {
   "cell_type": "code",
   "execution_count": 30,
   "metadata": {
    "ExecuteTime": {
     "end_time": "2021-03-11T23:20:37.052733Z",
     "start_time": "2021-03-11T23:20:37.046496Z"
    }
   },
   "outputs": [
    {
     "name": "stdout",
     "output_type": "stream",
     "text": [
      "['hi']\n",
      "['hi', 'bye']\n"
     ]
    }
   ],
   "source": [
    "x = ['hi']\n",
    "print(x)\n",
    "# Output: ['hi']\n",
    "\n",
    "y = x\n",
    "y += ['bye']\n",
    "print(y)\n",
    "# Output: ['hi', 'bye']"
   ]
  },
  {
   "cell_type": "markdown",
   "metadata": {},
   "source": [
    "Why x is changed too?\n",
    "\n",
    "It’s not a bug. It’s mutability in action. Whenever you assign a variable to another variable of mutable datatype, any changes to the data are reflected by both variables. The new variable is just an alias for the old variable. This is only true for mutable datatypes. See example below."
   ]
  },
  {
   "cell_type": "code",
   "execution_count": 31,
   "metadata": {
    "ExecuteTime": {
     "end_time": "2021-03-11T23:21:04.255462Z",
     "start_time": "2021-03-11T23:21:04.248428Z"
    }
   },
   "outputs": [
    {
     "name": "stdout",
     "output_type": "stream",
     "text": [
      "6\n",
      "5\n"
     ]
    }
   ],
   "source": [
    "# in this example, the value of a is not changed cause int is an immutable object\n",
    "a=5\n",
    "b=a\n",
    "b=6\n",
    "print(b)\n",
    "print(a)"
   ]
  },
  {
   "cell_type": "markdown",
   "metadata": {
    "slideshow": {
     "slide_type": "fragment"
    }
   },
   "source": [
    "For list (but not tuple), subscription and slicing can also be used as the target of an assignment operation to mutate the list.\n",
    "- list is mutable (changeable)\n",
    "- tuple is immutable (unchangeable)"
   ]
  },
  {
   "cell_type": "code",
   "execution_count": 32,
   "metadata": {
    "ExecuteTime": {
     "end_time": "2021-03-11T23:21:21.195937Z",
     "start_time": "2021-03-11T23:21:21.144434Z"
    },
    "slideshow": {
     "slide_type": "-"
    }
   },
   "outputs": [
    {
     "data": {
      "text/html": [
       "\n",
       "        <iframe\n",
       "            width=\"1100\"\n",
       "            height=\"300\"\n",
       "            src=\"https://e-quiz.cs.cityu.edu.hk/opt/cs1302visualize.html#mode=display&code=b%20%3D%20%5B%2Arange%2810%29%5D%20%20%23%20aliasing%0Ab%5B%3A%3A2%5D%20%3D%20b%5B%3A5%5D%0Ab%5B0%3A1%5D%20%3D%20b%5B%3A5%5D%0Aprint%28len%28b%5B%3A%3A2%5D%29%29%0Aprint%28len%28b%5B%3A5%5D%29%29%0Ab%5B%3A%3A2%5D%20%3D%20b%5B%3A5%5D%20%20%23%20fails%20because%20the%20size%20doesn%27t%20match%0A\"\n",
       "            frameborder=\"0\"\n",
       "            allowfullscreen\n",
       "        ></iframe>\n",
       "        "
      ],
      "text/plain": [
       "<IPython.lib.display.IFrame at 0x7f7b1a7b0490>"
      ]
     },
     "metadata": {},
     "output_type": "display_data"
    }
   ],
   "source": [
    "%%mytutor -h 300\n",
    "b = [*range(10)]  # aliasing\n",
    "b[::2] = b[:5]\n",
    "b[0:1] = b[:5]\n",
    "print(len(b[::2]))\n",
    "print(len(b[:5]))\n",
    "b[::2] = b[:5]  # fails because the size doesn't match"
   ]
  },
  {
   "cell_type": "markdown",
   "metadata": {
    "slideshow": {
     "slide_type": "fragment"
    }
   },
   "source": [
    "Last assignment fails because `[::2]` with step size not equal to `1` is an *extended slice*, which can only be assigned to a list of equal size."
   ]
  },
  {
   "cell_type": "markdown",
   "metadata": {
    "slideshow": {
     "slide_type": "subslide"
    }
   },
   "source": [
    "**What is the difference between mutation and aliasing?**"
   ]
  },
  {
   "cell_type": "markdown",
   "metadata": {
    "slideshow": {
     "slide_type": "fragment"
    }
   },
   "source": [
    "In the previous code:\n",
    "- The first assignment `b = [*range(10)]` is aliasing, which gives the list the target name/identifier `b`.\n",
    "- Other assignments such as `b[::2] = b[:5]` are mutations that [calls `__setitem__`](https://docs.python.org/3/reference/simple_stmts.html#assignment-statements) because the target `b[::2]` is not an identifier."
   ]
  },
  {
   "cell_type": "markdown",
   "metadata": {
    "slideshow": {
     "slide_type": "subslide"
    }
   },
   "source": [
    "**Exercise** Explain the outcome of the following checks of equivalence?"
   ]
  },
  {
   "cell_type": "code",
   "execution_count": 33,
   "metadata": {
    "ExecuteTime": {
     "end_time": "2021-03-11T23:21:27.095139Z",
     "start_time": "2021-03-11T23:21:27.015968Z"
    },
    "slideshow": {
     "slide_type": "-"
    }
   },
   "outputs": [
    {
     "data": {
      "text/html": [
       "\n",
       "        <iframe\n",
       "            width=\"1100\"\n",
       "            height=\"400\"\n",
       "            src=\"https://e-quiz.cs.cityu.edu.hk/opt/cs1302visualize.html#mode=display&code=a%20%3D%20%5B10%2C%2020%2C%2030%2C%2040%5D%0Ab%20%3D%20a%20%20%23this%20is%20aliasing%0Aprint%28%27a%20is%20b%3F%20%7B%7D%27.format%28a%20is%20b%29%29%0Aprint%28%27%7B%7D%20%3D%3D%20%7B%7D%3F%20%7B%7D%27.format%28a%2C%20b%2C%20a%20%3D%3D%20b%29%29%0Ab%5B1%3A3%5D%20%3D%20b%5B2%3A0%3A-1%5D%20%23this%20is%20mutation%0Aprint%28%27%7B%7D%20%3D%3D%20%7B%7D%3F%20%7B%7D%27.format%28a%2C%20b%2C%20a%20%3D%3D%20b%29%29%0A\"\n",
       "            frameborder=\"0\"\n",
       "            allowfullscreen\n",
       "        ></iframe>\n",
       "        "
      ],
      "text/plain": [
       "<IPython.lib.display.IFrame at 0x7f7b1a7ae7d0>"
      ]
     },
     "metadata": {},
     "output_type": "display_data"
    }
   ],
   "source": [
    "%%mytutor -h 400\n",
    "a = [10, 20, 30, 40]\n",
    "b = a  #this is aliasing\n",
    "print('a is b? {}'.format(a is b))\n",
    "print('{} == {}? {}'.format(a, b, a == b))\n",
    "b[1:3] = b[2:0:-1] #this is mutation\n",
    "print('{} == {}? {}'.format(a, b, a == b))"
   ]
  },
  {
   "cell_type": "markdown",
   "metadata": {
    "deletable": false,
    "nbgrader": {
     "cell_type": "markdown",
     "checksum": "67e1259061c9a7c45acc8154d325d19a",
     "grade": true,
     "grade_id": "equivalence",
     "locked": false,
     "points": 0,
     "schema_version": 3,
     "solution": true,
     "task": false
    },
    "slideshow": {
     "slide_type": "-"
    }
   },
   "source": [
    "- `a is b` and `a == b` returns `True` because the assignment `b = a` makes `b` an alias of the same object `a` points to.\n",
    "- In particular, the operation`b[1:3] = b[2:0:-1]` affects the same list `a` points to."
   ]
  },
  {
   "cell_type": "markdown",
   "metadata": {
    "slideshow": {
     "slide_type": "subslide"
    }
   },
   "source": [
    "**Why mutate a list?**"
   ]
  },
  {
   "cell_type": "markdown",
   "metadata": {
    "slideshow": {
     "slide_type": "fragment"
    }
   },
   "source": [
    "The following is another implementation of `composite_sequence` that takes advantage of the mutability of list. "
   ]
  },
  {
   "cell_type": "code",
   "execution_count": 34,
   "metadata": {
    "ExecuteTime": {
     "end_time": "2021-03-11T23:21:31.995865Z",
     "start_time": "2021-03-11T23:21:31.933399Z"
    },
    "slideshow": {
     "slide_type": "-"
    }
   },
   "outputs": [
    {
     "name": "stdout",
     "output_type": "stream",
     "text": [
      "4 6 8 9 "
     ]
    }
   ],
   "source": [
    "def sieve_composite_sequence(stop):\n",
    "    is_composite = [False] * stop  # initialization\n",
    "    for factor in range(2,stop):\n",
    "        if is_composite[factor]: continue             \n",
    "        for multiple in range(factor*2,stop,factor):\n",
    "            is_composite[multiple] = True\n",
    "    return (x for x in range(4,stop) if is_composite[x])\n",
    "\n",
    "for x in sieve_composite_sequence(10): print(x, end=' ')"
   ]
  },
  {
   "cell_type": "markdown",
   "metadata": {
    "slideshow": {
     "slide_type": "fragment"
    }
   },
   "source": [
    "The algorithm \n",
    "1. changes `is_composite[x]` from `False` to `True` if it is a multiple of a smaller number `factor`, and\n",
    "2. returns a generator that generates composite numbers according to `is_composite`."
   ]
  },
  {
   "cell_type": "markdown",
   "metadata": {
    "slideshow": {
     "slide_type": "subslide"
    }
   },
   "source": [
    "**Exercise** Is `sieve_composite_sequence` more efficient than your solution `composite_sequence`? Why?"
   ]
  },
  {
   "cell_type": "code",
   "execution_count": 35,
   "metadata": {
    "ExecuteTime": {
     "end_time": "2021-03-11T23:21:35.911691Z",
     "start_time": "2021-03-11T23:21:35.353986Z"
    },
    "slideshow": {
     "slide_type": "-"
    }
   },
   "outputs": [],
   "source": [
    "for x in composite_sequence(10000): pass"
   ]
  },
  {
   "cell_type": "code",
   "execution_count": 36,
   "metadata": {
    "ExecuteTime": {
     "end_time": "2021-03-11T23:21:36.247710Z",
     "start_time": "2021-03-11T23:21:35.918023Z"
    },
    "slideshow": {
     "slide_type": "-"
    }
   },
   "outputs": [],
   "source": [
    "for x in sieve_composite_sequence(1000000): pass"
   ]
  },
  {
   "cell_type": "markdown",
   "metadata": {
    "ExecuteTime": {
     "end_time": "2020-10-29T05:38:20.563990Z",
     "start_time": "2020-10-29T05:38:20.159556Z"
    },
    "deletable": false,
    "nbgrader": {
     "cell_type": "markdown",
     "checksum": "81f9b0c9ad3b1b27fbf504c34d173ac3",
     "grade": true,
     "grade_id": "sieve",
     "locked": false,
     "points": 0,
     "schema_version": 3,
     "solution": true,
     "task": false
    },
    "slideshow": {
     "slide_type": "-"
    }
   },
   "source": [
    "sieve_composite_sequence is more efficient. Because the line `if is_composite[factor]: continue` avoids the redundant computations of checking composite factors."
   ]
  },
  {
   "cell_type": "markdown",
   "metadata": {
    "slideshow": {
     "slide_type": "fragment"
    }
   },
   "source": [
    "How to initialize a list?\n",
    "\n",
    "There are several ways (see [here](https://www.geeksforgeeks.org/python-which-is-faster-to-initialize-lists/)). But the most faster way is to use multiplication operation `*`.\n",
    "\n",
    "**Exercise** Note that the multiplication operation `*` is the most efficient way to [initialize a 1D list with a specified size](https://www.geeksforgeeks.org/python-which-is-faster-to-initialize-lists/), but we should not use it to initialize a 2D list. Fix the following code so that `a` becomes `[[1, 0], [0, 1]]`."
   ]
  },
  {
   "cell_type": "code",
   "execution_count": 37,
   "metadata": {
    "ExecuteTime": {
     "end_time": "2021-03-11T23:21:44.386583Z",
     "start_time": "2021-03-11T23:21:44.377619Z"
    },
    "slideshow": {
     "slide_type": "-"
    }
   },
   "outputs": [
    {
     "data": {
      "text/html": [
       "\n",
       "        <iframe\n",
       "            width=\"1100\"\n",
       "            height=\"250\"\n",
       "            src=\"https://e-quiz.cs.cityu.edu.hk/opt/cs1302visualize.html#mode=display&code=a%20%3D%20%5B%5B0%5D%20%2A%202%5D%20%2A%202%20%23this%20will%20create%20a%202D%20list%20%5B%5B0%2C0%5D%2C%5B0%2C0%5D%5D%0Aa%5B0%5D%5B0%5D%20%3D%20a%5B1%5D%5B1%5D%20%3D%201%20%23we%20want%20to%20change%20it%20to%20%5B%5B1%2C0%5D%2C%5B0%2C1%5D%5D%2C%20but%20does%20it%20work%3F%0Aprint%28a%29%0A\"\n",
       "            frameborder=\"0\"\n",
       "            allowfullscreen\n",
       "        ></iframe>\n",
       "        "
      ],
      "text/plain": [
       "<IPython.lib.display.IFrame at 0x7f7b2c409210>"
      ]
     },
     "metadata": {},
     "output_type": "display_data"
    }
   ],
   "source": [
    "%%mytutor -h 250\n",
    "a = [[0] * 2] * 2 #this will create a 2D list [[0,0],[0,0]]\n",
    "a[0][0] = a[1][1] = 1 #we want to change it to [[1,0],[0,1]], but does it work?\n",
    "print(a)"
   ]
  },
  {
   "cell_type": "markdown",
   "metadata": {},
   "source": [
    "Why it doesn't work?\n",
    "\n",
    "Using the * operator to initialize 2d arrays is faster, but using this operator would create shallow lists i.e only one list object would be created and all the indices would refer to this object. This might create unwanted complications. Hence using list comprehensions is a safer way to create 2d lists."
   ]
  },
  {
   "cell_type": "code",
   "execution_count": 38,
   "metadata": {
    "ExecuteTime": {
     "end_time": "2021-03-11T23:21:51.595430Z",
     "start_time": "2021-03-11T23:21:51.520382Z"
    }
   },
   "outputs": [
    {
     "name": "stdout",
     "output_type": "stream",
     "text": [
      "[[0, 0, 0], [0, 0, 0]]\n",
      "[[0, 0, 0], [0, 0, 0]]\n"
     ]
    }
   ],
   "source": [
    "#Using * operator would create shallow lists, avoid using this method\n",
    "no_of_cols=3\n",
    "no_of_rows=2\n",
    "arr1 = [[0]*no_of_cols]*no_of_rows\n",
    "print(arr1)\n",
    "\n",
    "#Using list comprehensions is better for 2d arrays, this method is preferred\n",
    "arr2 = [[0 for i in range(no_of_cols)] for j in range(no_of_rows)]\n",
    "print(arr2)"
   ]
  },
  {
   "cell_type": "code",
   "execution_count": 39,
   "metadata": {
    "ExecuteTime": {
     "end_time": "2021-03-11T23:21:52.295055Z",
     "start_time": "2021-03-11T23:21:52.198839Z"
    },
    "deletable": false,
    "nbgrader": {
     "cell_type": "code",
     "checksum": "710b02b9bfdcd905a6e499115e3476a9",
     "grade": false,
     "grade_id": "init-2D",
     "locked": false,
     "schema_version": 3,
     "solution": true,
     "task": false
    },
    "slideshow": {
     "slide_type": "-"
    }
   },
   "outputs": [
    {
     "name": "stdout",
     "output_type": "stream",
     "text": [
      "[[0, 0], [0, 0]]\n",
      "[[1, 0], [0, 1]]\n"
     ]
    }
   ],
   "source": [
    "### BEGIN SOLUTION\n",
    "a = [[0] * 2 for i in range(2)]\n",
    "### END SOLUTION\n",
    "print(a)\n",
    "a[0][0] = a[1][1] = 1\n",
    "print(a)"
   ]
  },
  {
   "cell_type": "markdown",
   "metadata": {},
   "source": [
    "**A short summary**\n",
    "\n",
    "You need to remember.\n",
    "1. what is mutation and aliasing. Their difference.\n",
    "2. How to initialize a list."
   ]
  },
  {
   "cell_type": "markdown",
   "metadata": {
    "slideshow": {
     "slide_type": "slide"
    }
   },
   "source": [
    "## Different methods to operate on a sequence"
   ]
  },
  {
   "cell_type": "markdown",
   "metadata": {
    "slideshow": {
     "slide_type": "fragment"
    }
   },
   "source": [
    "The following compares the list of public attributes for `tuple` and `list`. \n",
    "- We determine membership using the [operator `in` or `not in`](https://docs.python.org/3/reference/expressions.html#membership-test-operations).\n",
    "- Different from the [keyword `in` in a for loop](https://docs.python.org/3/reference/compound_stmts.html#the-for-statement), operator `in` calls the method `__contains__`."
   ]
  },
  {
   "cell_type": "code",
   "execution_count": 40,
   "metadata": {
    "ExecuteTime": {
     "end_time": "2021-03-11T23:22:01.097565Z",
     "start_time": "2021-03-11T23:22:01.091728Z"
    }
   },
   "outputs": [
    {
     "name": "stdout",
     "output_type": "stream",
     "text": [
      "True\n",
      "False\n",
      "False\n",
      "False\n"
     ]
    }
   ],
   "source": [
    "#this example shows how `in` and `not in` works.\n",
    "list1=[1,2,3,4]\n",
    "print(1 in list1)\n",
    "print(5 in list1)\n",
    "\n",
    "tuple1=('apple','banana')\n",
    "print('apple' not in tuple1)\n",
    "print('cherry' in tuple1)"
   ]
  },
  {
   "cell_type": "code",
   "execution_count": 41,
   "metadata": {
    "ExecuteTime": {
     "end_time": "2021-03-11T23:22:09.900076Z",
     "start_time": "2021-03-11T23:22:09.888515Z"
    },
    "slideshow": {
     "slide_type": "-"
    }
   },
   "outputs": [
    {
     "name": "stdout",
     "output_type": "stream",
     "text": [
      "Common attributes: count, index\n",
      "Tuple-specific attributes: \n",
      "List-specific attributes: append, clear, copy, extend, insert, pop, remove, reverse, sort\n"
     ]
    }
   ],
   "source": [
    "#this examples shows the common attribute of list and tuple, the Tuple-specific attributes and List-specific attributes\n",
    "list_attributes = dir(list)\n",
    "tuple_attributes = dir(tuple)\n",
    "\n",
    "print(\n",
    "    'Common attributes:', ', '.join([\n",
    "        attr for attr in list_attributes\n",
    "        if attr in tuple_attributes and attr[0] != '_'\n",
    "    ]))\n",
    "\n",
    "print(\n",
    "    'Tuple-specific attributes:', ', '.join([\n",
    "        attr for attr in tuple_attributes\n",
    "        if attr not in list_attributes and attr[0] != '_'\n",
    "    ]))\n",
    "\n",
    "print(\n",
    "    'List-specific attributes:', ', '.join([\n",
    "        attr for attr in list_attributes\n",
    "        if attr not in tuple_attributes and attr[0] != '_'\n",
    "    ]))"
   ]
  },
  {
   "cell_type": "markdown",
   "metadata": {
    "slideshow": {
     "slide_type": "fragment"
    }
   },
   "source": [
    "- There are no public tuple-specific attributes, and\n",
    "- all the list-specific attributes are methods that mutate the list, except `copy`."
   ]
  },
  {
   "cell_type": "markdown",
   "metadata": {
    "slideshow": {
     "slide_type": "subslide"
    }
   },
   "source": [
    "The common attributes\n",
    "- `count` method returns the number of occurrences of a value in a tuple/list, and\n",
    "- `index` method returns the index of the first occurrence of a value in a tuple/list."
   ]
  },
  {
   "cell_type": "code",
   "execution_count": 42,
   "metadata": {
    "ExecuteTime": {
     "end_time": "2021-03-11T23:22:15.195490Z",
     "start_time": "2021-03-11T23:22:15.116370Z"
    },
    "slideshow": {
     "slide_type": "-"
    }
   },
   "outputs": [
    {
     "data": {
      "text/html": [
       "\n",
       "        <iframe\n",
       "            width=\"1100\"\n",
       "            height=\"300\"\n",
       "            src=\"https://e-quiz.cs.cityu.edu.hk/opt/cs1302visualize.html#mode=display&code=a%20%3D%20%281%2C2%2C2%2C4%2C5%29%0Aprint%28a.index%282%29%29%0Aprint%28a.count%282%29%29%0A\"\n",
       "            frameborder=\"0\"\n",
       "            allowfullscreen\n",
       "        ></iframe>\n",
       "        "
      ],
      "text/plain": [
       "<IPython.lib.display.IFrame at 0x7f7b1a7ba6d0>"
      ]
     },
     "metadata": {},
     "output_type": "display_data"
    }
   ],
   "source": [
    "%%mytutor -h 300\n",
    "a = (1,2,2,4,5)\n",
    "print(a.index(2))\n",
    "print(a.count(2))"
   ]
  },
  {
   "cell_type": "markdown",
   "metadata": {
    "slideshow": {
     "slide_type": "subslide"
    }
   },
   "source": [
    "`reverse()` method reverses the list instead of returning a reversed list.\n",
    "- The reverse() method doesn't return any value. It updates the existing list.\n",
    "- It's different from `reversed()` function. `reversed()` method returns an iterator that accesses the given sequence in the reverse order."
   ]
  },
  {
   "cell_type": "code",
   "execution_count": 43,
   "metadata": {
    "ExecuteTime": {
     "end_time": "2021-03-11T23:22:19.496510Z",
     "start_time": "2021-03-11T23:22:19.489927Z"
    },
    "slideshow": {
     "slide_type": "-"
    }
   },
   "outputs": [
    {
     "data": {
      "text/html": [
       "\n",
       "        <iframe\n",
       "            width=\"1100\"\n",
       "            height=\"300\"\n",
       "            src=\"https://e-quiz.cs.cityu.edu.hk/opt/cs1302visualize.html#mode=display&code=a%20%3D%20%5B%2Arange%2810%29%5D%0Aprint%28reversed%28a%29%29%0Aprint%28a.reverse%28%29%29%0A\"\n",
       "            frameborder=\"0\"\n",
       "            allowfullscreen\n",
       "        ></iframe>\n",
       "        "
      ],
      "text/plain": [
       "<IPython.lib.display.IFrame at 0x7f7b1a7baa50>"
      ]
     },
     "metadata": {},
     "output_type": "display_data"
    }
   ],
   "source": [
    "%%mytutor -h 300\n",
    "a = [*range(10)]\n",
    "print(reversed(a))\n",
    "print(a.reverse())"
   ]
  },
  {
   "cell_type": "markdown",
   "metadata": {
    "slideshow": {
     "slide_type": "subslide"
    }
   },
   "source": [
    "- `copy` method returns a copy of a list.  \n",
    "- `tuple` does not have the `copy` method but it is easy to create a copy by slicing."
   ]
  },
  {
   "cell_type": "code",
   "execution_count": 44,
   "metadata": {
    "ExecuteTime": {
     "end_time": "2021-03-11T23:22:25.194210Z",
     "start_time": "2021-03-11T23:22:25.153574Z"
    },
    "slideshow": {
     "slide_type": "fragment"
    }
   },
   "outputs": [
    {
     "data": {
      "text/html": [
       "\n",
       "        <iframe\n",
       "            width=\"1100\"\n",
       "            height=\"400\"\n",
       "            src=\"https://e-quiz.cs.cityu.edu.hk/opt/cs1302visualize.html#mode=display&code=a%20%3D%20%5B%2Arange%2810%29%5D%20%20%20%20%20%20%20%23a%20is%20a%20list%0Ab%20%3D%20tuple%28a%29%20%20%20%20%20%20%20%20%20%20%20%23b%20is%20a%20tuple%0Aa_reversed%20%3D%20a.copy%28%29%20%23we%20can%20copy%20a%20list%20by%20copy%28%29%20function%0Aa_reversed.reverse%28%29%0Ab_reversed%20%3D%20b%5B%3A%3A-1%5D%20%20%23we%20can%20use%20slicing%20to%20copy%20a%20tuple%20to%20another%0A\"\n",
       "            frameborder=\"0\"\n",
       "            allowfullscreen\n",
       "        ></iframe>\n",
       "        "
      ],
      "text/plain": [
       "<IPython.lib.display.IFrame at 0x7f7b1a74ee50>"
      ]
     },
     "metadata": {},
     "output_type": "display_data"
    }
   ],
   "source": [
    "%%mytutor -h 400\n",
    "a = [*range(10)]       #a is a list\n",
    "b = tuple(a)           #b is a tuple\n",
    "a_reversed = a.copy() #we can copy a list by copy() function\n",
    "a_reversed.reverse()\n",
    "b_reversed = b[::-1]  #we can use slicing to copy a tuple to another"
   ]
  },
  {
   "cell_type": "markdown",
   "metadata": {
    "slideshow": {
     "slide_type": "subslide"
    }
   },
   "source": [
    "`sort` method sorts the list *in place* instead of returning a sorted list.\n",
    "- it's different from `sorted()` function. The `sorted()` function returns a sorted list of the specified iterable object."
   ]
  },
  {
   "cell_type": "code",
   "execution_count": 45,
   "metadata": {
    "ExecuteTime": {
     "end_time": "2021-03-11T23:22:30.395130Z",
     "start_time": "2021-03-11T23:22:30.377125Z"
    },
    "slideshow": {
     "slide_type": "-"
    }
   },
   "outputs": [
    {
     "data": {
      "text/html": [
       "\n",
       "        <iframe\n",
       "            width=\"1100\"\n",
       "            height=\"300\"\n",
       "            src=\"https://e-quiz.cs.cityu.edu.hk/opt/cs1302visualize.html#mode=display&code=import%20random%0Aa%20%3D%20%5Brandom.randint%280%2C10%29%20for%20i%20in%20range%2810%29%5D%0Aprint%28sorted%28a%29%29%0Aprint%28a.sort%28%29%29%0A\"\n",
       "            frameborder=\"0\"\n",
       "            allowfullscreen\n",
       "        ></iframe>\n",
       "        "
      ],
      "text/plain": [
       "<IPython.lib.display.IFrame at 0x7f7b1a7b1310>"
      ]
     },
     "metadata": {},
     "output_type": "display_data"
    }
   ],
   "source": [
    "%%mytutor -h 300\n",
    "import random\n",
    "a = [random.randint(0,10) for i in range(10)]\n",
    "print(sorted(a))\n",
    "print(a.sort())"
   ]
  },
  {
   "cell_type": "markdown",
   "metadata": {
    "slideshow": {
     "slide_type": "subslide"
    }
   },
   "source": [
    "- `extend` method that extends a list instead of creating a new concatenated list.\n",
    "- `append` method adds an object to the end of a list.\n",
    "- `insert` method insert an object to a specified location."
   ]
  },
  {
   "cell_type": "code",
   "execution_count": 46,
   "metadata": {
    "ExecuteTime": {
     "end_time": "2021-03-11T23:22:33.495437Z",
     "start_time": "2021-03-11T23:22:33.438656Z"
    },
    "slideshow": {
     "slide_type": "-"
    }
   },
   "outputs": [
    {
     "data": {
      "text/html": [
       "\n",
       "        <iframe\n",
       "            width=\"1100\"\n",
       "            height=\"300\"\n",
       "            src=\"https://e-quiz.cs.cityu.edu.hk/opt/cs1302visualize.html#mode=display&code=a%20%3D%20b%20%3D%20%5B%2Arange%285%29%5D%0Aprint%28a%20%2B%20b%29%20%23this%20will%20create%20a%20new%20list%20object%0Aprint%28a.extend%28b%29%29%20%23doesn%27t%20create%20a%20new%20list%20object%0Aprint%28a.append%28%27stop%27%29%29%20%23doesn%27t%20create%20a%20new%20list%20object%0Aprint%28a.insert%280%2C%27start%27%29%29%20%23doesn%27t%20create%20a%20new%20list%20object%0A\"\n",
       "            frameborder=\"0\"\n",
       "            allowfullscreen\n",
       "        ></iframe>\n",
       "        "
      ],
      "text/plain": [
       "<IPython.lib.display.IFrame at 0x7f7b1a7b1ed0>"
      ]
     },
     "metadata": {},
     "output_type": "display_data"
    }
   ],
   "source": [
    "%%mytutor -h 300\n",
    "a = b = [*range(5)]\n",
    "print(a + b) #this will create a new list object\n",
    "print(a.extend(b)) #doesn't create a new list object\n",
    "print(a.append('stop')) #doesn't create a new list object\n",
    "print(a.insert(0,'start')) #doesn't create a new list object"
   ]
  },
  {
   "cell_type": "markdown",
   "metadata": {
    "slideshow": {
     "slide_type": "subslide"
    }
   },
   "source": [
    "- `pop` method deletes and return the last item of the list.  \n",
    "- `remove` method removes the first occurrence of a value in the list.  \n",
    "- `clear` method clears the entire list.\n",
    "\n",
    "We can also use the function `del` to delete a selection of a list."
   ]
  },
  {
   "cell_type": "code",
   "execution_count": 47,
   "metadata": {
    "ExecuteTime": {
     "end_time": "2021-03-11T23:22:36.595472Z",
     "start_time": "2021-03-11T23:22:36.560701Z"
    },
    "slideshow": {
     "slide_type": "-"
    }
   },
   "outputs": [
    {
     "data": {
      "text/html": [
       "\n",
       "        <iframe\n",
       "            width=\"1100\"\n",
       "            height=\"300\"\n",
       "            src=\"https://e-quiz.cs.cityu.edu.hk/opt/cs1302visualize.html#mode=display&code=a%20%3D%20%5B%2Arange%2810%29%5D%0Aprint%28a%29%0Adel%20a%5B%3A%3A2%5D%0Aprint%28a%29%0Aprint%28a.pop%28%29%29%0Aprint%28a.remove%285%29%29%0Aprint%28a.clear%28%29%29%0Aprint%28a%29%0A\"\n",
       "            frameborder=\"0\"\n",
       "            allowfullscreen\n",
       "        ></iframe>\n",
       "        "
      ],
      "text/plain": [
       "<IPython.lib.display.IFrame at 0x7f7b1a7af7d0>"
      ]
     },
     "metadata": {},
     "output_type": "display_data"
    }
   ],
   "source": [
    "%%mytutor -h 300\n",
    "a = [*range(10)]\n",
    "print(a)\n",
    "del a[::2]\n",
    "print(a)\n",
    "print(a.pop())\n",
    "print(a.remove(5))\n",
    "print(a.clear())\n",
    "print(a)"
   ]
  },
  {
   "cell_type": "markdown",
   "metadata": {},
   "source": [
    "**A short summary**\n",
    "\n",
    "You need to remember all the functions mentioned in this section."
   ]
  },
  {
   "cell_type": "markdown",
   "metadata": {},
   "source": [
    "**Summary for this lecture**\n",
    "\n",
    "We introduce two composite data types: `Tuple` and `List`. You need to know\n",
    "1. how to create Tuple/List\n",
    "2. How to access the elements in Tuple/List\n",
    "3. How to mutate/manipulate a list (delete, clear, sort etc)\n"
   ]
  }
 ],
 "metadata": {
  "kernelspec": {
   "display_name": "Python 3",
   "language": "python",
   "name": "python3"
  },
  "language_info": {
   "codemirror_mode": {
    "name": "ipython",
    "version": 3
   },
   "file_extension": ".py",
   "mimetype": "text/x-python",
   "name": "python",
   "nbconvert_exporter": "python",
   "pygments_lexer": "ipython3",
   "version": "3.7.9"
  },
  "latex_envs": {
   "LaTeX_envs_menu_present": true,
   "autoclose": false,
   "autocomplete": true,
   "bibliofile": "biblio.bib",
   "cite_by": "apalike",
   "current_citInitial": 1,
   "eqLabelWithNumbers": true,
   "eqNumInitial": 1,
   "hotkeys": {
    "equation": "Ctrl-E",
    "itemize": "Ctrl-I"
   },
   "labels_anchors": false,
   "latex_user_defs": false,
   "report_style_numbering": false,
   "user_envs_cfg": false
  },
  "rise": {
   "enable_chalkboard": true,
   "scroll": true,
   "theme": "white"
  },
  "toc": {
   "base_numbering": 1,
   "nav_menu": {
    "height": "195px",
    "width": "330px"
   },
   "number_sections": true,
   "sideBar": true,
   "skip_h1_title": true,
   "title_cell": "Table of Contents",
   "title_sidebar": "Contents",
   "toc_cell": false,
   "toc_position": {
    "height": "454.418px",
    "left": "1533px",
    "top": "110.284px",
    "width": "260.994px"
   },
   "toc_section_display": true,
   "toc_window_display": false
  }
 },
 "nbformat": 4,
 "nbformat_minor": 4
}

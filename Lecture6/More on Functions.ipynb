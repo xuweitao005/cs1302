{
 "cells": [
  {
   "cell_type": "markdown",
   "metadata": {
    "cell_style": "center",
    "slideshow": {
     "slide_type": "slide"
    }
   },
   "source": [
    "# More on Functions\n",
    "**CS1302 Introduction to Computer Programming**\n",
    "___"
   ]
  },
  {
   "cell_type": "code",
   "execution_count": 1,
   "metadata": {
    "ExecuteTime": {
     "end_time": "2021-03-01T00:49:04.906718Z",
     "start_time": "2021-03-01T00:49:04.869930Z"
    },
    "code_folding": [],
    "hide_input": true,
    "init_cell": true,
    "slideshow": {
     "slide_type": "skip"
    }
   },
   "outputs": [],
   "source": [
    "# set up environment\n",
    "%reset -f\n",
    "import sys\n",
    "cs1302_site_packages = '/home/course/cs1302/site-packages'\n",
    "if cs1302_site_packages not in sys.path:\n",
    "    sys.path.append(cs1302_site_packages)\n",
    "%reload_ext mytutor"
   ]
  },
  {
   "cell_type": "code",
   "execution_count": 2,
   "metadata": {
    "ExecuteTime": {
     "end_time": "2021-03-01T00:49:04.925970Z",
     "start_time": "2021-03-01T00:49:04.908556Z"
    },
    "hide_input": true,
    "init_cell": true
   },
   "outputs": [
    {
     "data": {
      "application/javascript": [
       "let li = document.querySelectorAll(\".text_cell_render li:not(:first-child)\");\n",
       "for (let i=0;i<li.length; i++) {\n",
       "    li[i].classList.add(\"fragment\")\n",
       "}\n"
      ],
      "text/plain": [
       "<IPython.core.display.Javascript object>"
      ]
     },
     "metadata": {},
     "output_type": "display_data"
    }
   ],
   "source": [
    "%%javascript\n",
    "let li = document.querySelectorAll(\".text_cell_render li:not(:first-child)\");\n",
    "for (let i=0;i<li.length; i++) {\n",
    "    li[i].classList.add(\"fragment\")\n",
    "}"
   ]
  },
  {
   "cell_type": "markdown",
   "metadata": {
    "ExecuteTime": {
     "end_time": "2020-10-17T02:07:52.385258Z",
     "start_time": "2020-10-17T02:07:52.311358Z"
    }
   },
   "source": [
    "Content\n",
    "* Recursion\n",
    "* Global variables\n",
    "* Generator\n",
    "* Optional arguments\n",
    "* Variable number of arguments\n",
    "* Decorator\n",
    "* Module\n",
    "\n",
    "ps. This lecture introduces some advanced topics and thus is more difficult than previous ones."
   ]
  },
  {
   "cell_type": "markdown",
   "metadata": {
    "slideshow": {
     "slide_type": "slide"
    }
   },
   "source": [
    "## Recursion"
   ]
  },
  {
   "cell_type": "markdown",
   "metadata": {
    "slideshow": {
     "slide_type": "fragment"
    }
   },
   "source": [
    "Fibonacci number:\n",
    "0, 1, 1, 2, 3, 5, 8, 13, 21,....\n",
    "\n",
    "Consider computing the [Fibonacci number](https://en.wikipedia.org/wiki/Fibonacci_number) of order $n$:\n",
    "$$\n",
    "F_n := \n",
    "\\begin{cases}\n",
    "F_{n-1}+F_{n-2} & n>1 \\kern1em \\text{(recurrence)}\\\\\n",
    "1 & n=1 \\kern1em \\text{(base case)}\\\\\n",
    "0 & n=0 \\kern1em \\text{(base case)}.\n",
    "\\end{cases}$$\n",
    "Fibonacci numbers have practical applications in generating [pseudorandom numbers](https://en.wikipedia.org/wiki/Lagged_Fibonacci_generator)."
   ]
  },
  {
   "cell_type": "markdown",
   "metadata": {
    "slideshow": {
     "slide_type": "subslide"
    }
   },
   "source": [
    "**Can we define the function by calling the function itself?**\n",
    "\n",
    "[*Recursion*](https://en.wikipedia.org/wiki/Recursion_(computer_science)) is a function that calls itself (*recurs*).\n",
    "\n",
    "To be more specific, recursion is a method of solving a problem where the solution depends on solutions to smaller instances of the same problem"
   ]
  },
  {
   "cell_type": "code",
   "execution_count": null,
   "metadata": {
    "ExecuteTime": {
     "end_time": "2021-02-26T04:21:33.752113Z",
     "start_time": "2021-02-26T04:21:33.742692Z"
    },
    "code_folding": [],
    "jupyter": {
     "outputs_hidden": true
    },
    "slideshow": {
     "slide_type": "fragment"
    }
   },
   "outputs": [],
   "source": [
    "%%mytutor -r -h 450\n",
    "def fibonacci(n):\n",
    "    if n > 1:\n",
    "        return fibonacci(n - 1) + fibonacci(n - 2)  # recursion\n",
    "    elif n is 1:\n",
    "        return 1\n",
    "    else:\n",
    "        return 0\n",
    "\n",
    "fibonacci(3)"
   ]
  },
  {
   "cell_type": "markdown",
   "metadata": {
    "slideshow": {
     "slide_type": "subslide"
    }
   },
   "source": [
    "**Exercise** Write a function `gcd` that implements the [Euclidean algorithm for the greatest common divisor](https://en.wikipedia.org/wiki/Euclidean_algorithm): \n",
    "$$\\operatorname{gcd}(a,b)=\\begin{cases}a & b=0\\\\ \\operatorname{gcd}(b, a\\operatorname{mod}b) & \\text{otherwise} \\end{cases}$$"
   ]
  },
  {
   "cell_type": "code",
   "execution_count": null,
   "metadata": {
    "ExecuteTime": {
     "end_time": "2021-02-26T04:21:36.555582Z",
     "start_time": "2021-02-26T04:21:36.547377Z"
    },
    "deletable": false,
    "nbgrader": {
     "cell_type": "code",
     "checksum": "43a9d6cd76c782b183be3d378c06f2fe",
     "grade": false,
     "grade_id": "gcd",
     "locked": false,
     "schema_version": 3,
     "solution": true,
     "task": false
    },
    "slideshow": {
     "slide_type": "-"
    }
   },
   "outputs": [],
   "source": [
    "# YOUR CODE HERE\n",
    "raise NotImplementedError()"
   ]
  },
  {
   "cell_type": "markdown",
   "metadata": {
    "slideshow": {
     "slide_type": "subslide"
    }
   },
   "source": [
    "**Is recursion strictly necessary?**  \n",
    "\n",
    "No. We can always convert a recursion to an iteration.  "
   ]
  },
  {
   "cell_type": "markdown",
   "metadata": {
    "slideshow": {
     "slide_type": "fragment"
    }
   },
   "source": [
    "E.g., the following computes the Fibonnacci number of order using a while loop instead."
   ]
  },
  {
   "cell_type": "code",
   "execution_count": null,
   "metadata": {
    "ExecuteTime": {
     "end_time": "2021-02-26T04:21:38.648907Z",
     "start_time": "2021-02-26T04:21:38.638448Z"
    },
    "slideshow": {
     "slide_type": "-"
    }
   },
   "outputs": [],
   "source": [
    "%%mytutor -r -h 550\n",
    "def fibonacci_iteration(n):\n",
    "    if n > 1:\n",
    "        x, y = 0, 1  # next two Fibonacci numbers\n",
    "        while n > 1:\n",
    "            x, y, n = y, x + y, n - 1 \n",
    "        return y\n",
    "    elif n is 1:\n",
    "        return 1\n",
    "    else:\n",
    "        return 0\n",
    "    \n",
    "fibonacci_iteration(3)"
   ]
  },
  {
   "cell_type": "markdown",
   "metadata": {},
   "source": [
    "In the example above, we have *x, y, n = y, x + y, n - 1*, is it equivalent to the code below?\n",
    "\n",
    "*x=y*\n",
    "\n",
    "*y=x+y*\n",
    "\n",
    "*n=n-1*"
   ]
  },
  {
   "cell_type": "code",
   "execution_count": null,
   "metadata": {
    "ExecuteTime": {
     "end_time": "2021-02-26T04:08:21.747076Z",
     "start_time": "2021-02-26T04:08:21.737275Z"
    }
   },
   "outputs": [],
   "source": [
    "%%mytutor -r -h 550\n",
    "#how can we exchange the value of two variables a and b? \n",
    "#is the following code correct?\n",
    "a=1\n",
    "b=5\n",
    "\n",
    "a=b\n",
    "b=a\n",
    "\n",
    "print('a is',a,'b is', b)\n"
   ]
  },
  {
   "cell_type": "code",
   "execution_count": null,
   "metadata": {
    "ExecuteTime": {
     "end_time": "2021-02-26T04:09:30.060257Z",
     "start_time": "2021-02-26T04:09:30.054810Z"
    }
   },
   "outputs": [],
   "source": [
    "%%mytutor -r -h 550\n",
    "#the following is the correct way to exchange two variables\n",
    "a=1\n",
    "b=5\n",
    "\n",
    "#we need a temporary variable to store the value of a\n",
    "c=a\n",
    "a=b\n",
    "b=c\n",
    "\n",
    "print('a is',a,'b is', b)"
   ]
  },
  {
   "cell_type": "code",
   "execution_count": null,
   "metadata": {
    "ExecuteTime": {
     "end_time": "2021-02-26T04:11:31.646804Z",
     "start_time": "2021-02-26T04:11:31.639797Z"
    }
   },
   "outputs": [],
   "source": [
    "#can we make it simpler?\n",
    "a=1\n",
    "b=5\n",
    "\n",
    "a,b=b,a #in this way, we don't need temporary variable\n",
    "print('a is',a,'b is', b)\n",
    "\n",
    "#similarly, if we have three variables\n",
    "x=1\n",
    "y=5\n",
    "z=6\n",
    "\n",
    "x,y,z=z,x,y #in this way, we don't need temporary variable\n",
    "print('x is',x,'y is', y, 'z is', z)"
   ]
  },
  {
   "cell_type": "code",
   "execution_count": null,
   "metadata": {
    "ExecuteTime": {
     "end_time": "2021-02-26T04:21:47.404596Z",
     "start_time": "2021-02-26T04:21:47.398317Z"
    }
   },
   "outputs": [],
   "source": [
    "# more tests\n",
    "# the code below check if the recursion and iteration can obtain the same results.\n",
    "for n in range(5):\n",
    "    if fibonacci(n) != fibonacci_iteration(n):\n",
    "        print(\"fibonacci(n) and fibonacci_iteration(n) get different answers!\")"
   ]
  },
  {
   "cell_type": "markdown",
   "metadata": {
    "slideshow": {
     "slide_type": "fragment"
    }
   },
   "source": [
    "From the above code, we can see both iteration and recursion can achieve the same purpose.\n",
    "\n",
    "**Exercise** Implement `gcd_iteration` using a while loop instead of a recursion."
   ]
  },
  {
   "cell_type": "code",
   "execution_count": null,
   "metadata": {
    "ExecuteTime": {
     "end_time": "2021-02-26T08:32:15.332435Z",
     "start_time": "2021-02-26T08:32:15.325829Z"
    },
    "code_folding": [],
    "deletable": false,
    "nbgrader": {
     "cell_type": "code",
     "checksum": "28270e02a09da5dfa0de6f71a5cac93d",
     "grade": false,
     "grade_id": "gcd_iteration",
     "locked": false,
     "schema_version": 3,
     "solution": true,
     "task": false
    },
    "slideshow": {
     "slide_type": "-"
    }
   },
   "outputs": [],
   "source": [
    "# YOUR CODE HERE\n",
    "raise NotImplementedError()"
   ]
  },
  {
   "cell_type": "markdown",
   "metadata": {
    "slideshow": {
     "slide_type": "slide"
    }
   },
   "source": [
    "**Is recusion more efficient than iteration?**\n",
    "\n",
    "No, let's see the example below"
   ]
  },
  {
   "cell_type": "code",
   "execution_count": null,
   "metadata": {
    "ExecuteTime": {
     "end_time": "2021-02-26T04:22:34.899392Z",
     "start_time": "2021-02-26T04:22:34.643181Z"
    },
    "deletable": false,
    "jupyter": {
     "outputs_hidden": true
    },
    "slideshow": {
     "slide_type": "fragment"
    }
   },
   "outputs": [],
   "source": [
    "import time  #import package time because we need to use time.time()\n",
    "n=30   #if the number is too large, it takes a while to run\n",
    "time1=time.time() #get the current system time\n",
    "fibonacci(n)\n",
    "time2=time.time() #get the current system time\n",
    "print('Running time of recursion:{:.5f} seconds'.format(time2-time1))"
   ]
  },
  {
   "cell_type": "code",
   "execution_count": null,
   "metadata": {
    "ExecuteTime": {
     "end_time": "2021-02-26T04:22:40.282260Z",
     "start_time": "2021-02-26T04:22:40.275877Z"
    },
    "deletable": false,
    "jupyter": {
     "outputs_hidden": true
    },
    "slideshow": {
     "slide_type": "fragment"
    }
   },
   "outputs": [],
   "source": [
    "n=30\n",
    "time1=time.time() #get the current system time\n",
    "fibonacci_iteration(n)\n",
    "time2=time.time() #get the current system time\n",
    "print('Running time of iteration:{:.5f} seconds'.format(time2-time1))"
   ]
  },
  {
   "cell_type": "markdown",
   "metadata": {
    "slideshow": {
     "slide_type": "subslide"
    }
   },
   "source": [
    "To see why recursion is slow, we will modify `fibonacci` to print each function call as follows."
   ]
  },
  {
   "cell_type": "code",
   "execution_count": null,
   "metadata": {
    "ExecuteTime": {
     "end_time": "2021-02-26T04:22:47.578837Z",
     "start_time": "2021-02-26T04:22:47.571658Z"
    },
    "jupyter": {
     "outputs_hidden": true
    },
    "slideshow": {
     "slide_type": "fragment"
    }
   },
   "outputs": [],
   "source": [
    "#this function show how many functions are called in order to calculate fibonacci number of order n\n",
    "def fibonacci(n):\n",
    "    '''Returns the Fibonacci number of order n.'''\n",
    "    print('fibonacci({!r})'.format(n))  #everytime, we print the funtion called to calculate fibonacci(n)\n",
    "    return fibonacci(n - 1) + fibonacci(n - 2) if n > 1 else 1 if n is 1 else 0\n",
    "\n",
    "\n",
    "fibonacci(5)"
   ]
  },
  {
   "cell_type": "markdown",
   "metadata": {
    "slideshow": {
     "slide_type": "fragment"
    }
   },
   "source": [
    "`fibonacci(5)` calls `fibonacci(3)` and `fibonacci(4)`, which in turn call `fibonacci(2)` and `fibonacci(3)`. `fibonacci(3)` is called twice."
   ]
  },
  {
   "cell_type": "markdown",
   "metadata": {},
   "source": [
    "If recursion is not efficient, why we still need recursion?\n",
    "\n",
    "Even though the iterative version of the factorial function is technically more efficient than the recursive\n",
    "version, on most systems you could not tell the difference. The reason is the factorial function “grows” fast,\n",
    "meaning it returns fairly large results for relatively small arguments. ---page 244 of reference book"
   ]
  },
  {
   "cell_type": "markdown",
   "metadata": {
    "slideshow": {
     "slide_type": "slide"
    }
   },
   "source": [
    "## Global Variables (chapter 8.1 in reference book)\n",
    "\n",
    "Actually, we already introduced global variables and local variables in Lecture 4: using functions. Now, we'll introduce more details.\n",
    "\n",
    "Local variable vs Global variable\n",
    "\n",
    "* A local variable is a variable declared inside a function. It can be only accessed inside a function.\n",
    "\n",
    "* A global variable is a variable declared outside of the function or in global scope. This means that a global variable can be accessed inside or outside of the function."
   ]
  },
  {
   "cell_type": "markdown",
   "metadata": {
    "slideshow": {
     "slide_type": "fragment"
    }
   },
   "source": [
    "Rules for [*global/local variables*](https://docs.python.org/3/faq/programming.html#what-are-the-rules-for-local-and-global-variables-in-python):\n",
    "1. A local variable must be defined within a function.\n",
    "1. An assignment defines a local variable except in a [`global` statement](https://docs.python.org/3/reference/simple_stmts.html#the-global-statement).\n",
    "\n",
    "Explanations about the two rules above.\n",
    "\n",
    "`global variables` are defined outside a function\n",
    "   - if we use it in an assignment, we `must` use keyword ``global`` to declare it\n",
    "   - if we don't use it in an assignment, we `don't need to` use keyword ``global`` to declare it\n",
    "   \n",
    "See example below"
   ]
  },
  {
   "cell_type": "code",
   "execution_count": null,
   "metadata": {
    "ExecuteTime": {
     "end_time": "2021-02-26T04:26:41.443117Z",
     "start_time": "2021-02-26T04:26:41.429796Z"
    },
    "slideshow": {
     "slide_type": "fragment"
    }
   },
   "outputs": [],
   "source": [
    "x=5  #x is a global variable\n",
    "\n",
    "#if you run the example below, it will raise UnboundLocalError: local variable 'x' referenced before assignment\n",
    "#Reason: although x is a global variable, and we can use it anywhere in the program.\n",
    "#if we don't use it in assignment, we don't need to declare it.\n",
    "#but if we want to use it in an assignment, we must use keyword global to declare it.\n",
    "def add_1():\n",
    "    x=x+1\n",
    "    return x\n",
    "\n",
    "print(add_1())"
   ]
  },
  {
   "cell_type": "code",
   "execution_count": null,
   "metadata": {
    "ExecuteTime": {
     "end_time": "2021-02-26T04:27:00.272228Z",
     "start_time": "2021-02-26T04:27:00.267701Z"
    }
   },
   "outputs": [],
   "source": [
    "x=5  #x is a global variable\n",
    "\n",
    "#the following code is correct, we use keyword global to decalre x, so the program knows that the x in add_1() is a global variable\n",
    "def add_1():\n",
    "    global x\n",
    "    x=x+1\n",
    "    return x\n",
    "\n",
    "print(add_1())"
   ]
  },
  {
   "cell_type": "code",
   "execution_count": null,
   "metadata": {
    "ExecuteTime": {
     "end_time": "2021-02-26T04:27:02.480778Z",
     "start_time": "2021-02-26T04:27:02.476184Z"
    }
   },
   "outputs": [],
   "source": [
    "x=5  #x is a global variable\n",
    "\n",
    "#the following code is correct, although we use x in add_1(), we don't use it in an assignment.\n",
    "def add_1():\n",
    "    #global x\n",
    "    print(x)\n",
    "    return x+1\n",
    "\n",
    "print(add_1())"
   ]
  },
  {
   "cell_type": "markdown",
   "metadata": {
    "deletable": false,
    "slideshow": {
     "slide_type": "-"
    }
   },
   "source": [
    "**name collision**\n",
    "\n",
    "If a function defines a local variable with the same name as a global variable, the global variable become\n",
    "inaccessible to code within the function. We say the local variable `hides` the like-named global variable from\n",
    "code in the function’s body. ---page 235 of reference book"
   ]
  },
  {
   "cell_type": "code",
   "execution_count": null,
   "metadata": {
    "ExecuteTime": {
     "end_time": "2020-10-18T14:32:38.286117Z",
     "start_time": "2020-10-18T14:32:38.198931Z"
    }
   },
   "outputs": [],
   "source": [
    "#my_name is a global variable\n",
    "my_name='Global variable'   \n",
    "\n",
    "\n",
    "#in this function, my_name is a local variable, here the global variable will be ineffect\n",
    "def print_name():\n",
    "    my_name='Local variable'  #local variable will hide global variable if they have the same name\n",
    "    print(my_name)\n",
    "    \n",
    "print_name()            #this line will print local variable my_name\n",
    "print(my_name)          #this line will print global variable my_name"
   ]
  },
  {
   "cell_type": "markdown",
   "metadata": {
    "slideshow": {
     "slide_type": "fragment"
    }
   },
   "source": [
    "With global variables\n",
    "- codes are less predictable, more difficult to reuse/extend, and\n",
    "- tests cannot be isolated, making debugging difficult.\n",
    "- More disadvantages are explained on page 235-237 in reference book."
   ]
  },
  {
   "cell_type": "markdown",
   "metadata": {
    "slideshow": {
     "slide_type": "fragment"
    }
   },
   "source": [
    "**Function as data**\n",
    "\n",
    "We can treat function as data (int, string etc).\n",
    "- so a function name can be used as parameter\n",
    "- we can also return a function\n",
    "\n",
    "See example below"
   ]
  },
  {
   "cell_type": "code",
   "execution_count": null,
   "metadata": {
    "ExecuteTime": {
     "end_time": "2021-02-26T04:28:35.683095Z",
     "start_time": "2021-02-26T04:28:35.677623Z"
    }
   },
   "outputs": [],
   "source": [
    "#this example shows we can use funtion name as input parameters and return functions\n",
    "def add(x, y):\n",
    "    \"\"\"\n",
    "    Adds the parameters x and y and returns the result\n",
    "    \"\"\"\n",
    "    return x + y\n",
    "\n",
    "def multiply(x, y):\n",
    "    \"\"\"\n",
    "    Multiplies the parameters x and y and returns the result\n",
    "    \"\"\"\n",
    "    return x * y\n",
    "\n",
    "def evaluate(f, x, y):\n",
    "    \"\"\"\n",
    "    Calls the function f with parameters x and y:\n",
    "    f(x, y)\n",
    "    \"\"\"\n",
    "    return f(x, y)\n",
    "\n",
    "\n",
    "\"\"\"\n",
    "Tests the add, multiply, and evaluate functions\n",
    "\"\"\"\n",
    "print(add(2, 3))\n",
    "print(multiply(2, 3))\n",
    "print(evaluate(add, 2, 3))\n",
    "print(evaluate(multiply, 2, 3))"
   ]
  },
  {
   "cell_type": "markdown",
   "metadata": {
    "slideshow": {
     "slide_type": "slide"
    }
   },
   "source": [
    "## Generator"
   ]
  },
  {
   "cell_type": "markdown",
   "metadata": {
    "slideshow": {
     "slide_type": "fragment"
    }
   },
   "source": [
    "We can use iteration/loop to generate a sequence of value. Another way to generate a sequence of value one-by-one is to write a *generator*.\n",
    "\n",
    "A **generator** is a programming object that produces (that is, generates) a sequence of values. ---page 280 in reference book\n",
    "\n",
    "How to create a generator?\n",
    "- method 1: use `generator_name=(iterable object)`\n",
    "- must be enclosed by parentheses ()"
   ]
  },
  {
   "cell_type": "code",
   "execution_count": null,
   "metadata": {
    "ExecuteTime": {
     "end_time": "2021-02-26T04:29:28.396664Z",
     "start_time": "2021-02-26T04:29:28.389869Z"
    },
    "code_folding": [],
    "jupyter": {
     "outputs_hidden": true
    },
    "slideshow": {
     "slide_type": "-"
    }
   },
   "outputs": [],
   "source": [
    "fibonacci_generator = (fibonacci_iteration(n) for n in range(3))\n",
    "print(type(fibonacci_generator))\n",
    "\n",
    "\n",
    "#another example\n",
    "x=(i for i in range(5))\n",
    "print(type(x))"
   ]
  },
  {
   "cell_type": "markdown",
   "metadata": {
    "slideshow": {
     "slide_type": "fragment"
    }
   },
   "source": [
    "The above uses a [*generator expression*](https://docs.python.org/3/reference/expressions.html#grammar-token-generator-expression) to define `fibonacci_generator`."
   ]
  },
  {
   "cell_type": "markdown",
   "metadata": {
    "slideshow": {
     "slide_type": "subslide"
    }
   },
   "source": [
    "**How to obtain items from a generator?**"
   ]
  },
  {
   "cell_type": "markdown",
   "metadata": {
    "slideshow": {
     "slide_type": "fragment"
    }
   },
   "source": [
    "We can use the [`next` function](https://docs.python.org/3/library/functions.html#next).\n",
    "\n",
    "`next()`\n",
    "- it accepts a generator object and returns the next value in the generator’s sequence\n",
    "- we'll get an error if we ask the generator to provide a value after the final value in its sequence"
   ]
  },
  {
   "cell_type": "code",
   "execution_count": null,
   "metadata": {
    "ExecuteTime": {
     "end_time": "2021-02-26T04:29:39.261545Z",
     "start_time": "2021-02-26T04:29:39.253413Z"
    },
    "slideshow": {
     "slide_type": "-"
    }
   },
   "outputs": [],
   "source": [
    "while True: \n",
    "    print(next(fibonacci_generator)) # raises StopIterationException eventually"
   ]
  },
  {
   "cell_type": "code",
   "execution_count": null,
   "metadata": {
    "ExecuteTime": {
     "end_time": "2021-02-26T04:30:26.003822Z",
     "start_time": "2021-02-26T04:30:25.999723Z"
    }
   },
   "outputs": [],
   "source": [
    "#another simple example\n",
    "x=(i for i in range(5)) #0 1 2 3 4\n",
    "print(next(x))  #0\n",
    "print(next(x))  #1\n",
    "print(next(x))  #2\n",
    "print(next(x))  #3\n",
    "print(next(x))  #4\n",
    "print(next(x))   #raise an error cause theere's no next value\n",
    "\n",
    "#we can solve this error by using for loop\n",
    "for i in x:\n",
    "    print(i)"
   ]
  },
  {
   "cell_type": "markdown",
   "metadata": {
    "slideshow": {
     "slide_type": "fragment"
    }
   },
   "source": [
    "A generator object is [*iterable*](https://www.programiz.com/python-programming/iterator), i.e., it implements both `__iter__` and `__next__` methods that are automatically called in a `for` loop as well as the `next` function."
   ]
  },
  {
   "cell_type": "code",
   "execution_count": null,
   "metadata": {
    "ExecuteTime": {
     "end_time": "2021-02-25T07:52:42.150995Z",
     "start_time": "2021-02-25T07:52:42.145018Z"
    },
    "slideshow": {
     "slide_type": "-"
    }
   },
   "outputs": [],
   "source": [
    "fibonacci_generator = (fibonacci_iteration(n) for n in range(5))\n",
    "for fib in fibonacci_generator:  # StopIterationException handled by for loop\n",
    "    print(fib)"
   ]
  },
  {
   "cell_type": "markdown",
   "metadata": {
    "slideshow": {
     "slide_type": "subslide"
    }
   },
   "source": [
    "**Is `fibonacci_generator` efficient?**"
   ]
  },
  {
   "cell_type": "markdown",
   "metadata": {
    "slideshow": {
     "slide_type": "subslide"
    }
   },
   "source": [
    "No again due to redundant computations.\n",
    "\n",
    "A better way to define the generator is to use the keyword [`yield`](https://docs.python.org/3/reference/expressions.html?highlight=yield#yield-expressions):"
   ]
  },
  {
   "cell_type": "code",
   "execution_count": null,
   "metadata": {
    "ExecuteTime": {
     "end_time": "2021-02-26T04:31:49.109968Z",
     "start_time": "2021-02-26T04:31:49.105869Z"
    },
    "jupyter": {
     "outputs_hidden": true
    }
   },
   "outputs": [],
   "source": [
    "%%mytutor -h 450\n",
    "def fibonacci_sequence(Fn, Fn1, stop):\n",
    "    '''Return a generator that generates Fibonacci numbers\n",
    "    starting from Fn and Fn1 until stop (exclusive).'''\n",
    "    while Fn < stop:\n",
    "        yield Fn  # return Fn and pause execution\n",
    "        Fn, Fn1 = Fn1, Fn1 + Fn\n",
    "\n",
    "\n",
    "for fib in fibonacci_sequence(0, 1, 5):\n",
    "    print(fib)"
   ]
  },
  {
   "cell_type": "markdown",
   "metadata": {
    "slideshow": {
     "slide_type": "fragment"
    }
   },
   "source": [
    "1. `yield` causes the function to return a *generator* without executing the function body.\n",
    "1. Calling `__next__` resumes the execution, which \n",
    "    - pauses at the next `yield` expression, or\n",
    "    - raises the `StopIterationException` at the end."
   ]
  },
  {
   "cell_type": "markdown",
   "metadata": {},
   "source": [
    "### A short Summary  (more information in Chapter 8.8)\n",
    "1. what's a generator\n",
    "   - A generator is a programming object that produces (that is, generates) a sequence of values\n",
    "2. How to create a generator\n",
    "    - using `(iterable object)`\n",
    "    - use `yield` expression\n",
    "3. How to obtain the elements in generator?\n",
    "    - use `next()`\n",
    "    - use `for` loop"
   ]
  },
  {
   "cell_type": "markdown",
   "metadata": {
    "slideshow": {
     "slide_type": "slide"
    }
   },
   "source": [
    "## Optional Arguments"
   ]
  },
  {
   "cell_type": "markdown",
   "metadata": {},
   "source": [
    "**How to make function arguments optional?**\n",
    "\n",
    "`Argument` is a value passed to a function (or method) when calling the function. There are two types of arguments.\n",
    "- keyword argument (keyword-based): an argument preceded by an identifier (e.g. name=) in a function call:\n",
    "   - complex(real=3, imag=5) will produce a complex number 3+5i\n",
    "\n",
    "- positional argument (position-based): an argument that is not a keyword argument. \n",
    "   - complex(3, 5) will produce a complex number 3+5i\n"
   ]
  },
  {
   "cell_type": "code",
   "execution_count": null,
   "metadata": {
    "ExecuteTime": {
     "end_time": "2021-02-26T04:39:23.515531Z",
     "start_time": "2021-02-26T04:39:23.512748Z"
    }
   },
   "outputs": [],
   "source": [
    "def fibonacci_sequence(Fn=0, Fn1=1, stop=None):\n",
    "    while stop is None or Fn < stop:\n",
    "        value = yield Fn\n",
    "        Fn, Fn1 = Fn1, Fn1 + Fn"
   ]
  },
  {
   "cell_type": "code",
   "execution_count": null,
   "metadata": {
    "ExecuteTime": {
     "end_time": "2021-02-26T04:39:24.500380Z",
     "start_time": "2021-02-26T04:39:24.497180Z"
    }
   },
   "outputs": [],
   "source": [
    "for fib in fibonacci_sequence(0,1,5):\n",
    "    print(fib)  # with all arguments specified"
   ]
  },
  {
   "cell_type": "code",
   "execution_count": null,
   "metadata": {
    "ExecuteTime": {
     "end_time": "2021-02-26T04:39:26.708461Z",
     "start_time": "2021-02-26T04:39:26.705304Z"
    }
   },
   "outputs": [],
   "source": [
    "for fib in fibonacci_sequence(stop=5):\n",
    "    print(fib)  # with default Fn=0, Fn1=1"
   ]
  },
  {
   "cell_type": "markdown",
   "metadata": {
    "slideshow": {
     "slide_type": "fragment"
    }
   },
   "source": [
    "`stop=5` is called a [keyword argument](https://docs.python.org/3/glossary.html#term-keyword-argument). Unlike `positional arguments`, it specifies the name of the argument explicitly."
   ]
  },
  {
   "cell_type": "markdown",
   "metadata": {},
   "source": [
    "There's another way to classify arguments:\n",
    "- `Required arguments` are arguments that must passed to the function.\n",
    "- `Optional arguments` are arguments that can be not passed to the function. In python optional arguments are arguments that have a default value, also called `default argument`.\n",
    "\n",
    "What does default argument mean?\n",
    "- it means you define a default value for it. When you call a function, if you don't pass data to it, it will use its default value. See example below."
   ]
  },
  {
   "cell_type": "code",
   "execution_count": null,
   "metadata": {
    "ExecuteTime": {
     "end_time": "2021-02-26T04:36:20.501656Z",
     "start_time": "2021-02-26T04:36:20.496455Z"
    }
   },
   "outputs": [],
   "source": [
    "def calculate_sum(x,y=5): # x is a required argument, but y is optional argument, if you don't pass any data to y, it will use its default value 5\n",
    "    return x+y\n",
    "\n",
    "print(calculate_sum(1,8))  #when we call this function, we can pass two parameters to it\n",
    "print(calculate_sum(1))    #we can also assign one parameter, in this case, 1 will be passed to x\n",
    "print(calculate_sum(x=1,y=8)) #we can also pass data to keywords\n",
    "print(calculate_sum(x=1))      "
   ]
  },
  {
   "cell_type": "markdown",
   "metadata": {
    "slideshow": {
     "slide_type": "subslide"
    }
   },
   "source": [
    "Rules for specifying arguments:\n",
    "1. Keyword arguments must be after all positional arguments.\n",
    "   - fibonacci_sequence(1, stop=10) is correct, but fibonacci_sequence(stop=10, 1) is wrong.\n",
    "1. Duplicate assignments to an argument are not allowed.\n",
    "   - you cannot pass a value to an argument based on its position, then pass a value to an argument based on the keyword\n",
    "   - fibonacci_sequence(1, Fn=1)  is wrong because 1 is positional argument assigned to Fn, then you assign another value to Fn using its keyword"
   ]
  },
  {
   "cell_type": "markdown",
   "metadata": {
    "slideshow": {
     "slide_type": "fragment"
    }
   },
   "source": [
    "E.g., the following results in error:"
   ]
  },
  {
   "cell_type": "code",
   "execution_count": null,
   "metadata": {
    "ExecuteTime": {
     "end_time": "2021-02-26T04:40:11.648733Z",
     "start_time": "2021-02-26T04:40:11.642398Z"
    },
    "slideshow": {
     "slide_type": "-"
    }
   },
   "outputs": [],
   "source": [
    "fibonacci_sequence(stop=10,1) #should be fibonacci_sequence(1,stop=10) "
   ]
  },
  {
   "cell_type": "code",
   "execution_count": null,
   "metadata": {
    "ExecuteTime": {
     "end_time": "2021-02-26T04:39:50.056002Z",
     "start_time": "2021-02-26T04:39:50.049482Z"
    },
    "slideshow": {
     "slide_type": "-"
    }
   },
   "outputs": [],
   "source": [
    "fibonacci_sequence(1, Fn=1) #Fn is assigned multiple times "
   ]
  },
  {
   "cell_type": "markdown",
   "metadata": {
    "slideshow": {
     "slide_type": "subslide"
    }
   },
   "source": [
    "Let's use function `range()` to illustrate.\n",
    "- range(start, end, step). It has three parameters.\n",
    "\n",
    "The following shows that the behavior of `range` is different."
   ]
  },
  {
   "cell_type": "code",
   "execution_count": null,
   "metadata": {
    "ExecuteTime": {
     "end_time": "2021-02-26T04:41:24.870733Z",
     "start_time": "2021-02-26T04:41:24.859021Z"
    },
    "slideshow": {
     "slide_type": "fragment"
    }
   },
   "outputs": [],
   "source": [
    "for count in range(1, 10, 2):\n",
    "    print(count, end=' ')  # counts from 1 to 10 in steps of 2\n",
    "    \n",
    "print()\n",
    "\n",
    "for count in range(1, 10):\n",
    "    print(count, end=' ')  # default step=1\n",
    "    \n",
    "print()\n",
    "\n",
    "for count in range(10):\n",
    "    print(count, end=' ')  # default start=0, step=1\n",
    "range(stop=10)  # fails"
   ]
  },
  {
   "cell_type": "markdown",
   "metadata": {
    "slideshow": {
     "slide_type": "fragment"
    }
   },
   "source": [
    "`range` takes only positional arguments.  \n",
    "However, the first positional argument has different intepretations (`start` or `stop`) depending on the number of arguments (2 or 1).\n",
    "- in `range(1, 10)`, the first parameter means the starting number\n",
    "- in `range(10)`, the first parameter means the ending number"
   ]
  },
  {
   "cell_type": "markdown",
   "metadata": {
    "slideshow": {
     "slide_type": "fragment"
    }
   },
   "source": [
    "`range` is indeed NOT a generator."
   ]
  },
  {
   "cell_type": "code",
   "execution_count": null,
   "metadata": {
    "ExecuteTime": {
     "end_time": "2020-10-18T02:49:10.389227Z",
     "start_time": "2020-10-18T02:49:10.364578Z"
    },
    "jupyter": {
     "outputs_hidden": true
    },
    "slideshow": {
     "slide_type": "fragment"
    }
   },
   "outputs": [],
   "source": [
    "fibonacci_generator = (fibonacci_iteration(n) for n in range(5))\n",
    "print(type(fibonacci_generator))\n",
    "print(type(range),type(range(10)))"
   ]
  },
  {
   "cell_type": "markdown",
   "metadata": {
    "ExecuteTime": {
     "end_time": "2020-10-18T02:47:59.386923Z",
     "start_time": "2020-10-18T02:47:59.349970Z"
    }
   },
   "source": [
    "The expression range(0, 10) does not return a generator object but instead creates and returns a range\n",
    "object. Furthermore, the interative sequence shows that range is not a function at all; it is a class.\n",
    "\n",
    "No need to go further. For more explanation, you can read page 284 in reference book."
   ]
  },
  {
   "cell_type": "markdown",
   "metadata": {},
   "source": [
    "**A short summary** (chapter 8.2)\n",
    "* what is keyword argument and positional argument, how they work\n",
    "* What is required argument and optional argument.\n",
    "* range() is a class. Although both `generator` and `range()` produce a sequence of values. `range()` will generate a range object, but `generator` will generate a generator object."
   ]
  },
  {
   "cell_type": "markdown",
   "metadata": {
    "slideshow": {
     "slide_type": "subslide"
    }
   },
   "source": [
    "## Variable number of arguments"
   ]
  },
  {
   "cell_type": "markdown",
   "metadata": {
    "slideshow": {
     "slide_type": "fragment"
    }
   },
   "source": [
    "**Can we call a function with an arbitrary number of arguments**\n",
    "\n",
    "Yes, we can pass a variable number of arguments to a function using special symbols. There are two special symbols to use:\n",
    "\n",
    "1. *args (Non-Keyword Arguments)\n",
    "   - `args` is a tuple of positional arguments.\n",
    "2. **kwargs (Keyword Arguments)\n",
    "   - `kwargs` is a dictionary of keyword arguments.\n",
    "   \n",
    "`*` and `**` are *unpacking operators* for tuple/list and dictionary respectively:\n",
    "\n",
    "Tuple, list and dictionary are new data types which will be introduced in later lectures. See example below."
   ]
  },
  {
   "cell_type": "code",
   "execution_count": null,
   "metadata": {
    "ExecuteTime": {
     "end_time": "2021-02-26T04:49:37.129326Z",
     "start_time": "2021-02-26T04:49:37.126094Z"
    }
   },
   "outputs": [],
   "source": [
    "args = (0, 10, 2) #this is a tuple\n",
    "kwargs = {'start': 1, 'stop': 2,'keyword': 6} #this is a dictionary\n",
    "#start-->1 keyword=6\n",
    "#stop-->2\n",
    "print(args)\n",
    "print(kwargs)"
   ]
  },
  {
   "cell_type": "markdown",
   "metadata": {
    "ExecuteTime": {
     "end_time": "2020-10-18T03:18:28.485677Z",
     "start_time": "2020-10-18T03:18:28.421105Z"
    }
   },
   "source": [
    "***args**\n",
    "\n",
    "The special syntax `*args` in function definitions in python is used to pass a variable number of arguments to a function. It is used to pass a non-key worded, variable-length argument list. \n",
    "\n",
    "- The syntax is to use the symbol * to take in a variable number of arguments; by convention, it is often used with the word `args`.\n",
    "- What `*args` allows you to do is take in more arguments than the number of formal arguments that you previously defined.\n",
    "- Using the *, the variable that we associate with the * becomes an iterable meaning you can do things like iterate over it."
   ]
  },
  {
   "cell_type": "code",
   "execution_count": null,
   "metadata": {
    "ExecuteTime": {
     "end_time": "2021-02-26T04:50:54.715704Z",
     "start_time": "2021-02-26T04:50:54.710560Z"
    }
   },
   "outputs": [],
   "source": [
    "# Python program to illustrate *args for variable number of arguments\n",
    "def myFun(*args): \n",
    "    for arg in args: \n",
    "        print (arg)\n",
    "\n",
    "myFun('Hello', 'Welcome', 'to', 'CS1302',5,10) "
   ]
  },
  {
   "cell_type": "markdown",
   "metadata": {},
   "source": [
    "****kwargs**\n",
    "\n",
    "The special syntax **kwargs in function definitions in python is used to pass a keyworded, variable-length argument list. We use the name kwargs with the double star. The reason is because the double star allows us to pass through keyword arguments (and any number of them).\n",
    "\n",
    "One can think of the kwargs as being a dictionary that maps each keyword to the value that we pass alongside it. That is why when we iterate over the kwargs there doesn’t seem to be any order in which they were printed out."
   ]
  },
  {
   "cell_type": "code",
   "execution_count": null,
   "metadata": {
    "ExecuteTime": {
     "end_time": "2021-02-25T13:28:26.565522Z",
     "start_time": "2021-02-25T13:28:26.561946Z"
    }
   },
   "outputs": [],
   "source": [
    "# Python program to illustrate \n",
    "# **kwargs for variable number of keyword arguments\n",
    "\n",
    "def myFun(**kwargs): \n",
    "    for key, value in kwargs.items():\n",
    "        print (\"%s == %s\" %(key, value))\n",
    "\n",
    "#we assign three values to three keyword arguments\n",
    "# first ='Geeks', mid ='for', last='Geeks' will be passed to **kwargs\n",
    "# **kwargs will automatically map each value to each keyword\n",
    "# first-->'Geeks'\n",
    "# mid-->'for'\n",
    "# last-->'Geeks'\n",
    "myFun(first ='Geeks', mid ='for', last='Geeks') "
   ]
  },
  {
   "cell_type": "code",
   "execution_count": null,
   "metadata": {
    "ExecuteTime": {
     "end_time": "2021-02-26T04:51:16.813100Z",
     "start_time": "2021-02-26T04:51:16.806391Z"
    },
    "slideshow": {
     "slide_type": "fragment"
    }
   },
   "outputs": [],
   "source": [
    "#this example shows how to combine *args and **kwargs together in a function\n",
    "def print_arguments(*args, **kwargs):  \n",
    "    '''Take any number of arguments and prints them'''\n",
    "    print('args ({}): {}'.format(type(args),args))\n",
    "    print('kwargs ({}): {}'.format(type(kwargs),kwargs))\n",
    "\n",
    "print_arguments(0, start=1, stop=2)\n",
    "print_arguments(0, 10, 2, start=1, stop=2)\n",
    "print_arguments(0, 10, start=1)"
   ]
  },
  {
   "cell_type": "markdown",
   "metadata": {},
   "source": [
    "The following function converts all the arguments to a string.\n",
    "It is used later in this lecture."
   ]
  },
  {
   "cell_type": "code",
   "execution_count": null,
   "metadata": {
    "ExecuteTime": {
     "end_time": "2020-10-29T01:02:53.949139Z",
     "start_time": "2020-10-29T01:02:53.938942Z"
    },
    "slideshow": {
     "slide_type": "fragment"
    }
   },
   "outputs": [],
   "source": [
    "def argument_string(*args, **kwargs):\n",
    "    '''Return the string representation of the list of arguments.'''\n",
    "    return '({})'.format(', '.join([\n",
    "        *['{}'.format(v) for v in args],  # arguments\n",
    "        *['{}={}'.format(k, v)\n",
    "          for k, v in kwargs.items()]  # keyword arguments\n",
    "    ]))\n",
    "\n",
    "argument_string(0, 10, 2, start=1, stop=2)"
   ]
  },
  {
   "cell_type": "markdown",
   "metadata": {
    "slideshow": {
     "slide_type": "subslide"
    }
   },
   "source": [
    "**Exercise** Redefine `fibonacci_sequence` so that the positional arguments depend on the number of arguments:"
   ]
  },
  {
   "cell_type": "code",
   "execution_count": null,
   "metadata": {
    "ExecuteTime": {
     "end_time": "2021-02-26T04:51:39.083510Z",
     "start_time": "2021-02-26T04:51:39.077822Z"
    },
    "code_folding": [
     19
    ],
    "deletable": false,
    "nbgrader": {
     "cell_type": "code",
     "checksum": "a59d5bab4c1f2229305fd8ab8189ce57",
     "grade": false,
     "grade_id": "optional",
     "locked": false,
     "schema_version": 3,
     "solution": true,
     "task": false
    },
    "slideshow": {
     "slide_type": "-"
    }
   },
   "outputs": [],
   "source": [
    "def fibonacci_sequence(*args):\n",
    "    '''Return a generator that generates Fibonacci numbers\n",
    "    starting from Fn and Fn1 to stop (exclusive). \n",
    "    generator.send(value) sets next number to value.\n",
    "    \n",
    "    fibonacci_sequence(stop)\n",
    "    fibonacci_sequence(Fn,Fn1)\n",
    "    fibonacci_sequence(Fn,Fn1,stop)\n",
    "    '''\n",
    "    Fn, Fn1, stop = 0, 1, None  # default values\n",
    "\n",
    "    # handle different number of arguments\n",
    "    if len(args) is 1:\n",
    "        # YOUR CODE HERE\n",
    "        raise NotImplementedError()\n",
    "    elif len(args) is 2:\n",
    "        Fn, Fn1 = args[0], args[1]\n",
    "    elif len(args) > 2:\n",
    "        Fn, Fn1, stop = args[0], args[1], args[2]\n",
    "    \n",
    "    while stop is None or Fn < stop:\n",
    "        value = yield Fn\n",
    "        if value is not None: \n",
    "            Fn1 = value  # set next number to the value of yield expression\n",
    "        Fn, Fn1 = Fn1, Fn1 + Fn"
   ]
  },
  {
   "cell_type": "code",
   "execution_count": null,
   "metadata": {
    "ExecuteTime": {
     "end_time": "2021-02-26T04:51:42.796814Z",
     "start_time": "2021-02-26T04:51:42.790424Z"
    },
    "slideshow": {
     "slide_type": "fragment"
    }
   },
   "outputs": [],
   "source": [
    "for fib in fibonacci_sequence(5): # default Fn=0, Fn1=1\n",
    "    print(fib)"
   ]
  },
  {
   "cell_type": "code",
   "execution_count": null,
   "metadata": {
    "ExecuteTime": {
     "end_time": "2021-02-26T04:51:46.782028Z",
     "start_time": "2021-02-26T04:51:46.774790Z"
    },
    "slideshow": {
     "slide_type": "fragment"
    }
   },
   "outputs": [],
   "source": [
    "for fib in fibonacci_sequence(1, 2): # default stop=None\n",
    "    print(fib)  \n",
    "    if fib>5:\n",
    "        break"
   ]
  },
  {
   "cell_type": "code",
   "execution_count": null,
   "metadata": {
    "ExecuteTime": {
     "end_time": "2021-02-26T04:51:49.617546Z",
     "start_time": "2021-02-26T04:51:49.613923Z"
    },
    "slideshow": {
     "slide_type": "fragment"
    }
   },
   "outputs": [],
   "source": [
    "args = (1, 2, 5)\n",
    "for fib in fibonacci_sequence(*args): # default stop=None\n",
    "    print(fib) "
   ]
  },
  {
   "cell_type": "markdown",
   "metadata": {},
   "source": [
    "**A short summary**\n",
    "\n",
    "Know how to use \\*args and \\**kwargs to pass an arbitrary number of arguments to a function"
   ]
  },
  {
   "cell_type": "markdown",
   "metadata": {
    "slideshow": {
     "slide_type": "slide"
    }
   },
   "source": [
    "## Decorator (chapter 8.10 in reference book)"
   ]
  },
  {
   "cell_type": "markdown",
   "metadata": {
    "slideshow": {
     "slide_type": "subslide"
    }
   },
   "source": [
    "**What is function decoration?**  \n",
    "\n",
    "By definition, a decorator is a function that takes another function and extends the behavior of the latter function without explicitly modifying it.\n",
    "\n",
    "**Why decorate a function?**\n",
    "\n",
    "Decorators are very powerful and useful tool in Python since it allows programmers to extend the behavior of function without permanently modifying it"
   ]
  },
  {
   "cell_type": "code",
   "execution_count": null,
   "metadata": {
    "ExecuteTime": {
     "end_time": "2020-10-29T02:04:19.910076Z",
     "start_time": "2020-10-29T02:04:19.499269Z"
    }
   },
   "outputs": [],
   "source": [
    "#this example is created by Weitao cause I think we can use this simple example to understand how decorator works.\n",
    "import time\n",
    "import functools\n",
    "\n",
    "#the following code is a decorator template\n",
    "#a decorator is also a function. It's a function wraps another function\n",
    "def my_decorator(func):\n",
    "    @functools.wraps(func)\n",
    "    def wrapper(*args, **kwargs):\n",
    "        # Do something before\n",
    "        t1=time.time()\n",
    "        #add new features\n",
    "        value = func(*args, **kwargs)\n",
    "        # Do something after\n",
    "        t2=time.time()\n",
    "        print('Running time:',t2-t1)  #decoration code\n",
    "        \n",
    "        return value\n",
    "        \n",
    "    return wrapper\n",
    "\n",
    "def is_prime(num):\n",
    "    if num<2:\n",
    "        return False\n",
    "    elif num==2:\n",
    "        return True\n",
    "    else:\n",
    "        for i in range(2,num):\n",
    "            if num%i ==0:\n",
    "                return False\n",
    "        return True\n",
    "    \n",
    "@my_decorator               #@my_decorator is just an easier way of saying count_prime_nums = my_decorator(count_prime_nums)\n",
    "def count_prime_nums(x,y):\n",
    "    count=0\n",
    "    for i in range(x,y):\n",
    "        if is_prime(i):\n",
    "            count+=1  \n",
    "    \n",
    "    return count\n",
    "\n",
    "\n",
    "#result=count_prime_nums()\n",
    "#print(result)\n",
    "\n",
    "#count_prime_nums=my_decorator(count_prime_nums)  #use my_decorator to decorate count_prime_nums\n",
    "#count_prime_nums()\n",
    "\n",
    "count_prime_nums(2,10000)  #if we use @my_decorator, we can call this function directly"
   ]
  },
  {
   "cell_type": "markdown",
   "metadata": {
    "slideshow": {
     "slide_type": "fragment"
    }
   },
   "source": [
    "More reference\n",
    "- A tutorial on decorator can be found [here](https://realpython.com/primer-on-python-decorators/). If you understand this tutorial, you can skip the rest part.\n",
    "- The above example is actually from this [tutorial](https://www.youtube.com/watch?v=r7Dtus7N4pI)"
   ]
  },
  {
   "cell_type": "markdown",
   "metadata": {
    "slideshow": {
     "slide_type": "fragment"
    }
   },
   "source": [
    "**Why use a variable number of arguments in `wrapper`**"
   ]
  },
  {
   "cell_type": "markdown",
   "metadata": {
    "slideshow": {
     "slide_type": "fragment"
    }
   },
   "source": [
    "To decorate any function with possibly different number of arguments."
   ]
  },
  {
   "cell_type": "markdown",
   "metadata": {
    "slideshow": {
     "slide_type": "subslide"
    }
   },
   "source": [
    "**Why decorate the wrapper with `@functools.wraps(f)`?**"
   ]
  },
  {
   "cell_type": "markdown",
   "metadata": {
    "slideshow": {
     "slide_type": "fragment"
    }
   },
   "source": [
    "- Ensures some attributes (such as `__name__`) of the wrapper function is the same as those of `f`.\n",
    "- Add useful attributes. E.g., `__wrapped__` stores the original function so we can undo the decoration.\n"
   ]
  },
  {
   "cell_type": "markdown",
   "metadata": {
    "slideshow": {
     "slide_type": "fragment"
    }
   },
   "source": [
    "**Lambda expression**  \n",
    "`lambda <argument list> : <expression>`is called a [*lambda* expression](https://docs.python.org/3/reference/expressions.html#lambda), which conveniently defines an *anonymous function*."
   ]
  },
  {
   "cell_type": "code",
   "execution_count": null,
   "metadata": {
    "ExecuteTime": {
     "end_time": "2020-10-19T14:37:23.484852Z",
     "start_time": "2020-10-19T14:37:23.407472Z"
    }
   },
   "outputs": [],
   "source": [
    "#this example shows how a lambda expression works\n",
    "\n",
    "add= lambda x,y:x+y\n",
    "\n",
    "print(add(2,3)) # 2+3\n",
    "\n",
    "#add= lambda x,y:x+y is equivalent to define a function below\n",
    "\n",
    "def add(x,y):\n",
    "    return x+y"
   ]
  },
  {
   "cell_type": "markdown",
   "metadata": {},
   "source": [
    "**A short summary**\n",
    "1. what is decorator\n",
    "2. How to use decorator\n",
    "3. Lambda expression"
   ]
  },
  {
   "cell_type": "markdown",
   "metadata": {
    "slideshow": {
     "slide_type": "slide"
    }
   },
   "source": [
    "## Module"
   ]
  },
  {
   "cell_type": "markdown",
   "metadata": {
    "slideshow": {
     "slide_type": "subslide"
    }
   },
   "source": [
    "**How to create a module?**"
   ]
  },
  {
   "cell_type": "markdown",
   "metadata": {
    "slideshow": {
     "slide_type": "fragment"
    }
   },
   "source": [
    "To create a module, simply put the code in a python source file `<module name>.py` in\n",
    "- the current directory, or\n",
    "- a python *site-packages* directory in system path."
   ]
  },
  {
   "cell_type": "code",
   "execution_count": null,
   "metadata": {
    "ExecuteTime": {
     "end_time": "2021-02-26T04:55:55.740206Z",
     "start_time": "2021-02-26T04:55:55.735940Z"
    },
    "slideshow": {
     "slide_type": "-"
    }
   },
   "outputs": [],
   "source": [
    "import sys\n",
    "print(sys.path)"
   ]
  },
  {
   "cell_type": "markdown",
   "metadata": {
    "slideshow": {
     "slide_type": "subslide"
    }
   },
   "source": [
    "For example, to create a module for generating Fibonacci numbers:"
   ]
  },
  {
   "cell_type": "code",
   "execution_count": null,
   "metadata": {
    "ExecuteTime": {
     "end_time": "2021-02-26T08:23:05.444727Z",
     "start_time": "2021-02-26T08:23:05.440359Z"
    },
    "slideshow": {
     "slide_type": "-"
    }
   },
   "outputs": [],
   "source": [
    "%more fibonacci.py"
   ]
  },
  {
   "cell_type": "code",
   "execution_count": null,
   "metadata": {
    "ExecuteTime": {
     "end_time": "2021-02-26T04:56:24.058289Z",
     "start_time": "2021-02-26T04:56:24.047762Z"
    },
    "slideshow": {
     "slide_type": "-"
    }
   },
   "outputs": [],
   "source": [
    "import fibonacci as fib # as statement shortens name\n",
    "help(fib)"
   ]
  },
  {
   "cell_type": "code",
   "execution_count": null,
   "metadata": {
    "ExecuteTime": {
     "end_time": "2021-02-26T04:56:27.699505Z",
     "start_time": "2021-02-26T04:56:27.696428Z"
    },
    "slideshow": {
     "slide_type": "-"
    }
   },
   "outputs": [],
   "source": [
    "print(fib.fibonacci(5))\n",
    "print(fib.fibonacci_iteration(5))"
   ]
  },
  {
   "cell_type": "code",
   "execution_count": null,
   "metadata": {},
   "outputs": [],
   "source": []
  }
 ],
 "metadata": {
  "kernelspec": {
   "display_name": "Python 3.7",
   "language": "python",
   "name": "python3"
  },
  "language_info": {
   "codemirror_mode": {
    "name": "ipython",
    "version": 3
   },
   "file_extension": ".py",
   "mimetype": "text/x-python",
   "name": "python",
   "nbconvert_exporter": "python",
   "pygments_lexer": "ipython3",
   "version": "3.7.9"
  },
  "latex_envs": {
   "LaTeX_envs_menu_present": true,
   "autoclose": false,
   "autocomplete": true,
   "bibliofile": "biblio.bib",
   "cite_by": "apalike",
   "current_citInitial": 1,
   "eqLabelWithNumbers": true,
   "eqNumInitial": 1,
   "hotkeys": {
    "equation": "Ctrl-E",
    "itemize": "Ctrl-I"
   },
   "labels_anchors": false,
   "latex_user_defs": false,
   "report_style_numbering": false,
   "user_envs_cfg": false
  },
  "rise": {
   "enable_chalkboard": true,
   "scroll": true,
   "theme": "white"
  },
  "toc": {
   "base_numbering": 1,
   "nav_menu": {
    "height": "195px",
    "width": "330px"
   },
   "number_sections": true,
   "sideBar": true,
   "skip_h1_title": true,
   "title_cell": "Table of Contents",
   "title_sidebar": "Contents",
   "toc_cell": false,
   "toc_position": {
    "height": "454.418px",
    "left": "1533px",
    "top": "110.284px",
    "width": "261px"
   },
   "toc_section_display": true,
   "toc_window_display": false
  }
 },
 "nbformat": 4,
 "nbformat_minor": 4
}

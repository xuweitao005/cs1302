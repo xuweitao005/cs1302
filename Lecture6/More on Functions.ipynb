{
 "cells": [
  {
   "cell_type": "markdown",
   "metadata": {
    "cell_style": "center",
    "slideshow": {
     "slide_type": "slide"
    }
   },
   "source": [
    "# More on Functions\n",
    "**CS1302 Introduction to Computer Programming**\n",
    "___"
   ]
  },
  {
   "cell_type": "code",
   "execution_count": 1,
   "metadata": {
    "ExecuteTime": {
     "end_time": "2021-03-10T11:13:30.801443Z",
     "start_time": "2021-03-10T11:13:30.719023Z"
    },
    "code_folding": [],
    "hide_input": true,
    "init_cell": true,
    "slideshow": {
     "slide_type": "skip"
    }
   },
   "outputs": [],
   "source": [
    "# set up environment\n",
    "%reset -f\n",
    "import sys\n",
    "cs1302_site_packages = '/home/course/cs1302/site-packages'\n",
    "if cs1302_site_packages not in sys.path:\n",
    "    sys.path.append(cs1302_site_packages)\n",
    "%reload_ext mytutor"
   ]
  },
  {
   "cell_type": "code",
   "execution_count": 2,
   "metadata": {
    "ExecuteTime": {
     "end_time": "2021-03-10T11:13:30.818378Z",
     "start_time": "2021-03-10T11:13:30.804821Z"
    },
    "hide_input": true,
    "init_cell": true
   },
   "outputs": [
    {
     "data": {
      "application/javascript": [
       "let li = document.querySelectorAll(\".text_cell_render li:not(:first-child)\");\n",
       "for (let i=0;i<li.length; i++) {\n",
       "    li[i].classList.add(\"fragment\")\n",
       "}\n"
      ],
      "text/plain": [
       "<IPython.core.display.Javascript object>"
      ]
     },
     "metadata": {},
     "output_type": "display_data"
    }
   ],
   "source": [
    "%%javascript\n",
    "let li = document.querySelectorAll(\".text_cell_render li:not(:first-child)\");\n",
    "for (let i=0;i<li.length; i++) {\n",
    "    li[i].classList.add(\"fragment\")\n",
    "}"
   ]
  },
  {
   "cell_type": "markdown",
   "metadata": {
    "ExecuteTime": {
     "end_time": "2020-10-17T02:07:52.385258Z",
     "start_time": "2020-10-17T02:07:52.311358Z"
    }
   },
   "source": [
    "Content\n",
    "* Recursion\n",
    "* Global variables\n",
    "* Generator\n",
    "* Optional arguments\n",
    "* Variable number of arguments\n",
    "* Decorator\n",
    "* Module\n",
    "\n",
    "ps. This lecture introduces some advanced topics and thus is more difficult than previous ones."
   ]
  },
  {
   "cell_type": "markdown",
   "metadata": {
    "slideshow": {
     "slide_type": "slide"
    }
   },
   "source": [
    "## Recursion"
   ]
  },
  {
   "cell_type": "markdown",
   "metadata": {
    "slideshow": {
     "slide_type": "fragment"
    }
   },
   "source": [
    "Fibonacci number:\n",
    "0, 1, 1, 2, 3, 5, 8, 13, 21,....\n",
    "\n",
    "Consider computing the [Fibonacci number](https://en.wikipedia.org/wiki/Fibonacci_number) of order $n$:\n",
    "$$\n",
    "F_n := \n",
    "\\begin{cases}\n",
    "F_{n-1}+F_{n-2} & n>1 \\kern1em \\text{(recurrence)}\\\\\n",
    "1 & n=1 \\kern1em \\text{(base case)}\\\\\n",
    "0 & n=0 \\kern1em \\text{(base case)}.\n",
    "\\end{cases}$$\n",
    "Fibonacci numbers have practical applications in generating [pseudorandom numbers](https://en.wikipedia.org/wiki/Lagged_Fibonacci_generator)."
   ]
  },
  {
   "cell_type": "markdown",
   "metadata": {
    "slideshow": {
     "slide_type": "subslide"
    }
   },
   "source": [
    "**Can we define the function by calling the function itself?**\n",
    "\n",
    "[*Recursion*](https://en.wikipedia.org/wiki/Recursion_(computer_science)) is a function that calls itself (*recurs*).\n",
    "\n",
    "To be more specific, recursion is a method of solving a problem where the solution depends on solutions to smaller instances of the same problem"
   ]
  },
  {
   "cell_type": "code",
   "execution_count": 5,
   "metadata": {
    "ExecuteTime": {
     "end_time": "2020-10-19T04:36:18.270629Z",
     "start_time": "2020-10-19T04:36:18.257323Z"
    },
    "code_folding": [],
    "jupyter": {
     "outputs_hidden": true
    },
    "slideshow": {
     "slide_type": "fragment"
    }
   },
   "outputs": [
    {
     "data": {
      "text/plain": [
       "1"
      ]
     },
     "execution_count": 5,
     "metadata": {},
     "output_type": "execute_result"
    },
    {
     "data": {
      "text/html": [
       "\n",
       "        <iframe\n",
       "            width=\"1100\"\n",
       "            height=\"450\"\n",
       "            src=\"https://e-quiz.cs.cityu.edu.hk/opt/cs1302visualize.html#mode=display&code=def%20fibonacci%28n%29%3A%0A%20%20%20%20if%20n%20%3E%201%3A%0A%20%20%20%20%20%20%20%20return%20fibonacci%28n%20-%201%29%20%2B%20fibonacci%28n%20-%202%29%20%20%23%20recursion%0A%20%20%20%20elif%20n%20is%201%3A%0A%20%20%20%20%20%20%20%20return%201%0A%20%20%20%20else%3A%0A%20%20%20%20%20%20%20%20return%200%0A%0Afibonacci%282%29%0A\"\n",
       "            frameborder=\"0\"\n",
       "            allowfullscreen\n",
       "        ></iframe>\n",
       "        "
      ],
      "text/plain": [
       "<IPython.lib.display.IFrame at 0x7fa4098aa450>"
      ]
     },
     "metadata": {},
     "output_type": "display_data"
    }
   ],
   "source": [
    "%%mytutor -r -h 450\n",
    "def fibonacci(n):\n",
    "    if n > 1:\n",
    "        return fibonacci(n - 1) + fibonacci(n - 2)  # recursion\n",
    "    elif n is 1:\n",
    "        return 1\n",
    "    else:\n",
    "        return 0\n",
    "\n",
    "fibonacci(2)"
   ]
  },
  {
   "cell_type": "markdown",
   "metadata": {
    "slideshow": {
     "slide_type": "subslide"
    }
   },
   "source": [
    "**Exercise** Write a function `gcd` that implements the [Euclidean algorithm for the greatest common divisor](https://en.wikipedia.org/wiki/Euclidean_algorithm): \n",
    "$$\\operatorname{gcd}(a,b)=\\begin{cases}a & b=0\\\\ \\operatorname{gcd}(b, a\\operatorname{mod}b) & \\text{otherwise} \\end{cases}$$"
   ]
  },
  {
   "cell_type": "code",
   "execution_count": 7,
   "metadata": {
    "ExecuteTime": {
     "end_time": "2020-10-19T04:36:25.188959Z",
     "start_time": "2020-10-19T04:36:25.088703Z"
    },
    "deletable": false,
    "nbgrader": {
     "checksum": "ec4f43be2bfc949b381938650789fbd7",
     "grade": false,
     "grade_id": "gcd",
     "locked": false,
     "schema_version": 3,
     "solution": true,
     "task": false
    },
    "slideshow": {
     "slide_type": "-"
    }
   },
   "outputs": [
    {
     "data": {
      "text/plain": [
       "5"
      ]
     },
     "execution_count": 7,
     "metadata": {},
     "output_type": "execute_result"
    }
   ],
   "source": [
    "def gcd(a, b):\n",
    "    # YOUR CODE HERE\n",
    "    if b==0:\n",
    "        return a\n",
    "    else:\n",
    "        return gcd(b, a%b)\n",
    "\n",
    "\n",
    "gcd(3 * 5, 5 * 7)"
   ]
  },
  {
   "cell_type": "markdown",
   "metadata": {
    "slideshow": {
     "slide_type": "subslide"
    }
   },
   "source": [
    "**Is recursion strictly necessary?**  \n",
    "\n",
    "No. We can always convert a recursion to an iteration.  "
   ]
  },
  {
   "cell_type": "markdown",
   "metadata": {
    "slideshow": {
     "slide_type": "fragment"
    }
   },
   "source": [
    "E.g., the following computes the Fibonnacci number of order using a while loop instead."
   ]
  },
  {
   "cell_type": "code",
   "execution_count": null,
   "metadata": {
    "ExecuteTime": {
     "end_time": "2020-10-19T04:36:06.588543Z",
     "start_time": "2020-10-19T04:36:06.512571Z"
    },
    "slideshow": {
     "slide_type": "-"
    }
   },
   "outputs": [],
   "source": [
    "%%mytutor -r -h 550\n",
    "def fibonacci_iteration(n):\n",
    "    if n > 1:\n",
    "        x, y = 0, 1  # next two Fibonacci numbers\n",
    "        while n > 1:\n",
    "            x, y, n = y, x + y, n - 1 #equivalent to the code below\n",
    "            #x=y\n",
    "            #y=y+x\n",
    "            #n=n-1\n",
    "        return y\n",
    "    elif n is 1:\n",
    "        return 1\n",
    "    else:\n",
    "        return 0\n",
    "    \n",
    "fibonacci_iteration(3)"
   ]
  },
  {
   "cell_type": "markdown",
   "metadata": {},
   "source": [
    "Before we go on, we need to introduce a keyword `assert`\n",
    "- `assert` lets you test if a condition in your code returns True, if not, the program will raise an AssertionError."
   ]
  },
  {
   "cell_type": "code",
   "execution_count": null,
   "metadata": {
    "ExecuteTime": {
     "end_time": "2020-10-19T04:36:31.792470Z",
     "start_time": "2020-10-19T04:36:31.774152Z"
    }
   },
   "outputs": [],
   "source": [
    "x=5\n",
    "y=5\n",
    "z=6\n",
    "assert x==y   #system will not raise AssertionError because this condition x==y is True\n",
    "assert x==z   #system will raise AssertionError because this condition x==z is False"
   ]
  },
  {
   "cell_type": "code",
   "execution_count": null,
   "metadata": {
    "ExecuteTime": {
     "end_time": "2020-10-19T04:36:33.983334Z",
     "start_time": "2020-10-19T04:36:33.942843Z"
    }
   },
   "outputs": [],
   "source": [
    "# more tests\n",
    "# the code below check if the recursion and iteration can obtain the same results.\n",
    "for n in range(5):\n",
    "    assert fibonacci(n) == fibonacci_iteration(n)"
   ]
  },
  {
   "cell_type": "markdown",
   "metadata": {
    "slideshow": {
     "slide_type": "fragment"
    }
   },
   "source": [
    "From the above code, we can see both iteration and recursion can achieve the same purpose.\n",
    "\n",
    "**Exercise** Implement `gcd_iteration` using a while loop instead of a recursion."
   ]
  },
  {
   "cell_type": "code",
   "execution_count": null,
   "metadata": {
    "ExecuteTime": {
     "end_time": "2020-10-18T13:33:39.389991Z",
     "start_time": "2020-10-18T13:33:39.378608Z"
    },
    "code_folding": [],
    "deletable": false,
    "nbgrader": {
     "checksum": "fc3821267797bd414aba328661086269",
     "grade": false,
     "grade_id": "gcd_iteration",
     "locked": false,
     "schema_version": 3,
     "solution": true,
     "task": false
    },
    "slideshow": {
     "slide_type": "-"
    }
   },
   "outputs": [],
   "source": [
    "%%mytutor -r -h 550\n",
    "def gcd_iteration(a, b):\n",
    "    # YOUR CODE HERE\n",
    "    while b:\n",
    "        a, b = b, a % b\n",
    "    return a\n",
    "\n",
    "\n",
    "gcd_iteration(3 * 5, 5 * 7)"
   ]
  },
  {
   "cell_type": "markdown",
   "metadata": {
    "slideshow": {
     "slide_type": "subslide"
    }
   },
   "source": [
    "**Since recursion can be implemented by iteration, what is the benefit of recursion?**"
   ]
  },
  {
   "cell_type": "markdown",
   "metadata": {
    "slideshow": {
     "slide_type": "fragment"
    }
   },
   "source": [
    "- Recursion is often shorter and easier to understand.\n",
    "- It is also easier to write code by *wishful thinking* or *[declarative programming](https://en.wikipedia.org/wiki/Declarative_programming)*.\n",
    "\n",
    "declarative programming vs imperative programming (optional, more information [here](https://medium.com/@zach.gollwitzer/imperative-vs-declarative-programming-procedural-functional-and-oop-b03a53ba745c))\n",
    "- Declarative programming is a programming paradigm that expresses the logic of a computation without describing its control flow.\n",
    "   - it doesn't care about the details \n",
    "\n",
    "- Imperative programming is a programming paradigm that uses statements that change a program’s state.\n",
    "   - it cares about the details\n",
    "\n",
    "For example, suppose you're writing a program which builds a house\n",
    "- In declarative programming, I don’t care how you build it, but I want a nice fireplace, a lakefront view, and a big kitchen.\n",
    "- In imperative programming, I care about the details, I tell you how to\n",
    "   - Build the foundation\n",
    "   - Put in the framework\n",
    "   - Install the utilities\n",
    "   - Add the walls\n",
    "   - Finishing touches\n"
   ]
  },
  {
   "cell_type": "markdown",
   "metadata": {
    "slideshow": {
     "slide_type": "slide"
    }
   },
   "source": [
    "**Is recusion more efficient than iteration?**\n",
    "\n",
    "No, let's see the example below"
   ]
  },
  {
   "cell_type": "markdown",
   "metadata": {
    "slideshow": {
     "slide_type": "fragment"
    }
   },
   "source": [
    "**Exercise** Find the smallest values of `n` for`fibonacci(n)` and `fibonacci_iteration(n)` respectively to run for more than a second."
   ]
  },
  {
   "cell_type": "code",
   "execution_count": null,
   "metadata": {
    "ExecuteTime": {
     "end_time": "2020-10-17T03:10:40.277873Z",
     "start_time": "2020-10-17T03:10:38.736372Z"
    },
    "deletable": false,
    "jupyter": {
     "outputs_hidden": true
    },
    "nbgrader": {
     "checksum": "47118dd888b86b812797a7d047fa5545",
     "grade": false,
     "grade_id": "fib_recursion",
     "locked": false,
     "schema_version": 3,
     "solution": true,
     "task": false
    },
    "slideshow": {
     "slide_type": "fragment"
    }
   },
   "outputs": [],
   "source": [
    "# Assign n\n",
    "# YOUR CODE HERE   #when you run this cell, the kernel may stuck, so you'll see execution queued.\n",
    "n=33\n",
    "fib_recursion = fibonacci(n)"
   ]
  },
  {
   "cell_type": "code",
   "execution_count": null,
   "metadata": {
    "ExecuteTime": {
     "end_time": "2020-10-17T03:10:44.759556Z",
     "start_time": "2020-10-17T03:10:43.943109Z"
    },
    "deletable": false,
    "jupyter": {
     "outputs_hidden": true
    },
    "nbgrader": {
     "checksum": "54ed2d0d31c32682d0e4535517dc34a7",
     "grade": false,
     "grade_id": "fib_iteration",
     "locked": false,
     "schema_version": 3,
     "solution": true,
     "task": false
    },
    "slideshow": {
     "slide_type": "fragment"
    }
   },
   "outputs": [],
   "source": [
    "# Assign n\n",
    "# YOUR CODE HERE\n",
    "n=300000\n",
    "fib_iteration = fibonacci_iteration(n)"
   ]
  },
  {
   "cell_type": "markdown",
   "metadata": {
    "slideshow": {
     "slide_type": "fragment"
    }
   },
   "source": [
    "- If we use recursion to calculate fibonacci number, when n>33, it takes about a second\n",
    "\n",
    "- If we use iteration to calculate fibonacci number, when n>300000, it takes about 1 second\n",
    "\n",
    "- So, recursion is slower than iteration."
   ]
  },
  {
   "cell_type": "markdown",
   "metadata": {
    "slideshow": {
     "slide_type": "subslide"
    }
   },
   "source": [
    "To see why recursion is slow, we will modify `fibonacci` to print each function call as follows."
   ]
  },
  {
   "cell_type": "code",
   "execution_count": null,
   "metadata": {
    "ExecuteTime": {
     "end_time": "2020-10-19T02:14:01.390759Z",
     "start_time": "2020-10-19T02:14:01.297608Z"
    },
    "jupyter": {
     "outputs_hidden": true
    },
    "slideshow": {
     "slide_type": "fragment"
    }
   },
   "outputs": [],
   "source": [
    "#this function show how many functions are called in order to calculate fibonacci number of order n\n",
    "def fibonacci(n):\n",
    "    '''Returns the Fibonacci number of order n.'''\n",
    "    print('fibonacci({!r})'.format(n))  #everytime, we print the funtion called to calculate fibonacci(n)\n",
    "    return fibonacci(n - 1) + fibonacci(n - 2) if n > 1 else 1 if n is 1 else 0\n",
    "\n",
    "\n",
    "fibonacci(5)"
   ]
  },
  {
   "cell_type": "markdown",
   "metadata": {
    "slideshow": {
     "slide_type": "fragment"
    }
   },
   "source": [
    "`fibonacci(5)` calls `fibonacci(3)` and `fibonacci(4)`, which in turn call `fibonacci(2)` and `fibonacci(3)`. `fibonacci(3)` is called twice."
   ]
  },
  {
   "cell_type": "markdown",
   "metadata": {},
   "source": [
    "If recursion is not efficient, why we still need recursion?\n",
    "\n",
    "Even though the iterative version of the factorial function is technically more efficient than the recursive\n",
    "version, on most systems you could not tell the difference. The reason is the factorial function “grows” fast,\n",
    "meaning it returns fairly large results for relatively small arguments. ---page 244 of reference book"
   ]
  },
  {
   "cell_type": "markdown",
   "metadata": {
    "slideshow": {
     "slide_type": "slide"
    }
   },
   "source": [
    "## Global Variables (chapter 8.1 in reference book)\n",
    "\n",
    "Actually, we already introduced global variables and local variables in Lecture 4: using functions. Now, we'll introduce more details.\n",
    "\n",
    "Local variable vs Global variable\n",
    "\n",
    "* A local variable is a variable declared inside a function. It can be only accessed inside a function.\n",
    "\n",
    "* A global variable is a variable declared outside of the function or in global scope. This means that a global variable can be accessed inside or outside of the function."
   ]
  },
  {
   "cell_type": "markdown",
   "metadata": {
    "slideshow": {
     "slide_type": "fragment"
    }
   },
   "source": [
    "Consider the problem of generating a sequence of Fibonacci numbers."
   ]
  },
  {
   "cell_type": "code",
   "execution_count": null,
   "metadata": {
    "ExecuteTime": {
     "end_time": "2020-10-19T02:23:16.790796Z",
     "start_time": "2020-10-19T02:23:16.780391Z"
    },
    "slideshow": {
     "slide_type": "fragment"
    }
   },
   "outputs": [],
   "source": [
    "%%mytutor -r -h 550\n",
    "def fibonacci_iteration(n):\n",
    "    if n > 1:\n",
    "        x, y = 0, 1  # next two Fibonacci numbers\n",
    "        while n > 1:\n",
    "            x, y, n = y, x + y, n - 1 #equivalent to the code below\n",
    "            #x=y\n",
    "            #y=y+x\n",
    "            #n=n-1\n",
    "        return y\n",
    "    elif n is 1:\n",
    "        return 1\n",
    "    else:\n",
    "        return 0\n",
    "    \n",
    "for n in range(5):\n",
    "    print(fibonacci_iteration(n))"
   ]
  },
  {
   "cell_type": "markdown",
   "metadata": {
    "slideshow": {
     "slide_type": "fragment"
    }
   },
   "source": [
    "**Is the above loop efficient?**"
   ]
  },
  {
   "cell_type": "markdown",
   "metadata": {
    "slideshow": {
     "slide_type": "fragment"
    }
   },
   "source": [
    "No. Each call to `fibonacci_iteration(n)` recomputes the last two Fibonacci numbers $F_{n-1}$ and $F_{n-2}$ for $n\\geq 2$."
   ]
  },
  {
   "cell_type": "markdown",
   "metadata": {
    "slideshow": {
     "slide_type": "fragment"
    }
   },
   "source": [
    "**How to avoid redundant computations?**"
   ]
  },
  {
   "cell_type": "markdown",
   "metadata": {
    "slideshow": {
     "slide_type": "fragment"
    }
   },
   "source": [
    "One way is to use `global variables` to store the last two computed Fibonacci numbers.\n",
    "\n",
    "<p style=\"color:#FF0000\";>The following part is a bit complex.</p>"
   ]
  },
  {
   "cell_type": "code",
   "execution_count": null,
   "metadata": {
    "ExecuteTime": {
     "end_time": "2020-10-19T04:52:01.186625Z",
     "start_time": "2020-10-19T04:52:01.098872Z"
    },
    "code_folding": [],
    "jupyter": {
     "outputs_hidden": true
    },
    "slideshow": {
     "slide_type": "fragment"
    }
   },
   "outputs": [],
   "source": [
    "%%mytutor -h 600\n",
    "def next_fibonacci():\n",
    "    '''Returns the next Fibonacci number.'''\n",
    "    global _Fn, _Fn1, _n  # global declaration\n",
    "    value = _Fn   #value is a local variable\n",
    "    _Fn, _Fn1, _n = _Fn1, _Fn + _Fn1, _n + 1 #_Fn,_Fn1,_n is not local variable, they are global variables\n",
    "    return value\n",
    "\n",
    "def print_fibonacci_state():\n",
    "    print('''States:\n",
    "    _Fn  : Next Fibonacci number      = {}\n",
    "    _Fn1 : Next next Fibonacci number = {}\n",
    "    _n   : Next order                 = {}'''.format(_Fn,_Fn1,_n)) #no need to decclare _Fn,_Fn1,_n here, cause we don't use it in     \n",
    "                                                                   # assignment\n",
    "\n",
    "# global variables for next_fibonacci and print_fibonacci_state\n",
    "_Fn, _Fn1, _n = 0, 1, 0\n",
    "\n",
    "for n in range(5):\n",
    "    print(next_fibonacci())\n",
    "print_fibonacci_state()"
   ]
  },
  {
   "cell_type": "markdown",
   "metadata": {
    "slideshow": {
     "slide_type": "fragment"
    }
   },
   "source": [
    "Rules for [*global/local variables*](https://docs.python.org/3/faq/programming.html#what-are-the-rules-for-local-and-global-variables-in-python):\n",
    "1. A local variable must be defined within a function.\n",
    "1. An assignment defines a local variable except in a [`global` statement](https://docs.python.org/3/reference/simple_stmts.html#the-global-statement).\n",
    "\n",
    "Explanations about the two rules above.\n",
    "\n",
    "`global variables` are defined outside a function\n",
    "   - if we use it in an assignment, we `must` use keyword ``global`` to declare it, e.g. global _Fn, _Fn1, _n in next_fibonacci().\n",
    "   - if we don't use it in an assignment, we `don't need to` use keyword ``global`` to declare it, e.g. print('_Fn') in print_fibonacci_state()\n",
    "   \n",
    "See example below"
   ]
  },
  {
   "cell_type": "code",
   "execution_count": null,
   "metadata": {
    "ExecuteTime": {
     "end_time": "2020-10-18T14:14:02.647765Z",
     "start_time": "2020-10-18T14:14:02.637713Z"
    },
    "slideshow": {
     "slide_type": "fragment"
    }
   },
   "outputs": [],
   "source": [
    "x=5  #x is a global variable\n",
    "\n",
    "#if you run the example below, it will raise UnboundLocalError: local variable 'x' referenced before assignment\n",
    "#Reason: although x is a global variable, and we can use it anywhere in the program.\n",
    "#if we don't use it in assignment, we don't need to declare it.\n",
    "#but if we want to use it in an assignment, we must use keyword global to declare it.\n",
    "def add_1():\n",
    "    x=x+1\n",
    "    return x\n",
    "\n",
    "print(add_1())"
   ]
  },
  {
   "cell_type": "code",
   "execution_count": null,
   "metadata": {
    "ExecuteTime": {
     "end_time": "2020-10-18T14:17:43.884800Z",
     "start_time": "2020-10-18T14:17:43.814172Z"
    }
   },
   "outputs": [],
   "source": [
    "x=5  #x is a global variable\n",
    "\n",
    "#the following code is correct, we use keyword global to decalre x, so the program knows that the x in add_1() is a global variable\n",
    "def add_1():\n",
    "    global x\n",
    "    x=x+1\n",
    "    return x\n",
    "\n",
    "print(add_1())"
   ]
  },
  {
   "cell_type": "code",
   "execution_count": null,
   "metadata": {
    "ExecuteTime": {
     "end_time": "2020-10-19T04:56:02.083896Z",
     "start_time": "2020-10-19T04:56:02.038945Z"
    }
   },
   "outputs": [],
   "source": [
    "x=5  #x is a global variable\n",
    "\n",
    "#the following code is correct, although we use x in add_1(), we don't use it in an assignment.\n",
    "def add_1():\n",
    "    #global x\n",
    "    print(x)\n",
    "    return x+1\n",
    "\n",
    "print(add_1())"
   ]
  },
  {
   "cell_type": "markdown",
   "metadata": {
    "slideshow": {
     "slide_type": "fragment"
    }
   },
   "source": [
    "**Why `global` is NOT needed in `print_fibonacci_state`?**"
   ]
  },
  {
   "cell_type": "markdown",
   "metadata": {
    "slideshow": {
     "slide_type": "fragment"
    }
   },
   "source": [
    "Without ambiguity, `_Fn, _Fn1, _n` in `print_fibonacci_state` are not local variables by Rule 1 because they are not defined within the function."
   ]
  },
  {
   "cell_type": "markdown",
   "metadata": {
    "slideshow": {
     "slide_type": "fragment"
    }
   },
   "source": [
    "**Why `global` is needed in `next_fibonacci`?**"
   ]
  },
  {
   "cell_type": "markdown",
   "metadata": {
    "slideshow": {
     "slide_type": "fragment"
    }
   },
   "source": [
    "What happens otherwise:"
   ]
  },
  {
   "cell_type": "code",
   "execution_count": null,
   "metadata": {
    "ExecuteTime": {
     "end_time": "2020-10-17T04:10:27.727440Z",
     "start_time": "2020-10-17T04:10:27.654017Z"
    },
    "jupyter": {
     "outputs_hidden": true
    },
    "slideshow": {
     "slide_type": "-"
    }
   },
   "outputs": [],
   "source": [
    "def next_fibonacci():\n",
    "    '''Returns the next Fibonacci number.'''\n",
    "    # global _Fn, _Fn1, _n\n",
    "    value = _Fn\n",
    "    _Fn, _Fn1, _n = _Fn1, _Fn + _Fn1, _n + 1\n",
    "    return value\n",
    "\n",
    "next_fibonacci()"
   ]
  },
  {
   "cell_type": "markdown",
   "metadata": {
    "slideshow": {
     "slide_type": "fragment"
    }
   },
   "source": [
    "Why is there an `UnboundLocalError`?"
   ]
  },
  {
   "cell_type": "markdown",
   "metadata": {
    "slideshow": {
     "slide_type": "fragment"
    }
   },
   "source": [
    "- The assignment defines `_Fn` as a local variable by Rule 2.  \n",
    "- However, the assignment requires first evaluating `_Fn`, which is not yet defined."
   ]
  },
  {
   "cell_type": "markdown",
   "metadata": {
    "slideshow": {
     "slide_type": "subslide"
    }
   },
   "source": [
    "**Are global variables preferred over local ones?**\n",
    "\n",
    "No. Local variables are preferred over global variables because using global variables will cause some problems."
   ]
  },
  {
   "cell_type": "markdown",
   "metadata": {},
   "source": [
    "Suppose for aesthetic reasons we remove the underscores in global variable names?"
   ]
  },
  {
   "cell_type": "code",
   "execution_count": null,
   "metadata": {
    "ExecuteTime": {
     "end_time": "2020-10-17T04:24:15.586021Z",
     "start_time": "2020-10-17T04:24:15.540435Z"
    },
    "code_folding": [],
    "jupyter": {
     "outputs_hidden": true
    }
   },
   "outputs": [],
   "source": [
    "#%%mytutor -h 600\n",
    "def next_fibonacci():     #this function calculates the next fibonacci number\n",
    "    '''Returns the next Fibonacci number.'''\n",
    "    global Fn, Fn1, n\n",
    "    value = Fn\n",
    "    Fn, Fn1, n = Fn1, Fn + Fn1, n + 1      #n is increased by 1 here\n",
    "    return value\n",
    "\n",
    "def print_fibonacci_state():  #this function prints the current state, the next order\n",
    "    print('''States:\n",
    "    Fn  : Next Fibonacci number      = {}\n",
    "    Fn1 : Next next Fibonacci number = {}\n",
    "    n   : Next order                 = {}'''.format(Fn,Fn1,n))\n",
    "\n",
    "# global variables renamed without underscores\n",
    "Fn, Fn1, n = 0, 1, 0\n",
    "\n",
    "n = 0                 #there's a name collision, two n are defined\n",
    "while n < 5:\n",
    "    print(next_fibonacci())\n",
    "    n += 1            #n is increased by 1 here\n",
    "print_fibonacci_state()"
   ]
  },
  {
   "cell_type": "markdown",
   "metadata": {
    "slideshow": {
     "slide_type": "fragment"
    }
   },
   "source": [
    "**Exercise** Why does the while loop prints only 3 instead of 5 Fibonacci numbers?"
   ]
  },
  {
   "cell_type": "markdown",
   "metadata": {
    "deletable": false,
    "nbgrader": {
     "checksum": "db30dee19cf16202ccc23ee7c038da57",
     "grade": true,
     "grade_id": "global_bug",
     "locked": false,
     "points": 0,
     "schema_version": 3,
     "solution": true,
     "task": false
    },
    "slideshow": {
     "slide_type": "-"
    }
   },
   "source": [
    "There is a name collision. There're two places to increase n by 1: `n+=1` in the while loop; `n` is also incremented by `next_fibonacci()`, and so the while loop is only executed 3 times in total."
   ]
  },
  {
   "cell_type": "markdown",
   "metadata": {},
   "source": [
    "**name collision**\n",
    "\n",
    "If a function defines a local variable with the same name as a global variable, the global variable become\n",
    "inaccessible to code within the function. We say the local variable `hides` the like-named global variable from\n",
    "code in the function’s body. ---page 235 of reference book"
   ]
  },
  {
   "cell_type": "code",
   "execution_count": null,
   "metadata": {
    "ExecuteTime": {
     "end_time": "2020-10-18T14:32:38.286117Z",
     "start_time": "2020-10-18T14:32:38.198931Z"
    }
   },
   "outputs": [],
   "source": [
    " #my_name is a global variable\n",
    "my_name='Global variable'   \n",
    "\n",
    "\n",
    "#in this function, my_name is a local variable, here the global variable will be ineffect\n",
    "def print_name():\n",
    "    my_name='Local variable'  #local variable will hide global variable if they have the same name\n",
    "    print(my_name)\n",
    "    \n",
    "print_name()            #this line will print local variable my_name\n",
    "print(my_name)          #this line will print global variable my_name"
   ]
  },
  {
   "cell_type": "markdown",
   "metadata": {
    "slideshow": {
     "slide_type": "fragment"
    }
   },
   "source": [
    "With global variables\n",
    "- codes are less predictable, more difficult to reuse/extend, and\n",
    "- tests cannot be isolated, making debugging difficult.\n",
    "- More disadvantages are explained on page 235-237 in reference book."
   ]
  },
  {
   "cell_type": "markdown",
   "metadata": {
    "slideshow": {
     "slide_type": "subslide"
    }
   },
   "source": [
    "**Is it possible to store the function states without using global variables?**"
   ]
  },
  {
   "cell_type": "markdown",
   "metadata": {
    "slideshow": {
     "slide_type": "fragment"
    }
   },
   "source": [
    "Yes. We can use nested functions and [`nonlocal` variables](https://docs.python.org/3/reference/simple_stmts.html#grammar-token-nonlocal-stmt).\n",
    "\n",
    "Nested function\n",
    "- nested function is a function defined inside another function\n",
    "- more information about nested function [here](https://www.geeksforgeeks.org/python-closures/) and [here](https://www.programiz.com/python-programming/closure#:~:text=A%20function%20defined%20inside%20another,in%20order%20to%20modify%20them.). Strongly recommend to read these external links\n",
    "\n",
    "Nonlocal variables\n",
    "- The scope of nonlocal variable is between local variable and global variable.\n",
    "- to declare nonlocal variables, we need to use keyword `nonlocal`\n",
    "- nonlocal variable is usually used in nested functions.\n",
    "\n",
    "Lets' take a look at a simple example first"
   ]
  },
  {
   "cell_type": "code",
   "execution_count": null,
   "metadata": {
    "ExecuteTime": {
     "end_time": "2020-10-19T02:42:37.287225Z",
     "start_time": "2020-10-19T02:42:37.236688Z"
    },
    "slideshow": {
     "slide_type": "fragment"
    }
   },
   "outputs": [],
   "source": [
    "# Python program to illustrate nested functions \n",
    "x=5 #global variable\n",
    "\n",
    "def outerFunction(): \n",
    "    x = 1                 #x is defined in outerFunction(), but not innerFunction()\n",
    "\n",
    "    def innerFunction1(): \n",
    "        nonlocal x        #so if you want to use x defined above, you need to use keyword nonlocal to declare it\n",
    "        x=x+1\n",
    "        print('innerFunction1:',x) \n",
    "        \n",
    "    def innerFunction2(): \n",
    "        global x        #so if you want to use x defined above, you need to use keyword nonlocal to declare it\n",
    "        x=x+1\n",
    "        print('innerFunction2:',x) \n",
    "\n",
    "    innerFunction1()\n",
    "    innerFunction2() \n",
    "\n",
    "    \n",
    "outerFunction()"
   ]
  },
  {
   "cell_type": "markdown",
   "metadata": {
    "slideshow": {
     "slide_type": "fragment"
    }
   },
   "source": [
    "**Function as data**\n",
    "\n",
    "We can treat function as data (int, string etc).\n",
    "- so a function name can be used as parameter\n",
    "- we can also return a function\n",
    "\n",
    "See example below"
   ]
  },
  {
   "cell_type": "code",
   "execution_count": null,
   "metadata": {
    "ExecuteTime": {
     "end_time": "2020-10-19T03:00:14.385873Z",
     "start_time": "2020-10-19T03:00:14.366708Z"
    }
   },
   "outputs": [],
   "source": [
    "#this example shows we can use funtion name as input parameters and return functions\n",
    "def add(2, 3):\n",
    "    \"\"\"\n",
    "    Adds the parameters x and y and returns the result\n",
    "    \"\"\"\n",
    "    return x + y\n",
    "\n",
    "def multiply(x, y):\n",
    "    \"\"\"\n",
    "    Multiplies the parameters x and y and returns the result\n",
    "    \"\"\"\n",
    "    return x * y\n",
    "\n",
    "def evaluate(f, x, y):\n",
    "    \"\"\"\n",
    "    Calls the function f with parameters x and y:\n",
    "    f(x, y)\n",
    "    \"\"\"\n",
    "    return add(2, 3)\n",
    "\n",
    "\n",
    "\"\"\"\n",
    "Tests the add, multiply, and evaluate functions\n",
    "\"\"\"\n",
    "print(add(2, 3))\n",
    "print(multiply(2, 3))\n",
    "print(evaluate(add, 2, 3))\n",
    "print(evaluate(multiply, 2, 3))"
   ]
  },
  {
   "cell_type": "markdown",
   "metadata": {
    "slideshow": {
     "slide_type": "fragment"
    }
   },
   "source": [
    "Now let's see how we use nested function and nonlocal variables to generate fibonacci number"
   ]
  },
  {
   "cell_type": "code",
   "execution_count": null,
   "metadata": {
    "ExecuteTime": {
     "end_time": "2020-10-17T04:51:49.140681Z",
     "start_time": "2020-10-17T04:51:49.134404Z"
    },
    "code_folding": [],
    "jupyter": {
     "outputs_hidden": true
    },
    "slideshow": {
     "slide_type": "-"
    }
   },
   "outputs": [],
   "source": [
    "def fibonacci_closure(Fn, Fn1):\n",
    "    n = 0  # Fn and Fn1 specified in the function arguments\n",
    "    def next_fibonacci(): #next_fibonacci.__closure__ stores the nonlocal varibales\n",
    "        '''Returns the next (generalized) Fibonacci number starting with \n",
    "        Fn and Fn1 as the first two numbers.'''\n",
    "        nonlocal Fn, Fn1, n  # declare nonlocal variables, why we need to declare? because Fn, Fn1 and n is defined in the                                  #scope of fibonacci_closure, but not in next_fibonacci()\n",
    "        value = Fn\n",
    "        Fn, Fn1, n = Fn1, Fn + Fn1, n + 1\n",
    "        return value\n",
    "\n",
    "    def print_fibonacci_state():#print_fibonacci_state.__closure__ stores the nonlocal varibales\n",
    "        print('''States:\n",
    "        Next Fibonacci number      = {}\n",
    "        Next next Fibonacci number = {}\n",
    "        Next order                 = {}'''.format(Fn, Fn1, n))\n",
    "\n",
    "    return next_fibonacci, print_fibonacci_state\n",
    "\n",
    "\n",
    "next_fibonacci, print_fibonacci_state = fibonacci_closure(0, 1)\n",
    "n = 0\n",
    "while n < 5:\n",
    "    print(next_fibonacci())\n",
    "    n += 1\n",
    "print_fibonacci_state()"
   ]
  },
  {
   "cell_type": "markdown",
   "metadata": {
    "slideshow": {
     "slide_type": "fragment"
    }
   },
   "source": [
    "The state variables `Fn, Fn1, n` are now [encapsulated](https://www.geeksforgeeks.org/encapsulation-in-python/), and so    \n",
    "the functions returned by `fibonacci_closure` no longer depends on any global variables.\n",
    "\n",
    "No need to go deep about **encapsulation**."
   ]
  },
  {
   "cell_type": "markdown",
   "metadata": {
    "slideshow": {
     "slide_type": "subslide"
    }
   },
   "source": [
    "Another benefit of using nested functions is that we can also create different Fibonacci sequence with different base cases."
   ]
  },
  {
   "cell_type": "code",
   "execution_count": null,
   "metadata": {
    "ExecuteTime": {
     "end_time": "2020-10-17T05:45:47.584636Z",
     "start_time": "2020-10-17T05:45:47.558645Z"
    },
    "jupyter": {
     "outputs_hidden": true
    },
    "slideshow": {
     "slide_type": "-"
    }
   },
   "outputs": [],
   "source": [
    "my_next_fibonacci, my_print_fibonacci_state = fibonacci_closure('cs', '1302')\n",
    "for n in range(5):\n",
    "    print(my_next_fibonacci())\n",
    "my_print_fibonacci_state()"
   ]
  },
  {
   "cell_type": "markdown",
   "metadata": {
    "slideshow": {
     "slide_type": "fragment"
    }
   },
   "source": [
    "`next_fibonacci` and `print_fibonacci_state` are *local functions* of `fibonacci_closure`.  \n",
    "- They can access (*capture*) the other local variables of `fibonacci_closure` by forming the so-called *closures*.\n",
    "- More information on closure can be found [here](http://zetcode.com/python/python-closures/#:~:text=A%20closure%20is%20a%20nested,returned%20from%20the%20enclosing%20function) and [here](https://www.programiz.com/python-programming/closure)\n",
    "- Similar to the use of `global` statement, a [`non-local` statement](https://docs.python.org/3/reference/simple_stmts.html#the-nonlocal-statement) is needed for assigning nonlocal variables."
   ]
  },
  {
   "cell_type": "markdown",
   "metadata": {
    "slideshow": {
     "slide_type": "fragment"
    }
   },
   "source": [
    "Where are these nonlocal variables stored?\n",
    "\n",
    "Each local function has an attribute named `__closure__` that stores the captured local variables.\n",
    "- in the example below, function can be used as parameters, e.g., print_closure(next_fibonacci)"
   ]
  },
  {
   "cell_type": "code",
   "execution_count": null,
   "metadata": {
    "ExecuteTime": {
     "end_time": "2020-10-17T04:53:20.283871Z",
     "start_time": "2020-10-17T04:53:20.267871Z"
    },
    "jupyter": {
     "outputs_hidden": true
    },
    "slideshow": {
     "slide_type": "-"
    }
   },
   "outputs": [],
   "source": [
    "def print_closure(f):\n",
    "    '''Print the closure of a function.'''\n",
    "    print('closure of ', f.__name__)\n",
    "    for cell in f.__closure__:\n",
    "        print('    {} content: {!r}'.format(cell, cell.cell_contents))\n",
    "\n",
    "\n",
    "print_closure(next_fibonacci)\n",
    "print_closure(print_fibonacci_state)"
   ]
  },
  {
   "cell_type": "markdown",
   "metadata": {},
   "source": [
    "**Let's see a simple example to show the difference between, local, nonlocal, and global**\n",
    "\n",
    "- More explanation about local, nonlocal and global can be found [here](https://www.programiz.com/python-programming/global-local-nonlocal-variables#:~:text=In%20Python%2C%20a%20variable%20declared,or%20outside%20of%20the%20function.) and [here](https://towardsdatascience.com/global-local-and-nonlocal-variables-in-python-6b11c20d73b0)\n",
    "- Strongly recommend to read these links to better understand local, nonlocal and global\n",
    "- Why we don't explain in this lecture? cause it will take a lot of time to explain every detail."
   ]
  },
  {
   "cell_type": "code",
   "execution_count": null,
   "metadata": {
    "ExecuteTime": {
     "end_time": "2020-10-17T04:55:20.484961Z",
     "start_time": "2020-10-17T04:55:20.468903Z"
    }
   },
   "outputs": [],
   "source": [
    "x = 0    #this x is global\n",
    "def outer():\n",
    "    x = 1   #this x is local, and only valid inside outer()\n",
    "    def inner():\n",
    "        x = 2  #this x is local, and only valid inside inner()\n",
    "        print(\"inner:\", x)\n",
    "        \n",
    "    inner()\n",
    "    print(\"outer:\", x)\n",
    "\n",
    "outer()\n",
    "print(\"global:\", x)"
   ]
  },
  {
   "cell_type": "code",
   "execution_count": null,
   "metadata": {
    "ExecuteTime": {
     "end_time": "2020-10-19T02:52:05.884035Z",
     "start_time": "2020-10-19T02:52:05.817303Z"
    }
   },
   "outputs": [],
   "source": [
    "x = 0   #this x is global\n",
    "def outer():\n",
    "    x = 1  #this x is local, and only valid inside outer()\n",
    "    def inner():\n",
    "        nonlocal x  #this x is declared by keyword nonlocal, so it's not a local variable; instead it\n",
    "                        # refers to previous variables in the nearest enclosing scope excluding globals\n",
    "        print(\"inner:\", x)\n",
    "\n",
    "    inner()\n",
    "    print(\"outer:\", x)\n",
    "\n",
    "outer()\n",
    "print(\"global:\", x)"
   ]
  },
  {
   "cell_type": "code",
   "execution_count": null,
   "metadata": {
    "ExecuteTime": {
     "end_time": "2020-10-19T02:52:50.586038Z",
     "start_time": "2020-10-19T02:52:50.487501Z"
    }
   },
   "outputs": [],
   "source": [
    "x = 0   #this x is global\n",
    "def outer():\n",
    "    x = 1  #this x is local, and only valid inside outer()\n",
    "    def inner():\n",
    "        global x  #this x is declared by keyword nonlocal, so it's not a local variable; instead it\n",
    "                        # refers to previous variables in the nearest enclosing scope excluding globals\n",
    "        print(\"inner:\", x)\n",
    "\n",
    "    inner()\n",
    "    print(\"outer:\", x)\n",
    "\n",
    "outer()\n",
    "print(\"global:\", x)"
   ]
  },
  {
   "cell_type": "markdown",
   "metadata": {},
   "source": [
    "### A short summary (chapter 8.1)\n",
    "Although we introduce some advanced and complex concepts, what you need to remember is\n",
    "\n",
    "1. Difference between local, nonlocal, global variables\n",
    "2. what is Nested function and how it works.\n",
    "3. For closure and encapsulation, you only need to know what they are.\n",
    "4. Function can be used as return value and parameters\n",
    "\n",
    "Let's take a short break."
   ]
  },
  {
   "cell_type": "markdown",
   "metadata": {
    "slideshow": {
     "slide_type": "slide"
    }
   },
   "source": [
    "## Generator"
   ]
  },
  {
   "cell_type": "markdown",
   "metadata": {
    "slideshow": {
     "slide_type": "fragment"
    }
   },
   "source": [
    "We can use iteration/loop to generate a sequence of value. Another way to generate a sequence of value one-by-one is to write a *generator*.\n",
    "\n",
    "A **generator** is a programming object that produces (that is, generates) a sequence of values. ---page 280 in reference book\n",
    "\n",
    "How to create a generator?\n",
    "- method 1: use `generator_name=(iterable object)`\n",
    "- must be enclosed by parentheses ()"
   ]
  },
  {
   "cell_type": "code",
   "execution_count": null,
   "metadata": {
    "ExecuteTime": {
     "end_time": "2020-10-19T05:40:10.679545Z",
     "start_time": "2020-10-19T05:40:10.671981Z"
    },
    "code_folding": [],
    "jupyter": {
     "outputs_hidden": true
    },
    "slideshow": {
     "slide_type": "-"
    }
   },
   "outputs": [],
   "source": [
    "fibonacci_generator = (fibonacci_iteration(n) for n in range(3))\n",
    "print(type(fibonacci_generator))\n",
    "\n",
    "\n",
    "#another example\n",
    "x=(i**2 for i in range(5))\n",
    "print(type(x))"
   ]
  },
  {
   "cell_type": "markdown",
   "metadata": {
    "slideshow": {
     "slide_type": "fragment"
    }
   },
   "source": [
    "The above uses a [*generator expression*](https://docs.python.org/3/reference/expressions.html#grammar-token-generator-expression) to define `fibonacci_generator`."
   ]
  },
  {
   "cell_type": "markdown",
   "metadata": {
    "slideshow": {
     "slide_type": "subslide"
    }
   },
   "source": [
    "**How to obtain items from a generator?**"
   ]
  },
  {
   "cell_type": "markdown",
   "metadata": {
    "slideshow": {
     "slide_type": "fragment"
    }
   },
   "source": [
    "We can use the [`next` function](https://docs.python.org/3/library/functions.html#next).\n",
    "\n",
    "`next()`\n",
    "- it accepts a generator object and returns the next value in the generator’s sequence\n",
    "- we get an error if we ask the generator to provide a value after the final value in its sequence"
   ]
  },
  {
   "cell_type": "code",
   "execution_count": null,
   "metadata": {
    "ExecuteTime": {
     "end_time": "2020-10-17T06:14:39.689079Z",
     "start_time": "2020-10-17T06:14:39.657027Z"
    },
    "slideshow": {
     "slide_type": "-"
    }
   },
   "outputs": [],
   "source": [
    "while True: \n",
    "    print(next(fibonacci_generator)) # raises StopIterationException eventually"
   ]
  },
  {
   "cell_type": "code",
   "execution_count": null,
   "metadata": {
    "ExecuteTime": {
     "end_time": "2020-10-19T03:14:22.895079Z",
     "start_time": "2020-10-19T03:14:22.815343Z"
    }
   },
   "outputs": [],
   "source": [
    "#another simple example\n",
    "x=(i**2 for i in range(5)) #0 1 2 3 4\n",
    "print(next(x))\n",
    "print(next(x))\n",
    "print(next(x))\n",
    "print(next(x))\n",
    "print(next(x))\n",
    "print(next(x))   #it will raise an error if we access the next value after the final value\n",
    "\n",
    "#we can solve this error by using for loop\n",
    "for i in x:\n",
    "    print(i)"
   ]
  },
  {
   "cell_type": "markdown",
   "metadata": {
    "slideshow": {
     "slide_type": "fragment"
    }
   },
   "source": [
    "A generator object is [*iterable*](https://www.programiz.com/python-programming/iterator), i.e., it implements both `__iter__` and `__next__` methods that are automatically called in a `for` loop as well as the `next` function."
   ]
  },
  {
   "cell_type": "code",
   "execution_count": null,
   "metadata": {
    "ExecuteTime": {
     "end_time": "2020-10-17T06:14:44.283888Z",
     "start_time": "2020-10-17T06:14:44.241401Z"
    },
    "slideshow": {
     "slide_type": "-"
    }
   },
   "outputs": [],
   "source": [
    "fibonacci_generator = (fibonacci_iteration(n) for n in range(5))\n",
    "for fib in fibonacci_generator:  # StopIterationException handled by for loop\n",
    "    print(fib)"
   ]
  },
  {
   "cell_type": "markdown",
   "metadata": {
    "slideshow": {
     "slide_type": "subslide"
    }
   },
   "source": [
    "**Is `fibonacci_generator` efficient?**"
   ]
  },
  {
   "cell_type": "markdown",
   "metadata": {
    "slideshow": {
     "slide_type": "subslide"
    }
   },
   "source": [
    "No again due to redundant computations.\n",
    "\n",
    "A better way to define the generator is to use the keyword [`yield`](https://docs.python.org/3/reference/expressions.html?highlight=yield#yield-expressions):"
   ]
  },
  {
   "cell_type": "code",
   "execution_count": null,
   "metadata": {
    "ExecuteTime": {
     "end_time": "2020-10-19T05:47:13.085399Z",
     "start_time": "2020-10-19T05:47:13.072581Z"
    },
    "jupyter": {
     "outputs_hidden": true
    }
   },
   "outputs": [],
   "source": [
    "%%mytutor -h 450\n",
    "def fibonacci_sequence(Fn, Fn1, stop):\n",
    "    '''Return a generator that generates Fibonacci numbers\n",
    "    starting from Fn and Fn1 until stop (exclusive).'''\n",
    "    while Fn < stop:\n",
    "        yield Fn  # return Fn and pause execution\n",
    "        Fn, Fn1 = Fn1, Fn1 + Fn\n",
    "\n",
    "\n",
    "for fib in fibonacci_sequence(0, 1, 5):\n",
    "    print(fib)"
   ]
  },
  {
   "cell_type": "markdown",
   "metadata": {
    "slideshow": {
     "slide_type": "fragment"
    }
   },
   "source": [
    "1. `yield` causes the function to return a *generator* without executing the function body.\n",
    "1. Calling `__next__` resumes the execution, which \n",
    "    - pauses at the next `yield` expression, or\n",
    "    - raises the `StopIterationException` at the end."
   ]
  },
  {
   "cell_type": "markdown",
   "metadata": {
    "slideshow": {
     "slide_type": "fragment"
    }
   },
   "source": [
    "**Exercise** The yield expression `yield ...` is mistaken in [Halterman17] to be a statement. It is actually an expression because \n",
    "- The value of a `yield` expression is `None` by default, but \n",
    "- it can be set by the `generator.send` method.\n",
    "\n",
    "Add the document string to the following function. In particular, explain the effect of calling the method `send` on the returned generator."
   ]
  },
  {
   "cell_type": "code",
   "execution_count": null,
   "metadata": {
    "ExecuteTime": {
     "end_time": "2020-10-19T03:26:25.183914Z",
     "start_time": "2020-10-19T03:26:25.088583Z"
    },
    "code_folding": [],
    "deletable": false,
    "jupyter": {
     "outputs_hidden": true
    },
    "nbgrader": {
     "checksum": "59b937e45ea23fed98adabb59cc46f56",
     "grade": false,
     "grade_id": "send",
     "locked": false,
     "schema_version": 3,
     "solution": true,
     "task": false
    },
    "slideshow": {
     "slide_type": "-"
    }
   },
   "outputs": [],
   "source": [
    "#%%mytutor -r -h 500\n",
    "def fibonacci_sequence(Fn, Fn1, stop):\n",
    "    # YOUR CODE HERE\n",
    "    '''Return a generator that generates Fibonacci numbers\n",
    "    starting from Fn and Fn1 to stop (exclusive). \n",
    "    generator.send(value) sets next number to value.'''\n",
    "    while Fn < stop:\n",
    "        value = yield Fn\n",
    "        if value is not None: \n",
    "            Fn1 = value  # set next number to the value of yield expression\n",
    "        Fn, Fn1 = Fn1, Fn1 + Fn\n",
    "        \n",
    "#this example may contain typos, I'll check with Dr. Chan        "
   ]
  },
  {
   "cell_type": "markdown",
   "metadata": {},
   "source": [
    "### A short Summary  (more information in Chapter 8.8)\n",
    "1. what's a generator\n",
    "   - A generator is a programming object that produces (that is, generates) a sequence of values\n",
    "2. How to create a generator\n",
    "    - using `(iterable object)`\n",
    "    - use `yield` expression\n",
    "3. How to obtain the elements in generator?\n",
    "    - use `next()`\n",
    "    - use `for` loop"
   ]
  },
  {
   "cell_type": "markdown",
   "metadata": {
    "slideshow": {
     "slide_type": "slide"
    }
   },
   "source": [
    "## Optional Arguments"
   ]
  },
  {
   "cell_type": "markdown",
   "metadata": {},
   "source": [
    "**How to make function arguments optional?**\n",
    "\n",
    "`Argument` is a value passed to a function (or method) when calling the function. There are two types of arguments.\n",
    "- keyword argument (keyword-based): an argument preceded by an identifier (e.g. name=) in a function call:\n",
    "   - complex(real=3, imag=5) will produce a complex number 3+5i\n",
    "\n",
    "- positional argument (position-based): an argument that is not a keyword argument. \n",
    "   - complex(3, 5) will produce a complex number 3+5i\n"
   ]
  },
  {
   "cell_type": "code",
   "execution_count": null,
   "metadata": {
    "ExecuteTime": {
     "end_time": "2020-10-27T07:17:54.805375Z",
     "start_time": "2020-10-27T07:17:54.797178Z"
    }
   },
   "outputs": [],
   "source": [
    "def fibonacci_sequence(Fn=0, Fn1=1, stop=None):\n",
    "    while stop is None or Fn < stop:\n",
    "        value = yield Fn\n",
    "        Fn, Fn1 = Fn1, Fn1 + Fn"
   ]
  },
  {
   "cell_type": "code",
   "execution_count": null,
   "metadata": {
    "ExecuteTime": {
     "end_time": "2020-10-20T14:35:04.646902Z",
     "start_time": "2020-10-20T14:35:04.643089Z"
    }
   },
   "outputs": [],
   "source": [
    "for fib in fibonacci_sequence(0,1,5):\n",
    "    print(fib)  # with all arguments specified"
   ]
  },
  {
   "cell_type": "code",
   "execution_count": null,
   "metadata": {
    "ExecuteTime": {
     "end_time": "2020-10-20T14:35:14.888985Z",
     "start_time": "2020-10-20T14:35:14.794917Z"
    }
   },
   "outputs": [],
   "source": [
    "for fib in fibonacci_sequence(stop=5):\n",
    "    print(fib)  # with default Fn=0, Fn1=1"
   ]
  },
  {
   "cell_type": "markdown",
   "metadata": {
    "slideshow": {
     "slide_type": "fragment"
    }
   },
   "source": [
    "`stop=5` is called a [keyword argument](https://docs.python.org/3/glossary.html#term-keyword-argument). Unlike `positional arguments`, it specifies the name of the argument explicitly."
   ]
  },
  {
   "cell_type": "markdown",
   "metadata": {},
   "source": [
    "There's another way to classify arguments:\n",
    "- `Required arguments` are arguments that must passed to the function.\n",
    "- `Optional arguments` are arguments that can be not passed to the function. In python optional arguments are arguments that have a default value, also called `default argument`.\n",
    "\n",
    "What does default argument mean?\n",
    "- it means you define a default value for it. When you call a function, if you don't pass data to it, it will use its default value. See example below."
   ]
  },
  {
   "cell_type": "code",
   "execution_count": null,
   "metadata": {
    "ExecuteTime": {
     "end_time": "2020-10-20T14:35:19.184398Z",
     "start_time": "2020-10-20T14:35:19.101783Z"
    }
   },
   "outputs": [],
   "source": [
    "def calculate_sum(x,y=5): # x is a required argument, but y is optional argument, if you don't pass any data to y, it will use                           #it's default value 5\n",
    "    return x+y\n",
    "\n",
    "print(calculate_sum(1,8))  #when we call this function, we can pass two parameters to it\n",
    "print(calculate_sum(1))    #we can also assign one parameter, in this case, 1 will be passed to x\n",
    "print(calculate_sum(x=1,y=8)) #we can also pass data to keywords\n",
    "print(calculate_sum(x=1))      "
   ]
  },
  {
   "cell_type": "markdown",
   "metadata": {
    "slideshow": {
     "slide_type": "fragment"
    }
   },
   "source": [
    "**Exercise** `stop` is an [optional argument](https://docs.python.org/3/tutorial/controlflow.html#default-argument-values) with the *default value* `None`. What is the behavior of the following code?"
   ]
  },
  {
   "cell_type": "code",
   "execution_count": null,
   "metadata": {
    "ExecuteTime": {
     "end_time": "2020-10-17T07:37:18.984292Z",
     "start_time": "2020-10-17T07:37:18.959752Z"
    },
    "slideshow": {
     "slide_type": "-"
    }
   },
   "outputs": [],
   "source": [
    "for fib in fibonacci_sequence(5):\n",
    "    print(fib)\n",
    "    if fib > 10:  \n",
    "        break  # Will this be executed?"
   ]
  },
  {
   "cell_type": "markdown",
   "metadata": {
    "deletable": false,
    "nbgrader": {
     "checksum": "a090f88c9eb74ece1027e9d598d81560",
     "grade": true,
     "grade_id": "stop",
     "locked": false,
     "points": 0,
     "schema_version": 3,
     "solution": true,
     "task": false
    },
    "slideshow": {
     "slide_type": "-"
    }
   },
   "source": [
    "With the default value of `None`, the while loop becomes an infinite loop. The generator will keep generating the next Fibonacci number without any bound on the order. In particular, `fibonacci_sequence(5)` creates an unstoppable (default) generator with base case `Fn=5` (specified) and `Fn1=1` (default)."
   ]
  },
  {
   "cell_type": "markdown",
   "metadata": {
    "slideshow": {
     "slide_type": "subslide"
    }
   },
   "source": [
    "Rules for specifying arguments:\n",
    "1. Keyword arguments must be after all positional arguments.\n",
    "   - fibonacci_sequence(1, stop=10) is correct, but fibonacci_sequence(stop=10, 1) is wrong.\n",
    "1. Duplicate assignments to an argument are not allowed.\n",
    "   - you cannot pass a value to an argument based on its position, then pass a value to an argument based on the keyword\n",
    "   - fibonacci_sequence(1, Fn=1)  is wrong because 1 is positional argument assigned to Fn, then you assign another value to Fn using its keyword"
   ]
  },
  {
   "cell_type": "markdown",
   "metadata": {
    "slideshow": {
     "slide_type": "fragment"
    }
   },
   "source": [
    "E.g., the following results in error:"
   ]
  },
  {
   "cell_type": "code",
   "execution_count": null,
   "metadata": {
    "ExecuteTime": {
     "end_time": "2020-10-27T07:18:59.581720Z",
     "start_time": "2020-10-27T07:18:59.575476Z"
    },
    "slideshow": {
     "slide_type": "-"
    }
   },
   "outputs": [],
   "source": [
    "fibonacci_sequence(1,stop=10)"
   ]
  },
  {
   "cell_type": "code",
   "execution_count": null,
   "metadata": {
    "ExecuteTime": {
     "end_time": "2020-10-20T14:41:11.985619Z",
     "start_time": "2020-10-20T14:41:11.938589Z"
    },
    "slideshow": {
     "slide_type": "-"
    }
   },
   "outputs": [],
   "source": [
    "fibonacci_sequence(1, Fn=1) "
   ]
  },
  {
   "cell_type": "markdown",
   "metadata": {
    "slideshow": {
     "slide_type": "subslide"
    }
   },
   "source": [
    "Let's use function `range()` to illustrate.\n",
    "- range(start, end, step). It has three parameters.\n",
    "\n",
    "The following shows that the behavior of `range` is different."
   ]
  },
  {
   "cell_type": "code",
   "execution_count": null,
   "metadata": {
    "ExecuteTime": {
     "end_time": "2020-10-19T03:31:46.640500Z",
     "start_time": "2020-10-19T03:31:46.620357Z"
    },
    "slideshow": {
     "slide_type": "fragment"
    }
   },
   "outputs": [],
   "source": [
    "for count in range(1, 10, 2):\n",
    "    print(count, end=' ')  # counts from 1 to 10 in steps of 2\n",
    "print()\n",
    "for count in range(1, 10):\n",
    "    print(count, end=' ')  # default step=1\n",
    "print()\n",
    "for count in range(10):\n",
    "    print(count, end=' ')  # default start=0, step=1\n",
    "range(stop=10)  # fails"
   ]
  },
  {
   "cell_type": "markdown",
   "metadata": {
    "slideshow": {
     "slide_type": "fragment"
    }
   },
   "source": [
    "`range` takes only positional arguments.  \n",
    "However, the first positional argument has different intepretations (`start` or `stop`) depending on the number of arguments (2 or 1).\n",
    "- in `range(1, 10)`, the first parameter means the starting number\n",
    "- in `range(10)`, the first parameter means the ending number"
   ]
  },
  {
   "cell_type": "markdown",
   "metadata": {
    "slideshow": {
     "slide_type": "fragment"
    }
   },
   "source": [
    "`range` is indeed NOT a generator."
   ]
  },
  {
   "cell_type": "code",
   "execution_count": null,
   "metadata": {
    "ExecuteTime": {
     "end_time": "2020-10-18T02:49:10.389227Z",
     "start_time": "2020-10-18T02:49:10.364578Z"
    },
    "jupyter": {
     "outputs_hidden": true
    },
    "slideshow": {
     "slide_type": "fragment"
    }
   },
   "outputs": [],
   "source": [
    "fibonacci_generator = (fibonacci_iteration(n) for n in range(5))\n",
    "print(type(fibonacci_generator))\n",
    "print(type(range),type(range(10)))"
   ]
  },
  {
   "cell_type": "markdown",
   "metadata": {
    "ExecuteTime": {
     "end_time": "2020-10-18T02:47:59.386923Z",
     "start_time": "2020-10-18T02:47:59.349970Z"
    }
   },
   "source": [
    "The expression range(0, 10) does not return a generator object but instead creates and returns a range\n",
    "object. Furthermore, the interative sequence shows that range is not a function at all; it is a class.\n",
    "\n",
    "No need to go further. For more explanation, you can read page 284 in reference book."
   ]
  },
  {
   "cell_type": "markdown",
   "metadata": {},
   "source": [
    "**A short summary** (chapter 8.2)\n",
    "* what is keyword argument and positional argument, how they work\n",
    "* What is required argument and optional argument.\n",
    "* range() is a class. Although both `generator` and `range()` produce a sequence of values. `range()` will generate a range object, but `generator` will generate a generator object."
   ]
  },
  {
   "cell_type": "markdown",
   "metadata": {
    "slideshow": {
     "slide_type": "subslide"
    }
   },
   "source": [
    "## Variable number of arguments"
   ]
  },
  {
   "cell_type": "markdown",
   "metadata": {
    "slideshow": {
     "slide_type": "fragment"
    }
   },
   "source": [
    "**Can we call a function with an arbitrary number of arguments**\n",
    "\n",
    "Yes, we can pass a variable number of arguments to a function using special symbols. There are two special symbols to use:\n",
    "\n",
    "1. *args (Non-Keyword Arguments)\n",
    "   - `args` is a tuple of positional arguments.\n",
    "2. **kwargs (Keyword Arguments)\n",
    "   - `kwargs` is a dictionary of keyword arguments.\n",
    "   \n",
    "`*` and `**` are *unpacking operators* for tuple/list and dictionary respectively:\n",
    "\n",
    "Tuple, list and dictionary are new data types which will be introduced in later lectures. See example below."
   ]
  },
  {
   "cell_type": "code",
   "execution_count": 3,
   "metadata": {
    "ExecuteTime": {
     "end_time": "2021-02-26T04:45:13.185547Z",
     "start_time": "2021-02-26T04:45:13.136420Z"
    }
   },
   "outputs": [
    {
     "ename": "NameError",
     "evalue": "name 'print_arguments' is not defined",
     "output_type": "error",
     "traceback": [
      "\u001b[0;31m---------------------------------------------------------------------------\u001b[0m",
      "\u001b[0;31mNameError\u001b[0m                                 Traceback (most recent call last)",
      "\u001b[0;32m<ipython-input-3-49256af2d2e0>\u001b[0m in \u001b[0;36m<module>\u001b[0;34m\u001b[0m\n\u001b[1;32m      3\u001b[0m \u001b[0;31m#start-->1 keyword=6\u001b[0m\u001b[0;34m\u001b[0m\u001b[0;34m\u001b[0m\u001b[0;34m\u001b[0m\u001b[0m\n\u001b[1;32m      4\u001b[0m \u001b[0;31m#stop-->2\u001b[0m\u001b[0;34m\u001b[0m\u001b[0;34m\u001b[0m\u001b[0;34m\u001b[0m\u001b[0m\n\u001b[0;32m----> 5\u001b[0;31m \u001b[0mprint_arguments\u001b[0m\u001b[0;34m(\u001b[0m\u001b[0;34m*\u001b[0m\u001b[0margs\u001b[0m\u001b[0;34m,\u001b[0m \u001b[0;34m**\u001b[0m\u001b[0mkwargs\u001b[0m\u001b[0;34m)\u001b[0m\u001b[0;34m\u001b[0m\u001b[0;34m\u001b[0m\u001b[0m\n\u001b[0m",
      "\u001b[0;31mNameError\u001b[0m: name 'print_arguments' is not defined"
     ]
    }
   ],
   "source": [
    "args = (0, 10, 2) \n",
    "kwargs = {'start': 1, 'stop': 2,'keyword': 6} #key--value\n",
    "#start-->1 keyword=6\n",
    "#stop-->2\n",
    "print_arguments(*args, **kwargs)"
   ]
  },
  {
   "cell_type": "markdown",
   "metadata": {
    "ExecuteTime": {
     "end_time": "2020-10-18T03:18:28.485677Z",
     "start_time": "2020-10-18T03:18:28.421105Z"
    }
   },
   "source": [
    "***args**\n",
    "\n",
    "The special syntax `*args` in function definitions in python is used to pass a variable number of arguments to a function. It is used to pass a non-key worded, variable-length argument list. \n",
    "\n",
    "- The syntax is to use the symbol * to take in a variable number of arguments; by convention, it is often used with the word `args`.\n",
    "- What `*args` allows you to do is take in more arguments than the number of formal arguments that you previously defined.\n",
    "- Using the *, the variable that we associate with the * becomes an iterable meaning you can do things like iterate over it."
   ]
  },
  {
   "cell_type": "code",
   "execution_count": null,
   "metadata": {
    "ExecuteTime": {
     "end_time": "2020-10-29T01:35:27.515596Z",
     "start_time": "2020-10-29T01:35:27.511770Z"
    }
   },
   "outputs": [],
   "source": [
    "# Python program to illustrate *args for variable number of arguments\n",
    "def myFun(*args): \n",
    "    for arg in args: \n",
    "        print (arg)\n",
    "\n",
    "#myFun('Hello', 'Welcome', 'to', 'GeeksforGeeks',5,10) \n",
    "myFun('apple',25)"
   ]
  },
  {
   "cell_type": "markdown",
   "metadata": {},
   "source": [
    "****kwargs**\n",
    "\n",
    "The special syntax **kwargs in function definitions in python is used to pass a keyworded, variable-length argument list. We use the name kwargs with the double star. The reason is because the double star allows us to pass through keyword arguments (and any number of them).\n",
    "\n",
    "One can think of the kwargs as being a dictionary that maps each keyword to the value that we pass alongside it. That is why when we iterate over the kwargs there doesn’t seem to be any order in which they were printed out."
   ]
  },
  {
   "cell_type": "code",
   "execution_count": null,
   "metadata": {
    "ExecuteTime": {
     "end_time": "2020-10-18T03:39:01.385173Z",
     "start_time": "2020-10-18T03:39:01.311897Z"
    }
   },
   "outputs": [],
   "source": [
    "# Python program to illustrate \n",
    "# **kwargs for variable number of keyword arguments\n",
    "\n",
    "def myFun(**kwargs): \n",
    "    for key, value in kwargs.items():\n",
    "        print (\"%s == %s\" %(key, value))\n",
    "\n",
    "#we assign three values to three keyword arguments\n",
    "# first ='Geeks', mid ='for', last='Geeks' will be passed to **kwargs\n",
    "# **kwargs will automatically map each value to each keyword\n",
    "# first-->'Geeks'\n",
    "# mid-->'for'\n",
    "# last-->'Geeks'\n",
    "myFun(first ='Geeks', mid ='for', last='Geeks') "
   ]
  },
  {
   "cell_type": "markdown",
   "metadata": {
    "ExecuteTime": {
     "end_time": "2020-10-18T03:18:54.186372Z",
     "start_time": "2020-10-18T03:18:54.162513Z"
    }
   },
   "source": [
    "More reference\n",
    "- We can simulate the behavior of range by having a [variable number of arguments](https://docs.python.org/3.4/tutorial/controlflow.html#arbitrary-argument-lists).\n",
    "\n",
    "- A much better explanation can be found [here](https://www.geeksforgeeks.org/args-kwargs-python/)"
   ]
  },
  {
   "cell_type": "code",
   "execution_count": 25,
   "metadata": {
    "ExecuteTime": {
     "end_time": "2020-11-23T05:43:04.117215Z",
     "start_time": "2020-11-23T05:43:04.093368Z"
    },
    "slideshow": {
     "slide_type": "fragment"
    }
   },
   "outputs": [
    {
     "name": "stdout",
     "output_type": "stream",
     "text": [
      "args (<class 'tuple'>): (0,)\n",
      "kwargs (<class 'dict'>): {'start': 1, 'stop': 2}\n",
      "args (<class 'tuple'>): (0, 10, 2)\n",
      "kwargs (<class 'dict'>): {'start': 1, 'stop': 2}\n",
      "args (<class 'tuple'>): (0, 10)\n",
      "kwargs (<class 'dict'>): {'start': 1}\n"
     ]
    }
   ],
   "source": [
    "#this example shows how to combine *args and **kwargs together in a function\n",
    "def print_arguments(*args, **kwargs):  \n",
    "    '''Take any number of arguments and prints them'''\n",
    "    print('args ({}): {}'.format(type(args),args))\n",
    "    print('kwargs ({}): {}'.format(type(kwargs),kwargs))\n",
    "\n",
    "print_arguments(0, start=1, stop=2)\n",
    "print_arguments(0, 10, 2, start=1, stop=2)\n",
    "print_arguments(0, 10, start=1)"
   ]
  },
  {
   "cell_type": "markdown",
   "metadata": {},
   "source": [
    "The following function converts all the arguments to a string.  \n",
    "It will be useful later on."
   ]
  },
  {
   "cell_type": "code",
   "execution_count": null,
   "metadata": {
    "ExecuteTime": {
     "end_time": "2020-10-29T01:02:53.949139Z",
     "start_time": "2020-10-29T01:02:53.938942Z"
    },
    "slideshow": {
     "slide_type": "fragment"
    }
   },
   "outputs": [],
   "source": [
    "def argument_string(*args, **kwargs):\n",
    "    '''Return the string representation of the list of arguments.'''\n",
    "    return '({})'.format(', '.join([\n",
    "        *['{}'.format(v) for v in args],  # arguments\n",
    "        *['{}={}'.format(k, v)\n",
    "          for k, v in kwargs.items()]  # keyword arguments\n",
    "    ]))\n",
    "\n",
    "argument_string(0, 10, 2, start=1, stop=2)"
   ]
  },
  {
   "cell_type": "markdown",
   "metadata": {
    "slideshow": {
     "slide_type": "subslide"
    }
   },
   "source": [
    "**Exercise** Redefine `fibonacci_sequence` so that the positional arguments depend on the number of arguments:"
   ]
  },
  {
   "cell_type": "code",
   "execution_count": null,
   "metadata": {
    "ExecuteTime": {
     "end_time": "2020-10-29T01:02:57.278373Z",
     "start_time": "2020-10-29T01:02:57.268186Z"
    },
    "code_folding": [
     19
    ],
    "deletable": false,
    "nbgrader": {
     "checksum": "a59d5bab4c1f2229305fd8ab8189ce57",
     "grade": false,
     "grade_id": "optional",
     "locked": false,
     "schema_version": 3,
     "solution": true,
     "task": false
    },
    "slideshow": {
     "slide_type": "-"
    }
   },
   "outputs": [],
   "source": [
    "def fibonacci_sequence(*args):\n",
    "    '''Return a generator that generates Fibonacci numbers\n",
    "    starting from Fn and Fn1 to stop (exclusive). \n",
    "    generator.send(value) sets next number to value.\n",
    "    \n",
    "    fibonacci_sequence(stop)\n",
    "    fibonacci_sequence(Fn,Fn1)\n",
    "    fibonacci_sequence(Fn,Fn1,stop)\n",
    "    '''\n",
    "    Fn, Fn1, stop = 0, 1, None  # default values\n",
    "\n",
    "    # handle different number of arguments\n",
    "    if len(args) is 1:\n",
    "        # YOUR CODE HERE\n",
    "         stop = args[0]\n",
    "    elif len(args) is 2:\n",
    "        Fn, Fn1 = args[0], args[1]\n",
    "    elif len(args) > 2:\n",
    "        Fn, Fn1, stop = args[0], args[1], args[2]\n",
    "    \n",
    "    while stop is None or Fn < stop:\n",
    "        value = yield Fn\n",
    "        if value is not None: \n",
    "            Fn1 = value  # set next number to the value of yield expression\n",
    "        Fn, Fn1 = Fn1, Fn1 + Fn"
   ]
  },
  {
   "cell_type": "code",
   "execution_count": null,
   "metadata": {
    "ExecuteTime": {
     "end_time": "2020-10-18T03:49:56.383786Z",
     "start_time": "2020-10-18T03:49:56.373449Z"
    },
    "slideshow": {
     "slide_type": "fragment"
    }
   },
   "outputs": [],
   "source": [
    "for fib in fibonacci_sequence(5): # default Fn=0, Fn1=1\n",
    "    print(fib)"
   ]
  },
  {
   "cell_type": "code",
   "execution_count": null,
   "metadata": {
    "ExecuteTime": {
     "end_time": "2020-10-18T03:49:59.887931Z",
     "start_time": "2020-10-18T03:49:59.811759Z"
    },
    "slideshow": {
     "slide_type": "fragment"
    }
   },
   "outputs": [],
   "source": [
    "for fib in fibonacci_sequence(1, 2): # default stop=None\n",
    "    print(fib)  \n",
    "    if fib>5:\n",
    "        break"
   ]
  },
  {
   "cell_type": "code",
   "execution_count": null,
   "metadata": {
    "ExecuteTime": {
     "end_time": "2020-10-18T03:50:07.676124Z",
     "start_time": "2020-10-18T03:50:07.668386Z"
    },
    "slideshow": {
     "slide_type": "fragment"
    }
   },
   "outputs": [],
   "source": [
    "args = (1, 2, 5)\n",
    "for fib in fibonacci_sequence(*args): # default stop=None\n",
    "    print(fib) "
   ]
  },
  {
   "cell_type": "markdown",
   "metadata": {},
   "source": [
    "**A short summary**\n",
    "\n",
    "Know how to use \\*args and \\**kwargs to pass an arbitrary number of arguments to a function"
   ]
  },
  {
   "cell_type": "markdown",
   "metadata": {
    "slideshow": {
     "slide_type": "slide"
    }
   },
   "source": [
    "## Decorator (chapter 8.10 in reference book)"
   ]
  },
  {
   "cell_type": "markdown",
   "metadata": {
    "slideshow": {
     "slide_type": "subslide"
    }
   },
   "source": [
    "**What is function decoration?**  \n",
    "\n",
    "By definition, a decorator is a function that takes another function and extends the behavior of the latter function without explicitly modifying it.\n",
    "\n",
    "**Why decorate a function?**\n",
    "\n",
    "Decorators are very powerful and useful tool in Python since it allows programmers to extend the behavior of function without permanently modifying it\n",
    "\n",
    "It sounds confusing, but we can explain what is decorator through a simple example. The original slide is too complex to understand. So I add a simple example to explain what is decorator, then we can go through the rest complex examples."
   ]
  },
  {
   "cell_type": "code",
   "execution_count": null,
   "metadata": {
    "ExecuteTime": {
     "end_time": "2020-10-29T02:04:19.910076Z",
     "start_time": "2020-10-29T02:04:19.499269Z"
    }
   },
   "outputs": [],
   "source": [
    "#this example is created by Weitao cause I think we can use this simple example to understand how decorator works.\n",
    "import time\n",
    "import functools\n",
    "\n",
    "#the following code is a decorator template\n",
    "#a decorator is also a function. It's a function wraps another function\n",
    "def my_decorator(func):\n",
    "    @functools.wraps(func)\n",
    "    def wrapper(*args, **kwargs):\n",
    "        # Do something before\n",
    "        t1=time.time()\n",
    "        #add new features\n",
    "        value = func(*args, **kwargs)\n",
    "        # Do something after\n",
    "        t2=time.time()\n",
    "        print('Running time:',t2-t1)  #decoration code\n",
    "        \n",
    "        return value\n",
    "        \n",
    "    return wrapper\n",
    "\n",
    "def is_prime(num):\n",
    "    if num<2:\n",
    "        return False\n",
    "    elif num==2:\n",
    "        return True\n",
    "    else:\n",
    "        for i in range(2,num):\n",
    "            if num%i ==0:\n",
    "                return False\n",
    "        return True\n",
    "    \n",
    "@my_decorator               #@my_decorator is just an easier way of saying count_prime_nums = my_decorator(count_prime_nums)\n",
    "def count_prime_nums(x,y):\n",
    "    count=0\n",
    "    for i in range(x,y):\n",
    "        if is_prime(i):\n",
    "            count+=1  \n",
    "    \n",
    "    return count\n",
    "\n",
    "\n",
    "#def function2(x,y,z)\n",
    "\n",
    "#def function3(x,y,z,n,m)\n",
    "\n",
    "\n",
    "#result=count_prime_nums()\n",
    "#print(result)\n",
    "\n",
    "#count_prime_nums=my_decorator(count_prime_nums)  #use my_decorator to decorate count_prime_nums\n",
    "#count_prime_nums()\n",
    "\n",
    "count_prime_nums(2,10000)  #if we use @my_decorator, we can call this function directly"
   ]
  },
  {
   "cell_type": "markdown",
   "metadata": {
    "slideshow": {
     "slide_type": "fragment"
    }
   },
   "source": [
    "A tutorial on decorator can be found [here](https://realpython.com/primer-on-python-decorators/). If you understand this tutorial, you can skip the rest part.\n"
   ]
  },
  {
   "cell_type": "code",
   "execution_count": null,
   "metadata": {
    "ExecuteTime": {
     "end_time": "2020-10-29T01:03:04.525604Z",
     "start_time": "2020-10-29T01:03:04.483585Z"
    },
    "jupyter": {
     "outputs_hidden": true
    },
    "slideshow": {
     "slide_type": "-"
    }
   },
   "outputs": [],
   "source": [
    "def fibonacci(n):\n",
    "    '''Returns the Fibonacci number of order n.'''\n",
    "    global count, depth\n",
    "    count += 1\n",
    "    depth += 1\n",
    "    print('{:>3}: {}fibonacci({!r})'.format(count, '|' * depth, n))\n",
    "    \n",
    "    value = fibonacci(n - 1) + fibonacci(n - 2) if n > 1 else 1 if n is 1 else 0\n",
    "    \n",
    "    depth -= 1\n",
    "    if depth is -1:  # recursion done\n",
    "        print('Done')\n",
    "        count = 0  # reset count for subsequent recursions\n",
    "    return value\n",
    "\n",
    "\n",
    "count, depth = 0, -1\n",
    "for n in range(6):\n",
    "    print(fibonacci(n))"
   ]
  },
  {
   "cell_type": "markdown",
   "metadata": {
    "slideshow": {
     "slide_type": "fragment"
    }
   },
   "source": [
    "The code decorates the `fibonacci` function by printing each recursive call and the depth of the call stack.  \n",
    "The decoration is useful in showing the efficiency of the function, but it rewrites the function definition."
   ]
  },
  {
   "cell_type": "markdown",
   "metadata": {
    "slideshow": {
     "slide_type": "subslide"
    }
   },
   "source": [
    "**How to decorate a function without changing its code?**"
   ]
  },
  {
   "cell_type": "markdown",
   "metadata": {
    "slideshow": {
     "slide_type": "fragment"
    }
   },
   "source": [
    "- What if the decorations are temporary and should be removed later?  \n",
    "- Go through the source codes of all decorated functions to remove the decorations?  \n",
    "- When updating a piece of code, switch back and forth between original and decorated codes?\n",
    "\n",
    "Unfortunately, these solutions are not good enough!"
   ]
  },
  {
   "cell_type": "markdown",
   "metadata": {
    "slideshow": {
     "slide_type": "subslide"
    }
   },
   "source": [
    "What about defining a new function that calls and decorates the original function?"
   ]
  },
  {
   "cell_type": "code",
   "execution_count": null,
   "metadata": {
    "ExecuteTime": {
     "end_time": "2020-10-29T01:03:08.117214Z",
     "start_time": "2020-10-29T01:03:08.058791Z"
    },
    "code_folding": [],
    "slideshow": {
     "slide_type": "fragment"
    }
   },
   "outputs": [],
   "source": [
    "def fibonacci(n):\n",
    "    '''Returns the Fibonacci number of order n.'''\n",
    "    return fibonacci(n - 1) + fibonacci(n - 2) if n > 1 else 1 if n is 1 else 0\n",
    "\n",
    "def fibonacci_decorated(n):\n",
    "    '''Returns the Fibonacci number of order n.'''\n",
    "    global count, depth\n",
    "    count += 1\n",
    "    depth += 1\n",
    "    print('{:>3}: {}fibonacci({!r})'.format(count, '|' * depth, n))\n",
    "    \n",
    "    value = fibonacci(n)\n",
    "    \n",
    "    depth -= 1\n",
    "    if depth is -1:  # recursion done\n",
    "        print('Done')\n",
    "        count = 0  # reset count for subsequent recursions\n",
    "    return value\n",
    "\n",
    "\n",
    "count, depth = 0, -1\n",
    "for n in range(6):\n",
    "    print(fibonacci_decorated(n))    "
   ]
  },
  {
   "cell_type": "markdown",
   "metadata": {
    "slideshow": {
     "slide_type": "fragment"
    }
   },
   "source": [
    "We want `fibonacci` to call `fibonacci_decorated` instead.  \n",
    "What about renaming `fibonacci_decorated` to `fibonacci`?\n",
    "\n",
    "```Python\n",
    "fibonacci = fibonacci_decorated\n",
    "count, depth = 0, -1\n",
    "fibonacci_decorated(10)\n",
    "```\n",
    "\n",
    "(If you are faint-hearted, don't run the above code.)"
   ]
  },
  {
   "cell_type": "markdown",
   "metadata": {
    "slideshow": {
     "slide_type": "fragment"
    }
   },
   "source": [
    "We want `fibonacci_decorated` to call the original `fibonacci`."
   ]
  },
  {
   "cell_type": "markdown",
   "metadata": {
    "slideshow": {
     "slide_type": "subslide"
    }
   },
   "source": [
    "The solution is to capture the original `fibonacci` in a closure:"
   ]
  },
  {
   "cell_type": "code",
   "execution_count": null,
   "metadata": {
    "ExecuteTime": {
     "end_time": "2020-10-29T01:03:11.199752Z",
     "start_time": "2020-10-29T01:03:11.193687Z"
    },
    "code_folding": [],
    "jupyter": {
     "outputs_hidden": true
    },
    "slideshow": {
     "slide_type": "fragment"
    }
   },
   "outputs": [],
   "source": [
    "import functools\n",
    "\n",
    "\n",
    "def print_function_call(f):\n",
    "    '''Return a decorator that prints function calls.'''\n",
    "    @functools.wraps(f)  # give wrapper the identity of f and more\n",
    "    def wrapper(*args, **kwargs):\n",
    "        nonlocal count, depth\n",
    "        count += 1\n",
    "        depth += 1\n",
    "        call = '{}{}'.format(f.__name__, argument_string(*args, **kwargs))\n",
    "        print('{:>3}:{}{}'.format(count, '|' * depth, call))\n",
    "\n",
    "        value = f(*args, **kwargs)  # wrapper calls f\n",
    "\n",
    "        depth -= 1\n",
    "        if depth is -1:\n",
    "            print('Done')\n",
    "            count = 0\n",
    "        return value\n",
    "\n",
    "    count, depth = 0, -1\n",
    "    return wrapper  # return the decorated function"
   ]
  },
  {
   "cell_type": "markdown",
   "metadata": {
    "slideshow": {
     "slide_type": "fragment"
    }
   },
   "source": [
    "`print_function_call` takes in `f` and returns `wrapper`, which captures and decorates `f`:\n",
    "- `wrapper` expects the same set of arguments for `f`,  \n",
    "- returns the same value returned by `f` on the arguments, but\n",
    "- can execute additional codes before and after calling `f` to print the function call."
   ]
  },
  {
   "cell_type": "markdown",
   "metadata": {
    "slideshow": {
     "slide_type": "fragment"
    }
   },
   "source": [
    "By redefining `fibonacci` as the returned `wrapper`, the original `fibonacci` captured by `wrapper` calls `wrapper` as desired."
   ]
  },
  {
   "cell_type": "code",
   "execution_count": null,
   "metadata": {
    "ExecuteTime": {
     "end_time": "2020-10-29T01:03:13.724992Z",
     "start_time": "2020-10-29T01:03:13.714675Z"
    },
    "code_folding": []
   },
   "outputs": [],
   "source": [
    "def fibonacci(n):\n",
    "    return fibonacci(n - 1) + fibonacci(n - 2) if n > 1 else 1 if n is 1 else 0\n",
    "\n",
    "\n",
    "fibonacci = print_function_call(fibonacci)  # so original fibonnacci calls wrapper\n",
    "fibonacci(5)"
   ]
  },
  {
   "cell_type": "markdown",
   "metadata": {
    "slideshow": {
     "slide_type": "fragment"
    }
   },
   "source": [
    "The redefinition does not change the original `fibonacci` captured by `wrapper`.\n",
    "You don't need to understand the following code. What it demonstrates is the source code of fibonacci() is not changed."
   ]
  },
  {
   "cell_type": "code",
   "execution_count": null,
   "metadata": {
    "ExecuteTime": {
     "end_time": "2020-10-19T14:13:47.688321Z",
     "start_time": "2020-10-19T14:13:47.680783Z"
    },
    "slideshow": {
     "slide_type": "fragment"
    }
   },
   "outputs": [],
   "source": [
    "import inspect\n",
    "for cell in fibonacci.__closure__:\n",
    "    if callable(cell.cell_contents):\n",
    "        print(inspect.getsource(cell.cell_contents))"
   ]
  },
  {
   "cell_type": "markdown",
   "metadata": {
    "slideshow": {
     "slide_type": "subslide"
    }
   },
   "source": [
    "Python provides the syntatic sugar below to simplify the redefinition.\n",
    "- syntactic sugar is syntax within a programming language that is designed to make things easier to read or to express\n",
    "- more information [here](https://en.wikipedia.org/wiki/Syntactic_sugar#:~:text=In%20computer%20science%2C%20syntactic%20sugar,style%20that%20some%20may%20prefer.)"
   ]
  },
  {
   "cell_type": "code",
   "execution_count": null,
   "metadata": {
    "ExecuteTime": {
     "end_time": "2020-10-29T01:03:19.719507Z",
     "start_time": "2020-10-29T01:03:19.618718Z"
    },
    "code_folding": [],
    "jupyter": {
     "outputs_hidden": true
    },
    "slideshow": {
     "slide_type": "-"
    }
   },
   "outputs": [],
   "source": [
    "@print_function_call\n",
    "def fibonacci(n):\n",
    "    return fibonacci(n - 1) + fibonacci(n - 2) if n > 1 else 1 if n is 1 else 0\n",
    "\n",
    "#fibonacci = print_function_call(fibonacci) #if we use @print_function_call, we don't need this line\n",
    "fibonacci(5)"
   ]
  },
  {
   "cell_type": "markdown",
   "metadata": {
    "slideshow": {
     "slide_type": "subslide"
    }
   },
   "source": [
    "There are many techniques used in the above decorator."
   ]
  },
  {
   "cell_type": "markdown",
   "metadata": {
    "slideshow": {
     "slide_type": "fragment"
    }
   },
   "source": [
    "**Why use a variable number of arguments in `wrapper`**"
   ]
  },
  {
   "cell_type": "markdown",
   "metadata": {
    "slideshow": {
     "slide_type": "fragment"
    }
   },
   "source": [
    "To decorate any function with possibly different number of arguments."
   ]
  },
  {
   "cell_type": "markdown",
   "metadata": {
    "slideshow": {
     "slide_type": "subslide"
    }
   },
   "source": [
    "**Why decorate the wrapper with `@functools.wraps(f)`?**"
   ]
  },
  {
   "cell_type": "markdown",
   "metadata": {
    "slideshow": {
     "slide_type": "fragment"
    }
   },
   "source": [
    "- Ensures some attributes (such as `__name__`) of the wrapper function is the same as those of `f`.\n",
    "- Add useful attributes. E.g., `__wrapped__` stores the original function so we can undo the decoration.\n"
   ]
  },
  {
   "cell_type": "code",
   "execution_count": null,
   "metadata": {
    "ExecuteTime": {
     "end_time": "2020-10-29T01:03:23.591384Z",
     "start_time": "2020-10-29T01:03:23.579076Z"
    },
    "slideshow": {
     "slide_type": "fragment"
    }
   },
   "outputs": [],
   "source": [
    "#this is the original fibonacci function\n",
    "fibonacci = fibonacci.__wrapped__  # recover\n",
    "print('original fibonacci:')\n",
    "print(fibonacci(5))\n",
    "\n",
    "#this is the fibonacci function after decoration\n",
    "#fibonacci = fibonacci_decorated  # decorate\n",
    "#print('decorated fibonacci:')\n",
    "#print(fibonacci(5))"
   ]
  },
  {
   "cell_type": "markdown",
   "metadata": {
    "slideshow": {
     "slide_type": "subslide"
    }
   },
   "source": [
    "**How to use decorator to improve recursion?**"
   ]
  },
  {
   "cell_type": "markdown",
   "metadata": {
    "slideshow": {
     "slide_type": "fragment"
    }
   },
   "source": [
    "We can also use a decorator to make recursion more efficient by caching the return values.  \n",
    "\n",
    "In the example below, it defines another decorator caching(). In caching(), `cache` is a dictionary where `cache[n]` stores the computed value of $F_n$ to avoid redundant computations."
   ]
  },
  {
   "cell_type": "code",
   "execution_count": null,
   "metadata": {
    "ExecuteTime": {
     "end_time": "2020-10-20T15:55:44.677700Z",
     "start_time": "2020-10-20T15:55:44.668366Z"
    },
    "jupyter": {
     "outputs_hidden": true
    },
    "slideshow": {
     "slide_type": "fragment"
    }
   },
   "outputs": [],
   "source": [
    "def caching(f):\n",
    "    '''Return a decorator that caches a function with a single argument.'''\n",
    "    @functools.wraps(f)\n",
    "    def wrapper(n):\n",
    "        if n not in cache:\n",
    "            cache[n] = f(n)\n",
    "        else:\n",
    "            print('read from cache')\n",
    "        return cache[n]\n",
    "\n",
    "    cache = {}\n",
    "    wrapper.clear_cache = lambda : cache.clear()  # add method to clear cache\n",
    "    return wrapper\n",
    "\n",
    "\n",
    "@print_function_call         #here we use two decorators, it means fibonacci=print_function_call(caching(fibonacci))\n",
    "@caching\n",
    "def fibonacci(n):\n",
    "    return fibonacci(n - 1) + fibonacci(n - 2) if n > 1 else 1 if n is 1 else 0"
   ]
  },
  {
   "cell_type": "code",
   "execution_count": null,
   "metadata": {
    "ExecuteTime": {
     "end_time": "2020-10-20T16:05:40.389245Z",
     "start_time": "2020-10-20T16:05:40.319135Z"
    },
    "jupyter": {
     "outputs_hidden": true
    },
    "slideshow": {
     "slide_type": "fragment"
    }
   },
   "outputs": [],
   "source": [
    "fibonacci(5)\n",
    "fibonacci(5)\n",
    "fibonacci.clear_cache()\n",
    "fibonacci(5)"
   ]
  },
  {
   "cell_type": "markdown",
   "metadata": {
    "slideshow": {
     "slide_type": "fragment"
    }
   },
   "source": [
    "A method `clear_cache` is added to the wrapper to clear the cache.   \n",
    "`lambda <argument list> : <expression>`is called a [*lambda* expression](https://docs.python.org/3/reference/expressions.html#lambda), which conveniently defines an *anonymous function*."
   ]
  },
  {
   "cell_type": "code",
   "execution_count": null,
   "metadata": {
    "ExecuteTime": {
     "end_time": "2020-10-19T14:37:23.484852Z",
     "start_time": "2020-10-19T14:37:23.407472Z"
    }
   },
   "outputs": [],
   "source": [
    "#this example shows how a lambda expression works\n",
    "\n",
    "add= lambda x,y:x+y\n",
    "\n",
    "print(add(2,3)) # 2+3\n",
    "\n",
    "#add= lambda x,y:x+y is equivalent to define a function below\n",
    "\n",
    "def add(x,y):\n",
    "    return x+y"
   ]
  },
  {
   "cell_type": "code",
   "execution_count": null,
   "metadata": {
    "ExecuteTime": {
     "end_time": "2020-10-19T14:31:19.091564Z",
     "start_time": "2020-10-19T14:31:19.073215Z"
    },
    "slideshow": {
     "slide_type": "fragment"
    }
   },
   "outputs": [],
   "source": [
    "type(fibonacci.clear_cache), fibonacci.clear_cache.__name__"
   ]
  },
  {
   "cell_type": "markdown",
   "metadata": {},
   "source": [
    "**A short summary**\n",
    "1. what is decorator\n",
    "2. How to use decorator"
   ]
  },
  {
   "cell_type": "markdown",
   "metadata": {
    "slideshow": {
     "slide_type": "slide"
    }
   },
   "source": [
    "## Module"
   ]
  },
  {
   "cell_type": "markdown",
   "metadata": {
    "slideshow": {
     "slide_type": "subslide"
    }
   },
   "source": [
    "**How to create a module?**"
   ]
  },
  {
   "cell_type": "markdown",
   "metadata": {
    "slideshow": {
     "slide_type": "fragment"
    }
   },
   "source": [
    "To create a module, simply put the code in a python source file `<module name>.py` in\n",
    "- the current directory, or\n",
    "- a python *site-packages* directory in system path."
   ]
  },
  {
   "cell_type": "code",
   "execution_count": null,
   "metadata": {
    "ExecuteTime": {
     "end_time": "2020-10-19T13:39:22.783850Z",
     "start_time": "2020-10-19T13:39:22.707002Z"
    },
    "slideshow": {
     "slide_type": "-"
    }
   },
   "outputs": [],
   "source": [
    "import sys\n",
    "print(sys.path)"
   ]
  },
  {
   "cell_type": "markdown",
   "metadata": {
    "slideshow": {
     "slide_type": "subslide"
    }
   },
   "source": [
    "For example, to create a module for generating Fibonacci numbers:"
   ]
  },
  {
   "cell_type": "code",
   "execution_count": null,
   "metadata": {
    "ExecuteTime": {
     "end_time": "2020-10-29T02:30:09.855946Z",
     "start_time": "2020-10-29T02:30:09.847170Z"
    },
    "slideshow": {
     "slide_type": "-"
    }
   },
   "outputs": [],
   "source": [
    "%more fibonacci.py"
   ]
  },
  {
   "cell_type": "code",
   "execution_count": null,
   "metadata": {
    "ExecuteTime": {
     "end_time": "2020-10-20T17:34:19.789268Z",
     "start_time": "2020-10-20T17:34:19.779184Z"
    },
    "slideshow": {
     "slide_type": "-"
    }
   },
   "outputs": [],
   "source": [
    "import fibonacci as fib # as statement shortens name\n",
    "help(fib)"
   ]
  },
  {
   "cell_type": "code",
   "execution_count": null,
   "metadata": {
    "ExecuteTime": {
     "end_time": "2020-10-20T17:34:22.483830Z",
     "start_time": "2020-10-20T17:34:22.453536Z"
    },
    "slideshow": {
     "slide_type": "-"
    }
   },
   "outputs": [],
   "source": [
    "print(fib.fibonacci(5))\n",
    "print(fib.fibonacci_iteration(5))"
   ]
  },
  {
   "cell_type": "code",
   "execution_count": null,
   "metadata": {
    "ExecuteTime": {
     "end_time": "2020-10-29T07:09:04.174334Z",
     "start_time": "2020-10-29T07:09:04.163267Z"
    }
   },
   "outputs": [],
   "source": [
    "def concatenate_sortDict(*args):\n",
    "    \n",
    "    dic_new={}\n",
    "    \n",
    "    for d in args: dic_new.update(d)\n",
    "    \n",
    "    sorted_dict = {x: sorted(y) for x, y in dic_new.items()}\n",
    "\n",
    "    return sorted_dict\n",
    "    \n",
    "    \n",
    "dic1={'apple': [1, 3, 2,8], 'banana': [ 7,6, 5, 4]}\n",
    "dic2={'cici': [7, 9, 8], 'dada': [12, 18, 10]}\n",
    "print(concatenate_sortDict(dic1, dic2))"
   ]
  },
  {
   "cell_type": "code",
   "execution_count": null,
   "metadata": {
    "ExecuteTime": {
     "end_time": "2020-10-29T08:13:52.555994Z",
     "start_time": "2020-10-29T08:13:52.544023Z"
    }
   },
   "outputs": [],
   "source": [
    "def find_match(x,y):\n",
    "    L=[]\n",
    "    for (key, value) in set(x.items()) & set(y.items()):\n",
    "        L.append(value)\n",
    "        \n",
    "    L=sorted(L)    \n",
    "    return L\n",
    "        \n",
    "        \n",
    "\n",
    "x={'key1': 10}\n",
    "y={'key2': 30, 'key4': 60, 'key5': 10, 'key6':90}\n",
    "find_match(x, y)"
   ]
  },
  {
   "cell_type": "code",
   "execution_count": null,
   "metadata": {
    "ExecuteTime": {
     "end_time": "2020-10-30T05:21:09.384309Z",
     "start_time": "2020-10-30T05:21:09.371853Z"
    }
   },
   "outputs": [],
   "source": [
    "def d(func):\n",
    "    def inner(p):\n",
    "        p = sorted(p,key = lambda x:x[1])\n",
    "        #print p\n",
    "        return [func(i) for i in p]\n",
    "        #return sorted([f(i) for i in p],key = lambda x: x[1])\n",
    "    return inner\n",
    "@d\n",
    "def f(person):\n",
    "    title = {'M':'Mr.','F':'Ms.'}\n",
    "    #print person[2]\n",
    "    #print title[person[2]] + ' ' + person[0]\n",
    "    return title[person[2]] + ' ' + person[0]\n",
    "    \n",
    "input_s=['Mike Thomson 20 M','Robert Bustle 32 M','Andria Bustle 30 F']\n",
    "\n",
    "n=len(input_s)\n",
    "person=[]\n",
    "\n",
    "for i in range(n):\n",
    "    string = input_s[i]\n",
    "    s=string.split()\n",
    "    name = s[0] + ' ' + s[1]\n",
    "    age = int(s[2])\n",
    "    gender = s[3]\n",
    "    person.append([name,age,gender])\n",
    "    print(person)\n",
    "#print p\n",
    "#print (\"\\n\".join(f(person)))"
   ]
  },
  {
   "cell_type": "code",
   "execution_count": 6,
   "metadata": {
    "ExecuteTime": {
     "end_time": "2020-10-30T05:54:43.174625Z",
     "start_time": "2020-10-30T05:54:43.158905Z"
    }
   },
   "outputs": [
    {
     "name": "stdout",
     "output_type": "stream",
     "text": [
      "Ms. Andria July\n",
      "Mr. Mike Bustle\n",
      "Mr. John Bergmann\n",
      "Ms. Ying Lau\n",
      "Mr. Colin Song\n"
     ]
    }
   ],
   "source": [
    "def name_directory(input_s):\n",
    "    title = {'M':'Mr.','F':'Ms.'}\n",
    "    \n",
    "    person=[]\n",
    "\n",
    "    for i in range(len(input_s)):\n",
    "        string = input_s[i]\n",
    "        s=string.split()\n",
    "        name = s[0] + ' ' + s[1]\n",
    "        age = int(s[2])\n",
    "        gender = s[3]\n",
    "        person.append([name,age,gender])\n",
    "        \n",
    "    person = sorted(person,key = lambda x:x[1])\n",
    "   \n",
    "    \n",
    "    for p in person:      \n",
    "        print(title[p[2]] + ' ' + p[0])\n",
    "        \n",
    "    \n",
    "input_s=['Mike Bustle 18 M','John Bergmann 25 M','Andria July 12 F', 'Colin Song 35 M', 'Ying Lau 25 F']\n",
    "name_directory(input_s)\n",
    "\n"
   ]
  },
  {
   "cell_type": "code",
   "execution_count": 22,
   "metadata": {
    "ExecuteTime": {
     "end_time": "2020-11-22T11:09:01.276237Z",
     "start_time": "2020-11-22T11:09:01.265000Z"
    }
   },
   "outputs": [
    {
     "data": {
      "text/plain": [
       "'10001'"
      ]
     },
     "execution_count": 22,
     "metadata": {},
     "output_type": "execute_result"
    }
   ],
   "source": [
    "def add_binary(a, b):\n",
    "    answer = []\n",
    "    n = max(len(a), len(b))\n",
    "    # fill necessary '0' to the beginning to make a and b have the same length\n",
    "    if len(a) < n: a = str('0' * (n -len(a))) + a \n",
    "    if len(b) < n: b = str('0' * (n -len(b))) + b\n",
    "    carry = 0\n",
    "    for i in range(n-1, -1, -1):\n",
    "        if a[i] == '1': carry += 1\n",
    "        if b[i] == '1': carry += 1\n",
    "        answer.insert(0, '1') if carry % 2 == 1 else answer.insert(0, '0')\n",
    "        carry //= 2\n",
    "    if carry == 1: answer.insert(0, '1')\n",
    "    answer_str = ''.join(answer) # you can also use \"answer_str = '';  for x in answer: answer_str += x\"\n",
    "    return answer_str\n",
    "\n",
    "add_binary('1111', '10')"
   ]
  },
  {
   "cell_type": "code",
   "execution_count": null,
   "metadata": {},
   "outputs": [],
   "source": []
  }
 ],
 "metadata": {
  "celltoolbar": "Slideshow",
  "kernelspec": {
   "display_name": "Python 3",
   "language": "python",
   "name": "python3"
  },
  "language_info": {
   "codemirror_mode": {
    "name": "ipython",
    "version": 3
   },
   "file_extension": ".py",
   "mimetype": "text/x-python",
   "name": "python",
   "nbconvert_exporter": "python",
   "pygments_lexer": "ipython3",
   "version": "3.7.9"
  },
  "latex_envs": {
   "LaTeX_envs_menu_present": true,
   "autoclose": false,
   "autocomplete": true,
   "bibliofile": "biblio.bib",
   "cite_by": "apalike",
   "current_citInitial": 1,
   "eqLabelWithNumbers": true,
   "eqNumInitial": 1,
   "hotkeys": {
    "equation": "Ctrl-E",
    "itemize": "Ctrl-I"
   },
   "labels_anchors": false,
   "latex_user_defs": false,
   "report_style_numbering": false,
   "user_envs_cfg": false
  },
  "rise": {
   "enable_chalkboard": true,
   "scroll": true,
   "theme": "white"
  },
  "toc": {
   "base_numbering": 1,
   "nav_menu": {
    "height": "195px",
    "width": "330px"
   },
   "number_sections": true,
   "sideBar": true,
   "skip_h1_title": true,
   "title_cell": "Table of Contents",
   "title_sidebar": "Contents",
   "toc_cell": false,
   "toc_position": {
    "height": "454.418px",
    "left": "1533px",
    "top": "110.284px",
    "width": "261px"
   },
   "toc_section_display": true,
   "toc_window_display": false
  }
 },
 "nbformat": 4,
 "nbformat_minor": 4
}

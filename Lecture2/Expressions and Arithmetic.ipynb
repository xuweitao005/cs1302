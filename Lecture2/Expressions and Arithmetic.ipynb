{
 "cells": [
  {
   "cell_type": "markdown",
   "metadata": {
    "slideshow": {
     "slide_type": "slide"
    }
   },
   "source": [
    "# Expressions and Arithmetic\n",
    "\n",
    "**CS1302 Introduction to Computer Programming**\n",
    "___"
   ]
  },
  {
   "cell_type": "markdown",
   "metadata": {
    "slideshow": {
     "slide_type": "slide"
    }
   },
   "source": [
    "## Operators"
   ]
  },
  {
   "cell_type": "markdown",
   "metadata": {
    "slideshow": {
     "slide_type": "fragment"
    }
   },
   "source": [
    "The followings are common operators you can use to form an expression in Python:"
   ]
  },
  {
   "cell_type": "markdown",
   "metadata": {
    "slideshow": {
     "slide_type": "-"
    }
   },
   "source": [
    "| Operator  |   Operation    | Example |\n",
    "| --------: | :------------- | :-----: |\n",
    "| unary `-` | Negation       |  `-y`   |\n",
    "|       `+` | Addition       | `x + y` |\n",
    "|       `-` | Subtraction    | `x - y` |\n",
    "|       `*` | Multiplication |  `x*y`  |\n",
    "|       `/` | Division       |  `x/y`  |"
   ]
  },
  {
   "cell_type": "markdown",
   "metadata": {
    "slideshow": {
     "slide_type": "fragment"
    }
   },
   "source": [
    "- `x` and `y` in the examples are called the *left and right operands* respectively.\n",
    "- The first operator is a *unary operator*, which operates on just one operand.   \n",
    "    (`+` can also be used as a unary operator, but that is not useful.)\n",
    "- All other operators are *binary operators*, which operate on two operands."
   ]
  },
  {
   "cell_type": "markdown",
   "metadata": {
    "slideshow": {
     "slide_type": "fragment"
    }
   },
   "source": [
    "Python also supports some more operators such as the followings:"
   ]
  },
  {
   "cell_type": "markdown",
   "metadata": {
    "slideshow": {
     "slide_type": "-"
    }
   },
   "source": [
    "| Operator |    Operation     | Example |\n",
    "| -------: | :--------------- | :-----: |\n",
    "|     `//` | Integer division | `x//y`  |\n",
    "|      `%` | Modulo           |  `x%y`  |\n",
    "|     `**` | Exponentiation   | `x**y`  |"
   ]
  },
  {
   "cell_type": "code",
   "execution_count": null,
   "metadata": {
    "ExecuteTime": {
     "end_time": "2021-01-16T11:59:53.234349Z",
     "start_time": "2021-01-16T11:59:53.192562Z"
    },
    "code_folding": [],
    "slideshow": {
     "slide_type": "fragment"
    }
   },
   "outputs": [],
   "source": [
    "# ipywidgets to demonstrate the operations of binary operators\n",
    "from ipywidgets import interact\n",
    "binary_operators = {'+':' + ','-':' - ','*':'*','/':'/','//':'//','%':'%','**':'**'}\n",
    "@interact(operand1=r'10',\n",
    "          operator=binary_operators,\n",
    "          operand2=r'3')\n",
    "def binary_operation(operand1,operator,operand2):\n",
    "    expression = f\"{operand1}{operator}{operand2}\"\n",
    "    value = eval(expression)\n",
    "    print(f\"\"\"{'Expression:':>11} {expression}\\n{'Value:':>11} {value}\\n{'Type:':>11} {type(value)}\"\"\")"
   ]
  },
  {
   "cell_type": "markdown",
   "metadata": {
    "slideshow": {
     "slide_type": "fragment"
    }
   },
   "source": [
    "**Exercise** What is the difference between `/` and `//`?"
   ]
  },
  {
   "cell_type": "markdown",
   "metadata": {
    "deletable": false,
    "nbgrader": {
     "cell_type": "markdown",
     "checksum": "bb9d7652c3d48ca53bba8eccf492ef05",
     "grade": true,
     "grade_id": "integer-division",
     "locked": false,
     "points": 0,
     "schema_version": 3,
     "solution": true,
     "task": false
    },
    "slideshow": {
     "slide_type": "-"
    }
   },
   "source": [
    "YOUR ANSWER HERE"
   ]
  },
  {
   "cell_type": "markdown",
   "metadata": {
    "slideshow": {
     "slide_type": "fragment"
    }
   },
   "source": [
    "**What does the modulo operator `%` do?**"
   ]
  },
  {
   "cell_type": "markdown",
   "metadata": {
    "slideshow": {
     "slide_type": "-"
    }
   },
   "source": [
    "You can think of it as computing the remainder, but the [truth](https://docs.python.org/3/reference/expressions.html#binary-arithmetic-operations) is more complicated than required for the course."
   ]
  },
  {
   "cell_type": "markdown",
   "metadata": {
    "slideshow": {
     "slide_type": "fragment"
    }
   },
   "source": [
    "**Exercise** What does `'abc' * 3` mean? What about `10 * 'a'`?"
   ]
  },
  {
   "cell_type": "markdown",
   "metadata": {
    "slideshow": {
     "slide_type": "-"
    }
   },
   "source": [
    "- The first expression means concatenating `'abc'` three times.\n",
    "- The second means concatenating `'a'` ten times."
   ]
  },
  {
   "cell_type": "markdown",
   "metadata": {
    "slideshow": {
     "slide_type": "fragment"
    }
   },
   "source": [
    "**Exercise** How can you change the default operands (`10` and `3`) for different operators so that the overall expression has type `float`.  \n",
    "Do you need to change all the operands to `float`?"
   ]
  },
  {
   "cell_type": "markdown",
   "metadata": {
    "deletable": false,
    "nbgrader": {
     "cell_type": "markdown",
     "checksum": "c17c6d48f40d50c42237ef5705b4b0af",
     "grade": true,
     "grade_id": "mixed-type",
     "locked": false,
     "points": 0,
     "schema_version": 3,
     "solution": true,
     "task": false
    },
    "slideshow": {
     "slide_type": "-"
    }
   },
   "source": [
    "YOUR ANSWER HERE"
   ]
  },
  {
   "cell_type": "markdown",
   "metadata": {
    "slideshow": {
     "slide_type": "slide"
    }
   },
   "source": [
    "## Operator Precedence and Associativity"
   ]
  },
  {
   "cell_type": "markdown",
   "metadata": {
    "slideshow": {
     "slide_type": "fragment"
    }
   },
   "source": [
    "An expression can consist of a sequence of operations performed in a row such as `x + y*z`."
   ]
  },
  {
   "cell_type": "markdown",
   "metadata": {
    "slideshow": {
     "slide_type": "fragment"
    }
   },
   "source": [
    "**How to determine which operation should be performed first?**"
   ]
  },
  {
   "cell_type": "markdown",
   "metadata": {
    "slideshow": {
     "slide_type": "fragment"
    }
   },
   "source": [
    "Like arithmetics, the order of operations is decided based on the following rules applied sequentially: \n",
    "1. *grouping* by parentheses: inner grouping first\n",
    "1. operator *precedence/priority*: higher precedence first\n",
    "1. operator *associativity*:\n",
    "    - left associativity: left operand first\n",
    "    - right associativity: right operand first"
   ]
  },
  {
   "cell_type": "markdown",
   "metadata": {
    "slideshow": {
     "slide_type": "subslide"
    }
   },
   "source": [
    "**What are the operator precedence and associativity?**"
   ]
  },
  {
   "cell_type": "markdown",
   "metadata": {
    "slideshow": {
     "slide_type": "fragment"
    }
   },
   "source": [
    "The following table gives a concise summary:"
   ]
  },
  {
   "cell_type": "markdown",
   "metadata": {
    "slideshow": {
     "slide_type": "-"
    }
   },
   "source": [
    "|    Operators     | Associativity |\n",
    "| :--------------- | :-----------: |\n",
    "| `**`             |     right     |\n",
    "| `-` (unary)      |               |\n",
    "| `*`,`/`,`//`,`%` |     left      |\n",
    "| `+`,`-`          |     left      |\n",
    "| `=`              |     right     |"
   ]
  },
  {
   "cell_type": "markdown",
   "metadata": {
    "slideshow": {
     "slide_type": "fragment"
    }
   },
   "source": [
    "**Exercise** Play with the following widget to understand the precedence and associativity of different operators.  \n",
    "In particular, explain whether the expression `-10 ** 2*3` give $(-10)^{2\\times 3}= 10^6 = 1000000$."
   ]
  },
  {
   "cell_type": "code",
   "execution_count": null,
   "metadata": {
    "ExecuteTime": {
     "end_time": "2021-01-16T11:59:57.802149Z",
     "start_time": "2021-01-16T11:59:57.701813Z"
    },
    "slideshow": {
     "slide_type": "-"
    }
   },
   "outputs": [],
   "source": [
    "from ipywidgets import fixed\n",
    "@interact(operator1={'None':'','unary -':'-'},\n",
    "          operand1=fixed(r'10'),\n",
    "          operator2=binary_operators,\n",
    "          operand2=fixed(r'2'),\n",
    "          operator3=binary_operators,\n",
    "          operand3=fixed(r'3')\n",
    "          )\n",
    "def three_operators(operator1,operand1,operator2,operand2,operator3,operand3):\n",
    "    expression = f\"{operator1}{operand1}{operator2}{operand2}{operator3}{operand3}\"\n",
    "    value = eval(expression)\n",
    "    print(f\"\"\"{'Expression:':>11} {expression}\\n{'Value:':>11} {value}\\n{'Type:':>11} {type(value)}\"\"\")"
   ]
  },
  {
   "cell_type": "markdown",
   "metadata": {
    "deletable": false,
    "nbgrader": {
     "cell_type": "markdown",
     "checksum": "0c0b37e572d736ec00ff80462a498e5c",
     "grade": true,
     "grade_id": "precedence",
     "locked": false,
     "points": 0,
     "schema_version": 3,
     "solution": true,
     "task": false
    },
    "slideshow": {
     "slide_type": "-"
    }
   },
   "source": [
    "YOUR ANSWER HERE"
   ]
  },
  {
   "cell_type": "markdown",
   "metadata": {
    "slideshow": {
     "slide_type": "fragment"
    }
   },
   "source": [
    "**Exercise** To avoid confusion in the order of operations, we should follow the [style guide](https://www.python.org/dev/peps/pep-0008/#other-recommendations) when writing expression.  \n",
    "What is the proper way to write `-10 ** 2*3`? "
   ]
  },
  {
   "cell_type": "code",
   "execution_count": null,
   "metadata": {
    "ExecuteTime": {
     "end_time": "2020-09-13T03:15:58.894848Z",
     "start_time": "2020-09-13T03:15:58.891134Z"
    },
    "deletable": false,
    "nbgrader": {
     "cell_type": "code",
     "checksum": "3fad0d373e4d4bd412aac80ff6e16a28",
     "grade": true,
     "grade_id": "pep8",
     "locked": false,
     "points": 0,
     "schema_version": 3,
     "solution": true,
     "task": false
    },
    "slideshow": {
     "slide_type": "-"
    }
   },
   "outputs": [],
   "source": [
    "# YOUR CODE HERE\n",
    "raise NotImplementedError()"
   ]
  },
  {
   "cell_type": "markdown",
   "metadata": {
    "slideshow": {
     "slide_type": "slide"
    }
   },
   "source": [
    "## Augmented Assignment Operators"
   ]
  },
  {
   "cell_type": "markdown",
   "metadata": {
    "slideshow": {
     "slide_type": "fragment"
    }
   },
   "source": [
    "- For convenience, Python defines the [augmented assignment operators](https://docs.python.org/3/reference/simple_stmts.html#grammar-token-augmented-assignment-stmt) such as `+=`, where  \n",
    "- `x += 1` means `x = x + 1`."
   ]
  },
  {
   "cell_type": "markdown",
   "metadata": {
    "slideshow": {
     "slide_type": "fragment"
    }
   },
   "source": [
    "The following widgets demonstrate other augmented assignment operators."
   ]
  },
  {
   "cell_type": "code",
   "execution_count": null,
   "metadata": {
    "ExecuteTime": {
     "end_time": "2021-01-16T12:00:51.085688Z",
     "start_time": "2021-01-16T12:00:51.057543Z"
    },
    "slideshow": {
     "slide_type": "-"
    }
   },
   "outputs": [],
   "source": [
    "from ipywidgets import interact, fixed\n",
    "@interact(initial_value=fixed(r'10'),\n",
    "          operator=['+=','-=','*=','/=','//=','%=','**='],\n",
    "          operand=fixed(r'2'))\n",
    "def binary_operation(initial_value,operator,operand):\n",
    "    assignment = f\"x = {initial_value}\\nx {operator} {operand}\"\n",
    "    _locals = {}\n",
    "    exec(assignment,None,_locals)\n",
    "    print(f\"\"\"Assignments:\\n{assignment:>10}\\nx: {_locals['x']} ({type(_locals['x'])})\"\"\")"
   ]
  },
  {
   "cell_type": "markdown",
   "metadata": {
    "slideshow": {
     "slide_type": "fragment"
    }
   },
   "source": [
    "**Exercise** Can we create an expression using (augmented) assignment operators? Try running the code to see the effect."
   ]
  },
  {
   "cell_type": "code",
   "execution_count": null,
   "metadata": {
    "ExecuteTime": {
     "end_time": "2021-01-16T12:01:08.511432Z",
     "start_time": "2021-01-16T12:01:08.507545Z"
    },
    "slideshow": {
     "slide_type": "-"
    }
   },
   "outputs": [],
   "source": [
    "3*(x = 15)"
   ]
  },
  {
   "cell_type": "markdown",
   "metadata": {
    "deletable": false,
    "nbgrader": {
     "cell_type": "markdown",
     "checksum": "454a97bd9237b5f40285026dc7f4efcc",
     "grade": true,
     "grade_id": "assignment-statement",
     "locked": false,
     "points": 0,
     "schema_version": 3,
     "solution": true,
     "task": false
    },
    "slideshow": {
     "slide_type": "-"
    }
   },
   "source": [
    "YOUR ANSWER HERE"
   ]
  },
  {
   "cell_type": "markdown",
   "metadata": {},
   "source": [
    "## Summary\n",
    "* Integer, string, float\n",
    "* Variables\n",
    "* Expression\n",
    "* Arithmetics\n",
    "\n",
    "What you need to remember\n",
    "* basic concepts/functions of integer, string, and float\n",
    "* some methods in Python: print(), type(), round(), etc.\n",
    "* basic arithmetic operations, its precedence and associativity\n",
    "   * If you're unsure about the precedence and associativity, use ()!!\n",
    "   * E.g., (x+y)z, x+(yz)\n",
    "* Some topics are introduced but only for reference"
   ]
  },
  {
   "cell_type": "code",
   "execution_count": null,
   "metadata": {},
   "outputs": [],
   "source": []
  }
 ],
 "metadata": {
  "kernelspec": {
   "display_name": "Python 3.7",
   "language": "python",
   "name": "python3"
  },
  "language_info": {
   "codemirror_mode": {
    "name": "ipython",
    "version": 3
   },
   "file_extension": ".py",
   "mimetype": "text/x-python",
   "name": "python",
   "nbconvert_exporter": "python",
   "pygments_lexer": "ipython3",
   "version": "3.7.9"
  },
  "latex_envs": {
   "LaTeX_envs_menu_present": true,
   "autoclose": false,
   "autocomplete": true,
   "bibliofile": "biblio.bib",
   "cite_by": "apalike",
   "current_citInitial": 1,
   "eqLabelWithNumbers": true,
   "eqNumInitial": 1,
   "hotkeys": {
    "equation": "Ctrl-E",
    "itemize": "Ctrl-I"
   },
   "labels_anchors": false,
   "latex_user_defs": false,
   "report_style_numbering": false,
   "user_envs_cfg": false
  },
  "rise": {
   "enable_chalkboard": true,
   "scroll": true,
   "theme": "white"
  },
  "toc": {
   "base_numbering": 1,
   "nav_menu": {
    "height": "195px",
    "width": "330px"
   },
   "number_sections": true,
   "sideBar": true,
   "skip_h1_title": true,
   "title_cell": "Table of Contents",
   "title_sidebar": "Contents",
   "toc_cell": false,
   "toc_position": {
    "height": "454.418px",
    "left": "1533px",
    "top": "110.284px",
    "width": "435.327px"
   },
   "toc_section_display": true,
   "toc_window_display": false
  }
 },
 "nbformat": 4,
 "nbformat_minor": 4
}

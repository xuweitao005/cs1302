{
 "cells": [
  {
   "cell_type": "markdown",
   "metadata": {
    "slideshow": {
     "slide_type": "slide"
    }
   },
   "source": [
    "# Values and Variables\n",
    "\n",
    "**CS1302 Introduction to Computer Programming**\n",
    "___"
   ]
  },
  {
   "cell_type": "code",
   "execution_count": 37,
   "metadata": {
    "ExecuteTime": {
     "end_time": "2021-01-17T09:39:42.765496Z",
     "start_time": "2021-01-17T09:39:42.723794Z"
    },
    "hide_input": true,
    "init_cell": true
   },
   "outputs": [],
   "source": [
    "# set up environment\n",
    "%reset -f\n",
    "import sys\n",
    "cs1302_site_packages = '/home/course/cs1302/site-packages'\n",
    "if cs1302_site_packages not in sys.path:\n",
    "    sys.path.append(cs1302_site_packages)\n",
    "%reload_ext mytutor"
   ]
  },
  {
   "cell_type": "markdown",
   "metadata": {},
   "source": [
    "Content:\n",
    "* Integer, string and floating point number\n",
    "* Variable and assignment\n",
    "* Expression and arithmetics\n"
   ]
  },
  {
   "cell_type": "markdown",
   "metadata": {
    "slideshow": {
     "slide_type": "slide"
    }
   },
   "source": [
    "## Integers"
   ]
  },
  {
   "cell_type": "markdown",
   "metadata": {
    "slideshow": {
     "slide_type": "subslide"
    }
   },
   "source": [
    "**How to enter an [integer](https://docs.python.org/3/reference/lexical_analysis.html#integer-literals) in a program?**"
   ]
  },
  {
   "cell_type": "code",
   "execution_count": 4,
   "metadata": {
    "ExecuteTime": {
     "end_time": "2021-01-17T03:03:18.620113Z",
     "start_time": "2021-01-17T03:03:18.611047Z"
    },
    "slideshow": {
     "slide_type": "fragment"
    }
   },
   "outputs": [
    {
     "data": {
      "text/plain": [
       "15"
      ]
     },
     "execution_count": 4,
     "metadata": {},
     "output_type": "execute_result"
    }
   ],
   "source": [
    "10\n",
    "15  # an integer in decimal"
   ]
  },
  {
   "cell_type": "code",
   "execution_count": 5,
   "metadata": {
    "ExecuteTime": {
     "end_time": "2021-01-17T03:03:21.732201Z",
     "start_time": "2021-01-17T03:03:21.725699Z"
    },
    "slideshow": {
     "slide_type": "-"
    }
   },
   "outputs": [
    {
     "data": {
      "text/plain": [
       "15"
      ]
     },
     "execution_count": 5,
     "metadata": {},
     "output_type": "execute_result"
    }
   ],
   "source": [
    "0b1111  # a binary number"
   ]
  },
  {
   "cell_type": "code",
   "execution_count": 6,
   "metadata": {
    "ExecuteTime": {
     "end_time": "2021-01-17T03:03:24.213822Z",
     "start_time": "2021-01-17T03:03:24.208560Z"
    },
    "slideshow": {
     "slide_type": "-"
    }
   },
   "outputs": [
    {
     "data": {
      "text/plain": [
       "15"
      ]
     },
     "execution_count": 6,
     "metadata": {},
     "output_type": "execute_result"
    }
   ],
   "source": [
    "0xF  # hexadecimal (base 16) with possible digits 1,2,3,4,5,6,7,8,9,A,B,C,D,E,F"
   ]
  },
  {
   "cell_type": "markdown",
   "metadata": {
    "slideshow": {
     "slide_type": "subslide"
    }
   },
   "source": [
    "**Why all outputs are the same?**"
   ]
  },
  {
   "cell_type": "markdown",
   "metadata": {
    "slideshow": {
     "slide_type": "fragment"
    }
   },
   "source": [
    "- What you have entered are *integer literals*, which are integers written out literally. \n",
    "   - [literal](https://thabo-ambrose.medium.com/what-is-a-literal-in-computer-programming-560eace90b5b): In computer science, a literal is a notation for representing a fixed value\n",
    "   - For example, a=5. a is a variable (introduced later in this lecture), and 5 is a literal.\n",
    "- All the literals have the same integer value in decimal.\n",
    "- By default, if the last line of a code cell has a value, the jupyter notebook (*IPython*) will store and display the value as an output. "
   ]
  },
  {
   "cell_type": "code",
   "execution_count": 7,
   "metadata": {
    "ExecuteTime": {
     "end_time": "2021-01-17T03:06:53.632943Z",
     "start_time": "2021-01-17T03:06:53.627477Z"
    },
    "slideshow": {
     "slide_type": "fragment"
    }
   },
   "outputs": [
    {
     "data": {
      "text/plain": [
       "15"
      ]
     },
     "execution_count": 7,
     "metadata": {},
     "output_type": "execute_result"
    }
   ],
   "source": [
    "3  # not the output of this cell\n",
    "15"
   ]
  },
  {
   "cell_type": "markdown",
   "metadata": {
    "slideshow": {
     "slide_type": "fragment"
    }
   },
   "source": [
    "- The last line above also has the same value, `15`.\n",
    "- It is an *expression* (but not a literal) that *evaluates* to the integer value."
   ]
  },
  {
   "cell_type": "markdown",
   "metadata": {
    "ExecuteTime": {
     "end_time": "2020-09-03T07:24:24.962834Z",
     "start_time": "2020-09-03T07:24:24.956011Z"
    },
    "slideshow": {
     "slide_type": "subslide"
    }
   },
   "source": [
    "**Exercise** Enter an expression that evaluates to an integer value, as big as possible.  \n",
    "(You may need to interrupt the kernel if the expression takes too long to evaluate.)"
   ]
  },
  {
   "cell_type": "code",
   "execution_count": 8,
   "metadata": {
    "ExecuteTime": {
     "end_time": "2021-01-17T03:08:37.564725Z",
     "start_time": "2021-01-17T03:08:37.560229Z"
    },
    "deletable": false,
    "nbgrader": {
     "cell_type": "code",
     "checksum": "d6ce032e84f49cd962816c07606a6ff4",
     "grade": true,
     "grade_id": "big-int",
     "locked": false,
     "points": 0,
     "schema_version": 3,
     "solution": true,
     "task": false
    },
    "slideshow": {
     "slide_type": "-"
    }
   },
   "outputs": [
    {
     "data": {
      "text/plain": [
       "10000000000000000000000000000000000000000000000000000000000000000000000000000000000000000000000000000000000000000000000000000000000000000000000000000000000000000000000000000000000000000000000000000000000000000000000000000000000000000000000000000000000000000000000000000000000000000000000000000000000000000000000000000000000000000000000000000000000000000000000000000000000000000000000000000000000000000000000000000000000000000000000000000000000000000000000000000000000000000000000000000000000000000000000000000000000000000000000000000000000000000000000000000000000000000000000000000000000000000000000000000000000000000000000000000000000000000000000000000000000000000000000000000000000000000000000000000000000000000000000000000000000000000000000000000000000000000000000000000000000000000000000000000000000000000000000000000000000000000000000000000000000000000000000000000000000000000000000000000000000000000000000000000000000000000000000000000000000000000000000000000000000000000000000000000000000000000"
      ]
     },
     "execution_count": 8,
     "metadata": {},
     "output_type": "execute_result"
    }
   ],
   "source": [
    "# YOUR CODE HERE\n",
    "10**1000 #(10^1000)"
   ]
  },
  {
   "cell_type": "markdown",
   "metadata": {
    "slideshow": {
     "slide_type": "slide"
    }
   },
   "source": [
    "## Strings"
   ]
  },
  {
   "cell_type": "markdown",
   "metadata": {
    "slideshow": {
     "slide_type": "subslide"
    }
   },
   "source": [
    "**How to enter a [string](https://docs.python.org/3/reference/lexical_analysis.html#string-and-bytes-literals) in a program?**"
   ]
  },
  {
   "cell_type": "code",
   "execution_count": 9,
   "metadata": {
    "ExecuteTime": {
     "end_time": "2021-01-17T03:09:17.655272Z",
     "start_time": "2021-01-17T03:09:17.648365Z"
    },
    "slideshow": {
     "slide_type": "fragment"
    }
   },
   "outputs": [
    {
     "data": {
      "text/plain": [
       "'😀: I am a string.'"
      ]
     },
     "execution_count": 9,
     "metadata": {},
     "output_type": "execute_result"
    }
   ],
   "source": [
    "'\\U0001f600: I am a string.'  # a sequence of characters delimited by single quotes."
   ]
  },
  {
   "cell_type": "code",
   "execution_count": 10,
   "metadata": {
    "ExecuteTime": {
     "end_time": "2021-01-17T03:09:20.234130Z",
     "start_time": "2021-01-17T03:09:20.229463Z"
    },
    "slideshow": {
     "slide_type": "fragment"
    }
   },
   "outputs": [
    {
     "data": {
      "text/plain": [
       "'😀: I am a string.'"
      ]
     },
     "execution_count": 10,
     "metadata": {},
     "output_type": "execute_result"
    }
   ],
   "source": [
    "\"\\N{grinning face}: I am a string.\"  # delimited by double quotes."
   ]
  },
  {
   "cell_type": "code",
   "execution_count": 11,
   "metadata": {
    "ExecuteTime": {
     "end_time": "2021-01-17T03:09:23.456614Z",
     "start_time": "2021-01-17T03:09:23.450672Z"
    },
    "slideshow": {
     "slide_type": "fragment"
    }
   },
   "outputs": [
    {
     "data": {
      "text/plain": [
       "'😀: I am a string.'"
      ]
     },
     "execution_count": 11,
     "metadata": {},
     "output_type": "execute_result"
    }
   ],
   "source": [
    "\"\"\"\\N{grinning face}: I am a string.\"\"\"  # delimited by triple single/double quotes."
   ]
  },
  {
   "cell_type": "markdown",
   "metadata": {
    "slideshow": {
     "slide_type": "fragment"
    }
   },
   "source": [
    "- `\\` is called the *escape symbol*.  \n",
    "- `\\U0001f600` and `\\N{grinning face}` are *escape sequences*.  \n",
    "   - Escape sequence is a combination of characters that has a special meaning (print special characters).\n",
    "   - It starts with a `\\` followed by one or more characters.\n",
    "   - For example, `\\n` means new line, `\\t` means Tab key.\n",
    "- These sequences represent the same grinning face emoji by its Unicode in hexadecimal and its name."
   ]
  },
  {
   "cell_type": "markdown",
   "metadata": {
    "slideshow": {
     "slide_type": "subslide"
    }
   },
   "source": [
    "**Why use different quotes?**"
   ]
  },
  {
   "cell_type": "code",
   "execution_count": 15,
   "metadata": {
    "ExecuteTime": {
     "end_time": "2021-01-17T03:14:39.650527Z",
     "start_time": "2021-01-17T03:14:39.641633Z"
    },
    "slideshow": {
     "slide_type": "fragment"
    }
   },
   "outputs": [
    {
     "name": "stdout",
     "output_type": "stream",
     "text": [
      "I'm line #1.\n",
      "I'm line #2.\n",
      "I'm line #3.\n",
      "I'm line #4.\n",
      "I'm line #5.\n",
      "I'm line #6.\n",
      "we can print single quote ' directly inside \"\n",
      "we can print double quotes \" directly insude '\n",
      "a\tb\tc\n",
      "abc\b\n"
     ]
    }
   ],
   "source": [
    "print('I\\'m line #1.\\nI\\'m line #2.')  # \\n is a control code for line feed\n",
    "print(\"I'm line #3.\\nI'm line #4.\")  # no need to escape single quote.\n",
    "print('''I'm line #5.\n",
    "I'm line #6.''')  # multi-line string\n",
    "\n",
    "#we can use single quote in a string inside a double quote\n",
    "print(\"we can print single quote ' directly inside \\\"\")\n",
    "\n",
    "#we can use double quote in a string inside a single quote\n",
    "print('we can print double quotes \" directly insude \\'')\n",
    "\n",
    "print('a\\tb\\tc') #\\t means Tab key on your keyboard\n",
    "#print('a\\nb\\nc')\n",
    "print('abc\\b')\n",
    "\n",
    "#summary\n",
    "# 1. To print a simple string, you can use single quote, double quotes, and triple quotes\n",
    "# 2. If you want to print ' inside ', you need to use escape sequence \\'\n",
    "# 3. If you want to print \" inside \", you need to use escape sequence \\\"\n",
    "# 4. But you can print ' directly inside \". Similarly, you can print \" inside '\n",
    "# 5. Triple quotes is usually used to print multiple lines."
   ]
  },
  {
   "cell_type": "markdown",
   "metadata": {
    "slideshow": {
     "slide_type": "fragment"
    }
   },
   "source": [
    "Note that:\n",
    "- The escape sequence `\\n` does not represent any symbol.  \n",
    "- It is a *control code* that creates a new line when printing the string.  \n",
    "- Another common control code is `\\t` for tab."
   ]
  },
  {
   "cell_type": "markdown",
   "metadata": {
    "slideshow": {
     "slide_type": "fragment"
    }
   },
   "source": [
    "Using double quotes, we need not escape the single quote in `I'm`.  "
   ]
  },
  {
   "cell_type": "markdown",
   "metadata": {
    "slideshow": {
     "slide_type": "fragment"
    }
   },
   "source": [
    "Triple quotes delimit a multi-line string, so there is no need to use `\\n`.  \n",
    "(You can copy and paste a multi-line string from elsewhere.)"
   ]
  },
  {
   "cell_type": "markdown",
   "metadata": {
    "slideshow": {
     "slide_type": "subslide"
    }
   },
   "source": [
    "In programming, there are often many ways to do the same thing.  \n",
    "The following is a one-line code ([one-liner](https://en.wikipedia.org/wiki/One-liner_program)) that prints multiple lines of strings without using `\\n`:"
   ]
  },
  {
   "cell_type": "code",
   "execution_count": 16,
   "metadata": {
    "ExecuteTime": {
     "end_time": "2021-01-17T03:21:19.502508Z",
     "start_time": "2021-01-17T03:21:19.499097Z"
    },
    "slideshow": {
     "slide_type": "fragment"
    }
   },
   "outputs": [
    {
     "name": "stdout",
     "output_type": "stream",
     "text": [
      "I'm line #1\n",
      "I'm line #2\n",
      "I'm line #3\n"
     ]
    }
   ],
   "source": [
    "print(\"I'm line #1\", \"I'm line #2\", \"I'm line #3\", sep='\\n')  # one liner\n",
    "#print(\"I'm line #1\")\n",
    "#print(\"I'm line #2\")\n",
    "#print(\"I'm line #3\")\n",
    "#print(\"I'm line #1\", \"I'm line #2\", \"I'm line #3\")"
   ]
  },
  {
   "cell_type": "markdown",
   "metadata": {
    "slideshow": {
     "slide_type": "fragment"
    }
   },
   "source": [
    "- `sep='\\n'` is a *keyword argument* that specifies the separator of the list of strings.\n",
    "- By default, `sep=' '`, a single space character."
   ]
  },
  {
   "cell_type": "code",
   "execution_count": 17,
   "metadata": {
    "ExecuteTime": {
     "end_time": "2021-01-17T03:22:19.247318Z",
     "start_time": "2021-01-17T03:22:19.237476Z"
    }
   },
   "outputs": [
    {
     "name": "stdout",
     "output_type": "stream",
     "text": [
      "I am Jhon\n",
      "I-am-Jhon\n",
      "I\n",
      "am\n",
      "Jhon\n",
      "I*am*Jhon\n"
     ]
    }
   ],
   "source": [
    "#this example shows how to use keyword argument sep\n",
    "print('I','am','Jhon')\n",
    "print('I','am','Jhon',sep='-')\n",
    "print('I','am','Jhon',sep='\\n')\n",
    "print('I','am','Jhon',sep='*')"
   ]
  },
  {
   "cell_type": "markdown",
   "metadata": {
    "slideshow": {
     "slide_type": "subslide"
    }
   },
   "source": [
    "In IPython, we can get the *docstring* (documentation) of a function conveniently using the symbol `?`.\n",
    "   - IPython is short for Interactive Python. It means an interface (our Jupyter notebook is based on IPython)"
   ]
  },
  {
   "cell_type": "code",
   "execution_count": null,
   "metadata": {
    "ExecuteTime": {
     "end_time": "2021-01-16T13:24:31.130651Z",
     "start_time": "2021-01-16T13:24:31.124383Z"
    },
    "slideshow": {
     "slide_type": "-"
    }
   },
   "outputs": [],
   "source": [
    "?print"
   ]
  },
  {
   "cell_type": "code",
   "execution_count": null,
   "metadata": {
    "ExecuteTime": {
     "end_time": "2021-01-15T14:27:00.469659Z",
     "start_time": "2021-01-15T14:27:00.464439Z"
    },
    "slideshow": {
     "slide_type": "-"
    }
   },
   "outputs": [],
   "source": [
    "print?"
   ]
  },
  {
   "cell_type": "markdown",
   "metadata": {
    "slideshow": {
     "slide_type": "subslide"
    }
   },
   "source": [
    "**Exercise** Print a cool multi-line string below."
   ]
  },
  {
   "cell_type": "code",
   "execution_count": 18,
   "metadata": {
    "ExecuteTime": {
     "end_time": "2021-01-17T03:29:13.484972Z",
     "start_time": "2021-01-17T03:29:13.479315Z"
    },
    "deletable": false,
    "nbgrader": {
     "cell_type": "code",
     "checksum": "8768be1d510ea6cc2305f282e0d8c402",
     "grade": true,
     "grade_id": "multi-line",
     "locked": false,
     "points": 0,
     "schema_version": 3,
     "solution": true,
     "task": false
    },
    "slideshow": {
     "slide_type": "-"
    }
   },
   "outputs": [
    {
     "name": "stdout",
     "output_type": "stream",
     "text": [
      "\n",
      "    A cube has 8 corners:\n",
      "      7------8\n",
      "     /|     /|\n",
      "    3------4 |\n",
      "    | |    | |\n",
      "    | 5----|-6\n",
      "    |/     |/\n",
      "    1------2\n",
      "\n"
     ]
    }
   ],
   "source": [
    "# YOUR CODE HERE\n",
    "x = '''\n",
    "    A cube has 8 corners:\n",
    "      7------8\n",
    "     /|     /|\n",
    "    3------4 |\n",
    "    | |    | |\n",
    "    | 5----|-6\n",
    "    |/     |/\n",
    "    1------2\n",
    "'''\n",
    "print(x)"
   ]
  },
  {
   "cell_type": "markdown",
   "metadata": {
    "slideshow": {
     "slide_type": "slide"
    }
   },
   "source": [
    "## Variables and Assignment"
   ]
  },
  {
   "cell_type": "markdown",
   "metadata": {
    "slideshow": {
     "slide_type": "subslide"
    }
   },
   "source": [
    "It is useful to store a value and retrieve it later.  \n",
    "To do so, we assign the value to a variable:\n",
    "   - Variables are the names you give to computer memory locations which are used to store values in a computer program"
   ]
  },
  {
   "cell_type": "code",
   "execution_count": 19,
   "metadata": {
    "ExecuteTime": {
     "end_time": "2021-01-17T03:32:02.987031Z",
     "start_time": "2021-01-17T03:32:02.980652Z"
    },
    "slideshow": {
     "slide_type": "fragment"
    }
   },
   "outputs": [
    {
     "name": "stdout",
     "output_type": "stream",
     "text": [
      "15\n",
      "False\n",
      "True\n"
     ]
    }
   ],
   "source": [
    "x = 15    #assignment operator\n",
    "#assignment operator looks the same as equal sign in math, but they're different\n",
    "#= assignment\n",
    "#== equal sign\n",
    "print(x)  # output the value of x\n",
    "print(x == 10)\n",
    "print(x == 15)\n",
    "#boolean data type: True (1) and False (0)"
   ]
  },
  {
   "cell_type": "markdown",
   "metadata": {
    "slideshow": {
     "slide_type": "subslide"
    }
   },
   "source": [
    "**Is assignment the same as equality?**"
   ]
  },
  {
   "cell_type": "markdown",
   "metadata": {
    "slideshow": {
     "slide_type": "fragment"
    }
   },
   "source": [
    "No because:\n",
    "- `15 == x` is equivalent to `x == 15`; but `15 = x` is different from `x = 15`\n",
    "- you cannot write `15 = x`, but\n",
    "- you can write `x = x + 1`, which increases the value of `x` by `1`.\n",
    "- Variable means its value varies, but 15 is a constant."
   ]
  },
  {
   "cell_type": "markdown",
   "metadata": {
    "slideshow": {
     "slide_type": "fragment"
    }
   },
   "source": [
    "**Exercise** Try out the above code yourself."
   ]
  },
  {
   "cell_type": "code",
   "execution_count": 21,
   "metadata": {
    "ExecuteTime": {
     "end_time": "2021-01-17T03:37:35.228400Z",
     "start_time": "2021-01-17T03:37:35.223313Z"
    },
    "deletable": false,
    "nbgrader": {
     "cell_type": "code",
     "checksum": "7ef0a697a5165082230e7acf59ebed18",
     "grade": true,
     "grade_id": "assign-vs-eq",
     "locked": false,
     "points": 0,
     "schema_version": 3,
     "solution": true,
     "task": false
    },
    "slideshow": {
     "slide_type": "-"
    }
   },
   "outputs": [
    {
     "name": "stdout",
     "output_type": "stream",
     "text": [
      "True\n",
      "True\n"
     ]
    }
   ],
   "source": [
    "# YOUR CODE HERE\n",
    "x=15\n",
    "print(15 == x)\n",
    "print(x == 15)\n",
    "\n",
    "#the code below is wrong\n",
    "#15=x"
   ]
  },
  {
   "cell_type": "markdown",
   "metadata": {
    "slideshow": {
     "slide_type": "subslide"
    }
   },
   "source": [
    "Let's see the effect of assignment step-by-step:\n",
    "1. Run the following cell.\n",
    "1. Click `Next >` to see the next step of the execution."
   ]
  },
  {
   "cell_type": "code",
   "execution_count": 25,
   "metadata": {
    "ExecuteTime": {
     "end_time": "2021-01-17T03:38:31.956554Z",
     "start_time": "2021-01-17T03:38:31.948705Z"
    },
    "slideshow": {
     "slide_type": "-"
    }
   },
   "outputs": [
    {
     "data": {
      "text/html": [
       "\n",
       "        <iframe\n",
       "            width=\"1100\"\n",
       "            height=\"200\"\n",
       "            src=\"https://e-quiz.cs.cityu.edu.hk/opt/cs1302visualize.html#mode=display&code=x%20%3D%2015%0Ax%20%3D%20x%20%2B%201%0A\"\n",
       "            frameborder=\"0\"\n",
       "            allowfullscreen\n",
       "        ></iframe>\n",
       "        "
      ],
      "text/plain": [
       "<IPython.lib.display.IFrame at 0x7fc220fad550>"
      ]
     },
     "metadata": {},
     "output_type": "display_data"
    }
   ],
   "source": [
    "%%mytutor -h 200\n",
    "x = 15\n",
    "x = x + 1"
   ]
  },
  {
   "cell_type": "markdown",
   "metadata": {
    "slideshow": {
     "slide_type": "subslide"
    }
   },
   "source": [
    "The following *tuple assignment* syntax can assign multiple variables in one line."
   ]
  },
  {
   "cell_type": "code",
   "execution_count": 26,
   "metadata": {
    "ExecuteTime": {
     "end_time": "2021-01-17T03:43:45.438649Z",
     "start_time": "2021-01-17T03:43:45.431298Z"
    },
    "slideshow": {
     "slide_type": "-"
    }
   },
   "outputs": [
    {
     "data": {
      "text/html": [
       "\n",
       "        <iframe\n",
       "            width=\"1100\"\n",
       "            height=\"200\"\n",
       "            src=\"https://e-quiz.cs.cityu.edu.hk/opt/cs1302visualize.html#mode=display&code=x%2C%20y%2C%20z%20%3D%20%2715%27%2C%20%2730%27%2C%2015%0A%23this%20expression%20is%20equivalent%20to%20x%3D%2715%27%20y%3D%2730%27%20z%3D15%0A\"\n",
       "            frameborder=\"0\"\n",
       "            allowfullscreen\n",
       "        ></iframe>\n",
       "        "
      ],
      "text/plain": [
       "<IPython.lib.display.IFrame at 0x7fc220fad990>"
      ]
     },
     "metadata": {},
     "output_type": "display_data"
    }
   ],
   "source": [
    "%%mytutor -h 200\n",
    "x, y, z = '15', '30', 15\n",
    "#this expression is equivalent to x='15' y='30' z=15"
   ]
  },
  {
   "cell_type": "markdown",
   "metadata": {
    "slideshow": {
     "slide_type": "fragment"
    }
   },
   "source": [
    "One can also use *chained assignment* to set different variables to the same value."
   ]
  },
  {
   "cell_type": "code",
   "execution_count": 27,
   "metadata": {
    "ExecuteTime": {
     "end_time": "2021-01-17T03:44:34.090825Z",
     "start_time": "2021-01-17T03:44:34.085076Z"
    },
    "slideshow": {
     "slide_type": "-"
    }
   },
   "outputs": [
    {
     "data": {
      "text/html": [
       "\n",
       "        <iframe\n",
       "            width=\"1100\"\n",
       "            height=\"250\"\n",
       "            src=\"https://e-quiz.cs.cityu.edu.hk/opt/cs1302visualize.html#mode=display&code=x%20%3D%20y%20%3D%20z%20%3D%200%0A%23equivalent%20to%20%0A%23z%3D0%0A%23y%3Dz%20%23y%3D0%0A%23x%3Dy%20%23x%3D0%0A\"\n",
       "            frameborder=\"0\"\n",
       "            allowfullscreen\n",
       "        ></iframe>\n",
       "        "
      ],
      "text/plain": [
       "<IPython.lib.display.IFrame at 0x7fc220fade50>"
      ]
     },
     "metadata": {},
     "output_type": "display_data"
    }
   ],
   "source": [
    "%%mytutor -h 250\n",
    "x = y = z = 0\n",
    "#equivalent to \n",
    "#z=0\n",
    "#y=z #y=0\n",
    "#x=y #x=0"
   ]
  },
  {
   "cell_type": "markdown",
   "metadata": {
    "slideshow": {
     "slide_type": "subslide"
    }
   },
   "source": [
    "Variables can be deleted using `del`. Accessing a variable before assignment raises a Name error."
   ]
  },
  {
   "cell_type": "code",
   "execution_count": 28,
   "metadata": {
    "ExecuteTime": {
     "end_time": "2021-01-17T03:45:38.259816Z",
     "start_time": "2021-01-17T03:45:38.220911Z"
    },
    "slideshow": {
     "slide_type": "-"
    }
   },
   "outputs": [
    {
     "ename": "NameError",
     "evalue": "name 'x' is not defined",
     "output_type": "error",
     "traceback": [
      "\u001b[0;31m---------------------------------------------------------------------------\u001b[0m",
      "\u001b[0;31mNameError\u001b[0m                                 Traceback (most recent call last)",
      "\u001b[0;32m<ipython-input-28-aa25b64314b7>\u001b[0m in \u001b[0;36m<module>\u001b[0;34m\u001b[0m\n\u001b[1;32m      2\u001b[0m \u001b[0my\u001b[0m\u001b[0;34m=\u001b[0m\u001b[0;36m2\u001b[0m\u001b[0;34m\u001b[0m\u001b[0;34m\u001b[0m\u001b[0m\n\u001b[1;32m      3\u001b[0m \u001b[0;32mdel\u001b[0m \u001b[0mx\u001b[0m\u001b[0;34m,\u001b[0m \u001b[0my\u001b[0m\u001b[0;34m\u001b[0m\u001b[0;34m\u001b[0m\u001b[0m\n\u001b[0;32m----> 4\u001b[0;31m \u001b[0mx\u001b[0m\u001b[0;34m,\u001b[0m \u001b[0my\u001b[0m\u001b[0;34m\u001b[0m\u001b[0;34m\u001b[0m\u001b[0m\n\u001b[0m",
      "\u001b[0;31mNameError\u001b[0m: name 'x' is not defined"
     ]
    }
   ],
   "source": [
    "x=1\n",
    "y=2\n",
    "del x, y\n",
    "x, y"
   ]
  },
  {
   "cell_type": "markdown",
   "metadata": {
    "slideshow": {
     "slide_type": "slide"
    }
   },
   "source": [
    "## Identifiers"
   ]
  },
  {
   "cell_type": "markdown",
   "metadata": {
    "slideshow": {
     "slide_type": "fragment"
    }
   },
   "source": [
    "* *Identifer* is a name to represent various program elements such as variables, arrays, functions etc.\n",
    "* *Identifiers* such as variable names are case sensitive and follow certain rules.\n",
    "   * case-sensitive: x =10 is different from X=10\n"
   ]
  },
  {
   "cell_type": "markdown",
   "metadata": {
    "slideshow": {
     "slide_type": "subslide"
    }
   },
   "source": [
    "**What is the syntax for variable names?**"
   ]
  },
  {
   "cell_type": "markdown",
   "metadata": {
    "slideshow": {
     "slide_type": "fragment"
    }
   },
   "source": [
    "1. Must start with a letter or `_` (an underscore) followed by letters, digits, or `_`.\n",
    "1. Must not be a [keyword](https://docs.python.org/3.7/reference/lexical_analysis.html#keywords) (identifier reserved by Python) (no need to remember all of them):"
   ]
  },
  {
   "cell_type": "markdown",
   "metadata": {
    "slideshow": {
     "slide_type": "-"
    }
   },
   "source": [
    "<pre>False      await      else       import     pass\n",
    "None       break      except     in         raise\n",
    "True       class      finally    is         return\n",
    "and        continue   for        lambda     try\n",
    "as         def        from       nonlocal   while\n",
    "assert     del        global     not        with\n",
    "async      elif       if         or         yield</pre>"
   ]
  },
  {
   "cell_type": "markdown",
   "metadata": {
    "slideshow": {
     "slide_type": "fragment"
    }
   },
   "source": [
    "**Exercise** Evaluate the following cell and if any of the rules above is violated."
   ]
  },
  {
   "cell_type": "code",
   "execution_count": 29,
   "metadata": {
    "ExecuteTime": {
     "end_time": "2021-01-17T03:50:47.545477Z",
     "start_time": "2021-01-17T03:50:47.473765Z"
    },
    "code_folding": [],
    "slideshow": {
     "slide_type": "-"
    }
   },
   "outputs": [
    {
     "data": {
      "application/vnd.jupyter.widget-view+json": {
       "model_id": "ea83056f78f747e6b01845a0c5f62ab6",
       "version_major": 2,
       "version_minor": 0
      },
      "text/plain": [
       "interactive(children=(Dropdown(description='assignment', options=('a-number = 15', 'a_number = 15', '15 = 15',…"
      ]
     },
     "metadata": {},
     "output_type": "display_data"
    }
   ],
   "source": [
    "from ipywidgets import interact\n",
    "@interact\n",
    "def identifier_syntax(assignment=['a-number = 15',\n",
    "                     'a_number = 15',\n",
    "                     '15 = 15',\n",
    "                     '_15 = 15',\n",
    "                     'del = 15',\n",
    "                     'Del = 15',\n",
    "                     'type = print',\n",
    "                     'print = type',\n",
    "                     'input = print']):\n",
    "    exec(assignment)\n",
    "    print('Ok.')"
   ]
  },
  {
   "cell_type": "markdown",
   "metadata": {
    "deletable": false,
    "nbgrader": {
     "cell_type": "markdown",
     "checksum": "5ecc235f0ae5be5c77beeed2f6b6dd2e",
     "grade": true,
     "grade_id": "invalid-identifiers",
     "locked": false,
     "points": 0,
     "schema_version": 3,
     "solution": true,
     "task": false
    },
    "slideshow": {
     "slide_type": "-"
    }
   },
   "source": [
    "YOUR ANSWER HERE"
   ]
  },
  {
   "cell_type": "markdown",
   "metadata": {
    "slideshow": {
     "slide_type": "fragment"
    }
   },
   "source": [
    "What can we learn from the above examples?"
   ]
  },
  {
   "cell_type": "markdown",
   "metadata": {
    "slideshow": {
     "slide_type": "fragment"
    }
   },
   "source": [
    "- `del` is a keyword and `Del` is not because identifiers are case sensitive.\n",
    "- Function/method/type names `print`/`input`/`type` are not keywords and can be reassigned.  \n",
    "  This can useful if you want to modify the default implementations without changing their source code."
   ]
  },
  {
   "cell_type": "code",
   "execution_count": 30,
   "metadata": {
    "ExecuteTime": {
     "end_time": "2021-01-17T03:53:01.455219Z",
     "start_time": "2021-01-17T03:53:01.452065Z"
    }
   },
   "outputs": [
    {
     "name": "stdout",
     "output_type": "stream",
     "text": [
      "Hello, World!\n"
     ]
    }
   ],
   "source": [
    "#although print is the name of a function, it's not a keyword\n",
    "x=print\n",
    "x('Hello, World!') #equivalent to print('Hello, World!')"
   ]
  },
  {
   "cell_type": "markdown",
   "metadata": {
    "slideshow": {
     "slide_type": "fragment"
    }
   },
   "source": [
    "To help make code more readable, additional style guides such as [PEP 8](https://www.python.org/dev/peps/pep-0008/#function-and-variable-names) are available:"
   ]
  },
  {
   "cell_type": "markdown",
   "metadata": {
    "slideshow": {
     "slide_type": "-"
    }
   },
   "source": [
    "- Function names should be lowercase, with words separated by underscores as necessary to improve readability.  \n",
    "- Variable names follow the same convention as function names.\n",
    "- good variable names: my_age, my_weight\n",
    "- bad variable names: xyz, abc123"
   ]
  },
  {
   "cell_type": "markdown",
   "metadata": {
    "slideshow": {
     "slide_type": "subslide"
    }
   },
   "source": [
    "## User Input"
   ]
  },
  {
   "cell_type": "markdown",
   "metadata": {
    "slideshow": {
     "slide_type": "fragment"
    }
   },
   "source": [
    "**How to let the user input value at *runtime*,  \n",
    "i.e., as the program executes?**"
   ]
  },
  {
   "cell_type": "markdown",
   "metadata": {
    "ExecuteTime": {
     "end_time": "2020-09-03T00:36:13.424771Z",
     "start_time": "2020-09-03T00:36:13.418453Z"
    },
    "slideshow": {
     "slide_type": "fragment"
    }
   },
   "source": [
    "We can use the method `input`:\n",
    "- There is no need to delimit the input string by quotation marks.\n",
    "- Simply press `enter` after typing a string."
   ]
  },
  {
   "cell_type": "code",
   "execution_count": 32,
   "metadata": {
    "ExecuteTime": {
     "end_time": "2021-01-17T03:57:58.443333Z",
     "start_time": "2021-01-17T03:57:41.919408Z"
    },
    "slideshow": {
     "slide_type": "-"
    }
   },
   "outputs": [
    {
     "name": "stdout",
     "output_type": "stream",
     "text": [
      "Please input your name: jhon\n",
      "Your name is jhon\n"
     ]
    }
   ],
   "source": [
    "print('Your name is', input('Please input your name: '))\n",
    "#the above statement is equivalent to the following two statements\n",
    "#x=input('Please input your name: ')\n",
    "#print('Your name is', x)"
   ]
  },
  {
   "cell_type": "markdown",
   "metadata": {
    "slideshow": {
     "slide_type": "fragment"
    }
   },
   "source": [
    "- The `input` method prints its argument, if any, as a [prompt](https://en.wikipedia.org/wiki/Command-line_interface#Command_prompt).  \n",
    "- It takes user's input and *return* it as its value. `print` takes in that value and prints it."
   ]
  },
  {
   "cell_type": "markdown",
   "metadata": {
    "slideshow": {
     "slide_type": "fragment"
    }
   },
   "source": [
    "**Exercise** Explain whether the following code prints `'My name is Python'`. Does `print` returns a value? "
   ]
  },
  {
   "cell_type": "code",
   "execution_count": 33,
   "metadata": {
    "ExecuteTime": {
     "end_time": "2021-01-17T03:58:28.416979Z",
     "start_time": "2021-01-17T03:58:28.412133Z"
    },
    "slideshow": {
     "slide_type": "-"
    }
   },
   "outputs": [
    {
     "name": "stdout",
     "output_type": "stream",
     "text": [
      "Python\n",
      "My name is None\n"
     ]
    }
   ],
   "source": [
    "print('My name is', print('Python'))"
   ]
  },
  {
   "cell_type": "markdown",
   "metadata": {
    "deletable": false,
    "nbgrader": {
     "cell_type": "markdown",
     "checksum": "b46e46183a992620cdad06cf2e6ac08d",
     "grade": true,
     "grade_id": "print-returns-none",
     "locked": false,
     "points": 0,
     "schema_version": 3,
     "solution": true,
     "task": false
    },
    "slideshow": {
     "slide_type": "-"
    }
   },
   "source": [
    "Answer: print() function doesn't return any value.  The None keyword is used to define a null value, or no value at all."
   ]
  },
  {
   "cell_type": "markdown",
   "metadata": {
    "slideshow": {
     "slide_type": "slide"
    }
   },
   "source": [
    "## Type Conversion"
   ]
  },
  {
   "cell_type": "markdown",
   "metadata": {
    "slideshow": {
     "slide_type": "subslide"
    }
   },
   "source": [
    "The following program tries to compute the sum of two numbers from user inputs:"
   ]
  },
  {
   "cell_type": "code",
   "execution_count": 34,
   "metadata": {
    "ExecuteTime": {
     "end_time": "2021-01-17T04:06:00.024497Z",
     "start_time": "2021-01-17T04:05:45.029131Z"
    },
    "slideshow": {
     "slide_type": "-"
    }
   },
   "outputs": [
    {
     "name": "stdout",
     "output_type": "stream",
     "text": [
      "Please input an integer: 5\n",
      "Please input another integer: 7\n",
      "<class 'str'>\n",
      "<class 'str'>\n",
      "5 + 7 is equal to 57\n"
     ]
    }
   ],
   "source": [
    "num1 = input('Please input an integer: ')\n",
    "num2 = input('Please input another integer: ')\n",
    "print(type(num1))\n",
    "print(type(num2))\n",
    "print(num1, '+', num2, 'is equal to', num1 + num2)"
   ]
  },
  {
   "cell_type": "markdown",
   "metadata": {
    "slideshow": {
     "slide_type": "fragment"
    }
   },
   "source": [
    "**Exercise** There is a [bug](https://en.wikipedia.org/wiki/Software_bug) in the above code. Can you locate the error?"
   ]
  },
  {
   "cell_type": "markdown",
   "metadata": {
    "deletable": false,
    "nbgrader": {
     "cell_type": "markdown",
     "checksum": "5242ad43e12cfbc589a2f021142b56f4",
     "grade": true,
     "grade_id": "cell-d1d22bc89eb9f7b6",
     "locked": false,
     "points": 0,
     "schema_version": 3,
     "solution": true,
     "task": false
    },
    "slideshow": {
     "slide_type": "-"
    }
   },
   "source": [
    "print(num1, '+', num2, 'is equal to', num1 + num2); should be print(num1, '+', num2, 'is equal to', int(num1) + int(num2))"
   ]
  },
  {
   "cell_type": "markdown",
   "metadata": {
    "slideshow": {
     "slide_type": "subslide"
    }
   },
   "source": [
    "`input` *returns* user input as a string.  \n",
    "E.g., if the user enters `12`, the input is\n",
    "- not treated as the integer twelve, but rather\n",
    "- treated as a string containing two characters, one followed by two."
   ]
  },
  {
   "cell_type": "markdown",
   "metadata": {
    "slideshow": {
     "slide_type": "fragment"
    }
   },
   "source": [
    "To see this, we can use `type` to return the data type of an expression."
   ]
  },
  {
   "cell_type": "code",
   "execution_count": null,
   "metadata": {
    "ExecuteTime": {
     "end_time": "2020-09-07T05:01:43.840037Z",
     "start_time": "2020-09-07T05:01:37.324681Z"
    },
    "slideshow": {
     "slide_type": "-"
    }
   },
   "outputs": [],
   "source": [
    "num1 = input('Please input an integer: ')\n",
    "print('Your input is', num1, 'with type', type(num1))"
   ]
  },
  {
   "cell_type": "markdown",
   "metadata": {
    "slideshow": {
     "slide_type": "fragment"
    }
   },
   "source": [
    "**Exercise** `type` applies to any expressions. Try it out below on `15`, `print`, `print()`, `input`, and even `type` itself and `type(type)`."
   ]
  },
  {
   "cell_type": "code",
   "execution_count": null,
   "metadata": {
    "ExecuteTime": {
     "end_time": "2021-01-15T15:02:11.545044Z",
     "start_time": "2021-01-15T15:02:11.537833Z"
    },
    "deletable": false,
    "nbgrader": {
     "cell_type": "code",
     "checksum": "943fc9cf3dea00f3a08ae5e092f43f07",
     "grade": true,
     "grade_id": "type",
     "locked": false,
     "points": 0,
     "schema_version": 3,
     "solution": true,
     "task": false
    },
    "slideshow": {
     "slide_type": "-"
    }
   },
   "outputs": [],
   "source": [
    "# YOUR CODE HERE\n",
    "raise NotImplementedError()"
   ]
  },
  {
   "cell_type": "markdown",
   "metadata": {
    "slideshow": {
     "slide_type": "fragment"
    }
   },
   "source": [
    "**So what happens when we add strings together?**"
   ]
  },
  {
   "cell_type": "code",
   "execution_count": null,
   "metadata": {
    "ExecuteTime": {
     "end_time": "2020-09-07T05:04:09.047786Z",
     "start_time": "2020-09-07T05:04:09.039755Z"
    },
    "slideshow": {
     "slide_type": "-"
    }
   },
   "outputs": [],
   "source": [
    "'4' + '5' + '6'\n",
    "'abc' + 'def'"
   ]
  },
  {
   "cell_type": "markdown",
   "metadata": {
    "slideshow": {
     "slide_type": "fragment"
    }
   },
   "source": [
    "**How to fix the bug then?**"
   ]
  },
  {
   "cell_type": "markdown",
   "metadata": {
    "slideshow": {
     "slide_type": "fragment"
    }
   },
   "source": [
    "We can convert a string to an integer using `int`."
   ]
  },
  {
   "cell_type": "code",
   "execution_count": null,
   "metadata": {
    "ExecuteTime": {
     "end_time": "2021-01-16T01:59:56.675960Z",
     "start_time": "2021-01-16T01:59:56.667987Z"
    },
    "slideshow": {
     "slide_type": "-"
    }
   },
   "outputs": [],
   "source": [
    "print(int('4') + int('5') + int('6'))\n",
    "print(4+5+6)\n",
    "print(type('4'))\n",
    "print(type(int('4')))"
   ]
  },
  {
   "cell_type": "markdown",
   "metadata": {
    "slideshow": {
     "slide_type": "fragment"
    }
   },
   "source": [
    "We can also convert an integer to a string using `str`."
   ]
  },
  {
   "cell_type": "code",
   "execution_count": null,
   "metadata": {
    "ExecuteTime": {
     "end_time": "2020-09-07T05:06:52.133247Z",
     "start_time": "2020-09-07T05:06:52.124163Z"
    },
    "slideshow": {
     "slide_type": "-"
    }
   },
   "outputs": [],
   "source": [
    "str(4) + str(5) + str(6)"
   ]
  },
  {
   "cell_type": "markdown",
   "metadata": {
    "slideshow": {
     "slide_type": "fragment"
    }
   },
   "source": [
    "**Exercise** Fix the bug in the following cell."
   ]
  },
  {
   "cell_type": "code",
   "execution_count": null,
   "metadata": {
    "ExecuteTime": {
     "end_time": "2020-09-07T05:07:51.476788Z",
     "start_time": "2020-09-07T05:07:40.328807Z"
    },
    "deletable": false,
    "nbgrader": {
     "cell_type": "code",
     "checksum": "d538a33e72a5ecf408e9ecdec4ba2ff4",
     "grade": false,
     "grade_id": "string-concat-bug",
     "locked": false,
     "schema_version": 3,
     "solution": true,
     "task": false
    },
    "slideshow": {
     "slide_type": "-"
    }
   },
   "outputs": [],
   "source": [
    "# YOUR CODE HERE\n",
    "raise NotImplementedError()"
   ]
  },
  {
   "cell_type": "markdown",
   "metadata": {
    "slideshow": {
     "slide_type": "slide"
    }
   },
   "source": [
    "## Error (Optional)"
   ]
  },
  {
   "cell_type": "markdown",
   "metadata": {
    "slideshow": {
     "slide_type": "fragment"
    }
   },
   "source": [
    "In addition to writing code, a programmer spends significant time in *debugging* code that contains errors.\n",
    "\n",
    "Different types of error:\n",
    "\n",
    "* Logical error\n",
    "\n",
    "* Syntax error\n",
    "\n",
    "* Runtime error\n"
   ]
  },
  {
   "cell_type": "markdown",
   "metadata": {
    "slideshow": {
     "slide_type": "fragment"
    }
   },
   "source": [
    "**Can an error be automatically detected by the computer?**"
   ]
  },
  {
   "cell_type": "markdown",
   "metadata": {
    "slideshow": {
     "slide_type": "fragment"
    }
   },
   "source": [
    "- You have just seen an example of *logical error*, which is due to an error in the logic.  \n",
    "- The ability to debug or even detect such error is, unfortunately, beyond Python's intelligence."
   ]
  },
  {
   "cell_type": "markdown",
   "metadata": {
    "slideshow": {
     "slide_type": "fragment"
    }
   },
   "source": [
    "Other kinds of error may be detected automatically.  \n",
    "As an example, note that we can omit `+` for string concatenation, but we cannot omit it for integer summation:"
   ]
  },
  {
   "cell_type": "code",
   "execution_count": null,
   "metadata": {
    "ExecuteTime": {
     "end_time": "2020-09-07T05:12:22.203804Z",
     "start_time": "2020-09-07T05:12:22.194026Z"
    },
    "slideshow": {
     "slide_type": "fragment"
    }
   },
   "outputs": [],
   "source": [
    "print('Skipping + for string concatenation')\n",
    "'4' '5' '6'"
   ]
  },
  {
   "cell_type": "code",
   "execution_count": null,
   "metadata": {
    "ExecuteTime": {
     "end_time": "2020-09-07T05:14:15.261329Z",
     "start_time": "2020-09-07T05:14:15.254814Z"
    },
    "slideshow": {
     "slide_type": "-"
    }
   },
   "outputs": [],
   "source": [
    "print('Skipping + for integer summation')\n",
    "4 5 6"
   ]
  },
  {
   "cell_type": "markdown",
   "metadata": {
    "slideshow": {
     "slide_type": "fragment"
    }
   },
   "source": [
    "Python interpreter detects the bug and raises a *syntax* error."
   ]
  },
  {
   "cell_type": "markdown",
   "metadata": {
    "slideshow": {
     "slide_type": "subslide"
    }
   },
   "source": [
    "**Why Syntax error can be detected automatically?  \n",
    "Why is the print statement before the error not executed?**"
   ]
  },
  {
   "cell_type": "markdown",
   "metadata": {
    "slideshow": {
     "slide_type": "fragment"
    }
   },
   "source": [
    "- programm-->interpreter translates it to lower level machine language-->execute\n",
    "- The Python interpreter can easily detect syntax error even before executing the code simply because the interpreter fails to interpret the code, i.e., translates the code to lower-level executable code."
   ]
  },
  {
   "cell_type": "markdown",
   "metadata": {
    "slideshow": {
     "slide_type": "subslide"
    }
   },
   "source": [
    "The following code raises a different kind of error."
   ]
  },
  {
   "cell_type": "code",
   "execution_count": null,
   "metadata": {
    "ExecuteTime": {
     "end_time": "2020-09-07T05:17:09.349429Z",
     "start_time": "2020-09-07T05:17:09.334266Z"
    },
    "slideshow": {
     "slide_type": "-"
    }
   },
   "outputs": [],
   "source": [
    "print(\"Evaluating '4' + '5' + 6\")\n",
    "'4' + '5' + 6  # summing string with integer"
   ]
  },
  {
   "cell_type": "markdown",
   "metadata": {
    "slideshow": {
     "slide_type": "fragment"
    }
   },
   "source": [
    "**Why Python throws a TypeError when evaluating `'4' + '5' + 6`?**"
   ]
  },
  {
   "cell_type": "markdown",
   "metadata": {
    "slideshow": {
     "slide_type": "fragment"
    }
   },
   "source": [
    "There is no default implementation of `+` operation on a value of type `str` and a value of type `int`. "
   ]
  },
  {
   "cell_type": "markdown",
   "metadata": {
    "slideshow": {
     "slide_type": "fragment"
    }
   },
   "source": [
    "- Unlike syntax error, the Python interpreter can only detect type error at runtime (when executing the code.) \n",
    "- Hence, such error is called a *runtime error*.\n"
   ]
  },
  {
   "cell_type": "markdown",
   "metadata": {
    "slideshow": {
     "slide_type": "subslide"
    }
   },
   "source": [
    "**Why is TypeError a runtime error?**"
   ]
  },
  {
   "cell_type": "markdown",
   "metadata": {
    "slideshow": {
     "slide_type": "fragment"
    }
   },
   "source": [
    " The short answer is that Python is a [strongly-and-dynamically-typed](https://en.wikipedia.org/wiki/Strong_and_weak_typing) language:\n",
    "- Strongly-typed: Python does not force a type conversion to avoid a type error.\n",
    "- Dynamically-typed: Python allow data type to change at runtime."
   ]
  },
  {
   "cell_type": "markdown",
   "metadata": {
    "slideshow": {
     "slide_type": "fragment"
    }
   },
   "source": [
    "The underlying details are more complicated than required for this course. It helps if you already know the following languages:\n",
    "- JavaScript, which is a *weakly-typed* language that forces a type conversion to avoid a type error.\n",
    "- C, which is a *statically-typed* language that does not allow data type to change at runtime."
   ]
  },
  {
   "cell_type": "code",
   "execution_count": null,
   "metadata": {
    "ExecuteTime": {
     "end_time": "2020-09-07T05:20:33.839167Z",
     "start_time": "2020-09-07T05:20:33.829606Z"
    },
    "slideshow": {
     "slide_type": "-"
    }
   },
   "outputs": [],
   "source": [
    "%%javascript\n",
    "alert('4' + '5' + 6)  // no error because 6 is converted to a str automatically"
   ]
  },
  {
   "cell_type": "markdown",
   "metadata": {
    "slideshow": {
     "slide_type": "fragment"
    }
   },
   "source": [
    "A weakly-typed language may seem more robust, but it can lead to [more logical errors](https://www.oreilly.com/library/view/fluent-conference-javascript/9781449339203/oreillyvideos1220106.html).  \n",
    "To improve readability, [typescript](https://www.typescriptlang.org/) is a strongly-typed replacement of javascript."
   ]
  },
  {
   "cell_type": "markdown",
   "metadata": {
    "slideshow": {
     "slide_type": "fragment"
    }
   },
   "source": [
    "**Exercise** Not all the strings can be converted into integers. Try breaking the following code by providing invalid inputs and record them in the subsequent cell. Explain whether the errors are runtime errors."
   ]
  },
  {
   "cell_type": "code",
   "execution_count": null,
   "metadata": {
    "ExecuteTime": {
     "end_time": "2020-09-07T05:22:34.560150Z",
     "start_time": "2020-09-07T05:22:24.374289Z"
    },
    "slideshow": {
     "slide_type": "-"
    }
   },
   "outputs": [],
   "source": [
    "#enter abc for num1 and xyz for num2\n",
    "num1 = input('Please input an integer: ')\n",
    "num2 = input('Please input another integer: ')\n",
    "print(num1, '+', num2, 'is equal to', int(num1) + int(num2))"
   ]
  },
  {
   "cell_type": "markdown",
   "metadata": {
    "ExecuteTime": {
     "end_time": "2020-09-03T00:03:42.085828Z",
     "start_time": "2020-09-03T00:03:42.073895Z"
    },
    "deletable": false,
    "nbgrader": {
     "cell_type": "markdown",
     "checksum": "397bf914b96707ad1a38ff53085f1c22",
     "grade": true,
     "grade_id": "invalid-input",
     "locked": false,
     "points": 0,
     "schema_version": 3,
     "solution": true,
     "task": false
    },
    "slideshow": {
     "slide_type": "-"
    }
   },
   "source": [
    "YOUR ANSWER HERE"
   ]
  },
  {
   "cell_type": "markdown",
   "metadata": {
    "slideshow": {
     "slide_type": "slide"
    }
   },
   "source": [
    "## Floating Point Numbers"
   ]
  },
  {
   "cell_type": "markdown",
   "metadata": {
    "slideshow": {
     "slide_type": "fragment"
    }
   },
   "source": [
    "Not all numbers are integers. In Enginnering, we often need to use fractions."
   ]
  },
  {
   "cell_type": "markdown",
   "metadata": {
    "slideshow": {
     "slide_type": "subslide"
    }
   },
   "source": [
    "**How to enter fractions in a program?**"
   ]
  },
  {
   "cell_type": "code",
   "execution_count": null,
   "metadata": {
    "ExecuteTime": {
     "end_time": "2020-09-07T05:24:10.536691Z",
     "start_time": "2020-09-07T05:24:10.528828Z"
    },
    "slideshow": {
     "slide_type": "fragment"
    }
   },
   "outputs": [],
   "source": [
    "x = -0.1 # decimal number\n",
    "y = -1.0e-1 # scientific notation\n",
    "z = -1/10 # fraction\n",
    "x, y, z, type(x), type(y), type(z)"
   ]
  },
  {
   "cell_type": "markdown",
   "metadata": {
    "slideshow": {
     "slide_type": "subslide"
    }
   },
   "source": [
    "**What is the type `float`?**"
   ]
  },
  {
   "cell_type": "markdown",
   "metadata": {
    "slideshow": {
     "slide_type": "fragment"
    }
   },
   "source": [
    "- `float` corresponds to the [*floating point* representation](https://en.wikipedia.org/wiki/Floating-point_arithmetic#Floating-point_numbers).  \n",
    "- A number in stored exactly the way we write it in scientific notation, which consists of the sign, mantissa, and exponent: $$\\overbrace{-}^{\\text{sign}} \\underbrace{1.0}_{\\text{mantissa}\\kern-1em}e\\overbrace{-1}^{\\text{exponent}\\kern-1em}=1\\times 10^{-1}$$"
   ]
  },
  {
   "cell_type": "markdown",
   "metadata": {
    "slideshow": {
     "slide_type": "fragment"
    }
   },
   "source": [
    "Integers in mathematics may be regarded as a `float` instead of `int`:"
   ]
  },
  {
   "cell_type": "code",
   "execution_count": null,
   "metadata": {
    "ExecuteTime": {
     "end_time": "2020-09-06T14:27:57.024934Z",
     "start_time": "2020-09-06T14:27:57.019629Z"
    },
    "slideshow": {
     "slide_type": "-"
    }
   },
   "outputs": [],
   "source": [
    "type(1.0), type(1e2), type(100)\n",
    "#1 is different from 1.0\n",
    "#if you use scientific notation to represent an integer, it's data type will be float"
   ]
  },
  {
   "cell_type": "markdown",
   "metadata": {
    "slideshow": {
     "slide_type": "fragment"
    }
   },
   "source": [
    "You can also convert an `int` or a `str` to a `float`."
   ]
  },
  {
   "cell_type": "code",
   "execution_count": null,
   "metadata": {
    "ExecuteTime": {
     "end_time": "2020-09-07T03:05:04.593571Z",
     "start_time": "2020-09-07T03:05:04.576824Z"
    },
    "slideshow": {
     "slide_type": "-"
    }
   },
   "outputs": [],
   "source": [
    "float(1), float('1')"
   ]
  },
  {
   "cell_type": "markdown",
   "metadata": {
    "slideshow": {
     "slide_type": "subslide"
    }
   },
   "source": [
    "**Is it better to store an integer as `float`?**"
   ]
  },
  {
   "cell_type": "markdown",
   "metadata": {
    "slideshow": {
     "slide_type": "fragment"
    }
   },
   "source": [
    "Python stores a [floating point](https://docs.python.org/3/library/sys.html#sys.float_info) with finite precision (usually as a 64bit binary fraction):"
   ]
  },
  {
   "cell_type": "code",
   "execution_count": null,
   "metadata": {
    "ExecuteTime": {
     "end_time": "2020-09-07T05:31:14.269636Z",
     "start_time": "2020-09-07T05:31:14.262705Z"
    },
    "slideshow": {
     "slide_type": "fragment"
    }
   },
   "outputs": [],
   "source": [
    "import sys\n",
    "sys.float_info"
   ]
  },
  {
   "cell_type": "markdown",
   "metadata": {
    "slideshow": {
     "slide_type": "fragment"
    }
   },
   "source": [
    "It cannot represent a number larger than the `max`:"
   ]
  },
  {
   "cell_type": "code",
   "execution_count": null,
   "metadata": {
    "ExecuteTime": {
     "end_time": "2020-09-07T05:32:06.727800Z",
     "start_time": "2020-09-07T05:32:06.722454Z"
    },
    "slideshow": {
     "slide_type": "-"
    }
   },
   "outputs": [],
   "source": [
    "sys.float_info.max * 2"
   ]
  },
  {
   "cell_type": "markdown",
   "metadata": {
    "slideshow": {
     "slide_type": "fragment"
    }
   },
   "source": [
    "The precision also affects the check for equality."
   ]
  },
  {
   "cell_type": "code",
   "execution_count": null,
   "metadata": {
    "ExecuteTime": {
     "end_time": "2021-01-16T14:26:45.453296Z",
     "start_time": "2021-01-16T14:26:45.448792Z"
    },
    "slideshow": {
     "slide_type": "-"
    }
   },
   "outputs": [],
   "source": [
    "(1.0 == 1.0 + sys.float_info.epsilon * 0.5, # returns true if equal\n",
    " 1.0 == 1.0 + sys.float_info.epsilon * 0.6)\n",
    "#print(sys.float_info.epsilon)"
   ]
  },
  {
   "cell_type": "markdown",
   "metadata": {
    "slideshow": {
     "slide_type": "fragment"
    }
   },
   "source": [
    "Another issue with float is that it may keep more decimal places than desired."
   ]
  },
  {
   "cell_type": "code",
   "execution_count": null,
   "metadata": {
    "ExecuteTime": {
     "end_time": "2021-01-16T02:02:52.517486Z",
     "start_time": "2021-01-16T02:02:52.503760Z"
    },
    "slideshow": {
     "slide_type": "-"
    }
   },
   "outputs": [],
   "source": [
    "1/3\n",
    "0.3\n",
    "0.33"
   ]
  },
  {
   "cell_type": "markdown",
   "metadata": {
    "slideshow": {
     "slide_type": "subslide"
    }
   },
   "source": [
    "**How to [round](https://docs.python.org/3/library/functions.html#round) a floating point number to the desired number of decimal places?**\n",
    "\n",
    "round(n,r)\n",
    "\n",
    "* rounds floating-point expression $n$ to the $10^{-r}$ decimal digit\n",
    "\n",
    "* $r$ can be positive, 0 and negative (0 by default)\n",
    "\n",
    "* If $r$ is a positive integer, $r$ specifies the number of decimal places to the right of the decimal point to round.\n",
    "\n",
    "* If $r$ is a negative integer, $r$ specifies the number of decimal places to the left of the decimal point to round.\n",
    "\n",
    "* e.g., round(n, -2) rounds floating-point value n to the hundreds place ($10^{2}$)\n"
   ]
  },
  {
   "cell_type": "code",
   "execution_count": null,
   "metadata": {
    "ExecuteTime": {
     "end_time": "2021-01-16T02:04:38.254304Z",
     "start_time": "2021-01-16T02:04:38.248959Z"
    },
    "slideshow": {
     "slide_type": "fragment"
    }
   },
   "outputs": [],
   "source": [
    "x = 28793.54836\n",
    "print('round(x)=',round(x)) #round to ones place\n",
    "print('round(x, 2)=',round(x, 2)) # round to 2 decimal places\n",
    "print('round(x, 1)=',round(x, 1)) #round to 1 decimal places\n",
    "print('round(x, 0)=',round(x, 0)) #round to ones place, but return a float\n",
    "print('round(x, -1)=',round(x, -1)) #round to tens place\n",
    "print('round(x, -2)=',round(x, -2)) #round to hundreds place\n",
    "#round(2.665,2), round(2.675,2)"
   ]
  },
  {
   "cell_type": "code",
   "execution_count": null,
   "metadata": {
    "ExecuteTime": {
     "end_time": "2020-09-06T15:49:49.308512Z",
     "start_time": "2020-09-06T15:49:49.300130Z"
    },
    "slideshow": {
     "slide_type": "fragment"
    }
   },
   "outputs": [],
   "source": [
    "round(2.665,2), round(2.675,2)\n",
    "#the true precision of 2.675 may be 2.6749999999999 "
   ]
  },
  {
   "cell_type": "markdown",
   "metadata": {
    "slideshow": {
     "slide_type": "fragment"
    }
   },
   "source": [
    "**Why 2.675 rounds to 2.67 instead of 2.68?**"
   ]
  },
  {
   "cell_type": "markdown",
   "metadata": {
    "slideshow": {
     "slide_type": "fragment"
    }
   },
   "source": [
    "- A `float` is actually represented in binary.  \n",
    "- A decimal fraction [may not be represented exactly in binary](https://docs.python.org/3/tutorial/floatingpoint.html#tut-fp-issues)."
   ]
  },
  {
   "cell_type": "markdown",
   "metadata": {
    "slideshow": {
     "slide_type": "subslide"
    }
   },
   "source": [
    "The `round` function can also be applied to an integer."
   ]
  },
  {
   "cell_type": "code",
   "execution_count": null,
   "metadata": {
    "ExecuteTime": {
     "end_time": "2020-09-06T14:56:40.233391Z",
     "start_time": "2020-09-06T14:56:40.224812Z"
    },
    "slideshow": {
     "slide_type": "fragment"
    }
   },
   "outputs": [],
   "source": [
    "round(150,-2), round(250,-2)"
   ]
  },
  {
   "cell_type": "markdown",
   "metadata": {
    "slideshow": {
     "slide_type": "fragment"
    }
   },
   "source": [
    "**Why 250 rounds to 200 instead of 300?**"
   ]
  },
  {
   "cell_type": "markdown",
   "metadata": {
    "slideshow": {
     "slide_type": "fragment"
    }
   },
   "source": [
    "- Python 3 implements the default rounding method in [IEEE 754](https://en.wikipedia.org/w/index.php?title=IEEE_754#Rounding_rules).\n",
    "- The [truth](https://www.h-schmidt.net/FloatConverter/IEEE754.html) is more complicated than required for the course."
   ]
  },
  {
   "cell_type": "markdown",
   "metadata": {
    "slideshow": {
     "slide_type": "slide"
    }
   },
   "source": [
    "## String Formatting (optional)"
   ]
  },
  {
   "cell_type": "markdown",
   "metadata": {
    "slideshow": {
     "slide_type": "subslide"
    }
   },
   "source": [
    "**Can we round a float or int for printing but not calculation?**"
   ]
  },
  {
   "cell_type": "markdown",
   "metadata": {
    "slideshow": {
     "slide_type": "subslide"
    }
   },
   "source": [
    "This is possible with [*format specifications*](https://docs.python.org/3/library/string.html#format-specification-mini-language).\n",
    "\n",
    "Hint: it has many parameters, you only need to get familiar with the examples in this lecture."
   ]
  },
  {
   "cell_type": "code",
   "execution_count": null,
   "metadata": {
    "ExecuteTime": {
     "end_time": "2020-09-07T03:16:39.921241Z",
     "start_time": "2020-09-07T03:16:39.911130Z"
    },
    "slideshow": {
     "slide_type": "fragment"
    }
   },
   "outputs": [],
   "source": [
    "x = 1/3\n",
    "print('x ≈ {:.2f} (rounded to 2 decimal places)'.format(x)) #{} is called placeholder\n",
    "x"
   ]
  },
  {
   "cell_type": "markdown",
   "metadata": {
    "slideshow": {
     "slide_type": "subslide"
    }
   },
   "source": [
    "- `{:.2f}` is a *format specification* \n",
    "- that gets replaced by a string \n",
    "- that represents the argument `x` of `format` \n",
    "- as a decimal floating point number rounded to 2 decimal places."
   ]
  },
  {
   "cell_type": "markdown",
   "metadata": {
    "slideshow": {
     "slide_type": "subslide"
    }
   },
   "source": [
    "**Exercise** Play with the following widget to learn the effect of different format specifications. In particular, print `10000/3` as `3,333.33`."
   ]
  },
  {
   "cell_type": "code",
   "execution_count": null,
   "metadata": {
    "ExecuteTime": {
     "end_time": "2021-01-16T02:09:12.571661Z",
     "start_time": "2021-01-16T02:09:12.464701Z"
    },
    "code_folding": [
     7
    ],
    "slideshow": {
     "slide_type": "fragment"
    }
   },
   "outputs": [],
   "source": [
    "from ipywidgets import interact\n",
    "@interact(x=r'10000/3',\n",
    "          align={'None':'','<':'<','<':'>','=':'=','^':'^'},\n",
    "          sign={'None':'','+':'+','-':'-','SPACE':' '},\n",
    "          width=(0,20),\n",
    "          grouping={'None':'','_':'_',',':','},\n",
    "          precision=(0,20))\n",
    "def print_float(x,sign,align,grouping,width=0,precision=2):\n",
    "    format_spec = f\"{{:{align}{sign}{'' if width==0 else width}{grouping}.{precision}f}}\"\n",
    "    print(\"Format spec:\",format_spec)\n",
    "    print(\"x ≈\",format_spec.format(eval(x)))"
   ]
  },
  {
   "cell_type": "code",
   "execution_count": null,
   "metadata": {
    "ExecuteTime": {
     "end_time": "2020-09-04T09:31:41.706086Z",
     "start_time": "2020-09-04T09:31:41.699822Z"
    },
    "deletable": false,
    "nbgrader": {
     "cell_type": "code",
     "checksum": "2d3a6cd240b70a30996852f2a8bcd7d2",
     "grade": true,
     "grade_id": "format-spec",
     "locked": false,
     "points": 0,
     "schema_version": 3,
     "solution": true,
     "task": false
    }
   },
   "outputs": [],
   "source": [
    "# YOUR CODE HERE\n",
    "raise NotImplementedError()"
   ]
  },
  {
   "cell_type": "markdown",
   "metadata": {
    "slideshow": {
     "slide_type": "subslide"
    }
   },
   "source": [
    "String formatting is useful for different data types other than `float`.  \n",
    "E.g., consider the following program that prints a time specified by some variables."
   ]
  },
  {
   "cell_type": "code",
   "execution_count": null,
   "metadata": {
    "ExecuteTime": {
     "end_time": "2020-09-07T05:47:45.114265Z",
     "start_time": "2020-09-07T05:47:45.108294Z"
    },
    "slideshow": {
     "slide_type": "-"
    }
   },
   "outputs": [],
   "source": [
    "# Some specified time\n",
    "hour = 12\n",
    "minute = 34\n",
    "second = 56\n",
    "\n",
    "print(\"The time is \" + str(hour) + \":\" + str(minute) + \":\" + str(second)+\".\")"
   ]
  },
  {
   "cell_type": "markdown",
   "metadata": {
    "slideshow": {
     "slide_type": "fragment"
    }
   },
   "source": [
    "Imagine you have to show also the date in different formats.  \n",
    "The code can become very hard to read/write because \n",
    "- the message is a concatenation of multiple strings and\n",
    "- the integer variables need to be converted to strings."
   ]
  },
  {
   "cell_type": "markdown",
   "metadata": {
    "slideshow": {
     "slide_type": "fragment"
    }
   },
   "source": [
    "Omitting `+` leads to syntax error. Removing `str` as follows also does not give the desired format."
   ]
  },
  {
   "cell_type": "code",
   "execution_count": null,
   "metadata": {
    "ExecuteTime": {
     "end_time": "2020-09-06T15:16:53.181368Z",
     "start_time": "2020-09-06T15:16:53.173730Z"
    },
    "slideshow": {
     "slide_type": "-"
    }
   },
   "outputs": [],
   "source": [
    "print(\"The time is \", hour, \":\", minute, \":\", second, \".\")  # note the extra spaces"
   ]
  },
  {
   "cell_type": "markdown",
   "metadata": {
    "slideshow": {
     "slide_type": "subslide"
    }
   },
   "source": [
    "To make the code more readable, we can use the `format` function as follows."
   ]
  },
  {
   "cell_type": "code",
   "execution_count": null,
   "metadata": {
    "ExecuteTime": {
     "end_time": "2020-09-07T05:49:15.206641Z",
     "start_time": "2020-09-07T05:49:15.201473Z"
    },
    "slideshow": {
     "slide_type": "-"
    }
   },
   "outputs": [],
   "source": [
    "message = \"The time is {}:{}:{}.\"\n",
    "print(message.format(hour,minute,second))"
   ]
  },
  {
   "cell_type": "markdown",
   "metadata": {
    "slideshow": {
     "slide_type": "fragment"
    }
   },
   "source": [
    "- We can have multiple *place-holders* `{}` inside a string.\n",
    "- We can then provide the contents (any type: numbers, strings..) using the `format` function which\n",
    "- substitutes the place-holders by the function arguments from left to right."
   ]
  },
  {
   "cell_type": "markdown",
   "metadata": {
    "slideshow": {
     "slide_type": "subslide"
    }
   },
   "source": [
    "According to the [string formatting syntax](https://docs.python.org/3/library/string.html#format-string-syntax), we can change the order of substitution using \n",
    "- indices *(0 is the first item)* or \n",
    "- names inside the placeholder `{}`:"
   ]
  },
  {
   "cell_type": "code",
   "execution_count": null,
   "metadata": {
    "ExecuteTime": {
     "end_time": "2020-09-07T05:53:08.593803Z",
     "start_time": "2020-09-07T05:53:08.586856Z"
    },
    "slideshow": {
     "slide_type": "fragment"
    }
   },
   "outputs": [],
   "source": [
    "print(\"You should {0} {1} what I say instead of what I {0}.\".format(\"do\", \"only\"))\n",
    "print(\"The surname of {first} {last} is {last}.\".format(first=\"John\", last=\"Doe\"))"
   ]
  },
  {
   "cell_type": "markdown",
   "metadata": {
    "slideshow": {
     "slide_type": "subslide"
    }
   },
   "source": [
    "**Exercise** Play with the following widget to learn more about the formating specification.  \n",
    "1. What happens when `align` is none but `fill` is `*`?\n",
    "1. What happens when the `expression` is a multi-line string?"
   ]
  },
  {
   "cell_type": "code",
   "execution_count": null,
   "metadata": {
    "ExecuteTime": {
     "end_time": "2020-09-07T05:54:12.535026Z",
     "start_time": "2020-09-07T05:54:12.465821Z"
    },
    "code_folding": [],
    "slideshow": {
     "slide_type": "-"
    }
   },
   "outputs": [],
   "source": [
    "from ipywidgets import interact\n",
    "@interact(expression=r\"'ABC'\",\n",
    "          fill='*',\n",
    "          align={'None':'','<':'<','<':'>','=':'=','^':'^'},\n",
    "          width=(0,20))\n",
    "def print_objectt(expression,fill,align='^',width=10):\n",
    "    format_spec = f\"{{:{fill}{align}{'' if width==0 else width}}}\"\n",
    "    print(\"Format spec:\",format_spec)\n",
    "    print(\"Print:\",format_spec.format(eval(expression)))"
   ]
  },
  {
   "cell_type": "markdown",
   "metadata": {
    "ExecuteTime": {
     "end_time": "2020-09-04T09:16:52.179558Z",
     "start_time": "2020-09-04T09:16:52.172995Z"
    },
    "deletable": false,
    "nbgrader": {
     "cell_type": "markdown",
     "checksum": "7df87438b481c0581d0b7e425335d263",
     "grade": true,
     "grade_id": "string-formatting",
     "locked": false,
     "points": 0,
     "schema_version": 3,
     "solution": true,
     "task": false
    }
   },
   "source": [
    "YOUR ANSWER HERE"
   ]
  }
 ],
 "metadata": {
  "kernelspec": {
   "display_name": "Python 3.7",
   "language": "python",
   "name": "python3"
  },
  "language_info": {
   "codemirror_mode": {
    "name": "ipython",
    "version": 3
   },
   "file_extension": ".py",
   "mimetype": "text/x-python",
   "name": "python",
   "nbconvert_exporter": "python",
   "pygments_lexer": "ipython3",
   "version": "3.7.9"
  },
  "latex_envs": {
   "LaTeX_envs_menu_present": true,
   "autoclose": false,
   "autocomplete": true,
   "bibliofile": "biblio.bib",
   "cite_by": "apalike",
   "current_citInitial": 1,
   "eqLabelWithNumbers": true,
   "eqNumInitial": 1,
   "hotkeys": {
    "equation": "Ctrl-E",
    "itemize": "Ctrl-I"
   },
   "labels_anchors": false,
   "latex_user_defs": false,
   "report_style_numbering": false,
   "user_envs_cfg": false
  },
  "rise": {
   "enable_chalkboard": true,
   "scroll": true,
   "theme": "white"
  },
  "toc": {
   "base_numbering": 1,
   "nav_menu": {
    "height": "195px",
    "width": "330px"
   },
   "number_sections": true,
   "sideBar": true,
   "skip_h1_title": true,
   "title_cell": "Table of Contents",
   "title_sidebar": "Contents",
   "toc_cell": false,
   "toc_position": {
    "height": "454.418px",
    "left": "1533px",
    "top": "110.284px",
    "width": "435.327px"
   },
   "toc_section_display": true,
   "toc_window_display": false
  }
 },
 "nbformat": 4,
 "nbformat_minor": 4
}

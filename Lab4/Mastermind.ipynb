{
 "cells": [
  {
   "cell_type": "markdown",
   "metadata": {
    "slideshow": {
     "slide_type": "slide"
    }
   },
   "source": [
    "# Mastermind"
   ]
  },
  {
   "cell_type": "markdown",
   "metadata": {
    "slideshow": {
     "slide_type": "-"
    },
    "tags": [
     "remove-cell"
    ]
   },
   "source": [
    "**CS1302 Introduction to Computer Programming**\n",
    "___"
   ]
  },
  {
   "cell_type": "markdown",
   "metadata": {
    "slideshow": {
     "slide_type": "subslide"
    }
   },
   "source": [
    "In this notebook, you will write a game called [*Mastermind*](https://en.wikipedia.org/wiki/Mastermind_(board_game)).  \n",
    "Play the video below to learn about the rule of the game."
   ]
  },
  {
   "cell_type": "code",
   "execution_count": 1,
   "metadata": {
    "ExecuteTime": {
     "end_time": "2021-02-26T06:32:37.177162Z",
     "start_time": "2021-02-26T06:32:37.157940Z"
    },
    "code_folding": [
     0
    ],
    "jupyter": {
     "outputs_hidden": true
    },
    "slideshow": {
     "slide_type": "-"
    }
   },
   "outputs": [
    {
     "data": {
      "text/html": [
       "<iframe width=\"912\" height=\"513\" src=\"https://www.youtube.com/embed/wsYPsrzCKiA\" frameborder=\"0\" allow=\"accelerometer; autoplay; encrypted-media; gyroscope; picture-in-picture\" allowfullscreen></iframe>\n"
      ],
      "text/plain": [
       "<IPython.core.display.HTML object>"
      ]
     },
     "metadata": {},
     "output_type": "display_data"
    }
   ],
   "source": [
    "%%html\n",
    "<iframe width=\"912\" height=\"513\" src=\"https://www.youtube.com/embed/wsYPsrzCKiA\" frameborder=\"0\" allow=\"accelerometer; autoplay; encrypted-media; gyroscope; picture-in-picture\" allowfullscreen></iframe>"
   ]
  },
  {
   "cell_type": "markdown",
   "metadata": {},
   "source": [
    "1. **Mastermind** first creates a hidden `code` of length `code_length` consisting code pegs with possibly duplicate colors chosen from a sequence of `colors`.\n",
    "1. **Coderbreaker** provides a `guess` of the `code`.\n",
    "1. **Mastermind** generates a `feedback` consisting of key pegs of black and white colors:\n",
    "    - The number of black pegs (`black_key_pegs_count`) is the number of code pegs that are the correct colors in the correct positions. \n",
    "    - The number of white pegs (`white_key_pegs_count`) is the number of code pegs that are the correct colors but in incorrect positions.\n",
    "    - Each code peg should be counted only once, i.e., a code peg cannot be awarded more than one key peg. E.g.,\n",
    "        - If the `code` is `'RBGG'` and `guess` is `'BGGG'`, then \n",
    "        - the feedback should be `'bbw'` with \n",
    "            - `black_key_pegs_count == 2` because of `__GG` in the guess, and\n",
    "            - `white_key_pegs_count == 1` because of `_B__` in the guess. \n",
    "            - `_G__` in the `guess` should not be awarded an additional white peg because `__GG` in the `code` has been counted.\n",
    "1. **Codebreaker** wins if the code is correctly guessed within certain number (`max_num_guesses`) of guesses."
   ]
  },
  {
   "cell_type": "markdown",
   "metadata": {
    "slideshow": {
     "slide_type": "slide"
    }
   },
   "source": [
    "## Random Code Generation"
   ]
  },
  {
   "cell_type": "markdown",
   "metadata": {},
   "source": [
    "The first exercise is to generate a random hidden code so even one person can play the game as Codebreaker.  \n",
    "Watch the following video to understand how computers generate random objects."
   ]
  },
  {
   "cell_type": "code",
   "execution_count": 2,
   "metadata": {
    "ExecuteTime": {
     "end_time": "2021-02-26T06:45:49.871034Z",
     "start_time": "2021-02-26T06:45:49.866989Z"
    },
    "code_folding": [],
    "jupyter": {
     "outputs_hidden": true
    },
    "scrolled": false
   },
   "outputs": [
    {
     "data": {
      "text/html": [
       "<iframe width=\"912\" height=\"513\" src=\"https://www.youtube.com/embed/GtOt7EBNEwQ\" frameborder=\"0\" allow=\"accelerometer; autoplay; clipboard-write; encrypted-media; gyroscope; picture-in-picture\" allowfullscreen></iframe>\n"
      ],
      "text/plain": [
       "<IPython.core.display.HTML object>"
      ]
     },
     "metadata": {},
     "output_type": "display_data"
    }
   ],
   "source": [
    "%%html\n",
    "<iframe width=\"912\" height=\"513\" src=\"https://www.youtube.com/embed/GtOt7EBNEwQ\" frameborder=\"0\" allow=\"accelerometer; autoplay; clipboard-write; encrypted-media; gyroscope; picture-in-picture\" allowfullscreen></iframe>\n"
   ]
  },
  {
   "cell_type": "markdown",
   "metadata": {},
   "source": [
    "To generate random content in Python, we can import the **random** module, which provides some useful functions to generate random objects as follows."
   ]
  },
  {
   "cell_type": "code",
   "execution_count": 8,
   "metadata": {
    "ExecuteTime": {
     "end_time": "2021-03-01T04:26:58.994813Z",
     "start_time": "2021-03-01T04:26:58.904219Z"
    }
   },
   "outputs": [
    {
     "name": "stdout",
     "output_type": "stream",
     "text": [
      "0.5033936235703645\n",
      "0.45335395520135324\n",
      "0.8797614462965195\n",
      "0.15648514425028714\n",
      "0.5608327746463229\n",
      "0.9874432164691006\n",
      "0.10695261349047702\n",
      "0.07698496503171282\n",
      "0.8465002589165512\n",
      "0.6695208258067196\n"
     ]
    }
   ],
   "source": [
    "import random\n",
    "for i in range(10): \n",
    "    print(random.random())  # random floating point numbers in [0,1)"
   ]
  },
  {
   "cell_type": "code",
   "execution_count": 3,
   "metadata": {
    "ExecuteTime": {
     "end_time": "2021-03-01T03:59:47.199297Z",
     "start_time": "2021-03-01T03:59:47.181849Z"
    }
   },
   "outputs": [
    {
     "name": "stdout",
     "output_type": "stream",
     "text": [
      "8 8 3 8 6 3 3 9 6 8 "
     ]
    }
   ],
   "source": [
    "for i in range(10): \n",
    "    print(random.randint(3,10),end=' ')  # random integer in range [3,10]"
   ]
  },
  {
   "cell_type": "code",
   "execution_count": 4,
   "metadata": {
    "ExecuteTime": {
     "end_time": "2021-03-01T03:59:47.994932Z",
     "start_time": "2021-03-01T03:59:47.901703Z"
    }
   },
   "outputs": [
    {
     "name": "stdout",
     "output_type": "stream",
     "text": [
      "GBRBRBRRRR"
     ]
    }
   ],
   "source": [
    "for i in range(10): \n",
    "    print(random.choice('RBG'),end='')  # random element in the sequence 'RBG'"
   ]
  },
  {
   "cell_type": "markdown",
   "metadata": {},
   "source": [
    "We can generate a reproducible pseudo-random sequence by specifying the seed.  \n",
    "By default Python uses the system time as seed."
   ]
  },
  {
   "cell_type": "code",
   "execution_count": 12,
   "metadata": {
    "ExecuteTime": {
     "end_time": "2021-03-01T04:28:33.795421Z",
     "start_time": "2021-03-01T04:28:33.711791Z"
    }
   },
   "outputs": [
    {
     "name": "stdout",
     "output_type": "stream",
     "text": [
      "6 5 3 8 5 8 7 3 9 10 "
     ]
    }
   ],
   "source": [
    "# repeatedly run the cell to see new sequences.\n",
    "# you may see that everytime the number sequence doesn't change\n",
    "# it's because we use fixed seed. If you change seed to other numbers, the\n",
    "# generated sequence will be different\n",
    "random.seed(123456)\n",
    "for i in range(10): \n",
    "    print(random.randint(3,10),end=' ')"
   ]
  },
  {
   "cell_type": "markdown",
   "metadata": {},
   "source": [
    "**Exercise** Define a function that generates a random `code`. The functions takes in\n",
    "- a string `colors` whose characters represent distinct colors to choose from, and\n",
    "- a positive integer `code_length` representing the length of the code.\n",
    "\n",
    "For instance, `get_code('ROYGBP',4)` returns a code of `4` code pegs randomly with colors chosen from `'R'`ed, `'O'`range, `'Y'`ellow, `'G'`reen, `'B'`lue, and `'P'`urple. One possible outcome is `'ROYY'`."
   ]
  },
  {
   "cell_type": "code",
   "execution_count": 14,
   "metadata": {
    "ExecuteTime": {
     "end_time": "2021-03-01T04:47:32.342817Z",
     "start_time": "2021-03-01T04:47:32.335300Z"
    },
    "deletable": false,
    "nbgrader": {
     "cell_type": "code",
     "checksum": "b57b920c791edeff0eb8ee8fe73efe0e",
     "grade": false,
     "grade_id": "get_code",
     "locked": false,
     "schema_version": 3,
     "solution": true,
     "task": false
    }
   },
   "outputs": [],
   "source": [
    "import random\n",
    "def get_code(colors, code_length):\n",
    "    code = ''\n",
    "    \"\"\"\n",
    "    The function body will iterate code_length times.\n",
    "    In each iteration, generate a random (integer) position in range 0 to len(colors)-1. \n",
    "    From color, get the character at that random position and append the character to code\n",
    "    \"\"\"\n",
    "    # YOUR CODE HERE\n",
    "    raise NotImplementedError()\n",
    "    return code"
   ]
  },
  {
   "cell_type": "code",
   "execution_count": null,
   "metadata": {
    "ExecuteTime": {
     "end_time": "2020-10-07T04:59:51.673718Z",
     "start_time": "2020-10-07T04:59:51.662586Z"
    },
    "code_folding": [
     0
    ],
    "deletable": false,
    "editable": false,
    "nbgrader": {
     "cell_type": "code",
     "checksum": "fd63be915d4e5148640209bfaff8c19d",
     "grade": true,
     "grade_id": "test-get_code",
     "locked": true,
     "points": 1,
     "schema_version": 3,
     "solution": false,
     "task": false
    },
    "slideshow": {
     "slide_type": "-"
    }
   },
   "outputs": [],
   "source": []
  },
  {
   "cell_type": "markdown",
   "metadata": {
    "slideshow": {
     "slide_type": "subslide"
    }
   },
   "source": [
    "## Guess Validation"
   ]
  },
  {
   "cell_type": "markdown",
   "metadata": {
    "slideshow": {
     "slide_type": "fragment"
    }
   },
   "source": [
    "**Exercise** Define a function `valid_code` that \n",
    "- takes `colors`, `code_length`, and `guess` as the first, second, and third arguments respectively, and\n",
    "- return `True` if `guess` is a valid code, i.e., a string of length `code_length` with characters from those of `colors`, and\n",
    "- `False` otherwise."
   ]
  },
  {
   "cell_type": "markdown",
   "metadata": {
    "slideshow": {
     "slide_type": "fragment"
    }
   },
   "source": [
    "*Hint:* Solution template:\n",
    "```Python\n",
    "def __________(colors, code_length, guess):\n",
    "    if len(guess) __ code_length:\n",
    "        is_valid = ____\n",
    "    else:\n",
    "        for peg in guess:\n",
    "            for color in colors:\n",
    "                if peg == color: ____\n",
    "            else:\n",
    "                is_valid = _____\n",
    "                ____\n",
    "        else:\n",
    "            is_valid = ____\n",
    "    return is_valid\n",
    "```"
   ]
  },
  {
   "cell_type": "code",
   "execution_count": null,
   "metadata": {
    "ExecuteTime": {
     "end_time": "2020-10-07T04:59:51.854081Z",
     "start_time": "2020-10-07T04:59:51.850376Z"
    },
    "deletable": false,
    "nbgrader": {
     "cell_type": "code",
     "checksum": "cf136637816a072f4c2cf89b0a55ebe0",
     "grade": false,
     "grade_id": "valid_code",
     "locked": false,
     "schema_version": 3,
     "solution": true,
     "task": false
    },
    "slideshow": {
     "slide_type": "skip"
    }
   },
   "outputs": [],
   "source": [
    "# YOUR CODE HERE\n",
    "raise NotImplementedError()"
   ]
  },
  {
   "cell_type": "code",
   "execution_count": null,
   "metadata": {
    "ExecuteTime": {
     "end_time": "2020-10-07T04:59:51.866265Z",
     "start_time": "2020-10-07T04:59:51.855499Z"
    },
    "code_folding": [
     0
    ],
    "deletable": false,
    "editable": false,
    "nbgrader": {
     "cell_type": "code",
     "checksum": "1fdfdcf1fb8fa0aaae27d03aa30dcd4f",
     "grade": true,
     "grade_id": "test-valid_code",
     "locked": true,
     "points": 1,
     "schema_version": 3,
     "solution": false,
     "task": false
    },
    "slideshow": {
     "slide_type": "skip"
    }
   },
   "outputs": [],
   "source": [
    "# tests\n",
    "assert valid_code('RBG',1,'R') == True\n",
    "assert valid_code('RBG',2,'B') == False\n",
    "assert valid_code('RBG',2,'RP') == False\n",
    "assert valid_code('RBG',0,'') == True"
   ]
  },
  {
   "cell_type": "markdown",
   "metadata": {
    "slideshow": {
     "slide_type": "subslide"
    }
   },
   "source": [
    "## Feedback Generation"
   ]
  },
  {
   "cell_type": "markdown",
   "metadata": {},
   "source": [
    "According to the rules of Mastermind, double-counting of a single peg (as black and white) is not allowed. To facilitate this check, we have written a new module `markposition` that allows you to mark any non-negative integer position as counted."
   ]
  },
  {
   "cell_type": "markdown",
   "metadata": {},
   "source": [
    "**Exercise** Write an `import` statement to import from the module `markposition` the functions \n",
    "- `mark_as_counted`\n",
    "- `check_if_counted`, and \n",
    "- `reset_all_to_not_counted`."
   ]
  },
  {
   "cell_type": "code",
   "execution_count": 2,
   "metadata": {
    "ExecuteTime": {
     "end_time": "2021-03-01T07:43:49.022370Z",
     "start_time": "2021-03-01T07:43:49.016119Z"
    },
    "deletable": false,
    "nbgrader": {
     "cell_type": "code",
     "checksum": "29cd783448a79b5283dc57a836654b78",
     "grade": false,
     "grade_id": "markposition",
     "locked": false,
     "schema_version": 3,
     "solution": true,
     "task": false
    }
   },
   "outputs": [
    {
     "ename": "NotImplementedError",
     "evalue": "",
     "output_type": "error",
     "traceback": [
      "\u001b[0;31m---------------------------------------------------------------------------\u001b[0m",
      "\u001b[0;31mNotImplementedError\u001b[0m                       Traceback (most recent call last)",
      "\u001b[0;32m<ipython-input-2-15b94d1fa268>\u001b[0m in \u001b[0;36m<module>\u001b[0;34m\u001b[0m\n\u001b[1;32m      1\u001b[0m \u001b[0;31m# YOUR CODE HERE\u001b[0m\u001b[0;34m\u001b[0m\u001b[0;34m\u001b[0m\u001b[0;34m\u001b[0m\u001b[0m\n\u001b[0;32m----> 2\u001b[0;31m \u001b[0;32mraise\u001b[0m \u001b[0mNotImplementedError\u001b[0m\u001b[0;34m(\u001b[0m\u001b[0;34m)\u001b[0m\u001b[0;34m\u001b[0m\u001b[0;34m\u001b[0m\u001b[0m\n\u001b[0m",
      "\u001b[0;31mNotImplementedError\u001b[0m: "
     ]
    }
   ],
   "source": [
    "# YOUR CODE HERE\n",
    "raise NotImplementedError()"
   ]
  },
  {
   "cell_type": "code",
   "execution_count": 20,
   "metadata": {
    "ExecuteTime": {
     "end_time": "2021-03-01T05:14:38.994283Z",
     "start_time": "2021-03-01T05:14:38.956377Z"
    },
    "code_folding": [],
    "deletable": false,
    "editable": false,
    "nbgrader": {
     "cell_type": "code",
     "checksum": "02a3154439ac8fca045ea45917ffdda9",
     "grade": true,
     "grade_id": "test-markposition",
     "locked": true,
     "points": 1,
     "schema_version": 3,
     "solution": false,
     "task": false
    }
   },
   "outputs": [],
   "source": [
    "# Tests\n",
    "reset_all_to_not_counted()\n",
    "mark_as_counted(3)\n",
    "assert check_if_counted(3) and not check_if_counted(0)"
   ]
  },
  {
   "cell_type": "markdown",
   "metadata": {
    "ExecuteTime": {
     "end_time": "2020-09-22T08:51:35.099297Z",
     "start_time": "2020-09-22T08:51:35.093420Z"
    }
   },
   "source": [
    "**Exercise** Using the functions imported from `markposition`, mark only the positions `0`, `2`, `4`, `6`, `8`, and `10` as counted. All other positions are not counted.   \n",
    "*Hint*: Use `help` to learn how to use the imported functions."
   ]
  },
  {
   "cell_type": "code",
   "execution_count": 1,
   "metadata": {
    "ExecuteTime": {
     "end_time": "2021-03-01T07:43:32.047504Z",
     "start_time": "2021-03-01T07:43:31.998809Z"
    },
    "deletable": false,
    "nbgrader": {
     "cell_type": "code",
     "checksum": "609c9d44fcf604b968abd407bf05b82f",
     "grade": false,
     "grade_id": "reset_all_to_not_counted",
     "locked": false,
     "schema_version": 3,
     "solution": true,
     "task": false
    }
   },
   "outputs": [
    {
     "ename": "NotImplementedError",
     "evalue": "",
     "output_type": "error",
     "traceback": [
      "\u001b[0;31m---------------------------------------------------------------------------\u001b[0m",
      "\u001b[0;31mNotImplementedError\u001b[0m                       Traceback (most recent call last)",
      "\u001b[0;32m<ipython-input-1-15b94d1fa268>\u001b[0m in \u001b[0;36m<module>\u001b[0;34m\u001b[0m\n\u001b[1;32m      1\u001b[0m \u001b[0;31m# YOUR CODE HERE\u001b[0m\u001b[0;34m\u001b[0m\u001b[0;34m\u001b[0m\u001b[0;34m\u001b[0m\u001b[0m\n\u001b[0;32m----> 2\u001b[0;31m \u001b[0;32mraise\u001b[0m \u001b[0mNotImplementedError\u001b[0m\u001b[0;34m(\u001b[0m\u001b[0;34m)\u001b[0m\u001b[0;34m\u001b[0m\u001b[0;34m\u001b[0m\u001b[0m\n\u001b[0m",
      "\u001b[0;31mNotImplementedError\u001b[0m: "
     ]
    }
   ],
   "source": [
    "# YOUR CODE HERE\n",
    "raise NotImplementedError()"
   ]
  },
  {
   "cell_type": "code",
   "execution_count": 24,
   "metadata": {
    "ExecuteTime": {
     "end_time": "2021-03-01T05:16:20.794810Z",
     "start_time": "2021-03-01T05:16:20.734729Z"
    },
    "code_folding": [
     0
    ],
    "deletable": false,
    "editable": false,
    "nbgrader": {
     "cell_type": "code",
     "checksum": "50b6ac50f054c32956ad1280f3afed0a",
     "grade": true,
     "grade_id": "test-reset_all_to_not_counted",
     "locked": true,
     "points": 1,
     "schema_version": 3,
     "solution": false,
     "task": false
    }
   },
   "outputs": [],
   "source": [
    "# Tests\n",
    "for i in range(11):\n",
    "    assert not check_if_counted(i) if i % 2 else check_if_counted(i)"
   ]
  },
  {
   "cell_type": "markdown",
   "metadata": {
    "slideshow": {
     "slide_type": "fragment"
    }
   },
   "source": [
    "**Exercise** Define a function `get_feedback` that \n",
    "- takes `code` and `guess` as the first and second arguments respectively, and\n",
    "- returns a feedback string that starts with the appropriate number of characters `'b'` (for black key pegs) followed by the appropriate number of characters `'w'` (for white key pegs)."
   ]
  },
  {
   "cell_type": "markdown",
   "metadata": {
    "slideshow": {
     "slide_type": "fragment"
    }
   },
   "source": [
    "*Hint:* Solution template:\n",
    "```Python\n",
    "def get_feedback(code, guess):\n",
    "    black_key_pegs_count = white_key_pegs_count = counted = 0\n",
    "    reset_all_to_not_counted()\n",
    "    for i in _________________:\n",
    "        if ___________________:\n",
    "            black_key_pegs_count += 1\n",
    "            mark_as_counted(i)\n",
    "    for i in range(len(guess)):\n",
    "        for j in range(len(code)):\n",
    "            if  __________________________________________________________:\n",
    "                white_key_pegs_count += 1\n",
    "                mark_as_counted(j)\n",
    "                break\n",
    "    key = 'b' * black_key_pegs_count + 'w' * white_key_pegs_count\n",
    "    return key\n",
    "```"
   ]
  },
  {
   "cell_type": "code",
   "execution_count": null,
   "metadata": {
    "ExecuteTime": {
     "end_time": "2020-10-07T04:59:52.312204Z",
     "start_time": "2020-10-07T04:59:52.307664Z"
    },
    "deletable": false,
    "nbgrader": {
     "cell_type": "code",
     "checksum": "578b868697e5a6346fa2935ba0008739",
     "grade": false,
     "grade_id": "get_feedback",
     "locked": false,
     "schema_version": 3,
     "solution": true,
     "task": false
    },
    "slideshow": {
     "slide_type": "skip"
    }
   },
   "outputs": [],
   "source": [
    "# YOUR CODE HERE\n",
    "raise NotImplementedError()"
   ]
  },
  {
   "cell_type": "code",
   "execution_count": null,
   "metadata": {
    "ExecuteTime": {
     "end_time": "2020-10-07T04:59:52.330320Z",
     "start_time": "2020-10-07T04:59:52.313675Z"
    },
    "code_folding": [],
    "deletable": false,
    "editable": false,
    "nbgrader": {
     "cell_type": "code",
     "checksum": "3bdec566e8122108e2f6508c1782c9b2",
     "grade": true,
     "grade_id": "test-get_feedback",
     "locked": true,
     "points": 1,
     "schema_version": 3,
     "solution": false,
     "task": false
    },
    "slideshow": {
     "slide_type": "skip"
    }
   },
   "outputs": [],
   "source": [
    "# tests\n",
    "def test_get_feedback(feedback,code,guess):\n",
    "    feedback_ = get_feedback(code,guess)\n",
    "    correct = feedback == feedback_\n",
    "    if not correct:\n",
    "        print(\n",
    "            f'With code=\"{code}\" and guess=\"{guess}\", feedback should be \"{feedback}\", not \"{feedback_}\".'\n",
    "        )\n",
    "    assert correct\n",
    "\n",
    "test_get_feedback(10*'b'+'w'*0,\"RGBRGBRGBY\",\"RGBRGBRGBY\")\n",
    "test_get_feedback(0*'b'+'w'*10,\"RGBRGBRGBY\",\"YRGBRGBRGB\")\n",
    "test_get_feedback(8*'b'+'w'*0,\"RGRGRGRG\",\"RGRGRGRG\")\n",
    "test_get_feedback(0*'b'+'w'*8,\"RGRGRGRG\",\"GRGRGRGR\")\n",
    "test_get_feedback(0*'b'+'w'*6,\"RRRRGGG\",\"GGGGRRR\")\n",
    "test_get_feedback(1*'b'+'w'*6,\"RRRRGGG\",\"GGGRRRR\")\n",
    "test_get_feedback(5*'b'+'w'*2,\"RRRRGGG\",\"RRRGGGR\")\n",
    "test_get_feedback(1*'b'+'w'*0,\"RRRRGGG\",\"RYYPPBB\")\n",
    "test_get_feedback(0*'b'+'w'*1,\"RRRRG\",\"GBBBB\")\n",
    "test_get_feedback(0*'b'+'w'*0,\"RRRRG\",\"YBBBB\")"
   ]
  },
  {
   "cell_type": "markdown",
   "metadata": {
    "slideshow": {
     "slide_type": "slide"
    }
   },
   "source": [
    "## Play the Game"
   ]
  },
  {
   "cell_type": "markdown",
   "metadata": {
    "slideshow": {
     "slide_type": "fragment"
    }
   },
   "source": [
    "After finishing the previous exercises, you can play the game as a code breaker against a random mastermind."
   ]
  },
  {
   "cell_type": "code",
   "execution_count": null,
   "metadata": {
    "ExecuteTime": {
     "end_time": "2020-10-08T08:49:56.643672Z",
     "start_time": "2020-10-08T08:49:56.494138Z"
    }
   },
   "outputs": [],
   "source": [
    "# mastermind\n",
    "import ipywidgets as widgets\n",
    "from IPython.display import display, HTML\n",
    "\n",
    "\n",
    "def main():\n",
    "    '''The main function that runs the mastermind game.'''\n",
    "    max_num_guesses = code_length = code = num_guesses_left = None\n",
    "    is_game_ended = True\n",
    "    colors = 'ROYGBP'\n",
    "    color_code = {\n",
    "        \"R\": \"#F88,#F00,#800\",\n",
    "        \"O\": \"#FD8,#F80,#840\",\n",
    "        \"Y\": \"#FF8,#FF0,#AA0\",\n",
    "        \"G\": \"#8F8,#0F0,#080\",\n",
    "        \"B\": \"#88F,#00F,#008\",\n",
    "        \"P\": \"#F8F,#F0F,#808\",\n",
    "        \"b\": \"#888,#000,#000\",\n",
    "        \"w\": \"#FFF,#EEE,#888\"\n",
    "    }\n",
    "\n",
    "    # returns the HTML code for a colored peg.\n",
    "    def getPeg(color, size=30):\n",
    "        return '''<div style='display:inline-block;\n",
    "                              background-image: radial-gradient(circle, {0}); \n",
    "                              width:{1}px; height:{1}px; border-radius:50%;'>\n",
    "                  </div>'''.format(color_code[color], size)\n",
    "\n",
    "    colors_display = widgets.HBox([widgets.Label(value='Color codes:')] + [\n",
    "        widgets.HBox([widgets.Label(value=color),\n",
    "                      widgets.HTML(getPeg(color))]) for color in colors\n",
    "    ])\n",
    "\n",
    "    max_num_guesses_input = widgets.IntSlider(min=5,\n",
    "                                              max=15,\n",
    "                                              value=10,\n",
    "                                              description=\"# guesses:\")\n",
    "    code_length_input = widgets.IntSlider(min=2,\n",
    "                                          max=10,\n",
    "                                          value=4,\n",
    "                                          description=\"Code length:\")\n",
    "    code_input = widgets.Password(description=\"Code:\")\n",
    "    start_new_game_button = widgets.Button(description=\"Start a new game\")\n",
    "\n",
    "    guess_input = widgets.Text(description=\"Guess:\")\n",
    "    submit_guess_button = widgets.Button(description=\"Submit guess\")\n",
    "    board = widgets.Output()\n",
    "    message = widgets.Output()\n",
    "\n",
    "    display(\n",
    "        widgets.VBox([\n",
    "            max_num_guesses_input, code_length_input, colors_display,\n",
    "            widgets.HBox([code_input, start_new_game_button]),\n",
    "            widgets.HBox([guess_input, submit_guess_button]), board, message\n",
    "        ]))\n",
    "\n",
    "    # A listener that starts a new game\n",
    "    def start_new_game(button):\n",
    "        nonlocal code, num_guesses_left, is_game_ended, max_num_guesses, code_length\n",
    "        max_num_guesses = max_num_guesses_input.value\n",
    "        code_length = code_length_input.value\n",
    "        board.clear_output()\n",
    "        message.clear_output()\n",
    "        code = code_input.value or get_code(colors, code_length)\n",
    "        with message:\n",
    "            if not valid_code(colors, code_length, code):\n",
    "                display(\n",
    "                    HTML('''<p>The code {} is invalid.<br>\n",
    "                        Leave the code box empty to randomly generated a code.\n",
    "                        </p>'''.format(code)))\n",
    "                is_game_ended = True\n",
    "            else:\n",
    "                num_guesses_left = max_num_guesses\n",
    "                is_game_ended = num_guesses_left <= 0\n",
    "                display(\n",
    "                    HTML('<p>Game started! {} Guesses left.</p>'.format(\n",
    "                        num_guesses_left)))\n",
    "\n",
    "    # A listener that submits a guess\n",
    "    def submit_guess(button):\n",
    "        nonlocal num_guesses_left, is_game_ended\n",
    "        guess = guess_input.value\n",
    "        with message:\n",
    "            message.clear_output()\n",
    "            if is_game_ended:\n",
    "                display(\n",
    "                    HTML('''<p>Game has not started.<br> \n",
    "                        Please start a new game.</p>'''))\n",
    "                return\n",
    "            if not valid_code(colors, code_length, guess):\n",
    "                display(HTML('<p>Invalid guess.</p>'))\n",
    "                return\n",
    "        feedback = get_feedback(code, guess)\n",
    "        num_guesses_left -= 1\n",
    "        with board:\n",
    "            content = \"\"\n",
    "            for k in guess:\n",
    "                content += getPeg(k)\n",
    "            content += '''<div style='display:inline-block; \n",
    "                             margin: 0px 5px 0px 30px; \n",
    "                             position:relative; top:5px;'>Feeback:</div>\n",
    "                          <div style='display:inline-block; \n",
    "                             border: 1px solid; width:120px; height:30px;'>'''\n",
    "            for k in feedback:\n",
    "                content += getPeg(k, 28)\n",
    "            content += \"</div>\"\n",
    "            display(HTML(content))\n",
    "\n",
    "        with message:\n",
    "            message.clear_output()\n",
    "            if feedback == 'b' * code_length:\n",
    "                is_game_ended = True\n",
    "                display(\n",
    "                    HTML('<p>You won with {} guesses left!</p>'.format(\n",
    "                        num_guesses_left)))\n",
    "                return\n",
    "            is_game_ended = num_guesses_left <= 0\n",
    "            if is_game_ended:\n",
    "                display(HTML('<p>Game over...</p>'))\n",
    "                return\n",
    "            display(HTML('<p>{} Guesses left.</p>'.format(num_guesses_left)))\n",
    "\n",
    "    start_new_game_button.on_click(start_new_game)\n",
    "    submit_guess_button.on_click(submit_guess)\n",
    "\n",
    "\n",
    "main()"
   ]
  },
  {
   "cell_type": "code",
   "execution_count": null,
   "metadata": {},
   "outputs": [],
   "source": []
  }
 ],
 "metadata": {
  "kernelspec": {
   "display_name": "Python 3.7",
   "language": "python",
   "name": "python3"
  },
  "language_info": {
   "codemirror_mode": {
    "name": "ipython",
    "version": 3
   },
   "file_extension": ".py",
   "mimetype": "text/x-python",
   "name": "python",
   "nbconvert_exporter": "python",
   "pygments_lexer": "ipython3",
   "version": "3.7.9"
  },
  "latex_envs": {
   "LaTeX_envs_menu_present": true,
   "autoclose": false,
   "autocomplete": true,
   "bibliofile": "biblio.bib",
   "cite_by": "apalike",
   "current_citInitial": 1,
   "eqLabelWithNumbers": true,
   "eqNumInitial": 1,
   "hotkeys": {
    "equation": "Ctrl-E",
    "itemize": "Ctrl-I"
   },
   "labels_anchors": false,
   "latex_user_defs": false,
   "report_style_numbering": false,
   "user_envs_cfg": false
  },
  "rise": {
   "enable_chalkboard": true,
   "scroll": true,
   "theme": "white"
  },
  "toc": {
   "base_numbering": 1,
   "nav_menu": {
    "height": "195px",
    "width": "330px"
   },
   "number_sections": true,
   "sideBar": true,
   "skip_h1_title": true,
   "title_cell": "Table of Contents",
   "title_sidebar": "Contents",
   "toc_cell": false,
   "toc_position": {
    "height": "454.418px",
    "left": "1533px",
    "top": "110.284px",
    "width": "435.327px"
   },
   "toc_section_display": true,
   "toc_window_display": false
  }
 },
 "nbformat": 4,
 "nbformat_minor": 4
}

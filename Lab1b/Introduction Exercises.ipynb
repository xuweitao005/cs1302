{
 "cells": [
  {
   "cell_type": "markdown",
   "metadata": {
    "deletable": false,
    "editable": false,
    "nbgrader": {
     "cell_type": "markdown",
     "checksum": "8206717e1d37ecafa44366bd3c8b7503",
     "grade": false,
     "grade_id": "cell-aee9fb9dfc635324",
     "locked": true,
     "schema_version": 3,
     "solution": false,
     "task": false
    }
   },
   "source": [
    "# Lab 1b\n",
    "CS1302 Introduction to Computer Programming\n",
    "___"
   ]
  },
  {
   "cell_type": "markdown",
   "metadata": {
    "deletable": false,
    "editable": false,
    "nbgrader": {
     "cell_type": "markdown",
     "checksum": "5e9e605d4a774ad26163e61fc60d7169",
     "grade": false,
     "grade_id": "cell-5f9ee19c84a4afbc",
     "locked": true,
     "schema_version": 3,
     "solution": false,
     "task": false
    }
   },
   "source": [
    "The goal of this lab is to let you get a basic understanding of how to program. Don't worry if you haven't programmed before and don't get enough time to review Lectures.\n",
    "\n",
    "This Lab sheet involves exercises in 2 parts: Guided Exercises (Q1-Q7) --> Skill-Drilling Exercise (Q8-Q10) \n",
    "\n",
    "Hint: the output samples can be found [here](https://www.cs.cityu.edu.hk/~helena/cs1302202021B/bin/Lab01b_samples.html) <span style=\"color:#ff0000\"><== You may copy the content directly to avoid some typing mistakes</span>"
   ]
  },
  {
   "cell_type": "markdown",
   "metadata": {
    "ExecuteTime": {
     "end_time": "2021-01-13T13:16:49.049682Z",
     "start_time": "2021-01-13T13:16:49.045142Z"
    },
    "deletable": false,
    "editable": false,
    "nbgrader": {
     "cell_type": "markdown",
     "checksum": "dd14a3def40ed7f27a6d3a13c5f4ef97",
     "grade": false,
     "grade_id": "cell-df798b80f95be8a2",
     "locked": true,
     "schema_version": 3,
     "solution": false,
     "task": false
    }
   },
   "source": [
    "## Guided Exercises (Q1-Q7)\n",
    "### Q1. The simpliest Hello World program (Version 1)\n",
    "As mentioned in Lab 1, the first program for a beginner to write is often the [\"Hello, World!\"](https://en.wikipedia.org/wiki/%22Hello,_World!%22_program) program, which says Hello to the world. Please write your program below which prints **Hello, World!**. If you forget how to do so, please review Section 2.1 of setup.ipynb in Lab 1.  Remember to always delete *raise NotImplementedError()* before typing any code."
   ]
  },
  {
   "cell_type": "code",
   "execution_count": null,
   "metadata": {
    "ExecuteTime": {
     "end_time": "2021-01-16T17:07:21.343605Z",
     "start_time": "2021-01-16T17:07:21.338812Z"
    },
    "deletable": false,
    "nbgrader": {
     "cell_type": "code",
     "checksum": "ecc79dcfc8a6cc689f63b0fd188ffbe6",
     "grade": false,
     "grade_id": "Lab1bQ1HelloWorld",
     "locked": false,
     "schema_version": 3,
     "solution": true,
     "task": false
    }
   },
   "outputs": [],
   "source": [
    "# YOUR CODE HERE\n",
    "raise NotImplementedError()\n"
   ]
  },
  {
   "cell_type": "markdown",
   "metadata": {
    "deletable": false,
    "editable": false,
    "nbgrader": {
     "cell_type": "markdown",
     "checksum": "3451fb462b2917e27f9158af5fb4a2cc",
     "grade": false,
     "grade_id": "cell-a776bb1deb30a8e9",
     "locked": true,
     "schema_version": 3,
     "solution": false,
     "task": false
    }
   },
   "source": [
    "The following is **a visible test** you can run to check your answer: The test returns an assertion error only if your program does not print the correct message."
   ]
  },
  {
   "cell_type": "code",
   "execution_count": null,
   "metadata": {
    "ExecuteTime": {
     "end_time": "2021-01-16T17:07:21.392199Z",
     "start_time": "2021-01-16T17:07:21.386963Z"
    },
    "code_folding": [
     0
    ],
    "deletable": false,
    "editable": false,
    "nbgrader": {
     "cell_type": "code",
     "checksum": "30be29a0b5b85c2136b2d16b842db17d",
     "grade": true,
     "grade_id": "Lab1bQ1HelloWorldTesting",
     "locked": true,
     "points": 1,
     "schema_version": 3,
     "solution": false,
     "task": false
    }
   },
   "outputs": [],
   "source": [
    "# Run this test cell right after running your Q1 program.\n",
    "import sys, io\n",
    "old_stdout, sys.stdout = sys.stdout, io.StringIO()\n",
    "exec(In[-2])\n",
    "printed = sys.stdout.getvalue()\n",
    "sys.stdout = old_stdout\n",
    "assert printed == 'Hello, World!\\n'"
   ]
  },
  {
   "cell_type": "markdown",
   "metadata": {
    "deletable": false,
    "editable": false,
    "nbgrader": {
     "cell_type": "markdown",
     "checksum": "d7185837391e77b99a0875320cc611de",
     "grade": false,
     "grade_id": "cell-f3d7c33ad437a905",
     "locked": true,
     "schema_version": 3,
     "solution": false,
     "task": false
    }
   },
   "source": [
    "### Q2. Fix a given Hello World program (Version 2)\n",
    "\n",
    "A program is given as comment in the code block below, with punctuations and spaces missing. Please fix it and make sure it can print the following contents:\n",
    "\n",
    "<center><img src='1.png', width='25%''></center>\n",
    "    \n",
    "Note: \n",
    "   - In Python, you must use single quote, double quote or triple quote to enclose the string you want to print. Hence, *print('Hello, World!')*, *print(\"Hello, World!\")*, or *print('''Hello, World!''')* is correct, but *print(Hello, World!)* is wrong.\n",
    "   - For this question, the width of the message is 13, meaning each line contains 13 symbols/characters/punctuations in total."
   ]
  },
  {
   "cell_type": "code",
   "execution_count": null,
   "metadata": {
    "ExecuteTime": {
     "end_time": "2021-01-16T17:07:21.442416Z",
     "start_time": "2021-01-16T17:07:21.437553Z"
    },
    "deletable": false,
    "nbgrader": {
     "cell_type": "code",
     "checksum": "ac2ebe6dfcaec669d35b9cc580dfd0b4",
     "grade": false,
     "grade_id": "Lab1bQ2Dashes",
     "locked": false,
     "schema_version": 3,
     "solution": true,
     "task": false
    }
   },
   "outputs": [],
   "source": [
    "# print-------------\n",
    "# printHello, World!\n",
    "# print-------------\n",
    "\n",
    "# YOUR CODE HERE\n",
    "raise NotImplementedError()"
   ]
  },
  {
   "cell_type": "code",
   "execution_count": null,
   "metadata": {
    "ExecuteTime": {
     "end_time": "2021-01-16T17:07:21.454841Z",
     "start_time": "2021-01-16T17:07:21.445167Z"
    },
    "code_folding": [
     0
    ],
    "deletable": false,
    "editable": false,
    "nbgrader": {
     "cell_type": "code",
     "checksum": "faf3f879b9149867a94d8b27fb7b0992",
     "grade": true,
     "grade_id": "Lab1bQ2DashesTesting",
     "locked": true,
     "points": 1,
     "schema_version": 3,
     "solution": false,
     "task": false
    }
   },
   "outputs": [],
   "source": [
    "# Run this test cell right after running your Q2 program.\n",
    "import sys, io\n",
    "old_stdout, sys.stdout = sys.stdout, io.StringIO()\n",
    "exec(In[-2])\n",
    "printed = sys.stdout.getvalue()\n",
    "sys.stdout = old_stdout\n",
    "assert printed == '''-------------\\nHello, World!\\n-------------\\n'''"
   ]
  },
  {
   "cell_type": "markdown",
   "metadata": {
    "deletable": false,
    "editable": false,
    "nbgrader": {
     "cell_type": "markdown",
     "checksum": "811abc834adf02fc428dd7aebe3653a9",
     "grade": false,
     "grade_id": "cell-b0325b57707721c7",
     "locked": true,
     "schema_version": 3,
     "solution": false,
     "task": false
    }
   },
   "source": [
    "### Q3. Create another Hello World program (Version 3)\n",
    "\n",
    "[Escape sequences](https://en.wikipedia.org/wiki/Escape_sequence) allow you to include special characters in strings. To do this, simply add a backslash (\\\\) before the character you want to escape. Click [here](https://www.w3schools.com/python/gloss_python_escape_characters.asp) for more information. Please try the code below to help you understand how to print special symbols in Python.\n",
    "<center><img src='0.png', width='50%''></center>"
   ]
  },
  {
   "cell_type": "code",
   "execution_count": null,
   "metadata": {
    "ExecuteTime": {
     "end_time": "2021-01-16T17:07:21.502502Z",
     "start_time": "2021-01-16T17:07:21.496763Z"
    }
   },
   "outputs": [],
   "source": [
    "# this code shows how to use escape sequence to print some special symbols\n",
    "# this is how you print a single quote\n",
    "print('\\'')\n",
    "# this is how you print a backslash\n",
    "print('\\\\')\n",
    "\n",
    "# for some symbols, you can print them directly\n",
    "print('/')\n",
    "print('?')\n",
    "print('|')"
   ]
  },
  {
   "cell_type": "markdown",
   "metadata": {
    "deletable": false,
    "editable": false,
    "nbgrader": {
     "cell_type": "markdown",
     "checksum": "437abf29f2069024e763c48dceb7701b",
     "grade": false,
     "grade_id": "cell-cd4c179bb02b7da9",
     "locked": true,
     "schema_version": 3,
     "solution": false,
     "task": false
    }
   },
   "source": [
    "After understanding how to print special symbols, you need to write a program to print the following pattern:\n",
    "<center><img src='2.png', width='25%''></center>\n",
    "    \n",
    "Hint: \n",
    "   * Use one *print()* function to print each line. So you need 5 *print()* functions in total.\n",
    "   * You can first print the middle line: \"| Hello, World! |\", then add the top and bottom line.\n",
    "   * The total length of each line is 16.\n",
    "   * For the vertical stroke ```|```, you can find it on your keyboard as shown [here](https://www.cs.cityu.edu.hk/~helena/misc/bin/vertical_stroke.png)\n",
    "  \n"
   ]
  },
  {
   "cell_type": "code",
   "execution_count": null,
   "metadata": {
    "ExecuteTime": {
     "end_time": "2021-01-16T17:07:21.548719Z",
     "start_time": "2021-01-16T17:07:21.543072Z"
    },
    "deletable": false,
    "nbgrader": {
     "cell_type": "code",
     "checksum": "48728cc11077c4c38076508f4604933b",
     "grade": false,
     "grade_id": "Lab1bQ3Frame",
     "locked": false,
     "schema_version": 3,
     "solution": true,
     "task": false
    }
   },
   "outputs": [],
   "source": [
    "# YOUR CODE HERE\n",
    "raise NotImplementedError()"
   ]
  },
  {
   "cell_type": "code",
   "execution_count": null,
   "metadata": {
    "ExecuteTime": {
     "end_time": "2021-01-16T17:07:21.561371Z",
     "start_time": "2021-01-16T17:07:21.551429Z"
    },
    "code_folding": [
     0
    ],
    "deletable": false,
    "editable": false,
    "nbgrader": {
     "cell_type": "code",
     "checksum": "dce155bab22d5cf8e3c664ebb38460ea",
     "grade": true,
     "grade_id": "Lab1bQ3FrameTesting",
     "locked": true,
     "points": 1,
     "schema_version": 3,
     "solution": false,
     "task": false
    }
   },
   "outputs": [],
   "source": [
    "# Run this test cell right after running your Q3 program.\n",
    "import sys, io\n",
    "old_stdout, sys.stdout = sys.stdout, io.StringIO()\n",
    "exec(In[-2])\n",
    "printed = sys.stdout.getvalue()\n",
    "sys.stdout = old_stdout\n",
    "assert printed == '''/---------------\\\\\\n|               |\\n| Hello, World! |\\n|               |\\n\\\\---------------/\\n'''"
   ]
  },
  {
   "cell_type": "markdown",
   "metadata": {
    "deletable": false,
    "editable": false,
    "nbgrader": {
     "cell_type": "markdown",
     "checksum": "3f29844f2d7e398bd7f7655e6a242bf1",
     "grade": false,
     "grade_id": "Lab1bQ4_desc",
     "locked": true,
     "schema_version": 3,
     "solution": false,
     "task": false
    }
   },
   "source": [
    "### Q4. Welcome World or Hello World\n",
    "The following program is to ask the user for his choice: 'w' or 'h', and show the corresponding message.\n",
    "\n",
    "* If he inputs 'w', print 'Welcome, World!'\n",
    "* If he inputs 'h', print 'Hello, World!' \n",
    "* For other cases, display nothing:\n",
    "\n",
    "Your task: Study the code and add one line of statement to complete it.\n",
    "\n",
    "Note also:  \n",
    "1. [Indentation](https://www.w3schools.com/python/gloss_python_indentation.asp#:~:text=Indentation%20refers%20to%20the%20spaces,indicate%20a%20block%20of%20code.) is very important in Python. It is usually a Tab key or four spaces.  \n",
    "2. DO NOT USE **else** for this question"
   ]
  },
  {
   "cell_type": "code",
   "execution_count": null,
   "metadata": {
    "ExecuteTime": {
     "end_time": "2021-01-16T17:07:51.297218Z",
     "start_time": "2021-01-16T17:07:21.597886Z"
    },
    "deletable": false,
    "nbgrader": {
     "cell_type": "code",
     "checksum": "17ad1344bc725bfec3341879481e9dde",
     "grade": true,
     "grade_id": "Lab1bQ4WH",
     "locked": false,
     "points": 1,
     "schema_version": 3,
     "solution": true,
     "task": false
    }
   },
   "outputs": [],
   "source": [
    "choice=input(\"Input your choice ('w' or 'h'): \") # A variable is defined. Its name is choice\n",
    "#An Input-Statement. It waits for the user's input (ended with <enter>), and stores in the variable choice. \n",
    "\n",
    "#This is an if-statement, if the condition is met, the code below it will be executed; otherwise, the code is skipped\n",
    "if choice=='w':\n",
    "    print('Welcome, World!') #note the indentation before print()\n",
    "if choice=='h':    \n",
    "    # YOUR CODE HERE\n",
    "    raise NotImplementedError()\n",
    "\n"
   ]
  },
  {
   "cell_type": "markdown",
   "metadata": {
    "deletable": false,
    "editable": false,
    "nbgrader": {
     "cell_type": "markdown",
     "checksum": "badf541fb37ac46871a4efab37311f95",
     "grade": false,
     "grade_id": "cell-e6081cc80d90bbae",
     "locked": true,
     "schema_version": 3,
     "solution": false,
     "task": false
    }
   },
   "source": [
    "### Q5. Welcome World or Hello World\n",
    "Based on the style of Q4, we need to get user's input '1', '2', or '3' (using the choice variable) and show the right version of \"Hello, World!\". \n",
    "* If the user inputs '1', print 'Hello, World!' in style of Q1\n",
    "* If the user inputs '2', print 'Hello, World!' in style of Q2\n",
    "* If the user inputs '3', print 'Hello, World!' in style of Q3\n",
    "* If the user types a wrong choice, the program should show nothing \n",
    "\n",
    "Note: \n",
    "1. For each case, you may simply copy your code from previous questions.\n",
    "1. DO NOT USE **else** for this question\n"
   ]
  },
  {
   "cell_type": "code",
   "execution_count": null,
   "metadata": {
    "ExecuteTime": {
     "end_time": "2021-01-16T17:07:59.837036Z",
     "start_time": "2021-01-16T17:07:51.298587Z"
    },
    "deletable": false,
    "nbgrader": {
     "cell_type": "code",
     "checksum": "5c2942980be5c1fa0f356c1c6da17426",
     "grade": true,
     "grade_id": "Lab1bQ5123",
     "locked": false,
     "points": 1,
     "schema_version": 3,
     "solution": true,
     "task": false
    }
   },
   "outputs": [],
   "source": [
    "choice=input(\"Input your choice ('1', '2', or '3'): \") \n",
    "# YOUR CODE HERE\n",
    "raise NotImplementedError()"
   ]
  },
  {
   "cell_type": "markdown",
   "metadata": {
    "deletable": false,
    "editable": false,
    "nbgrader": {
     "cell_type": "markdown",
     "checksum": "6bdbd62211c430be6fd9b827e3c0f2d3",
     "grade": false,
     "grade_id": "cell-a9f5b791909a8c2c",
     "locked": true,
     "schema_version": 3,
     "solution": false,
     "task": false
    }
   },
   "source": [
    "### Q6. Hello or Welcome - 1, 2, 3 \n",
    "Based on Q4-Q5, create an extended program which lets the user choose both the message and the version\n",
    "\n",
    "<center><img src='3.png', width='50%'></center>\n",
    "\n",
    "Note:  DO NOT USE **else** for this question"
   ]
  },
  {
   "cell_type": "code",
   "execution_count": null,
   "metadata": {
    "ExecuteTime": {
     "end_time": "2021-01-16T17:09:21.039462Z",
     "start_time": "2021-01-16T17:09:13.241581Z"
    },
    "deletable": false,
    "nbgrader": {
     "cell_type": "code",
     "checksum": "f62a84d227c218e9f0893db7c1d5ea58",
     "grade": true,
     "grade_id": "Lab1bQ6wh123",
     "locked": false,
     "points": 2,
     "schema_version": 3,
     "solution": true,
     "task": false
    }
   },
   "outputs": [],
   "source": [
    "choiceWH=input(\"Input your choice for the message ('w' or 'h'): \") \n",
    "choice123=input(\"Input your choice for the style ('1', '2', or '3'): \") \n",
    "\n",
    "if choiceWH=='w':\n",
    "    if choice123=='1':\n",
    "        print(\"Welcome, World!\")\n",
    "    if choice123=='2':\n",
    "        # YOUR CODE HERE\n",
    "        raise NotImplementedError()\n",
    "      "
   ]
  },
  {
   "cell_type": "markdown",
   "metadata": {
    "deletable": false,
    "editable": false,
    "nbgrader": {
     "cell_type": "markdown",
     "checksum": "88e8d42fe7dd182a4f6746ad88803709",
     "grade": false,
     "grade_id": "cell-aef77415d7fb5e74",
     "locked": true,
     "schema_version": 3,
     "solution": false,
     "task": false
    }
   },
   "source": [
    "### Q7. Calculation of Study Hours\n",
    "\n",
    "The following program calculates study hours based on the credit units of a course:\n"
   ]
  },
  {
   "cell_type": "code",
   "execution_count": null,
   "metadata": {
    "ExecuteTime": {
     "end_time": "2021-01-16T17:09:34.832181Z",
     "start_time": "2021-01-16T17:09:31.408154Z"
    }
   },
   "outputs": [],
   "source": [
    "x=input('Input the number of credit units of this course: ') # input 3 when a window is prompted\n",
    "x=int(x) #this line is used to convert a character to an integer. Because the return data of input() is a character\n",
    "print('In this semester, you need to study approximately',40*x,'to',50*x, 'hours for this course')"
   ]
  },
  {
   "cell_type": "markdown",
   "metadata": {
    "deletable": false,
    "editable": false,
    "nbgrader": {
     "cell_type": "markdown",
     "checksum": "4f13b6fa9ca8fc3f6f3bbc5e1941363d",
     "grade": false,
     "grade_id": "cell-a0b7ef125d946b3b",
     "locked": true,
     "schema_version": 3,
     "solution": false,
     "task": false
    }
   },
   "source": [
    "Your task: modify the program to show the calculation details like\n",
    "\n",
    "<center><img src='4.png', width='90%''></center>\n",
    "    \n",
    "Hint: ```print('40 x', x,'=',40*x)``` gives ```40 x 3 = 120```"
   ]
  },
  {
   "cell_type": "code",
   "execution_count": null,
   "metadata": {
    "ExecuteTime": {
     "end_time": "2021-01-17T07:23:56.990877Z",
     "start_time": "2021-01-17T07:23:53.128606Z"
    },
    "deletable": false,
    "nbgrader": {
     "cell_type": "code",
     "checksum": "805552c079f67e4dc079c8f053f00c5c",
     "grade": true,
     "grade_id": "Lab1bQ7StudyHrs",
     "locked": false,
     "points": 2,
     "schema_version": 3,
     "solution": true,
     "task": false
    }
   },
   "outputs": [],
   "source": [
    "x=input('Input the number of credit units of this course: ') # input 3 when a window is prompted\n",
    "x=int(x)\n",
    "# YOUR CODE HERE\n",
    "raise NotImplementedError()"
   ]
  },
  {
   "cell_type": "markdown",
   "metadata": {
    "deletable": false,
    "editable": false,
    "nbgrader": {
     "cell_type": "markdown",
     "checksum": "69f7f782867dbc03b579b846dd1bc148",
     "grade": false,
     "grade_id": "cell-fa64b473b13614ae",
     "locked": true,
     "schema_version": 3,
     "solution": false,
     "task": false
    }
   },
   "source": [
    "## Skill-Drilling Exercise (Q8-Q10) \n",
    "### Q8. Greeting\n",
    "Create a program like Q6, but this time ask the user to choose among 2 styles only (please refer to Q1 and Q2), while 3 messages will be available: 'w' for \"Welcome!\", 'h' for \"Hello!\", and 'c' for \"Cheers!\".\n",
    "\n",
    "Example 1:\n",
    "<center><img src='5.png', width='60%''></center>\n",
    "\n",
    "Example 2:    \n",
    "<center><img src='5-2.png', width='60%''></center>"
   ]
  },
  {
   "cell_type": "code",
   "execution_count": null,
   "metadata": {
    "ExecuteTime": {
     "end_time": "2021-01-16T17:10:19.620646Z",
     "start_time": "2021-01-16T17:10:14.871070Z"
    },
    "deletable": false,
    "nbgrader": {
     "cell_type": "code",
     "checksum": "f6e6d869edc58ac592e43aa8ad85019c",
     "grade": true,
     "grade_id": "Lab1bQ812whc",
     "locked": false,
     "points": 2,
     "schema_version": 3,
     "solution": true,
     "task": false
    }
   },
   "outputs": [],
   "source": [
    "choice12=input(\"Input your choice for the style ('1' or '2'): \") \n",
    "choiceWHC=input(\"Input your choice for the message ('w','h', or 'c'): \") \n",
    "# YOUR CODE HERE\n",
    "raise NotImplementedError()"
   ]
  },
  {
   "cell_type": "markdown",
   "metadata": {
    "deletable": false,
    "editable": false,
    "nbgrader": {
     "cell_type": "markdown",
     "checksum": "79f32d451c1dcaa0bed20cc962889c65",
     "grade": false,
     "grade_id": "cell-b2748109b381f344",
     "locked": true,
     "schema_version": 3,
     "solution": false,
     "task": false
    }
   },
   "source": [
    "### Q9. Booking Day Time \n",
    "Imagine that in order to book a venue in the current week, we need to state the day and the duration (start hour and end hour).  Create a program as shown below, which prompts for these inputs and summarizes the booking in one line.\n",
    "<center><img src='6.png', width='70%''></center>\n",
    "    \n",
    "Hint: we assume that the end hour is always larger than the start hour. Moreover, the duration is at least 2 hours. So we don't consider special cases such as start hour is 8 while the end hour is 6.\n"
   ]
  },
  {
   "cell_type": "code",
   "execution_count": null,
   "metadata": {
    "ExecuteTime": {
     "end_time": "2021-01-16T17:10:36.466785Z",
     "start_time": "2021-01-16T17:10:28.766883Z"
    },
    "deletable": false,
    "nbgrader": {
     "cell_type": "code",
     "checksum": "614c1d386002617768090c9bb256d4b8",
     "grade": true,
     "grade_id": "Lab1bQ9booking",
     "locked": false,
     "points": 2,
     "schema_version": 3,
     "solution": true,
     "task": false
    }
   },
   "outputs": [],
   "source": [
    "day=input(\"Input the day ('M'-Mon, 'T'-Tue, 'W'-Wed, 'R'-Thu, 'F'-Fri): \") \n",
    "h1=input(\"Input the start hour: \")\n",
    "h2=input(\"Input the end hour: \")\n",
    "# YOUR CODE HERE\n",
    "raise NotImplementedError()"
   ]
  },
  {
   "cell_type": "markdown",
   "metadata": {
    "deletable": false,
    "editable": false,
    "nbgrader": {
     "cell_type": "markdown",
     "checksum": "fb20e08673e77cfae87835f071de00d6",
     "grade": false,
     "grade_id": "cell-4cf9a10cc48c7d09",
     "locked": true,
     "schema_version": 3,
     "solution": false,
     "task": false
    }
   },
   "source": [
    "### Q10. Print misteries\n",
    "Create a program which displays the contents as shown below (no user input).\n",
    "\n",
    "<center><img src='7.png', width='50%''></center>\n",
    "    \n",
    "Hint:   \n",
    "1. To add an empty line, you can use ```print('')```, which means print nothing in this line.  \n",
    "2. The correct output is [here](https://www.cs.cityu.edu.hk/~helena/cs1302202021B/bin/Lab01b_samples.html) <span style=\"color:#ff0000\"> <== You may copy the content directly to avoid some typing mistakes.</span>"
   ]
  },
  {
   "cell_type": "code",
   "execution_count": null,
   "metadata": {
    "ExecuteTime": {
     "end_time": "2021-01-16T17:10:59.355606Z",
     "start_time": "2021-01-16T17:10:59.348052Z"
    },
    "deletable": false,
    "nbgrader": {
     "cell_type": "code",
     "checksum": "1d569cb576f27104d8797ca29ee787b1",
     "grade": false,
     "grade_id": "Lab1bQ10Learning",
     "locked": false,
     "schema_version": 3,
     "solution": true,
     "task": false
    }
   },
   "outputs": [],
   "source": [
    "print('Peter has learnt the following from lab01: ')\n",
    "# YOUR CODE HERE\n",
    "raise NotImplementedError()"
   ]
  },
  {
   "cell_type": "code",
   "execution_count": null,
   "metadata": {
    "ExecuteTime": {
     "end_time": "2021-01-16T17:11:04.645242Z",
     "start_time": "2021-01-16T17:11:04.638119Z"
    },
    "code_folding": [
     0
    ],
    "deletable": false,
    "editable": false,
    "nbgrader": {
     "cell_type": "code",
     "checksum": "96560c346998bb1b3ac63cec23abafc9",
     "grade": true,
     "grade_id": "Lab1bQ10LearningTesting",
     "locked": true,
     "points": 2,
     "schema_version": 3,
     "solution": false,
     "task": false
    }
   },
   "outputs": [],
   "source": [
    "# Run this test cell right after running your Q10 program.\n",
    "import sys, io\n",
    "old_stdout, sys.stdout = sys.stdout, io.StringIO()\n",
    "exec(In[-2])\n",
    "printed = sys.stdout.getvalue()\n",
    "sys.stdout = old_stdout\n",
    "ans='''Peter has learnt the following from lab01: (1) It is wrong to write: print(Hello, World!);It is right to write: print(\\'Hello, World!\\');(2) To output one \\'\\\\\\', we need to type \\'\\\\\\\\\\'.    Example: print(\\'\\\\\\\\\\')'''\n",
    "assert ''.join(printed.split()) == ''.join(ans.split())"
   ]
  },
  {
   "cell_type": "markdown",
   "metadata": {
    "deletable": false,
    "editable": false,
    "nbgrader": {
     "cell_type": "markdown",
     "checksum": "f5834cb8c924d09dd71b53bbde442b85",
     "grade": false,
     "grade_id": "cell-81b4a0d00df6c3cb",
     "locked": true,
     "schema_version": 3,
     "solution": false,
     "task": false
    }
   },
   "source": [
    "-- END OF EXERCISES --"
   ]
  }
 ],
 "metadata": {
  "kernelspec": {
   "display_name": "Python 3.7",
   "language": "python",
   "name": "python3"
  },
  "language_info": {
   "codemirror_mode": {
    "name": "ipython",
    "version": 3
   },
   "file_extension": ".py",
   "mimetype": "text/x-python",
   "name": "python",
   "nbconvert_exporter": "python",
   "pygments_lexer": "ipython3",
   "version": "3.7.9"
  },
  "latex_envs": {
   "LaTeX_envs_menu_present": true,
   "autoclose": false,
   "autocomplete": true,
   "bibliofile": "biblio.bib",
   "cite_by": "apalike",
   "current_citInitial": 1,
   "eqLabelWithNumbers": true,
   "eqNumInitial": 1,
   "hotkeys": {
    "equation": "Ctrl-E",
    "itemize": "Ctrl-I"
   },
   "labels_anchors": false,
   "latex_user_defs": false,
   "report_style_numbering": false,
   "user_envs_cfg": false
  },
  "toc": {
   "base_numbering": 1,
   "nav_menu": {},
   "number_sections": false,
   "sideBar": true,
   "skip_h1_title": false,
   "title_cell": "Table of Contents",
   "title_sidebar": "Contents",
   "toc_cell": false,
   "toc_position": {},
   "toc_section_display": true,
   "toc_window_display": false
  }
 },
 "nbformat": 4,
 "nbformat_minor": 4
}

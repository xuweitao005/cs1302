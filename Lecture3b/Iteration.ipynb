{
 "cells": [
  {
   "cell_type": "markdown",
   "metadata": {
    "slideshow": {
     "slide_type": "slide"
    }
   },
   "source": [
    "# Iteration\n",
    "**CS1302 Introduction to Computer Programming**\n",
    "___"
   ]
  },
  {
   "cell_type": "code",
   "execution_count": 2,
   "metadata": {
    "ExecuteTime": {
     "end_time": "2021-01-31T13:16:48.375597Z",
     "start_time": "2021-01-31T13:16:48.304226Z"
    },
    "hide_input": false
   },
   "outputs": [],
   "source": [
    "# set up environment\n",
    "%reset -f\n",
    "import sys\n",
    "cs1302_site_packages = '/home/course/cs1302/site-packages'\n",
    "if cs1302_site_packages not in sys.path:\n",
    "    sys.path.append(cs1302_site_packages)\n",
    "%reload_ext mytutor\n",
    "from ipywidgets import interact"
   ]
  },
  {
   "cell_type": "markdown",
   "metadata": {
    "slideshow": {
     "slide_type": "subslide"
    }
   },
   "source": [
    "Content\n",
    "\n",
    "- Iteration\n",
    "   - For loop\n",
    "   - While loop\n",
    "   \n",
    "- Break/continue/else statement"
   ]
  },
  {
   "cell_type": "markdown",
   "metadata": {
    "slideshow": {
     "slide_type": "slide"
    }
   },
   "source": [
    "## Motivation"
   ]
  },
  {
   "cell_type": "markdown",
   "metadata": {
    "slideshow": {
     "slide_type": "fragment"
    }
   },
   "source": [
    "Many tasks are repetitive:\n",
    "- To print from 1 up to a user-specified number, which can be arbitrarily large.\n",
    "- To compute the maximum of a sequence of numbers, which can be arbitrarily long.\n",
    "- To repeatedly ask users for input until the input is within the right range.\n",
    "\n",
    "In many cases, we need to run the same piece of code many times."
   ]
  },
  {
   "cell_type": "markdown",
   "metadata": {
    "slideshow": {
     "slide_type": "subslide"
    }
   },
   "source": [
    "**How to write code to perform repetitive tasks?**"
   ]
  },
  {
   "cell_type": "markdown",
   "metadata": {
    "slideshow": {
     "slide_type": "fragment"
    }
   },
   "source": [
    "E.g., can you complete the following code to print from 1 up to a user-specified number?"
   ]
  },
  {
   "cell_type": "code",
   "execution_count": null,
   "metadata": {
    "ExecuteTime": {
     "end_time": "2021-01-26T03:04:08.557539Z",
     "start_time": "2021-01-26T03:04:08.547719Z"
    },
    "slideshow": {
     "slide_type": "-"
    }
   },
   "outputs": [],
   "source": [
    "%%mytutor -h 300\n",
    "num = int(input('>'))\n",
    "if 1 < num: print(1)\n",
    "if 2 < num: print(2)\n",
    "if 3 < num: print(3)\n",
    "# YOUR CODE HERE \n",
    "if 4 < num: print(4)\n",
    "if 5 < num: print(5)\n",
    "if 6 < num: print(6)\n",
    "if 7 < num: print(7)\n",
    "if 8 < num: print(8)"
   ]
  },
  {
   "cell_type": "markdown",
   "metadata": {
    "slideshow": {
     "slide_type": "subslide"
    }
   },
   "source": [
    "*code duplication* is not good because:\n",
    "- Duplicate code is hard to read/write/maintain.  \n",
    "    Imagine there is a small change needed to every duplicate code.\n",
    "- The number of repetitions may not be known before runtime."
   ]
  },
  {
   "cell_type": "markdown",
   "metadata": {
    "slideshow": {
     "slide_type": "fragment"
    }
   },
   "source": [
    "Instead, programmers write a *loop* which specifies a piece of code to be executed iteratively."
   ]
  },
  {
   "cell_type": "markdown",
   "metadata": {
    "slideshow": {
     "slide_type": "slide"
    }
   },
   "source": [
    "## For Loop\n",
    "Syntax\n",
    "\n",
    "for *i* in *sequence*:\n",
    "\n",
    "    your code"
   ]
  },
  {
   "cell_type": "markdown",
   "metadata": {
    "slideshow": {
     "slide_type": "subslide"
    }
   },
   "source": [
    "### Iterate over a sequence"
   ]
  },
  {
   "cell_type": "markdown",
   "metadata": {
    "slideshow": {
     "slide_type": "fragment"
    }
   },
   "source": [
    "**How to print from 1 up to 4?**"
   ]
  },
  {
   "cell_type": "markdown",
   "metadata": {
    "slideshow": {
     "slide_type": "fragment"
    }
   },
   "source": [
    "We can use a [`for` statement](https://docs.python.org/3.3/tutorial/controlflow.html#for-statements) as follows:"
   ]
  },
  {
   "cell_type": "code",
   "execution_count": 3,
   "metadata": {
    "ExecuteTime": {
     "end_time": "2021-01-31T13:25:21.798418Z",
     "start_time": "2021-01-31T13:25:21.783666Z"
    },
    "slideshow": {
     "slide_type": "-"
    }
   },
   "outputs": [
    {
     "data": {
      "text/html": [
       "\n",
       "        <iframe\n",
       "            width=\"1100\"\n",
       "            height=\"300\"\n",
       "            src=\"https://e-quiz.cs.cityu.edu.hk/opt/cs1302visualize.html#mode=display&code=i%20%3D%2010%0Afor%20i%20in%201%2C%202%2C%203%2C%204%3A%0A%20%20%20%20print%28i%29%0A\"\n",
       "            frameborder=\"0\"\n",
       "            allowfullscreen\n",
       "        ></iframe>\n",
       "        "
      ],
      "text/plain": [
       "<IPython.lib.display.IFrame at 0x7f3bd0dda710>"
      ]
     },
     "metadata": {},
     "output_type": "display_data"
    }
   ],
   "source": [
    "%%mytutor -h 300\n",
    "i = 10\n",
    "for i in 1, 2, 3, 4:\n",
    "    print(i)"
   ]
  },
  {
   "cell_type": "markdown",
   "metadata": {
    "slideshow": {
     "slide_type": "fragment"
    }
   },
   "source": [
    "- `i` is automatically assigned to each element in the sequence `1, 2, 3, 4` one-by-one from left to right.\n",
    "- After each assignment, the body `print(i)` is executed. \n",
    "\n",
    "N.b., if `i` is defined before the for loop, its value will be overwritten.  "
   ]
  },
  {
   "cell_type": "markdown",
   "metadata": {
    "slideshow": {
     "slide_type": "subslide"
    }
   },
   "source": [
    "The assignment is not restricted to integers and can also be a tuple assignment. (tuple will be introduced later)"
   ]
  },
  {
   "cell_type": "code",
   "execution_count": 4,
   "metadata": {
    "ExecuteTime": {
     "end_time": "2021-01-31T13:25:54.429435Z",
     "start_time": "2021-01-31T13:25:54.421930Z"
    },
    "slideshow": {
     "slide_type": "-"
    }
   },
   "outputs": [
    {
     "name": "stdout",
     "output_type": "stream",
     "text": [
      "0 l\n",
      "1 o\n",
      "2 o\n",
      "3 p\n"
     ]
    }
   ],
   "source": [
    "tuples = (0,'l'), (1,'o'), (2,'o'), (3,'p')\n",
    "for i,c in tuples: print(i,c)  # one-liner"
   ]
  },
  {
   "cell_type": "markdown",
   "metadata": {
    "slideshow": {
     "slide_type": "fragment"
    }
   },
   "source": [
    "An even shorter code..."
   ]
  },
  {
   "cell_type": "code",
   "execution_count": null,
   "metadata": {
    "ExecuteTime": {
     "end_time": "2020-09-14T15:39:28.128379Z",
     "start_time": "2020-09-14T15:39:28.118997Z"
    },
    "slideshow": {
     "slide_type": "fragment"
    }
   },
   "outputs": [],
   "source": [
    "for i,c in enumerate('loop'): print(i,c)"
   ]
  },
  {
   "cell_type": "markdown",
   "metadata": {
    "slideshow": {
     "slide_type": "fragment"
    }
   },
   "source": [
    "`enumerate()` method adds a counter to an iterable and returns it in a form of (index,element). Often used in for loops.\n",
    "   - E.g., enumerate('apple') will return (0,'a'),(1,'p'),(2,'p'),(3,'l'),(4,'e')\n",
    "   - In programming, the index of a list or array with size N start from 0 to N-1 "
   ]
  },
  {
   "cell_type": "markdown",
   "metadata": {
    "slideshow": {
     "slide_type": "subslide"
    }
   },
   "source": [
    "### Iterate over a range"
   ]
  },
  {
   "cell_type": "markdown",
   "metadata": {
    "slideshow": {
     "slide_type": "fragment"
    }
   },
   "source": [
    "**How to print up to a user-specified number?**"
   ]
  },
  {
   "cell_type": "markdown",
   "metadata": {
    "slideshow": {
     "slide_type": "fragment"
    }
   },
   "source": [
    "We can use [`range`](https://docs.python.org/3/library/stdtypes.html#range):\n",
    "\n",
    "`range( begin,end,step )`\n",
    "\n",
    "- *begin* is the first value in the range; if omitted, the default value is 0\n",
    "- *end* is one past the last value in the range; the end value is always required and may not be omitted\n",
    "- *step* is the amount to increment or decrement; if the step parameter is omitted, it defaults to 1 (counts up by ones)\n",
    "\n",
    "range() generate numbers from begin to end-1!"
   ]
  },
  {
   "cell_type": "code",
   "execution_count": 6,
   "metadata": {
    "ExecuteTime": {
     "end_time": "2021-01-31T13:32:28.835587Z",
     "start_time": "2021-01-31T13:32:28.830952Z"
    },
    "slideshow": {
     "slide_type": "fragment"
    }
   },
   "outputs": [
    {
     "name": "stdout",
     "output_type": "stream",
     "text": [
      "range(0, 10)\n",
      "[0, 1, 2, 3, 4, 5, 6, 7, 8, 9]\n",
      "[1, 2, 3, 4, 5, 6, 7, 8, 9]\n",
      "[1, 3, 5, 7, 9]\n",
      "[10, 9, 8, 7, 6, 5, 4, 3, 2, 1]\n"
     ]
    }
   ],
   "source": [
    "print(range(10)) #the data returned by range() is a range() object, if we want to print the values, we need to use list() function\n",
    "print(list(range(10))) #list() method will create a list using the numbers in range(10)\n",
    "print(list(range(1,10)))\n",
    "print(list(range(1,10,2)))\n",
    "print(list(range(10,0,-1)))"
   ]
  },
  {
   "cell_type": "code",
   "execution_count": 7,
   "metadata": {
    "ExecuteTime": {
     "end_time": "2021-01-31T13:34:42.437516Z",
     "start_time": "2021-01-31T13:34:41.202438Z"
    },
    "slideshow": {
     "slide_type": "fragment"
    }
   },
   "outputs": [
    {
     "name": "stdout",
     "output_type": "stream",
     "text": [
      ">5\n",
      "0\n",
      "1\n",
      "2\n",
      "3\n",
      "4\n",
      "5\n"
     ]
    }
   ],
   "source": [
    "stop = int(input('>')) + 1\n",
    "for i in range(stop):\n",
    "    print(i)"
   ]
  },
  {
   "cell_type": "markdown",
   "metadata": {
    "slideshow": {
     "slide_type": "fragment"
    }
   },
   "source": [
    "**Why add 1 to the user input number?**"
   ]
  },
  {
   "cell_type": "markdown",
   "metadata": {
    "slideshow": {
     "slide_type": "fragment"
    }
   },
   "source": [
    "`range(stop)` generates a sequence of integers from `0` up to *but excluding* `stop`."
   ]
  },
  {
   "cell_type": "markdown",
   "metadata": {
    "slideshow": {
     "slide_type": "fragment"
    }
   },
   "source": [
    "**How to start from a number other different from `0`?**"
   ]
  },
  {
   "cell_type": "code",
   "execution_count": 8,
   "metadata": {
    "ExecuteTime": {
     "end_time": "2021-01-31T13:35:04.523320Z",
     "start_time": "2021-01-31T13:35:04.515869Z"
    },
    "slideshow": {
     "slide_type": "fragment"
    }
   },
   "outputs": [
    {
     "name": "stdout",
     "output_type": "stream",
     "text": [
      "3\n",
      "4\n",
      "5\n",
      "6\n",
      "7\n",
      "8\n",
      "9\n"
     ]
    }
   ],
   "source": [
    "for i in range(3,10): print(i)"
   ]
  },
  {
   "cell_type": "markdown",
   "metadata": {
    "slideshow": {
     "slide_type": "fragment"
    }
   },
   "source": [
    "**What about a step size different from `1`?**"
   ]
  },
  {
   "cell_type": "code",
   "execution_count": 9,
   "metadata": {
    "ExecuteTime": {
     "end_time": "2021-01-31T13:35:13.356158Z",
     "start_time": "2021-01-31T13:35:13.352564Z"
    },
    "slideshow": {
     "slide_type": "fragment"
    }
   },
   "outputs": [
    {
     "name": "stdout",
     "output_type": "stream",
     "text": [
      "0\n",
      "2\n",
      "4\n"
     ]
    }
   ],
   "source": [
    "for i in range(0,5,2): print(i)  # starting number must also be specified. Why?\n",
    "    \n",
    "#range(start,stop,step)"
   ]
  },
  {
   "cell_type": "markdown",
   "metadata": {
    "slideshow": {
     "slide_type": "subslide"
    }
   },
   "source": [
    "**Exercise** How to count down from 4 to 0? Do it without addition or subtraction."
   ]
  },
  {
   "cell_type": "code",
   "execution_count": 11,
   "metadata": {
    "ExecuteTime": {
     "end_time": "2021-01-31T13:37:31.781159Z",
     "start_time": "2021-01-31T13:37:31.775312Z"
    },
    "deletable": false,
    "nbgrader": {
     "checksum": "3861b010bfb19f925f4df5359f8e0dee",
     "grade": false,
     "grade_id": "count-down",
     "locked": false,
     "schema_version": 3,
     "solution": true,
     "task": false
    },
    "slideshow": {
     "slide_type": "-"
    }
   },
   "outputs": [
    {
     "name": "stdout",
     "output_type": "stream",
     "text": [
      "4\n",
      "3\n",
      "2\n",
      "1\n",
      "0\n"
     ]
    }
   ],
   "source": [
    "# YOUR CODE HERE\n",
    "for i in range(4,-1,-1):\n",
    "    print(i)"
   ]
  },
  {
   "cell_type": "markdown",
   "metadata": {
    "slideshow": {
     "slide_type": "subslide"
    }
   },
   "source": [
    "**Exercise** Print from `0` to a user-specified number but in steps of `0.5`.  \n",
    "E.g., if the user inputs `2`, the program should print:\n",
    "```\n",
    "0.0\n",
    "0.5\n",
    "1.0\n",
    "1.5\n",
    "2.0\n",
    "```\n",
    "\n",
    "*Note:* `range` only accepts integer arguments."
   ]
  },
  {
   "cell_type": "code",
   "execution_count": null,
   "metadata": {
    "ExecuteTime": {
     "end_time": "2021-01-26T05:07:37.573954Z",
     "start_time": "2021-01-26T05:07:35.837621Z"
    },
    "deletable": false,
    "nbgrader": {
     "checksum": "62a36aabe46fc25e1f931d1d479e0b10",
     "grade": false,
     "grade_id": "fractional-step",
     "locked": false,
     "schema_version": 3,
     "solution": true,
     "task": false
    },
    "slideshow": {
     "slide_type": "fragment"
    }
   },
   "outputs": [],
   "source": [
    "num = int(input('>'))\n",
    "### BEGIN SOLUTION\n",
    "for i in range(0, 2 * num + 1, 1):\n",
    "    print(i / 2)\n",
    "### END SOLUTION"
   ]
  },
  {
   "cell_type": "markdown",
   "metadata": {
    "slideshow": {
     "slide_type": "subslide"
    }
   },
   "source": [
    "**Exercise** How to print the character `'*'` repeatedly for `m` rows and `n` columns?  \n",
    "*Hint:* Use a *nested for loop*, i.e., write a for loop (called *inner loop*) inside the body of another for loop (*outer loop*)."
   ]
  },
  {
   "cell_type": "code",
   "execution_count": 12,
   "metadata": {
    "ExecuteTime": {
     "end_time": "2021-01-31T13:40:48.803642Z",
     "start_time": "2021-01-31T13:40:48.744430Z"
    },
    "deletable": false,
    "nbgrader": {
     "checksum": "5fda3d5aefffe09ad2f6f098c9d1b320",
     "grade": false,
     "grade_id": "nested-loop",
     "locked": false,
     "schema_version": 3,
     "solution": true,
     "task": false
    },
    "slideshow": {
     "slide_type": "fragment"
    }
   },
   "outputs": [
    {
     "data": {
      "application/vnd.jupyter.widget-view+json": {
       "model_id": "1f73c07befbd4421ad53fb33eaae2df7",
       "version_major": 2,
       "version_minor": 0
      },
      "text/plain": [
       "interactive(children=(IntSlider(value=5, description='m', max=10), IntSlider(value=5, description='n', max=10)…"
      ]
     },
     "metadata": {},
     "output_type": "display_data"
    }
   ],
   "source": [
    "@interact(m=(0, 10), n=(0, 10))\n",
    "def draw_rectangle(m, n):\n",
    "    ### BEGIN SOLUTION\n",
    "    for i in range(m):\n",
    "        for j in range(n):\n",
    "            print('*', end='')   #what happens if we don't set end=''?\n",
    "        print()\n",
    "    ### END SOLUTION              # Move cursor to next row"
   ]
  },
  {
   "cell_type": "markdown",
   "metadata": {
    "slideshow": {
     "slide_type": "slide"
    }
   },
   "source": [
    "### Iterate over a string"
   ]
  },
  {
   "cell_type": "markdown",
   "metadata": {
    "slideshow": {
     "slide_type": "subslide"
    }
   },
   "source": [
    "**What does the following do?**"
   ]
  },
  {
   "cell_type": "code",
   "execution_count": 13,
   "metadata": {
    "ExecuteTime": {
     "end_time": "2021-01-31T13:44:18.981558Z",
     "start_time": "2021-01-31T13:44:18.976158Z"
    },
    "slideshow": {
     "slide_type": "fragment"
    }
   },
   "outputs": [
    {
     "data": {
      "text/html": [
       "\n",
       "        <iframe\n",
       "            width=\"1100\"\n",
       "            height=\"300\"\n",
       "            src=\"https://e-quiz.cs.cityu.edu.hk/opt/cs1302visualize.html#mode=display&code=for%20character%20in%20%27loop%27%3A%20print%28character%29%0A\"\n",
       "            frameborder=\"0\"\n",
       "            allowfullscreen\n",
       "        ></iframe>\n",
       "        "
      ],
      "text/plain": [
       "<IPython.lib.display.IFrame at 0x7f3bd0d9e8d0>"
      ]
     },
     "metadata": {},
     "output_type": "display_data"
    }
   ],
   "source": [
    "%%mytutor -h 300\n",
    "for character in 'loop': print(character)"
   ]
  },
  {
   "cell_type": "markdown",
   "metadata": {
    "slideshow": {
     "slide_type": "fragment"
    }
   },
   "source": [
    "A string is *iterable* because it can be regarded as a sequence of characters.\n",
    "- The function [`len`](https://docs.python.org/3/library/functions.html#len) can return the length of a string.\n",
    "- The indexing operator `[]` can return the character of a string at a specified location."
   ]
  },
  {
   "cell_type": "code",
   "execution_count": 14,
   "metadata": {
    "ExecuteTime": {
     "end_time": "2021-01-31T13:45:06.827697Z",
     "start_time": "2021-01-31T13:45:06.818697Z"
    },
    "slideshow": {
     "slide_type": "fragment"
    }
   },
   "outputs": [
    {
     "name": "stdout",
     "output_type": "stream",
     "text": [
      "p o o l\n",
      "length: 4\n",
      "characters: p o o l\n"
     ]
    }
   ],
   "source": [
    "message = \"loop\"\n",
    "print(message[-1],message[-2],message[-3],message[-4])\n",
    "print('length:', len(message))\n",
    "print('characters:', message[3], message[2], message[1], message[0])"
   ]
  },
  {
   "cell_type": "markdown",
   "metadata": {
    "slideshow": {
     "slide_type": "fragment"
    }
   },
   "source": [
    "We can also iterate over a string as follows although it is less elegant:"
   ]
  },
  {
   "cell_type": "code",
   "execution_count": null,
   "metadata": {
    "ExecuteTime": {
     "end_time": "2020-09-14T15:39:33.470390Z",
     "start_time": "2020-09-14T15:39:22.172Z"
    },
    "slideshow": {
     "slide_type": "fragment"
    }
   },
   "outputs": [],
   "source": [
    "for i in range(len('loop')): print('loop'[i])"
   ]
  },
  {
   "cell_type": "markdown",
   "metadata": {
    "slideshow": {
     "slide_type": "subslide"
    }
   },
   "source": [
    "**Exercise** Print a string assigned to `message` in reverse.  \n",
    "E.g., `'loop'` should be printed as `'pool'`."
   ]
  },
  {
   "cell_type": "code",
   "execution_count": 15,
   "metadata": {
    "ExecuteTime": {
     "end_time": "2021-01-31T13:53:39.599313Z",
     "start_time": "2021-01-31T13:53:39.562696Z"
    },
    "deletable": false,
    "nbgrader": {
     "checksum": "93e7202d19592c959cf80abf78d33619",
     "grade": false,
     "grade_id": "cell-90113e8af18be3c4",
     "locked": false,
     "schema_version": 3,
     "solution": true,
     "task": false
    },
    "slideshow": {
     "slide_type": "fragment"
    }
   },
   "outputs": [
    {
     "data": {
      "application/vnd.jupyter.widget-view+json": {
       "model_id": "367d96f4f1354caf9ac13e80b46611e2",
       "version_major": 2,
       "version_minor": 0
      },
      "text/plain": [
       "interactive(children=(Text(value='apple', description='message'), Output()), _dom_classes=('widget-interact',)…"
      ]
     },
     "metadata": {},
     "output_type": "display_data"
    }
   ],
   "source": [
    "@interact(message='apple')\n",
    "def reverse_print(message):\n",
    "    ### BEGIN SOLUTION\n",
    "    for i in range(len(message)):\n",
    "        print(message[-i - 1], end='')\n",
    "    ### END SOLUTION"
   ]
  },
  {
   "cell_type": "markdown",
   "metadata": {},
   "source": [
    "**Let's have a short break**"
   ]
  },
  {
   "cell_type": "markdown",
   "metadata": {
    "slideshow": {
     "slide_type": "slide"
    }
   },
   "source": [
    "## While Loop"
   ]
  },
  {
   "cell_type": "markdown",
   "metadata": {
    "slideshow": {
     "slide_type": "subslide"
    }
   },
   "source": [
    "**How to repeatedly ask the user to enter an input until the user input is not empty?**"
   ]
  },
  {
   "cell_type": "markdown",
   "metadata": {
    "slideshow": {
     "slide_type": "fragment"
    }
   },
   "source": [
    "Python provides the [`while` statement](https://docs.python.org/3/reference/compound_stmts.html#while) to loop until a specified condition is false.\n",
    "\n",
    "Syntax\n",
    "\n",
    "while *condition*:\n",
    "\n",
    "    your code"
   ]
  },
  {
   "cell_type": "code",
   "execution_count": 16,
   "metadata": {
    "ExecuteTime": {
     "end_time": "2021-01-31T14:03:09.222672Z",
     "start_time": "2021-01-31T14:03:05.422578Z"
    },
    "slideshow": {
     "slide_type": "fragment"
    }
   },
   "outputs": [
    {
     "name": "stdout",
     "output_type": "stream",
     "text": [
      "Input something please:\n",
      "Input something please:\n",
      "Input something please:\n",
      "Input something please:5\n"
     ]
    }
   ],
   "source": [
    "while not input('Input something please:'):\n",
    "    pass"
   ]
  },
  {
   "cell_type": "markdown",
   "metadata": {
    "slideshow": {
     "slide_type": "fragment"
    }
   },
   "source": [
    "As long as the condition after `while` is true, the body gets executed repeatedly. In the above example,\n",
    "- if user press enter without inputting anything, \n",
    "- `input` returns an empty string `''`, which is [regarded as `False`](https://docs.python.org/3/reference/expressions.html#booleans), and so\n",
    "- the looping condition `not input('...')` is `True`."
   ]
  },
  {
   "cell_type": "markdown",
   "metadata": {
    "slideshow": {
     "slide_type": "subslide"
    }
   },
   "source": [
    "**Is it possible to use a for loop instead of a while loop?**"
   ]
  },
  {
   "cell_type": "markdown",
   "metadata": {
    "slideshow": {
     "slide_type": "fragment"
    }
   },
   "source": [
    "- Not without hacks because the for loop is a *definite loop* which has a definite number of iterations before the execution of the loop.\n",
    "- `while` statement is useful for an *indefinite loop* where the number of iterations is unknown before the execution of the loop.\n",
    "   - definite loop: program knows how many times to repeat\n",
    "   - indefinite loop: program doesn't know how may times to repeat (depend on user's input)"
   ]
  },
  {
   "cell_type": "markdown",
   "metadata": {
    "slideshow": {
     "slide_type": "fragment"
    }
   },
   "source": [
    "It is possible, however, to replace a for loop by a while loop.  \n",
    "E.g., the following code prints from `0` to `4` using a while loop instead of a for loop."
   ]
  },
  {
   "cell_type": "code",
   "execution_count": 17,
   "metadata": {
    "ExecuteTime": {
     "end_time": "2021-01-31T14:09:08.893380Z",
     "start_time": "2021-01-31T14:09:08.817938Z"
    },
    "slideshow": {
     "slide_type": "fragment"
    }
   },
   "outputs": [
    {
     "name": "stdout",
     "output_type": "stream",
     "text": [
      "This is the output of while loop:\n",
      "0\n",
      "1\n",
      "2\n",
      "3\n",
      "4\n",
      "This is the output of for loop:\n",
      "0\n",
      "1\n",
      "2\n",
      "3\n",
      "4\n",
      "This is the output of for loop (style 2):\n",
      "0\n",
      "1\n",
      "2\n",
      "3\n",
      "4\n"
     ]
    }
   ],
   "source": [
    "i = 0\n",
    "print('This is the output of while loop:')\n",
    "while i <= 4: \n",
    "    print(i)\n",
    "    i += 1\n",
    "    \n",
    "print('This is the output of for loop:')\n",
    "for i in range(5): print(i)\n",
    "    \n",
    "print('This is the output of for loop (style 2):')    \n",
    "#we recommend to use the following format\n",
    "for i in range(5): \n",
    "    print(i)"
   ]
  },
  {
   "cell_type": "markdown",
   "metadata": {
    "slideshow": {
     "slide_type": "fragment"
    }
   },
   "source": [
    "- A while loop may not be as elegant (short), c.f., `for i in range(5): print(i)`, but\n",
    "- it can always be as efficient."
   ]
  },
  {
   "cell_type": "markdown",
   "metadata": {
    "slideshow": {
     "slide_type": "subslide"
    }
   },
   "source": [
    "**Should we just use while loop?**\n",
    "\n",
    "No. Why? let's see the example below."
   ]
  },
  {
   "cell_type": "markdown",
   "metadata": {
    "slideshow": {
     "slide_type": "fragment"
    }
   },
   "source": [
    "Consider using the following while loop to print from `0` to a user-specified value."
   ]
  },
  {
   "cell_type": "code",
   "execution_count": 19,
   "metadata": {
    "ExecuteTime": {
     "end_time": "2021-01-31T14:10:01.232385Z",
     "start_time": "2021-01-31T14:09:56.635184Z"
    },
    "slideshow": {
     "slide_type": "fragment"
    }
   },
   "outputs": [
    {
     "name": "stdout",
     "output_type": "stream",
     "text": [
      ">2\n",
      "0\n",
      "1\n",
      "2\n"
     ]
    }
   ],
   "source": [
    "num = int(input('>'))\n",
    "i = 0\n",
    "while i!=num+1: # \n",
    "    print(i)\n",
    "    i += 1"
   ]
  },
  {
   "cell_type": "markdown",
   "metadata": {
    "slideshow": {
     "slide_type": "fragment"
    }
   },
   "source": [
    "**Exercise** Is the above while loop doing the same thing as the for loop below?"
   ]
  },
  {
   "cell_type": "code",
   "execution_count": null,
   "metadata": {
    "ExecuteTime": {
     "end_time": "2021-01-26T05:16:20.627174Z",
     "start_time": "2021-01-26T05:16:17.416115Z"
    },
    "slideshow": {
     "slide_type": "fragment"
    }
   },
   "outputs": [],
   "source": [
    "for i in range(int(input('>')) + 1): print(i)"
   ]
  },
  {
   "cell_type": "markdown",
   "metadata": {
    "deletable": false,
    "nbgrader": {
     "checksum": "d6045e273e15283312425d929acb66ab",
     "grade": true,
     "grade_id": "infinite-loop",
     "locked": false,
     "points": 0,
     "schema_version": 3,
     "solution": true,
     "task": false
    },
    "slideshow": {
     "slide_type": "fragment"
    }
   },
   "source": [
    "ANSWER:\n",
    "\n",
    "No. Because when user input negative integers (or fractions),\n",
    "- the while loop becomes an infinite loop, but\n",
    "- the for loop terminates without printing any number."
   ]
  },
  {
   "cell_type": "markdown",
   "metadata": {
    "slideshow": {
     "slide_type": "fragment"
    }
   },
   "source": [
    "We have to be careful not to create unintended *infinite loops*.  \n",
    "The computer can't always detect whether there is an infinite loop. ([Why not?](https://en.wikipedia.org/wiki/Halting_problem))"
   ]
  },
  {
   "cell_type": "markdown",
   "metadata": {
    "slideshow": {
     "slide_type": "slide"
    }
   },
   "source": [
    "## Break/Continue/Else Constructs of a Loop"
   ]
  },
  {
   "cell_type": "markdown",
   "metadata": {
    "slideshow": {
     "slide_type": "subslide"
    }
   },
   "source": [
    "### Breaking out of a loop"
   ]
  },
  {
   "cell_type": "markdown",
   "metadata": {
    "slideshow": {
     "slide_type": "fragment"
    }
   },
   "source": [
    "**Is the following an infinite loop?**\n",
    "\n",
    "Answer: No"
   ]
  },
  {
   "cell_type": "code",
   "execution_count": 21,
   "metadata": {
    "ExecuteTime": {
     "end_time": "2021-01-31T14:20:56.232453Z",
     "start_time": "2021-01-31T14:20:56.225343Z"
    },
    "slideshow": {
     "slide_type": "fragment"
    }
   },
   "outputs": [
    {
     "data": {
      "text/html": [
       "\n",
       "        <iframe\n",
       "            width=\"1100\"\n",
       "            height=\"300\"\n",
       "            src=\"https://e-quiz.cs.cityu.edu.hk/opt/cs1302visualize.html#mode=display&code=while%20True%3A%0A%20%20%20%20message%20%3D%20input%28%27Input%20something%20please%3A%27%29%0A%20%20%20%20if%20message%3A%20break%0Aprint%28%27You%20entered%3A%27%2C%20message%29%0A\"\n",
       "            frameborder=\"0\"\n",
       "            allowfullscreen\n",
       "        ></iframe>\n",
       "        "
      ],
      "text/plain": [
       "<IPython.lib.display.IFrame at 0x7f3bd0d44c10>"
      ]
     },
     "metadata": {},
     "output_type": "display_data"
    }
   ],
   "source": [
    "%%mytutor -h 300\n",
    "while True:\n",
    "    message = input('Input something please:')\n",
    "    if message: break\n",
    "print('You entered:', message)"
   ]
  },
  {
   "cell_type": "markdown",
   "metadata": {
    "slideshow": {
     "slide_type": "fragment"
    }
   },
   "source": [
    "The loop is terminated by the [`break` statement](https://docs.python.org/3/tutorial/controlflow.html#break-and-continue-statements-and-else-clauses-on-loops) when user input is non-empty."
   ]
  },
  {
   "cell_type": "markdown",
   "metadata": {
    "slideshow": {
     "slide_type": "subslide"
    }
   },
   "source": [
    "**Why is the `break` statement useful?**"
   ]
  },
  {
   "cell_type": "markdown",
   "metadata": {
    "slideshow": {
     "slide_type": "fragment"
    }
   },
   "source": [
    " Recall the earlier `while` loop:"
   ]
  },
  {
   "cell_type": "code",
   "execution_count": null,
   "metadata": {
    "ExecuteTime": {
     "end_time": "2020-09-14T15:47:55.110057Z",
     "start_time": "2020-09-14T15:47:53.152522Z"
    },
    "slideshow": {
     "slide_type": "fragment"
    }
   },
   "outputs": [],
   "source": [
    "%%mytutor -h 300\n",
    "while not input('Input something please:'): \n",
    "    pass "
   ]
  },
  {
   "cell_type": "markdown",
   "metadata": {
    "slideshow": {
     "slide_type": "fragment"
    }
   },
   "source": [
    "This while loop is not useful because it does not store the user input."
   ]
  },
  {
   "cell_type": "markdown",
   "metadata": {
    "slideshow": {
     "slide_type": "subslide"
    }
   },
   "source": [
    "**Is the `break` statement strictly necessary?** "
   ]
  },
  {
   "cell_type": "markdown",
   "metadata": {
    "slideshow": {
     "slide_type": "fragment"
    }
   },
   "source": [
    "No. We can avoid `break` statement by using *flags*, which are boolean variables for flow control:"
   ]
  },
  {
   "cell_type": "code",
   "execution_count": 22,
   "metadata": {
    "ExecuteTime": {
     "end_time": "2021-01-31T14:28:54.945142Z",
     "start_time": "2021-01-31T14:28:54.940348Z"
    },
    "slideshow": {
     "slide_type": "fragment"
    }
   },
   "outputs": [
    {
     "data": {
      "text/html": [
       "\n",
       "        <iframe\n",
       "            width=\"1100\"\n",
       "            height=\"350\"\n",
       "            src=\"https://e-quiz.cs.cityu.edu.hk/opt/cs1302visualize.html#mode=display&code=has_no_input%20%3D%20True%0Awhile%20has_no_input%3A%0A%20%20%20%20message%20%3D%20input%28%27Input%20something%20please%3A%27%29%0A%20%20%20%20if%20message%3A%20has_no_input%20%3D%20False%0Aprint%28%27You%20entered%3A%27%2C%20message%29%0A%0Ais_sth%3DTrue%0Ahas_sth%3DTrue%0A\"\n",
       "            frameborder=\"0\"\n",
       "            allowfullscreen\n",
       "        ></iframe>\n",
       "        "
      ],
      "text/plain": [
       "<IPython.lib.display.IFrame at 0x7f3bd5fef610>"
      ]
     },
     "metadata": {},
     "output_type": "display_data"
    }
   ],
   "source": [
    "%%mytutor -h 350\n",
    "has_no_input = True\n",
    "while has_no_input:\n",
    "    message = input('Input something please:')\n",
    "    if message: has_no_input = False\n",
    "print('You entered:', message)\n",
    "\n",
    "is_sth=True\n",
    "has_sth=True"
   ]
  },
  {
   "cell_type": "markdown",
   "metadata": {
    "slideshow": {
     "slide_type": "fragment"
    }
   },
   "source": [
    "Using flags makes the program more readable, and we can use multiple flags for more complicated behavior.  \n",
    "The variable names for flags are often `is_...`, `has_...`, etc."
   ]
  },
  {
   "cell_type": "markdown",
   "metadata": {
    "slideshow": {
     "slide_type": "slide"
    }
   },
   "source": [
    "### Continue to Next Iteration"
   ]
  },
  {
   "cell_type": "markdown",
   "metadata": {
    "slideshow": {
     "slide_type": "subslide"
    }
   },
   "source": [
    "**What does the following program do?  \n",
    "Is it an infinite loop?**\n",
    "yes"
   ]
  },
  {
   "cell_type": "code",
   "execution_count": 23,
   "metadata": {
    "ExecuteTime": {
     "end_time": "2021-01-31T14:30:02.980136Z",
     "start_time": "2021-01-31T14:30:02.975277Z"
    },
    "slideshow": {
     "slide_type": "fragment"
    }
   },
   "outputs": [
    {
     "data": {
      "text/html": [
       "\n",
       "        <iframe\n",
       "            width=\"1100\"\n",
       "            height=\"300\"\n",
       "            src=\"https://e-quiz.cs.cityu.edu.hk/opt/cs1302visualize.html#mode=display&code=while%20True%3A%0A%20%20%20%20message%20%3D%20input%28%27Input%20something%20please%3A%27%29%0A%20%20%20%20if%20not%20message%3A%20continue%0A%20%20%20%20print%28%27You%20entered%3A%27%2C%20message%29%0A\"\n",
       "            frameborder=\"0\"\n",
       "            allowfullscreen\n",
       "        ></iframe>\n",
       "        "
      ],
      "text/plain": [
       "<IPython.lib.display.IFrame at 0x7f3bd0d44e10>"
      ]
     },
     "metadata": {},
     "output_type": "display_data"
    }
   ],
   "source": [
    "%%mytutor -h 300\n",
    "while True:\n",
    "    message = input('Input something please:')\n",
    "    if not message: continue\n",
    "    print('You entered:', message)"
   ]
  },
  {
   "cell_type": "markdown",
   "metadata": {
    "slideshow": {
     "slide_type": "fragment"
    }
   },
   "source": [
    "- The program repeatedly ask the user for input.\n",
    "- If the input is empty, the `continue` statement will skip to the next iteration.\n",
    "- The loop can only be terminated by interrupting the kernel.\n",
    "- Such an infinite loop can be useful. E.g., your computer clock continuously update the current time."
   ]
  },
  {
   "cell_type": "markdown",
   "metadata": {
    "slideshow": {
     "slide_type": "fragment"
    }
   },
   "source": [
    "**Exercise** Is the `continue` statement strictly necessary? Can you rewrite the above program without the `continue` statement? \n",
    "\n",
    "Not necessary."
   ]
  },
  {
   "cell_type": "code",
   "execution_count": 24,
   "metadata": {
    "ExecuteTime": {
     "end_time": "2021-01-31T14:37:11.816380Z",
     "start_time": "2021-01-31T14:37:11.811242Z"
    },
    "deletable": false,
    "nbgrader": {
     "checksum": "1057ba665b15d2ce4b088d9a2ff9a646",
     "grade": false,
     "grade_id": "avoid-continue",
     "locked": false,
     "schema_version": 3,
     "solution": true,
     "task": false
    },
    "slideshow": {
     "slide_type": "fragment"
    }
   },
   "outputs": [
    {
     "data": {
      "text/html": [
       "\n",
       "        <iframe\n",
       "            width=\"1100\"\n",
       "            height=\"350\"\n",
       "            src=\"https://e-quiz.cs.cityu.edu.hk/opt/cs1302visualize.html#mode=display&code=while%20True%3A%0A%20%20%20%20message%20%3D%20input%28%27Input%20something%20please%3A%27%29%0A%20%20%20%20if%20message%3A%0A%20%20%20%20%20%20%20%20print%28%27You%20entered%3A%27%2C%20message%29%0A\"\n",
       "            frameborder=\"0\"\n",
       "            allowfullscreen\n",
       "        ></iframe>\n",
       "        "
      ],
      "text/plain": [
       "<IPython.lib.display.IFrame at 0x7f3bd16b4d90>"
      ]
     },
     "metadata": {},
     "output_type": "display_data"
    }
   ],
   "source": [
    "%%mytutor -h 350\n",
    "while True:\n",
    "    message = input('Input something please:')\n",
    "    if message:\n",
    "        print('You entered:', message)"
   ]
  },
  {
   "cell_type": "markdown",
   "metadata": {
    "slideshow": {
     "slide_type": "subslide"
    }
   },
   "source": [
    "### Else construct for a loop"
   ]
  },
  {
   "cell_type": "markdown",
   "metadata": {
    "slideshow": {
     "slide_type": "fragment"
    }
   },
   "source": [
    "The following program \n",
    "- checks whether the user input is a positive integer using `isdigit`, and if so,\n",
    "- check if the positive integer is a composite number, i.e., a product of two distinct positive integers.\n",
    "\n",
    "A composite number is a positive integer that can be formed by multiplying two smaller positive integers. Equivalently, it is a positive integer that has at least one divisor other than 1 and itself.\n",
    "   - 5 is not a composite number because 5=1*5\n",
    "   - 6 is a composite number because 6=1\\*6=2\\*3"
   ]
  },
  {
   "cell_type": "code",
   "execution_count": 25,
   "metadata": {
    "ExecuteTime": {
     "end_time": "2021-01-31T14:41:43.199026Z",
     "start_time": "2021-01-31T14:41:43.115375Z"
    },
    "slideshow": {
     "slide_type": "fragment"
    }
   },
   "outputs": [
    {
     "data": {
      "application/vnd.jupyter.widget-view+json": {
       "model_id": "29f63ef8cbab4635afa04200352138fa",
       "version_major": 2,
       "version_minor": 0
      },
      "text/plain": [
       "interactive(children=(Text(value='1', description='num'), Output()), _dom_classes=('widget-interact',))"
      ]
     },
     "metadata": {},
     "output_type": "display_data"
    }
   ],
   "source": [
    "@interact(num='1')\n",
    "def check_composite(num):\n",
    "    if num.isdigit():   #isdigit() is a method in Python to check whether a number is positive or not\n",
    "        num = int(num)\n",
    "        for divisor in range(2,num):\n",
    "            if num % divisor:   #calculate the remainder, if remainder is not 0, we continue\n",
    "                continue\n",
    "            else:              #otherwise, if remainder is 0, we find a factor, meaning number is a composite\n",
    "                print('It is composite.')\n",
    "                break          # as long as we find one factor, we can determine that it is a composite, no need to continue the for loop \n",
    "        else:\n",
    "            print('It is not composite.') #if we don't find a factor from 2 to num-1, it is not a composite\n",
    "    else:\n",
    "        print('Not a positive integer.') "
   ]
  },
  {
   "cell_type": "markdown",
   "metadata": {
    "slideshow": {
     "slide_type": "fragment"
    }
   },
   "source": [
    "In addition to using `continue` and `break` in an elegant way,  \n",
    "the code also uses an else clause that is executed only when the loop terminates *normally* not by `break`."
   ]
  },
  {
   "cell_type": "markdown",
   "metadata": {
    "ExecuteTime": {
     "end_time": "2021-01-26T05:33:55.500559Z",
     "start_time": "2021-01-26T05:33:55.497310Z"
    },
    "slideshow": {
     "slide_type": "slide"
    }
   },
   "source": [
    "### for/else and while/else\n",
    "\n",
    "* Python loops support an optional block. The block in the context of a loop provides code to  execute when the loop exits **normally**. Said another way, the code in a loop’s block does not execute if the loop terminates due to a statement *break*."
   ]
  },
  {
   "cell_type": "code",
   "execution_count": 27,
   "metadata": {
    "ExecuteTime": {
     "end_time": "2021-01-31T14:50:17.093103Z",
     "start_time": "2021-01-31T14:50:17.053652Z"
    },
    "slideshow": {
     "slide_type": "fragment"
    }
   },
   "outputs": [
    {
     "name": "stdout",
     "output_type": "stream",
     "text": [
      "1\n",
      "2\n",
      "3\n",
      "4\n",
      "num is 4 and I print up to 4\n",
      "1\n",
      "2\n",
      "3\n",
      "4\n",
      "5\n",
      "num is 10 but I can only print up to 5\n"
     ]
    }
   ],
   "source": [
    "##compare why these two for loops give different result\n",
    "num=4\n",
    "for i in range(1,num+1):\n",
    "    print(i)\n",
    "    if i==5:\n",
    "        print('num is',num,'but I can only print up to 5')\n",
    "        break\n",
    "else:\n",
    "    print('num is',num,'and I print up to',num)\n",
    "    \n",
    "num=10\n",
    "for i in range(1,num+1):\n",
    "    print(i)\n",
    "    if i==5:\n",
    "        print('num is',num,'but I can only print up to 5')\n",
    "        break\n",
    "else:\n",
    "    print('num is',num,'and I print up to',num) #if the for loop is terminated because of break, the else block won't be executed"
   ]
  },
  {
   "cell_type": "markdown",
   "metadata": {
    "slideshow": {
     "slide_type": "subslide"
    }
   },
   "source": [
    "When a while loop exits due to its condition being false during its normal check, its associated else\n",
    "block executes."
   ]
  },
  {
   "cell_type": "code",
   "execution_count": 28,
   "metadata": {
    "ExecuteTime": {
     "end_time": "2021-01-31T14:56:40.593000Z",
     "start_time": "2021-01-31T14:56:40.566032Z"
    },
    "slideshow": {
     "slide_type": "fragment"
    }
   },
   "outputs": [
    {
     "name": "stdout",
     "output_type": "stream",
     "text": [
      "1\n",
      "2\n",
      "3\n",
      "4\n",
      "num is 4 and I print up to 4\n",
      "1\n",
      "2\n",
      "3\n",
      "4\n",
      "5\n",
      "num is 10 but I can only print up to 5\n"
     ]
    }
   ],
   "source": [
    "##compare why these two while loops give different result\n",
    "num=4\n",
    "i=1\n",
    "while i<=num:\n",
    "    print(i)\n",
    "    if i==5:\n",
    "        print('num is',num,'but I can only print up to 5')\n",
    "        break\n",
    "    i=i+1\n",
    "else:\n",
    "    print('num is',num,'and I print up to',num)  #this line is executed cause the above while loop terminate normally\n",
    "    \n",
    "num=10\n",
    "i=1\n",
    "while i<=num:\n",
    "    print(i)\n",
    "    if i==5:\n",
    "        print('num is',num,'but I can only print up to 5')\n",
    "        break\n",
    "    i=i+1\n",
    "else:\n",
    "    print('num is',num,'and I print up to',num)  #this line is NOT executed cause the above while loop is terminated by break"
   ]
  },
  {
   "cell_type": "markdown",
   "metadata": {
    "slideshow": {
     "slide_type": "fragment"
    }
   },
   "source": [
    "**Exercise** There are three else claues in the earlier code. Which one is for the loop?\n",
    "\n",
    "Hint: use indentation"
   ]
  },
  {
   "cell_type": "markdown",
   "metadata": {
    "slideshow": {
     "slide_type": "fragment"
    }
   },
   "source": [
    "- The second else clause that `print('It is not composite.')`.\n",
    "- The clause is called when there is no divisor found in the range from `2` to `num`."
   ]
  },
  {
   "cell_type": "markdown",
   "metadata": {
    "slideshow": {
     "slide_type": "subslide"
    }
   },
   "source": [
    "**Exercise** Convert the for loop to a while loop.  \n",
    "Can you improve the code to use fewer iterations?"
   ]
  },
  {
   "cell_type": "code",
   "execution_count": null,
   "metadata": {
    "ExecuteTime": {
     "end_time": "2021-01-26T05:24:26.008197Z",
     "start_time": "2021-01-26T05:24:25.978972Z"
    },
    "deletable": false,
    "nbgrader": {
     "checksum": "4f9b28f47d3aa9f51f67a585f7947581",
     "grade": false,
     "grade_id": "for-to-while",
     "locked": false,
     "schema_version": 3,
     "solution": true,
     "task": false
    },
    "slideshow": {
     "slide_type": "fragment"
    }
   },
   "outputs": [],
   "source": [
    "@interact(num='1')\n",
    "def check_composite(num):\n",
    "    if num.isdigit():\n",
    "        num = int(num)\n",
    "        # for divisor in range(2,num):    # use while instead\n",
    "        divisor = 2\n",
    "        while divisor <= num**0.5: \n",
    "            if num % divisor:\n",
    "                divisor += 1\n",
    "            else:\n",
    "                print('It is composite.')\n",
    "                break\n",
    "        else:\n",
    "            print('It is not composite.')\n",
    "    else:\n",
    "        print('Not a positive integer.')"
   ]
  },
  {
   "cell_type": "code",
   "execution_count": null,
   "metadata": {},
   "outputs": [],
   "source": []
  }
 ],
 "metadata": {
  "celltoolbar": "Slideshow",
  "kernelspec": {
   "display_name": "Python 3.7",
   "language": "python",
   "name": "python3"
  },
  "language_info": {
   "codemirror_mode": {
    "name": "ipython",
    "version": 3
   },
   "file_extension": ".py",
   "mimetype": "text/x-python",
   "name": "python",
   "nbconvert_exporter": "python",
   "pygments_lexer": "ipython3",
   "version": "3.7.9"
  },
  "latex_envs": {
   "LaTeX_envs_menu_present": true,
   "autoclose": false,
   "autocomplete": true,
   "bibliofile": "biblio.bib",
   "cite_by": "apalike",
   "current_citInitial": 1,
   "eqLabelWithNumbers": true,
   "eqNumInitial": 1,
   "hotkeys": {
    "equation": "Ctrl-E",
    "itemize": "Ctrl-I"
   },
   "labels_anchors": false,
   "latex_user_defs": false,
   "report_style_numbering": false,
   "user_envs_cfg": false
  },
  "rise": {
   "enable_chalkboard": true,
   "scroll": true,
   "theme": "white"
  },
  "toc": {
   "base_numbering": 1,
   "nav_menu": {
    "height": "195px",
    "width": "330px"
   },
   "number_sections": true,
   "sideBar": true,
   "skip_h1_title": true,
   "title_cell": "Table of Contents",
   "title_sidebar": "Contents",
   "toc_cell": false,
   "toc_position": {
    "height": "454.418px",
    "left": "1533px",
    "top": "110.284px",
    "width": "435.327px"
   },
   "toc_section_display": true,
   "toc_window_display": false
  }
 },
 "nbformat": 4,
 "nbformat_minor": 4
}

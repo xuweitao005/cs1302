{
 "cells": [
  {
   "cell_type": "markdown",
   "metadata": {
    "slideshow": {
     "slide_type": "slide"
    }
   },
   "source": [
    "# Monte Carlo Simulation and Linear Algebra\n",
    "\n",
    "**CS1302 Introduction to Computer Programming**\n",
    "___\n",
    "\n",
    "*All the lectures after(including) this week will not be included in final exams*"
   ]
  },
  {
   "cell_type": "code",
   "execution_count": 2,
   "metadata": {
    "ExecuteTime": {
     "end_time": "2021-03-25T03:53:21.993838Z",
     "start_time": "2021-03-25T03:53:21.930038Z"
    },
    "hide_input": true,
    "init_cell": true
   },
   "outputs": [],
   "source": [
    "# set up environment\n",
    "%reset -f\n",
    "import sys\n",
    "cs1302_site_packages = '/home/course/cs1302/site-packages'\n",
    "if cs1302_site_packages not in sys.path:\n",
    "    sys.path.append(cs1302_site_packages)\n",
    "%reload_ext mytutor\n",
    "import matplotlib.pyplot as pyplot\n",
    "import ipywidgets as widgets"
   ]
  },
  {
   "cell_type": "markdown",
   "metadata": {
    "slideshow": {
     "slide_type": "subslide"
    }
   },
   "source": [
    "## Monte Carlo simulation"
   ]
  },
  {
   "cell_type": "markdown",
   "metadata": {
    "slideshow": {
     "slide_type": "subslide"
    }
   },
   "source": [
    "**What is Monte Carlo simulation?**"
   ]
  },
  {
   "cell_type": "markdown",
   "metadata": {
    "slideshow": {
     "slide_type": "fragment"
    }
   },
   "source": [
    " > The name Monte Carlo refers to the [Monte Carlo Casino in Monaco](https://en.wikipedia.org/wiki/Monte_Carlo_Casino) where Ulam's uncle would borrow money from relatives to gamble."
   ]
  },
  {
   "cell_type": "markdown",
   "metadata": {
    "slideshow": {
     "slide_type": "fragment"
    }
   },
   "source": [
    "It would be nice to simulate the casino, so Ulam's uncle did not need to borrow money to go.  \n",
    "Actually...,\n",
    "- Monte Carlo is the code name of the secret project for creating the [hydrogen bomb](https://en.wikipedia.org/wiki/Monte_Carlo_method). \n",
    "- [Ulam](https://en.wikipedia.org/wiki/Stanislaw_Ulam) worked with [John von Neumann](https://en.wikipedia.org/wiki/John_von_Neumann) to program the first electronic computer ENIAC to simulate a computational model of a thermonuclear reaction.\n",
    "\n",
    "(See also [The Beginning of the Monte Carlo Method](https://permalink.lanl.gov/object/tr?what=info:lanl-repo/lareport/LA-UR-88-9067) for a more detailed account.)"
   ]
  },
  {
   "cell_type": "markdown",
   "metadata": {},
   "source": [
    "**Some background**\n",
    "\n",
    "* Deterministic problems \n",
    "   * Some problems in science and technology are desrcribed by “exact” mathematics, leading to “precise” results\n",
    "   * Example: If you run at a speed of 5 m/s, how long does it take to run 100 meters? \n",
    "* Stochastic problems\n",
    "    * Some problems appear physically uncertain\n",
    "    * Examples: roll a die, flip a coin\n",
    "    * Use random numbers to mimic the uncertainty of the experiment.\n",
    "\n",
    "Monte Carlo Simulation\n",
    "* A method of estimating the value of an unknown quantity using the principles of inferential statistics\n",
    "* Inferential statistics\n",
    "   * Population: a set of examples\n",
    "   * Sample: a proper subset of a population\n",
    "\n",
    "* Key fact: a random sample tends to exhibit the same properties as the population from which it is drawn"
   ]
  },
  {
   "cell_type": "markdown",
   "metadata": {
    "slideshow": {
     "slide_type": "subslide"
    }
   },
   "source": [
    "**How to compute the value of $\\pi$**?"
   ]
  },
  {
   "cell_type": "markdown",
   "metadata": {
    "slideshow": {
     "slide_type": "fragment"
    }
   },
   "source": [
    "An even earlier use of Monte Carlo simulation is in approximating $\\pi$ using \n",
    "the [Buffon's needle](https://en.wikipedia.org/wiki/Buffon%27s_needle_problem).  \n",
    "There is [a program](https://www.khanacademy.org/computer-programming/pi-by-buffons-needle/6695500989890560) written in javascript to do this."
   ]
  },
  {
   "cell_type": "markdown",
   "metadata": {
    "slideshow": {
     "slide_type": "fragment"
    }
   },
   "source": [
    "The javascript program a bit long to digest, so we will use an alternative simulation that is easier to understand/program."
   ]
  },
  {
   "cell_type": "markdown",
   "metadata": {
    "slideshow": {
     "slide_type": "subslide"
    }
   },
   "source": [
    "If we uniformly randomly pick a point in a square. What is the chance it is in the inscribed circle, i.e., the biggest circle inside the square?"
   ]
  },
  {
   "cell_type": "markdown",
   "metadata": {
    "slideshow": {
     "slide_type": "-"
    }
   },
   "source": [
    "The chance is the area of the circle divided by the area of the square. Suppose the square has length $\\ell$, then the chance is\n",
    "  $$ \\frac{\\pi (\\ell /2)^2}{ (\\ell)^2 } = \\frac{\\pi}4 $$\n",
    "independent of the length $\\ell$."
   ]
  },
  {
   "cell_type": "markdown",
   "metadata": {
    "slideshow": {
     "slide_type": "subslide"
    }
   },
   "source": [
    "**Exercise** Complete the following function to return an approximation of $\\pi$ as follows:\n",
    "1. Simulate the random process of picking a point from a square repeatedly `n` times by  \n",
    "  generating the $x$ and $y$ coordinates uniformly randomly from a unit interval $[0,1)$.\n",
    "2. Compute the fraction of times the point is in the first quadrant of the inscribed circle as shown in the figure below.\n",
    "3. Return $4$ times the fraction as the approximation.\n",
    "<p><a href=\"https://commons.wikimedia.org/wiki/File:Pi_30K.gif#/media/File:Pi_30K.gif\"><img src=\"https://upload.wikimedia.org/wikipedia/commons/8/84/Pi_30K.gif\" alt=\"Pi 30K.gif\"></a></p>"
   ]
  },
  {
   "cell_type": "code",
   "execution_count": 126,
   "metadata": {
    "ExecuteTime": {
     "end_time": "2020-11-16T01:40:12.122126Z",
     "start_time": "2020-11-16T01:40:08.471012Z"
    },
    "deletable": false,
    "nbgrader": {
     "checksum": "2d227afd8ccb16e518833934c65a7d88",
     "grade": false,
     "grade_id": "approximate_pi",
     "locked": false,
     "schema_version": 3,
     "solution": true,
     "task": false
    },
    "slideshow": {
     "slide_type": "-"
    }
   },
   "outputs": [
    {
     "name": "stdout",
     "output_type": "stream",
     "text": [
      "Approximate: 3.141238\n",
      "Ground truth: 3.141592653589793\n"
     ]
    }
   ],
   "source": [
    "import random, math\n",
    "\n",
    "def approximate_pi(n):\n",
    "    ### BEGIN SOLUTION\n",
    "     return 4*len([True for i in range(n) \n",
    "                   if random.random()**2 + random.random()**2 < 1])/n\n",
    "    ### END SOLUTION\n",
    "print(f'Approximate: {approximate_pi(int(1e7))}\\nGround truth: {math.pi}')"
   ]
  },
  {
   "cell_type": "markdown",
   "metadata": {
    "slideshow": {
     "slide_type": "subslide"
    }
   },
   "source": [
    "**How accurate is the approximation?**"
   ]
  },
  {
   "cell_type": "markdown",
   "metadata": {
    "slideshow": {
     "slide_type": "fragment"
    }
   },
   "source": [
    "The following uses a powerful library `numpy` for computing to return a [$95\\%$-confidence interval](http://onlinestatbook.com/2/estimation/mean.html#:~:text=To%20compute%20the%2095%25%20confidence,be%20between%20the%20cutoff%20points.)."
   ]
  },
  {
   "cell_type": "code",
   "execution_count": 127,
   "metadata": {
    "ExecuteTime": {
     "end_time": "2020-11-16T01:41:17.816919Z",
     "start_time": "2020-11-16T01:41:17.189208Z"
    },
    "slideshow": {
     "slide_type": "-"
    }
   },
   "outputs": [
    {
     "name": "stdout",
     "output_type": "stream",
     "text": [
      "95%-confidence interval: [3.14094356 3.14302044]\n",
      "Estimate: 3.1420 ± 0.0010\n",
      "Ground truth: 3.141592653589793\n"
     ]
    }
   ],
   "source": [
    "import numpy as np\n",
    "\n",
    "def np_approximate_pi(n):\n",
    "    in_circle = (np.random.random((n,2))**2).sum(axis=-1) < 1\n",
    "    mean = 4 * in_circle.mean()\n",
    "    std = 4 * in_circle.std() / n**0.5\n",
    "    return np.array([mean - 2*std, mean + 2*std])\n",
    "\n",
    "interval = np_approximate_pi(int(1e7))\n",
    "print(f'''95%-confidence interval: {interval}\n",
    "Estimate: {interval.mean():.4f} ± {(interval[1]-interval[0])/2:.4f}\n",
    "Ground truth: {math.pi}''')"
   ]
  },
  {
   "cell_type": "markdown",
   "metadata": {
    "slideshow": {
     "slide_type": "fragment"
    }
   },
   "source": [
    "Note that the computation done using `numpy` is over $5$ times faster despite the additional computation of the standard deviation."
   ]
  },
  {
   "cell_type": "markdown",
   "metadata": {
    "slideshow": {
     "slide_type": "subslide"
    }
   },
   "source": [
    "There are faster methods to approximate $\\pi$ such as the [Chudnovsky_algorithm](https://en.wikipedia.org/wiki/Chudnovsky_algorithm), but Monte-Carlo method is still useful in more complicated situations.   \n",
    "E.g., see the Monte Carlo simulation of a [real-life situation](https://www.youtube.com/watch?v=-fCVxTTAtFQ) in playing basketball:\n",
    "> \"when down by three and left with only 30 seconds is it better to attempt a hard 3-point shot or an easy 2-point shot and get another possession?\"   --Lebron James"
   ]
  },
  {
   "cell_type": "markdown",
   "metadata": {},
   "source": [
    "**A short summary**\n",
    "1. What is Monte Carlo simulation and the process of Monte Carlo simulation."
   ]
  },
  {
   "cell_type": "markdown",
   "metadata": {
    "slideshow": {
     "slide_type": "slide"
    }
   },
   "source": [
    "## Linear Algebra"
   ]
  },
  {
   "cell_type": "markdown",
   "metadata": {
    "ExecuteTime": {
     "end_time": "2020-11-15T14:59:53.698467Z",
     "start_time": "2020-11-15T14:59:53.685854Z"
    },
    "slideshow": {
     "slide_type": "subslide"
    }
   },
   "source": [
    "**Matrices**\n",
    "\n",
    "A matrix is a rectangular array of numbers\n",
    "$$\\left[ \\begin{array}{cccc}\n",
    "1 & 2 & 3 & 4\\\\\n",
    "5 & 6 & 7 & 8 \\\\\n",
    "9 & 10 & 11 &12\n",
    "\\end{array} \\right] $$\n",
    "* its size is given by (row dimension) $\\times$ (column dimension) e.g., matrix above is 3 $\\times$ 4\n",
    "* *elements* also called *entries* or *coefficients*\n",
    "\n",
    "Index\n",
    "* $A_{i,j}$ is $i$, $j$ element of matrix $A$\n",
    "* $i$ is the row index, $j$ is the column index\n",
    "\n",
    "Matrix equality\n",
    "* two matrices are equal (denoted with =) if they are the same size and corresponding entries are equal"
   ]
  },
  {
   "cell_type": "markdown",
   "metadata": {
    "slideshow": {
     "slide_type": "subslide"
    }
   },
   "source": [
    "**Column and row vectors**\n",
    "\n",
    "* a $1 \\times n$ matrix is called a row vector $[$ 1  2 3$]$\n",
    "\n",
    "* a $n \\times 1$ matrix is called a column vector $\\left[ \\begin{array}{c} 1\\\\ 5\\\\ 9 \\end{array}\\right]$\n",
    "\n",
    "Suppose $A$ is an $m \\times n$ matrix with entries $A_{i,j}$ for $i = 1,\\cdots, m$, $j = 1, \\cdots, n$\n",
    "\n",
    "* its $i$-th row vector is (a n-vector): $[A_{i,1} A_{i,2} \\cdots A_{i,n}]$\n",
    "\n",
    "\n",
    "* its $j$-th column vector is (a m-vector): $\\left[ \\begin{array}{c} A_{1,j}\\\\ A_{2,j}\\\\ \\vdots \\\\ A_{m,j} \\end{array}\\right]$\n"
   ]
  },
  {
   "cell_type": "markdown",
   "metadata": {
    "slideshow": {
     "slide_type": "subslide"
    }
   },
   "source": [
    "**Addition, subtraction**\n",
    "\n",
    "* (just like vectors) we can add or subtract matrices of the same size:\n",
    "$$(A + B)_{i,j} = A_{i,j} + B_{i,j}$$\n",
    "$$(A - B)_{i,j} = A_{i,j} - B_{i,j}$$\n",
    "* Example:\n",
    "$$\\left[ \\begin{array}{cccc}\n",
    "1 & 2 & 3\\\\\n",
    "4 & 5 & 6 \\\\\n",
    "7 & 8 & 9\n",
    "\\end{array} \\right] + \\left[ \\begin{array}{cccc}\n",
    "9 & 8 & 7\\\\\n",
    "6 & 5 & 4 \\\\\n",
    "3 & 2 & 1\n",
    "\\end{array} \\right] = \\left[ \\begin{array}{cccc}\n",
    "10 & 10 & 10\\\\\n",
    "10 & 10 & 10 \\\\\n",
    "10 & 10 & 10\n",
    "\\end{array} \\right]$$"
   ]
  },
  {
   "cell_type": "markdown",
   "metadata": {
    "slideshow": {
     "slide_type": "subslide"
    }
   },
   "source": [
    "**Matrices multiplication**\n",
    "\n",
    "* scalar multiplication is easy: $ \\alpha A = \\alpha A_{i,j}$\n",
    "* For example:\n",
    "$$2 \\cdot \\left[ \\begin{array}{cccc}\n",
    "1 & 2 & 3\\\\\n",
    "4 & 5 & 6 \\\\\n",
    "7 & 8 & 9\n",
    "\\end{array} \\right] = \\left[ \\begin{array}{cccc}\n",
    "2 & 4 & 6\\\\\n",
    "8 & 10 & 12 \\\\\n",
    "14 & 16 & 18\n",
    "\\end{array} \\right]$$\n",
    "\n",
    "* But to multiply a matrix by another matrix we need to do the \"dot product\" of rows and columns\n",
    "* $A$ is an $m \\times n$ matrix and B is an $n \\times p$ matrix:\n",
    "$$A=\\left[ \\begin{array}{cccc}\n",
    "a_{11} & a_{12} & \\cdots & a_{1n}\\\\\n",
    "a_{2,1} & a_{22} & \\cdots & a_{2n} \\\\\n",
    "\\vdots & \\vdots  &\\ddots & \\vdots \\\\\n",
    "a_{m1} & a_{m2}& \\vdots & a_{mn}\n",
    "\\end{array} \\right] B=\\left[ \\begin{array}{cccc}\n",
    "b_{11} & b_{12} & \\cdots & b_{1p}\\\\\n",
    "b_{2,1} & b_{22} & \\cdots & b_{2p} \\\\\n",
    "\\vdots & \\vdots  &\\ddots & \\vdots \\\\\n",
    "b_{n1} & b_{n2}& \\vdots & b_{np}\n",
    "\\end{array} \\right]$$\n",
    "\n",
    "then \n",
    "$$C= AB = \\left[ \\begin{array}{cccc}\n",
    "c_{11} & c_{12} & \\cdots & c_{1p}\\\\\n",
    "c_{2,1} & a_{22} & \\cdots & c_{2p} \\\\\n",
    "\\vdots & \\vdots  &\\ddots & \\vdots \\\\\n",
    "c_{m1} & c_{m2}& \\vdots & c_{mp}\n",
    "\\end{array} \\right]$$ where $C_{ij}=\\sum\\limits_{k=1}^{n} a_{ik} b_{kj}$\n",
    "\n",
    "* More details can be found [here](https://www.mathsisfun.com/algebra/matrix-multiplying.html)."
   ]
  },
  {
   "cell_type": "markdown",
   "metadata": {
    "ExecuteTime": {
     "end_time": "2020-11-15T15:03:21.986798Z",
     "start_time": "2020-11-15T15:03:21.975126Z"
    },
    "slideshow": {
     "slide_type": "subslide"
    }
   },
   "source": [
    "**Matrix division**\n",
    "\n",
    "* We don't actually divide matrices, we do it this way:\n",
    "$$ A / B = A \\times (1/B) = A \\times B^{-1} $$\n",
    "  where $B^{-1}$ means the \"inverse\" of $B$.\n",
    "\n",
    "So we don't divide, instead we multiply by an inverse.\n",
    "\n",
    "And there are special ways to find the inverse, learn more from [here](https://www.mathsisfun.com/algebra/matrix-inverse.html).\n"
   ]
  },
  {
   "cell_type": "markdown",
   "metadata": {
    "slideshow": {
     "slide_type": "subslide"
    }
   },
   "source": [
    "**How to solve a linear equation?**"
   ]
  },
  {
   "cell_type": "markdown",
   "metadata": {
    "slideshow": {
     "slide_type": "fragment"
    }
   },
   "source": [
    "Given the following linear equation in variable $x$ with real-valued coefficient $a$ and $b$,\n",
    "$$ a x = b,$$\n",
    "what is the value of $x$ that satisfies the equation?"
   ]
  },
  {
   "cell_type": "markdown",
   "metadata": {
    "slideshow": {
     "slide_type": "subslide"
    }
   },
   "source": [
    "**Exercise** Complete the following function to return either the unique solution of $x$ or None if it does not exist."
   ]
  },
  {
   "cell_type": "code",
   "execution_count": 171,
   "metadata": {
    "ExecuteTime": {
     "end_time": "2020-11-16T04:38:38.575603Z",
     "start_time": "2020-11-16T04:38:38.536735Z"
    },
    "deletable": false,
    "nbgrader": {
     "checksum": "620d58ad50943866cc9d760dca046025",
     "grade": false,
     "grade_id": "solve_linear_equation",
     "locked": false,
     "schema_version": 3,
     "solution": true,
     "task": false
    },
    "slideshow": {
     "slide_type": "-"
    }
   },
   "outputs": [
    {
     "data": {
      "application/vnd.jupyter.widget-view+json": {
       "model_id": "a50e2619cd804d53992c50a616f897fd",
       "version_major": 2,
       "version_minor": 0
      },
      "text/plain": [
       "interactive(children=(IntSlider(value=2, description='a', max=5), IntSlider(value=3, description='b', max=5), …"
      ]
     },
     "metadata": {},
     "output_type": "display_data"
    }
   ],
   "source": [
    "def solve_linear_equation(a,b):\n",
    "    ### BEGIN SOLUTION\n",
    "    return b/a if a != 0 else None\n",
    "    ### END SOLUTION\n",
    "\n",
    "import ipywidgets as widgets\n",
    "@widgets.interact(a=(0,5,1),b=(0,5,1))\n",
    "def linear_equation_solver(a=2, b=3):\n",
    "    print(f'''linear equation: {a}x = {b}\n",
    "       solution: x = {solve_linear_equation(a,b)}''')"
   ]
  },
  {
   "cell_type": "markdown",
   "metadata": {
    "slideshow": {
     "slide_type": "subslide"
    }
   },
   "source": [
    "**How to solve multiple linear equations?**"
   ]
  },
  {
   "cell_type": "markdown",
   "metadata": {
    "slideshow": {
     "slide_type": "fragment"
    }
   },
   "source": [
    "In the general case, we have a system of $m$ linear equations and $n$ variables:\n",
    "$$ \\begin{aligned}\n",
    "a_{00} x_0 + a_{01} x_1 + \\dots + a_{0(n-1)} x_{n-1} &= b_0\\\\\n",
    "a_{10} x_0 + a_{11} x_1 + \\dots + a_{1(n-1)} x_{n-1} &= b_1\\\\\n",
    "\\vdots\\kern2em &= \\vdots\\\\\n",
    "a_{(m-1)0} x_0 + a_{(m-1)1} x_1 + \\dots + a_{(m-1)(n-1)} x_{n-1} &= b_{m-1}\\\\\n",
    "\\end{aligned}$$\n",
    "where\n",
    "- $x_j$ for $j\\in \\{0,\\dots,n-1\\}$ are the variables, and\n",
    "- $a_{ij}$ and $b_j$ for $i\\in \\{0,\\dots,m-1\\}$ and $j\\in \\{0,\\dots,n-1\\}$ are the coefficients.\n",
    "\n",
    "A fundamental problem in linear algebra is to compute the unique solution to the system if it exists."
   ]
  },
  {
   "cell_type": "markdown",
   "metadata": {
    "slideshow": {
     "slide_type": "fragment"
    }
   },
   "source": [
    "We will consider the simpler 2-by-2 system with 2 variables and 2 equations:\n",
    "$$ \\begin{aligned}\n",
    "a_{00} x_0 + a_{01} x_1 &= b_0\\\\\n",
    "a_{10} x_0 + a_{11} x_1 &= b_1\n",
    "\\end{aligned}$$"
   ]
  },
  {
   "cell_type": "markdown",
   "metadata": {
    "slideshow": {
     "slide_type": "subslide"
    }
   },
   "source": [
    "To get an idea of the solution, suppose \n",
    "$$a_{00}=a_{11}=1, a_{01} = a_{10} = 0.$$\n",
    "The system of equations become\n",
    "$$ \\begin{aligned}\n",
    "x_0 \\hphantom{+ x_1} &= b_0\\\\\n",
    "\\hphantom{x_0 +}  x_1 &= b_1,\n",
    "\\end{aligned}$$\n",
    "which gives the solution directly."
   ]
  },
  {
   "cell_type": "markdown",
   "metadata": {
    "slideshow": {
     "slide_type": "fragment"
    }
   },
   "source": [
    "What about $a_{00}=a_{11}=2$ instead?\n",
    "$$ \\begin{aligned}\n",
    "2x_0 \\hphantom{+ x_1} &= b_0\\\\\n",
    "\\hphantom{2x_0 +}  2x_1 &= b_1,\n",
    "\\end{aligned}$$"
   ]
  },
  {
   "cell_type": "markdown",
   "metadata": {
    "slideshow": {
     "slide_type": "fragment"
    }
   },
   "source": [
    "To obtain the solution, we simply divide both equations by 2:\n",
    "  $$ \\begin{aligned}\n",
    "x_0 \\hphantom{+ x_1} &= \\frac{b_0}2\\\\\n",
    "\\hphantom{x_0 +}  x_1 &= \\frac{b_1}2.\n",
    "\\end{aligned}$$"
   ]
  },
  {
   "cell_type": "markdown",
   "metadata": {
    "slideshow": {
     "slide_type": "fragment"
    }
   },
   "source": [
    "What if $a_{01}=2$ instead?\n",
    "$$ \\begin{aligned}\n",
    "2x_0 + 2x_1 &= b_0\\\\\n",
    "\\hphantom{2x_0 +}  2x_1 &= b_1\\\\\n",
    "\\end{aligned}$$"
   ]
  },
  {
   "cell_type": "markdown",
   "metadata": {
    "slideshow": {
     "slide_type": "fragment"
    }
   },
   "source": [
    "The second equation gives the solution of $x_1$, and we can use the solution in the first equation to solve for $x_0$. More precisely:\n",
    "- Subtract the second equation from the first one:\n",
    "$$ \\begin{aligned}\n",
    "2x_0 \\hphantom{+2x_1} &= b_0 - b_1\\\\\n",
    "\\hphantom{2x_0 +}  2x_1 &= b_1\\\\\n",
    "\\end{aligned}$$\n",
    "- Divide both equation by 2:\n",
    "$$ \\begin{aligned}\n",
    "x_0 \\hphantom{+ x_1} &= \\frac{b_0 - b_1}2\\\\\n",
    "\\hphantom{x_0 +}  x_1 &= \\frac{b_1}2\\\\\n",
    "\\end{aligned}$$"
   ]
  },
  {
   "cell_type": "markdown",
   "metadata": {
    "slideshow": {
     "slide_type": "subslide"
    }
   },
   "source": [
    "The above operations are called *row operations* in linear algebra: each row is an equation.  \n",
    "A system of linear equations can be solved by the linear operations of \n",
    "1. multiplying an equation by a constant, and\n",
    "2. subtracting one equation from another."
   ]
  },
  {
   "cell_type": "markdown",
   "metadata": {
    "slideshow": {
     "slide_type": "fragment"
    }
   },
   "source": [
    "How to write a program to solve a general 2-by-2 system? We will use the `numpy` library.\n",
    "* It stands for '*Numerical Python*'\n",
    "\n",
    "**Why Numpy?**\n",
    "* Python does numerical computations slowly.\n",
    "* 1000 $\\times$ 1000 matrix multiply\n",
    "   * Python triple loop takes > 10 min.\n",
    "   * Numpy takes ~0.03 seconds\n",
    "* Using NumPy, a developer can perform the following operations:\n",
    "   * Mathematical and logical operations on arrays.\n",
    "   * Fourier transforms and routines for shape manipulation.\n",
    "   * Operations related to linear algebra. NumPy has in-built functions for linear algebra and random number generation.\n",
    "\n",
    "Next, we'll introduce how to use `numpy`. There're no complex concepts, but you need to remember many functions."
   ]
  },
  {
   "cell_type": "markdown",
   "metadata": {
    "slideshow": {
     "slide_type": "subslide"
    }
   },
   "source": [
    "### Creating `numpy` arrays"
   ]
  },
  {
   "cell_type": "markdown",
   "metadata": {
    "slideshow": {
     "slide_type": "subslide"
    }
   },
   "source": [
    "**How to store the coefficients?**"
   ]
  },
  {
   "cell_type": "markdown",
   "metadata": {
    "slideshow": {
     "slide_type": "fragment"
    }
   },
   "source": [
    "In linear algebra, a system of equations such as\n",
    "$$ \\begin{aligned}\n",
    "a_{00} x_0 + a_{01} x_1 &= b_0\\\\\n",
    "a_{10} x_0 + a_{11} x_1 &= b_1\n",
    "\\end{aligned}$$\n",
    "is written concisely in *matrix* form as $ \\mathbf{A} \\mathbf{x} = \\mathbf{b} $:\n",
    "$$ \\overbrace{\\begin{bmatrix}\n",
    "a_{00} & a_{01}\\\\\n",
    "a_{10} & a_{11}\n",
    "\\end{bmatrix}}^{\\mathbf{A}}\n",
    "\\overbrace{\n",
    "\\begin{bmatrix}\n",
    "x_0\\\\\n",
    "x_1\n",
    "\\end{bmatrix}}\n",
    "^{\\mathbf{x}}\n",
    "= \\overbrace{\\begin{bmatrix}\n",
    "b_0\\\\\n",
    "b_1\n",
    "\\end{bmatrix}}^{\\mathbf{b}},\n",
    "$$\n",
    "where\n",
    "$ \\mathbf{A} \\mathbf{x}$ is the *matrix multiplication*\n",
    "$$ \\mathbf{A} \\mathbf{x} = \\begin{bmatrix}\n",
    "a_{00} x_0 + a_{01} x_1\\\\\n",
    "a_{10} x_0 + a_{11} x_1\n",
    "\\end{bmatrix}.$$\n"
   ]
  },
  {
   "cell_type": "markdown",
   "metadata": {
    "slideshow": {
     "slide_type": "fragment"
    }
   },
   "source": [
    "We say that $\\mathbf{A}$ is a [*matrix*](https://en.wikipedia.org/wiki/Matrix_(mathematics)) and its dimension/shape is $2$-by-$2$:\n",
    "- The first dimension/axis has size $2$. We also say that the matrix has $2$ rows.\n",
    "- The second dimension/axis has size $2$. We also say that the matrix has $2$ columns.\n",
    "$\\mathbf{x}$ and $\\mathbf{b}$ are called column vectors, which are matrices with one column."
   ]
  },
  {
   "cell_type": "markdown",
   "metadata": {
    "slideshow": {
     "slide_type": "subslide"
    }
   },
   "source": [
    "Consider the example\n",
    "$$ \\begin{aligned}\n",
    "2x_0 + 2x_1 &= 1\\\\\n",
    "\\hphantom{2x_0 +}  2x_1 &= 1,\n",
    "\\end{aligned}$$\n",
    "or in matrix form with\n",
    "$$ \\begin{aligned}\n",
    "\\mathbf{A}&=\\begin{bmatrix}\n",
    "a_{00} & a_{01} \\\\\n",
    "a_{10} & a_{11} \n",
    "\\end{bmatrix} \n",
    "= \\begin{bmatrix}\n",
    "2 & 2 \\\\\n",
    "0 & 2 \n",
    "\\end{bmatrix}\\\\\n",
    "\\mathbf{b}&=\\begin{bmatrix}\n",
    "b_0\\\\\n",
    "b_1\n",
    "\\end{bmatrix} = \\begin{bmatrix}\n",
    "1\\\\\n",
    "1\n",
    "\\end{bmatrix}\\end{aligned}$$"
   ]
  },
  {
   "cell_type": "markdown",
   "metadata": {
    "slideshow": {
     "slide_type": "fragment"
    }
   },
   "source": [
    "Instead of using `list` to store the matrix, we will use a `numpy` array.\n",
    "\n",
    "\n",
    "\n",
    "Numpy array is of data type *ndarray* (n-dimensional array)\n",
    "\n",
    "* A new data structure created by Numpy—the most important concept in Numpy\n",
    "* An N-dimensional array is a homogeneous collection of “items”\n",
    "   * A vector is an array with 1 dimension\n",
    "      * row vector $[$1    2   3$]$\n",
    "      * column vector $\\left[ \\begin{array}{c} 1\\\\ 5\\\\ 9 \\end{array}\\right]$\n",
    "   * A matrix is an array with 2 dimensions\n",
    "      * a matrix whose size is 3 $\\times$ 4$$\\left[ \\begin{array}{cccc}\n",
    "1 & 2 & 3 & 4\\\\\n",
    "5 & 6 & 7 & 8 \\\\\n",
    "9 & 10 & 11 &12\n",
    "\\end{array} \\right] $$"
   ]
  },
  {
   "cell_type": "code",
   "execution_count": 173,
   "metadata": {
    "ExecuteTime": {
     "end_time": "2020-11-16T04:49:57.507611Z",
     "start_time": "2020-11-16T04:49:57.494855Z"
    },
    "slideshow": {
     "slide_type": "-"
    }
   },
   "outputs": [
    {
     "data": {
      "text/plain": [
       "(array([[2., 2.],\n",
       "        [0., 2.]]),\n",
       " array([1., 1.]))"
      ]
     },
     "execution_count": 173,
     "metadata": {},
     "output_type": "execute_result"
    }
   ],
   "source": [
    "#this example explains how to create a numpy array using array()\n",
    "import numpy as np\n",
    "A = np.array([[2.,2],[0,2]])\n",
    "b = np.array([1.,1])\n",
    "A, b"
   ]
  },
  {
   "cell_type": "markdown",
   "metadata": {
    "slideshow": {
     "slide_type": "subslide"
    }
   },
   "source": [
    "Compared to `list`, `numpy` array is often more efficient and has more useful attributes."
   ]
  },
  {
   "cell_type": "code",
   "execution_count": 130,
   "metadata": {
    "ExecuteTime": {
     "end_time": "2020-11-16T02:06:46.827840Z",
     "start_time": "2020-11-16T02:06:46.716612Z"
    },
    "slideshow": {
     "slide_type": "-"
    }
   },
   "outputs": [
    {
     "name": "stdout",
     "output_type": "stream",
     "text": [
      "\n",
      "Common attributes:\n",
      " sort copy\n",
      "\n",
      "Array-specific attributes:\n",
      " any tostring newbyteorder itemset shape data size dtype real fill resize view ravel trace partition cumsum itemsize argmax repeat tobytes tolist squeeze swapaxes argsort min ndim flatten byteswap std prod dumps flags searchsorted tofile conj dot astype diagonal clip setflags take setfield put choose dump strides ptp all conjugate mean nbytes imag round argpartition cumprod sum T nonzero flat argmin max compress getfield var item ctypes reshape base transpose\n",
      "\n",
      "List-specific attributes:\n",
      " clear count pop reverse remove extend insert append index\n"
     ]
    }
   ],
   "source": [
    "#this example shows numpy has more attributes than list\n",
    "array_attributes = set(attr for attr in dir(np.array([])) if attr[0]!='_')\n",
    "list_attributes = set(attr for attr in dir(list) if attr[0]!='_')\n",
    "print('\\nCommon attributes:\\n',*(array_attributes & list_attributes))\n",
    "print('\\nArray-specific attributes:\\n', *(array_attributes - list_attributes))\n",
    "print('\\nList-specific attributes:\\n',*(list_attributes - array_attributes))"
   ]
  },
  {
   "cell_type": "markdown",
   "metadata": {
    "slideshow": {
     "slide_type": "subslide"
    }
   },
   "source": [
    "The following attributes give the dimension/shape, number of dimensions, size, and datatype."
   ]
  },
  {
   "cell_type": "code",
   "execution_count": 6,
   "metadata": {
    "ExecuteTime": {
     "end_time": "2020-11-15T13:09:12.724848Z",
     "start_time": "2020-11-15T13:09:12.717300Z"
    },
    "slideshow": {
     "slide_type": "-"
    }
   },
   "outputs": [
    {
     "name": "stdout",
     "output_type": "stream",
     "text": [
      "[[2. 2.]\n",
      " [0. 2.]]\n",
      "    shape: (2, 2)\n",
      "    ndim: 2\n",
      "    size: 4\n",
      "    dtype: float64\n",
      "    \n",
      "[1. 1.]\n",
      "    shape: (2,)\n",
      "    ndim: 1\n",
      "    size: 2\n",
      "    dtype: float64\n",
      "    \n"
     ]
    }
   ],
   "source": [
    "for array in A, b:\n",
    "    print(f'''{array}\n",
    "    shape: {array.shape}\n",
    "    ndim: {array.ndim}\n",
    "    size: {array.size}\n",
    "    dtype: {array.dtype}\n",
    "    ''')"
   ]
  },
  {
   "cell_type": "markdown",
   "metadata": {
    "slideshow": {
     "slide_type": "slide"
    }
   },
   "source": [
    "## Array basic properties\n",
    "\n",
    "* *ndarray.ndim*: the number of axes (dimensions) of the array\n",
    "   * In NumPy dimensions are called *axes*\n",
    "* *ndarray.shape*: Tuple of array dimensions.\n",
    "\n",
    "* *ndarray.size*: the total number of elements of the array\n",
    "\n",
    "* *ndarray.dtype*: an object describing the type of the elements in the array"
   ]
  },
  {
   "cell_type": "code",
   "execution_count": 132,
   "metadata": {
    "ExecuteTime": {
     "end_time": "2020-11-16T02:12:02.405892Z",
     "start_time": "2020-11-16T02:12:02.400102Z"
    },
    "slideshow": {
     "slide_type": "subslide"
    }
   },
   "outputs": [
    {
     "name": "stdout",
     "output_type": "stream",
     "text": [
      "[[ 1  2  3  4]\n",
      " [ 5  6  7  8]\n",
      " [ 9 10 11 12]]\n",
      "2\n",
      "(3, 4)\n",
      "12\n",
      "int64\n",
      "<class 'numpy.ndarray'>\n"
     ]
    }
   ],
   "source": [
    "import numpy as np\n",
    "\n",
    "x = np.array([[1,2,3,4],[5,6,7,8],[9,10,11,12]])\n",
    "print(x)\n",
    "print(x.ndim)\n",
    "print(x.shape)\n",
    "print(x.size)\n",
    "print(x.dtype)\n",
    "print(type(x))"
   ]
  },
  {
   "cell_type": "markdown",
   "metadata": {
    "slideshow": {
     "slide_type": "fragment"
    }
   },
   "source": [
    "Note that the function `len` only returns the size of the first dimension:"
   ]
  },
  {
   "cell_type": "code",
   "execution_count": 175,
   "metadata": {
    "ExecuteTime": {
     "end_time": "2020-11-16T04:57:02.377542Z",
     "start_time": "2020-11-16T04:57:02.369228Z"
    },
    "slideshow": {
     "slide_type": "-"
    }
   },
   "outputs": [
    {
     "data": {
      "text/plain": [
       "2"
      ]
     },
     "execution_count": 175,
     "metadata": {},
     "output_type": "execute_result"
    }
   ],
   "source": [
    "assert A.shape[0] == len(A)\n",
    "len(A)"
   ]
  },
  {
   "cell_type": "markdown",
   "metadata": {
    "slideshow": {
     "slide_type": "subslide"
    }
   },
   "source": [
    "Unlike `list`, every `numpy` array has a data type. For efficient computation/storage, numpy implements different data types with different storage sizes:\n",
    "* integer: `int8`, `int16`, `int32`, `int64`, `uint8`, ...\n",
    "* float: `float16`, `float32`, `float64`, ...\n",
    "* complex: `complex64`, `complex128`, ...\n",
    "* boolean: `bool8`\n",
    "* Unicode: `string`\n",
    "* Object: `object`\n",
    "\n",
    "Specifying your data type\n",
    "* default data type is floating point (np.float64), you can explicitly specify which data type you want using the *dtype* keyword."
   ]
  },
  {
   "cell_type": "code",
   "execution_count": 135,
   "metadata": {
    "ExecuteTime": {
     "end_time": "2020-11-16T02:15:59.866551Z",
     "start_time": "2020-11-16T02:15:59.857639Z"
    }
   },
   "outputs": [
    {
     "name": "stdout",
     "output_type": "stream",
     "text": [
      "[[1. 1.]\n",
      " [1. 1.]]\n",
      "float64\n",
      "[[1 1]\n",
      " [1 1]]\n",
      "int32\n"
     ]
    }
   ],
   "source": [
    "c=np.ones((2,2))  #note the default data type is float64\n",
    "print(c)\n",
    "print(c.dtype)\n",
    "\n",
    "c=np.ones((2,2),dtype=np.int32) #we now use dtype to change it to int32\n",
    "print(c)\n",
    "print(c.dtype)"
   ]
  },
  {
   "cell_type": "markdown",
   "metadata": {
    "slideshow": {
     "slide_type": "fragment"
    }
   },
   "source": [
    "E.g., `int64` is the 64-bit integer. Unlike `int`, `int64` has a range."
   ]
  },
  {
   "cell_type": "code",
   "execution_count": 8,
   "metadata": {
    "ExecuteTime": {
     "end_time": "2020-11-15T13:09:41.197576Z",
     "start_time": "2020-11-15T13:09:41.082463Z"
    },
    "slideshow": {
     "slide_type": "-"
    }
   },
   "outputs": [
    {
     "name": "stdout",
     "output_type": "stream",
     "text": [
      "range: -9223372036854775808 to 9223372036854775807\n"
     ]
    },
    {
     "ename": "OverflowError",
     "evalue": "Python int too large to convert to C long",
     "output_type": "error",
     "traceback": [
      "\u001b[0;31m---------------------------------------------------------------------------\u001b[0m",
      "\u001b[0;31mOverflowError\u001b[0m                             Traceback (most recent call last)",
      "\u001b[0;32m<ipython-input-8-b5ecbde7f9e9>\u001b[0m in \u001b[0;36m<module>\u001b[0;34m\u001b[0m\n\u001b[1;32m      1\u001b[0m \u001b[0mget_ipython\u001b[0m\u001b[0;34m(\u001b[0m\u001b[0;34m)\u001b[0m\u001b[0;34m.\u001b[0m\u001b[0mrun_line_magic\u001b[0m\u001b[0;34m(\u001b[0m\u001b[0;34m'pinfo'\u001b[0m\u001b[0;34m,\u001b[0m \u001b[0;34m'np.int64'\u001b[0m\u001b[0;34m)\u001b[0m\u001b[0;34m\u001b[0m\u001b[0;34m\u001b[0m\u001b[0m\n\u001b[1;32m      2\u001b[0m \u001b[0mprint\u001b[0m\u001b[0;34m(\u001b[0m\u001b[0;34mf'range: {np.int64(-2**63)} to {np.int64(2**63-1)}'\u001b[0m\u001b[0;34m)\u001b[0m\u001b[0;34m\u001b[0m\u001b[0;34m\u001b[0m\u001b[0m\n\u001b[0;32m----> 3\u001b[0;31m \u001b[0mnp\u001b[0m\u001b[0;34m.\u001b[0m\u001b[0mint64\u001b[0m\u001b[0;34m(\u001b[0m\u001b[0;36m2\u001b[0m\u001b[0;34m**\u001b[0m\u001b[0;36m63\u001b[0m\u001b[0;34m)\u001b[0m   \u001b[0;31m# overflow error\u001b[0m\u001b[0;34m\u001b[0m\u001b[0;34m\u001b[0m\u001b[0m\n\u001b[0m",
      "\u001b[0;31mOverflowError\u001b[0m: Python int too large to convert to C long"
     ]
    }
   ],
   "source": [
    "np.int64?\n",
    "print(f'range: {np.int64(-2**63)} to {np.int64(2**63-1)}')\n",
    "np.int64(2**63)   # overflow error"
   ]
  },
  {
   "cell_type": "markdown",
   "metadata": {
    "slideshow": {
     "slide_type": "subslide"
    }
   },
   "source": [
    "We can use the `astype` method to convert the data type:\n",
    "* more details of `astype` can be found [here](https://numpy.org/doc/stable/reference/generated/numpy.ndarray.astype.html)"
   ]
  },
  {
   "cell_type": "code",
   "execution_count": 137,
   "metadata": {
    "ExecuteTime": {
     "end_time": "2020-11-16T02:23:01.751467Z",
     "start_time": "2020-11-16T02:23:01.746177Z"
    },
    "slideshow": {
     "slide_type": "-"
    }
   },
   "outputs": [
    {
     "name": "stdout",
     "output_type": "stream",
     "text": [
      "[[2. 2.]\n",
      " [0. 2.]]\n",
      "float64\n",
      "[[2 2]\n",
      " [0 2]] int64\n",
      "[[2. 2.]\n",
      " [0. 2.]] float32\n"
     ]
    }
   ],
   "source": [
    "print(A)\n",
    "print(A.dtype)\n",
    "A_int64 = A.astype(int)       # converts to int64 by default\n",
    "A_float32 = A.astype(np.float32)  # converts to float32\n",
    "for array in A_int64, A_float32:\n",
    "    print(array, array.dtype)"
   ]
  },
  {
   "cell_type": "markdown",
   "metadata": {
    "slideshow": {
     "slide_type": "fragment"
    }
   },
   "source": [
    "We have to be careful about assigning items of different types to an array.\n",
    "* Numpy array assumes all the elements have the same data type"
   ]
  },
  {
   "cell_type": "code",
   "execution_count": 49,
   "metadata": {
    "ExecuteTime": {
     "end_time": "2020-11-15T15:08:46.470400Z",
     "start_time": "2020-11-15T15:08:46.460431Z"
    },
    "slideshow": {
     "slide_type": "-"
    }
   },
   "outputs": [
    {
     "name": "stdout",
     "output_type": "stream",
     "text": [
      "[[1 2]\n",
      " [0 2]]\n",
      "[[0 2]\n",
      " [0 2]]\n"
     ]
    },
    {
     "data": {
      "text/plain": [
       "array([1., 1.])"
      ]
     },
     "execution_count": 49,
     "metadata": {},
     "output_type": "execute_result"
    }
   ],
   "source": [
    "A_int64[0,0] = 1\n",
    "print(A_int64)\n",
    "A_int64[0,0] = 0.5\n",
    "print(A_int64)                # intended assignment fails\n",
    "np.array([int(1), float(1)])  # will be all floating point numbers"
   ]
  },
  {
   "cell_type": "markdown",
   "metadata": {
    "ExecuteTime": {
     "end_time": "2020-11-12T14:52:46.259630Z",
     "start_time": "2020-11-12T14:52:46.252370Z"
    },
    "slideshow": {
     "slide_type": "subslide"
    }
   },
   "source": [
    "**Exercise** Create a heterogeneous numpy array to store both integer and strings:\n",
    "```Python\n",
    "[0, 1, 2, 'a', 'b', 'c']\n",
    "```\n",
    "*Hint:* There is an numpy data type called `object`."
   ]
  },
  {
   "cell_type": "code",
   "execution_count": 13,
   "metadata": {
    "ExecuteTime": {
     "end_time": "2020-11-15T13:31:18.741149Z",
     "start_time": "2020-11-15T13:31:18.734345Z"
    },
    "deletable": false,
    "nbgrader": {
     "checksum": "8c72e5ed2e1553a047983251d2a8b6d9",
     "grade": false,
     "grade_id": "hetero",
     "locked": false,
     "schema_version": 3,
     "solution": true,
     "task": false
    },
    "slideshow": {
     "slide_type": "-"
    }
   },
   "outputs": [
    {
     "data": {
      "text/plain": [
       "array([0, 1, 2, 'a', 'b', 'c'], dtype=object)"
      ]
     },
     "execution_count": 13,
     "metadata": {},
     "output_type": "execute_result"
    }
   ],
   "source": [
    "np.object?\n",
    "### BEGIN SOLUTION\n",
    "heterogeneous_np_array = np.array([*range(3),*'abc'],dtype=object)\n",
    "### END SOLUTION\n",
    "heterogeneous_np_array"
   ]
  },
  {
   "cell_type": "markdown",
   "metadata": {
    "slideshow": {
     "slide_type": "fragment"
    }
   },
   "source": [
    "Be careful when creating arrays of `tuple`/`list`:\n",
    "* the array size will be different if tuple and list are in different sizes"
   ]
  },
  {
   "cell_type": "code",
   "execution_count": 12,
   "metadata": {
    "ExecuteTime": {
     "end_time": "2020-11-15T13:26:58.718339Z",
     "start_time": "2020-11-15T13:26:58.680922Z"
    },
    "slideshow": {
     "slide_type": "-"
    }
   },
   "outputs": [
    {
     "name": "stdout",
     "output_type": "stream",
     "text": [
      "[(1, 2) list([3, 4, 5])] \n",
      "shape: (2,) length: 2 size: 2\n",
      "[[1 2]\n",
      " [3 4]] \n",
      "shape: (2, 2) length: 2 size: 4\n"
     ]
    }
   ],
   "source": [
    "for array in (np.array([(1,2),[3,4,5]],dtype=object),\n",
    "              np.array([(1,2),[3,4]],dtype=object)):\n",
    "    print(array, '\\nshape:', array.shape, 'length:', len(array), 'size:', array.size)"
   ]
  },
  {
   "cell_type": "markdown",
   "metadata": {
    "slideshow": {
     "slide_type": "subslide"
    }
   },
   "source": [
    "There are multiple ways to create an array, some common functions are:\n",
    "* np.zeros(): create an array filled with 0’s\n",
    "* np.ones(): create an array filled with 1's\n",
    "* np.eye(): create an array with 1's on the diagonal and 0's elsewhere.\n",
    "* np.diag(): create a diagonal matrix\n",
    "* np.empty(): create an array whose initial content is random and depends on the state of the memory\n",
    "* np.arange(): create an array with a range of elements\n",
    "* np.linspace(): create an array with values that are spaced linearly in a specified interval\n",
    "* np.fromfunction(): create an array by executing a function over each coordinate."
   ]
  },
  {
   "cell_type": "code",
   "execution_count": 29,
   "metadata": {
    "ExecuteTime": {
     "end_time": "2020-11-15T14:11:25.345853Z",
     "start_time": "2020-11-15T14:11:25.332940Z"
    },
    "slideshow": {
     "slide_type": "-"
    }
   },
   "outputs": [
    {
     "data": {
      "text/plain": [
       "(array([], dtype=float64),\n",
       " array([0.]),\n",
       " array([[[0., 0., 0., 0.],\n",
       "         [0., 0., 0., 0.],\n",
       "         [0., 0., 0., 0.]],\n",
       " \n",
       "        [[0., 0., 0., 0.],\n",
       "         [0., 0., 0., 0.],\n",
       "         [0., 0., 0., 0.]]]))"
      ]
     },
     "execution_count": 29,
     "metadata": {},
     "output_type": "execute_result"
    }
   ],
   "source": [
    "np.zeros?\n",
    "np.zeros(0), np.zeros(1), np.zeros((2,3,4))  # Dimension can be higher than 2"
   ]
  },
  {
   "cell_type": "code",
   "execution_count": 21,
   "metadata": {
    "ExecuteTime": {
     "end_time": "2020-11-15T14:06:49.821499Z",
     "start_time": "2020-11-15T14:06:49.805922Z"
    },
    "slideshow": {
     "slide_type": "-"
    }
   },
   "outputs": [
    {
     "data": {
      "text/plain": [
       "(array([], dtype=int64),\n",
       " array([[[1, 1, 1, 1],\n",
       "         [1, 1, 1, 1],\n",
       "         [1, 1, 1, 1]],\n",
       " \n",
       "        [[1, 1, 1, 1],\n",
       "         [1, 1, 1, 1],\n",
       "         [1, 1, 1, 1]]]))"
      ]
     },
     "execution_count": 21,
     "metadata": {},
     "output_type": "execute_result"
    }
   ],
   "source": [
    "np.ones?\n",
    "np.ones(0, dtype=int), np.ones((2,3,4), dtype=int)  # initialize values to int 1"
   ]
  },
  {
   "cell_type": "code",
   "execution_count": 19,
   "metadata": {
    "ExecuteTime": {
     "end_time": "2020-11-15T14:04:24.340483Z",
     "start_time": "2020-11-15T14:04:24.332462Z"
    }
   },
   "outputs": [
    {
     "data": {
      "text/plain": [
       "(array([], shape=(0, 0), dtype=float64),\n",
       " array([[1.]]),\n",
       " array([[1., 0.],\n",
       "        [0., 1.]]),\n",
       " array([[1., 0., 0.],\n",
       "        [0., 1., 0.],\n",
       "        [0., 0., 1.]]))"
      ]
     },
     "execution_count": 19,
     "metadata": {},
     "output_type": "execute_result"
    }
   ],
   "source": [
    "np.eye?\n",
    "np.eye(0), np.eye(1), np.eye(2), np.eye(3)  # identity matrices"
   ]
  },
  {
   "cell_type": "code",
   "execution_count": 139,
   "metadata": {
    "ExecuteTime": {
     "end_time": "2020-11-16T02:38:47.210226Z",
     "start_time": "2020-11-16T02:38:47.193512Z"
    }
   },
   "outputs": [
    {
     "data": {
      "text/plain": [
       "(array([[0]]),\n",
       " array([[0, 0],\n",
       "        [0, 1]]),\n",
       " array([[0, 0, 0, 0],\n",
       "        [0, 1, 0, 0],\n",
       "        [0, 0, 2, 0],\n",
       "        [0, 0, 0, 3]]),\n",
       " array([[0., 1., 0., 0.],\n",
       "        [0., 0., 1., 0.],\n",
       "        [0., 0., 0., 1.],\n",
       "        [0., 0., 0., 0.]]))"
      ]
     },
     "execution_count": 139,
     "metadata": {},
     "output_type": "execute_result"
    }
   ],
   "source": [
    "np.diag?\n",
    "np.diag(range(1)), np.diag(range(2)), np.diag(range(4)),np.diag(np.ones(3),k=1)  # diagonal matrices"
   ]
  },
  {
   "cell_type": "code",
   "execution_count": 22,
   "metadata": {
    "ExecuteTime": {
     "end_time": "2020-11-15T14:07:19.836836Z",
     "start_time": "2020-11-15T14:07:19.828008Z"
    },
    "slideshow": {
     "slide_type": "-"
    }
   },
   "outputs": [
    {
     "data": {
      "text/plain": [
       "(array([], dtype=float64),\n",
       " array([[[      94670546641504,       94670546936976,\n",
       "            112699271858381412,   112701470881637476],\n",
       "         [  112703669904893540,   112705868928149604,\n",
       "            112708067951405668,   112710266974661732],\n",
       "         [  112712465997917796,   112714665021173860,\n",
       "            112716864044429924,   112719063067685988]],\n",
       " \n",
       "        [[  112721262090942052,   112723461114198116,\n",
       "            112725660137454180,   112727859160710244],\n",
       "         [  112730058183966308,   112732257207222372,\n",
       "            112734456230478436,   112736655253734500],\n",
       "         [-8762877256829074840,   673851663452471696,\n",
       "          -8546704472567185008, -8474646880643841916]]]))"
      ]
     },
     "execution_count": 22,
     "metadata": {},
     "output_type": "execute_result"
    }
   ],
   "source": [
    "np.empty?\n",
    "np.empty(0), np.empty((2,3,4), dtype=int)  # create array faster without initialization"
   ]
  },
  {
   "cell_type": "markdown",
   "metadata": {
    "slideshow": {
     "slide_type": "subslide"
    }
   },
   "source": [
    "`numpy` also provides functions to build an array using rules."
   ]
  },
  {
   "cell_type": "code",
   "execution_count": 24,
   "metadata": {
    "ExecuteTime": {
     "end_time": "2020-11-15T14:08:28.958953Z",
     "start_time": "2020-11-15T14:08:28.952245Z"
    },
    "slideshow": {
     "slide_type": "-"
    }
   },
   "outputs": [
    {
     "data": {
      "text/plain": [
       "(array([0, 1, 2, 3, 4]), array([4]), array([4.5, 5. ]))"
      ]
     },
     "execution_count": 24,
     "metadata": {},
     "output_type": "execute_result"
    }
   ],
   "source": [
    "np.arange?\n",
    "np.arange(5), np.arange(4,5), np.arange(4.5,5.5,0.5)  # like range but allow non-integer parameters"
   ]
  },
  {
   "cell_type": "code",
   "execution_count": 176,
   "metadata": {
    "ExecuteTime": {
     "end_time": "2020-11-16T05:09:54.013626Z",
     "start_time": "2020-11-16T05:09:54.001500Z"
    },
    "slideshow": {
     "slide_type": "-"
    }
   },
   "outputs": [
    {
     "data": {
      "text/plain": [
       "(array([4.        , 4.02040816, 4.04081633, 4.06122449, 4.08163265,\n",
       "        4.10204082, 4.12244898, 4.14285714, 4.16326531, 4.18367347,\n",
       "        4.20408163, 4.2244898 , 4.24489796, 4.26530612, 4.28571429,\n",
       "        4.30612245, 4.32653061, 4.34693878, 4.36734694, 4.3877551 ,\n",
       "        4.40816327, 4.42857143, 4.44897959, 4.46938776, 4.48979592,\n",
       "        4.51020408, 4.53061224, 4.55102041, 4.57142857, 4.59183673,\n",
       "        4.6122449 , 4.63265306, 4.65306122, 4.67346939, 4.69387755,\n",
       "        4.71428571, 4.73469388, 4.75510204, 4.7755102 , 4.79591837,\n",
       "        4.81632653, 4.83673469, 4.85714286, 4.87755102, 4.89795918,\n",
       "        4.91836735, 4.93877551, 4.95918367, 4.97959184, 5.        ]),\n",
       " array([4. , 4.1, 4.2, 4.3, 4.4, 4.5, 4.6, 4.7, 4.8, 4.9, 5. ]),\n",
       " array([4.        , 4.05263158, 4.10526316, 4.15789474, 4.21052632,\n",
       "        4.26315789, 4.31578947, 4.36842105, 4.42105263, 4.47368421,\n",
       "        4.52631579, 4.57894737, 4.63157895, 4.68421053, 4.73684211,\n",
       "        4.78947368, 4.84210526, 4.89473684, 4.94736842, 5.        ]))"
      ]
     },
     "execution_count": 176,
     "metadata": {},
     "output_type": "execute_result"
    }
   ],
   "source": [
    "np.linspace?\n",
    "np.linspace(4,5), np.linspace(4,5,11), np.linspace(4,5,20)  # can specify number of points instead of step\n",
    "#np.linspace(4,5) will create an array with 50 elements\n",
    "#np.linspace(4,5,11) will create an array with 11 elements\n",
    "#np.linspace(4,5,20) will create an array with 20 elements\n",
    "#the shape is determined automatically"
   ]
  },
  {
   "cell_type": "code",
   "execution_count": 120,
   "metadata": {
    "ExecuteTime": {
     "end_time": "2020-11-15T17:27:50.273504Z",
     "start_time": "2020-11-15T17:27:50.253151Z"
    },
    "slideshow": {
     "slide_type": "-"
    }
   },
   "outputs": [
    {
     "name": "stdout",
     "output_type": "stream",
     "text": [
      "[[0. 0. 0. 0.]\n",
      " [0. 1. 2. 3.]\n",
      " [0. 2. 4. 6.]]\n",
      "[[0. 0. 0. 0.]\n",
      " [0. 1. 2. 3.]\n",
      " [0. 2. 4. 6.]]\n"
     ]
    }
   ],
   "source": [
    "np.fromfunction?\n",
    "print(np.fromfunction(lambda i, j: i * j, (3,4)))  # can initialize using a function\n",
    "#the above code will generate an array with size (3,4), and each element is calculated by i*j\n",
    "\n",
    "#equivalent to the code below\n",
    "def f(i,j):\n",
    "    return i*j\n",
    "\n",
    "print(np.fromfunction(f,(3,4)))\n",
    "\n",
    "\n",
    "#it will create a 3*4 array, the element of Ai,j is determined by i*j\n",
    "#[0*0 0*1 0*2 0*3\n",
    "# 1*0 1*1 1*2 1*3\n",
    "# 2*0 2*1 2*2 2*3]"
   ]
  },
  {
   "cell_type": "markdown",
   "metadata": {
    "slideshow": {
     "slide_type": "subslide"
    }
   },
   "source": [
    "We can also reshape an array using the `reshape` method/function:\n",
    "* syntax: numpy.reshape(a, newshape, order='C')\n",
    "* Reshaping means changing the shape of an array.\n",
    "* You are allowed to have one \"unknown\" dimension.\n",
    "   * Meaning that you do not have to specify an exact number for one of the dimensions in the reshape method.\n",
    "   * Pass `-1` as the value, and NumPy will calculate this number for you.\n",
    "* you can change the order of elements by specifying order: order='C' or order ='F'\n",
    "* More information can be found [here](https://www.w3resource.com/numpy/manipulation/reshape.php)"
   ]
  },
  {
   "cell_type": "code",
   "execution_count": 39,
   "metadata": {
    "ExecuteTime": {
     "end_time": "2020-11-15T14:54:51.447778Z",
     "start_time": "2020-11-15T14:54:51.428964Z"
    },
    "slideshow": {
     "slide_type": "-"
    }
   },
   "outputs": [
    {
     "data": {
      "text/plain": [
       "(array([ 0,  1,  2,  3,  4,  5,  6,  7,  8,  9, 10, 11, 12, 13, 14, 15, 16,\n",
       "        17, 18, 19, 20, 21, 22, 23]),\n",
       " array([[[ 0,  1,  2,  3],\n",
       "         [ 4,  5,  6,  7],\n",
       "         [ 8,  9, 10, 11]],\n",
       " \n",
       "        [[12, 13, 14, 15],\n",
       "         [16, 17, 18, 19],\n",
       "         [20, 21, 22, 23]]]),\n",
       " array([[[ 0,  1,  2,  3],\n",
       "         [ 4,  5,  6,  7],\n",
       "         [ 8,  9, 10, 11]],\n",
       " \n",
       "        [[12, 13, 14, 15],\n",
       "         [16, 17, 18, 19],\n",
       "         [20, 21, 22, 23]]]),\n",
       " array([[[ 0,  6, 12, 18],\n",
       "         [ 2,  8, 14, 20],\n",
       "         [ 4, 10, 16, 22]],\n",
       " \n",
       "        [[ 1,  7, 13, 19],\n",
       "         [ 3,  9, 15, 21],\n",
       "         [ 5, 11, 17, 23]]]))"
      ]
     },
     "execution_count": 39,
     "metadata": {},
     "output_type": "execute_result"
    }
   ],
   "source": [
    "array = np.arange(2*3*4)\n",
    "array.reshape?\n",
    "(array, \n",
    " array.reshape(2,3,4),      # last axis index changes fastest\n",
    " array.reshape(2,3,-1),     # size of last axis calculated automatically\n",
    " array.reshape((2,3,4), order='F')) # first axis index changes fastest\n",
    "\n",
    "#the example below shows the difference of order='C' and order='F'\n",
    "#x = np.array([[1,2,3], [4,5,6]])\n",
    "#print(x)\n",
    "#print(np.reshape(x, 6, order='F')) \n",
    "#print(np.reshape(x, 6, order='C')) "
   ]
  },
  {
   "cell_type": "markdown",
   "metadata": {
    "slideshow": {
     "slide_type": "fragment"
    }
   },
   "source": [
    "`flatten` is a special case of reshaping an array to one dimension.\n",
    "* syntax: ndarray.flatten(order='C')\n",
    "* The flatten() function is used to get a copy of an given array collapsed into one dimension.\n",
    "* More information can be found [here](https://www.w3resource.com/numpy/manipulation/ndarray-flatten.php)"
   ]
  },
  {
   "cell_type": "code",
   "execution_count": 38,
   "metadata": {
    "ExecuteTime": {
     "end_time": "2020-11-15T14:52:11.651436Z",
     "start_time": "2020-11-15T14:52:11.639913Z"
    },
    "slideshow": {
     "slide_type": "-"
    }
   },
   "outputs": [
    {
     "data": {
      "text/plain": [
       "(array([[[ 0,  1,  2,  3],\n",
       "         [ 4,  5,  6,  7],\n",
       "         [ 8,  9, 10, 11]],\n",
       " \n",
       "        [[12, 13, 14, 15],\n",
       "         [16, 17, 18, 19],\n",
       "         [20, 21, 22, 23]]]),\n",
       " array([ 0,  1,  2,  3,  4,  5,  6,  7,  8,  9, 10, 11, 12, 13, 14, 15, 16,\n",
       "        17, 18, 19, 20, 21, 22, 23]),\n",
       " array([ 0,  1,  2,  3,  4,  5,  6,  7,  8,  9, 10, 11, 12, 13, 14, 15, 16,\n",
       "        17, 18, 19, 20, 21, 22, 23]),\n",
       " array([ 0, 12,  4, 16,  8, 20,  1, 13,  5, 17,  9, 21,  2, 14,  6, 18, 10,\n",
       "        22,  3, 15,  7, 19, 11, 23]))"
      ]
     },
     "execution_count": 38,
     "metadata": {},
     "output_type": "execute_result"
    }
   ],
   "source": [
    "array = np.arange(2*3*4).reshape(2,3,4)\n",
    "array, array.flatten(), array.reshape(-1), array.flatten(order='F')"
   ]
  },
  {
   "cell_type": "markdown",
   "metadata": {
    "slideshow": {
     "slide_type": "subslide"
    }
   },
   "source": [
    "**Exercise** Correct the following function to print every element of an array line-by-line.\n",
    "```Python\n",
    "def print_array_entries_line_by_line(array):\n",
    "    for i in array:\n",
    "        print(i)\n",
    "```"
   ]
  },
  {
   "cell_type": "code",
   "execution_count": 177,
   "metadata": {
    "ExecuteTime": {
     "end_time": "2020-11-16T05:17:35.420870Z",
     "start_time": "2020-11-16T05:17:35.356788Z"
    },
    "deletable": false,
    "nbgrader": {
     "checksum": "082dc7a0dd87ad9efe8b965ad4bd3656",
     "grade": false,
     "grade_id": "flatten",
     "locked": false,
     "schema_version": 3,
     "solution": true,
     "task": false
    },
    "slideshow": {
     "slide_type": "-"
    }
   },
   "outputs": [
    {
     "name": "stdout",
     "output_type": "stream",
     "text": [
      "0\n",
      "1\n",
      "2\n",
      "3\n",
      "4\n",
      "5\n",
      "6\n",
      "7\n",
      "8\n",
      "9\n",
      "10\n",
      "11\n",
      "12\n",
      "13\n",
      "14\n",
      "15\n",
      "16\n",
      "17\n",
      "18\n",
      "19\n",
      "20\n",
      "21\n",
      "22\n",
      "23\n"
     ]
    }
   ],
   "source": [
    "def print_array_entries_line_by_line(array):\n",
    "    ### BEGIN SOLUTION\n",
    "    for i in array.flatten():\n",
    "        print(i)\n",
    "    ### END SOLUTION\n",
    "    \n",
    "print_array_entries_line_by_line(np.arange(2*3*4).reshape(2,3,4))\n",
    "\n",
    "#the following is the wrong implementation\n",
    "def print_array_entries_line_by_line_wrong(array):\n",
    "    for i in array:\n",
    "        print(i)\n",
    "        \n",
    "#print_array_entries_line_by_line_wrong(np.arange(2*3*4).reshape(2,3,4))"
   ]
  },
  {
   "cell_type": "markdown",
   "metadata": {},
   "source": [
    "Let's have a short break."
   ]
  },
  {
   "cell_type": "markdown",
   "metadata": {
    "slideshow": {
     "slide_type": "slide"
    }
   },
   "source": [
    "### Operating on `numpy` arrays"
   ]
  },
  {
   "cell_type": "markdown",
   "metadata": {
    "ExecuteTime": {
     "end_time": "2020-11-15T14:56:34.414440Z",
     "start_time": "2020-11-15T14:56:34.399479Z"
    }
   },
   "source": [
    "**Arithmetic operations are element-wise!**\n",
    "\n",
    "* Addition: a+b or np.add(a,b)\n",
    "* Subtraction: a-b or np.subtract(a,b)\n",
    "* Multiplication: a*b or np.multiply(a,b)\n",
    "* Division: a/b or np.divide(a,b)\n",
    "\n",
    "**So how about matrix multiplication?**\n",
    "* We use @ or np.matmul(): a@b or np.matmul(a,b)"
   ]
  },
  {
   "cell_type": "code",
   "execution_count": 50,
   "metadata": {
    "ExecuteTime": {
     "end_time": "2020-11-15T15:09:17.117934Z",
     "start_time": "2020-11-15T15:09:17.060300Z"
    }
   },
   "outputs": [
    {
     "name": "stdout",
     "output_type": "stream",
     "text": [
      "[[1 2]\n",
      " [3 4]]\n",
      "[[5 6]\n",
      " [7 8]]\n",
      "Addition:\n",
      "[[ 6  8]\n",
      " [10 12]]\n",
      "[[ 6  8]\n",
      " [10 12]]\n",
      "Subtraction:\n",
      "[[-4 -4]\n",
      " [-4 -4]]\n",
      "[[-4 -4]\n",
      " [-4 -4]]\n",
      "Arithmetic multiplication:\n",
      "[[ 5 12]\n",
      " [21 32]]\n",
      "[[ 5 12]\n",
      " [21 32]]\n",
      "Matrix multiplication:\n",
      "[[19 22]\n",
      " [43 50]]\n",
      "[[19 22]\n",
      " [43 50]]\n",
      "Arithmetic division:\n",
      "[[0.2        0.33333333]\n",
      " [0.42857143 0.5       ]]\n",
      "[[0.2        0.33333333]\n",
      " [0.42857143 0.5       ]]\n"
     ]
    }
   ],
   "source": [
    "import numpy as np\n",
    "x = np.array([[1, 2],[3,4]])\n",
    "y = np.array([[5, 6], [7, 8]])\n",
    "\n",
    "print(x)\n",
    "print(y)\n",
    "\n",
    "print(\"Addition:\")\n",
    "print(x+y)\n",
    "print(np.add(x,y))\n",
    "\n",
    "print(\"Subtraction:\")\n",
    "print(x-y)\n",
    "print(np.subtract(x,y))\n",
    "\n",
    "print(\"Arithmetic multiplication:\")\n",
    "print(x*y)\n",
    "print(np.multiply(x,y))\n",
    "\n",
    "print(\"Matrix multiplication:\")\n",
    "print(x@y)\n",
    "print(np.matmul(x,y))\n",
    "\n",
    "print(\"Arithmetic division:\")\n",
    "print(x/y)\n",
    "print(np.divide(x,y))"
   ]
  },
  {
   "cell_type": "markdown",
   "metadata": {
    "slideshow": {
     "slide_type": "subslide"
    }
   },
   "source": [
    "**How to verify the solution of a system of linear equations?**"
   ]
  },
  {
   "cell_type": "markdown",
   "metadata": {
    "slideshow": {
     "slide_type": "fragment"
    }
   },
   "source": [
    "Before solving the system of linear equations, let us try to verify a solution to the equations:\n",
    "$$ \\begin{aligned}\n",
    "2x_0 + 2x_1 &= 1\\\\\n",
    "\\hphantom{2x_0 +}  2x_1 &= 1\n",
    "\\end{aligned}$$"
   ]
  },
  {
   "cell_type": "markdown",
   "metadata": {
    "slideshow": {
     "slide_type": "fragment"
    }
   },
   "source": [
    "`numpy` provides the function `matmul` and the operator `@` for matrix multiplication."
   ]
  },
  {
   "cell_type": "code",
   "execution_count": 143,
   "metadata": {
    "ExecuteTime": {
     "end_time": "2020-11-16T02:49:13.093199Z",
     "start_time": "2020-11-16T02:49:13.086297Z"
    },
    "slideshow": {
     "slide_type": "-"
    }
   },
   "outputs": [
    {
     "name": "stdout",
     "output_type": "stream",
     "text": [
      "[False False]\n",
      "[ True  True]\n"
     ]
    }
   ],
   "source": [
    "print(np.matmul(A,np.array([0,0])) == b) #x0=0, x1=0 is wrong solution\n",
    "print(A @ np.array([0,0.5]) == b)   #x0=0, x1=0.5 is correct solution"
   ]
  },
  {
   "cell_type": "markdown",
   "metadata": {
    "slideshow": {
     "slide_type": "subslide"
    }
   },
   "source": [
    "Note that the comparison on `numpy` arrays returns a boolean array instead of a boolean value, unlike the comparison operations on lists."
   ]
  },
  {
   "cell_type": "markdown",
   "metadata": {
    "slideshow": {
     "slide_type": "fragment"
    }
   },
   "source": [
    "To check whether all items are true, we use the `all` method."
   ]
  },
  {
   "cell_type": "code",
   "execution_count": 55,
   "metadata": {
    "ExecuteTime": {
     "end_time": "2020-11-15T15:09:58.099282Z",
     "start_time": "2020-11-15T15:09:58.091033Z"
    },
    "slideshow": {
     "slide_type": "-"
    }
   },
   "outputs": [
    {
     "name": "stdout",
     "output_type": "stream",
     "text": [
      "False\n",
      "True\n"
     ]
    }
   ],
   "source": [
    "print((np.matmul(A,np.array([0,0])) == b).all())\n",
    "print((A @ np.array([0,0.5]) == b).all())"
   ]
  },
  {
   "cell_type": "markdown",
   "metadata": {
    "slideshow": {
     "slide_type": "subslide"
    }
   },
   "source": [
    "**How to concatenate arrays?**"
   ]
  },
  {
   "cell_type": "markdown",
   "metadata": {
    "slideshow": {
     "slide_type": "-"
    }
   },
   "source": [
    "We will operate on an augmented matrix of the coefficients:\n",
    "$$ \\begin{aligned} \\mathbf{C} &= \\begin{bmatrix}\n",
    "\\mathbf{A} & \\mathbf{b}\n",
    "\\end{bmatrix}\\\\\n",
    "&= \\begin{bmatrix}\n",
    "a_{00} & a_{01} & b_0 \\\\\n",
    "a_{10} & a_{11} & b_1\n",
    "\\end{bmatrix} \n",
    "\\end{aligned}\n",
    "$$\n"
   ]
  },
  {
   "cell_type": "markdown",
   "metadata": {
    "slideshow": {
     "slide_type": "fragment"
    }
   },
   "source": [
    "`numpy` provides functions to create block matrices:"
   ]
  },
  {
   "cell_type": "code",
   "execution_count": 144,
   "metadata": {
    "ExecuteTime": {
     "end_time": "2020-11-16T02:50:35.517198Z",
     "start_time": "2020-11-16T02:50:35.501134Z"
    },
    "slideshow": {
     "slide_type": "-"
    }
   },
   "outputs": [
    {
     "name": "stdout",
     "output_type": "stream",
     "text": [
      "[[2. 2.]\n",
      " [0. 2.]]\n",
      "[1. 1.]\n",
      "[[1.]\n",
      " [1.]]\n",
      "[[2. 2. 1.]\n",
      " [0. 2. 1.]]\n"
     ]
    }
   ],
   "source": [
    "np.block?\n",
    "C = np.block([A,b.reshape(-1,1)])  # reshape to ensure same ndim\n",
    "#b.reshape(-1,1) because we don't know the size of the first dimention, we want the system to calculate automatically for us\n",
    "print(A)\n",
    "print(b)\n",
    "print(b.reshape(-1,1))           \n",
    "print(C)"
   ]
  },
  {
   "cell_type": "markdown",
   "metadata": {
    "slideshow": {
     "slide_type": "fragment"
    }
   },
   "source": [
    "To stack an array along different axes:\n",
    "   * hstack(): Stacks arrays in sequence horizontally (column wise)[more information](https://www.w3resource.com/numpy/manipulation/hstack.php)\n",
    "   * vstack(): Stacks arrays in sequence vertically (row wise) [more information](https://www.w3resource.com/numpy/manipulation/vstack.php)\n",
    "   * concatenate(): returns an ndarray of the provided type that satisfies requirements. [more information](https://www.w3resource.com/numpy/manipulation/concatenate.php)\n",
    "   * stack(): used to join a sequence of arrays along a new axis.\n",
    "      * it will create a new axis, so it will change the shape of original arrays.\n",
    "      * [more information](https://www.w3resource.com/numpy/manipulation/stack.php)"
   ]
  },
  {
   "cell_type": "code",
   "execution_count": 116,
   "metadata": {
    "ExecuteTime": {
     "end_time": "2020-11-15T17:18:51.517772Z",
     "start_time": "2020-11-15T17:18:51.447749Z"
    }
   },
   "outputs": [
    {
     "name": "stdout",
     "output_type": "stream",
     "text": [
      "x:\n",
      "[1 2 3]\n",
      "y:\n",
      "[4 5 6]\n",
      "Vertical stack:\n",
      "[[1 2 3]\n",
      " [4 5 6]]\n",
      "(2, 3)\n",
      "Horizontal stack:\n",
      "[1 2 3 4 5 6]\n",
      "(6,)\n",
      "Concatenate:\n",
      "[1 2 3 4 5 6]\n",
      "Stack, axis=0:\n",
      "[[1 2 3]\n",
      " [4 5 6]]\n",
      "(2, 3)\n",
      "stack, axis=1:\n",
      "[[1 4]\n",
      " [2 5]\n",
      " [3 6]]\n",
      "(3, 2)\n"
     ]
    }
   ],
   "source": [
    "x=np.array([1,2,3])\n",
    "y=np.array([4,5,6])\n",
    "print('x:')\n",
    "print(x)\n",
    "print('y:')\n",
    "print(y)\n",
    "\n",
    "print('Vertical stack:')\n",
    "z=np.vstack((x,y))\n",
    "print(z)\n",
    "print(z.shape)\n",
    "\n",
    "print('Horizontal stack:')\n",
    "z=np.hstack((x,y))\n",
    "print(z)\n",
    "print(z.shape)\n",
    "\n",
    "print('Concatenate:')\n",
    "z=np.concatenate((x,y))\n",
    "print(z)\n",
    "\n",
    "\n",
    "print('Stack, axis=0:')\n",
    "z=np.stack((x,y),axis=0)\n",
    "print(z)\n",
    "print(z.shape)\n",
    "\n",
    "print('stack, axis=1:')\n",
    "z=np.stack((x,y),axis=1)\n",
    "print(z)\n",
    "print(z.shape)"
   ]
  },
  {
   "cell_type": "code",
   "execution_count": 58,
   "metadata": {
    "ExecuteTime": {
     "end_time": "2020-11-15T15:12:26.583674Z",
     "start_time": "2020-11-15T15:12:26.573189Z"
    },
    "slideshow": {
     "slide_type": "-"
    }
   },
   "outputs": [
    {
     "name": "stdout",
     "output_type": "stream",
     "text": [
      "[[[0 1 2]\n",
      "  [3 4 5]]] \n",
      "shape: (1, 2, 3)\n",
      "[[[0 1 2]\n",
      "  [3 4 5]\n",
      "  [0 1 2]\n",
      "  [3 4 5]]] \n",
      "shape: (1, 4, 3)\n",
      "[[[0 1 2]\n",
      "  [3 4 5]]\n",
      "\n",
      " [[0 1 2]\n",
      "  [3 4 5]]] \n",
      "shape: (2, 2, 3)\n",
      "[[[0 1 2 0 1 2]\n",
      "  [3 4 5 3 4 5]]] \n",
      "shape: (1, 2, 6)\n",
      "[[[[0 1 2]\n",
      "   [3 4 5]]]\n",
      "\n",
      "\n",
      " [[[0 1 2]\n",
      "   [3 4 5]]]] \n",
      "shape: (2, 1, 2, 3)\n"
     ]
    }
   ],
   "source": [
    "#this is another example showing how to use hstack(), vstack(), concatenate() and stack()\n",
    "array = np.arange(1*2*3).reshape(1,2,3)\n",
    "for concat_array in [array,\n",
    "                     np.hstack((array,array)),   # stack along the first axis\n",
    "                     np.vstack((array,array)),                  # second axis\n",
    "                     np.concatenate((array,array), axis=-1),    # last axis\n",
    "                     np.stack((array,array), axis=0)]:          # new axis\n",
    "    print(concat_array, '\\nshape:', concat_array.shape)"
   ]
  },
  {
   "cell_type": "markdown",
   "metadata": {
    "slideshow": {
     "slide_type": "subslide"
    }
   },
   "source": [
    "**How to perform arithmetic operations on a `numpy` array?**"
   ]
  },
  {
   "cell_type": "markdown",
   "metadata": {
    "slideshow": {
     "slide_type": "fragment"
    }
   },
   "source": [
    "To divide all the coefficients by $2$, we can simply write:"
   ]
  },
  {
   "cell_type": "code",
   "execution_count": 145,
   "metadata": {
    "ExecuteTime": {
     "end_time": "2020-11-16T02:54:50.249785Z",
     "start_time": "2020-11-16T02:54:50.242435Z"
    },
    "slideshow": {
     "slide_type": "-"
    }
   },
   "outputs": [
    {
     "data": {
      "text/plain": [
       "array([[1. , 1. , 0.5],\n",
       "       [0. , 1. , 0.5]])"
      ]
     },
     "execution_count": 145,
     "metadata": {},
     "output_type": "execute_result"
    }
   ],
   "source": [
    "D = C / 2\n",
    "D"
   ]
  },
  {
   "cell_type": "markdown",
   "metadata": {
    "slideshow": {
     "slide_type": "fragment"
    }
   },
   "source": [
    "Note that the above does not work for `list`."
   ]
  },
  {
   "cell_type": "code",
   "execution_count": 69,
   "metadata": {
    "ExecuteTime": {
     "end_time": "2020-11-15T15:59:30.597236Z",
     "start_time": "2020-11-15T15:59:30.585162Z"
    },
    "slideshow": {
     "slide_type": "-"
    }
   },
   "outputs": [
    {
     "ename": "TypeError",
     "evalue": "unsupported operand type(s) for /: 'list' and 'int'",
     "output_type": "error",
     "traceback": [
      "\u001b[0;31m---------------------------------------------------------------------------\u001b[0m",
      "\u001b[0;31mTypeError\u001b[0m                                 Traceback (most recent call last)",
      "\u001b[0;32m<ipython-input-69-7f30faff9f2c>\u001b[0m in \u001b[0;36m<module>\u001b[0;34m\u001b[0m\n\u001b[0;32m----> 1\u001b[0;31m \u001b[0mC\u001b[0m\u001b[0;34m.\u001b[0m\u001b[0mtolist\u001b[0m\u001b[0;34m(\u001b[0m\u001b[0;34m)\u001b[0m \u001b[0;34m/\u001b[0m \u001b[0;36m2\u001b[0m \u001b[0;31m# deep convert to list\u001b[0m\u001b[0;34m\u001b[0m\u001b[0;34m\u001b[0m\u001b[0m\n\u001b[0m",
      "\u001b[0;31mTypeError\u001b[0m: unsupported operand type(s) for /: 'list' and 'int'"
     ]
    }
   ],
   "source": [
    "C.tolist() / 2 # deep convert to list"
   ]
  },
  {
   "cell_type": "markdown",
   "metadata": {
    "slideshow": {
     "slide_type": "subslide"
    }
   },
   "source": [
    "Arithmetic operations on `numpy` arrays apply if the arrays have compatible dimensions. Two dimensions are compatible when\n",
    "- they are equal, except for\n",
    "- components equal to 1."
   ]
  },
  {
   "cell_type": "markdown",
   "metadata": {
    "slideshow": {
     "slide_type": "fragment"
    }
   },
   "source": [
    "**Broadcasting**\n",
    "\n",
    "* Arithmetic operations on arrays are usually done on corresponding elements. \n",
    "   * If two arrays are of exactly the same shape, it's ok\n",
    "   * what happens if the shape of two arrays are different?\n",
    "* The term *broadcasting* describes how Numpy treats arrays with different shapes during arithmetic operations\n",
    "* The following program shows an example of broadcasting"
   ]
  },
  {
   "cell_type": "code",
   "execution_count": 71,
   "metadata": {
    "ExecuteTime": {
     "end_time": "2020-11-15T16:05:35.318684Z",
     "start_time": "2020-11-15T16:05:35.306990Z"
    }
   },
   "outputs": [
    {
     "name": "stdout",
     "output_type": "stream",
     "text": [
      "First array:\n",
      "[[ 0.  0.  0.]\n",
      " [10. 10. 10.]\n",
      " [20. 20. 20.]\n",
      " [30. 30. 30.]]\n",
      "\n",
      "\n",
      "Second array:\n",
      "[1. 2. 3.]\n",
      "\n",
      "\n",
      "First Array + Second Array\n",
      "[[ 1.  2.  3.]\n",
      " [11. 12. 13.]\n",
      " [21. 22. 23.]\n",
      " [31. 32. 33.]]\n"
     ]
    }
   ],
   "source": [
    "a = np.array([[ 0.0, 0.0, 0.0],[10.0,10.0,10.0],\n",
    "[20.0,20.0,20.0],[30.0,30.0,30.0]])\n",
    "b = np.array([1.0,2.0,3.0])\n",
    "print('First array:')\n",
    "print(a)\n",
    "print('\\n')\n",
    "print('Second array:')\n",
    "print(b)\n",
    "print('\\n')\n",
    "print('First Array + Second Array')\n",
    "print(a+b)"
   ]
  },
  {
   "cell_type": "markdown",
   "metadata": {
    "ExecuteTime": {
     "end_time": "2020-11-15T16:05:56.741417Z",
     "start_time": "2020-11-15T16:05:56.732462Z"
    }
   },
   "source": [
    "`numpy` uses [broadcasting rules](https://numpy.org/doc/stable/user/basics.broadcasting.html#general-broadcasting-rules) to stretch the axis of size 1 up to match the corresponding axis in other arrays.  \n",
    "`C / 2` is a example where the second operand $2$ is broadcasted to a $2$-by-$2$ matrix before the elementwise division. Another example is follows. "
   ]
  },
  {
   "cell_type": "code",
   "execution_count": 70,
   "metadata": {
    "ExecuteTime": {
     "end_time": "2020-11-15T16:01:02.609197Z",
     "start_time": "2020-11-15T16:01:02.604782Z"
    },
    "slideshow": {
     "slide_type": "-"
    }
   },
   "outputs": [
    {
     "name": "stdout",
     "output_type": "stream",
     "text": [
      "\n",
      "[[0]\n",
      " [1]\n",
      " [2]]\n",
      "*\n",
      "[[0 1 2 3]]\n",
      "==\n",
      "[[0 0 0 0]\n",
      " [0 1 2 3]\n",
      " [0 2 4 6]]\n",
      "\n"
     ]
    }
   ],
   "source": [
    "three_by_one = np.arange(3).reshape(3,1)\n",
    "one_by_four = np.arange(4).reshape(1,4)\n",
    "print(f'''\n",
    "{three_by_one}\n",
    "*\n",
    "{one_by_four}\n",
    "==\n",
    "{three_by_one * one_by_four}\n",
    "''')"
   ]
  },
  {
   "cell_type": "markdown",
   "metadata": {
    "slideshow": {
     "slide_type": "subslide"
    }
   },
   "source": [
    "Next, we introduce array indexing\n",
    "\n",
    "e.g., to subtract the second row of the coefficients from the first row:"
   ]
  },
  {
   "cell_type": "code",
   "execution_count": 180,
   "metadata": {
    "ExecuteTime": {
     "end_time": "2020-11-16T05:44:13.658187Z",
     "start_time": "2020-11-16T05:44:13.643723Z"
    },
    "slideshow": {
     "slide_type": "-"
    }
   },
   "outputs": [
    {
     "ename": "NameError",
     "evalue": "name 'D' is not defined",
     "output_type": "error",
     "traceback": [
      "\u001b[0;31m---------------------------------------------------------------------------\u001b[0m",
      "\u001b[0;31mNameError\u001b[0m                                 Traceback (most recent call last)",
      "\u001b[0;32m<ipython-input-180-7fdf589e3588>\u001b[0m in \u001b[0;36m<module>\u001b[0;34m\u001b[0m\n\u001b[0;32m----> 1\u001b[0;31m \u001b[0mD\u001b[0m\u001b[0;34m[\u001b[0m\u001b[0;36m0\u001b[0m\u001b[0;34m,\u001b[0m\u001b[0;34m:\u001b[0m\u001b[0;34m]\u001b[0m \u001b[0;34m=\u001b[0m \u001b[0mD\u001b[0m\u001b[0;34m[\u001b[0m\u001b[0;36m0\u001b[0m\u001b[0;34m,\u001b[0m\u001b[0;34m:\u001b[0m\u001b[0;34m]\u001b[0m \u001b[0;34m-\u001b[0m \u001b[0mD\u001b[0m\u001b[0;34m[\u001b[0m\u001b[0;36m1\u001b[0m\u001b[0;34m,\u001b[0m\u001b[0;34m:\u001b[0m\u001b[0;34m]\u001b[0m\u001b[0;34m\u001b[0m\u001b[0;34m\u001b[0m\u001b[0m\n\u001b[0m\u001b[1;32m      2\u001b[0m \u001b[0mD\u001b[0m\u001b[0;34m\u001b[0m\u001b[0;34m\u001b[0m\u001b[0m\n",
      "\u001b[0;31mNameError\u001b[0m: name 'D' is not defined"
     ]
    }
   ],
   "source": [
    "D[0,:] = D[0,:] - D[1,:]\n",
    "D"
   ]
  },
  {
   "cell_type": "markdown",
   "metadata": {
    "slideshow": {
     "slide_type": "fragment"
    }
   },
   "source": [
    "Notice the use of commas to index different dimensions instead of using multiple brackets:"
   ]
  },
  {
   "cell_type": "code",
   "execution_count": 179,
   "metadata": {
    "ExecuteTime": {
     "end_time": "2020-11-16T05:44:09.920056Z",
     "start_time": "2020-11-16T05:44:09.904611Z"
    },
    "slideshow": {
     "slide_type": "-"
    }
   },
   "outputs": [
    {
     "ename": "NameError",
     "evalue": "name 'D' is not defined",
     "output_type": "error",
     "traceback": [
      "\u001b[0;31m---------------------------------------------------------------------------\u001b[0m",
      "\u001b[0;31mNameError\u001b[0m                                 Traceback (most recent call last)",
      "\u001b[0;32m<ipython-input-179-246abfd93926>\u001b[0m in \u001b[0;36m<module>\u001b[0;34m\u001b[0m\n\u001b[0;32m----> 1\u001b[0;31m \u001b[0;32massert\u001b[0m \u001b[0;34m(\u001b[0m\u001b[0mD\u001b[0m\u001b[0;34m[\u001b[0m\u001b[0;36m0\u001b[0m\u001b[0;34m]\u001b[0m\u001b[0;34m[\u001b[0m\u001b[0;34m:\u001b[0m\u001b[0;34m]\u001b[0m \u001b[0;34m==\u001b[0m \u001b[0mD\u001b[0m\u001b[0;34m[\u001b[0m\u001b[0;36m0\u001b[0m\u001b[0;34m,\u001b[0m\u001b[0;34m:\u001b[0m\u001b[0;34m]\u001b[0m\u001b[0;34m)\u001b[0m\u001b[0;34m.\u001b[0m\u001b[0mall\u001b[0m\u001b[0;34m(\u001b[0m\u001b[0;34m)\u001b[0m\u001b[0;34m\u001b[0m\u001b[0;34m\u001b[0m\u001b[0m\n\u001b[0m\u001b[1;32m      2\u001b[0m \u001b[0;34m\u001b[0m\u001b[0m\n\u001b[1;32m      3\u001b[0m \u001b[0;31m#they're equivalent\u001b[0m\u001b[0;34m\u001b[0m\u001b[0;34m\u001b[0m\u001b[0;34m\u001b[0m\u001b[0m\n\u001b[1;32m      4\u001b[0m \u001b[0mprint\u001b[0m\u001b[0;34m(\u001b[0m\u001b[0mD\u001b[0m\u001b[0;34m[\u001b[0m\u001b[0;36m0\u001b[0m\u001b[0;34m]\u001b[0m\u001b[0;34m[\u001b[0m\u001b[0;34m:\u001b[0m\u001b[0;34m]\u001b[0m\u001b[0;34m)\u001b[0m\u001b[0;34m\u001b[0m\u001b[0;34m\u001b[0m\u001b[0m\n\u001b[1;32m      5\u001b[0m \u001b[0mprint\u001b[0m\u001b[0;34m(\u001b[0m\u001b[0mD\u001b[0m\u001b[0;34m[\u001b[0m\u001b[0;36m0\u001b[0m\u001b[0;34m,\u001b[0m\u001b[0;34m:\u001b[0m\u001b[0;34m]\u001b[0m\u001b[0;34m)\u001b[0m\u001b[0;34m\u001b[0m\u001b[0;34m\u001b[0m\u001b[0m\n",
      "\u001b[0;31mNameError\u001b[0m: name 'D' is not defined"
     ]
    }
   ],
   "source": [
    "assert (D[0][:] == D[0,:]).all()\n",
    "\n",
    "#they're equivalent\n",
    "print(D[0][:])\n",
    "print(D[0,:])"
   ]
  },
  {
   "cell_type": "markdown",
   "metadata": {
    "slideshow": {
     "slide_type": "subslide"
    }
   },
   "source": [
    "Using this indexing technique, it is easy extract the last column as the solution to the system of linear equations:"
   ]
  },
  {
   "cell_type": "code",
   "execution_count": 178,
   "metadata": {
    "ExecuteTime": {
     "end_time": "2020-11-16T05:44:04.378051Z",
     "start_time": "2020-11-16T05:44:04.368681Z"
    },
    "slideshow": {
     "slide_type": "-"
    }
   },
   "outputs": [
    {
     "ename": "NameError",
     "evalue": "name 'D' is not defined",
     "output_type": "error",
     "traceback": [
      "\u001b[0;31m---------------------------------------------------------------------------\u001b[0m",
      "\u001b[0;31mNameError\u001b[0m                                 Traceback (most recent call last)",
      "\u001b[0;32m<ipython-input-178-e069a79e21f1>\u001b[0m in \u001b[0;36m<module>\u001b[0;34m\u001b[0m\n\u001b[0;32m----> 1\u001b[0;31m \u001b[0mprint\u001b[0m\u001b[0;34m(\u001b[0m\u001b[0mD\u001b[0m\u001b[0;34m)\u001b[0m\u001b[0;34m\u001b[0m\u001b[0;34m\u001b[0m\u001b[0m\n\u001b[0m\u001b[1;32m      2\u001b[0m \u001b[0mx\u001b[0m \u001b[0;34m=\u001b[0m \u001b[0mD\u001b[0m\u001b[0;34m[\u001b[0m\u001b[0;34m:\u001b[0m\u001b[0;34m,\u001b[0m\u001b[0;34m-\u001b[0m\u001b[0;36m1\u001b[0m\u001b[0;34m]\u001b[0m\u001b[0;34m\u001b[0m\u001b[0;34m\u001b[0m\u001b[0m\n\u001b[1;32m      3\u001b[0m \u001b[0mprint\u001b[0m\u001b[0;34m(\u001b[0m\u001b[0mx\u001b[0m\u001b[0;34m)\u001b[0m\u001b[0;34m\u001b[0m\u001b[0;34m\u001b[0m\u001b[0m\n",
      "\u001b[0;31mNameError\u001b[0m: name 'D' is not defined"
     ]
    }
   ],
   "source": [
    "print(D)\n",
    "x = D[:,-1]\n",
    "print(x)"
   ]
  },
  {
   "cell_type": "markdown",
   "metadata": {
    "slideshow": {
     "slide_type": "fragment"
    }
   },
   "source": [
    "This gives the desired solution $x_0=0$ and $x_1=0.5$ for\n",
    "$$ \\begin{aligned}\n",
    "2x_0 + 2x_1 &= 1\\\\\n",
    "\\hphantom{2x_0 +}  2x_1 &= 1\\\\\n",
    "\\end{aligned}$$"
   ]
  },
  {
   "cell_type": "markdown",
   "metadata": {
    "slideshow": {
     "slide_type": "subslide"
    }
   },
   "source": [
    "`numpy` provides many [convenient ways](https://numpy.org/doc/stable/reference/arrays.indexing.html#advanced-indexing) to index an array."
   ]
  },
  {
   "cell_type": "code",
   "execution_count": 148,
   "metadata": {
    "ExecuteTime": {
     "end_time": "2020-11-16T02:59:44.906568Z",
     "start_time": "2020-11-16T02:59:44.897413Z"
    },
    "slideshow": {
     "slide_type": "-"
    }
   },
   "outputs": [
    {
     "data": {
      "text/plain": [
       "(array([[0, 1, 2],\n",
       "        [3, 4, 5]]),\n",
       " array([2, 3]))"
      ]
     },
     "execution_count": 148,
     "metadata": {},
     "output_type": "execute_result"
    }
   ],
   "source": [
    "B = np.arange(2*3).reshape(2,3)\n",
    "B, B[(0,1),(2,0)]  # selecting the corners using integer array"
   ]
  },
  {
   "cell_type": "code",
   "execution_count": 169,
   "metadata": {
    "ExecuteTime": {
     "end_time": "2020-11-16T03:30:21.028131Z",
     "start_time": "2020-11-16T03:30:21.018480Z"
    },
    "slideshow": {
     "slide_type": "-"
    }
   },
   "outputs": [
    {
     "data": {
      "text/plain": [
       "(array([[[1, 4, 7],\n",
       "         [2, 9, 7],\n",
       "         [1, 3, 0],\n",
       "         [9, 6, 9]],\n",
       " \n",
       "        [[2, 3, 4],\n",
       "         [3, 4, 5],\n",
       "         [0, 1, 2],\n",
       "         [6, 7, 8]]]),\n",
       " array([[1, 4, 7],\n",
       "        [2, 9, 7],\n",
       "        [1, 3, 0],\n",
       "        [9, 6, 9]]),\n",
       " array([[2, 9, 7],\n",
       "        [1, 3, 0]]),\n",
       " array([7, 0]),\n",
       " array([[7, 0],\n",
       "        [5, 2]]))"
      ]
     },
     "execution_count": 169,
     "metadata": {},
     "output_type": "execute_result"
    }
   ],
   "source": [
    "#B = np.arange(2*3*4).reshape(2,3,4)\n",
    "B=np.array([[[1,4,7],[2,9,7],[1,3,0],[9,6,9]],[[2,3,4],[3,4,5],[0,1,2],[6,7,8]]])\n",
    "B, B[0], B[0,(1,2)], B[0,(1,2),(2,2)], B[:,(1,2),(2,2)]  # pay attention to the last two cases\n",
    "#B[0,(1,2),(2,2)] will operate on the first dimention (axis 0)\n",
    "#B[:,(1,2),(2,2)] will operate on all the dimentions (2 in this example)"
   ]
  },
  {
   "cell_type": "markdown",
   "metadata": {},
   "source": [
    "The ellipsis ... (three dots) indicates \"as many ':' as needed\"."
   ]
  },
  {
   "cell_type": "code",
   "execution_count": 153,
   "metadata": {
    "ExecuteTime": {
     "end_time": "2020-11-16T03:02:38.812768Z",
     "start_time": "2020-11-16T03:02:38.802579Z"
    },
    "slideshow": {
     "slide_type": "-"
    }
   },
   "outputs": [
    {
     "name": "stdout",
     "output_type": "stream",
     "text": [
      "[[1 2 3]\n",
      " [4 5 6]\n",
      " [7 8 9]]\n"
     ]
    },
    {
     "data": {
      "text/plain": [
       "array([2, 5, 8])"
      ]
     },
     "execution_count": 153,
     "metadata": {},
     "output_type": "execute_result"
    }
   ],
   "source": [
    "x=np.array([[1, 2, 3], [4, 5, 6], [7,8,9]])\n",
    "print(x)\n",
    "#x[...,1] is equivalent to x[:,1]\n",
    "x[...,1]  # ... expands to selecting all elements of all previous dimensions"
   ]
  },
  {
   "cell_type": "code",
   "execution_count": 183,
   "metadata": {
    "ExecuteTime": {
     "end_time": "2020-11-16T05:53:22.299699Z",
     "start_time": "2020-11-16T05:53:22.290229Z"
    },
    "slideshow": {
     "slide_type": "-"
    }
   },
   "outputs": [
    {
     "data": {
      "text/plain": [
       "array([6, 7])"
      ]
     },
     "execution_count": 183,
     "metadata": {},
     "output_type": "execute_result"
    }
   ],
   "source": [
    "import numpy as np\n",
    "x=np.array([1, 2, 3, 4, 5, 6, 7])\n",
    "x[x>5]  # indexing using boolean array"
   ]
  },
  {
   "cell_type": "markdown",
   "metadata": {
    "slideshow": {
     "slide_type": "subslide"
    }
   },
   "source": [
    "Finally, the following function solves a system of 2 linear equations with 2 variables."
   ]
  },
  {
   "cell_type": "code",
   "execution_count": 184,
   "metadata": {
    "ExecuteTime": {
     "end_time": "2020-11-16T05:54:43.944333Z",
     "start_time": "2020-11-16T05:54:43.932461Z"
    },
    "slideshow": {
     "slide_type": "-"
    }
   },
   "outputs": [],
   "source": [
    "def solve_2_by_2_system(A,b):\n",
    "    '''Returns the unique solution of the linear system, if exists, \n",
    "    else returns None.'''\n",
    "    C = np.hstack((A,b.reshape(-1,1)))\n",
    "    if C[0,0] == 0: C = C[(1,0),:]\n",
    "    if C[0,0] == 0: return None\n",
    "    C[0,:] = C[0,:] / C[0,0]\n",
    "    C[1,:] = C[1,:] - C[0,:] * C[1,0]\n",
    "    if C[1,1] == 0: return None\n",
    "    C[1,:] = C[1,:] / C[1,1]\n",
    "    C[0,:] = C[0,:] - C[1,:] * C[0,1]\n",
    "    return C[:,-1]"
   ]
  },
  {
   "cell_type": "code",
   "execution_count": 155,
   "metadata": {
    "ExecuteTime": {
     "end_time": "2020-11-16T03:05:12.255130Z",
     "start_time": "2020-11-16T03:05:12.243201Z"
    },
    "slideshow": {
     "slide_type": "-"
    }
   },
   "outputs": [
    {
     "name": "stdout",
     "output_type": "stream",
     "text": [
      "A=[[1. 0.]\n",
      " [0. 1.]]\n",
      "b=[1. 1.]\n",
      "x=[1. 1.]\n",
      "\n",
      "A=[[1. 1.]\n",
      " [1. 1.]]\n",
      "b=[1. 1.]\n",
      "x=None\n",
      "\n",
      "A=[[1. 1.]\n",
      " [0. 0.]]\n",
      "b=[1. 1.]\n",
      "x=None\n",
      "\n",
      "A=[[1. 0.]\n",
      " [1. 0.]]\n",
      "b=[1. 1.]\n",
      "x=None\n",
      "\n"
     ]
    }
   ],
   "source": [
    "# tests\n",
    "for A in (np.eye(2),\n",
    "          np.ones((2,2)),\n",
    "          np.stack((np.ones(2),np.zeros(2))),\n",
    "          np.stack((np.ones(2),np.zeros(2)),axis=1)):\n",
    "    print(f'A={A}\\nb={b}\\nx={solve_2_by_2_system(A,b)}\\n')"
   ]
  },
  {
   "cell_type": "markdown",
   "metadata": {},
   "source": [
    "### Universal functions"
   ]
  },
  {
   "cell_type": "markdown",
   "metadata": {
    "ExecuteTime": {
     "end_time": "2020-11-15T16:29:30.903853Z",
     "start_time": "2020-11-15T16:29:30.898051Z"
    }
   },
   "source": [
    "A universal function (or *ufunc* for short) is a function that operates on ndarrays in an element-by-element fashion\n",
    "* NumPy provides familiar mathematical functions, such as\n",
    "   * *np.exp* : $e^x$, where $e=2.718281$ (also called Euler's number)\n",
    "   * *np.sqrt*\n",
    "   * *np.sin*\n",
    "   * *np.cos*\n",
    "* Within NumPy, these functions operate elementwise on an array, producing an array as output."
   ]
  },
  {
   "cell_type": "code",
   "execution_count": 87,
   "metadata": {
    "ExecuteTime": {
     "end_time": "2020-11-15T16:29:56.808103Z",
     "start_time": "2020-11-15T16:29:56.796249Z"
    }
   },
   "outputs": [
    {
     "name": "stdout",
     "output_type": "stream",
     "text": [
      "a:\n",
      "[[1 2 3]\n",
      " [4 5 6]]\n",
      "exp(a):\n",
      "[[  2.71828183   7.3890561   20.08553692]\n",
      " [ 54.59815003 148.4131591  403.42879349]]\n",
      "square root of a:\n",
      "[[1.         1.41421356 1.73205081]\n",
      " [2.         2.23606798 2.44948974]]\n",
      "sin(a):\n",
      "[[ 0.84147098  0.90929743  0.14112001]\n",
      " [-0.7568025  -0.95892427 -0.2794155 ]]\n",
      "cos(a):\n",
      "[[ 0.54030231 -0.41614684 -0.9899925 ]\n",
      " [-0.65364362  0.28366219  0.96017029]]\n"
     ]
    }
   ],
   "source": [
    "import numpy as np\n",
    "a = np.array([[1, 2, 3],[4,5,6]])\n",
    "print('a:')\n",
    "print(a)\n",
    "print('exp(a):')\n",
    "print(np.exp(a))\n",
    "print('square root of a:')\n",
    "print(np.sqrt(a))\n",
    "print('sin(a):')\n",
    "print(np.sin(a))\n",
    "print('cos(a):')\n",
    "print(np.cos(a))"
   ]
  },
  {
   "cell_type": "markdown",
   "metadata": {
    "slideshow": {
     "slide_type": "subslide"
    }
   },
   "source": [
    "Why does the first line of code below return two arrays but the second code return only one array? Shouldn't the first line of code return the following?\n",
    "```Python\n",
    "array([[(0,1), (0,2), (0,3)],\n",
    "       [(1,1), (1,2), (1,3)]])\n",
    "```"
   ]
  },
  {
   "cell_type": "code",
   "execution_count": 161,
   "metadata": {
    "ExecuteTime": {
     "end_time": "2020-11-16T03:15:51.938115Z",
     "start_time": "2020-11-16T03:15:51.926295Z"
    },
    "slideshow": {
     "slide_type": "-"
    }
   },
   "outputs": [
    {
     "name": "stdout",
     "output_type": "stream",
     "text": [
      "(array([[0, 0, 0],\n",
      "       [1, 1, 1]]), array([[0, 1, 2],\n",
      "       [0, 1, 2]]))\n",
      "[[0 0 0]\n",
      " [0 1 2]]\n",
      "(array([[0, 0, 0],\n",
      "       [1, 1, 1]]), array([[0, 1, 2],\n",
      "       [0, 1, 2],\n",
      "       [0, 1, 2]]))\n"
     ]
    }
   ],
   "source": [
    "print(np.fromfunction(lambda i,j:(i,j), (2,3), dtype=int))\n",
    "print(np.fromfunction(lambda i,j:(i*j), (2,3), dtype=int))\n",
    "\n",
    "\n",
    "#print(np.fromfunction(f1, (2,3), dtype=int))\n",
    "\n",
    "#lambda i,j:(i,j) is equivalent to the following function\n",
    "def f1(i,j):\n",
    "    return (i,j)  #it returns a tuple\n",
    "\n",
    "f1(array1,array2)\n",
    "#because the shape is (2,3), so i and j are:\n",
    "i=np.array([[0, 0 ,0],\n",
    "   [1, 1, 1]])\n",
    "j=np.array([[0, 1, 2],\n",
    "   [0, 1, 2],\n",
    "   [0, 1, 2]])\n",
    "\n",
    "#the function will use i and j (bot are arrays) as argument\n",
    "result1 = f1(i,j)\n",
    "print(result1)"
   ]
  },
  {
   "cell_type": "markdown",
   "metadata": {
    "slideshow": {
     "slide_type": "-"
    }
   },
   "source": [
    "From the documentation, `fromfunction` applies the given function to the two arrays as arguments.\n",
    "- The first line of code returns a tuple of the arrays.\n",
    "- The second line of code multiply the two arrays to give one array, according to how multiplication works for numpy arrays."
   ]
  },
  {
   "cell_type": "markdown",
   "metadata": {
    "slideshow": {
     "slide_type": "subslide"
    }
   },
   "source": [
    "Indeed, `numpy` implements [universal/vectorized functions/operators](https://numpy.org/doc/stable/reference/ufuncs.html) that takes arrays as arguments and perform operations with appropriate broadcasting rules. The following is an example that uses the universal function `np.sin`:"
   ]
  },
  {
   "cell_type": "code",
   "execution_count": 162,
   "metadata": {
    "ExecuteTime": {
     "end_time": "2020-11-16T03:16:10.786177Z",
     "start_time": "2020-11-16T03:16:10.581756Z"
    },
    "slideshow": {
     "slide_type": "-"
    }
   },
   "outputs": [
    {
     "data": {
      "application/vnd.jupyter.widget-view+json": {
       "model_id": "853f147f758e4800bd148f31cf80d9a7",
       "version_major": 2,
       "version_minor": 0
      },
      "text/plain": [
       "interactive(children=(IntSlider(value=1, description='a', max=5), FloatSlider(value=0.0, description='b', max=…"
      ]
     },
     "metadata": {},
     "output_type": "display_data"
    }
   ],
   "source": [
    "import matplotlib.pyplot as plt\n",
    "\n",
    "@widgets.interact(a=(0,5,1),b=(-1,1,0.1))\n",
    "def plot_sin(a=1,b=0):\n",
    "    x = np.linspace(0,2*math.pi)\n",
    "    plt.plot(x,np.sin(a*x+b*math.pi))  # np.sin, *, + are universal functions\n",
    "    plt.title(r'$\\sin(ax+b\\pi)$')\n",
    "    plt.xlabel(r'$x$ (radian)')"
   ]
  },
  {
   "cell_type": "markdown",
   "metadata": {
    "slideshow": {
     "slide_type": "subslide"
    }
   },
   "source": [
    "In addition to making the code shorter, universal functions are both efficient and flexible. (Recall the Monte Carlo simulation to approximate $\\pi$.)"
   ]
  },
  {
   "cell_type": "markdown",
   "metadata": {
    "slideshow": {
     "slide_type": "fragment"
    }
   },
   "source": [
    "**Exercise** Explain how the Monte Carlo simulation work using universal functions:\n",
    "```Python\n",
    "def np_approximate_pi(n):\n",
    "    in_circle = (np.random.random((n,2))**2).sum(axis=-1) < 1\n",
    "    mean = 4 * in_circle.mean()\n",
    "    std = 4 * in_circle.std() / n**0.5\n",
    "    return np.array([mean - 2*std, mean + 2*std])\n",
    "```"
   ]
  },
  {
   "cell_type": "markdown",
   "metadata": {
    "deletable": false,
    "nbgrader": {
     "checksum": "4593e0a5f4715a98778bf469557adae6",
     "grade": true,
     "grade_id": "universal",
     "locked": false,
     "points": 0,
     "schema_version": 3,
     "solution": true,
     "task": false
    }
   },
   "source": [
    "- `random.random` generates a numpy array for $n$ points in the unit square randomly.\n",
    "- `sum` sums up the element along the last axis to give the squared distance.\n",
    "- `<` returns the boolean array indicating whether each point is in the first quadrant of the inscribed circle.\n",
    "- `mean` and `std` returns the mean and standard deviation of the boolean array with True and False interpreted as 1 and 0 respectively."
   ]
  },
  {
   "cell_type": "code",
   "execution_count": 11,
   "metadata": {
    "ExecuteTime": {
     "end_time": "2020-12-17T00:40:20.417769Z",
     "start_time": "2020-12-17T00:40:20.366932Z"
    }
   },
   "outputs": [
    {
     "name": "stdout",
     "output_type": "stream",
     "text": [
      "2 3 5 7 11 13 17 19 23 29 31 37 41 43 47\n"
     ]
    }
   ],
   "source": [
    "def is_prime(n):\n",
    "    if n==2:\n",
    "        return True\n",
    "    if n<2 or n%2==0:\n",
    "        return False\n",
    "    factor=3\n",
    "    root=n**0.5\n",
    "    while factor<=root:\n",
    "        if n%factor==0:\n",
    "            return False\n",
    "        factor+=2\n",
    "    return True\n",
    "\n",
    "def prime_sequence(stop):\n",
    "    for i in range(stop+1):\n",
    "        if is_prime(i):\n",
    "            yield i\n",
    "            \n",
    "print(*prime_sequence(50))"
   ]
  },
  {
   "cell_type": "code",
   "execution_count": null,
   "metadata": {},
   "outputs": [],
   "source": [
    "2 3 5 7 11 13 17 19 23 29 31 37 41 43 47"
   ]
  }
 ],
 "metadata": {
  "celltoolbar": "Slideshow",
  "kernelspec": {
   "display_name": "Python 3",
   "language": "python",
   "name": "python3"
  },
  "language_info": {
   "codemirror_mode": {
    "name": "ipython",
    "version": 3
   },
   "file_extension": ".py",
   "mimetype": "text/x-python",
   "name": "python",
   "nbconvert_exporter": "python",
   "pygments_lexer": "ipython3",
   "version": "3.7.9"
  },
  "latex_envs": {
   "LaTeX_envs_menu_present": true,
   "autoclose": false,
   "autocomplete": true,
   "bibliofile": "biblio.bib",
   "cite_by": "apalike",
   "current_citInitial": 1,
   "eqLabelWithNumbers": true,
   "eqNumInitial": 1,
   "hotkeys": {
    "equation": "Ctrl-E",
    "itemize": "Ctrl-I"
   },
   "labels_anchors": false,
   "latex_user_defs": false,
   "report_style_numbering": false,
   "user_envs_cfg": false
  },
  "rise": {
   "enable_chalkboard": true,
   "scroll": true,
   "theme": "white"
  },
  "toc": {
   "base_numbering": 1,
   "nav_menu": {
    "height": "195px",
    "width": "330px"
   },
   "number_sections": true,
   "sideBar": true,
   "skip_h1_title": true,
   "title_cell": "Table of Contents",
   "title_sidebar": "Contents",
   "toc_cell": false,
   "toc_position": {
    "height": "454.418px",
    "left": "1533px",
    "top": "110.284px",
    "width": "261px"
   },
   "toc_section_display": true,
   "toc_window_display": false
  }
 },
 "nbformat": 4,
 "nbformat_minor": 4
}

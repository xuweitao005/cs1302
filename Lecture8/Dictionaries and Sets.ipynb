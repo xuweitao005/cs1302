{
 "cells": [
  {
   "cell_type": "markdown",
   "metadata": {
    "slideshow": {
     "slide_type": "slide"
    }
   },
   "source": [
    "# Dictionaries and Sets\n",
    "\n",
    "**CS1302 Introduction to Computer Programming**\n",
    "___"
   ]
  },
  {
   "cell_type": "code",
   "execution_count": 1,
   "metadata": {
    "ExecuteTime": {
     "end_time": "2021-03-28T13:37:43.335786Z",
     "start_time": "2021-03-28T13:37:42.726375Z"
    },
    "hide_input": false,
    "init_cell": true
   },
   "outputs": [],
   "source": [
    "# set up environment\n",
    "%reset -f\n",
    "import sys\n",
    "cs1302_site_packages = '/home/course/cs1302/site-packages'\n",
    "if cs1302_site_packages not in sys.path:\n",
    "    sys.path.append(cs1302_site_packages)\n",
    "%reload_ext mytutor\n",
    "import matplotlib.pyplot as pyplot"
   ]
  },
  {
   "cell_type": "markdown",
   "metadata": {
    "slideshow": {
     "slide_type": "slide"
    }
   },
   "source": [
    "## Motivation for Dictionaries and Sets"
   ]
  },
  {
   "cell_type": "markdown",
   "metadata": {},
   "source": [
    "Python Collections (Arrays)\n",
    "\n",
    "There are four collection data types in the Python programming language:\n",
    "\n",
    "- `List` is a collection which is ordered and changeable. Allows duplicate members.\n",
    "- `Tuple` is a collection which is ordered and unchangeable. Allows duplicate members.\n",
    "- `Set` is a collection which is unordered and unindexed. No duplicate members.\n",
    "- `Dictionary` is a collection which is unordered, changeable and indexed. No duplicate members.\n",
    "\n",
    "In this lecture, we will talk about `Set` and `Dictionary`"
   ]
  },
  {
   "cell_type": "markdown",
   "metadata": {
    "slideshow": {
     "slide_type": "fragment"
    }
   },
   "source": [
    "The following code simulates the outcomes from rolling a dice multiple times."
   ]
  },
  {
   "cell_type": "code",
   "execution_count": 2,
   "metadata": {
    "ExecuteTime": {
     "end_time": "2021-03-28T03:20:10.794872Z",
     "start_time": "2021-03-28T03:20:10.761062Z"
    },
    "slideshow": {
     "slide_type": "-"
    }
   },
   "outputs": [
    {
     "name": "stdout",
     "output_type": "stream",
     "text": [
      "1 5 3 5 1 2 4 2 5 3\n",
      "[1, 5, 3, 5, 1, 2, 4, 2, 5, 3]\n"
     ]
    }
   ],
   "source": [
    "import random\n",
    "\n",
    "dice_rolls = [random.randint(1,6) for i in range(10)]\n",
    "print(*dice_rolls)\n",
    "print(dice_rolls) #pls note the difference of print(*dice_rolls) and print(dice_rolls)"
   ]
  },
  {
   "cell_type": "markdown",
   "metadata": {
    "slideshow": {
     "slide_type": "fragment"
    }
   },
   "source": [
    "**What is the distribution, i.e., fractional counts?**"
   ]
  },
  {
   "cell_type": "code",
   "execution_count": 3,
   "metadata": {
    "ExecuteTime": {
     "end_time": "2021-03-28T03:20:26.654492Z",
     "start_time": "2021-03-28T03:20:26.420837Z"
    },
    "slideshow": {
     "slide_type": "-"
    }
   },
   "outputs": [
    {
     "data": {
      "text/plain": [
       "(0.0, 1.0)"
      ]
     },
     "execution_count": 3,
     "metadata": {},
     "output_type": "execute_result"
    },
    {
     "data": {
      "image/png": "[encoded data removed]",
      "text/plain": [
       "<Figure size 432x288 with 1 Axes>"
      ]
     },
     "metadata": {
      "needs_background": "light"
     },
     "output_type": "display_data"
    }
   ],
   "source": [
    "distribution = [dice_rolls.count(i) / len(dice_rolls) for i in range(7)]\n",
    "\n",
    "import matplotlib.pyplot as plt\n",
    "plt.stem(range(7), distribution, use_line_collection=True)\n",
    "plt.xlabel('Outcomes')\n",
    "plt.title('Distribution')\n",
    "plt.ylim(0, 1)"
   ]
  },
  {
   "cell_type": "markdown",
   "metadata": {
    "slideshow": {
     "slide_type": "fragment"
    }
   },
   "source": [
    "In the above code, `distribution[i]` stores the fractional count of outcome `i`."
   ]
  },
  {
   "cell_type": "markdown",
   "metadata": {
    "slideshow": {
     "slide_type": "fragment"
    }
   },
   "source": [
    "However, `distribution[0]` is `0` because a dice does not have outcome `0`. Can we avoid such redundancy?"
   ]
  },
  {
   "cell_type": "code",
   "execution_count": 4,
   "metadata": {
    "ExecuteTime": {
     "end_time": "2021-03-28T03:21:18.262512Z",
     "start_time": "2021-03-28T03:21:18.091279Z"
    },
    "slideshow": {
     "slide_type": "-"
    }
   },
   "outputs": [
    {
     "name": "stdout",
     "output_type": "stream",
     "text": [
      "[1, 2, 3, 4, 5]\n",
      "[0.2, 0.2, 0.2, 0.1, 0.3]\n"
     ]
    },
    {
     "data": {
      "text/plain": [
       "(0.0, 1.0)"
      ]
     },
     "execution_count": 4,
     "metadata": {},
     "output_type": "execute_result"
    },
    {
     "data": {
      "image/png": "[encoded data removed]",
      "text/plain": [
       "<Figure size 432x288 with 1 Axes>"
      ]
     },
     "metadata": {
      "needs_background": "light"
     },
     "output_type": "display_data"
    }
   ],
   "source": [
    "distinct_outcomes = [ outcome for outcome in range(1, 7) if dice_rolls.count(outcome) > 0]\n",
    "distribution = [ dice_rolls.count(distinct_outcomes[i]) / len(dice_rolls) for i in range(len(distinct_outcomes)) ]\n",
    "print(distinct_outcomes)\n",
    "print(distribution)\n",
    "\n",
    "import matplotlib.pyplot as plt\n",
    "plt.stem(distinct_outcomes, distribution, use_line_collection=True)\n",
    "plt.xlabel('Outcomes')\n",
    "plt.title('Distribution')\n",
    "plt.ylim(0, 1)"
   ]
  },
  {
   "cell_type": "markdown",
   "metadata": {
    "slideshow": {
     "slide_type": "fragment"
    }
   },
   "source": [
    "In the above code, \n",
    "- `distinct_outcomes` stores the list of distinct outcomes, and\n",
    "- `distribution[distinct_outcomes[i]]` stores the fractional count of the `i`-th distinct outcome."
   ]
  },
  {
   "cell_type": "markdown",
   "metadata": {
    "slideshow": {
     "slide_type": "subslide"
    }
   },
   "source": [
    "What about finding the distribution of characters in an article?  \n",
    "There are 1,112,064 unicode characters. \n",
    "- How to obtain the distribution efficiently without creating an entry for each unicode character?\n",
    "- How to compute the set of distinct characters efficiently without iterating over the set of all unicode characters?\n",
    "- Can we index `distribution` directly by the set of distinct characters?"
   ]
  },
  {
   "cell_type": "markdown",
   "metadata": {
    "slideshow": {
     "slide_type": "fragment"
    }
   },
   "source": [
    "What we need is a composite data type that\n",
    "- can keep a set of *unique keys of different types* (such as the characters in our example), and\n",
    "- associate to different keys possibly different *values of any types* (such as the fractional counts of the characters)."
   ]
  },
  {
   "cell_type": "markdown",
   "metadata": {
    "slideshow": {
     "slide_type": "fragment"
    }
   },
   "source": [
    "There are two built-in data types for this purpose:\n",
    "- `set` can store a set of unique keys of possibly different types.\n",
    "- `dictionary` can store a set of key-value pairs."
   ]
  },
  {
   "cell_type": "markdown",
   "metadata": {
    "slideshow": {
     "slide_type": "fragment"
    }
   },
   "source": [
    "We have already used sets and dictionaries before."
   ]
  },
  {
   "cell_type": "code",
   "execution_count": 5,
   "metadata": {
    "ExecuteTime": {
     "end_time": "2021-03-28T03:23:47.294860Z",
     "start_time": "2021-03-28T03:23:47.255460Z"
    },
    "slideshow": {
     "slide_type": "-"
    }
   },
   "outputs": [
    {
     "data": {
      "text/html": [
       "\n",
       "        <iframe\n",
       "            width=\"1100\"\n",
       "            height=\"300\"\n",
       "            src=\"https://e-quiz.cs.cityu.edu.hk/opt/cs1302visualize.html#mode=display&code=%23a%20very%20simple%20example%20of%20dictionary%20and%20set%0A%23the%20following%20dictionary%20stores%203%20pairs%20of%20%22name%22%3A%20height%0Adict%20%3D%20%7B%27Alice%27%3A%20170%2C%20%27Beth%27%3A%20175%2C%20%27Cecil%27%3A%20168%7D%20%0As%3Dset%28%5B1%2C1%2C2%2C2%2C3%2C3%2C3%5D%29%20%0A%23the%20elements%20in%20set%20is%20unique%0Aprint%28len%28dict%29%29%0Aprint%28len%28s%29%29%0A\"\n",
       "            frameborder=\"0\"\n",
       "            allowfullscreen\n",
       "        ></iframe>\n",
       "        "
      ],
      "text/plain": [
       "<IPython.lib.display.IFrame at 0x7f86a878c8d0>"
      ]
     },
     "metadata": {},
     "output_type": "display_data"
    }
   ],
   "source": [
    "%%mytutor -h 300\n",
    "#a very simple example of dictionary and set\n",
    "#the following dictionary stores 3 pairs of \"name\": height\n",
    "dict = {'Alice': 170, 'Beth': 175, 'Cecil': 168} \n",
    "s=set([1,1,2,2,3,3,3]) \n",
    "#the elements in set is unique\n",
    "print(len(dict))\n",
    "print(len(s))"
   ]
  },
  {
   "cell_type": "markdown",
   "metadata": {
    "slideshow": {
     "slide_type": "fragment"
    }
   },
   "source": [
    "Both `set` and `dict` \n",
    "- implement `len` method that returns the number of keys, and\n",
    "- are mutable, so we can mutate their keys and values.  "
   ]
  },
  {
   "cell_type": "markdown",
   "metadata": {
    "slideshow": {
     "slide_type": "slide"
    }
   },
   "source": [
    "## Constructing dictionary/set"
   ]
  },
  {
   "cell_type": "markdown",
   "metadata": {
    "slideshow": {
     "slide_type": "subslide"
    }
   },
   "source": [
    "**How to create dictionary/set?**"
   ]
  },
  {
   "cell_type": "markdown",
   "metadata": {
    "slideshow": {
     "slide_type": "fragment"
    }
   },
   "source": [
    "Similar to tuple/list, we can use enclosure, constructors, and comprehension."
   ]
  },
  {
   "cell_type": "markdown",
   "metadata": {
    "slideshow": {
     "slide_type": "subslide"
    }
   },
   "source": [
    "**How to create a dict/set by enumerating its keys/values?**"
   ]
  },
  {
   "cell_type": "markdown",
   "metadata": {},
   "source": [
    "For `dict`, enclose a comma-separated sequence of `key : value` pairs by braces `{` and `}`."
   ]
  },
  {
   "cell_type": "code",
   "execution_count": 9,
   "metadata": {
    "ExecuteTime": {
     "end_time": "2021-03-28T03:28:21.394181Z",
     "start_time": "2021-03-28T03:28:21.378683Z"
    },
    "slideshow": {
     "slide_type": "-"
    }
   },
   "outputs": [
    {
     "data": {
      "text/html": [
       "\n",
       "        <iframe\n",
       "            width=\"1100\"\n",
       "            height=\"350\"\n",
       "            src=\"https://e-quiz.cs.cityu.edu.hk/opt/cs1302visualize.html#mode=display&code=empty_dictionary%20%3D%20%7B%7D%20%23this%20creates%20an%20empty%20dictionary%0Aa%20%3D%20%7B%27a%27%3A%200%2C%20%27b%27%3A%201%7D%20%20%23this%20is%20how%20we%20create%20a%20dictionary%0Ab%20%3D%20%7B%2A%2Aa%2C%20%27c%27%3A%200%2C%20%27d%27%3A%201%7D%20%0A%23to%20access%20the%20elements%20of%20dictionary%2C%20we%20need%20to%20use%20%2A%2A%20to%20unpack%20it%0A%23note%20it%27s%20different%20from%20another%20unpack%20operator%20%2A%0A%23see%20what%20happends%20after%20running%20the%20following%20line%0Ac1%20%3D%20%7B%2Aa%7D%0Ac2%20%3D%20%7B%2A%2Aa%7D%0Aprint%28c1%29%0Aprint%28c2%29%0A\"\n",
       "            frameborder=\"0\"\n",
       "            allowfullscreen\n",
       "        ></iframe>\n",
       "        "
      ],
      "text/plain": [
       "<IPython.lib.display.IFrame at 0x7f869faeb510>"
      ]
     },
     "metadata": {},
     "output_type": "display_data"
    }
   ],
   "source": [
    "%%mytutor -h 350\n",
    "empty_dictionary = {} #this creates an empty dictionary\n",
    "a = {'a': 0, 'b': 1}  #this is how we create a dictionary\n",
    "b = {**a, 'c': 0, 'd': 1} \n",
    "#to access the elements of dictionary, we need to use ** to unpack it\n",
    "#note it's different from another unpack operator *\n",
    "#see what happends after running the following line\n",
    "c1 = {*a} #c1 is a set which contains only the keys\n",
    "c2 = {**a}\n",
    "print(c1)\n",
    "print(c2)"
   ]
  },
  {
   "cell_type": "markdown",
   "metadata": {
    "slideshow": {
     "slide_type": "fragment"
    }
   },
   "source": [
    "For `set`, omit `: value`."
   ]
  },
  {
   "cell_type": "code",
   "execution_count": 10,
   "metadata": {
    "ExecuteTime": {
     "end_time": "2021-03-28T03:29:40.853845Z",
     "start_time": "2021-03-28T03:29:40.848708Z"
    },
    "slideshow": {
     "slide_type": "-"
    }
   },
   "outputs": [
    {
     "data": {
      "text/html": [
       "\n",
       "        <iframe\n",
       "            width=\"1200\"\n",
       "            height=\"700\"\n",
       "            src=\"https://e-quiz.cs.cityu.edu.hk/opt/cs1302visualize.html#mode=display&code=a%20%3D%20%7B1%2C2%2C%27Apple%27%7D%0Aempty_set%20%3D%20%7B%2A%28%29%7D%20%20%0A%23%20Why%20not%20use%20%7B%7D%3F%EF%BC%8Cbecause%20%7B%7D%20has%20already%20been%20defined%20to%20create%20an%20empty%20dictionary.%20%0A%23another%20way%20to%20create%20an%20empty%20set%20is%20set%28%29%0A\"\n",
       "            frameborder=\"0\"\n",
       "            allowfullscreen\n",
       "        ></iframe>\n",
       "        "
      ],
      "text/plain": [
       "<IPython.lib.display.IFrame at 0x7f869faeb990>"
      ]
     },
     "metadata": {},
     "output_type": "display_data"
    }
   ],
   "source": [
    "%%mytutor -w 1200\n",
    "a = {1,2,'Apple'}\n",
    "empty_set = {*()}  \n",
    "# Why not use {}?，because {} has already been defined to create an empty dictionary. \n",
    "#another way to create an empty set is set()"
   ]
  },
  {
   "cell_type": "markdown",
   "metadata": {
    "slideshow": {
     "slide_type": "subslide"
    }
   },
   "source": [
    "We can also create a set/dictionary from other objects using their constructors `set`/`dict`."
   ]
  },
  {
   "cell_type": "code",
   "execution_count": 11,
   "metadata": {
    "ExecuteTime": {
     "end_time": "2021-03-28T03:29:54.495164Z",
     "start_time": "2021-03-28T03:29:54.396637Z"
    },
    "slideshow": {
     "slide_type": "-"
    }
   },
   "outputs": [
    {
     "data": {
      "text/html": [
       "\n",
       "        <iframe\n",
       "            width=\"1100\"\n",
       "            height=\"550\"\n",
       "            src=\"https://e-quiz.cs.cityu.edu.hk/opt/cs1302visualize.html#mode=display&code=empty_set%20%3D%20set%28%29%20%20%23set%28%29%20will%20create%20an%20empty%20set%0Astring2set%20%3D%20set%28%27abc%27%29%0Arange2set%20%3D%20set%28range%282%29%29%0Alist2set%20%3D%20set%28%5B%27abc%27%2Crange%282%29%5D%29%0Aset2set%20%3D%20set%28list2set%29%0A\"\n",
       "            frameborder=\"0\"\n",
       "            allowfullscreen\n",
       "        ></iframe>\n",
       "        "
      ],
      "text/plain": [
       "<IPython.lib.display.IFrame at 0x7f869faebfd0>"
      ]
     },
     "metadata": {},
     "output_type": "display_data"
    }
   ],
   "source": [
    "%%mytutor -h 550\n",
    "empty_set = set()  #set() will create an empty set\n",
    "string2set = set('abc')\n",
    "range2set = set(range(2))\n",
    "list2set = set(['abc',range(2)])\n",
    "set2set = set(list2set)"
   ]
  },
  {
   "cell_type": "markdown",
   "metadata": {},
   "source": [
    " `enumerate()`\n",
    "- enumerate() method assigns an index to each item in an iterable object that can be used to reference the item later.\n",
    "- enumerate() returns an enumerate object\n",
    "- enumerate(iterable, start=0)\n",
    "    - iterable: any object that supports iteration\n",
    "    - start: the index value from which the index is to be started, by default it is 0 "
   ]
  },
  {
   "cell_type": "code",
   "execution_count": 14,
   "metadata": {
    "ExecuteTime": {
     "end_time": "2021-03-28T03:33:20.549888Z",
     "start_time": "2021-03-28T03:33:20.538154Z"
    }
   },
   "outputs": [
    {
     "name": "stdout",
     "output_type": "stream",
     "text": [
      "(0, 'eat')\n",
      "(1, 'sleep')\n",
      "(2, 'repeat')\n",
      "(100, 'eat')\n",
      "(101, 'sleep')\n",
      "(102, 'repeat')\n",
      "100 eat\n",
      "101 sleep\n",
      "102 repeat\n",
      "<enumerate object at 0x7f869faf7d20>\n",
      "(0, 'eat') (1, 'sleep') (2, 'repeat')\n"
     ]
    }
   ],
   "source": [
    "# Python program to illustrate enumerate function in loops \n",
    "l1 = [\"eat\",\"sleep\",\"repeat\"] \n",
    "\n",
    "# print the tuples in object directly \n",
    "for element in enumerate(l1): \n",
    "    print(element) \n",
    "\n",
    "# change index and printe directly\n",
    "for element in enumerate(l1,100): \n",
    "    print(element) \n",
    "    \n",
    "# change index and printe index and element separately \n",
    "for index, element in enumerate(l1,100): \n",
    "    print(index, element) \n",
    "\n",
    "#we can't print the elements of an enumerate object directly, but we can use unpack operator * to unpack it\n",
    "print(enumerate(l1))\n",
    "print(*enumerate(l1))"
   ]
  },
  {
   "cell_type": "code",
   "execution_count": null,
   "metadata": {
    "ExecuteTime": {
     "end_time": "2021-03-24T13:59:37.516899Z",
     "start_time": "2021-03-24T13:59:37.511679Z"
    },
    "slideshow": {
     "slide_type": "fragment"
    }
   },
   "outputs": [],
   "source": [
    "%%mytutor -h 650\n",
    "empty_dict = dict() #this will create an empty dictionary\n",
    "enumerate2dict = dict(enumerate('abc'))\n",
    "zip2dict = dict(zip('abc','123'))\n",
    "kwargs2dict = dict(one=1,two=2)\n",
    "dict2dict = dict(kwargs2dict)"
   ]
  },
  {
   "cell_type": "markdown",
   "metadata": {
    "slideshow": {
     "slide_type": "subslide"
    }
   },
   "source": [
    "`dict.fromkeys()`\n",
    "\n",
    "* The fromkeys() method a dictionary with the specified keys and the specified value.\n",
    "* The syntax of fromkeys() method is: dict.fromkeys(sequence, value)\n",
    "* fromkeys() method takes two parameters:\n",
    "\n",
    "    * sequence - sequence of elements which is to be used as keys for the new dictionary\n",
    "    * value (Optional) - The value for all keys. Default value is None\n"
   ]
  },
  {
   "cell_type": "code",
   "execution_count": 16,
   "metadata": {
    "ExecuteTime": {
     "end_time": "2021-03-28T03:39:07.109457Z",
     "start_time": "2021-03-28T03:39:07.101076Z"
    }
   },
   "outputs": [
    {
     "name": "stdout",
     "output_type": "stream",
     "text": [
      "{'i': None, 'u': None, 'e': None, 'a': None, 'o': None}\n",
      "{'i': 1, 'u': 1, 'e': 1, 'a': 1, 'o': 1}\n"
     ]
    }
   ],
   "source": [
    "# Create a dictionary from a sequence of keys without specifying value\n",
    "\n",
    "# vowels keys\n",
    "keys = {'a', 'e', 'i', 'o', 'u' }\n",
    "\n",
    "vowels = dict.fromkeys(keys)\n",
    "print(vowels)\n",
    "\n",
    "# Create a dictionary from a sequence of keys with value\n",
    "keys = {'a', 'e', 'i', 'o', 'u' }\n",
    "value = 1\n",
    "\n",
    "vowels = dict.fromkeys(keys, value)\n",
    "print(vowels)\n",
    "#you may notice the order is not in 'a-e-i-o-u' because dictionary is unordered"
   ]
  },
  {
   "cell_type": "markdown",
   "metadata": {
    "ExecuteTime": {
     "end_time": "2020-11-01T09:25:48.937507Z",
     "start_time": "2020-11-01T09:25:48.928030Z"
    },
    "slideshow": {
     "slide_type": "subslide"
    }
   },
   "source": [
    "**How to use a rule to construct a set/dictionary?**"
   ]
  },
  {
   "cell_type": "markdown",
   "metadata": {
    "slideshow": {
     "slide_type": "fragment"
    }
   },
   "source": [
    "The following function uses a one-line dictionary comprehension to return the distribution of items in a sequence:"
   ]
  },
  {
   "cell_type": "code",
   "execution_count": 17,
   "metadata": {
    "ExecuteTime": {
     "end_time": "2021-03-28T03:41:16.010609Z",
     "start_time": "2021-03-28T03:41:16.006720Z"
    },
    "slideshow": {
     "slide_type": "-"
    }
   },
   "outputs": [
    {
     "name": "stdout",
     "output_type": "stream",
     "text": [
      "{'a', 'd', 'c', 'b'}\n",
      "{'a': 0.4, 'd': 0.2, 'c': 0.2, 'b': 0.2}\n"
     ]
    }
   ],
   "source": [
    "def distribute(seq):\n",
    "    return {k : seq.count(k)/len(seq) for k in set(seq)}\n",
    "\n",
    "#dictionary comprehension\n",
    "#{key: value for loop}\n",
    "\n",
    "print(set(\"abcad\"))\n",
    "print(distribute(\"abcad\"))"
   ]
  },
  {
   "cell_type": "code",
   "execution_count": 20,
   "metadata": {
    "ExecuteTime": {
     "end_time": "2021-03-28T03:45:27.568200Z",
     "start_time": "2021-03-28T03:45:27.316161Z"
    },
    "slideshow": {
     "slide_type": "-"
    }
   },
   "outputs": [
    {
     "data": {
      "image/png": "[encoded data removed]",
      "text/plain": [
       "<Figure size 432x288 with 1 Axes>"
      ]
     },
     "metadata": {
      "needs_background": "light"
     },
     "output_type": "display_data"
    }
   ],
   "source": [
    "import matplotlib.pyplot as plt\n",
    "\n",
    "def plot_distribution(seq):\n",
    "    dist = distribute(seq)\n",
    "    plt.stem(dist.keys(),   # set-like view of the keys\n",
    "             dist.values(), # view of the values\n",
    "             use_line_collection=True)\n",
    "    plt.xlabel('Items')\n",
    "    plt.title('Distribution')\n",
    "    plt.ylim(0, 1)\n",
    "    \n",
    "plot_distribution('What is the distribution of different characters?')"
   ]
  },
  {
   "cell_type": "markdown",
   "metadata": {
    "ExecuteTime": {
     "end_time": "2021-03-24T14:19:38.695277Z",
     "start_time": "2021-03-24T14:19:38.672647Z"
    }
   },
   "source": [
    "The example above uses `dist.keys()`, `dist.values()`, to understand it, we need to introduce [Dictionary views](https://docs.python.org/3/glossary.html#term-dictionary-view) (optional concept)\n",
    "* The objects returned from `keys()`, `values()`, and `items()` are called dictionary views. They provide a dynamic view on the dictionary’s entries, which means that when the dictionary changes, the view reflects these changes.\n",
    "* The `keys()` method returns a view object. The view object contains the keys of the dictionary, as a list.\n",
    "* The `values()` method returns a view object. The view object contains the values of the dictionary, as a list.\n",
    "* The `items()` method returns a view object. The view object contains the key-value pairs of the dictionary, as tuples in a list.\n",
    "* The view object will reflect any changes done to the dictionary, see example below."
   ]
  },
  {
   "cell_type": "code",
   "execution_count": 21,
   "metadata": {
    "ExecuteTime": {
     "end_time": "2021-03-28T03:45:40.522402Z",
     "start_time": "2021-03-28T03:45:40.511074Z"
    }
   },
   "outputs": [
    {
     "name": "stdout",
     "output_type": "stream",
     "text": [
      "before change:\n",
      "dict_keys(['brand', 'model', 'year'])\n",
      "dict_values(['Ford', 'Mustang', 1964])\n",
      "dict_items([('brand', 'Ford'), ('model', 'Mustang'), ('year', 1964)])\n",
      "after change:\n",
      "dict_keys(['brand', 'model', 'year'])\n",
      "dict_values(['Ford', 'Mustang', 1989])\n",
      "dict_items([('brand', 'Ford'), ('model', 'Mustang'), ('year', 1989)])\n"
     ]
    }
   ],
   "source": [
    "#this example shows how to use keys(), values() and items()\n",
    "car = {\n",
    "  \"brand\": \"Ford\",\n",
    "  \"model\": \"Mustang\",\n",
    "  \"year\": 1964\n",
    "}\n",
    "\n",
    "x=car.keys()\n",
    "y=car.values()\n",
    "z=car.items()\n",
    "print('before change:')\n",
    "print(x)\n",
    "print(y)\n",
    "print(z)\n",
    "\n",
    "car['year']=1989\n",
    "#note both y and z are updated\n",
    "print('after change:')\n",
    "print(x)\n",
    "print(y)\n",
    "print(z)  "
   ]
  },
  {
   "cell_type": "markdown",
   "metadata": {},
   "source": [
    "`pop()` method removes and returns an element from a dictionary having the given key."
   ]
  },
  {
   "cell_type": "code",
   "execution_count": 22,
   "metadata": {
    "ExecuteTime": {
     "end_time": "2021-03-28T03:46:28.594998Z",
     "start_time": "2021-03-28T03:46:28.567470Z"
    }
   },
   "outputs": [
    {
     "name": "stdout",
     "output_type": "stream",
     "text": [
      "The popped element is: 2\n",
      "The dictionary is: {'orange': 3, 'grapes': 4}\n"
     ]
    }
   ],
   "source": [
    "# this example shows how to use pop()\n",
    "sales = { 'apple': 2, 'orange': 3, 'grapes': 4 }\n",
    "\n",
    "element = sales.pop('apple')\n",
    "print('The popped element is:', element)\n",
    "print('The dictionary is:', sales)"
   ]
  },
  {
   "cell_type": "markdown",
   "metadata": {},
   "source": [
    "`popitem()` method removes and returns the last element (key, value) pair inserted into the dictionary.\n",
    "- not the last element(key,value) pair you see, but the last element inserted. Dictionary is unordered, so different systems print the same dictionary in different orders."
   ]
  },
  {
   "cell_type": "code",
   "execution_count": 23,
   "metadata": {
    "ExecuteTime": {
     "end_time": "2021-03-28T03:47:32.394843Z",
     "start_time": "2021-03-28T03:47:32.342996Z"
    }
   },
   "outputs": [
    {
     "name": "stdout",
     "output_type": "stream",
     "text": [
      "{'name': 'Phill', 'age': 22, 'salary': 3500.0}\n",
      "Return Value =  ('salary', 3500.0)\n",
      "person =  {'name': 'Phill', 'age': 22}\n"
     ]
    }
   ],
   "source": [
    "person = {}\n",
    "\n",
    "# inserting a new element pair\n",
    "person['name'] = 'Phill'\n",
    "person['age']=22\n",
    "person['salary']=3500.0\n",
    "\n",
    "print(person)\n",
    "\n",
    "# ('salary', 3500.0) is inserted at the last, so it is removed.\n",
    "result = person.popitem()\n",
    "\n",
    "print('Return Value = ', result)\n",
    "print('person = ', person)"
   ]
  },
  {
   "cell_type": "markdown",
   "metadata": {},
   "source": [
    "`clear()` method removes all items from the dictionary."
   ]
  },
  {
   "cell_type": "code",
   "execution_count": 24,
   "metadata": {
    "ExecuteTime": {
     "end_time": "2021-03-28T03:47:44.494889Z",
     "start_time": "2021-03-28T03:47:44.439714Z"
    }
   },
   "outputs": [
    {
     "name": "stdout",
     "output_type": "stream",
     "text": [
      "d = {}\n"
     ]
    }
   ],
   "source": [
    "d = {1: \"one\", 2: \"two\"}\n",
    "\n",
    "d.clear()\n",
    "print('d =', d)"
   ]
  },
  {
   "cell_type": "markdown",
   "metadata": {},
   "source": [
    "The following example shows how to use `keys()`, `values()`, `items()`, `pop()`, `popitem()`, `clear()`"
   ]
  },
  {
   "cell_type": "code",
   "execution_count": null,
   "metadata": {
    "ExecuteTime": {
     "end_time": "2021-03-25T02:16:29.400424Z",
     "start_time": "2021-03-25T02:16:29.392545Z"
    },
    "slideshow": {
     "slide_type": "-"
    }
   },
   "outputs": [],
   "source": [
    "%%mytutor -h 500\n",
    "a = dict(enumerate('abc'))\n",
    "print(a.keys())\n",
    "print(a.values())\n",
    "print(a.items())\n",
    "print(a.pop(1))    # remove the key 1 and its associated value\n",
    "print(a.popitem()) # remove and return a key-value pair\n",
    "print(a.clear())   # clear the dictionary"
   ]
  },
  {
   "cell_type": "markdown",
   "metadata": {
    "slideshow": {
     "slide_type": "subslide"
    }
   },
   "source": [
    "**now let's introduce some common methods in `set`**\n",
    "\n",
    "`set` has `pop` and `clear` but not `popitem`. However, `set.pop` behaves like `dict.popitem` instead of `dict.pop`. (Why?)\n",
    "- Because set is `unordered` and `unindexed`, dictionary is `unordered` but `indexed`. Thus, there is no concept of last entered element in set."
   ]
  },
  {
   "cell_type": "code",
   "execution_count": 25,
   "metadata": {
    "ExecuteTime": {
     "end_time": "2021-03-28T03:50:57.694791Z",
     "start_time": "2021-03-28T03:50:57.608358Z"
    }
   },
   "outputs": [
    {
     "name": "stdout",
     "output_type": "stream",
     "text": [
      "{'d', 'c', 'b', 'e', 'a'}\n"
     ]
    }
   ],
   "source": [
    "#set is unordered and unindexed, so we don't know which one is the first element, which one is the second element\n",
    "#if you run this example in another Python system, the order may be different\n",
    "#e.g., you can run this example here: https://replit.com/languages/python3\n",
    "x=set('abcdea')\n",
    "print(x)"
   ]
  },
  {
   "cell_type": "markdown",
   "metadata": {},
   "source": [
    "- `pop()` method removes a random item from the set.\n",
    "   - why random? because set is unordered, i.e., {1,2,3} and {3,2,1} are the same set.\n",
    "   - For example, you can run the following code [here](https://repl.it/languages/python3), the poped item is different for each run.\n",
    "   \n",
    "- `clear()` method removes all elements in a set."
   ]
  },
  {
   "cell_type": "code",
   "execution_count": null,
   "metadata": {
    "ExecuteTime": {
     "end_time": "2021-03-25T02:21:37.351513Z",
     "start_time": "2021-03-25T02:21:37.345215Z"
    }
   },
   "outputs": [],
   "source": [
    "#this example shows how pop() works\n",
    "fruits = {\"apple\", \"banana\", \"cherry\"}\n",
    "fruits.pop()\n",
    "print(fruits)"
   ]
  },
  {
   "cell_type": "code",
   "execution_count": 26,
   "metadata": {
    "ExecuteTime": {
     "end_time": "2021-03-28T03:52:16.094869Z",
     "start_time": "2021-03-28T03:52:16.058548Z"
    }
   },
   "outputs": [
    {
     "name": "stdout",
     "output_type": "stream",
     "text": [
      "True\n",
      "True\n",
      "False\n",
      "False\n"
     ]
    }
   ],
   "source": [
    "#this example shows set and dictionary is unordered\n",
    "set1={1,2,3}\n",
    "set2={3,2,1}\n",
    "dict1={'a':1,'b':2,'c':3}\n",
    "dict2={'c':3,'b':2,'a':1}\n",
    "\n",
    "print(set1==set2)\n",
    "print(dict1==dict2)\n",
    "\n",
    "\n",
    "#but tuple and list are ordered\n",
    "list1=[1,2,3]\n",
    "list2=[3,2,1]\n",
    "tuple1=(1,2,3)\n",
    "tuple2=(3,2,1)\n",
    "\n",
    "print(list1==list2)\n",
    "print(tuple1==tuple2)\n"
   ]
  },
  {
   "cell_type": "code",
   "execution_count": null,
   "metadata": {
    "ExecuteTime": {
     "end_time": "2021-03-25T02:25:09.953769Z",
     "start_time": "2021-03-25T02:25:09.947332Z"
    },
    "slideshow": {
     "slide_type": "-"
    }
   },
   "outputs": [],
   "source": [
    "%%mytutor -h 250\n",
    "a = set('abc')\n",
    "a.pop()     # remove and return an element\n",
    "a.clear()   # clear the set"
   ]
  },
  {
   "cell_type": "markdown",
   "metadata": {
    "slideshow": {
     "slide_type": "fragment"
    }
   },
   "source": [
    "**Exercise** Use one-line comprehension to return a set of composite numbers smaller than `stop`.  \n",
    "\n",
    "*Hint:* You do not need to worry about duplicate elements for `set`."
   ]
  },
  {
   "cell_type": "code",
   "execution_count": null,
   "metadata": {
    "ExecuteTime": {
     "end_time": "2020-11-08T07:27:45.517833Z",
     "start_time": "2020-11-08T07:27:45.506445Z"
    },
    "deletable": false,
    "nbgrader": {
     "cell_type": "code",
     "checksum": "09d758aa2836f2f5b825cd6de34440f9",
     "grade": false,
     "grade_id": "set-comprehension",
     "locked": false,
     "schema_version": 3,
     "solution": true,
     "task": false
    },
    "slideshow": {
     "slide_type": "-"
    }
   },
   "outputs": [],
   "source": [
    "def composite_set(stop):\n",
    "    ### BEGIN SOLUTION\n",
    "    #first include all multiples of 2: 2*2, 2*3, 2*4,... \n",
    "    #then include all multiples of 3: 3*2, 3*3, 3*4...\n",
    "    return {x for factor in range(2,stop) for x in range(factor*2,stop,factor)}\n",
    "    ### END SOLUTION\n",
    "    \n",
    "print(*sorted(composite_set(100)))"
   ]
  },
  {
   "cell_type": "markdown",
   "metadata": {
    "slideshow": {
     "slide_type": "slide"
    }
   },
   "source": [
    "## Accessing keys/values"
   ]
  },
  {
   "cell_type": "markdown",
   "metadata": {
    "slideshow": {
     "slide_type": "subslide"
    }
   },
   "source": [
    "**How to traverse a set/dictionary?**"
   ]
  },
  {
   "cell_type": "markdown",
   "metadata": {
    "slideshow": {
     "slide_type": "fragment"
    }
   },
   "source": [
    "Set and dictionaries are iterable.  \n",
    "The for loop iterates over the keys."
   ]
  },
  {
   "cell_type": "code",
   "execution_count": 29,
   "metadata": {
    "ExecuteTime": {
     "end_time": "2021-03-28T03:59:10.884966Z",
     "start_time": "2021-03-28T03:59:10.867930Z"
    },
    "slideshow": {
     "slide_type": "-"
    }
   },
   "outputs": [
    {
     "name": "stdout",
     "output_type": "stream",
     "text": [
      "fruits = {'apple', 'banana', 'cherry'}\n",
      "price = {'apple': 3.2, 'banana': 4.5, 'cherry': 6.8}\n",
      "apple\n",
      "banana\n",
      "cherry\n",
      "apple 3.2\n",
      "banana 4.5\n",
      "cherry 6.8\n",
      "3.2\n",
      "4.5\n",
      "6.8\n"
     ]
    },
    {
     "ename": "TypeError",
     "evalue": "'set' object is not subscriptable",
     "output_type": "error",
     "traceback": [
      "\u001b[0;31m---------------------------------------------------------------------------\u001b[0m",
      "\u001b[0;31mTypeError\u001b[0m                                 Traceback (most recent call last)",
      "\u001b[0;32m<ipython-input-29-8c91ac054222>\u001b[0m in \u001b[0;36m<module>\u001b[0;34m\u001b[0m\n\u001b[1;32m     18\u001b[0m \u001b[0;34m\u001b[0m\u001b[0m\n\u001b[1;32m     19\u001b[0m \u001b[0;31m#but we can't use index for set because set is unordered and unindexed\u001b[0m\u001b[0;34m\u001b[0m\u001b[0;34m\u001b[0m\u001b[0;34m\u001b[0m\u001b[0m\n\u001b[0;32m---> 20\u001b[0;31m \u001b[0mfruits\u001b[0m\u001b[0;34m[\u001b[0m\u001b[0;36m0\u001b[0m\u001b[0;34m]\u001b[0m  \u001b[0;31m# TypeError\u001b[0m\u001b[0;34m\u001b[0m\u001b[0;34m\u001b[0m\u001b[0m\n\u001b[0m",
      "\u001b[0;31mTypeError\u001b[0m: 'set' object is not subscriptable"
     ]
    }
   ],
   "source": [
    "#this example shows how we can access elements in set/dictionary\n",
    "fruits = {'apple','banana','cherry'}\n",
    "price = {'apple': 3.2,'banana': 4.5,'cherry':6.8}\n",
    "print('fruits =', fruits)\n",
    "print('price =',price)\n",
    "\n",
    "#we can use for loop to access its elements\n",
    "for element in fruits:\n",
    "    print(element)\n",
    "for key in price:\n",
    "    print(key,price[key])\n",
    "\n",
    "#we can use dictionary_name[key_name] to access the values associated with key_name\n",
    "print(price['apple'])\n",
    "print(price['banana'])\n",
    "print(price['cherry'])\n",
    "\n",
    "\n",
    "#but we can't use index for set because set is unordered and unindexed\n",
    "fruits[0]  # TypeError"
   ]
  },
  {
   "cell_type": "markdown",
   "metadata": {
    "slideshow": {
     "slide_type": "fragment"
    }
   },
   "source": [
    "- For the dictionary `price`, we used subscription `price[key]` to access the value associated with `key`.\n",
    "- Unlike dictionary, set is unindexed and therefore not subscriptable."
   ]
  },
  {
   "cell_type": "markdown",
   "metadata": {
    "slideshow": {
     "slide_type": "subslide"
    }
   },
   "source": [
    "Unlike tuple/list, `price[-1]` does not refer to the value of the last entry. (Dictionary is not ordered.)"
   ]
  },
  {
   "cell_type": "code",
   "execution_count": 32,
   "metadata": {
    "ExecuteTime": {
     "end_time": "2021-03-28T04:02:37.795194Z",
     "start_time": "2021-03-28T04:02:37.712536Z"
    },
    "slideshow": {
     "slide_type": "-"
    }
   },
   "outputs": [
    {
     "ename": "KeyError",
     "evalue": "-1",
     "output_type": "error",
     "traceback": [
      "\u001b[0;31m---------------------------------------------------------------------------\u001b[0m",
      "\u001b[0;31mKeyError\u001b[0m                                  Traceback (most recent call last)",
      "\u001b[0;32m<ipython-input-32-bd3e94e60799>\u001b[0m in \u001b[0;36m<module>\u001b[0;34m\u001b[0m\n\u001b[0;32m----> 1\u001b[0;31m \u001b[0mprice\u001b[0m\u001b[0;34m[\u001b[0m\u001b[0;34m-\u001b[0m\u001b[0;36m1\u001b[0m\u001b[0;34m]\u001b[0m  \u001b[0;31m# KeyError\u001b[0m\u001b[0;34m\u001b[0m\u001b[0;34m\u001b[0m\u001b[0m\n\u001b[0m",
      "\u001b[0;31mKeyError\u001b[0m: -1"
     ]
    }
   ],
   "source": [
    "price[-1]  # KeyError"
   ]
  },
  {
   "cell_type": "markdown",
   "metadata": {
    "slideshow": {
     "slide_type": "fragment"
    }
   },
   "source": [
    "The above raises a key error because `-1` is not a key in the dictionary `price`."
   ]
  },
  {
   "cell_type": "markdown",
   "metadata": {
    "slideshow": {
     "slide_type": "fragment"
    }
   },
   "source": [
    "**How to change the value of a key?**\n",
    "\n",
    "we can enter a key value pair to a dictionary using the assignment operator."
   ]
  },
  {
   "cell_type": "code",
   "execution_count": 33,
   "metadata": {
    "ExecuteTime": {
     "end_time": "2021-03-28T04:05:38.094892Z",
     "start_time": "2021-03-28T04:05:38.015512Z"
    },
    "slideshow": {
     "slide_type": "-"
    }
   },
   "outputs": [
    {
     "name": "stdout",
     "output_type": "stream",
     "text": [
      "1.2\n",
      "{'apple': 3.2, 'banana': 4.5, 'cherry': 6.8, 'watermelon': 1.2}\n",
      "{'apple': 1, 'banana': 2, 'cherry': 3, 'watermelon': 4}\n"
     ]
    }
   ],
   "source": [
    "#we can insert a new key-value pair, then access it\n",
    "price['watermelon'] = 1.2\n",
    "print(price['watermelon'])\n",
    "print(price)\n",
    "\n",
    "#this is how we change the values\n",
    "price['apple']=1\n",
    "price['banana']=2\n",
    "price['cherry']=3\n",
    "price['watermelon']=4\n",
    "print(price)"
   ]
  },
  {
   "cell_type": "markdown",
   "metadata": {
    "slideshow": {
     "slide_type": "fragment"
    }
   },
   "source": [
    "To delete a key, we can use the function `del`."
   ]
  },
  {
   "cell_type": "code",
   "execution_count": 35,
   "metadata": {
    "ExecuteTime": {
     "end_time": "2021-03-28T04:06:29.106343Z",
     "start_time": "2021-03-28T04:06:29.094844Z"
    },
    "slideshow": {
     "slide_type": "-"
    }
   },
   "outputs": [
    {
     "ename": "KeyError",
     "evalue": "'apple'",
     "output_type": "error",
     "traceback": [
      "\u001b[0;31m---------------------------------------------------------------------------\u001b[0m",
      "\u001b[0;31mKeyError\u001b[0m                                  Traceback (most recent call last)",
      "\u001b[0;32m<ipython-input-35-eac45ca2ec81>\u001b[0m in \u001b[0;36m<module>\u001b[0;34m\u001b[0m\n\u001b[0;32m----> 1\u001b[0;31m \u001b[0;32mdel\u001b[0m \u001b[0mprice\u001b[0m\u001b[0;34m[\u001b[0m\u001b[0;34m'apple'\u001b[0m\u001b[0;34m]\u001b[0m\u001b[0;34m\u001b[0m\u001b[0;34m\u001b[0m\u001b[0m\n\u001b[0m\u001b[1;32m      2\u001b[0m \u001b[0mprice\u001b[0m\u001b[0;34m[\u001b[0m\u001b[0;34m'apple'\u001b[0m\u001b[0;34m]\u001b[0m \u001b[0;31m#after deleting, we can't access it\u001b[0m\u001b[0;34m\u001b[0m\u001b[0;34m\u001b[0m\u001b[0m\n",
      "\u001b[0;31mKeyError\u001b[0m: 'apple'"
     ]
    }
   ],
   "source": [
    "del price['apple']\n",
    "price['apple'] #after deleting, we can't access it"
   ]
  },
  {
   "cell_type": "markdown",
   "metadata": {
    "slideshow": {
     "slide_type": "subslide"
    }
   },
   "source": [
    "To avoid key error, we can check if a key is in a dictionary efficiently (due to hashing) using the `in` operator.  \n",
    "The following is a different implementation of `distribute`."
   ]
  },
  {
   "cell_type": "code",
   "execution_count": null,
   "metadata": {
    "ExecuteTime": {
     "end_time": "2021-03-25T02:57:57.964864Z",
     "start_time": "2021-03-25T02:57:57.758249Z"
    },
    "slideshow": {
     "slide_type": "-"
    }
   },
   "outputs": [],
   "source": [
    "def distribute(seq):\n",
    "    dist = {}\n",
    "    for i in seq: \n",
    "        dist[i] = (dist[i] if i in dist else 0) + 1/len(seq) #we use in operator to check whether i already exist or not\n",
    "    return dist\n",
    "\n",
    "plot_distribution('What is the distribution of different characters?')"
   ]
  },
  {
   "cell_type": "markdown",
   "metadata": {
    "slideshow": {
     "slide_type": "subslide"
    }
   },
   "source": [
    "`dict` also has a method [get](https://www.w3schools.com/python/ref_dictionary_get.asp) that conveniently returns a default value if the key does not exist.\n",
    "- The `get()` method returns the value of the item with the specified key.\n",
    "- Syntax: `get(keyname,value)`\n",
    "   - keyname-required argument. The keyname of the item you want to return the value from\n",
    "   - value-optional argument. A value to return if the specified key does not exist. Default value None"
   ]
  },
  {
   "cell_type": "code",
   "execution_count": 37,
   "metadata": {
    "ExecuteTime": {
     "end_time": "2021-03-28T04:09:51.994276Z",
     "start_time": "2021-03-28T04:09:51.934312Z"
    }
   },
   "outputs": [
    {
     "name": "stdout",
     "output_type": "stream",
     "text": [
      "Mustang\n",
      "15000\n",
      "None\n"
     ]
    }
   ],
   "source": [
    "#This example shows how get() works\n",
    "car = {\n",
    "    \"brand\": \"Ford\",\n",
    "  \"model\": \"Mustang\",\n",
    "  \"year\": 1964\n",
    "}\n",
    "\n",
    "#if key exist in the dictionary, get() will return its associated value\n",
    "x = car.get(\"model\")\n",
    "print(x)\n",
    "\n",
    "#if key doesn't exist in the dictionary, get() will return the specified argument\n",
    "x = car.get(\"price\", 15000)\n",
    "print(x)\n",
    "\n",
    "#if we don't specify the value, get() will return None\n",
    "x = car.get(\"price\")\n",
    "print(x)"
   ]
  },
  {
   "cell_type": "markdown",
   "metadata": {},
   "source": [
    "Rewrite the alternative implementation of `distribute` to use `get` instead of `in`."
   ]
  },
  {
   "cell_type": "code",
   "execution_count": 38,
   "metadata": {
    "ExecuteTime": {
     "end_time": "2021-03-28T04:09:54.771763Z",
     "start_time": "2021-03-28T04:09:54.544010Z"
    }
   },
   "outputs": [
    {
     "data": {
      "image/png": "[encoded data removed]",
      "text/plain": [
       "<Figure size 432x288 with 1 Axes>"
      ]
     },
     "metadata": {
      "needs_background": "light"
     },
     "output_type": "display_data"
    }
   ],
   "source": [
    "dict.get?\n",
    "def distribute(seq):\n",
    "    dist = {}\n",
    "    for i in seq: \n",
    "        dist[i] = dist.get(i,0) + 1/len(seq)\n",
    "    return dist\n",
    "\n",
    "plot_distribution('What is the distribution of different characters?')"
   ]
  },
  {
   "cell_type": "markdown",
   "metadata": {
    "slideshow": {
     "slide_type": "subslide"
    }
   },
   "source": [
    "**How to traverse in ascending order of the keys?**"
   ]
  },
  {
   "cell_type": "markdown",
   "metadata": {
    "slideshow": {
     "slide_type": "fragment"
    }
   },
   "source": [
    "We can apply the function `sorted` to a set/dictionary to return a sorted list of the keys."
   ]
  },
  {
   "cell_type": "code",
   "execution_count": null,
   "metadata": {
    "ExecuteTime": {
     "end_time": "2021-03-25T03:08:35.881357Z",
     "start_time": "2021-03-25T03:08:35.876672Z"
    },
    "slideshow": {
     "slide_type": "-"
    }
   },
   "outputs": [],
   "source": [
    "%%mytutor -h 600\n",
    "a = {'a','c','d','b','e'}\n",
    "b = {3:'d',0:'a',2:'c',4:'e',1:'b'}\n",
    "sorted_elements = sorted(a)\n",
    "sorted_keys = sorted(b)"
   ]
  },
  {
   "cell_type": "markdown",
   "metadata": {
    "slideshow": {
     "slide_type": "subslide"
    }
   },
   "source": [
    "**How to add an element to a `set` and remove an element from it?**"
   ]
  },
  {
   "cell_type": "markdown",
   "metadata": {
    "slideshow": {
     "slide_type": "fragment"
    }
   },
   "source": [
    "Instead of subscription, `set` has the `add`/`discard`/`remove` methods for adding/removing elements.\n",
    "- The `add()` method adds a given element to a set. If the element is already present, it doesn't add any element.\n",
    "- The `discard()` method removes a specified element from the set (if present).\n",
    "- The `remove()` method removes the specified element from the set. \n",
    "   - If the element passed to remove() doesn't exist, KeyError exception is thrown.\n",
    "   - You can use the set discard() method if you do not want this error. The discard() method removes the specified element from the set. However, if the element doesn't exist, the set remains unchanged; you will not get an error.\n",
    "\n"
   ]
  },
  {
   "cell_type": "code",
   "execution_count": null,
   "metadata": {
    "ExecuteTime": {
     "end_time": "2021-03-25T03:18:39.295454Z",
     "start_time": "2021-03-25T03:18:39.253198Z"
    },
    "slideshow": {
     "slide_type": "-"
    }
   },
   "outputs": [],
   "source": [
    "%%mytutor -h 400\n",
    "a = set('abc')\n",
    "a.add('d')      \n",
    "a.discard('a')  \n",
    "a.remove('b')\n",
    "a.clear()\n",
    "a.discard('a')  # no error\n",
    "a.remove('b')   # KeyError"
   ]
  },
  {
   "cell_type": "markdown",
   "metadata": {},
   "source": [
    "**A short Summary**\n",
    "\n",
    "You need to get familiar with the operations/functions introduced in this section."
   ]
  },
  {
   "cell_type": "markdown",
   "metadata": {
    "slideshow": {
     "slide_type": "slide"
    }
   },
   "source": [
    "## Other operators and methods"
   ]
  },
  {
   "cell_type": "code",
   "execution_count": null,
   "metadata": {
    "ExecuteTime": {
     "end_time": "2020-11-08T07:55:30.117981Z",
     "start_time": "2020-11-08T07:55:30.107154Z"
    }
   },
   "outputs": [],
   "source": [
    "#str/tuple/list overloads operator + and *\n",
    "list1=[1,2,3]\n",
    "list2=[4,5,6]\n",
    "print(list1*3)\n",
    "print(list1+list2)"
   ]
  },
  {
   "cell_type": "markdown",
   "metadata": {
    "slideshow": {
     "slide_type": "subslide"
    }
   },
   "source": [
    "Unlike `str`/`tuple`/`list`, `set` and `dict` do not implement addition `+` and multiplication `*`:\n",
    "\n",
    "So how to concatenate two sets/dictionaries?\n",
    "* Use the unpacking operators `*` and `**` to concatenate two sets/dictionaries below into a new set/dictionary."
   ]
  },
  {
   "cell_type": "code",
   "execution_count": 39,
   "metadata": {
    "ExecuteTime": {
     "end_time": "2021-03-28T04:11:06.494849Z",
     "start_time": "2021-03-28T04:11:06.425797Z"
    }
   },
   "outputs": [
    {
     "name": "stdout",
     "output_type": "stream",
     "text": [
      "{'a', 'c', 'b'}\n",
      "{'e', 'd', 'c'}\n",
      "{'d', 'e', 'a', 'c', 'b'}\n"
     ]
    }
   ],
   "source": [
    "#this example shows how to concatenate two sets\n",
    "#we use * to unpack a set\n",
    "set1 = set('abc')\n",
    "set2 = set('cde')\n",
    "print(set1)\n",
    "print(set2)\n",
    "\n",
    "concatenated_set = {*set1,*set2}\n",
    "print(concatenated_set)\n",
    "#you may find the order is different from set1 and set 2, because set is unordered"
   ]
  },
  {
   "cell_type": "code",
   "execution_count": 40,
   "metadata": {
    "ExecuteTime": {
     "end_time": "2021-03-28T04:11:08.494908Z",
     "start_time": "2021-03-28T04:11:08.448597Z"
    }
   },
   "outputs": [
    {
     "name": "stdout",
     "output_type": "stream",
     "text": [
      "{0: 'a', 1: 'b', 2: 'c'}\n",
      "{2: 'd', 3: 'e', 4: 'f'}\n",
      "{0: 'a', 1: 'b', 2: 'd', 3: 'e', 4: 'f'}\n"
     ]
    }
   ],
   "source": [
    "#this example shows how to concatenate two dictionaries\n",
    "#we use ** to unpack a dictionary\n",
    "dict1 = dict(enumerate('abc'))\n",
    "dict2 = dict(enumerate('def',start=2))  \n",
    "print(dict1)\n",
    "print(dict2)\n",
    "concatenated_dict = {**dict1,**dict2}\n",
    "print(concatenated_dict)"
   ]
  },
  {
   "cell_type": "markdown",
   "metadata": {
    "slideshow": {
     "slide_type": "subslide"
    }
   },
   "source": [
    "`set` overloads many other operators:\n",
    "- more information can be found in Chapter 11.8 of the reference book"
   ]
  },
  {
   "cell_type": "code",
   "execution_count": null,
   "metadata": {
    "ExecuteTime": {
     "end_time": "2021-03-25T03:26:42.695369Z",
     "start_time": "2021-03-25T03:26:42.625528Z"
    },
    "slideshow": {
     "slide_type": "-"
    }
   },
   "outputs": [],
   "source": [
    "%%mytutor -h 550\n",
    "a, b = {1,2}, {2,3}\n",
    "\n",
    "union = a | b\n",
    "print(union)\n",
    "\n",
    "intersection = a & b\n",
    "print(intersection)\n",
    "\n",
    "symmetric_difference = a ^ b\n",
    "print(symmetric_difference)\n"
   ]
  },
  {
   "cell_type": "markdown",
   "metadata": {
    "slideshow": {
     "slide_type": "subslide"
    }
   },
   "source": [
    "For `set`, the intersection operation `&` can also be performed by\n",
    "- the class method `intersection` which returns the intersection of its arguments, and\n",
    "- the object method `intersection_update` which mutates a set object by intersecting the set with the arguments."
   ]
  },
  {
   "cell_type": "code",
   "execution_count": null,
   "metadata": {
    "ExecuteTime": {
     "end_time": "2021-03-25T03:27:41.395208Z",
     "start_time": "2021-03-25T03:27:41.348652Z"
    },
    "slideshow": {
     "slide_type": "-"
    }
   },
   "outputs": [],
   "source": [
    "%%mytutor -h 300\n",
    "a = {0,1,2}\n",
    "b = {1,2,3}\n",
    "c = set.intersection(a,b,{2,3,4})\n",
    "a.intersection_update(b,c) #this line is equivalent to a=set.intersection(a,b,c)"
   ]
  },
  {
   "cell_type": "markdown",
   "metadata": {
    "slideshow": {
     "slide_type": "subslide"
    }
   },
   "source": [
    "Set-specific methods (see table below)\n",
    "- we can use `class method`, `object method`, and `operator` to achieve the same purpose, but we need to note the difference"
   ]
  },
  {
   "cell_type": "markdown",
   "metadata": {
    "slideshow": {
     "slide_type": "-"
    }
   },
   "source": [
    "|     class method       |          object method        | operator     |\n",
    "| ---------------------- | ----------------------------- | ------------ |\n",
    "| `union`                | `update`                      | `\\| `        |\n",
    "| `intersection`         | `intersection_update`         | `&`          |\n",
    "| `symmetric_difference` | `symmetric_difference_update` | `^`          |\n",
    "| `issubset`             |                               | `<=`         |\n",
    "| `issuperset`           |                               | `>=`         |\n",
    "| `isdisjoint`           |                               |              |"
   ]
  },
  {
   "cell_type": "code",
   "execution_count": null,
   "metadata": {
    "ExecuteTime": {
     "end_time": "2021-03-25T03:33:52.194872Z",
     "start_time": "2021-03-25T03:33:52.144437Z"
    }
   },
   "outputs": [],
   "source": [
    "a = {0,1,2}\n",
    "b = {1,2,3}\n",
    "\n",
    "#to calculate the union, we can use the class method like this\n",
    "c1=set.union(a,b)\n",
    "print(c1)\n",
    "#we can use the object method like this\n",
    "a.update(a,b)\n",
    "print(a)\n",
    "#we can also use the operator like this\n",
    "c2=a|b\n",
    "print(c2)"
   ]
  },
  {
   "cell_type": "markdown",
   "metadata": {
    "slideshow": {
     "slide_type": "fragment"
    }
   },
   "source": [
    "`dict` also has an [update()](https://www.programiz.com/python-programming/methods/dictionary/update) method that can update a dictionary using dictionary, iterables and keyword arguments:\n",
    "- The `update()` method updates the dictionary with the elements from the another dictionary object or from an iterable of key/value pairs."
   ]
  },
  {
   "cell_type": "code",
   "execution_count": null,
   "metadata": {
    "ExecuteTime": {
     "end_time": "2021-03-25T03:35:18.795362Z",
     "start_time": "2021-03-25T03:35:18.715245Z"
    }
   },
   "outputs": [],
   "source": [
    "%%mytutor -h 300\n",
    "d = {1: \"one\", 2: \"three\"}\n",
    "d1 = {3: \"three\",4:\"four\"}\n",
    "\n",
    "# adds elements in d1 to d\n",
    "d.update(d1)\n",
    "print(d)"
   ]
  },
  {
   "cell_type": "markdown",
   "metadata": {},
   "source": [
    "The [copy()](https://www.programiz.com/python-programming/methods/dictionary/copy) method returns a shallow copy of the dictionary. It doesn't modify the original dictionary."
   ]
  },
  {
   "cell_type": "code",
   "execution_count": null,
   "metadata": {
    "ExecuteTime": {
     "end_time": "2021-03-25T03:35:30.595211Z",
     "start_time": "2021-03-25T03:35:30.514567Z"
    }
   },
   "outputs": [],
   "source": [
    "%%mytutor -h 300\n",
    "original = {1:'one', 2:'two'}\n",
    "new = original.copy()\n",
    "\n",
    "print('Orignal: ', original)\n",
    "print('New: ', new)"
   ]
  },
  {
   "cell_type": "markdown",
   "metadata": {},
   "source": [
    "**Summary**\n",
    "\n",
    "We introduce set and dictionary. You need to know\n",
    "\n",
    "1. How to create, access, operate set and dictionary.\n",
    "2. Different methods of set and dictionary"
   ]
  }
 ],
 "metadata": {
  "kernelspec": {
   "display_name": "Python 3",
   "language": "python",
   "name": "python3"
  },
  "language_info": {
   "codemirror_mode": {
    "name": "ipython",
    "version": 3
   },
   "file_extension": ".py",
   "mimetype": "text/x-python",
   "name": "python",
   "nbconvert_exporter": "python",
   "pygments_lexer": "ipython3",
   "version": "3.7.9"
  },
  "latex_envs": {
   "LaTeX_envs_menu_present": true,
   "autoclose": false,
   "autocomplete": true,
   "bibliofile": "biblio.bib",
   "cite_by": "apalike",
   "current_citInitial": 1,
   "eqLabelWithNumbers": true,
   "eqNumInitial": 1,
   "hotkeys": {
    "equation": "Ctrl-E",
    "itemize": "Ctrl-I"
   },
   "labels_anchors": false,
   "latex_user_defs": false,
   "report_style_numbering": false,
   "user_envs_cfg": false
  },
  "rise": {
   "enable_chalkboard": true,
   "scroll": true,
   "theme": "white"
  },
  "toc": {
   "base_numbering": 1,
   "nav_menu": {
    "height": "195px",
    "width": "330px"
   },
   "number_sections": true,
   "sideBar": true,
   "skip_h1_title": true,
   "title_cell": "Table of Contents",
   "title_sidebar": "Contents",
   "toc_cell": false,
   "toc_position": {
    "height": "454.418px",
    "left": "1533px",
    "top": "110.284px",
    "width": "261px"
   },
   "toc_section_display": true,
   "toc_window_display": false
  }
 },
 "nbformat": 4,
 "nbformat_minor": 4
}

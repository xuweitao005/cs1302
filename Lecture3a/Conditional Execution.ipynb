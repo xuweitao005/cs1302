{
 "cells": [
  {
   "cell_type": "markdown",
   "metadata": {
    "slideshow": {
     "slide_type": "slide"
    }
   },
   "source": [
    "# Conditional Execution\n",
    "\n",
    "**CS1302 Introduction to Computer Programming**\n",
    "___"
   ]
  },
  {
   "cell_type": "code",
   "execution_count": 1,
   "metadata": {
    "ExecuteTime": {
     "end_time": "2021-01-24T01:35:08.804337Z",
     "start_time": "2021-01-24T01:35:08.735989Z"
    },
    "hide_input": false,
    "init_cell": true
   },
   "outputs": [],
   "source": [
    "# set up environment\n",
    "%reset -f\n",
    "import sys\n",
    "cs1302_site_packages = '/home/course/cs1302/site-packages'\n",
    "if cs1302_site_packages not in sys.path:\n",
    "    sys.path.append(cs1302_site_packages)\n",
    "%reload_ext mytutor\n",
    "from ipywidgets import interact"
   ]
  },
  {
   "cell_type": "markdown",
   "metadata": {
    "slideshow": {
     "slide_type": "subslide"
    }
   },
   "source": [
    "Content\n",
    "\n",
    "- Boolean Expression\n",
    "- Conditional execution\n",
    "   - If...Then...statement\n",
    "   - If...Then... else...statement"
   ]
  },
  {
   "cell_type": "markdown",
   "metadata": {
    "slideshow": {
     "slide_type": "subslide"
    }
   },
   "source": [
    "## Motivation"
   ]
  },
  {
   "cell_type": "markdown",
   "metadata": {
    "slideshow": {
     "slide_type": "fragment"
    }
   },
   "source": [
    "Conditional execution means running different pieces of code based on different conditions. Why?\n",
    "- Linear execution: Statement 1, Statement 2, etc. until the last statement is executed and the program terminates. Linear programs like these are very limited in the problems they can solve.\n",
    "- Conditional execution: execute statements only when some conditions are met."
   ]
  },
  {
   "cell_type": "markdown",
   "metadata": {
    "slideshow": {
     "slide_type": "fragment"
    }
   },
   "source": [
    "For instance, when trying to compute `a/b`, `b` may be `0` and division by `0` is invalid."
   ]
  },
  {
   "cell_type": "code",
   "execution_count": null,
   "metadata": {
    "ExecuteTime": {
     "end_time": "2021-01-21T04:15:51.132245Z",
     "start_time": "2021-01-21T04:15:51.082832Z"
    },
    "slideshow": {
     "slide_type": "fragment"
    }
   },
   "outputs": [],
   "source": [
    "def multiply_or_divide(a, b):\n",
    "    print('a:{}, b:{}, a*b:{}, a/b:{}'.format(a, b, a * b, a / b))\n",
    "\n",
    "\n",
    "multiply_or_divide(1, 2)\n",
    "multiply_or_divide(1, 0)  # multiplication is valid but not shown"
   ]
  },
  {
   "cell_type": "markdown",
   "metadata": {
    "slideshow": {
     "slide_type": "subslide"
    }
   },
   "source": [
    "Can we skip only the division but not multiplication when `b` is `0`? "
   ]
  },
  {
   "cell_type": "code",
   "execution_count": null,
   "metadata": {
    "ExecuteTime": {
     "end_time": "2021-01-21T04:15:58.226519Z",
     "start_time": "2021-01-21T04:15:58.220216Z"
    },
    "slideshow": {
     "slide_type": "fragment"
    }
   },
   "outputs": [],
   "source": [
    "def multiply_or_divide(a, b):\n",
    "    fix = (a / b if b else 'undefined')\n",
    "    print('a:{}, b:{}, a*b:{}, a/b:{}'.format(a, b, a * b, fix))\n",
    "\n",
    "\n",
    "multiply_or_divide(1, 2)\n",
    "multiply_or_divide(1, 0)  # multiplication is valid but not shown"
   ]
  },
  {
   "cell_type": "markdown",
   "metadata": {
    "slideshow": {
     "slide_type": "fragment"
    }
   },
   "source": [
    "The above solution involve:\n",
    "- a *boolean expression* `b` that checks whether a condition holds, and\n",
    "- a *conditional construct* `... if ... else ...` that specify which code block should be executed under what condition. \n",
    "- value_when_true **if** condition **else** value_when_false\n",
    "- Another format: \n",
    "   - if condition ：\n",
    "         Your code\n",
    "       \n",
    "- For example:\n",
    "    if fruit =='Apple':\n",
    "                   print('Yes')"
   ]
  },
  {
   "cell_type": "markdown",
   "metadata": {
    "slideshow": {
     "slide_type": "subslide"
    }
   },
   "source": [
    "## Boolean expressions"
   ]
  },
  {
   "cell_type": "markdown",
   "metadata": {
    "slideshow": {
     "slide_type": "subslide"
    }
   },
   "source": [
    "Boolean data type\n",
    "\n",
    "- The boolean data type only has two possible values *True* or *False*.\n",
    "- It's data type is represented by *bool* in Python.\n",
    "- Integers and floating point numbers can be converted to the boolean data type using *bool()* function.\n",
    "   - An int, float number set to zero returns *False*\n",
    "   - An integer, float number set to any other number, positive or negative, returns *True*\n",
    "   - Easy to remember: only 0 return *False*; any other number returns *True*\n",
    "   - If we convert True to int, we get 1; if we convert False to int, we get 0\n",
    "   \n",
    "Why Boolean data type?\n",
    "\n",
    "- It is common to use Booleans with control statements to determine the flow of a program\n",
    "- Some data only have two possible values, such as gender (male/female), binary number (1/0)"
   ]
  },
  {
   "cell_type": "code",
   "execution_count": null,
   "metadata": {
    "ExecuteTime": {
     "end_time": "2021-01-21T04:16:05.230587Z",
     "start_time": "2021-01-21T04:16:05.220802Z"
    },
    "slideshow": {
     "slide_type": "fragment"
    }
   },
   "outputs": [],
   "source": [
    "a = True\n",
    "b = False\n",
    "print(type(a))\n",
    "print(type(b))\n",
    "c=10\n",
    "c_bool=bool(c)\n",
    "d=10.5\n",
    "d_bool=bool(d)\n",
    "x =0\n",
    "print(x, 'is', bool(x))\n",
    "x=1\n",
    "print(x, 'is', bool(x))\n",
    "x=-2.5\n",
    "print(x, 'is', bool(x))\n",
    "\n",
    "print('True is', int(True))\n",
    "print('False is', int(False))"
   ]
  },
  {
   "cell_type": "markdown",
   "metadata": {
    "slideshow": {
     "slide_type": "subslide"
    }
   },
   "source": [
    "### Comparison Operators"
   ]
  },
  {
   "cell_type": "markdown",
   "metadata": {
    "slideshow": {
     "slide_type": "fragment"
    }
   },
   "source": [
    "**How to compare different values?**"
   ]
  },
  {
   "cell_type": "markdown",
   "metadata": {
    "slideshow": {
     "slide_type": "fragment"
    }
   },
   "source": [
    "Like the equality and inequality relationships in mathematics,  \n",
    "Python also have binary [*comparison/relational operators*](https://docs.python.org/3/reference/expressions.html#comparisons):"
   ]
  },
  {
   "cell_type": "markdown",
   "metadata": {
    "slideshow": {
     "slide_type": "subslide"
    }
   },
   "source": [
    "| Expression |  True if   |\n",
    "| ---------: | :--------- |\n",
    "|   `x == y` | $x=y$.     |\n",
    "|    `x < y` | $x<y$.     |\n",
    "|   `x <= y` | $x\\leq y$. |\n",
    "|    `x > y` | $x>y$.     |\n",
    "|   `x >= y` | $x\\geq y$. |\n",
    "|   `x != y` | $x\\neq y$. |\n",
    "\n",
    "The return value is True or False!"
   ]
  },
  {
   "cell_type": "markdown",
   "metadata": {
    "slideshow": {
     "slide_type": "fragment"
    }
   },
   "source": [
    "Explore these operators using the widgets below:"
   ]
  },
  {
   "cell_type": "code",
   "execution_count": null,
   "metadata": {
    "ExecuteTime": {
     "end_time": "2021-01-21T04:16:12.933406Z",
     "start_time": "2021-01-21T04:16:12.896538Z"
    },
    "code_folding": [],
    "slideshow": {
     "slide_type": "fragment"
    }
   },
   "outputs": [],
   "source": [
    "# Comparisons\n",
    "from ipywidgets import interact\n",
    "comparison_operators = ['==','<','<=','>','>=','!=']\n",
    "@interact(operand1='10',\n",
    "          operator=comparison_operators,\n",
    "          operand2='3')\n",
    "def comparison(operand1,operator,operand2):\n",
    "    expression = f\"{operand1} {operator} {operand2}\"\n",
    "    value = eval(expression)\n",
    "    print(f\"\"\"{'Expression:':>11} {expression}\\n{'Value:':>11} {value}\\n{'Type:':>11} {type(value)}\"\"\")"
   ]
  },
  {
   "cell_type": "markdown",
   "metadata": {
    "slideshow": {
     "slide_type": "fragment"
    }
   },
   "source": [
    "- These operators return either `True` or `False`, which are `keywords` of type *boolean*.\n",
    "- The expressions are called *boolean expressions* or *predicates*, named after [George Boole](https://en.wikipedia.org/wiki/George_Boole).\n",
    "- N.b., the equality operator `==` consists of *two equal signs*, different from the assignment operator `=`."
   ]
  },
  {
   "cell_type": "markdown",
   "metadata": {
    "slideshow": {
     "slide_type": "subslide"
    }
   },
   "source": [
    "**What is the precedence of comparison operators?**"
   ]
  },
  {
   "cell_type": "markdown",
   "metadata": {
    "slideshow": {
     "slide_type": "fragment"
    }
   },
   "source": [
    " All the comparison operators have the [same precedence](https://docs.python.org/3/reference/expressions.html?highlight=precedence#operator-precedence) lower than that of `+` and `-`."
   ]
  },
  {
   "cell_type": "code",
   "execution_count": null,
   "metadata": {
    "ExecuteTime": {
     "end_time": "2021-01-21T04:16:18.026883Z",
     "start_time": "2021-01-21T04:16:18.018440Z"
    },
    "slideshow": {
     "slide_type": "fragment"
    }
   },
   "outputs": [],
   "source": [
    "1 + 2 >= 3  # equivalent to (1 + 2) >= 3"
   ]
  },
  {
   "cell_type": "markdown",
   "metadata": {
    "slideshow": {
     "slide_type": "fragment"
    }
   },
   "source": [
    "Python allows multiple comparison operations to be chained together:\n",
    "- Note it's not evaluated from left to right directly: each comparison operation represent one boolean value\n",
    "-  E.g., x<=y<=z means (x<=y) and (y<=z) "
   ]
  },
  {
   "cell_type": "code",
   "execution_count": null,
   "metadata": {
    "ExecuteTime": {
     "end_time": "2020-09-14T04:53:58.592659Z",
     "start_time": "2020-09-14T04:53:58.586937Z"
    },
    "slideshow": {
     "slide_type": "fragment"
    }
   },
   "outputs": [],
   "source": [
    "2.0 == 2 > 1 #equivalent to (2.0 ==2) and (2>1)\n",
    "# it's not calculated as follows: first evaluate 2.0==2-->we get true (1),\n",
    "# then we evaluate 1>1--> we get false. This is wrong."
   ]
  },
  {
   "cell_type": "markdown",
   "metadata": {
    "slideshow": {
     "slide_type": "subslide"
    }
   },
   "source": [
    "**What is the associativity?**\n",
    "\n",
    "Suppose we have an expression A operator B operator C\n",
    "   - Left-associativity: (A operator B) operator C\n",
    "   - Right-associativity: A operator (B operator C)"
   ]
  },
  {
   "cell_type": "markdown",
   "metadata": {
    "slideshow": {
     "slide_type": "fragment"
    }
   },
   "source": [
    "Comparison operations are [*non-associative*](https://en.wikipedia.org/wiki/Operator_associativity#Non-associative_operators):\n",
    "\n",
    "   - neither (A operator B) operator C nor A operator (B operator C)"
   ]
  },
  {
   "cell_type": "code",
   "execution_count": null,
   "metadata": {
    "ExecuteTime": {
     "end_time": "2020-09-14T04:56:48.675092Z",
     "start_time": "2020-09-14T04:56:48.669661Z"
    },
    "slideshow": {
     "slide_type": "fragment"
    }
   },
   "outputs": [],
   "source": [
    "(2.0 == 2) > 1, 2.0 == (2 > 1)  # not the same as 2.0 == 2 > 1--> (2.0==2) and (2>1)"
   ]
  },
  {
   "cell_type": "markdown",
   "metadata": {
    "slideshow": {
     "slide_type": "fragment"
    }
   },
   "source": [
    "**Errorata** in [Halterman17] due to a misunderstanding of non-associativity vs left-to-right evaluation order:\n",
    "\n",
    "- [Halterman17, p.69](https://archive.org/stream/2018Fundamentals.ofPython?ref=ol#page/n79/mode/1up):\n",
    "    > The relational operators are binary operators and are all ~left associative~ **non-associative**.\n",
    "- [Halterman17, p.50, Table 3.2](https://archive.org/stream/2018Fundamentals.ofPython?ref=ol#page/n60/mode/1up):\n",
    "    - `=` should be non-associative instead of right-associative.\n",
    "    - The corresponding table in `Lecture2/Expressions and Arithmetic.ipynb` should also be corrected accordingly.\n",
    "    \n",
    "Assignment operator '=' and comparison/relational operators are non-associative"
   ]
  },
  {
   "cell_type": "markdown",
   "metadata": {
    "slideshow": {
     "slide_type": "subslide"
    }
   },
   "source": [
    "**Exercise** Explain why the following boolean expressions have different values."
   ]
  },
  {
   "cell_type": "code",
   "execution_count": null,
   "metadata": {
    "ExecuteTime": {
     "end_time": "2020-09-14T04:58:51.198490Z",
     "start_time": "2020-09-14T04:58:51.192228Z"
    },
    "slideshow": {
     "slide_type": "fragment"
    }
   },
   "outputs": [],
   "source": [
    "1 <= 2 < 3 != 4, (1 <= 2) < (3 != 4)"
   ]
  },
  {
   "cell_type": "markdown",
   "metadata": {
    "ExecuteTime": {
     "end_time": "2020-09-08T04:47:41.928758Z",
     "start_time": "2020-09-08T04:47:41.922830Z"
    },
    "deletable": false,
    "nbgrader": {
     "cell_type": "markdown",
     "checksum": "4a4992e3ff7d2b69137b4244b922db4a",
     "grade": true,
     "grade_id": "chained_relational_operator",
     "locked": false,
     "points": 0,
     "schema_version": 3,
     "solution": true,
     "task": false
    },
    "slideshow": {
     "slide_type": "notes"
    }
   },
   "source": [
    "YOUR ANSWER HERE"
   ]
  },
  {
   "cell_type": "markdown",
   "metadata": {
    "slideshow": {
     "slide_type": "subslide"
    }
   },
   "source": [
    "**Exercise** The comparison operators can be applied to different data types, as illustrated below.  \n",
    "Explain the meaning of the operators in each of the following expressions.\n",
    "\n",
    "- Recall characters are represented by numbers (ASCII table)\n",
    "   - 'A'-'Z' is 65-90; 'a'-'z' is 97-122.\n",
    "   - when we compare characters, we're actually comparing their corresponding numbers\n",
    "- when we compare strings, we compare each character from left to right one-by-one!\n",
    "   - once one character is greater than or less than another; we stop \n",
    "   - so 'aBc'<'abc' because 'B'<'b'\n",
    "   - if all characters are the same, but they have different length; the longer one is greater.\n",
    "   - so 'abcd' > 'abc'"
   ]
  },
  {
   "cell_type": "code",
   "execution_count": null,
   "metadata": {
    "ExecuteTime": {
     "end_time": "2021-01-21T04:19:53.743628Z",
     "start_time": "2021-01-21T04:19:53.712379Z"
    },
    "code_folding": [],
    "slideshow": {
     "slide_type": "fragment"
    }
   },
   "outputs": [],
   "source": [
    "# Comparisons beyond numbers\n",
    "@interact(expression=[\n",
    "    '10 == 10.', '\"A\" == \"A\"', '\"A\" == \"A \"', '\"A\" != \"a\"', \n",
    "    '\"A\" > \"a\"', '\"aBcd\" < \"abd\"', '\"A\" != 64', '\"A\" < 64'\n",
    "])\n",
    "def relational_expression(expression):\n",
    "    print(eval(expression))"
   ]
  },
  {
   "cell_type": "markdown",
   "metadata": {
    "ExecuteTime": {
     "end_time": "2020-09-07T12:00:24.402195Z",
     "start_time": "2020-09-07T12:00:24.395752Z"
    },
    "deletable": false,
    "nbgrader": {
     "cell_type": "markdown",
     "checksum": "88dd5fd1da72d43cdf23d2cf6db07c8d",
     "grade": true,
     "grade_id": "relational_expression",
     "locked": false,
     "points": 0,
     "schema_version": 3,
     "solution": true,
     "task": false
    },
    "slideshow": {
     "slide_type": "fragment"
    }
   },
   "source": [
    "YOUR ANSWER HERE"
   ]
  },
  {
   "cell_type": "markdown",
   "metadata": {
    "slideshow": {
     "slide_type": "subslide"
    }
   },
   "source": [
    "**Is `!` the same as the `not` operator?**\n",
    "\n",
    "Is `!=` the same as `not =`?"
   ]
  },
  {
   "cell_type": "markdown",
   "metadata": {
    "slideshow": {
     "slide_type": "fragment"
    }
   },
   "source": [
    "**Errata** There is an error in [Halterman17, p.69](https://archive.org/stream/2018Fundamentals.ofPython?ref=ol#page/n79/mode/1up) due to confusion with C language:  \n",
    "> ... `!(x >= 10)` and `!(10 <= x)` are ~equivalent~ **invalid**.\n",
    "- We can write `1 != 2` as `not 1 == 2` but not `!(1 == 2)` because\n",
    "- `!` is not a logical operator. It is used to call a [system shell command](https://ipython.readthedocs.io/en/stable/interactive/tutorial.html?highlight=system%20call#system-shell-commands) in IPython.\n",
    "- Confused? Only need to remember ! and not are different!"
   ]
  },
  {
   "cell_type": "code",
   "execution_count": null,
   "metadata": {
    "ExecuteTime": {
     "end_time": "2021-01-23T13:21:26.077962Z",
     "start_time": "2021-01-23T13:21:25.955359Z"
    },
    "slideshow": {
     "slide_type": "fragment"
    }
   },
   "outputs": [],
   "source": [
    "!(1 == 2) #this expression is invalid, it should be not (1 == 2)"
   ]
  },
  {
   "cell_type": "markdown",
   "metadata": {
    "slideshow": {
     "slide_type": "subslide"
    }
   },
   "source": [
    "**How to compare floating point numbers?**"
   ]
  },
  {
   "cell_type": "code",
   "execution_count": null,
   "metadata": {
    "ExecuteTime": {
     "end_time": "2021-01-23T13:22:10.111133Z",
     "start_time": "2021-01-23T13:22:10.106206Z"
    },
    "slideshow": {
     "slide_type": "fragment"
    }
   },
   "outputs": [],
   "source": [
    "x = 10\n",
    "y = (x**(1/3))**3\n",
    "print(x == y)\n",
    "print(x)\n",
    "print(y)\n",
    "#10/3=3.33333\n",
    "print(3.33333*3)"
   ]
  },
  {
   "cell_type": "markdown",
   "metadata": {
    "slideshow": {
     "slide_type": "fragment"
    }
   },
   "source": [
    "Why False? Shouldn't $(x^{\\frac13})^3=x$?"
   ]
  },
  {
   "cell_type": "markdown",
   "metadata": {
    "slideshow": {
     "slide_type": "fragment"
    }
   },
   "source": [
    "- Floating point numbers have finite precisions and so  \n",
    "- we should instead check whether the numbers are close enough."
   ]
  },
  {
   "cell_type": "markdown",
   "metadata": {
    "slideshow": {
     "slide_type": "subslide"
    }
   },
   "source": [
    "One method of comparing floating point numbers:"
   ]
  },
  {
   "cell_type": "code",
   "execution_count": null,
   "metadata": {
    "ExecuteTime": {
     "end_time": "2021-01-23T13:22:12.987607Z",
     "start_time": "2021-01-23T13:22:12.978149Z"
    },
    "slideshow": {
     "slide_type": "fragment"
    }
   },
   "outputs": [],
   "source": [
    "abs(x - y) <= 1e-9\n",
    "#abs(a)---> return absolute value of a"
   ]
  },
  {
   "cell_type": "markdown",
   "metadata": {
    "slideshow": {
     "slide_type": "fragment"
    }
   },
   "source": [
    "`abs` is a function that returns the absolute value of its argument. Hence, the above translates to\n",
    "$$|x - y| \\leq \\delta$$ or equivalently $$y-\\delta \\leq x \\leq +\\delta_{\\text{abs}} $$\n",
    "where $\\delta_{\\text{abs}}$ is called the *absolute tolerance*. "
   ]
  },
  {
   "cell_type": "markdown",
   "metadata": {
    "slideshow": {
     "slide_type": "subslide"
    }
   },
   "source": [
    "**Is an tolerance of `1e-9` good enough?**"
   ]
  },
  {
   "cell_type": "markdown",
   "metadata": {
    "slideshow": {
     "slide_type": "fragment"
    }
   },
   "source": [
    "What if we want to compare `x = 1e10` instead of `10`?"
   ]
  },
  {
   "cell_type": "code",
   "execution_count": null,
   "metadata": {
    "ExecuteTime": {
     "end_time": "2021-01-23T13:22:23.507702Z",
     "start_time": "2021-01-23T13:22:23.502426Z"
    },
    "slideshow": {
     "slide_type": "fragment"
    }
   },
   "outputs": [],
   "source": [
    "x = 1e10\n",
    "y = (x**(1/3))**3\n",
    "print(abs(x - y) <= 1e-9)\n",
    "print(x)\n",
    "print(y)"
   ]
  },
  {
   "cell_type": "markdown",
   "metadata": {
    "slideshow": {
     "slide_type": "fragment"
    }
   },
   "source": [
    "Floating point numbers \"float\" at different scales.  \n",
    "A better way to use the [`isclose`](https://docs.python.org/3/library/math.html#math.isclose) function from `math` module. "
   ]
  },
  {
   "cell_type": "code",
   "execution_count": null,
   "metadata": {
    "ExecuteTime": {
     "end_time": "2021-01-23T13:23:16.223155Z",
     "start_time": "2021-01-23T13:23:16.218727Z"
    },
    "slideshow": {
     "slide_type": "fragment"
    }
   },
   "outputs": [],
   "source": [
    "import math   #import a library called math\n",
    "math.isclose(x, y)"
   ]
  },
  {
   "cell_type": "markdown",
   "metadata": {
    "slideshow": {
     "slide_type": "subslide"
    }
   },
   "source": [
    "**How does it work?[optional]**"
   ]
  },
  {
   "cell_type": "markdown",
   "metadata": {
    "slideshow": {
     "slide_type": "fragment"
    }
   },
   "source": [
    "`math.isclose(x,y)` implements\n",
    "$$ |x - y| \\leq \\max\\{\\delta_{\\text{rel}} \\max\\{|x|,|y|\\},\\delta_{\\text{abs}}\\}$$\n",
    "with the default\n",
    "- *relative tolerance* $\\delta_{\\text{rel}}$ equal to `1e-9`, and\n",
    "- absolution tolerance $\\delta_{\\text{abs}}$ equal to `0.0`."
   ]
  },
  {
   "cell_type": "markdown",
   "metadata": {
    "slideshow": {
     "slide_type": "fragment"
    }
   },
   "source": [
    "**Exercise** Write the boolean expression implemented by `isclose`. You can use the function `max(a,b)` to find the maximum of `a` and `b`. "
   ]
  },
  {
   "cell_type": "code",
   "execution_count": null,
   "metadata": {
    "ExecuteTime": {
     "end_time": "2020-09-14T02:28:38.409727Z",
     "start_time": "2020-09-14T02:28:38.400702Z"
    },
    "deletable": false,
    "nbgrader": {
     "cell_type": "code",
     "checksum": "fc27e5090c70dc1783c087b0bfbaf4aa",
     "grade": false,
     "grade_id": "isclose",
     "locked": false,
     "schema_version": 3,
     "solution": true,
     "task": false
    },
    "slideshow": {
     "slide_type": "fragment"
    }
   },
   "outputs": [],
   "source": [
    "rel_tol, abs_tol = 1e-9, 0.0\n",
    "x, y = 1e-100, 2e-100\n",
    "# YOUR CODE HERE\n",
    "raise NotImplementedError()"
   ]
  },
  {
   "cell_type": "markdown",
   "metadata": {
    "slideshow": {
     "slide_type": "slide"
    }
   },
   "source": [
    "### Boolean Operations\n",
    "what is boolean operations?"
   ]
  },
  {
   "cell_type": "markdown",
   "metadata": {
    "slideshow": {
     "slide_type": "fragment"
    }
   },
   "source": [
    "Since chained comparisons are non-associative. It follows a different evaluation rule than arithmetical operators."
   ]
  },
  {
   "cell_type": "markdown",
   "metadata": {
    "slideshow": {
     "slide_type": "fragment"
    }
   },
   "source": [
    "E.g., `1 <= 2 < 3 != 4` is evaluated as follows:"
   ]
  },
  {
   "cell_type": "code",
   "execution_count": null,
   "metadata": {
    "ExecuteTime": {
     "end_time": "2021-01-23T13:24:47.822045Z",
     "start_time": "2021-01-23T13:24:47.815961Z"
    },
    "slideshow": {
     "slide_type": "fragment"
    }
   },
   "outputs": [],
   "source": [
    "(1 <= 2) and (2 < 3) and (3 != 4)"
   ]
  },
  {
   "cell_type": "markdown",
   "metadata": {
    "slideshow": {
     "slide_type": "fragment"
    }
   },
   "source": [
    "The above is called a *compound boolean expression*, which is formed using the *boolean/logical operator* `and`."
   ]
  },
  {
   "cell_type": "markdown",
   "metadata": {
    "slideshow": {
     "slide_type": "subslide"
    }
   },
   "source": [
    "**Why use boolean operators?**"
   ]
  },
  {
   "cell_type": "markdown",
   "metadata": {
    "slideshow": {
     "slide_type": "fragment"
    }
   },
   "source": [
    "What if we want to check whether a number is either $< 0$ or $\\geq 100$?  \n",
    "Can we achieve this only by chaining the comparison operators or applying the logical `and`?"
   ]
  },
  {
   "cell_type": "code",
   "execution_count": null,
   "metadata": {
    "ExecuteTime": {
     "end_time": "2021-01-23T13:25:02.779575Z",
     "start_time": "2021-01-23T13:25:02.748657Z"
    },
    "code_folding": [],
    "slideshow": {
     "slide_type": "fragment"
    }
   },
   "outputs": [],
   "source": [
    "# Check if a number is outside a range.\n",
    "@interact(x='15')\n",
    "def check_out_of_range(x):\n",
    "    x_ = float(x)\n",
    "    is_out_of_range = x_<0 or x_>=100\n",
    "    print('Out of range [0,100):', is_out_of_range)"
   ]
  },
  {
   "cell_type": "markdown",
   "metadata": {
    "slideshow": {
     "slide_type": "fragment"
    }
   },
   "source": [
    "- `and` alone is not [functionally complete](https://en.wikipedia.org/wiki/Functional_completeness),  i.e., not enough to give all possible boolean functions. \n",
    "- In addition to `and`, we can also use `or` and `not`. \n",
    "- The definition of logical/boolean operators is listed below"
   ]
  },
  {
   "cell_type": "markdown",
   "metadata": {
    "ExecuteTime": {
     "end_time": "2020-09-13T10:03:29.705135Z",
     "start_time": "2020-09-13T10:03:29.692729Z"
    },
    "slideshow": {
     "slide_type": "fragment"
    }
   },
   "source": [
    "| Operator | Description                                                 | Example        |\n",
    "| ---------- | ------------------------------------------------------------- | ---------------- |\n",
    "| and      | Return True when both statements are true                   | x < 5 and x < 10 |\n",
    "| or       | Returns True when one of the statement is true              | x < 5 or x < 10    |\n",
    "| not      | Reverse the result, return True when the statement is False | not ( x < 5 )     |"
   ]
  },
  {
   "cell_type": "markdown",
   "metadata": {
    "slideshow": {
     "slide_type": "fragment"
    }
   },
   "source": [
    "|   `x`   |   `y`   | `x and y` | `x or y` | `not x` |\n",
    "| :-----: | :-----: | :-------: | :------: | :-----: |\n",
    "| `True`  | `True`  |  `True`   |  `True`  | `False` |\n",
    "| `True`  | `False` |  `False`  |  `True`  | `False` |\n",
    "| `False` | `True`  |  `False`  |  `True`  | `True`  |\n",
    "| `False` | `False` |  `False`  | `False`  | `True`  |"
   ]
  },
  {
   "cell_type": "markdown",
   "metadata": {
    "slideshow": {
     "slide_type": "fragment"
    }
   },
   "source": [
    "The above table is called a *truth table*. It enumerates all possible input and output combinations for each boolean operator. "
   ]
  },
  {
   "cell_type": "markdown",
   "metadata": {
    "slideshow": {
     "slide_type": "subslide"
    }
   },
   "source": [
    "**What happens when x and y are numbers?**\n",
    "\n",
    "We know that number `0` means logical `False` and other numbers means logical  `True`\n",
    "\n",
    "|   `x`   |   `y`   | `x and y` | `x or y` | `not x` |\n",
    "| :-----: | :-----: | :-------: | :------: | :-----: |\n",
    "| `not 0`  | `doesn't matter`  |  `y`   |  `x`  | `False` |\n",
    "| `0`  | `doesn't matter` |  `x`  |  `y`  | `True` |\n",
    "\n",
    "How to understand?\n",
    "\n",
    "* `x and y` return `True` only when `x` and `y` are `True`, so\n",
    "   * if `x` is `True`, we need to evaluate `y` to determine whether `x and y` is `True` or `False`. We know that the return value of a number is itself (y will return y). So finally, the expression `x and y` will return `y`.\n",
    "   * if `x` is `False`, we don't need to evaluate `y` because not matter `y` is `True` or `False`, `x and y` is `False`. So we will stop after evaluating `x` (x will return x). So finally, the expression `x and y` will return `x`.\n",
    "   \n",
    "* `x or y` return `False` only when `x` and `y` are `False`, so\n",
    "   * if `x` is `True`, we don't need to evaluate `y` because not matter `y` is `True` or `False`, `x and y` is `True`. So finally, the expression `x and y` will return `x`.\n",
    "   * if `x` is `False`, we need to evaluate `y` to determine whether `x or y` is `True` or `False`. Evaluating `y` will return `y`, so finally, the expression `x and y` will return `y`.\n",
    "   \n",
    "* `not x` is easy to understand because `not True` will return `False` and `not False` will return `True`\n",
    "\n",
    "\n",
    "**Easy to remember: if we know the return value of `x and y` after evaluting x, it will return x; otherwise it returns y**\n",
    "\n",
    "For example, suppose x =4, y=5\n",
    "\n",
    "* x and y will return 5\n",
    "* x or y will return 4\n",
    "* not x will return 0\n",
    "\n",
    "now suppose x=0, y=5\n",
    "\n",
    "* x and y will return 0\n",
    "* x or y will return 5\n",
    "* not x will return 1\n",
    "\n",
    "Run the code below to test"
   ]
  },
  {
   "cell_type": "code",
   "execution_count": null,
   "metadata": {
    "ExecuteTime": {
     "end_time": "2021-01-23T13:27:34.928567Z",
     "start_time": "2021-01-23T13:27:34.924373Z"
    }
   },
   "outputs": [],
   "source": [
    "x=4\n",
    "y=5\n",
    "print(x and y)\n",
    "print(x or y)\n",
    "print(not x)\n",
    "\n",
    "x=0\n",
    "y=5\n",
    "print(x and y)\n",
    "print(x or y)\n",
    "print(not x)"
   ]
  },
  {
   "cell_type": "markdown",
   "metadata": {
    "slideshow": {
     "slide_type": "subslide"
    }
   },
   "source": [
    "**How are chained logical operators evaluated?  \n",
    "What are the precedence and associativity for the logical operators?**"
   ]
  },
  {
   "cell_type": "markdown",
   "metadata": {
    "slideshow": {
     "slide_type": "fragment"
    }
   },
   "source": [
    "- All binary boolean operators are left associative.  \n",
    "- [Precedence](https://docs.python.org/3/reference/expressions.html?highlight=precedence#operator-precedence): `comparison operators` > `not` > `and` > `or` \n",
    "\n",
    "\n",
    "\n"
   ]
  },
  {
   "cell_type": "markdown",
   "metadata": {
    "slideshow": {
     "slide_type": "subslide"
    }
   },
   "source": [
    "**Exercise** Explain what the values of the following three compound boolean expressions are:\n",
    "- Expression A: `True or False and True`\n",
    "- Expression B: `True and False and True`\n",
    "- Expression C: `True or True and False`"
   ]
  },
  {
   "cell_type": "code",
   "execution_count": null,
   "metadata": {
    "ExecuteTime": {
     "end_time": "2021-01-23T13:30:23.749601Z",
     "start_time": "2021-01-23T13:30:23.744424Z"
    }
   },
   "outputs": [],
   "source": [
    "print(True or False and True)\n",
    "print(True and False and True)\n",
    "print(True or True and False)"
   ]
  },
  {
   "cell_type": "markdown",
   "metadata": {
    "deletable": false,
    "nbgrader": {
     "cell_type": "markdown",
     "checksum": "42450998afd0f94e7b203857d0335ed1",
     "grade": true,
     "grade_id": "compound-boolean",
     "locked": false,
     "points": 0,
     "schema_version": 3,
     "solution": true,
     "task": false
    },
    "slideshow": {
     "slide_type": "fragment"
    }
   },
   "source": [
    "YOUR ANSWER HERE"
   ]
  },
  {
   "cell_type": "markdown",
   "metadata": {
    "slideshow": {
     "slide_type": "subslide"
    }
   },
   "source": [
    "Instead of following the precedence and associativity, however, a compound boolean expression uses a [short-circuit evaluation](https://docs.python.org/3/reference/expressions.html?highlight=precedence#boolean-operations).  "
   ]
  },
  {
   "cell_type": "markdown",
   "metadata": {
    "slideshow": {
     "slide_type": "fragment"
    }
   },
   "source": [
    "To understand this, we will use the following function to evaluate a boolean expression verbosely."
   ]
  },
  {
   "cell_type": "code",
   "execution_count": null,
   "metadata": {
    "ExecuteTime": {
     "end_time": "2021-01-23T13:31:02.922781Z",
     "start_time": "2021-01-23T13:31:02.916773Z"
    },
    "slideshow": {
     "slide_type": "fragment"
    }
   },
   "outputs": [],
   "source": [
    "def verbose(id,boolean):\n",
    "    '''Identify evaluated boolean expressions.'''\n",
    "    print(id,'evaluated:',boolean)\n",
    "    return boolean\n",
    "\n",
    "verbose(1,True)\n",
    "verbose(2,False)\n",
    "verbose(3,False) #function verbose() print the id and its boolean value"
   ]
  },
  {
   "cell_type": "code",
   "execution_count": null,
   "metadata": {
    "ExecuteTime": {
     "end_time": "2021-01-23T13:31:32.448816Z",
     "start_time": "2021-01-23T13:31:32.442386Z"
    },
    "slideshow": {
     "slide_type": "fragment"
    }
   },
   "outputs": [],
   "source": [
    "verbose('A',verbose(1,True) or verbose(2,False) and verbose(3,True))  # True or (False and True)"
   ]
  },
  {
   "cell_type": "markdown",
   "metadata": {
    "slideshow": {
     "slide_type": "fragment"
    }
   },
   "source": [
    "**Why expression 2 and 3 are not evaluated?**"
   ]
  },
  {
   "cell_type": "markdown",
   "metadata": {
    "slideshow": {
     "slide_type": "fragment"
    }
   },
   "source": [
    "Because True or ... must be True (Why?) so Python does not look further. From the [documentation](https://docs.python.org/3/reference/expressions.html?highlight=precedence#boolean-operations):"
   ]
  },
  {
   "cell_type": "markdown",
   "metadata": {
    "slideshow": {
     "slide_type": "fragment"
    }
   },
   "source": [
    "> The expression `x or y` first evaluates `x`; if `x` is true, its value is returned; otherwise, `y` is evaluated and the resulting value is returned."
   ]
  },
  {
   "cell_type": "markdown",
   "metadata": {
    "slideshow": {
     "slide_type": "subslide"
    }
   },
   "source": [
    "Note that:\n",
    "- Even though `or` has lower precedence than `and`, it is still evaluated first. \n",
    "\n",
    "- Why? to save time\n",
    "\n",
    "- The evaluation order for logical operators is left-to-right."
   ]
  },
  {
   "cell_type": "code",
   "execution_count": null,
   "metadata": {
    "ExecuteTime": {
     "end_time": "2021-01-23T13:33:00.068860Z",
     "start_time": "2021-01-23T13:33:00.059230Z"
    },
    "slideshow": {
     "slide_type": "subslide"
    }
   },
   "outputs": [],
   "source": [
    "verbose('B',verbose(4,True) and verbose(5,False) and verbose(6,True))  # (True and False) and True"
   ]
  },
  {
   "cell_type": "markdown",
   "metadata": {
    "ExecuteTime": {
     "end_time": "2020-09-08T15:48:22.353601Z",
     "start_time": "2020-09-08T15:48:22.347753Z"
    },
    "slideshow": {
     "slide_type": "subslide"
    }
   },
   "source": [
    "**Why expression 6 is not evaluated?**"
   ]
  },
  {
   "cell_type": "markdown",
   "metadata": {
    "slideshow": {
     "slide_type": "fragment"
    }
   },
   "source": [
    "`True and False and ...` must be `False` so Python does not look further."
   ]
  },
  {
   "cell_type": "markdown",
   "metadata": {
    "slideshow": {
     "slide_type": "fragment"
    }
   },
   "source": [
    "> The expression `x and y` first evaluates `x`; if `x` is false, its value is returned; otherwise, `y` is evaluated and the resulting value is returned."
   ]
  },
  {
   "cell_type": "markdown",
   "metadata": {
    "ExecuteTime": {
     "end_time": "2020-09-13T10:30:20.287788Z",
     "start_time": "2020-09-13T10:30:20.280566Z"
    },
    "slideshow": {
     "slide_type": "fragment"
    }
   },
   "source": [
    "A short Summary\n",
    "\n",
    "In short-circuit evaluation:\n",
    "- A or B or C or D or E or F...as long as there's one **True**, this expression returns **True**. No need to check each *or*\n",
    "- A and B and C and D and E and F...as long as there's one **False**, this expression returns **False**. No need to check each *and*"
   ]
  },
  {
   "cell_type": "markdown",
   "metadata": {
    "slideshow": {
     "slide_type": "subslide"
    }
   },
   "source": [
    "Indeed, logical operators can even be applied to non-boolean operands. From the [documentation](https://docs.python.org/3/reference/expressions.html?highlight=precedence#boolean-operations):"
   ]
  },
  {
   "cell_type": "markdown",
   "metadata": {
    "slideshow": {
     "slide_type": "fragment"
    }
   },
   "source": [
    "> In the context of Boolean operations, and also when expressions are used by control flow statements, the following values are interpreted as false: `False`, None, numeric zero of all types, and empty strings and containers (including strings, tuples, lists, dictionaries, sets and frozensets). All other values are interpreted as true."
   ]
  },
  {
   "cell_type": "markdown",
   "metadata": {
    "slideshow": {
     "slide_type": "subslide"
    }
   },
   "source": [
    "**Exercise** What does the following codes work?"
   ]
  },
  {
   "cell_type": "code",
   "execution_count": null,
   "metadata": {
    "ExecuteTime": {
     "end_time": "2020-09-14T05:33:40.074896Z",
     "start_time": "2020-09-14T05:33:39.072267Z"
    },
    "slideshow": {
     "slide_type": "fragment"
    }
   },
   "outputs": [],
   "source": [
    "print('You have entered', input() or 'nothing') #change nothing to None"
   ]
  },
  {
   "cell_type": "markdown",
   "metadata": {
    "deletable": false,
    "nbgrader": {
     "cell_type": "markdown",
     "checksum": "c17fc86ed2bc2b546ee55df234859d0b",
     "grade": true,
     "grade_id": "or",
     "locked": false,
     "points": 0,
     "schema_version": 3,
     "solution": true,
     "task": false
    },
    "slideshow": {
     "slide_type": "fragment"
    }
   },
   "source": [
    "YOUR ANSWER HERE"
   ]
  },
  {
   "cell_type": "markdown",
   "metadata": {
    "slideshow": {
     "slide_type": "fragment"
    }
   },
   "source": [
    "**Is empty string equal to False?**\n",
    "\n",
    "No, empty string is considered as False, but not strictly equal"
   ]
  },
  {
   "cell_type": "code",
   "execution_count": null,
   "metadata": {
    "ExecuteTime": {
     "end_time": "2021-01-23T13:36:31.190138Z",
     "start_time": "2021-01-23T13:36:31.187048Z"
    },
    "slideshow": {
     "slide_type": "fragment"
    }
   },
   "outputs": [],
   "source": [
    "print('Is empty string equal to False:',''==False)"
   ]
  },
  {
   "cell_type": "markdown",
   "metadata": {
    "slideshow": {
     "slide_type": "fragment"
    }
   },
   "source": [
    "- An empty string is regarded as False in a boolean operation but\n",
    "- a *comparison operation is not a boolean operation*, even though it forms a boolean expression.\n",
    "\n",
    "- comparison operations: `==`,`<=`,`>=`,`!=`; boolean operations: `and`, `or`, `not`; They both return `True` or `False`, but they're different in essence.\n",
    "\n",
    "- An empty string is regarded as False, but they're differnet data types! If we use comparison operation '==', they are not equal. But if we convert their data type, they will be equal.\n",
    "- See example below"
   ]
  },
  {
   "cell_type": "code",
   "execution_count": null,
   "metadata": {
    "ExecuteTime": {
     "end_time": "2020-09-14T05:36:19.692310Z",
     "start_time": "2020-09-14T05:36:19.686020Z"
    },
    "slideshow": {
     "slide_type": "fragment"
    }
   },
   "outputs": [],
   "source": [
    "print('This is comparison operation', '' == False) \n",
    "print('This is comparison operation',bool('') == False)"
   ]
  },
  {
   "cell_type": "markdown",
   "metadata": {
    "slideshow": {
     "slide_type": "slide"
    }
   },
   "source": [
    "## Conditional Constructs"
   ]
  },
  {
   "cell_type": "markdown",
   "metadata": {
    "slideshow": {
     "slide_type": "fragment"
    }
   },
   "source": [
    "Consider writing a program that sorts values in *ascending* order.  \n",
    "A *sorting algorithm* refers to the procedure of sorting values in order.  \n",
    "\n",
    "E.g., sort [1,2,5,4,3] to [1,2,3,4,5]\n",
    "\n",
    "- our logic is: find the largest value and put it in the last position\n",
    "- then find the second largest value and put it in the second last position\n",
    "- repeat the above steps for all the values\n",
    "- we need some conditional statement: **if** x is the largest, **then** we move it to the last position"
   ]
  },
  {
   "cell_type": "markdown",
   "metadata": {
    "slideshow": {
     "slide_type": "subslide"
    }
   },
   "source": [
    "### If-Then Construct"
   ]
  },
  {
   "cell_type": "markdown",
   "metadata": {
    "slideshow": {
     "slide_type": "subslide"
    }
   },
   "source": [
    "**How to sort two values?**"
   ]
  },
  {
   "cell_type": "markdown",
   "metadata": {
    "slideshow": {
     "slide_type": "fragment"
    }
   },
   "source": [
    "Given two values are stored as `x` and `y`, we want to \n",
    "- `print(x,y)` if `x <= y`, and\n",
    "- `print(y,x)` if `y < x`."
   ]
  },
  {
   "cell_type": "markdown",
   "metadata": {
    "slideshow": {
     "slide_type": "subslide"
    }
   },
   "source": [
    "Such a program flow is often represented by a flowchart like the following:"
   ]
  },
  {
   "cell_type": "markdown",
   "metadata": {
    "slideshow": {
     "slide_type": "fragment"
    }
   },
   "source": [
    "<img src=\"https://www.cs.cityu.edu.hk/~ccha23/cs1302/Lecture3/sort_two_values1.svg\" style=\"max-width:300px;\" alt=\"sort_two_values(x,y);\n",
    "if(x<=y) {\n",
    "  print(x, y)\n",
    "}\n",
    "if (y<x) {\n",
    "  print(y, x)\n",
    "}\">"
   ]
  },
  {
   "cell_type": "markdown",
   "metadata": {
    "slideshow": {
     "slide_type": "fragment"
    }
   },
   "source": [
    "Python provides the [`if` statement](https://docs.python.org/3/reference/compound_stmts.html#the-if-statement) to implement the above [*control flow*](https://en.wikipedia.org/wiki/Control_flow) specified by the diamonds."
   ]
  },
  {
   "cell_type": "code",
   "execution_count": null,
   "metadata": {
    "ExecuteTime": {
     "end_time": "2021-01-23T13:38:02.511679Z",
     "start_time": "2021-01-23T13:38:02.480698Z"
    },
    "code_folding": [
     8
    ],
    "slideshow": {
     "slide_type": "fragment"
    }
   },
   "outputs": [],
   "source": [
    "# Sort two values using if statement\n",
    "def sort_two_values(x, y):\n",
    "    if x <= y:\n",
    "        print(x, y)\n",
    "        \n",
    "    if y < x: print(y, x)\n",
    "\n",
    "\n",
    "@interact(x='1', y='0')\n",
    "def sort_two_values_app(x, y):\n",
    "    sort_two_values(eval(x), eval(y))"
   ]
  },
  {
   "cell_type": "markdown",
   "metadata": {
    "slideshow": {
     "slide_type": "subslide"
    }
   },
   "source": [
    "We can visualize the execution as follows:"
   ]
  },
  {
   "cell_type": "code",
   "execution_count": null,
   "metadata": {
    "ExecuteTime": {
     "end_time": "2021-01-23T13:38:24.080130Z",
     "start_time": "2021-01-23T13:38:24.075583Z"
    },
    "slideshow": {
     "slide_type": "fragment"
    }
   },
   "outputs": [],
   "source": [
    "%%mytutor -h 350\n",
    "def sort_two_values(x, y):\n",
    "    if x <= y:\n",
    "        print(x, y)\n",
    "    if y < x: print(y, x)\n",
    "        \n",
    "sort_two_values(1,0)\n",
    "sort_two_values(1,2)"
   ]
  },
  {
   "cell_type": "markdown",
   "metadata": {
    "slideshow": {
     "slide_type": "fragment"
    }
   },
   "source": [
    "Python use indentation to indicate code blocks or *suite*: \n",
    "- `print(x, y)` (Line 5) is indented to the right of `if x <= y:` (Line 4) to indicate it is the body of the if statement.\n",
    "- For convenience, `if y < x: print(y, x)` (Line 6) is a one-liner for an `if` statement that only has one line in its block.\n",
    "- Both `if` statements (Line 4-6) are indented to the right of `def sort_two_values(x,y):` (Line 3) to indicate that they are part of the body of the function `sort_two_values`.   \n",
    "- Don't forget indentation and semicolon `:`"
   ]
  },
  {
   "cell_type": "code",
   "execution_count": null,
   "metadata": {
    "ExecuteTime": {
     "end_time": "2021-01-21T05:33:00.162127Z",
     "start_time": "2021-01-21T05:33:00.155422Z"
    },
    "slideshow": {
     "slide_type": "fragment"
    }
   },
   "outputs": [],
   "source": [
    "#Summary: how to use if statement\n",
    "#format 1\n",
    "#if condition: your code\n",
    "#format 2\n",
    "#if condition:\n",
    "#    your code\n",
    "    \n",
    "#for example\n",
    "x=5\n",
    "if x<10: print('x<10')\n",
    "    \n",
    "if x<10:\n",
    "    print('x<10')"
   ]
  },
  {
   "cell_type": "markdown",
   "metadata": {
    "slideshow": {
     "slide_type": "subslide"
    }
   },
   "source": [
    "**How to indent?**"
   ]
  },
  {
   "cell_type": "markdown",
   "metadata": {
    "slideshow": {
     "slide_type": "fragment"
    }
   },
   "source": [
    "- The [style guide](https://www.python.org/dev/peps/pep-0008/#indentation) recommends using 4 spaces for each indentation.  \n",
    "- In IPython, you can simply type the `tab` key and IPython will likely enter the correct number of spaces for you."
   ]
  },
  {
   "cell_type": "markdown",
   "metadata": {
    "slideshow": {
     "slide_type": "subslide"
    }
   },
   "source": [
    "**What if you want to leave a block empty?**"
   ]
  },
  {
   "cell_type": "markdown",
   "metadata": {
    "slideshow": {
     "slide_type": "fragment"
    }
   },
   "source": [
    "In programming, it is often useful to delay detailed implementations until we have written an overall skeleton.  \n",
    "To leave a block empty, Python uses the keyword [`pass`](https://docs.python.org/3/tutorial/controlflow.html#pass-statements).\n",
    "\n",
    "`pass` means do nothing"
   ]
  },
  {
   "cell_type": "code",
   "execution_count": null,
   "metadata": {
    "ExecuteTime": {
     "end_time": "2021-01-23T13:40:39.914748Z",
     "start_time": "2021-01-23T13:40:39.909792Z"
    },
    "slideshow": {
     "slide_type": "fragment"
    }
   },
   "outputs": [],
   "source": [
    "# write a code skeleton\n",
    "def sort_two_values(x, y):\n",
    "    pass\n",
    "    # print the smaller value first followed by the larger one\n",
    "    \n",
    "sort_two_values(1,0)\n",
    "sort_two_values(1,2)"
   ]
  },
  {
   "cell_type": "markdown",
   "metadata": {
    "slideshow": {
     "slide_type": "fragment"
    }
   },
   "source": [
    "Without `pass`, the code will fail to run, preventing you from checking other parts of the code."
   ]
  },
  {
   "cell_type": "code",
   "execution_count": null,
   "metadata": {
    "ExecuteTime": {
     "end_time": "2020-09-14T14:55:01.603102Z",
     "start_time": "2020-09-14T14:55:01.596654Z"
    },
    "code_folding": [],
    "slideshow": {
     "slide_type": "fragment"
    }
   },
   "outputs": [],
   "source": [
    "# You can add more details to the skeleton step-by-step\n",
    "def sort_two_values(x, y):\n",
    "    if x <= y:\n",
    "        print(x,y)  \n",
    "        # print x before y\n",
    "    if y < x: print(y,x)  # print y before x\n",
    "\n",
    "sort_two_values(1,0)\n",
    "sort_two_values(1,2)"
   ]
  },
  {
   "cell_type": "markdown",
   "metadata": {
    "slideshow": {
     "slide_type": "slide"
    }
   },
   "source": [
    "### If-Then-Else Construct"
   ]
  },
  {
   "cell_type": "markdown",
   "metadata": {
    "slideshow": {
     "slide_type": "fragment"
    }
   },
   "source": [
    "The sorting algorithm is not efficient enough. Why not?  \n",
    "Hint: `(x <= y) and not (y < x)` is a *tautology*, i.e., always true."
   ]
  },
  {
   "cell_type": "markdown",
   "metadata": {
    "slideshow": {
     "slide_type": "fragment"
    }
   },
   "source": [
    "To improve the efficient, we should implement the following program flow."
   ]
  },
  {
   "cell_type": "markdown",
   "metadata": {
    "slideshow": {
     "slide_type": "fragment"
    }
   },
   "source": [
    "<img src=\"https://www.cs.cityu.edu.hk/~ccha23/cs1302/Lecture3/sort_two_values2.svg\" style=\"max-width:300px;\" alt=\"sort_two_values(x,y);\n",
    "if(x<=y) {\n",
    "  print(x, y)\n",
    "}\n",
    "else {\n",
    "  print(y, x)\n",
    "}\">"
   ]
  },
  {
   "cell_type": "markdown",
   "metadata": {
    "slideshow": {
     "slide_type": "fragment"
    }
   },
   "source": [
    "This can be down by the `else` clause of the [`if` statement](https://docs.python.org/3/tutorial/controlflow.html#if-statements)."
   ]
  },
  {
   "cell_type": "code",
   "execution_count": null,
   "metadata": {
    "ExecuteTime": {
     "end_time": "2020-09-14T14:56:47.504006Z",
     "start_time": "2020-09-14T14:56:47.498063Z"
    },
    "slideshow": {
     "slide_type": "fragment"
    }
   },
   "outputs": [],
   "source": [
    "%%mytutor -h 350\n",
    "def sort_two_values(x, y):\n",
    "    if x <= y:\n",
    "        print(x, y)\n",
    "    else:\n",
    "        print(y,x)\n",
    "       \n",
    "        \n",
    "sort_two_values(1,0)\n",
    "sort_two_values(1,2)"
   ]
  },
  {
   "cell_type": "markdown",
   "metadata": {
    "slideshow": {
     "slide_type": "subslide"
    }
   },
   "source": [
    "We can also use a [*conditional expression*](https://docs.python.org/3/reference/expressions.html#conditional-expressions) to shorten the code.\n",
    "\n",
    "- `x if condition else y`\n",
    "- first evaluates the condition rather than x. If condition is true, x is evaluated and its value is returned; otherwise, y is evaluated and its value is returned"
   ]
  },
  {
   "cell_type": "code",
   "execution_count": null,
   "metadata": {
    "ExecuteTime": {
     "end_time": "2021-01-23T13:42:14.371497Z",
     "start_time": "2021-01-23T13:42:14.336995Z"
    },
    "code_folding": [],
    "slideshow": {
     "slide_type": "fragment"
    }
   },
   "outputs": [],
   "source": [
    "def sort_two_values(x, y):\n",
    "    print(('{0} {1}' if x <= y else '{1} {0}').format(x, y))\n",
    "\n",
    "\n",
    "@interact(x='1', y='0')\n",
    "def sort_two_values_app(x, y):\n",
    "    sort_two_values(eval(x), eval(y))"
   ]
  },
  {
   "cell_type": "markdown",
   "metadata": {
    "slideshow": {
     "slide_type": "subslide"
    }
   },
   "source": [
    "**Exercise** Explain why the followings have syntax errors."
   ]
  },
  {
   "cell_type": "code",
   "execution_count": null,
   "metadata": {
    "ExecuteTime": {
     "end_time": "2021-01-23T13:42:23.856694Z",
     "start_time": "2021-01-23T13:42:23.851437Z"
    },
    "slideshow": {
     "slide_type": "fragment"
    }
   },
   "outputs": [],
   "source": [
    "1 if True"
   ]
  },
  {
   "cell_type": "code",
   "execution_count": null,
   "metadata": {
    "ExecuteTime": {
     "end_time": "2021-01-23T13:42:28.277524Z",
     "start_time": "2021-01-23T13:42:28.273835Z"
    },
    "slideshow": {
     "slide_type": "fragment"
    }
   },
   "outputs": [],
   "source": [
    "x = 1 if True else x = 0"
   ]
  },
  {
   "cell_type": "markdown",
   "metadata": {
    "deletable": false,
    "nbgrader": {
     "cell_type": "markdown",
     "checksum": "97d8552bc2253459c70cc948a673e981",
     "grade": true,
     "grade_id": "conditional-expression",
     "locked": false,
     "points": 0,
     "schema_version": 3,
     "solution": true,
     "task": false
    },
    "slideshow": {
     "slide_type": "fragment"
    }
   },
   "source": [
    "YOUR ANSWER HERE"
   ]
  },
  {
   "cell_type": "markdown",
   "metadata": {
    "slideshow": {
     "slide_type": "slide"
    }
   },
   "source": [
    "### Nested Conditionals"
   ]
  },
  {
   "cell_type": "markdown",
   "metadata": {
    "slideshow": {
     "slide_type": "subslide"
    }
   },
   "source": [
    "Consider sorting three values instead of two. A feasible algorithm is as follows:"
   ]
  },
  {
   "cell_type": "markdown",
   "metadata": {
    "slideshow": {
     "slide_type": "fragment"
    }
   },
   "source": [
    "<img src=\"https://www.cs.cityu.edu.hk/~ccha23/cs1302/Lecture3/sort_three_values1.svg\" style=\"max-width:800px;\" alt=\"sort_three_values(x,y,z);\n",
    "if(x<=y<=z) {\n",
    "  print(x, y, z)\n",
    "} else\n",
    "if (x<=z<=y) {\n",
    "  print(x, z, y)\n",
    "} else\n",
    "if (y<=x<=z) {\n",
    "  print(y, x, z)\n",
    "} else\n",
    "if (y<=z<=x) {\n",
    "  print(y, z, x)\n",
    "} else\n",
    "if (z<=x<=y) {\n",
    "  print(z, x, y)\n",
    "} else {\n",
    "  print(z, y, x)\n",
    "}\">"
   ]
  },
  {
   "cell_type": "markdown",
   "metadata": {
    "slideshow": {
     "slide_type": "fragment"
    }
   },
   "source": [
    "We can implement the flow using *nested conditional constructs*:"
   ]
  },
  {
   "cell_type": "code",
   "execution_count": null,
   "metadata": {
    "ExecuteTime": {
     "end_time": "2021-01-23T13:44:12.595414Z",
     "start_time": "2021-01-23T13:44:12.586737Z"
    },
    "code_folding": [],
    "slideshow": {
     "slide_type": "fragment"
    }
   },
   "outputs": [],
   "source": [
    "def sort_three_values(x, y, z):\n",
    "    if x <= y <= z:\n",
    "        print(x, y, z)\n",
    "    else:\n",
    "        if x <= z <= y:\n",
    "            print(x, z, y)\n",
    "        else:\n",
    "            if y <= x <= z:\n",
    "                print(y, x, z)\n",
    "            else:\n",
    "                if y <= z <= x:\n",
    "                    print(y, z, x)\n",
    "                else:\n",
    "                    if z <= x <= y:\n",
    "                        print(z, x, y)\n",
    "                    else:\n",
    "                        print(z, y, x)\n",
    "                      \n",
    "\n",
    "def test_sort_three_values():\n",
    "    sort_three_values(0,1,2)\n",
    "    sort_three_values(0,2,1)\n",
    "    sort_three_values(1,0,2)\n",
    "    sort_three_values(1,2,0)\n",
    "    sort_three_values(2,0,1)\n",
    "    sort_three_values(2,1,0)\n",
    "\n",
    "test_sort_three_values()"
   ]
  },
  {
   "cell_type": "markdown",
   "metadata": {
    "slideshow": {
     "slide_type": "slide"
    }
   },
   "source": [
    "Imagine what would happen if we have to sort many values.  \n",
    "To avoid an excessively long line due to the indentation, Python provides the `elif` keyword that combines `else` and `if`."
   ]
  },
  {
   "cell_type": "code",
   "execution_count": null,
   "metadata": {
    "ExecuteTime": {
     "end_time": "2020-09-14T15:06:51.795480Z",
     "start_time": "2020-09-14T15:06:51.787159Z"
    },
    "slideshow": {
     "slide_type": "fragment"
    }
   },
   "outputs": [],
   "source": [
    "def sort_three_values(x, y, z):\n",
    "    if x <= y <= z:\n",
    "        print(x, y, z)\n",
    "    elif x <= z <= y:  \n",
    "        print(x, z, y)\n",
    "    elif y <= x <= z:\n",
    "        print(y, x, z)\n",
    "    elif y <= z <= x:\n",
    "        print(y, z, x)\n",
    "    elif z <= x <= y:\n",
    "        print(z, x, y)\n",
    "    else:\n",
    "        print(z, y, x)\n",
    "\n",
    "\n",
    "sort_three_values(5,17,10)"
   ]
  },
  {
   "cell_type": "markdown",
   "metadata": {
    "slideshow": {
     "slide_type": "subslide"
    }
   },
   "source": [
    "**Exercise** The above sorting algorithm is inefficient because some conditions may be checked more than once.  \n",
    "Improve the program to eliminate duplicate checks.  \n",
    "*Hint:* Do not use chained comparison operators or compound boolean expressions."
   ]
  },
  {
   "cell_type": "code",
   "execution_count": null,
   "metadata": {
    "ExecuteTime": {
     "end_time": "2020-09-14T15:08:52.604204Z",
     "start_time": "2020-09-14T15:08:52.589005Z"
    },
    "deletable": false,
    "nbgrader": {
     "cell_type": "code",
     "checksum": "52e6ae207bed4789befcf4ef27cd0759",
     "grade": false,
     "grade_id": "efficient-sort_three_values",
     "locked": false,
     "schema_version": 3,
     "solution": true,
     "task": false
    },
    "slideshow": {
     "slide_type": "fragment"
    }
   },
   "outputs": [],
   "source": [
    "def sort_three_values(x, y, z):\n",
    "    if x <= y:\n",
    "        if y <= z:\n",
    "            print(x, y, z)\n",
    "        elif x <= z:\n",
    "            print(x, z, y)\n",
    "        else:\n",
    "            print(z, x, y)\n",
    "    # YOUR CODE HERE\n",
    "    raise NotImplementedError()\n",
    "        \n",
    "sort_three_values(10,17,14)"
   ]
  },
  {
   "cell_type": "code",
   "execution_count": null,
   "metadata": {},
   "outputs": [],
   "source": []
  }
 ],
 "metadata": {
  "kernelspec": {
   "display_name": "Python 3.7",
   "language": "python",
   "name": "python3"
  },
  "language_info": {
   "codemirror_mode": {
    "name": "ipython",
    "version": 3
   },
   "file_extension": ".py",
   "mimetype": "text/x-python",
   "name": "python",
   "nbconvert_exporter": "python",
   "pygments_lexer": "ipython3",
   "version": "3.7.9"
  },
  "latex_envs": {
   "LaTeX_envs_menu_present": true,
   "autoclose": false,
   "autocomplete": true,
   "bibliofile": "biblio.bib",
   "cite_by": "apalike",
   "current_citInitial": 1,
   "eqLabelWithNumbers": true,
   "eqNumInitial": 1,
   "hotkeys": {
    "equation": "Ctrl-E",
    "itemize": "Ctrl-I"
   },
   "labels_anchors": false,
   "latex_user_defs": false,
   "report_style_numbering": false,
   "user_envs_cfg": false
  },
  "rise": {
   "enable_chalkboard": true,
   "scroll": true,
   "theme": "white"
  },
  "toc": {
   "base_numbering": 1,
   "nav_menu": {
    "height": "195px",
    "width": "330px"
   },
   "number_sections": true,
   "sideBar": true,
   "skip_h1_title": true,
   "title_cell": "Table of Contents",
   "title_sidebar": "Contents",
   "toc_cell": false,
   "toc_position": {
    "height": "454.418px",
    "left": "1533px",
    "top": "110.284px",
    "width": "435.325px"
   },
   "toc_section_display": true,
   "toc_window_display": false
  },
  "widgets": {
   "application/vnd.jupyter.widget-state+json": {
    "state": {
     "00f7f418096045d5bcc6a1fb20dac435": {
      "model_module": "@jupyter-widgets/controls",
      "model_module_version": "1.5.0",
      "model_name": "TextModel",
      "state": {
       "description": "x",
       "layout": "IPY_MODEL_dc3bc979762f45d1864d8bea9650f582",
       "style": "IPY_MODEL_cdc02aa201074bf7bc4af14f1925ba3c",
       "value": "1"
      }
     },
     "0220895ea44c41f3aaa68957afa55929": {
      "model_module": "@jupyter-widgets/controls",
      "model_module_version": "1.5.0",
      "model_name": "VBoxModel",
      "state": {
       "_dom_classes": [
        "widget-interact"
       ],
       "children": [
        "IPY_MODEL_35b2180ef28b413799cdec27ccf62445",
        "IPY_MODEL_ce19eb24ea7e45519ac932d5b42d4d03",
        "IPY_MODEL_c99af5a8886e4da789f0f2a7b89301d8"
       ],
       "layout": "IPY_MODEL_f0881fc370024b7cb97717dacea6e019"
      }
     },
     "02d10108231c4b38a6a9e91146d48343": {
      "model_module": "@jupyter-widgets/controls",
      "model_module_version": "1.5.0",
      "model_name": "DescriptionStyleModel",
      "state": {
       "description_width": ""
      }
     },
     "04ed87d1596d4a028e27c032e8d44481": {
      "model_module": "@jupyter-widgets/controls",
      "model_module_version": "1.5.0",
      "model_name": "DescriptionStyleModel",
      "state": {
       "description_width": ""
      }
     },
     "04f9a1a9b47b43a6aabe78b439799560": {
      "model_module": "@jupyter-widgets/base",
      "model_module_version": "1.2.0",
      "model_name": "LayoutModel",
      "state": {}
     },
     "05764090ef224611a31e4734556a5091": {
      "model_module": "@jupyter-widgets/controls",
      "model_module_version": "1.5.0",
      "model_name": "TextModel",
      "state": {
       "description": "x",
       "layout": "IPY_MODEL_ee81c34680a04dbfbe2c593ef70bb1b3",
       "style": "IPY_MODEL_5755aa1589cf47bc84f1efcac649b75b",
       "value": "1"
      }
     },
     "05dded0ccf92468da56ace121d255567": {
      "model_module": "@jupyter-widgets/base",
      "model_module_version": "1.2.0",
      "model_name": "LayoutModel",
      "state": {}
     },
     "05f56bb2aedc46359c43ddf71ef3d398": {
      "model_module": "@jupyter-widgets/controls",
      "model_module_version": "1.5.0",
      "model_name": "TextModel",
      "state": {
       "description": "operand2",
       "layout": "IPY_MODEL_811146ea67634cd1875dbadcc37c489c",
       "style": "IPY_MODEL_3847654b0794480eb2697e44381998b6",
       "value": "3"
      }
     },
     "07bb11f560b24556a07f945eb683104f": {
      "model_module": "@jupyter-widgets/base",
      "model_module_version": "1.2.0",
      "model_name": "LayoutModel",
      "state": {}
     },
     "090942a62bda4fb7bc8fa01635fc6f8d": {
      "model_module": "@jupyter-widgets/controls",
      "model_module_version": "1.5.0",
      "model_name": "DescriptionStyleModel",
      "state": {
       "description_width": ""
      }
     },
     "0b5b6a098d384fedbd8716cbc6641363": {
      "model_module": "@jupyter-widgets/controls",
      "model_module_version": "1.5.0",
      "model_name": "DescriptionStyleModel",
      "state": {
       "description_width": ""
      }
     },
     "0c32f95a88ae441fa5fd5a236c505589": {
      "model_module": "@jupyter-widgets/controls",
      "model_module_version": "1.5.0",
      "model_name": "TextModel",
      "state": {
       "description": "y",
       "layout": "IPY_MODEL_920323a16f4a47ceb9daebfd99cac04b",
       "style": "IPY_MODEL_b9ff96700402412d86294b57b0d1e59a",
       "value": "0"
      }
     },
     "0c52762f09754b5ab98a3bcc48f77b6e": {
      "model_module": "@jupyter-widgets/base",
      "model_module_version": "1.2.0",
      "model_name": "LayoutModel",
      "state": {}
     },
     "0c9164f152fc47cdaef60925f4021b76": {
      "model_module": "@jupyter-widgets/controls",
      "model_module_version": "1.5.0",
      "model_name": "TextModel",
      "state": {
       "description": "y",
       "layout": "IPY_MODEL_f411d93ed4ae402c9f10db199e7fa601",
       "style": "IPY_MODEL_2d088b2ad82f4f0f8ac6e2d9a5ad58bf",
       "value": "0"
      }
     },
     "0f22b2dda6bf457d829d55f1cd93aea5": {
      "model_module": "@jupyter-widgets/controls",
      "model_module_version": "1.5.0",
      "model_name": "VBoxModel",
      "state": {
       "_dom_classes": [
        "widget-interact"
       ],
       "children": [
        "IPY_MODEL_e67f7761144f4a50b963a65a54f202f9",
        "IPY_MODEL_24a2c1a44f184a898e686ee199e701e0"
       ],
       "layout": "IPY_MODEL_f433017728ee4f788d742ce5d6834757"
      }
     },
     "10c4cad57bb14a81a8d6ee4e4bbcddbc": {
      "model_module": "@jupyter-widgets/base",
      "model_module_version": "1.2.0",
      "model_name": "LayoutModel",
      "state": {}
     },
     "113a9891c0cc4483b784f57f71f196ff": {
      "model_module": "@jupyter-widgets/output",
      "model_module_version": "1.0.0",
      "model_name": "OutputModel",
      "state": {
       "layout": "IPY_MODEL_47446f880b9a4a49a420e27002f36f36",
       "outputs": [
        {
         "name": "stdout",
         "output_type": "stream",
         "text": "False\n"
        }
       ]
      }
     },
     "1369084b185c478488d6f70686bb5928": {
      "model_module": "@jupyter-widgets/output",
      "model_module_version": "1.0.0",
      "model_name": "OutputModel",
      "state": {
       "layout": "IPY_MODEL_52deb11c7fe34b309d09cba8f53386c3",
       "outputs": [
        {
         "name": "stdout",
         "output_type": "stream",
         "text": "0 1\n"
        }
       ]
      }
     },
     "144954cd34ad42579330d671a5ada048": {
      "model_module": "@jupyter-widgets/controls",
      "model_module_version": "1.5.0",
      "model_name": "TextModel",
      "state": {
       "description": "x",
       "layout": "IPY_MODEL_a9dedffe384c4635a09860c09ca45d2a",
       "style": "IPY_MODEL_478e285ab23c4c1db29bc1b30f17e3e8",
       "value": "1"
      }
     },
     "14c7a8d3cc8f413784f6d56b7c27d23c": {
      "model_module": "@jupyter-widgets/output",
      "model_module_version": "1.0.0",
      "model_name": "OutputModel",
      "state": {
       "layout": "IPY_MODEL_4d3261ea94fd4361b6703da670564c63",
       "outputs": [
        {
         "name": "stdout",
         "output_type": "stream",
         "text": "Out of range [0,100]: False\n"
        }
       ]
      }
     },
     "153baa7cb4e24b54979139db20f2a191": {
      "model_module": "@jupyter-widgets/base",
      "model_module_version": "1.2.0",
      "model_name": "LayoutModel",
      "state": {}
     },
     "1604fe0b9b2a4f00a7da41e090aa96e4": {
      "model_module": "@jupyter-widgets/controls",
      "model_module_version": "1.5.0",
      "model_name": "TextModel",
      "state": {
       "description": "y",
       "layout": "IPY_MODEL_aebda2ea9d29496ab947b28d9fb66283",
       "style": "IPY_MODEL_9cb2cff40b8a4173bdbf98507c6c1254",
       "value": "0"
      }
     },
     "18833d3751b8403599b2e435125baa9d": {
      "model_module": "@jupyter-widgets/controls",
      "model_module_version": "1.5.0",
      "model_name": "TextModel",
      "state": {
       "description": "x",
       "layout": "IPY_MODEL_94560e70052846898c7fc0175e1f13ea",
       "style": "IPY_MODEL_04ed87d1596d4a028e27c032e8d44481",
       "value": "15"
      }
     },
     "189d2eb3afce4f0fb4e3a402371a4811": {
      "model_module": "@jupyter-widgets/output",
      "model_module_version": "1.0.0",
      "model_name": "OutputModel",
      "state": {
       "layout": "IPY_MODEL_3816c20723d64eb8bde7cb9792c009af",
       "outputs": [
        {
         "name": "stdout",
         "output_type": "stream",
         "text": "Out of range [0,100]: False\n"
        }
       ]
      }
     },
     "1b69393e277a4454aa7dcfab4e55ded8": {
      "model_module": "@jupyter-widgets/base",
      "model_module_version": "1.2.0",
      "model_name": "LayoutModel",
      "state": {}
     },
     "1cc4849f61374042b1d3122ecf799670": {
      "model_module": "@jupyter-widgets/output",
      "model_module_version": "1.0.0",
      "model_name": "OutputModel",
      "state": {
       "layout": "IPY_MODEL_df32b79986c64d12a6ebcd5a81306d66",
       "outputs": [
        {
         "name": "stdout",
         "output_type": "stream",
         "text": "0 1\n"
        }
       ]
      }
     },
     "1dbbbd5d34084ea19ed81e7e31a79609": {
      "model_module": "@jupyter-widgets/controls",
      "model_module_version": "1.5.0",
      "model_name": "DescriptionStyleModel",
      "state": {
       "description_width": ""
      }
     },
     "1e6a9689718d4970bfa8427a21d66f76": {
      "model_module": "@jupyter-widgets/controls",
      "model_module_version": "1.5.0",
      "model_name": "DescriptionStyleModel",
      "state": {
       "description_width": ""
      }
     },
     "1e70b43730434b29bc796b17bb0e55f1": {
      "model_module": "@jupyter-widgets/controls",
      "model_module_version": "1.5.0",
      "model_name": "TextModel",
      "state": {
       "description": "x",
       "layout": "IPY_MODEL_f2c21e0d409947f3a2344c17d742a5d8",
       "style": "IPY_MODEL_3b0c8bbf113b4b8a9bf8aafeead2002e",
       "value": "1"
      }
     },
     "1ef99e537543462085ed78a2ed732a5e": {
      "model_module": "@jupyter-widgets/controls",
      "model_module_version": "1.5.0",
      "model_name": "TextModel",
      "state": {
       "description": "x",
       "layout": "IPY_MODEL_a323f18c17354f04a9616ca554587ce5",
       "style": "IPY_MODEL_ec01e8c7aa234cdea9f99361dad77948",
       "value": "15"
      }
     },
     "1f020dfe891248d181a221681c712a3d": {
      "model_module": "@jupyter-widgets/controls",
      "model_module_version": "1.5.0",
      "model_name": "DescriptionStyleModel",
      "state": {
       "description_width": ""
      }
     },
     "1f8509589ac848809803dc616e6745fa": {
      "model_module": "@jupyter-widgets/output",
      "model_module_version": "1.0.0",
      "model_name": "OutputModel",
      "state": {
       "layout": "IPY_MODEL_07bb11f560b24556a07f945eb683104f",
       "outputs": [
        {
         "name": "stdout",
         "output_type": "stream",
         "text": "True\n"
        }
       ]
      }
     },
     "24a2c1a44f184a898e686ee199e701e0": {
      "model_module": "@jupyter-widgets/output",
      "model_module_version": "1.0.0",
      "model_name": "OutputModel",
      "state": {
       "layout": "IPY_MODEL_5788d697e3914e8fb561441871bd20c3",
       "outputs": [
        {
         "name": "stdout",
         "output_type": "stream",
         "text": "Out of range [0,100]: False\n"
        }
       ]
      }
     },
     "25aebbddfdee49c68041ebcf1a0060ab": {
      "model_module": "@jupyter-widgets/base",
      "model_module_version": "1.2.0",
      "model_name": "LayoutModel",
      "state": {}
     },
     "2605999a81784a0dbdc9d5860a45e629": {
      "model_module": "@jupyter-widgets/controls",
      "model_module_version": "1.5.0",
      "model_name": "TextModel",
      "state": {
       "description": "y",
       "layout": "IPY_MODEL_50877d34820e4e2488ba6b66e9f12164",
       "style": "IPY_MODEL_c2d6c652167743cdb6e6b81bd174a326",
       "value": "0"
      }
     },
     "26a71da71b774898a286799d15cdf3d0": {
      "model_module": "@jupyter-widgets/base",
      "model_module_version": "1.2.0",
      "model_name": "LayoutModel",
      "state": {}
     },
     "299bb020e4674f678ebec985dcf4300e": {
      "model_module": "@jupyter-widgets/output",
      "model_module_version": "1.0.0",
      "model_name": "OutputModel",
      "state": {
       "layout": "IPY_MODEL_92cde27369a74c4fab8e129b37b32129",
       "outputs": [
        {
         "name": "stdout",
         "output_type": "stream",
         "text": "0 1 2\n"
        }
       ]
      }
     },
     "2a1161cdef9741bcb2dd4171f08bb8ed": {
      "model_module": "@jupyter-widgets/output",
      "model_module_version": "1.0.0",
      "model_name": "OutputModel",
      "state": {
       "layout": "IPY_MODEL_4557857f87f7462b9b8376f328d989d0",
       "outputs": [
        {
         "name": "stdout",
         "output_type": "stream",
         "text": "0 1\n"
        }
       ]
      }
     },
     "2ad6d4abf0fe4e75a0e4f62a8558f77b": {
      "model_module": "@jupyter-widgets/base",
      "model_module_version": "1.2.0",
      "model_name": "LayoutModel",
      "state": {}
     },
     "2b5fb63847c04042b1eaf7b71142d56c": {
      "model_module": "@jupyter-widgets/base",
      "model_module_version": "1.2.0",
      "model_name": "LayoutModel",
      "state": {}
     },
     "2b94061d0d96434790e2a2f3169d70b4": {
      "model_module": "@jupyter-widgets/base",
      "model_module_version": "1.2.0",
      "model_name": "LayoutModel",
      "state": {}
     },
     "2c7bf4d0d6604755802103f233b1bfc3": {
      "model_module": "@jupyter-widgets/controls",
      "model_module_version": "1.5.0",
      "model_name": "TextModel",
      "state": {
       "description": "x",
       "layout": "IPY_MODEL_b25510e80a0542339bf7d0edff1591d8",
       "style": "IPY_MODEL_463a11c5a1424ba39b6073537b8d34dc",
       "value": "1"
      }
     },
     "2d088b2ad82f4f0f8ac6e2d9a5ad58bf": {
      "model_module": "@jupyter-widgets/controls",
      "model_module_version": "1.5.0",
      "model_name": "DescriptionStyleModel",
      "state": {
       "description_width": ""
      }
     },
     "2ef1fa59b0bc414fb6e9a337005a8745": {
      "model_module": "@jupyter-widgets/base",
      "model_module_version": "1.2.0",
      "model_name": "LayoutModel",
      "state": {}
     },
     "2f10347f412441d397c56408466430cf": {
      "model_module": "@jupyter-widgets/controls",
      "model_module_version": "1.5.0",
      "model_name": "VBoxModel",
      "state": {
       "_dom_classes": [
        "widget-interact"
       ],
       "children": [
        "IPY_MODEL_1e70b43730434b29bc796b17bb0e55f1",
        "IPY_MODEL_55281b35f181435fb68177a5dd7f984f",
        "IPY_MODEL_824a2a00cd9a4caf90941894f3ee3a37",
        "IPY_MODEL_80aaf24c2e1544e6a1b8b59720ad0f5c"
       ],
       "layout": "IPY_MODEL_b8d036bea4f6476cb96058b2a1976216"
      }
     },
     "31cd59f2d3c8409c829765f0a887ffc6": {
      "model_module": "@jupyter-widgets/base",
      "model_module_version": "1.2.0",
      "model_name": "LayoutModel",
      "state": {}
     },
     "32acb7a37f5d4b3ebb26bc740af78ff0": {
      "model_module": "@jupyter-widgets/base",
      "model_module_version": "1.2.0",
      "model_name": "LayoutModel",
      "state": {}
     },
     "35b2180ef28b413799cdec27ccf62445": {
      "model_module": "@jupyter-widgets/controls",
      "model_module_version": "1.5.0",
      "model_name": "IntSliderModel",
      "state": {
       "description": "x",
       "layout": "IPY_MODEL_b2c072cea6c04fa7826df2ac64b40b6c",
       "max": 3,
       "min": -1,
       "style": "IPY_MODEL_b1cd7167f31f4323b2c81e2dca24c643",
       "value": 1
      }
     },
     "364bb1e80426404990189d29c9ee752e": {
      "model_module": "@jupyter-widgets/output",
      "model_module_version": "1.0.0",
      "model_name": "OutputModel",
      "state": {
       "layout": "IPY_MODEL_31cd59f2d3c8409c829765f0a887ffc6",
       "outputs": [
        {
         "name": "stdout",
         "output_type": "stream",
         "text": "0 1\n"
        }
       ]
      }
     },
     "3816c20723d64eb8bde7cb9792c009af": {
      "model_module": "@jupyter-widgets/base",
      "model_module_version": "1.2.0",
      "model_name": "LayoutModel",
      "state": {}
     },
     "3847654b0794480eb2697e44381998b6": {
      "model_module": "@jupyter-widgets/controls",
      "model_module_version": "1.5.0",
      "model_name": "DescriptionStyleModel",
      "state": {
       "description_width": ""
      }
     },
     "39e000a47a6f4bbb9a84284e6a7cf5f2": {
      "model_module": "@jupyter-widgets/base",
      "model_module_version": "1.2.0",
      "model_name": "LayoutModel",
      "state": {}
     },
     "3b0c8bbf113b4b8a9bf8aafeead2002e": {
      "model_module": "@jupyter-widgets/controls",
      "model_module_version": "1.5.0",
      "model_name": "DescriptionStyleModel",
      "state": {
       "description_width": ""
      }
     },
     "3b3e4c7cb9ed4ec79bd30e9422c25b97": {
      "model_module": "@jupyter-widgets/controls",
      "model_module_version": "1.5.0",
      "model_name": "VBoxModel",
      "state": {
       "_dom_classes": [
        "widget-interact"
       ],
       "children": [
        "IPY_MODEL_ac71017d772d40cabafb44e78819430c",
        "IPY_MODEL_189d2eb3afce4f0fb4e3a402371a4811"
       ],
       "layout": "IPY_MODEL_39e000a47a6f4bbb9a84284e6a7cf5f2"
      }
     },
     "3b85de4612c84da59b72532536be810e": {
      "model_module": "@jupyter-widgets/controls",
      "model_module_version": "1.5.0",
      "model_name": "SliderStyleModel",
      "state": {
       "description_width": ""
      }
     },
     "40a62b5f5633475ea157665ac24dc2f8": {
      "model_module": "@jupyter-widgets/base",
      "model_module_version": "1.2.0",
      "model_name": "LayoutModel",
      "state": {}
     },
     "43723cefa7034b449e50d6c06d874980": {
      "model_module": "@jupyter-widgets/base",
      "model_module_version": "1.2.0",
      "model_name": "LayoutModel",
      "state": {}
     },
     "452cfab91f694a9792da5d2c0d20daab": {
      "model_module": "@jupyter-widgets/controls",
      "model_module_version": "1.5.0",
      "model_name": "DescriptionStyleModel",
      "state": {
       "description_width": ""
      }
     },
     "4557857f87f7462b9b8376f328d989d0": {
      "model_module": "@jupyter-widgets/base",
      "model_module_version": "1.2.0",
      "model_name": "LayoutModel",
      "state": {}
     },
     "462b8574964641e8832853de111e8709": {
      "model_module": "@jupyter-widgets/controls",
      "model_module_version": "1.5.0",
      "model_name": "VBoxModel",
      "state": {
       "_dom_classes": [
        "widget-interact"
       ],
       "children": [
        "IPY_MODEL_144954cd34ad42579330d671a5ada048",
        "IPY_MODEL_6a3e9a60c8f54c248b2030c95fee933e",
        "IPY_MODEL_e919b59f6f374a82ae0cdd2645c4390c"
       ],
       "layout": "IPY_MODEL_e96103a8d03f43519a508b3fe4061ba4"
      }
     },
     "463a11c5a1424ba39b6073537b8d34dc": {
      "model_module": "@jupyter-widgets/controls",
      "model_module_version": "1.5.0",
      "model_name": "DescriptionStyleModel",
      "state": {
       "description_width": ""
      }
     },
     "47446f880b9a4a49a420e27002f36f36": {
      "model_module": "@jupyter-widgets/base",
      "model_module_version": "1.2.0",
      "model_name": "LayoutModel",
      "state": {}
     },
     "478e285ab23c4c1db29bc1b30f17e3e8": {
      "model_module": "@jupyter-widgets/controls",
      "model_module_version": "1.5.0",
      "model_name": "DescriptionStyleModel",
      "state": {
       "description_width": ""
      }
     },
     "484e2651875447efaf782fefbb9387be": {
      "model_module": "@jupyter-widgets/base",
      "model_module_version": "1.2.0",
      "model_name": "LayoutModel",
      "state": {}
     },
     "49165e84dd6a402b8aa0442bffd5dae0": {
      "model_module": "@jupyter-widgets/controls",
      "model_module_version": "1.5.0",
      "model_name": "VBoxModel",
      "state": {
       "_dom_classes": [
        "widget-interact"
       ],
       "children": [
        "IPY_MODEL_7213a384f3c946ac8642e3a9f481ae24",
        "IPY_MODEL_0c9164f152fc47cdaef60925f4021b76",
        "IPY_MODEL_77419309aff94b63b9090bd3d6e385eb",
        "IPY_MODEL_c441111d79cb4b0eba59b6c4568f8c71"
       ],
       "layout": "IPY_MODEL_10c4cad57bb14a81a8d6ee4e4bbcddbc"
      }
     },
     "49655d8f528a4ae8b84d4666b720cdb2": {
      "model_module": "@jupyter-widgets/controls",
      "model_module_version": "1.5.0",
      "model_name": "DescriptionStyleModel",
      "state": {
       "description_width": ""
      }
     },
     "4d3261ea94fd4361b6703da670564c63": {
      "model_module": "@jupyter-widgets/base",
      "model_module_version": "1.2.0",
      "model_name": "LayoutModel",
      "state": {}
     },
     "50877d34820e4e2488ba6b66e9f12164": {
      "model_module": "@jupyter-widgets/base",
      "model_module_version": "1.2.0",
      "model_name": "LayoutModel",
      "state": {}
     },
     "5187a05286db43889743f99ab0ab6f6a": {
      "model_module": "@jupyter-widgets/base",
      "model_module_version": "1.2.0",
      "model_name": "LayoutModel",
      "state": {}
     },
     "526b53d400874743aadf60117955d948": {
      "model_module": "@jupyter-widgets/controls",
      "model_module_version": "1.5.0",
      "model_name": "DescriptionStyleModel",
      "state": {
       "description_width": ""
      }
     },
     "527c9fbd49814561b9457295ae4c30a3": {
      "model_module": "@jupyter-widgets/controls",
      "model_module_version": "1.5.0",
      "model_name": "TextModel",
      "state": {
       "description": "x",
       "layout": "IPY_MODEL_5ea102ea090c4ad280620dc89d7c5e1c",
       "style": "IPY_MODEL_87434d22e279484b825d00e7061b58d0",
       "value": "15"
      }
     },
     "52d86baaf64d472ab7e2bb96812f03f4": {
      "model_module": "@jupyter-widgets/controls",
      "model_module_version": "1.5.0",
      "model_name": "TextModel",
      "state": {
       "description": "y",
       "layout": "IPY_MODEL_bf70bb4a41274e7ea62922784b35f38f",
       "style": "IPY_MODEL_9f215b6476124680b62d48ddde571859",
       "value": "0"
      }
     },
     "52deb11c7fe34b309d09cba8f53386c3": {
      "model_module": "@jupyter-widgets/base",
      "model_module_version": "1.2.0",
      "model_name": "LayoutModel",
      "state": {}
     },
     "5474ee56bfe7407f8144a89bd3fd8e9a": {
      "model_module": "@jupyter-widgets/base",
      "model_module_version": "1.2.0",
      "model_name": "LayoutModel",
      "state": {}
     },
     "55281b35f181435fb68177a5dd7f984f": {
      "model_module": "@jupyter-widgets/controls",
      "model_module_version": "1.5.0",
      "model_name": "TextModel",
      "state": {
       "description": "y",
       "layout": "IPY_MODEL_e6ade68e292c44f0a514aa8eb2564bb7",
       "style": "IPY_MODEL_1f020dfe891248d181a221681c712a3d",
       "value": "0"
      }
     },
     "5755aa1589cf47bc84f1efcac649b75b": {
      "model_module": "@jupyter-widgets/controls",
      "model_module_version": "1.5.0",
      "model_name": "DescriptionStyleModel",
      "state": {
       "description_width": ""
      }
     },
     "5788d697e3914e8fb561441871bd20c3": {
      "model_module": "@jupyter-widgets/base",
      "model_module_version": "1.2.0",
      "model_name": "LayoutModel",
      "state": {}
     },
     "584b07e871254841b0adf45edb68fc93": {
      "model_module": "@jupyter-widgets/controls",
      "model_module_version": "1.5.0",
      "model_name": "VBoxModel",
      "state": {
       "_dom_classes": [
        "widget-interact"
       ],
       "children": [
        "IPY_MODEL_f9b94e2fe7d941988d6a4f785579e141",
        "IPY_MODEL_0c32f95a88ae441fa5fd5a236c505589",
        "IPY_MODEL_d71586bd6b0c4168b2cfa6afaa45cb79"
       ],
       "layout": "IPY_MODEL_04f9a1a9b47b43a6aabe78b439799560"
      }
     },
     "58646502a1c8405d98ff4481f27a889e": {
      "model_module": "@jupyter-widgets/base",
      "model_module_version": "1.2.0",
      "model_name": "LayoutModel",
      "state": {}
     },
     "592be15d26544e00bab245eec425b892": {
      "model_module": "@jupyter-widgets/base",
      "model_module_version": "1.2.0",
      "model_name": "LayoutModel",
      "state": {}
     },
     "5a15629870434a209d1da99d3789c0db": {
      "model_module": "@jupyter-widgets/controls",
      "model_module_version": "1.5.0",
      "model_name": "DescriptionStyleModel",
      "state": {
       "description_width": ""
      }
     },
     "5a785a0c0b33492d8cbd5a99e5bd3d88": {
      "model_module": "@jupyter-widgets/base",
      "model_module_version": "1.2.0",
      "model_name": "LayoutModel",
      "state": {}
     },
     "5b1d3c1f4a004852b6fdb8b4526e8ac7": {
      "model_module": "@jupyter-widgets/controls",
      "model_module_version": "1.5.0",
      "model_name": "DescriptionStyleModel",
      "state": {
       "description_width": ""
      }
     },
     "5e7301c3e412479daa265bb9a988cac7": {
      "model_module": "@jupyter-widgets/controls",
      "model_module_version": "1.5.0",
      "model_name": "VBoxModel",
      "state": {
       "_dom_classes": [
        "widget-interact"
       ],
       "children": [
        "IPY_MODEL_a6b68e35626745a8a6b57343a9a4c8b3",
        "IPY_MODEL_9af24efc35ac4ce1a7a2fd82b6c89f95",
        "IPY_MODEL_2a1161cdef9741bcb2dd4171f08bb8ed"
       ],
       "layout": "IPY_MODEL_8307d917664f493ba427a8c71deaf499"
      }
     },
     "5ea102ea090c4ad280620dc89d7c5e1c": {
      "model_module": "@jupyter-widgets/base",
      "model_module_version": "1.2.0",
      "model_name": "LayoutModel",
      "state": {}
     },
     "5ee7d213ae8940b28fe07f7664a73f52": {
      "model_module": "@jupyter-widgets/base",
      "model_module_version": "1.2.0",
      "model_name": "LayoutModel",
      "state": {}
     },
     "5f5c5bc45bcc43db9b0894e631ed05d6": {
      "model_module": "@jupyter-widgets/output",
      "model_module_version": "1.0.0",
      "model_name": "OutputModel",
      "state": {
       "layout": "IPY_MODEL_bfa927cd70ae478bb0117ee4dfc6b2f3",
       "outputs": [
        {
         "name": "stdout",
         "output_type": "stream",
         "text": "0 1\n"
        }
       ]
      }
     },
     "6361c7230d3247e4b7e072de63710e84": {
      "model_module": "@jupyter-widgets/base",
      "model_module_version": "1.2.0",
      "model_name": "LayoutModel",
      "state": {}
     },
     "64fdf9f71f3b4485b0b02c6af14faacc": {
      "model_module": "@jupyter-widgets/controls",
      "model_module_version": "1.5.0",
      "model_name": "DescriptionStyleModel",
      "state": {
       "description_width": ""
      }
     },
     "66451af5f3ab478f9987d29c2c645f50": {
      "model_module": "@jupyter-widgets/base",
      "model_module_version": "1.2.0",
      "model_name": "LayoutModel",
      "state": {}
     },
     "66aa8a5dde6d485890d3f93c466e70ff": {
      "model_module": "@jupyter-widgets/controls",
      "model_module_version": "1.5.0",
      "model_name": "DescriptionStyleModel",
      "state": {
       "description_width": ""
      }
     },
     "689e83dc01894443bb11ee8cc70d645e": {
      "model_module": "@jupyter-widgets/controls",
      "model_module_version": "1.5.0",
      "model_name": "DescriptionStyleModel",
      "state": {
       "description_width": ""
      }
     },
     "6935aa845443429f8d3f01993c0b69f7": {
      "model_module": "@jupyter-widgets/controls",
      "model_module_version": "1.5.0",
      "model_name": "DropdownModel",
      "state": {
       "_options_labels": [
        "==",
        "<",
        "<=",
        ">",
        ">=",
        "!="
       ],
       "description": "operator",
       "index": 0,
       "layout": "IPY_MODEL_72cf2ad3139c44b49417e871ece1ae8a",
       "style": "IPY_MODEL_fff555a96c1b444ea0f11a2b80dedde5"
      }
     },
     "6a3e9a60c8f54c248b2030c95fee933e": {
      "model_module": "@jupyter-widgets/controls",
      "model_module_version": "1.5.0",
      "model_name": "TextModel",
      "state": {
       "description": "y",
       "layout": "IPY_MODEL_8b468b90f1b941d496aeab56019c1cb1",
       "style": "IPY_MODEL_9f7f4afab953482b8efeec77459fed3a",
       "value": "0"
      }
     },
     "6b3b10ed14a441918db3fe3782cc61ee": {
      "model_module": "@jupyter-widgets/base",
      "model_module_version": "1.2.0",
      "model_name": "LayoutModel",
      "state": {}
     },
     "6db8640b24fb4c9fb7206c0d663b1399": {
      "model_module": "@jupyter-widgets/base",
      "model_module_version": "1.2.0",
      "model_name": "LayoutModel",
      "state": {}
     },
     "6e02608ae2f14e0c8320644055f5f39f": {
      "model_module": "@jupyter-widgets/controls",
      "model_module_version": "1.5.0",
      "model_name": "VBoxModel",
      "state": {
       "_dom_classes": [
        "widget-interact"
       ],
       "children": [
        "IPY_MODEL_e9b0fc88106c4971b59e67d130af846c",
        "IPY_MODEL_eb62963d9a704986bda78125f655e159"
       ],
       "layout": "IPY_MODEL_5a785a0c0b33492d8cbd5a99e5bd3d88"
      }
     },
     "6f75230c04bd4666a9a76b663bce0cb3": {
      "model_module": "@jupyter-widgets/base",
      "model_module_version": "1.2.0",
      "model_name": "LayoutModel",
      "state": {}
     },
     "7213a384f3c946ac8642e3a9f481ae24": {
      "model_module": "@jupyter-widgets/controls",
      "model_module_version": "1.5.0",
      "model_name": "TextModel",
      "state": {
       "description": "x",
       "layout": "IPY_MODEL_66451af5f3ab478f9987d29c2c645f50",
       "style": "IPY_MODEL_1e6a9689718d4970bfa8427a21d66f76",
       "value": "1"
      }
     },
     "72cf2ad3139c44b49417e871ece1ae8a": {
      "model_module": "@jupyter-widgets/base",
      "model_module_version": "1.2.0",
      "model_name": "LayoutModel",
      "state": {}
     },
     "73dbfb9009ef41fa87e5fff9c0fa2d64": {
      "model_module": "@jupyter-widgets/output",
      "model_module_version": "1.0.0",
      "model_name": "OutputModel",
      "state": {
       "layout": "IPY_MODEL_f8ad0a11598c4e0c9220b964985b221d",
       "outputs": [
        {
         "name": "stdout",
         "output_type": "stream",
         "text": "0 1 2\n"
        }
       ]
      }
     },
     "7597713060dc4651ab263b3bb6e4d720": {
      "model_module": "@jupyter-widgets/output",
      "model_module_version": "1.0.0",
      "model_name": "OutputModel",
      "state": {
       "layout": "IPY_MODEL_592be15d26544e00bab245eec425b892",
       "outputs": [
        {
         "name": "stdout",
         "output_type": "stream",
         "text": "Out of range [0,100]: False\n"
        }
       ]
      }
     },
     "77419309aff94b63b9090bd3d6e385eb": {
      "model_module": "@jupyter-widgets/controls",
      "model_module_version": "1.5.0",
      "model_name": "TextModel",
      "state": {
       "description": "z",
       "layout": "IPY_MODEL_cf3c45048dea4a688971fe917b7f769e",
       "style": "IPY_MODEL_7b6794c7cb4a4061902dab8b3081a489",
       "value": "2"
      }
     },
     "781bac17a1d34ad4823cebb8ec1365c1": {
      "model_module": "@jupyter-widgets/controls",
      "model_module_version": "1.5.0",
      "model_name": "VBoxModel",
      "state": {
       "_dom_classes": [
        "widget-interact"
       ],
       "children": [
        "IPY_MODEL_527c9fbd49814561b9457295ae4c30a3",
        "IPY_MODEL_7597713060dc4651ab263b3bb6e4d720"
       ],
       "layout": "IPY_MODEL_e8947359aa7d4e14aff8c9bb37ec1f20"
      }
     },
     "79f8adb44d3c4ea78651ce604e83289f": {
      "model_module": "@jupyter-widgets/controls",
      "model_module_version": "1.5.0",
      "model_name": "TextModel",
      "state": {
       "description": "y",
       "layout": "IPY_MODEL_dee5880b80724f969f0deae73bd9d5cb",
       "style": "IPY_MODEL_5b1d3c1f4a004852b6fdb8b4526e8ac7",
       "value": "0"
      }
     },
     "7ab26fc1a6b947a3985cbe31a8cde92d": {
      "model_module": "@jupyter-widgets/controls",
      "model_module_version": "1.5.0",
      "model_name": "DescriptionStyleModel",
      "state": {
       "description_width": ""
      }
     },
     "7b6794c7cb4a4061902dab8b3081a489": {
      "model_module": "@jupyter-widgets/controls",
      "model_module_version": "1.5.0",
      "model_name": "DescriptionStyleModel",
      "state": {
       "description_width": ""
      }
     },
     "7bce87a8d8a3442f8fd57fa947bd5a7f": {
      "model_module": "@jupyter-widgets/base",
      "model_module_version": "1.2.0",
      "model_name": "LayoutModel",
      "state": {}
     },
     "7bda870d40264f5098dedf366e7b5f61": {
      "model_module": "@jupyter-widgets/base",
      "model_module_version": "1.2.0",
      "model_name": "LayoutModel",
      "state": {}
     },
     "7c2410b705ee4145b18a53e57f555bd7": {
      "model_module": "@jupyter-widgets/base",
      "model_module_version": "1.2.0",
      "model_name": "LayoutModel",
      "state": {}
     },
     "7c99a118feca4886a9b222ea446c6aef": {
      "model_module": "@jupyter-widgets/base",
      "model_module_version": "1.2.0",
      "model_name": "LayoutModel",
      "state": {}
     },
     "80aaf24c2e1544e6a1b8b59720ad0f5c": {
      "model_module": "@jupyter-widgets/output",
      "model_module_version": "1.0.0",
      "model_name": "OutputModel",
      "state": {
       "layout": "IPY_MODEL_cffa0933614f48919e4506633035ff4b",
       "outputs": [
        {
         "name": "stdout",
         "output_type": "stream",
         "text": "0 1 2\n"
        }
       ]
      }
     },
     "811146ea67634cd1875dbadcc37c489c": {
      "model_module": "@jupyter-widgets/base",
      "model_module_version": "1.2.0",
      "model_name": "LayoutModel",
      "state": {}
     },
     "815a929b2a7c4016a7943319403172ce": {
      "model_module": "@jupyter-widgets/controls",
      "model_module_version": "1.5.0",
      "model_name": "TextModel",
      "state": {
       "description": "x",
       "layout": "IPY_MODEL_2b5fb63847c04042b1eaf7b71142d56c",
       "style": "IPY_MODEL_64fdf9f71f3b4485b0b02c6af14faacc",
       "value": "1"
      }
     },
     "824a2a00cd9a4caf90941894f3ee3a37": {
      "model_module": "@jupyter-widgets/controls",
      "model_module_version": "1.5.0",
      "model_name": "TextModel",
      "state": {
       "description": "z",
       "layout": "IPY_MODEL_d755cfda428148eda3d3f955bc479221",
       "style": "IPY_MODEL_526b53d400874743aadf60117955d948",
       "value": "2"
      }
     },
     "8307d917664f493ba427a8c71deaf499": {
      "model_module": "@jupyter-widgets/base",
      "model_module_version": "1.2.0",
      "model_name": "LayoutModel",
      "state": {}
     },
     "838cabbef4a64b4d94723195bca87be9": {
      "model_module": "@jupyter-widgets/controls",
      "model_module_version": "1.5.0",
      "model_name": "VBoxModel",
      "state": {
       "_dom_classes": [
        "widget-interact"
       ],
       "children": [
        "IPY_MODEL_d9d6e16976a1401fb57fc16273c5ddf1",
        "IPY_MODEL_8d678c97747d44acac333fb81952b60c",
        "IPY_MODEL_bd84f88c98094d3ca02c3eeb7c134592",
        "IPY_MODEL_299bb020e4674f678ebec985dcf4300e"
       ],
       "layout": "IPY_MODEL_5474ee56bfe7407f8144a89bd3fd8e9a"
      }
     },
     "86d71125ef70419f98fe0d1bc6cbe1a9": {
      "model_module": "@jupyter-widgets/controls",
      "model_module_version": "1.5.0",
      "model_name": "DescriptionStyleModel",
      "state": {
       "description_width": ""
      }
     },
     "87434d22e279484b825d00e7061b58d0": {
      "model_module": "@jupyter-widgets/controls",
      "model_module_version": "1.5.0",
      "model_name": "DescriptionStyleModel",
      "state": {
       "description_width": ""
      }
     },
     "885a8e607597415190be541274ae847a": {
      "model_module": "@jupyter-widgets/controls",
      "model_module_version": "1.5.0",
      "model_name": "VBoxModel",
      "state": {
       "_dom_classes": [
        "widget-interact"
       ],
       "children": [
        "IPY_MODEL_90d7ee496f7e4ca7b89ac258f0155b52",
        "IPY_MODEL_c28469dbf12a4c1fa4dff90e918927a2"
       ],
       "layout": "IPY_MODEL_a986befa7f30402f92a53cd92c76fe60"
      }
     },
     "88c598675ddd4d318ea7afdc2a3ffd27": {
      "model_module": "@jupyter-widgets/controls",
      "model_module_version": "1.5.0",
      "model_name": "DescriptionStyleModel",
      "state": {
       "description_width": ""
      }
     },
     "894a399f74fc4833a5d4ee36451aef08": {
      "model_module": "@jupyter-widgets/output",
      "model_module_version": "1.0.0",
      "model_name": "OutputModel",
      "state": {
       "layout": "IPY_MODEL_0c52762f09754b5ab98a3bcc48f77b6e",
       "outputs": [
        {
         "ename": "TypeError",
         "evalue": "'<=' not supported between instances of 'str' and 'int'",
         "output_type": "error",
         "traceback": [
          "\u001b[0;31m---------------------------------------------------------------------------\u001b[0m",
          "\u001b[0;31mTypeError\u001b[0m                                 Traceback (most recent call last)",
          "\u001b[0;32m/opt/anaconda/lib/python3.7/site-packages/ipywidgets/widgets/interaction.py\u001b[0m in \u001b[0;36mupdate\u001b[0;34m(self, *args)\u001b[0m\n\u001b[1;32m    254\u001b[0m                     \u001b[0mvalue\u001b[0m \u001b[0;34m=\u001b[0m \u001b[0mwidget\u001b[0m\u001b[0;34m.\u001b[0m\u001b[0mget_interact_value\u001b[0m\u001b[0;34m(\u001b[0m\u001b[0;34m)\u001b[0m\u001b[0;34m\u001b[0m\u001b[0;34m\u001b[0m\u001b[0m\n\u001b[1;32m    255\u001b[0m                     \u001b[0mself\u001b[0m\u001b[0;34m.\u001b[0m\u001b[0mkwargs\u001b[0m\u001b[0;34m[\u001b[0m\u001b[0mwidget\u001b[0m\u001b[0;34m.\u001b[0m\u001b[0m_kwarg\u001b[0m\u001b[0;34m]\u001b[0m \u001b[0;34m=\u001b[0m \u001b[0mvalue\u001b[0m\u001b[0;34m\u001b[0m\u001b[0;34m\u001b[0m\u001b[0m\n\u001b[0;32m--> 256\u001b[0;31m                 \u001b[0mself\u001b[0m\u001b[0;34m.\u001b[0m\u001b[0mresult\u001b[0m \u001b[0;34m=\u001b[0m \u001b[0mself\u001b[0m\u001b[0;34m.\u001b[0m\u001b[0mf\u001b[0m\u001b[0;34m(\u001b[0m\u001b[0;34m**\u001b[0m\u001b[0mself\u001b[0m\u001b[0;34m.\u001b[0m\u001b[0mkwargs\u001b[0m\u001b[0;34m)\u001b[0m\u001b[0;34m\u001b[0m\u001b[0;34m\u001b[0m\u001b[0m\n\u001b[0m\u001b[1;32m    257\u001b[0m                 \u001b[0mshow_inline_matplotlib_plots\u001b[0m\u001b[0;34m(\u001b[0m\u001b[0;34m)\u001b[0m\u001b[0;34m\u001b[0m\u001b[0;34m\u001b[0m\u001b[0m\n\u001b[1;32m    258\u001b[0m                 \u001b[0;32mif\u001b[0m \u001b[0mself\u001b[0m\u001b[0;34m.\u001b[0m\u001b[0mauto_display\u001b[0m \u001b[0;32mand\u001b[0m \u001b[0mself\u001b[0m\u001b[0;34m.\u001b[0m\u001b[0mresult\u001b[0m \u001b[0;32mis\u001b[0m \u001b[0;32mnot\u001b[0m \u001b[0;32mNone\u001b[0m\u001b[0;34m:\u001b[0m\u001b[0;34m\u001b[0m\u001b[0;34m\u001b[0m\u001b[0m\n",
          "\u001b[0;32m<ipython-input-22-e87af0e82b83>\u001b[0m in \u001b[0;36mcheck_out_of_range\u001b[0;34m(x)\u001b[0m\n\u001b[1;32m      1\u001b[0m \u001b[0;34m@\u001b[0m\u001b[0minteract\u001b[0m\u001b[0;34m(\u001b[0m\u001b[0mx\u001b[0m\u001b[0;34m=\u001b[0m\u001b[0;34mr'15'\u001b[0m\u001b[0;34m)\u001b[0m\u001b[0;34m\u001b[0m\u001b[0;34m\u001b[0m\u001b[0m\n\u001b[1;32m      2\u001b[0m \u001b[0;32mdef\u001b[0m \u001b[0mcheck_out_of_range\u001b[0m\u001b[0;34m(\u001b[0m\u001b[0mx\u001b[0m\u001b[0;34m)\u001b[0m\u001b[0;34m:\u001b[0m\u001b[0;34m\u001b[0m\u001b[0;34m\u001b[0m\u001b[0m\n\u001b[0;32m----> 3\u001b[0;31m     \u001b[0mprint\u001b[0m\u001b[0;34m(\u001b[0m\u001b[0mx\u001b[0m\u001b[0;34m<=\u001b[0m\u001b[0;36m0\u001b[0m \u001b[0;32mor\u001b[0m \u001b[0mx\u001b[0m\u001b[0;34m>=\u001b[0m\u001b[0;36m100\u001b[0m\u001b[0;34m)\u001b[0m\u001b[0;34m\u001b[0m\u001b[0;34m\u001b[0m\u001b[0m\n\u001b[0m",
          "\u001b[0;31mTypeError\u001b[0m: '<=' not supported between instances of 'str' and 'int'"
         ]
        }
       ]
      }
     },
     "8b468b90f1b941d496aeab56019c1cb1": {
      "model_module": "@jupyter-widgets/base",
      "model_module_version": "1.2.0",
      "model_name": "LayoutModel",
      "state": {}
     },
     "8bedc5fcbf124c5ab22c9afb213e79d8": {
      "model_module": "@jupyter-widgets/output",
      "model_module_version": "1.0.0",
      "model_name": "OutputModel",
      "state": {
       "layout": "IPY_MODEL_43723cefa7034b449e50d6c06d874980",
       "outputs": [
        {
         "name": "stdout",
         "output_type": "stream",
         "text": "0 1\n"
        }
       ]
      }
     },
     "8cdb3a29bd0946258190e99d3fbe3303": {
      "model_module": "@jupyter-widgets/controls",
      "model_module_version": "1.5.0",
      "model_name": "TextModel",
      "state": {
       "description": "x",
       "layout": "IPY_MODEL_e3d8b3ddc33b47d5b970823e22692ea7",
       "style": "IPY_MODEL_f92c23012982403aa2b2991933b69fb2",
       "value": "1"
      }
     },
     "8d678c97747d44acac333fb81952b60c": {
      "model_module": "@jupyter-widgets/controls",
      "model_module_version": "1.5.0",
      "model_name": "TextModel",
      "state": {
       "description": "y",
       "layout": "IPY_MODEL_bcd32c3981f444db8a680e72c0df4713",
       "style": "IPY_MODEL_cf7f5f8410264d4ebfc29b7605d95884",
       "value": "0"
      }
     },
     "8ecdb1cd62f043b1a14f2ddce5b12291": {
      "model_module": "@jupyter-widgets/base",
      "model_module_version": "1.2.0",
      "model_name": "LayoutModel",
      "state": {}
     },
     "8f8d3bc325984d53b6f02754b08c514c": {
      "model_module": "@jupyter-widgets/controls",
      "model_module_version": "1.5.0",
      "model_name": "TextModel",
      "state": {
       "description": "y",
       "layout": "IPY_MODEL_adf2e92a7095469bb26df590f4c25bf7",
       "style": "IPY_MODEL_a1859215b7174e729fe0971192677859",
       "value": "0"
      }
     },
     "90d7ee496f7e4ca7b89ac258f0155b52": {
      "model_module": "@jupyter-widgets/controls",
      "model_module_version": "1.5.0",
      "model_name": "DropdownModel",
      "state": {
       "_options_labels": [
        "10 == 10.",
        "\"A\" == \"A\"",
        "\"A\" == \"A \"",
        "\"A\" != 64",
        "\"A\" != \"a\"",
        "\"A\" > \"a\"",
        "\"aBcd\" < \"abd\"",
        "\"A\" < 64",
        "0 == False",
        "\"\" == True"
       ],
       "description": "expression",
       "index": 0,
       "layout": "IPY_MODEL_5187a05286db43889743f99ab0ab6f6a",
       "style": "IPY_MODEL_f6b0429ee8bf43a1a03de45cb56b1ee2"
      }
     },
     "920323a16f4a47ceb9daebfd99cac04b": {
      "model_module": "@jupyter-widgets/base",
      "model_module_version": "1.2.0",
      "model_name": "LayoutModel",
      "state": {}
     },
     "92cde27369a74c4fab8e129b37b32129": {
      "model_module": "@jupyter-widgets/base",
      "model_module_version": "1.2.0",
      "model_name": "LayoutModel",
      "state": {}
     },
     "94560e70052846898c7fc0175e1f13ea": {
      "model_module": "@jupyter-widgets/base",
      "model_module_version": "1.2.0",
      "model_name": "LayoutModel",
      "state": {}
     },
     "94b389ef4a7c45509c6e9213c82457a9": {
      "model_module": "@jupyter-widgets/controls",
      "model_module_version": "1.5.0",
      "model_name": "TextModel",
      "state": {
       "description": "z",
       "layout": "IPY_MODEL_6b3b10ed14a441918db3fe3782cc61ee",
       "style": "IPY_MODEL_7ab26fc1a6b947a3985cbe31a8cde92d",
       "value": "2"
      }
     },
     "95c4df2e8ffd4c8ca18ae2a1e307eeca": {
      "model_module": "@jupyter-widgets/controls",
      "model_module_version": "1.5.0",
      "model_name": "VBoxModel",
      "state": {
       "_dom_classes": [
        "widget-interact"
       ],
       "children": [
        "IPY_MODEL_2c7bf4d0d6604755802103f233b1bfc3",
        "IPY_MODEL_79f8adb44d3c4ea78651ce604e83289f",
        "IPY_MODEL_364bb1e80426404990189d29c9ee752e"
       ],
       "layout": "IPY_MODEL_6361c7230d3247e4b7e072de63710e84"
      }
     },
     "9af24efc35ac4ce1a7a2fd82b6c89f95": {
      "model_module": "@jupyter-widgets/controls",
      "model_module_version": "1.5.0",
      "model_name": "TextModel",
      "state": {
       "description": "y",
       "layout": "IPY_MODEL_5ee7d213ae8940b28fe07f7664a73f52",
       "style": "IPY_MODEL_452cfab91f694a9792da5d2c0d20daab",
       "value": "0"
      }
     },
     "9cb2cff40b8a4173bdbf98507c6c1254": {
      "model_module": "@jupyter-widgets/controls",
      "model_module_version": "1.5.0",
      "model_name": "DescriptionStyleModel",
      "state": {
       "description_width": ""
      }
     },
     "9e96d0894e8d4508b14829abb9417a0f": {
      "model_module": "@jupyter-widgets/base",
      "model_module_version": "1.2.0",
      "model_name": "LayoutModel",
      "state": {}
     },
     "9f215b6476124680b62d48ddde571859": {
      "model_module": "@jupyter-widgets/controls",
      "model_module_version": "1.5.0",
      "model_name": "DescriptionStyleModel",
      "state": {
       "description_width": ""
      }
     },
     "9f7f4afab953482b8efeec77459fed3a": {
      "model_module": "@jupyter-widgets/controls",
      "model_module_version": "1.5.0",
      "model_name": "DescriptionStyleModel",
      "state": {
       "description_width": ""
      }
     },
     "a090367e3ca7495fab7bd20481936e24": {
      "model_module": "@jupyter-widgets/controls",
      "model_module_version": "1.5.0",
      "model_name": "TextModel",
      "state": {
       "description": "x",
       "layout": "IPY_MODEL_7bda870d40264f5098dedf366e7b5f61",
       "style": "IPY_MODEL_66aa8a5dde6d485890d3f93c466e70ff",
       "value": "1"
      }
     },
     "a10544720b624194b1b948f103702ce7": {
      "model_module": "@jupyter-widgets/controls",
      "model_module_version": "1.5.0",
      "model_name": "DropdownModel",
      "state": {
       "_options_labels": [
        "10 == 10.",
        "\"A\" == \"A\"",
        "\"A\" == \"A \"",
        "\"A\" != 64",
        "\"A\" != \"a\"",
        "\"A\" > \"a\"",
        "\"aBcd\" < \"abd\"",
        "\"A\" < 64"
       ],
       "description": "expression",
       "index": 0,
       "layout": "IPY_MODEL_e96d143a2c5744dbb4414d05936dcdf3",
       "style": "IPY_MODEL_86d71125ef70419f98fe0d1bc6cbe1a9"
      }
     },
     "a1859215b7174e729fe0971192677859": {
      "model_module": "@jupyter-widgets/controls",
      "model_module_version": "1.5.0",
      "model_name": "DescriptionStyleModel",
      "state": {
       "description_width": ""
      }
     },
     "a323f18c17354f04a9616ca554587ce5": {
      "model_module": "@jupyter-widgets/base",
      "model_module_version": "1.2.0",
      "model_name": "LayoutModel",
      "state": {}
     },
     "a3b0e1fdd9e84400a04f425fdb6309bf": {
      "model_module": "@jupyter-widgets/base",
      "model_module_version": "1.2.0",
      "model_name": "LayoutModel",
      "state": {}
     },
     "a67f5a4d8bad46aea3f9e18c868a8e2c": {
      "model_module": "@jupyter-widgets/controls",
      "model_module_version": "1.5.0",
      "model_name": "VBoxModel",
      "state": {
       "_dom_classes": [
        "widget-interact"
       ],
       "children": [
        "IPY_MODEL_b7c4a8da408440b3b297a0628cc2d5c9",
        "IPY_MODEL_113a9891c0cc4483b784f57f71f196ff"
       ],
       "layout": "IPY_MODEL_40a62b5f5633475ea157665ac24dc2f8"
      }
     },
     "a6b68e35626745a8a6b57343a9a4c8b3": {
      "model_module": "@jupyter-widgets/controls",
      "model_module_version": "1.5.0",
      "model_name": "TextModel",
      "state": {
       "description": "x",
       "layout": "IPY_MODEL_2ef1fa59b0bc414fb6e9a337005a8745",
       "style": "IPY_MODEL_88c598675ddd4d318ea7afdc2a3ffd27",
       "value": "1"
      }
     },
     "a8eb3efa594c4d02aa55f25e622f9c98": {
      "model_module": "@jupyter-widgets/controls",
      "model_module_version": "1.5.0",
      "model_name": "VBoxModel",
      "state": {
       "_dom_classes": [
        "widget-interact"
       ],
       "children": [
        "IPY_MODEL_815a929b2a7c4016a7943319403172ce",
        "IPY_MODEL_1604fe0b9b2a4f00a7da41e090aa96e4",
        "IPY_MODEL_8bedc5fcbf124c5ab22c9afb213e79d8"
       ],
       "layout": "IPY_MODEL_7bce87a8d8a3442f8fd57fa947bd5a7f"
      }
     },
     "a8ec807850f94c228f83f38be6b08e30": {
      "model_module": "@jupyter-widgets/base",
      "model_module_version": "1.2.0",
      "model_name": "LayoutModel",
      "state": {}
     },
     "a986befa7f30402f92a53cd92c76fe60": {
      "model_module": "@jupyter-widgets/base",
      "model_module_version": "1.2.0",
      "model_name": "LayoutModel",
      "state": {}
     },
     "a9dedffe384c4635a09860c09ca45d2a": {
      "model_module": "@jupyter-widgets/base",
      "model_module_version": "1.2.0",
      "model_name": "LayoutModel",
      "state": {}
     },
     "ac2cae15bbbd47b78e3345e591c99d45": {
      "model_module": "@jupyter-widgets/base",
      "model_module_version": "1.2.0",
      "model_name": "LayoutModel",
      "state": {}
     },
     "ac71017d772d40cabafb44e78819430c": {
      "model_module": "@jupyter-widgets/controls",
      "model_module_version": "1.5.0",
      "model_name": "TextModel",
      "state": {
       "description": "x",
       "layout": "IPY_MODEL_ebad6344229645fd94e008a4b489256e",
       "style": "IPY_MODEL_0b5b6a098d384fedbd8716cbc6641363",
       "value": "15"
      }
     },
     "adf2e92a7095469bb26df590f4c25bf7": {
      "model_module": "@jupyter-widgets/base",
      "model_module_version": "1.2.0",
      "model_name": "LayoutModel",
      "state": {}
     },
     "aebda2ea9d29496ab947b28d9fb66283": {
      "model_module": "@jupyter-widgets/base",
      "model_module_version": "1.2.0",
      "model_name": "LayoutModel",
      "state": {}
     },
     "b1cd7167f31f4323b2c81e2dca24c643": {
      "model_module": "@jupyter-widgets/controls",
      "model_module_version": "1.5.0",
      "model_name": "SliderStyleModel",
      "state": {
       "description_width": ""
      }
     },
     "b25510e80a0542339bf7d0edff1591d8": {
      "model_module": "@jupyter-widgets/base",
      "model_module_version": "1.2.0",
      "model_name": "LayoutModel",
      "state": {}
     },
     "b2c072cea6c04fa7826df2ac64b40b6c": {
      "model_module": "@jupyter-widgets/base",
      "model_module_version": "1.2.0",
      "model_name": "LayoutModel",
      "state": {}
     },
     "b57fa82d9dd4468795c86e90b441222b": {
      "model_module": "@jupyter-widgets/base",
      "model_module_version": "1.2.0",
      "model_name": "LayoutModel",
      "state": {}
     },
     "b75f023f64c447d7b65b3c7ccbf0e3b8": {
      "model_module": "@jupyter-widgets/output",
      "model_module_version": "1.0.0",
      "model_name": "OutputModel",
      "state": {
       "layout": "IPY_MODEL_8ecdb1cd62f043b1a14f2ddce5b12291",
       "outputs": [
        {
         "name": "stdout",
         "output_type": "stream",
         "text": "0 1\n"
        }
       ]
      }
     },
     "b76846a0a1f44f259c6bc704abe807ef": {
      "model_module": "@jupyter-widgets/controls",
      "model_module_version": "1.5.0",
      "model_name": "VBoxModel",
      "state": {
       "_dom_classes": [
        "widget-interact"
       ],
       "children": [
        "IPY_MODEL_18833d3751b8403599b2e435125baa9d",
        "IPY_MODEL_894a399f74fc4833a5d4ee36451aef08"
       ],
       "layout": "IPY_MODEL_484e2651875447efaf782fefbb9387be"
      }
     },
     "b7c4a8da408440b3b297a0628cc2d5c9": {
      "model_module": "@jupyter-widgets/controls",
      "model_module_version": "1.5.0",
      "model_name": "TextModel",
      "state": {
       "description": "x",
       "layout": "IPY_MODEL_c52518a1e3054080b45102ec96f25f78",
       "style": "IPY_MODEL_bb295388be54499e980fe53fc9263eee",
       "value": "15"
      }
     },
     "b8d036bea4f6476cb96058b2a1976216": {
      "model_module": "@jupyter-widgets/base",
      "model_module_version": "1.2.0",
      "model_name": "LayoutModel",
      "state": {}
     },
     "b9ff96700402412d86294b57b0d1e59a": {
      "model_module": "@jupyter-widgets/controls",
      "model_module_version": "1.5.0",
      "model_name": "DescriptionStyleModel",
      "state": {
       "description_width": ""
      }
     },
     "bae2fd1eafd5406db4acd04f00dd4e67": {
      "model_module": "@jupyter-widgets/controls",
      "model_module_version": "1.5.0",
      "model_name": "VBoxModel",
      "state": {
       "_dom_classes": [
        "widget-interact"
       ],
       "children": [
        "IPY_MODEL_a090367e3ca7495fab7bd20481936e24",
        "IPY_MODEL_e106c6892599449595420c411fdd0cbc",
        "IPY_MODEL_1cc4849f61374042b1d3122ecf799670"
       ],
       "layout": "IPY_MODEL_a8ec807850f94c228f83f38be6b08e30"
      }
     },
     "bb295388be54499e980fe53fc9263eee": {
      "model_module": "@jupyter-widgets/controls",
      "model_module_version": "1.5.0",
      "model_name": "DescriptionStyleModel",
      "state": {
       "description_width": ""
      }
     },
     "bcd32c3981f444db8a680e72c0df4713": {
      "model_module": "@jupyter-widgets/base",
      "model_module_version": "1.2.0",
      "model_name": "LayoutModel",
      "state": {}
     },
     "bd84f88c98094d3ca02c3eeb7c134592": {
      "model_module": "@jupyter-widgets/controls",
      "model_module_version": "1.5.0",
      "model_name": "TextModel",
      "state": {
       "description": "z",
       "layout": "IPY_MODEL_7c99a118feca4886a9b222ea446c6aef",
       "style": "IPY_MODEL_1dbbbd5d34084ea19ed81e7e31a79609",
       "value": "2"
      }
     },
     "bd859c20d9754c6b923f4c0fec9e6181": {
      "model_module": "@jupyter-widgets/base",
      "model_module_version": "1.2.0",
      "model_name": "LayoutModel",
      "state": {}
     },
     "bf70bb4a41274e7ea62922784b35f38f": {
      "model_module": "@jupyter-widgets/base",
      "model_module_version": "1.2.0",
      "model_name": "LayoutModel",
      "state": {}
     },
     "bfa927cd70ae478bb0117ee4dfc6b2f3": {
      "model_module": "@jupyter-widgets/base",
      "model_module_version": "1.2.0",
      "model_name": "LayoutModel",
      "state": {}
     },
     "c28469dbf12a4c1fa4dff90e918927a2": {
      "model_module": "@jupyter-widgets/output",
      "model_module_version": "1.0.0",
      "model_name": "OutputModel",
      "state": {
       "layout": "IPY_MODEL_fc7f8ccb651a4bc2b4c765ecab80de9b",
       "outputs": [
        {
         "name": "stdout",
         "output_type": "stream",
         "text": "True\n"
        }
       ]
      }
     },
     "c2ce0b7f1e9549009b68b477b4cbac19": {
      "model_module": "@jupyter-widgets/controls",
      "model_module_version": "1.5.0",
      "model_name": "TextModel",
      "state": {
       "description": "x",
       "layout": "IPY_MODEL_153baa7cb4e24b54979139db20f2a191",
       "style": "IPY_MODEL_f9d34f89a7af4a208ef8c8ee110f42fe",
       "value": "1"
      }
     },
     "c2d6c652167743cdb6e6b81bd174a326": {
      "model_module": "@jupyter-widgets/controls",
      "model_module_version": "1.5.0",
      "model_name": "DescriptionStyleModel",
      "state": {
       "description_width": ""
      }
     },
     "c441111d79cb4b0eba59b6c4568f8c71": {
      "model_module": "@jupyter-widgets/output",
      "model_module_version": "1.0.0",
      "model_name": "OutputModel",
      "state": {
       "layout": "IPY_MODEL_da311155ea3a4b83a2e0ee681686720a",
       "outputs": [
        {
         "name": "stdout",
         "output_type": "stream",
         "text": "0 1 2\n"
        }
       ]
      }
     },
     "c44e98c78724452e8ade2dcd7f1cdb49": {
      "model_module": "@jupyter-widgets/controls",
      "model_module_version": "1.5.0",
      "model_name": "DescriptionStyleModel",
      "state": {
       "description_width": ""
      }
     },
     "c52518a1e3054080b45102ec96f25f78": {
      "model_module": "@jupyter-widgets/base",
      "model_module_version": "1.2.0",
      "model_name": "LayoutModel",
      "state": {}
     },
     "c5cbb0aeeffe486faabfec4324e5ed20": {
      "model_module": "@jupyter-widgets/controls",
      "model_module_version": "1.5.0",
      "model_name": "TextModel",
      "state": {
       "description": "operand1",
       "layout": "IPY_MODEL_05dded0ccf92468da56ace121d255567",
       "style": "IPY_MODEL_49655d8f528a4ae8b84d4666b720cdb2",
       "value": "10"
      }
     },
     "c99af5a8886e4da789f0f2a7b89301d8": {
      "model_module": "@jupyter-widgets/output",
      "model_module_version": "1.0.0",
      "model_name": "OutputModel",
      "state": {
       "layout": "IPY_MODEL_d237bd456fb848699fd8092ec82a0c59",
       "outputs": [
        {
         "name": "stdout",
         "output_type": "stream",
         "text": "0 1\n"
        }
       ]
      }
     },
     "cd711d8dd9d04b2aa7a48b48c7ad054f": {
      "model_module": "@jupyter-widgets/output",
      "model_module_version": "1.0.0",
      "model_name": "OutputModel",
      "state": {
       "layout": "IPY_MODEL_7c2410b705ee4145b18a53e57f555bd7",
       "outputs": [
        {
         "name": "stdout",
         "output_type": "stream",
         "text": "Expression: 10 == 3\n     Value: False\n      Type: <class 'bool'>\n"
        }
       ]
      }
     },
     "cdc02aa201074bf7bc4af14f1925ba3c": {
      "model_module": "@jupyter-widgets/controls",
      "model_module_version": "1.5.0",
      "model_name": "DescriptionStyleModel",
      "state": {
       "description_width": ""
      }
     },
     "ce19eb24ea7e45519ac932d5b42d4d03": {
      "model_module": "@jupyter-widgets/controls",
      "model_module_version": "1.5.0",
      "model_name": "IntSliderModel",
      "state": {
       "description": "y",
       "layout": "IPY_MODEL_ceaf38ad9ba94084a82110c24dd9b91a",
       "max": 1,
       "style": "IPY_MODEL_3b85de4612c84da59b72532536be810e"
      }
     },
     "ceaf38ad9ba94084a82110c24dd9b91a": {
      "model_module": "@jupyter-widgets/base",
      "model_module_version": "1.2.0",
      "model_name": "LayoutModel",
      "state": {}
     },
     "cf3c45048dea4a688971fe917b7f769e": {
      "model_module": "@jupyter-widgets/base",
      "model_module_version": "1.2.0",
      "model_name": "LayoutModel",
      "state": {}
     },
     "cf7f5f8410264d4ebfc29b7605d95884": {
      "model_module": "@jupyter-widgets/controls",
      "model_module_version": "1.5.0",
      "model_name": "DescriptionStyleModel",
      "state": {
       "description_width": ""
      }
     },
     "cffa0933614f48919e4506633035ff4b": {
      "model_module": "@jupyter-widgets/base",
      "model_module_version": "1.2.0",
      "model_name": "LayoutModel",
      "state": {}
     },
     "d237bd456fb848699fd8092ec82a0c59": {
      "model_module": "@jupyter-widgets/base",
      "model_module_version": "1.2.0",
      "model_name": "LayoutModel",
      "state": {}
     },
     "d3d798efd52a463abf72c7aa17b43319": {
      "model_module": "@jupyter-widgets/controls",
      "model_module_version": "1.5.0",
      "model_name": "VBoxModel",
      "state": {
       "_dom_classes": [
        "widget-interact"
       ],
       "children": [
        "IPY_MODEL_05764090ef224611a31e4734556a5091",
        "IPY_MODEL_52d86baaf64d472ab7e2bb96812f03f4",
        "IPY_MODEL_b75f023f64c447d7b65b3c7ccbf0e3b8"
       ],
       "layout": "IPY_MODEL_b57fa82d9dd4468795c86e90b441222b"
      }
     },
     "d71586bd6b0c4168b2cfa6afaa45cb79": {
      "model_module": "@jupyter-widgets/output",
      "model_module_version": "1.0.0",
      "model_name": "OutputModel",
      "state": {
       "layout": "IPY_MODEL_2b94061d0d96434790e2a2f3169d70b4",
       "outputs": [
        {
         "name": "stdout",
         "output_type": "stream",
         "text": "0 1\n"
        }
       ]
      }
     },
     "d755cfda428148eda3d3f955bc479221": {
      "model_module": "@jupyter-widgets/base",
      "model_module_version": "1.2.0",
      "model_name": "LayoutModel",
      "state": {}
     },
     "d7f751637d364a8ab1ca276bd29ea76b": {
      "model_module": "@jupyter-widgets/controls",
      "model_module_version": "1.5.0",
      "model_name": "VBoxModel",
      "state": {
       "_dom_classes": [
        "widget-interact"
       ],
       "children": [
        "IPY_MODEL_c5cbb0aeeffe486faabfec4324e5ed20",
        "IPY_MODEL_6935aa845443429f8d3f01993c0b69f7",
        "IPY_MODEL_05f56bb2aedc46359c43ddf71ef3d398",
        "IPY_MODEL_cd711d8dd9d04b2aa7a48b48c7ad054f"
       ],
       "layout": "IPY_MODEL_ed0a7ceaec694774980a56acbab8f041"
      }
     },
     "d8fbb66016f0452e95a87b8a34b3e669": {
      "model_module": "@jupyter-widgets/controls",
      "model_module_version": "1.5.0",
      "model_name": "VBoxModel",
      "state": {
       "_dom_classes": [
        "widget-interact"
       ],
       "children": [
        "IPY_MODEL_c2ce0b7f1e9549009b68b477b4cbac19",
        "IPY_MODEL_2605999a81784a0dbdc9d5860a45e629",
        "IPY_MODEL_94b389ef4a7c45509c6e9213c82457a9",
        "IPY_MODEL_73dbfb9009ef41fa87e5fff9c0fa2d64"
       ],
       "layout": "IPY_MODEL_2ad6d4abf0fe4e75a0e4f62a8558f77b"
      }
     },
     "d9d6e16976a1401fb57fc16273c5ddf1": {
      "model_module": "@jupyter-widgets/controls",
      "model_module_version": "1.5.0",
      "model_name": "TextModel",
      "state": {
       "description": "x",
       "layout": "IPY_MODEL_9e96d0894e8d4508b14829abb9417a0f",
       "style": "IPY_MODEL_5a15629870434a209d1da99d3789c0db",
       "value": "1"
      }
     },
     "da311155ea3a4b83a2e0ee681686720a": {
      "model_module": "@jupyter-widgets/base",
      "model_module_version": "1.2.0",
      "model_name": "LayoutModel",
      "state": {}
     },
     "dc1d0c1ea7994587a7e6e2b4c7a982b5": {
      "model_module": "@jupyter-widgets/controls",
      "model_module_version": "1.5.0",
      "model_name": "DescriptionStyleModel",
      "state": {
       "description_width": ""
      }
     },
     "dc3bc979762f45d1864d8bea9650f582": {
      "model_module": "@jupyter-widgets/base",
      "model_module_version": "1.2.0",
      "model_name": "LayoutModel",
      "state": {}
     },
     "dc8c52d10ff848a28d619b8650dda018": {
      "model_module": "@jupyter-widgets/controls",
      "model_module_version": "1.5.0",
      "model_name": "TextModel",
      "state": {
       "description": "y",
       "layout": "IPY_MODEL_e98bbe62fd394fee905fad0b76df4e8b",
       "style": "IPY_MODEL_02d10108231c4b38a6a9e91146d48343",
       "value": "0"
      }
     },
     "dee5880b80724f969f0deae73bd9d5cb": {
      "model_module": "@jupyter-widgets/base",
      "model_module_version": "1.2.0",
      "model_name": "LayoutModel",
      "state": {}
     },
     "df32b79986c64d12a6ebcd5a81306d66": {
      "model_module": "@jupyter-widgets/base",
      "model_module_version": "1.2.0",
      "model_name": "LayoutModel",
      "state": {}
     },
     "e106c6892599449595420c411fdd0cbc": {
      "model_module": "@jupyter-widgets/controls",
      "model_module_version": "1.5.0",
      "model_name": "TextModel",
      "state": {
       "description": "y",
       "layout": "IPY_MODEL_1b69393e277a4454aa7dcfab4e55ded8",
       "style": "IPY_MODEL_689e83dc01894443bb11ee8cc70d645e",
       "value": "0"
      }
     },
     "e38cb58d89864209b88b8b5d0c5dc176": {
      "model_module": "@jupyter-widgets/controls",
      "model_module_version": "1.5.0",
      "model_name": "VBoxModel",
      "state": {
       "_dom_classes": [
        "widget-interact"
       ],
       "children": [
        "IPY_MODEL_a10544720b624194b1b948f103702ce7",
        "IPY_MODEL_1f8509589ac848809803dc616e6745fa"
       ],
       "layout": "IPY_MODEL_a3b0e1fdd9e84400a04f425fdb6309bf"
      }
     },
     "e3d8b3ddc33b47d5b970823e22692ea7": {
      "model_module": "@jupyter-widgets/base",
      "model_module_version": "1.2.0",
      "model_name": "LayoutModel",
      "state": {}
     },
     "e67f7761144f4a50b963a65a54f202f9": {
      "model_module": "@jupyter-widgets/controls",
      "model_module_version": "1.5.0",
      "model_name": "TextModel",
      "state": {
       "description": "x",
       "layout": "IPY_MODEL_bd859c20d9754c6b923f4c0fec9e6181",
       "style": "IPY_MODEL_c44e98c78724452e8ade2dcd7f1cdb49",
       "value": "15"
      }
     },
     "e6ade68e292c44f0a514aa8eb2564bb7": {
      "model_module": "@jupyter-widgets/base",
      "model_module_version": "1.2.0",
      "model_name": "LayoutModel",
      "state": {}
     },
     "e79ee4308c9247de9aec6fcaee196bd4": {
      "model_module": "@jupyter-widgets/controls",
      "model_module_version": "1.5.0",
      "model_name": "VBoxModel",
      "state": {
       "_dom_classes": [
        "widget-interact"
       ],
       "children": [
        "IPY_MODEL_1ef99e537543462085ed78a2ed732a5e",
        "IPY_MODEL_14c7a8d3cc8f413784f6d56b7c27d23c"
       ],
       "layout": "IPY_MODEL_ac2cae15bbbd47b78e3345e591c99d45"
      }
     },
     "e8947359aa7d4e14aff8c9bb37ec1f20": {
      "model_module": "@jupyter-widgets/base",
      "model_module_version": "1.2.0",
      "model_name": "LayoutModel",
      "state": {}
     },
     "e919b59f6f374a82ae0cdd2645c4390c": {
      "model_module": "@jupyter-widgets/output",
      "model_module_version": "1.0.0",
      "model_name": "OutputModel",
      "state": {
       "layout": "IPY_MODEL_6db8640b24fb4c9fb7206c0d663b1399",
       "outputs": [
        {
         "name": "stdout",
         "output_type": "stream",
         "text": "0 1\n"
        }
       ]
      }
     },
     "e96103a8d03f43519a508b3fe4061ba4": {
      "model_module": "@jupyter-widgets/base",
      "model_module_version": "1.2.0",
      "model_name": "LayoutModel",
      "state": {}
     },
     "e96d143a2c5744dbb4414d05936dcdf3": {
      "model_module": "@jupyter-widgets/base",
      "model_module_version": "1.2.0",
      "model_name": "LayoutModel",
      "state": {}
     },
     "e98bbe62fd394fee905fad0b76df4e8b": {
      "model_module": "@jupyter-widgets/base",
      "model_module_version": "1.2.0",
      "model_name": "LayoutModel",
      "state": {}
     },
     "e9b0fc88106c4971b59e67d130af846c": {
      "model_module": "@jupyter-widgets/controls",
      "model_module_version": "1.5.0",
      "model_name": "TextModel",
      "state": {
       "description": "x",
       "layout": "IPY_MODEL_32acb7a37f5d4b3ebb26bc740af78ff0",
       "style": "IPY_MODEL_090942a62bda4fb7bc8fa01635fc6f8d",
       "value": "15"
      }
     },
     "eb62963d9a704986bda78125f655e159": {
      "model_module": "@jupyter-widgets/output",
      "model_module_version": "1.0.0",
      "model_name": "OutputModel",
      "state": {
       "layout": "IPY_MODEL_25aebbddfdee49c68041ebcf1a0060ab",
       "outputs": [
        {
         "name": "stdout",
         "output_type": "stream",
         "text": "False\n"
        }
       ]
      }
     },
     "ebad6344229645fd94e008a4b489256e": {
      "model_module": "@jupyter-widgets/base",
      "model_module_version": "1.2.0",
      "model_name": "LayoutModel",
      "state": {}
     },
     "ec01e8c7aa234cdea9f99361dad77948": {
      "model_module": "@jupyter-widgets/controls",
      "model_module_version": "1.5.0",
      "model_name": "DescriptionStyleModel",
      "state": {
       "description_width": ""
      }
     },
     "ed0a7ceaec694774980a56acbab8f041": {
      "model_module": "@jupyter-widgets/base",
      "model_module_version": "1.2.0",
      "model_name": "LayoutModel",
      "state": {}
     },
     "ee81c34680a04dbfbe2c593ef70bb1b3": {
      "model_module": "@jupyter-widgets/base",
      "model_module_version": "1.2.0",
      "model_name": "LayoutModel",
      "state": {}
     },
     "f0881fc370024b7cb97717dacea6e019": {
      "model_module": "@jupyter-widgets/base",
      "model_module_version": "1.2.0",
      "model_name": "LayoutModel",
      "state": {}
     },
     "f2c21e0d409947f3a2344c17d742a5d8": {
      "model_module": "@jupyter-widgets/base",
      "model_module_version": "1.2.0",
      "model_name": "LayoutModel",
      "state": {}
     },
     "f3eb3c7a3e1f44488cd9834e75433f37": {
      "model_module": "@jupyter-widgets/controls",
      "model_module_version": "1.5.0",
      "model_name": "VBoxModel",
      "state": {
       "_dom_classes": [
        "widget-interact"
       ],
       "children": [
        "IPY_MODEL_00f7f418096045d5bcc6a1fb20dac435",
        "IPY_MODEL_dc8c52d10ff848a28d619b8650dda018",
        "IPY_MODEL_1369084b185c478488d6f70686bb5928"
       ],
       "layout": "IPY_MODEL_26a71da71b774898a286799d15cdf3d0"
      }
     },
     "f411d93ed4ae402c9f10db199e7fa601": {
      "model_module": "@jupyter-widgets/base",
      "model_module_version": "1.2.0",
      "model_name": "LayoutModel",
      "state": {}
     },
     "f433017728ee4f788d742ce5d6834757": {
      "model_module": "@jupyter-widgets/base",
      "model_module_version": "1.2.0",
      "model_name": "LayoutModel",
      "state": {}
     },
     "f6b0429ee8bf43a1a03de45cb56b1ee2": {
      "model_module": "@jupyter-widgets/controls",
      "model_module_version": "1.5.0",
      "model_name": "DescriptionStyleModel",
      "state": {
       "description_width": ""
      }
     },
     "f8ad0a11598c4e0c9220b964985b221d": {
      "model_module": "@jupyter-widgets/base",
      "model_module_version": "1.2.0",
      "model_name": "LayoutModel",
      "state": {}
     },
     "f92c23012982403aa2b2991933b69fb2": {
      "model_module": "@jupyter-widgets/controls",
      "model_module_version": "1.5.0",
      "model_name": "DescriptionStyleModel",
      "state": {
       "description_width": ""
      }
     },
     "f9b94e2fe7d941988d6a4f785579e141": {
      "model_module": "@jupyter-widgets/controls",
      "model_module_version": "1.5.0",
      "model_name": "TextModel",
      "state": {
       "description": "x",
       "layout": "IPY_MODEL_58646502a1c8405d98ff4481f27a889e",
       "style": "IPY_MODEL_dc1d0c1ea7994587a7e6e2b4c7a982b5",
       "value": "1"
      }
     },
     "f9d34f89a7af4a208ef8c8ee110f42fe": {
      "model_module": "@jupyter-widgets/controls",
      "model_module_version": "1.5.0",
      "model_name": "DescriptionStyleModel",
      "state": {
       "description_width": ""
      }
     },
     "fbab1de2384f40d780d20a0d59d186cd": {
      "model_module": "@jupyter-widgets/controls",
      "model_module_version": "1.5.0",
      "model_name": "VBoxModel",
      "state": {
       "_dom_classes": [
        "widget-interact"
       ],
       "children": [
        "IPY_MODEL_8cdb3a29bd0946258190e99d3fbe3303",
        "IPY_MODEL_8f8d3bc325984d53b6f02754b08c514c",
        "IPY_MODEL_5f5c5bc45bcc43db9b0894e631ed05d6"
       ],
       "layout": "IPY_MODEL_6f75230c04bd4666a9a76b663bce0cb3"
      }
     },
     "fc7f8ccb651a4bc2b4c765ecab80de9b": {
      "model_module": "@jupyter-widgets/base",
      "model_module_version": "1.2.0",
      "model_name": "LayoutModel",
      "state": {}
     },
     "fff555a96c1b444ea0f11a2b80dedde5": {
      "model_module": "@jupyter-widgets/controls",
      "model_module_version": "1.5.0",
      "model_name": "DescriptionStyleModel",
      "state": {
       "description_width": ""
      }
     }
    },
    "version_major": 2,
    "version_minor": 0
   }
  }
 },
 "nbformat": 4,
 "nbformat_minor": 4
}

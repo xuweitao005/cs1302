{
 "cells": [
  {
   "cell_type": "markdown",
   "metadata": {
    "cell_style": "center",
    "slideshow": {
     "slide_type": "slide"
    }
   },
   "source": [
    "# Objects\n",
    "**CS1302 Introduction to Computer Programming**\n",
    "___"
   ]
  },
  {
   "cell_type": "code",
   "execution_count": 19,
   "metadata": {
    "ExecuteTime": {
     "end_time": "2021-02-18T03:34:26.892492Z",
     "start_time": "2021-02-18T03:34:26.833881Z"
    },
    "code_folding": [],
    "hide_input": true,
    "init_cell": true,
    "slideshow": {
     "slide_type": "skip"
    }
   },
   "outputs": [],
   "source": [
    "# set up environment\n",
    "%reset -f\n",
    "import sys\n",
    "cs1302_site_packages = '/home/course/cs1302/site-packages'\n",
    "if cs1302_site_packages not in sys.path:\n",
    "    sys.path.append(cs1302_site_packages)\n",
    "%reload_ext mytutor"
   ]
  },
  {
   "cell_type": "markdown",
   "metadata": {
    "slideshow": {
     "slide_type": "slide"
    }
   },
   "source": [
    "## Object-Oriented Programming"
   ]
  },
  {
   "cell_type": "markdown",
   "metadata": {
    "slideshow": {
     "slide_type": "fragment"
    }
   },
   "source": [
    "**What is object-oriented programming?**\n",
    "\n",
    "Programming is about writing code that perform operations on the data, while object-oriented programming is programming based on the concept of `object`, or in other words, the basic unit in programming is `object`.\n",
    "\n",
    "**Why object-oriented programming?**\n",
    "* it is faster and easier to execute\n",
    "* it provides a clear structure for the programs\n",
    "* it reduces the repetition of code, and makes the code easier to maintain, modify and debug\n",
    "* it makes it possible to create full reusable applications with less code and shorter development time"
   ]
  },
  {
   "cell_type": "markdown",
   "metadata": {},
   "source": [
    "**Some basic concepts**\n",
    "\n",
    "Class vs Object\n",
    "* Classes and objects are two important aspects of object-oriented programming.\n",
    "* a class is a template. It is like a blueprint (not real), and you can use class to create many of the “same” objects with different characteristics.\n",
    "* an object is an instance of a class, it defines the details of a template.\n",
    "\n",
    "<center><img src='1.png', width='50%''></center>\n",
    "    \n",
    "Atrribute/member: what an object has.\n",
    "- For example, a car has wheels and color, so wheel and color are the attribute/member of car\n",
    "- In program, an object has some variables and functions, they are called `member variable` and `member function`\n",
    "- To use the attribute/member of an object, we use member operator `.` (we introduced it in Lecture 4)\n",
    "- The syntax to use a variable/function of an object is `object.variable_name` or `object.function_name()`, e.g., Apple.color(), Car.size()\n",
    "    \n",
    "<p style=\"color:#FF0000\";>Next, you will see many new concepts and functions. You do not need to memorize them. They are all used to explain one thing: Python programing is based on object, and almost anything in Python is an object, such as an integer, a string, a file etc.</p>"
   ]
  },
  {
   "cell_type": "code",
   "execution_count": 2,
   "metadata": {
    "ExecuteTime": {
     "end_time": "2021-02-18T03:13:05.077884Z",
     "start_time": "2021-02-18T03:13:04.849052Z"
    },
    "slideshow": {
     "slide_type": "fragment"
    }
   },
   "outputs": [],
   "source": [
    "import jupyter_manim\n",
    "from manimlib.imports import *"
   ]
  },
  {
   "cell_type": "code",
   "execution_count": 3,
   "metadata": {
    "ExecuteTime": {
     "end_time": "2021-02-18T03:13:11.043785Z",
     "start_time": "2021-02-18T03:13:07.024185Z"
    },
    "slideshow": {
     "slide_type": "-"
    }
   },
   "outputs": [
    {
     "data": {
      "text/html": [
       "\n",
       "    <video\n",
       "      width=\"854\"\n",
       "      height=\"480\"\n",
       "      autoplay=\"autoplay\"\n",
       "      controls\n",
       "    >\n",
       "        <source src=\"media/videos/tmpjpsac7_0/480p15/HelloWorld.mp4\" type=\"video/mp4\">\n",
       "    </video>\n",
       "    "
      ],
      "text/plain": [
       "<IPython.core.display.HTML object>"
      ]
     },
     "execution_count": 3,
     "metadata": {},
     "output_type": "execute_result"
    }
   ],
   "source": [
    "%%manim HelloWorld -l\n",
    "class HelloWorld(Scene): #create a class called HellowWorld\n",
    "    def construct(self): #define a function called construct()\n",
    "        #the following part plays different types of objects\n",
    "        self.play(Write(TextMobject(\"Hello, world!\")))\n",
    "        self.play(Write(TexMobject(r'E=mc^2'))) # r means raw string\n",
    "        self.play(Write(Circle()))\n",
    "        self.play(Write(Square()))\n",
    "        self.play(FadeIn(Square()))\n",
    "        self.play(GrowFromCenter(Square()))"
   ]
  },
  {
   "cell_type": "markdown",
   "metadata": {
    "slideshow": {
     "slide_type": "fragment"
    }
   },
   "source": [
    " - `HelloWorld` is a specific `Scene` that is\n",
    " - `construct`ed by `play`ing an animation that `Write`\n",
    " - the `TextMobject` of the message `'Hello, World!'`. "
   ]
  },
  {
   "cell_type": "markdown",
   "metadata": {
    "slideshow": {
     "slide_type": "fragment"
    }
   },
   "source": [
    "**Exercise** Try changing\n",
    "- Mobjects: `TextMobject('Hello, World!')` to `TexMobject(r'E=mc^2')` or `Circle()` or `Square()`.\n",
    "- Animation objects: `Write` to `FadeIn` or `GrowFromCenter`.\n",
    "\n",
    "See the [documentation](https://eulertour.com/docs/) for other choices."
   ]
  },
  {
   "cell_type": "markdown",
   "metadata": {
    "slideshow": {
     "slide_type": "fragment"
    }
   },
   "source": [
    "More complicated behavior can be achieved by using different objects."
   ]
  },
  {
   "cell_type": "code",
   "execution_count": 4,
   "metadata": {
    "ExecuteTime": {
     "end_time": "2021-02-18T03:13:23.879016Z",
     "start_time": "2021-02-18T03:13:23.871828Z"
    },
    "slideshow": {
     "slide_type": "-"
    }
   },
   "outputs": [
    {
     "data": {
      "text/html": [
       "<iframe width=\"912\" height=\"513\" src=\"https://www.youtube.com/embed/ENMyFGmq5OA\" frameborder=\"0\" allow=\"accelerometer; autoplay; clipboard-write; encrypted-media; gyroscope; picture-in-picture\" allowfullscreen></iframe>\n"
      ],
      "text/plain": [
       "<IPython.core.display.HTML object>"
      ]
     },
     "metadata": {},
     "output_type": "display_data"
    }
   ],
   "source": [
    "%%html\n",
    "<iframe width=\"912\" height=\"513\" src=\"https://www.youtube.com/embed/ENMyFGmq5OA\" frameborder=\"0\" allow=\"accelerometer; autoplay; clipboard-write; encrypted-media; gyroscope; picture-in-picture\" allowfullscreen></iframe>"
   ]
  },
  {
   "cell_type": "markdown",
   "metadata": {
    "slideshow": {
     "slide_type": "subslide"
    }
   },
   "source": [
    "**What is an object?**"
   ]
  },
  {
   "cell_type": "markdown",
   "metadata": {
    "slideshow": {
     "slide_type": "fragment"
    }
   },
   "source": [
    "Almost everything is an [`object`](https://docs.python.org/3/library/functions.html?highlight=object#object) in Python."
   ]
  },
  {
   "cell_type": "markdown",
   "metadata": {},
   "source": [
    "`isinstance(obj, class)`\n",
    "* it checks if the object (first argument) is an instance of class (second argument).\n",
    "* in other words, it checks if the first argument belongs to the second argument\n",
    "\n",
    "\n",
    "Parameters :\n",
    "* obj : The object that need to be checked as a part of class or not.\n",
    "* class : class or type, against which object is needed to be checked. \n",
    "\n",
    "Returns : True, if object belongs to the given class/type, else returns False."
   ]
  },
  {
   "cell_type": "code",
   "execution_count": 8,
   "metadata": {
    "ExecuteTime": {
     "end_time": "2021-02-18T03:01:28.161233Z",
     "start_time": "2021-02-18T03:01:28.155430Z"
    },
    "slideshow": {
     "slide_type": "-"
    }
   },
   "outputs": [
    {
     "name": "stdout",
     "output_type": "stream",
     "text": [
      "Help on built-in function isinstance in module builtins:\n",
      "\n",
      "isinstance(obj, class_or_tuple, /)\n",
      "    Return whether an object is an instance of a class or of a subclass thereof.\n",
      "    \n",
      "    A tuple, as in ``isinstance(x, (A, B, ...))``, may be given as the target to\n",
      "    check against. This is equivalent to ``isinstance(x, A) or isinstance(x, B)\n",
      "    or ...`` etc.\n",
      "\n"
     ]
    },
    {
     "data": {
      "text/plain": [
       "(True, True, True)"
      ]
     },
     "execution_count": 8,
     "metadata": {},
     "output_type": "execute_result"
    }
   ],
   "source": [
    "#isinstance? is equivalent to help(isinstance), used to show help information\n",
    "#difference: isinstance? will pop up a window, while help(isinstance) prints the help information\n",
    "isinstance?\n",
    "#help(isinstance)\n",
    "isinstance(1, object), isinstance(1.0, object), isinstance('1', object)"
   ]
  },
  {
   "cell_type": "markdown",
   "metadata": {
    "slideshow": {
     "slide_type": "fragment"
    }
   },
   "source": [
    "A function is also a [first-class](https://en.wikipedia.org/wiki/First-class_function) object."
   ]
  },
  {
   "cell_type": "code",
   "execution_count": 242,
   "metadata": {
    "ExecuteTime": {
     "end_time": "2020-10-12T04:30:47.285971Z",
     "start_time": "2020-10-12T04:30:47.188278Z"
    },
    "slideshow": {
     "slide_type": "-"
    }
   },
   "outputs": [
    {
     "data": {
      "text/plain": [
       "(True, True)"
      ]
     },
     "execution_count": 242,
     "metadata": {},
     "output_type": "execute_result"
    }
   ],
   "source": [
    "isinstance(print, object), isinstance(''.isdigit, object)"
   ]
  },
  {
   "cell_type": "markdown",
   "metadata": {},
   "source": [
    "`isdigit()` method returns True if all the characters are digits, otherwise False."
   ]
  },
  {
   "cell_type": "code",
   "execution_count": 5,
   "metadata": {
    "ExecuteTime": {
     "end_time": "2021-02-18T03:13:39.399184Z",
     "start_time": "2021-02-18T03:13:39.392407Z"
    }
   },
   "outputs": [
    {
     "name": "stdout",
     "output_type": "stream",
     "text": [
      "False\n",
      "True\n"
     ]
    }
   ],
   "source": [
    "string1=\"abc123\"\n",
    "string2=\"123\"\n",
    "print(string1.isdigit())\n",
    "print(string2.isdigit())"
   ]
  },
  {
   "cell_type": "markdown",
   "metadata": {
    "slideshow": {
     "slide_type": "fragment"
    }
   },
   "source": [
    "A data type (int, float, str) is also an object."
   ]
  },
  {
   "cell_type": "code",
   "execution_count": 170,
   "metadata": {
    "ExecuteTime": {
     "end_time": "2020-10-11T16:13:13.485535Z",
     "start_time": "2020-10-11T16:13:13.444245Z"
    },
    "slideshow": {
     "slide_type": "-"
    }
   },
   "outputs": [
    {
     "data": {
      "text/plain": [
       "(True, True, True)"
      ]
     },
     "execution_count": 170,
     "metadata": {},
     "output_type": "execute_result"
    }
   ],
   "source": [
    "# chicken and egg relationship\n",
    "isinstance(int, object), isinstance(float, object), isinstance(str, object)"
   ]
  },
  {
   "cell_type": "markdown",
   "metadata": {
    "slideshow": {
     "slide_type": "subslide"
    }
   },
   "source": [
    "Python is a [*class-based* object-oriented programming](https://en.wikipedia.org/wiki/Object-oriented_programming#Class-based_vs_prototype-based) language:  \n",
    "- Each object is an instance of a *class* (also called type in Python).\n",
    "- An object is a collection of *members/attributes*, each of which is an object."
   ]
  },
  {
   "cell_type": "markdown",
   "metadata": {},
   "source": [
    "`hasattr(object,attribute_name)`\n",
    "* check if an object has the given named attribute and return true if present, else false."
   ]
  },
  {
   "cell_type": "code",
   "execution_count": 243,
   "metadata": {
    "ExecuteTime": {
     "end_time": "2020-10-12T04:34:43.485696Z",
     "start_time": "2020-10-12T04:34:43.385988Z"
    },
    "slideshow": {
     "slide_type": "-"
    }
   },
   "outputs": [
    {
     "data": {
      "text/plain": [
       "True"
      ]
     },
     "execution_count": 243,
     "metadata": {},
     "output_type": "execute_result"
    }
   ],
   "source": [
    "#hasattr? is equivalent to help(hasattr), used to show help information\n",
    "hasattr?\n",
    "hasattr(str, 'isdigit') #it means isdigit is an attribute/member of str"
   ]
  },
  {
   "cell_type": "markdown",
   "metadata": {
    "slideshow": {
     "slide_type": "fragment"
    }
   },
   "source": [
    "Different objects of a class\n",
    "- have the same set of attributes as that of the class, but\n",
    "- the attribute values can be different.\n",
    "- For example, all Fruits have color, size and shape. But Apple, banana and mango have different colors, sizes and shapes.\n",
    "- All cars have wheels and windows, but Volvo, Audi and Toyota have different wheels and windows\n",
    "\n"
   ]
  },
  {
   "cell_type": "markdown",
   "metadata": {},
   "source": [
    "Two functions: `dir()` and `complex(x,y)`\n",
    "\n",
    "* `dir()` returns list of the attributes and methods of any object (say functions , modules, strings, lists, dictionaries etc.)\n",
    "* An complex number is represented by “ x + yi “. Python converts the real numbers x and y into complex using the function `complex(x,y)`. The real part can be accessed using the function real() and imaginary part can be represented by imag()"
   ]
  },
  {
   "cell_type": "code",
   "execution_count": 247,
   "metadata": {
    "ExecuteTime": {
     "end_time": "2020-10-12T04:41:33.584134Z",
     "start_time": "2020-10-12T04:41:33.574764Z"
    },
    "slideshow": {
     "slide_type": "-"
    }
   },
   "outputs": [
    {
     "data": {
      "text/plain": [
       "(True, True)"
      ]
     },
     "execution_count": 247,
     "metadata": {},
     "output_type": "execute_result"
    }
   ],
   "source": [
    "#dir?\n",
    "#print(dir(int)) 1+2i  1+1i\n",
    "dir(1)==dir(int), complex(1, 2).imag != complex(1, 1).imag #(2i)!=(1i)\n",
    "#this examples shows, the objects share the same attributes/members as class\n",
    "#but values of these attribtues/members of different objects are different."
   ]
  },
  {
   "cell_type": "markdown",
   "metadata": {
    "slideshow": {
     "slide_type": "subslide"
    }
   },
   "source": [
    "**How to operate on an object?**"
   ]
  },
  {
   "cell_type": "markdown",
   "metadata": {
    "slideshow": {
     "slide_type": "fragment"
    }
   },
   "source": [
    "- A class can define a function as an attribute for all its instances.  \n",
    "- Such a function is called a *method* or *member function*.\n",
    "- To use member function, we need member operator `.`"
   ]
  },
  {
   "cell_type": "markdown",
   "metadata": {},
   "source": [
    "conjugate complex number\n",
    "* complex conjugate is when \"Each of two complex numbers having their real parts identical and their imaginary parts of equal magnitude but opposite sign.\"\n",
    "* For example, a=1+2i,b=1-2i, then `a` the conjugate complex number of `b`, or `b` is the conjugate complex number of `a`\n",
    "* In Python, we can get its complex conjugate by complex.conjugate(a), or a.conjugate()"
   ]
  },
  {
   "cell_type": "code",
   "execution_count": 6,
   "metadata": {
    "ExecuteTime": {
     "end_time": "2021-02-18T03:14:00.009840Z",
     "start_time": "2021-02-18T03:14:00.001923Z"
    },
    "slideshow": {
     "slide_type": "fragment"
    }
   },
   "outputs": [
    {
     "name": "stdout",
     "output_type": "stream",
     "text": [
      "(1+2j)\n",
      "(1-2j)\n",
      "(1-2j)\n"
     ]
    },
    {
     "data": {
      "text/plain": [
       "((1-2j), method_descriptor)"
      ]
     },
     "execution_count": 6,
     "metadata": {},
     "output_type": "execute_result"
    }
   ],
   "source": [
    "X=complex(1,2)\n",
    "print(X)\n",
    "#method 1\n",
    "print(complex.conjugate(X))\n",
    "#method 2\n",
    "print(X.conjugate())\n",
    "\n",
    "\n",
    "complex.conjugate(complex(1, 2)), type(complex.conjugate)\n"
   ]
  },
  {
   "cell_type": "markdown",
   "metadata": {
    "slideshow": {
     "slide_type": "fragment"
    }
   },
   "source": [
    "A [method](https://docs.python.org/3/tutorial/classes.html#method-objects) can be accessed by objects of the class:"
   ]
  },
  {
   "cell_type": "code",
   "execution_count": 72,
   "metadata": {
    "ExecuteTime": {
     "end_time": "2020-10-11T05:47:29.384643Z",
     "start_time": "2020-10-11T05:47:29.325637Z"
    },
    "slideshow": {
     "slide_type": "-"
    }
   },
   "outputs": [
    {
     "data": {
      "text/plain": [
       "((1-2j), builtin_function_or_method)"
      ]
     },
     "execution_count": 72,
     "metadata": {},
     "output_type": "execute_result"
    }
   ],
   "source": [
    "complex(1, 2).conjugate(), type(complex(1, 2).conjugate)"
   ]
  },
  {
   "cell_type": "markdown",
   "metadata": {
    "slideshow": {
     "slide_type": "fragment"
    }
   },
   "source": [
    "`complex(1,2).conjugate` is a *callable* object:\n",
    "- Its attribute `__self__` is assigned to `complex(1,2)`.\n",
    "- When called, it passes `__self__` as the first argument to `complex.conjugate`."
   ]
  },
  {
   "cell_type": "code",
   "execution_count": 249,
   "metadata": {
    "ExecuteTime": {
     "end_time": "2020-10-12T04:47:13.747346Z",
     "start_time": "2020-10-12T04:47:13.734398Z"
    },
    "slideshow": {
     "slide_type": "-"
    }
   },
   "outputs": [
    {
     "data": {
      "text/plain": [
       "(1-2j)"
      ]
     },
     "execution_count": 249,
     "metadata": {},
     "output_type": "execute_result"
    }
   ],
   "source": [
    "callable(complex(1,2).conjugate), complex(1,2).conjugate.__self__\n",
    "\n",
    "#why complex(1,2).conjugate is equivalent to complex.conjugate(complex(1,1))?\n",
    "#complex(1,2).conjugate-->complex(1,2).conjugate.__self__=complex(1,2)-->complex.conjugate(complex(1,2))\n",
    "complex(1,2).conjugate\n",
    "complex.conjugate(complex(1,2))"
   ]
  },
  {
   "cell_type": "markdown",
   "metadata": {
    "ExecuteTime": {
     "end_time": "2020-10-11T07:41:42.684907Z",
     "start_time": "2020-10-11T07:41:42.589433Z"
    }
   },
   "source": [
    "<p style=\"color:#FF0000\";> All the examples above are used to explain one fact: almost everything is an object. You only need to remember this point. </p>"
   ]
  },
  {
   "cell_type": "markdown",
   "metadata": {
    "slideshow": {
     "slide_type": "slide"
    }
   },
   "source": [
    "## File Objects (refer to chapter 9.3 of reference bok)"
   ]
  },
  {
   "cell_type": "markdown",
   "metadata": {
    "ExecuteTime": {
     "end_time": "2020-07-25T05:29:37.415351Z",
     "start_time": "2020-07-25T05:29:37.409512Z"
    },
    "slideshow": {
     "slide_type": "subslide"
    }
   },
   "source": [
    "**How to read a text file?**"
   ]
  },
  {
   "cell_type": "markdown",
   "metadata": {
    "slideshow": {
     "slide_type": "fragment"
    }
   },
   "source": [
    "Consider reading a csv (comma separated value) file:"
   ]
  },
  {
   "cell_type": "code",
   "execution_count": 8,
   "metadata": {
    "ExecuteTime": {
     "end_time": "2021-02-18T03:19:17.713406Z",
     "start_time": "2021-02-18T03:19:17.587343Z"
    },
    "slideshow": {
     "slide_type": "-"
    }
   },
   "outputs": [
    {
     "name": "stdout",
     "output_type": "stream",
     "text": [
      "name, email, phone\r\n",
      "Amelia Hawkins,dugorre@lufu.cg,(414) 524-6465\r\n",
      "Alta Perez,bos@fiur.sc,(385) 247-9001\r\n",
      "Tai Ming Chan,tmchan@cityu.edu.hk,(634) 234-7294\r\n",
      "Annie Zimmerman,okodag@saswuf.mn,(259) 862-1082\r\n",
      "Eula Crawford,ve@rorohte.mx,(635) 827-9819\r\n",
      "Clayton Atkins,vape@nig.eh,(762) 271-7090\r\n",
      "Hallie Day,kozzazazi@ozakewje.am,(872) 949-5878\r\n",
      "Lida Matthews,joobu@pabnesis.kg,(213) 486-8330\r\n",
      "Amelia Pittman,nulif@uposzag.au,(800) 303-3234\r\n"
     ]
    }
   ],
   "source": [
    "!more 'contact.csv' #! means run command 'more' in shell \n",
    "                    #more means showing the content of the file (no need to remember)"
   ]
  },
  {
   "cell_type": "markdown",
   "metadata": {
    "slideshow": {
     "slide_type": "fragment"
    }
   },
   "source": [
    "To read the file by a Python program:"
   ]
  },
  {
   "cell_type": "code",
   "execution_count": 9,
   "metadata": {
    "ExecuteTime": {
     "end_time": "2021-02-18T03:19:24.550886Z",
     "start_time": "2021-02-18T03:19:24.546056Z"
    },
    "slideshow": {
     "slide_type": "-"
    }
   },
   "outputs": [
    {
     "name": "stdout",
     "output_type": "stream",
     "text": [
      "name, email, phone\n",
      "Amelia Hawkins,dugorre@lufu.cg,(414) 524-6465\n",
      "Alta Perez,bos@fiur.sc,(385) 247-9001\n",
      "Tai Ming Chan,tmchan@cityu.edu.hk,(634) 234-7294\n",
      "Annie Zimmerman,okodag@saswuf.mn,(259) 862-1082\n",
      "Eula Crawford,ve@rorohte.mx,(635) 827-9819\n",
      "Clayton Atkins,vape@nig.eh,(762) 271-7090\n",
      "Hallie Day,kozzazazi@ozakewje.am,(872) 949-5878\n",
      "Lida Matthews,joobu@pabnesis.kg,(213) 486-8330\n",
      "Amelia Pittman,nulif@uposzag.au,(800) 303-3234\n"
     ]
    }
   ],
   "source": [
    "f = open('contact.csv')  # create a file object for reading\n",
    "print(f.read())   # return the entire content\n",
    "f.close()         # close the file"
   ]
  },
  {
   "cell_type": "markdown",
   "metadata": {
    "slideshow": {
     "slide_type": "fragment"
    }
   },
   "source": [
    "1. [`open`](https://docs.python.org/3/library/functions.html?highlight=open#open) is a function that creates a file object and assigns it to `f`.\n",
    "1. Associated with the file object, \n",
    " - [`read`](https://docs.python.org/3/library/io.html#io.TextIOBase.read) returns the entire content of the file as a string.\n",
    " - [`close`](https://docs.python.org/3/library/io.html#io.IOBase.close) flushes and closes the file."
   ]
  },
  {
   "cell_type": "markdown",
   "metadata": {
    "slideshow": {
     "slide_type": "subslide"
    }
   },
   "source": [
    "**Why close a file?**"
   ]
  },
  {
   "cell_type": "markdown",
   "metadata": {
    "slideshow": {
     "slide_type": "fragment"
    }
   },
   "source": [
    "If not, depending on the operating system,\n",
    "- other programs may not be able to access the file, and\n",
    "- changes may not be written to the file.\n",
    "\n",
    "When we use USB disk, we need to eject it first, then we can pull it out. Otherwise, data may be lost"
   ]
  },
  {
   "cell_type": "markdown",
   "metadata": {
    "slideshow": {
     "slide_type": "subslide"
    }
   },
   "source": [
    "It's very often programmers may forget to close a file, how to solve this problem?\n",
    "\n",
    "To ensure a file is closed properly, we can use the [`with` statement](https://docs.python.org/3/reference/compound_stmts.html#with):"
   ]
  },
  {
   "cell_type": "code",
   "execution_count": 10,
   "metadata": {
    "ExecuteTime": {
     "end_time": "2021-02-18T03:19:39.747105Z",
     "start_time": "2021-02-18T03:19:39.743769Z"
    },
    "slideshow": {
     "slide_type": "fragment"
    }
   },
   "outputs": [
    {
     "name": "stdout",
     "output_type": "stream",
     "text": [
      "name, email, phone\n",
      "Amelia Hawkins,dugorre@lufu.cg,(414) 524-6465\n",
      "Alta Perez,bos@fiur.sc,(385) 247-9001\n",
      "Tai Ming Chan,tmchan@cityu.edu.hk,(634) 234-7294\n",
      "Annie Zimmerman,okodag@saswuf.mn,(259) 862-1082\n",
      "Eula Crawford,ve@rorohte.mx,(635) 827-9819\n",
      "Clayton Atkins,vape@nig.eh,(762) 271-7090\n",
      "Hallie Day,kozzazazi@ozakewje.am,(872) 949-5878\n",
      "Lida Matthews,joobu@pabnesis.kg,(213) 486-8330\n",
      "Amelia Pittman,nulif@uposzag.au,(800) 303-3234\n"
     ]
    }
   ],
   "source": [
    "with open('contact.csv') as f:\n",
    "    print(f.read())"
   ]
  },
  {
   "cell_type": "markdown",
   "metadata": {
    "slideshow": {
     "slide_type": "subslide"
    }
   },
   "source": [
    "Why we don't need to close a file in `with` statement?\n",
    "- Because it has a buit-in function `__exit__` to close file automatically.\n",
    "\n",
    "The `with` statement applies to any [context manager](https://docs.python.org/3/reference/datamodel.html#context-managers) that provides the methods\n",
    "- `__enter__` for initialization, and\n",
    "- `__exit__` for finalization."
   ]
  },
  {
   "cell_type": "code",
   "execution_count": 11,
   "metadata": {
    "ExecuteTime": {
     "end_time": "2021-02-18T03:19:53.176354Z",
     "start_time": "2021-02-18T03:19:53.169282Z"
    },
    "slideshow": {
     "slide_type": "fragment"
    }
   },
   "outputs": [
    {
     "name": "stdout",
     "output_type": "stream",
     "text": [
      "<_io.TextIOWrapper name='contact.csv' mode='r' encoding='UTF-8'>\n",
      "True\n",
      "True\n"
     ]
    }
   ],
   "source": [
    "with open('contact.csv') as f:\n",
    "    print(f, hasattr(f, '__enter__'), hasattr(f, '__exit__'), sep='\\n')"
   ]
  },
  {
   "cell_type": "markdown",
   "metadata": {
    "slideshow": {
     "slide_type": "fragment"
    }
   },
   "source": [
    "- `f.__enter__` is called after the file object is successfully created and assigned to `f`, and\n",
    "- `f.__exit__` is called at the end, which closes the file.\n",
    "- `f.closed` indicates whether the file is closed.\n",
    "\n",
    "<p style=\"color:#FF0000\";>No need to go deep</p>"
   ]
  },
  {
   "cell_type": "code",
   "execution_count": 77,
   "metadata": {
    "ExecuteTime": {
     "end_time": "2020-10-11T05:54:49.092592Z",
     "start_time": "2020-10-11T05:54:49.088011Z"
    },
    "slideshow": {
     "slide_type": "fragment"
    }
   },
   "outputs": [
    {
     "data": {
      "text/plain": [
       "True"
      ]
     },
     "execution_count": 77,
     "metadata": {},
     "output_type": "execute_result"
    }
   ],
   "source": [
    "f.closed"
   ]
  },
  {
   "cell_type": "markdown",
   "metadata": {
    "slideshow": {
     "slide_type": "fragment"
    }
   },
   "source": [
    "As a file may contain many lines? how to read a file line by line?\n",
    "- We can iterate a file object in a `for` loop,  \n",
    "- which implicitly call the method `__iter__` to read a file line by line."
   ]
  },
  {
   "cell_type": "code",
   "execution_count": 12,
   "metadata": {
    "ExecuteTime": {
     "end_time": "2021-02-18T03:20:21.963514Z",
     "start_time": "2021-02-18T03:20:21.953832Z"
    },
    "slideshow": {
     "slide_type": "fragment"
    }
   },
   "outputs": [
    {
     "name": "stdout",
     "output_type": "stream",
     "text": [
      "name, email, phone\n",
      "Amelia Hawkins,dugorre@lufu.cg,(414) 524-6465\n",
      "Alta Perez,bos@fiur.sc,(385) 247-9001\n",
      "Tai Ming Chan,tmchan@cityu.edu.hk,(634) 234-7294\n",
      "Annie Zimmerman,okodag@saswuf.mn,(259) 862-1082\n",
      "Eula Crawford,ve@rorohte.mx,(635) 827-9819\n",
      "Clayton Atkins,vape@nig.eh,(762) 271-7090\n",
      "Hallie Day,kozzazazi@ozakewje.am,(872) 949-5878\n",
      "Lida Matthews,joobu@pabnesis.kg,(213) 486-8330\n",
      "Amelia Pittman,nulif@uposzag.au,(800) 303-3234"
     ]
    },
    {
     "data": {
      "text/plain": [
       "True"
      ]
     },
     "execution_count": 12,
     "metadata": {},
     "output_type": "execute_result"
    }
   ],
   "source": [
    "with open('contact.csv') as f:\n",
    "    for line in f:\n",
    "        print(line, end='')\n",
    "\n",
    "#why can we iterate each line in f?\n",
    "#cause f has a attribute called __iter__, which will read a file line by line automatically\n",
    "hasattr(f, '__iter__')"
   ]
  },
  {
   "cell_type": "markdown",
   "metadata": {
    "slideshow": {
     "slide_type": "subslide"
    }
   },
   "source": [
    "**Exercise** Print only the first 5 lines of the file `contact.csv`."
   ]
  },
  {
   "cell_type": "code",
   "execution_count": 201,
   "metadata": {
    "ExecuteTime": {
     "end_time": "2020-10-12T02:56:59.493200Z",
     "start_time": "2020-10-12T02:56:59.452278Z"
    },
    "deletable": false,
    "nbgrader": {
     "checksum": "219ecdec6b0f8c062699b65012ed7588",
     "grade": false,
     "grade_id": "read-head",
     "locked": false,
     "schema_version": 3,
     "solution": true,
     "task": false
    },
    "slideshow": {
     "slide_type": "-"
    }
   },
   "outputs": [
    {
     "name": "stdout",
     "output_type": "stream",
     "text": [
      "name, email, phone\n",
      "Amelia Hawkins,dugorre@lufu.cg,(414) 524-6465\n",
      "Alta Perez,bos@fiur.sc,(385) 247-9001\n",
      "Tai Ming Chan,tmchan@cityu.edu.hk,(634) 234-7294\n",
      "Annie Zimmerman,okodag@saswuf.mn,(259) 862-1082\n"
     ]
    }
   ],
   "source": [
    "with open('contact.csv') as f:   #use with statement to create a file object and assign it to f\n",
    "    # YOUR CODE HERE\n",
    "    line_no=1                    #create a variable to represent line no\n",
    "    for line in f:                 #use a for loop to read each line\n",
    "        if line_no<=5:               #if line no is <5, we print it\n",
    "            print(line, end='')\n",
    "            line_no+=1"
   ]
  },
  {
   "cell_type": "markdown",
   "metadata": {
    "slideshow": {
     "slide_type": "subslide"
    }
   },
   "source": [
    "**How to write to a text file?**"
   ]
  },
  {
   "cell_type": "markdown",
   "metadata": {},
   "source": [
    "f = open('contact.csv', 'r')\n",
    "\n",
    "f2 = open('contact.csv', 'w')\n",
    "\n",
    "f3 = open('contact.csv', 'a')\n",
    "\n",
    "The open function supports the following modes:\n",
    "* 'r' opens the file for reading\n",
    "* 'w' opens the file for writing; original data will be lost.\n",
    "* 'a' opens the file to append data to it; original data will not be lost."
   ]
  },
  {
   "cell_type": "markdown",
   "metadata": {
    "slideshow": {
     "slide_type": "fragment"
    }
   },
   "source": [
    "Now, let's see how to write a file, but before that\n",
    "\n",
    "Consider backing up `contact.csv` to a new file:"
   ]
  },
  {
   "cell_type": "code",
   "execution_count": 13,
   "metadata": {
    "ExecuteTime": {
     "end_time": "2021-02-18T03:28:06.504508Z",
     "start_time": "2021-02-18T03:28:06.502252Z"
    },
    "slideshow": {
     "slide_type": "-"
    }
   },
   "outputs": [],
   "source": [
    "#first, create a string to represent the file name and directory\n",
    "destination = 'private/new_contact.csv'"
   ]
  },
  {
   "cell_type": "markdown",
   "metadata": {
    "slideshow": {
     "slide_type": "fragment"
    }
   },
   "source": [
    "The directory has to be created first if it does not exist:\n",
    "* `os` module provides a portable way of using operating system dependent functionality, such as access path and file\n",
    "* `os.makedirs()` is a function in `os` module to make a new directory\n",
    "* Syntax: `os.makedirs(directory_name, exist_ok)`\n",
    "* `exist_ok` (optional) : If the target directory already exists, an OSError is raised if its value is False otherwise not. It's False by default. \n",
    "* more information click [here](https://www.geeksforgeeks.org/python-os-makedirs-method/)"
   ]
  },
  {
   "cell_type": "code",
   "execution_count": 14,
   "metadata": {
    "ExecuteTime": {
     "end_time": "2021-02-18T03:28:34.943671Z",
     "start_time": "2021-02-18T03:28:34.938223Z"
    },
    "slideshow": {
     "slide_type": "-"
    }
   },
   "outputs": [],
   "source": [
    "import os  #import os module\n",
    "os.makedirs(os.path.dirname(destination), exist_ok=True) #if exist_ok is True, it will not report an error if the directory exists\n",
    "#os.makedirs(os.path.dirname(destination), exist_ok=False) # if exist_ok is False, it will report an error if the directory exits"
   ]
  },
  {
   "cell_type": "code",
   "execution_count": 15,
   "metadata": {
    "ExecuteTime": {
     "end_time": "2021-02-18T03:28:40.303834Z",
     "start_time": "2021-02-18T03:28:40.180478Z"
    },
    "slideshow": {
     "slide_type": "-"
    }
   },
   "outputs": [
    {
     "name": "stdout",
     "output_type": "stream",
     "text": [
      "1.png  contact.csv  media  Objects.ipynb  private\r\n"
     ]
    }
   ],
   "source": [
    "#the following code shows help information of os.makedirs()\n",
    "#os.makedirs?\n",
    "!ls  #this line list all the files in the current directory\n",
    "     #the ! means run command 'ls' in shell (no need to understand)\n",
    "     # command 'ls' means list all the directories/files in the current directory"
   ]
  },
  {
   "cell_type": "markdown",
   "metadata": {
    "slideshow": {
     "slide_type": "fragment"
    }
   },
   "source": [
    "To write to the destination file:"
   ]
  },
  {
   "cell_type": "code",
   "execution_count": 16,
   "metadata": {
    "ExecuteTime": {
     "end_time": "2021-02-18T03:28:47.085613Z",
     "start_time": "2021-02-18T03:28:47.077963Z"
    },
    "code_folding": [],
    "slideshow": {
     "slide_type": "-"
    }
   },
   "outputs": [],
   "source": [
    "with open('contact.csv') as source_file:   #create a file object and assign it to source file\n",
    "    with open(destination, 'w') as destination_file: # create a file object and assign it to destination_file\n",
    "        content=source_file.read()         #call read() function to read content from source_file\n",
    "        destination_file.write(content)   #call write() function to write the content to destination_file"
   ]
  },
  {
   "cell_type": "code",
   "execution_count": 17,
   "metadata": {
    "ExecuteTime": {
     "end_time": "2021-02-18T03:28:52.658731Z",
     "start_time": "2021-02-18T03:28:52.483994Z"
    },
    "slideshow": {
     "slide_type": "-"
    }
   },
   "outputs": [
    {
     "name": "stdout",
     "output_type": "stream",
     "text": [
      "name, email, phone\r\n",
      "Amelia Hawkins,dugorre@lufu.cg,(414) 524-6465\r\n",
      "Alta Perez,bos@fiur.sc,(385) 247-9001\r\n",
      "Tai Ming Chan,tmchan@cityu.edu.hk,(634) 234-7294\r\n",
      "Annie Zimmerman,okodag@saswuf.mn,(259) 862-1082\r\n",
      "Eula Crawford,ve@rorohte.mx,(635) 827-9819\r\n",
      "Clayton Atkins,vape@nig.eh,(762) 271-7090\r\n",
      "Hallie Day,kozzazazi@ozakewje.am,(872) 949-5878\r\n",
      "Lida Matthews,joobu@pabnesis.kg,(213) 486-8330\r\n",
      "Amelia Pittman,nulif@uposzag.au,(800) 303-3234\r\n"
     ]
    }
   ],
   "source": [
    "destination_file.write?\n",
    "!more {destination}             #show the content in the destination file"
   ]
  },
  {
   "cell_type": "markdown",
   "metadata": {
    "slideshow": {
     "slide_type": "fragment"
    }
   },
   "source": [
    "- The argument `'w'` in `open()` sets the file object to write mode.\n",
    "- The method `write` writes the input strings to the file.\n",
    "- In this mode, the original data will be lost"
   ]
  },
  {
   "cell_type": "markdown",
   "metadata": {
    "slideshow": {
     "slide_type": "subslide"
    }
   },
   "source": [
    "**Exercise** We can also use `a` mode to *append* new content to a file.   \n",
    "Complete the following code to append `new_data` to the file `destination`."
   ]
  },
  {
   "cell_type": "code",
   "execution_count": 18,
   "metadata": {
    "ExecuteTime": {
     "end_time": "2021-02-18T03:29:10.950301Z",
     "start_time": "2021-02-18T03:29:10.818971Z"
    },
    "deletable": false,
    "nbgrader": {
     "checksum": "6f9b28260e44c568c51e7e0f78a286b7",
     "grade": false,
     "grade_id": "append",
     "locked": false,
     "schema_version": 3,
     "solution": true,
     "task": false
    },
    "slideshow": {
     "slide_type": "-"
    }
   },
   "outputs": [
    {
     "name": "stdout",
     "output_type": "stream",
     "text": [
      "name, email, phone\r\n",
      "Amelia Hawkins,dugorre@lufu.cg,(414) 524-6465\r\n",
      "Alta Perez,bos@fiur.sc,(385) 247-9001\r\n",
      "Tai Ming Chan,tmchan@cityu.edu.hk,(634) 234-7294\r\n",
      "Annie Zimmerman,okodag@saswuf.mn,(259) 862-1082\r\n",
      "Eula Crawford,ve@rorohte.mx,(635) 827-9819\r\n",
      "Clayton Atkins,vape@nig.eh,(762) 271-7090\r\n",
      "Hallie Day,kozzazazi@ozakewje.am,(872) 949-5878\r\n",
      "Lida Matthews,joobu@pabnesis.kg,(213) 486-8330\r\n",
      "Amelia Pittman,nulif@uposzag.au,(800) 303-3234\r\n",
      "Effie, Douglas,galnec@naowdu.tc, (888) 311-9512\r\n"
     ]
    }
   ],
   "source": [
    "new_data = 'Effie, Douglas,galnec@naowdu.tc, (888) 311-9512'\n",
    "with open(destination, 'a') as f:\n",
    "    # YOUR CODE HERE\n",
    "    f.write('\\n')            # '\\n' means end of a line cause we need to print the new_data in a new line\n",
    "    f.write(new_data)        # call write() function to append the new data to the end of original data\n",
    "    \n",
    "!more {destination}"
   ]
  },
  {
   "cell_type": "markdown",
   "metadata": {
    "ExecuteTime": {
     "end_time": "2020-07-27T09:38:13.743387Z",
     "start_time": "2020-07-27T09:38:13.731593Z"
    },
    "slideshow": {
     "slide_type": "subslide"
    }
   },
   "source": [
    "**How to delete a file?**"
   ]
  },
  {
   "cell_type": "markdown",
   "metadata": {
    "slideshow": {
     "slide_type": "fragment"
    }
   },
   "source": [
    "Note that the file object does not provide any method to delete the file.  \n",
    "Instead, we should use the function `remove` of the `os` module.\n",
    "*   Syntax: `os.remove(file_directory)`"
   ]
  },
  {
   "cell_type": "code",
   "execution_count": null,
   "metadata": {
    "ExecuteTime": {
     "end_time": "2020-10-09T12:04:23.600006Z",
     "start_time": "2020-10-09T12:04:23.593802Z"
    },
    "slideshow": {
     "slide_type": "fragment"
    }
   },
   "outputs": [],
   "source": [
    "if os.path.exists(destination):  #os.path.exists() check if destination exist or not\n",
    "    os.remove(destination)       #if it exists, we call os.remove() function to remove it"
   ]
  },
  {
   "cell_type": "markdown",
   "metadata": {},
   "source": [
    "## A short summary\n",
    "What you need to remember for file objects.\n",
    "\n",
    "1. how to create a diretory and a file.\n",
    "   * we use `os.makedirs()` function\n",
    "2. how to read data from a file.\n",
    "   * we use `open()` function, and it has three modes. Be familiar with these modes\n",
    "3. how to write data to a file. \n",
    "   * we use `write()` function.\n",
    "4. Remember to always close a file after you open it.\n",
    "   * to eliminate this problem, we can use `with` statement cause it will close the file automatically.\n",
    "5. how to delete a file.\n",
    "   * we use `os.remove()` function"
   ]
  },
  {
   "cell_type": "markdown",
   "metadata": {
    "slideshow": {
     "slide_type": "slide"
    }
   },
   "source": [
    "## String Objects (refer to chapter 9.2 of reference book)"
   ]
  },
  {
   "cell_type": "markdown",
   "metadata": {
    "slideshow": {
     "slide_type": "subslide"
    }
   },
   "source": [
    "**A string is an object, and actually it has many built-in functions**\n",
    "\n",
    "Next, we'll learn some common functions of `string`\n",
    "\n",
    "**How to search for a substring in a string?**\n",
    "* Syntax: `string.find(substring)`\n",
    "* Returns the lowest index where the string parameter is found as a substring of the input string; returns -1 if not found"
   ]
  },
  {
   "cell_type": "code",
   "execution_count": 103,
   "metadata": {
    "ExecuteTime": {
     "end_time": "2020-10-11T08:47:14.385369Z",
     "start_time": "2020-10-11T08:47:14.298637Z"
    }
   },
   "outputs": [
    {
     "name": "stdout",
     "output_type": "stream",
     "text": [
      "0\n",
      "-1\n"
     ]
    }
   ],
   "source": [
    "string=\"hello1, hello2\"\n",
    "print(string.find('hello'))  #return the index of the first match\n",
    "print(string.find('apple'))  #return -1 if 'apple' is not found"
   ]
  },
  {
   "cell_type": "markdown",
   "metadata": {
    "slideshow": {
     "slide_type": "fragment"
    }
   },
   "source": [
    "A string object has the method `find` to search for a substring.  \n",
    "E.g., to find the contact information of Tai Ming:"
   ]
  },
  {
   "cell_type": "code",
   "execution_count": 229,
   "metadata": {
    "ExecuteTime": {
     "end_time": "2020-10-12T03:47:10.985160Z",
     "start_time": "2020-10-12T03:47:10.899950Z"
    },
    "slideshow": {
     "slide_type": "fragment"
    }
   },
   "outputs": [
    {
     "name": "stdout",
     "output_type": "stream",
     "text": [
      "Tai Ming Chan,tmchan@cityu.edu.hk,(634) 234-7294\n",
      "\n"
     ]
    }
   ],
   "source": [
    "#str.find?\n",
    "with open('contact.csv') as f:\n",
    "    for line in f:\n",
    "        if line.find('Tai Ming') != -1:\n",
    "            record = line\n",
    "            print(record)\n",
    "            break"
   ]
  },
  {
   "cell_type": "markdown",
   "metadata": {
    "slideshow": {
     "slide_type": "subslide"
    }
   },
   "source": [
    "**How to split and join strings?**\n",
    "* Syntax `string.split(separator, maxsplit)`\n",
    "* The split() method splits a string into a list, based on the specified separator and maxsplit (the max number of split)\n",
    "* `separator` specifies the separator to use when splitting the string. By default any whitespace is a separator\n",
    "   * string.split(',') will separate string into substrings by `,`\n",
    "   * string.split('-') will separate string into substrings by `-`\n",
    "* `maxsplit`: specifies how many splits to do. Default value is -1, which is \"all occurrences\"\n",
    "* `string.rsplit(delimiter, maxsplit)` method splits a string into a list, starting from the right.\n",
    "   * if you don't specify maxsplit, it's the same as `split()` cause it splits \"all occurrences\"."
   ]
  },
  {
   "cell_type": "code",
   "execution_count": 263,
   "metadata": {
    "ExecuteTime": {
     "end_time": "2020-10-12T05:32:15.283832Z",
     "start_time": "2020-10-12T05:32:15.244338Z"
    }
   },
   "outputs": [
    {
     "name": "stdout",
     "output_type": "stream",
     "text": [
      "Example 1:\n",
      "['a', 'b', 'c', 'd']\n",
      "['a', 'b', 'c', 'd']\n",
      "['a', 'b', 'c', 'd']\n",
      "['a', 'b', 'c', 'd']\n",
      "Example 2:\n",
      "['a', 'b,c,d']\n",
      "['a', 'b-c-d']\n",
      "['a,b,c', 'd']\n",
      "['a-b-c', 'd']\n",
      "Example 3:\n",
      "['a', 'b,c,d']\n",
      "['a', 'b-c-d']\n",
      "['a,b,c', 'd']\n",
      "['a-b-c', 'd']\n"
     ]
    }
   ],
   "source": [
    "str1='a,b,c,d'\n",
    "str2='a-b-c-d'\n",
    "\n",
    "#example 1, the basic usage of split()\n",
    "#you can see there's no difference between split() and rsplit()\n",
    "print('Example 1:')\n",
    "print(str1.split(','))\n",
    "print(str2.split('-'))\n",
    "print(str1.rsplit(','))\n",
    "print(str2.rsplit('-'))\n",
    "\n",
    "#example 2, specify numbers of split,\n",
    "#you can see there's no difference between split() and rsplit()\n",
    "print('Example 2:')\n",
    "print(str1.split(',',1))\n",
    "print(str2.split('-',1))\n",
    "print(str1.rsplit(',',1))\n",
    "print(str2.rsplit('-',1))\n",
    "\n",
    "#the expressions above are equivalent to the belows\n",
    "print('Example 3:')\n",
    "print(str1.split(',',maxsplit=1))\n",
    "print(str2.split('-',maxsplit=1))\n",
    "print(str1.rsplit(',',maxsplit=1))\n",
    "print(str2.rsplit('-',maxsplit=1))\n"
   ]
  },
  {
   "cell_type": "markdown",
   "metadata": {
    "slideshow": {
     "slide_type": "fragment"
    }
   },
   "source": [
    "A string can be split according to a delimiter using the `split` method."
   ]
  },
  {
   "cell_type": "code",
   "execution_count": 230,
   "metadata": {
    "ExecuteTime": {
     "end_time": "2020-10-12T03:47:21.085016Z",
     "start_time": "2020-10-12T03:47:21.050384Z"
    },
    "slideshow": {
     "slide_type": "-"
    }
   },
   "outputs": [
    {
     "data": {
      "text/plain": [
       "['Tai Ming Chan', 'tmchan@cityu.edu.hk', '(634) 234-7294\\n']"
      ]
     },
     "execution_count": 230,
     "metadata": {},
     "output_type": "execute_result"
    }
   ],
   "source": [
    "# record is \"Tai Ming Chan,tmchan@cityu.edu.hk,(634) 234-7294\"\n",
    "record.split(',') #this example shows how to separate the record of Tai Ming Chan in contact.csv"
   ]
  },
  {
   "cell_type": "markdown",
   "metadata": {
    "slideshow": {
     "slide_type": "fragment"
    }
   },
   "source": [
    "The list of substrings can be joined back together using the `join` methods.\n",
    "* Syntax: `delimiter.join(substrings)`\n",
    "* Join all items into a single string, separated by `delimiter`"
   ]
  },
  {
   "cell_type": "code",
   "execution_count": 110,
   "metadata": {
    "ExecuteTime": {
     "end_time": "2020-10-11T08:55:26.381820Z",
     "start_time": "2020-10-11T08:55:26.377385Z"
    }
   },
   "outputs": [
    {
     "name": "stdout",
     "output_type": "stream",
     "text": [
      "ba-na-na\n",
      "ba#na#na\n",
      "banana\n"
     ]
    }
   ],
   "source": [
    "substrings=['ba','na','na']\n",
    "print('-'.join(substrings))\n",
    "print('#'.join(substrings))\n",
    "print(''.join(substrings))"
   ]
  },
  {
   "cell_type": "code",
   "execution_count": 111,
   "metadata": {
    "ExecuteTime": {
     "end_time": "2020-10-11T08:55:45.284181Z",
     "start_time": "2020-10-11T08:55:45.213978Z"
    },
    "slideshow": {
     "slide_type": "-"
    }
   },
   "outputs": [
    {
     "name": "stdout",
     "output_type": "stream",
     "text": [
      "Tai Ming Chan\n",
      "tmchan@cityu.edu.hk\n",
      "(634) 234-7294\n",
      "\n"
     ]
    }
   ],
   "source": [
    "print('\\n'.join(record.split(',')))"
   ]
  },
  {
   "cell_type": "markdown",
   "metadata": {
    "slideshow": {
     "slide_type": "subslide"
    }
   },
   "source": [
    "**Exercise** Print only the phone number (last item) in `record`. Use the method `rstrip` or  `strip` to remove unnecessary white spaces at the end.\n",
    "\n",
    "* Syntax: `string.strip(character)`\n",
    "* remove any leading/trailing characters, by default it's `space`\n",
    "* `string.lstrip(character)`, l means left: remove characters on the left side of a string\n",
    "* `string.rstrip(character)`, r means right: remove characters on the right side of a string"
   ]
  },
  {
   "cell_type": "code",
   "execution_count": 113,
   "metadata": {
    "ExecuteTime": {
     "end_time": "2020-10-11T09:09:13.744747Z",
     "start_time": "2020-10-11T09:09:13.732859Z"
    }
   },
   "outputs": [
    {
     "name": "stdout",
     "output_type": "stream",
     "text": [
      "banana\n",
      "banana   \n",
      "   banana\n",
      "banana\n",
      "banana,,,\n",
      ",,,banana\n"
     ]
    }
   ],
   "source": [
    "string='   banana   '\n",
    "print(string.strip())\n",
    "print(string.lstrip())\n",
    "print(string.rstrip())\n",
    "string=',,,banana,,,'\n",
    "print(string.strip(','))\n",
    "print(string.lstrip(','))\n",
    "print(string.rstrip(','))"
   ]
  },
  {
   "cell_type": "code",
   "execution_count": 128,
   "metadata": {
    "ExecuteTime": {
     "end_time": "2020-10-11T09:36:04.086137Z",
     "start_time": "2020-10-11T09:36:04.006802Z"
    },
    "deletable": false,
    "nbgrader": {
     "checksum": "58a4fa1d2dc8687eede742a0ac3cc60b",
     "grade": false,
     "grade_id": "strip",
     "locked": false,
     "schema_version": 3,
     "solution": true,
     "task": false
    },
    "slideshow": {
     "slide_type": "-"
    }
   },
   "outputs": [
    {
     "name": "stdout",
     "output_type": "stream",
     "text": [
      "(634) 234-7294\n",
      "Tai Ming Chan,tmchan@cityu.edu.hk,(634) 234-7294\n",
      "\n",
      "['Tai Ming Chan', 'tmchan@cityu.edu.hk', '(634) 234-7294\\n']\n",
      "(634) 234-7294\n",
      "\n",
      "(634) 234-7294\n"
     ]
    }
   ],
   "source": [
    "str.rstrip?\n",
    "# YOUR CODE HERE\n",
    "print(record.split(',')[-1].rstrip())\n",
    "\n",
    "#let's analyse the code one-by-one\n",
    "# record is \"Tai Ming Chan,tmchan@cityu.edu.hk,(634) 234-7294\"\n",
    "print(record)\n",
    "print(record.split(',')) #separate the whole string by ','\n",
    "print(record.split(',')[-1]) #get the last element in the substrings\n",
    "print(record.split(',')[-1].rstrip()) #use rstrip() to remove the spaces at the end if there's any"
   ]
  },
  {
   "cell_type": "markdown",
   "metadata": {
    "slideshow": {
     "slide_type": "fragment"
    }
   },
   "source": [
    "**Exercise** Print only the name (first item) in `record` but with\n",
    "- surname printed first with all letters in upper case \n",
    "- followed by a comma, a space, and\n",
    "- the first name as it is in `record`.\n",
    "\n",
    "E.g., `Tai Ming Chan` should be printed as `CHAN, Tai Ming`.  \n",
    "\n",
    "*Hint*: Use the methods `upper` and `rsplit` (with the parameter `maxsplit=1`).\n",
    "* The upper() method returns a string where all characters are in upper case."
   ]
  },
  {
   "cell_type": "code",
   "execution_count": 135,
   "metadata": {
    "ExecuteTime": {
     "end_time": "2020-10-11T10:27:49.285875Z",
     "start_time": "2020-10-11T10:27:49.246759Z"
    }
   },
   "outputs": [
    {
     "name": "stdout",
     "output_type": "stream",
     "text": [
      "APPLE\n"
     ]
    }
   ],
   "source": [
    "string=\"apple\"\n",
    "print(string.upper())"
   ]
  },
  {
   "cell_type": "code",
   "execution_count": 129,
   "metadata": {
    "ExecuteTime": {
     "end_time": "2020-10-11T09:36:20.297523Z",
     "start_time": "2020-10-11T09:36:20.232609Z"
    },
    "deletable": false,
    "nbgrader": {
     "checksum": "0d20ad9121f6e12c225da56bba6233a0",
     "grade": false,
     "grade_id": "process-name",
     "locked": false,
     "schema_version": 3,
     "solution": true,
     "task": false
    },
    "slideshow": {
     "slide_type": "-"
    }
   },
   "outputs": [
    {
     "name": "stdout",
     "output_type": "stream",
     "text": [
      "CHAN, Tai Ming\n",
      "Tai Ming Chan,tmchan@cityu.edu.hk,(634) 234-7294\n",
      "\n",
      "['Tai Ming Chan', 'tmchan@cityu.edu.hk', '(634) 234-7294\\n']\n",
      "Tai Ming Chan\n",
      "['Tai Ming', 'Chan']\n"
     ]
    }
   ],
   "source": [
    "str.rsplit?\n",
    "# YOUR CODE HERE\n",
    "first, last = record.split(',')[0].rsplit(' ', maxsplit=1)\n",
    "print('{}, {}'.format(last.upper(),first))\n",
    "\n",
    "\n",
    "#let's analyse the code one-by-one\n",
    "# record is \"Tai Ming Chan,tmchan@cityu.edu.hk,(634) 234-7294\"\n",
    "print(record)\n",
    "print(record.split(',')) #separate the whole string by ','\n",
    "print(record.split(',')[0]) #get the first element in the substrings\n",
    "print(record.split(',')[0].rsplit(' ', maxsplit=1)) #use rstrip() to split the substring"
   ]
  },
  {
   "cell_type": "markdown",
   "metadata": {
    "slideshow": {
     "slide_type": "slide"
    }
   },
   "source": [
    "## Operator Overloading [Optional]"
   ]
  },
  {
   "cell_type": "markdown",
   "metadata": {
    "slideshow": {
     "slide_type": "subslide"
    }
   },
   "source": [
    "### What is overloading?"
   ]
  },
  {
   "cell_type": "markdown",
   "metadata": {
    "slideshow": {
     "slide_type": "fragment"
    }
   },
   "source": [
    "Recall that the addition operation `+` behaves differently for different types."
   ]
  },
  {
   "cell_type": "code",
   "execution_count": 130,
   "metadata": {
    "ExecuteTime": {
     "end_time": "2020-10-11T09:38:47.487240Z",
     "start_time": "2020-10-11T09:38:47.456898Z"
    },
    "slideshow": {
     "slide_type": "fragment"
    }
   },
   "outputs": [
    {
     "name": "stdout",
     "output_type": "stream",
     "text": [
      "  1   +   1   = 2\n",
      " '1'  +  '1'  = '11'\n"
     ]
    },
    {
     "ename": "TypeError",
     "evalue": "unsupported operand type(s) for +: 'int' and 'str'",
     "output_type": "error",
     "traceback": [
      "\u001b[0;31m---------------------------------------------------------------------------\u001b[0m",
      "\u001b[0;31mTypeError\u001b[0m                                 Traceback (most recent call last)",
      "\u001b[0;32m<ipython-input-130-297be71279db>\u001b[0m in \u001b[0;36m<module>\u001b[0;34m\u001b[0m\n\u001b[1;32m      1\u001b[0m \u001b[0;32mfor\u001b[0m \u001b[0mx\u001b[0m\u001b[0;34m,\u001b[0m \u001b[0my\u001b[0m \u001b[0;32min\u001b[0m \u001b[0;34m(\u001b[0m\u001b[0;36m1\u001b[0m\u001b[0;34m,\u001b[0m \u001b[0;36m1\u001b[0m\u001b[0;34m)\u001b[0m\u001b[0;34m,\u001b[0m \u001b[0;34m(\u001b[0m\u001b[0;34m'1'\u001b[0m\u001b[0;34m,\u001b[0m \u001b[0;34m'1'\u001b[0m\u001b[0;34m)\u001b[0m\u001b[0;34m,\u001b[0m \u001b[0;34m(\u001b[0m\u001b[0;36m1\u001b[0m\u001b[0;34m,\u001b[0m \u001b[0;34m'1'\u001b[0m\u001b[0;34m)\u001b[0m\u001b[0;34m:\u001b[0m\u001b[0;34m\u001b[0m\u001b[0;34m\u001b[0m\u001b[0m\n\u001b[0;32m----> 2\u001b[0;31m     \u001b[0mprint\u001b[0m\u001b[0;34m(\u001b[0m\u001b[0;34mf'{x!r:^5} + {y!r:^5} = {x+y!r}'\u001b[0m\u001b[0;34m)\u001b[0m\u001b[0;34m\u001b[0m\u001b[0;34m\u001b[0m\u001b[0m\n\u001b[0m",
      "\u001b[0;31mTypeError\u001b[0m: unsupported operand type(s) for +: 'int' and 'str'"
     ]
    }
   ],
   "source": [
    "for x, y in (1, 1), ('1', '1'), (1, '1'):\n",
    "    print(f'{x!r:^5} + {y!r:^5} = {x+y!r}')  # review string formating in lecture2 to understand this line"
   ]
  },
  {
   "cell_type": "markdown",
   "metadata": {},
   "source": [
    "- Having an operator perform differently based on its argument types is called [operator *overloading*](https://en.wikipedia.org/wiki/Operator_overloading).\n",
    "- `+` is called a *generic* operator.\n",
    "- We can also have function overloading to create generic functions.\n",
    "\n",
    "Analogy: `drive` shows different behavior for different vehicles\n",
    "   - drive a car\n",
    "   - drive a boat\n",
    "   - drive a motorcycle"
   ]
  },
  {
   "cell_type": "markdown",
   "metadata": {
    "slideshow": {
     "slide_type": "subslide"
    }
   },
   "source": [
    "### How to dispatch on type?"
   ]
  },
  {
   "cell_type": "markdown",
   "metadata": {
    "slideshow": {
     "slide_type": "fragment"
    }
   },
   "source": [
    "The strategy of checking the type for the appropriate implementation is called *dispatching on type*.\n",
    "\n",
    "It means looking for the right implementation for different objects.\n",
    "\n",
    "Analogy: 'dispatching on vehicles'-look for right drivers for different vehicles.\n",
    "- to drive a car, you need a car driver\n",
    "- to drive a boat, you need a boat driver"
   ]
  },
  {
   "cell_type": "markdown",
   "metadata": {
    "slideshow": {
     "slide_type": "fragment"
    }
   },
   "source": [
    "A naive idea is to put all different implementations together with case-by-case checks of operand types.\n",
    "- if the target is a car, we look for a car driver\n",
    "- if the target is a boat, we look for boat driver\n",
    "- if the target is...."
   ]
  },
  {
   "cell_type": "code",
   "execution_count": 131,
   "metadata": {
    "ExecuteTime": {
     "end_time": "2020-10-11T09:55:45.291212Z",
     "start_time": "2020-10-11T09:55:45.274612Z"
    },
    "slideshow": {
     "slide_type": "-"
    }
   },
   "outputs": [
    {
     "name": "stdout",
     "output_type": "stream",
     "text": [
      "Do integer summation...\n",
      "    1      +     1      = 2\n",
      "Do string concatenation...\n",
      "   '1'     +    '1'     = '11'\n",
      "Return a TypeError...\n"
     ]
    },
    {
     "ename": "TypeError",
     "evalue": "unsupported operand type(s) for +: 'int' and 'str'",
     "output_type": "error",
     "traceback": [
      "\u001b[0;31m---------------------------------------------------------------------------\u001b[0m",
      "\u001b[0;31mTypeError\u001b[0m                                 Traceback (most recent call last)",
      "\u001b[0;32m<ipython-input-131-85c671bf17e3>\u001b[0m in \u001b[0;36m<module>\u001b[0;34m\u001b[0m\n\u001b[1;32m     10\u001b[0m \u001b[0;34m\u001b[0m\u001b[0m\n\u001b[1;32m     11\u001b[0m \u001b[0;32mfor\u001b[0m \u001b[0mx\u001b[0m\u001b[0;34m,\u001b[0m \u001b[0my\u001b[0m \u001b[0;32min\u001b[0m \u001b[0;34m(\u001b[0m\u001b[0;36m1\u001b[0m\u001b[0;34m,\u001b[0m \u001b[0;36m1\u001b[0m\u001b[0;34m)\u001b[0m\u001b[0;34m,\u001b[0m \u001b[0;34m(\u001b[0m\u001b[0;34m'1'\u001b[0m\u001b[0;34m,\u001b[0m \u001b[0;34m'1'\u001b[0m\u001b[0;34m)\u001b[0m\u001b[0;34m,\u001b[0m \u001b[0;34m(\u001b[0m\u001b[0;36m1\u001b[0m\u001b[0;34m,\u001b[0m \u001b[0;34m'1'\u001b[0m\u001b[0;34m)\u001b[0m\u001b[0;34m:\u001b[0m\u001b[0;34m\u001b[0m\u001b[0;34m\u001b[0m\u001b[0m\n\u001b[0;32m---> 12\u001b[0;31m     \u001b[0mprint\u001b[0m\u001b[0;34m(\u001b[0m\u001b[0;34mf'{x!r:^10} + {y!r:^10} = {add_case_by_case(x,y)!r}'\u001b[0m\u001b[0;34m)\u001b[0m\u001b[0;34m\u001b[0m\u001b[0;34m\u001b[0m\u001b[0m\n\u001b[0m",
      "\u001b[0;32m<ipython-input-131-85c671bf17e3>\u001b[0m in \u001b[0;36madd_case_by_case\u001b[0;34m(x, y)\u001b[0m\n\u001b[1;32m      6\u001b[0m     \u001b[0;32melse\u001b[0m\u001b[0;34m:\u001b[0m\u001b[0;34m\u001b[0m\u001b[0;34m\u001b[0m\u001b[0m\n\u001b[1;32m      7\u001b[0m         \u001b[0mprint\u001b[0m\u001b[0;34m(\u001b[0m\u001b[0;34m'Return a TypeError...'\u001b[0m\u001b[0;34m)\u001b[0m\u001b[0;34m\u001b[0m\u001b[0;34m\u001b[0m\u001b[0m\n\u001b[0;32m----> 8\u001b[0;31m     \u001b[0;32mreturn\u001b[0m \u001b[0mx\u001b[0m \u001b[0;34m+\u001b[0m \u001b[0my\u001b[0m  \u001b[0;31m# replaced by internal implementations\u001b[0m\u001b[0;34m\u001b[0m\u001b[0;34m\u001b[0m\u001b[0m\n\u001b[0m\u001b[1;32m      9\u001b[0m \u001b[0;34m\u001b[0m\u001b[0m\n\u001b[1;32m     10\u001b[0m \u001b[0;34m\u001b[0m\u001b[0m\n",
      "\u001b[0;31mTypeError\u001b[0m: unsupported operand type(s) for +: 'int' and 'str'"
     ]
    }
   ],
   "source": [
    "def add_case_by_case(x, y):\n",
    "    if isinstance(x, int) and isinstance(y, int):\n",
    "        print('Do integer summation...')\n",
    "    elif isinstance(x, str) and isinstance(y, str):\n",
    "        print('Do string concatenation...')\n",
    "    else:\n",
    "        print('Return a TypeError...')\n",
    "    return x + y  # replaced by internal implementations\n",
    "\n",
    "\n",
    "for x, y in (1, 1), ('1', '1'), (1, '1'):\n",
    "    print(f'{x!r:^10} + {y!r:^10} = {add_case_by_case(x,y)!r}')"
   ]
  },
  {
   "cell_type": "markdown",
   "metadata": {
    "slideshow": {
     "slide_type": "subslide"
    }
   },
   "source": [
    "It can get quite messy with all possible types and combinations."
   ]
  },
  {
   "cell_type": "code",
   "execution_count": 218,
   "metadata": {
    "ExecuteTime": {
     "end_time": "2020-10-12T03:23:12.984291Z",
     "start_time": "2020-10-12T03:23:12.928352Z"
    },
    "slideshow": {
     "slide_type": "-"
    }
   },
   "outputs": [
    {
     "name": "stdout",
     "output_type": "stream",
     "text": [
      "    1      +    1.1     = 2.1\n",
      "    1      +   (1+2j)   = (2+2j)\n",
      "  (1, 2)   +   (1, 2)   = (1, 2, 1, 2)\n"
     ]
    }
   ],
   "source": [
    "#this example shows there're many possible types and combinations\n",
    "# int+int, int+float, float+float, complex+int, complex+float etc.....\n",
    "for x, y in ((1, 1.1), (1, complex(1, 2)), ((1, 2), (1, 2))):\n",
    "    print(f'{x!r:^10} + {y!r:^10} = {x+y!r}')"
   ]
  },
  {
   "cell_type": "markdown",
   "metadata": {
    "slideshow": {
     "slide_type": "subslide"
    }
   },
   "source": [
    "**What about new data types?**"
   ]
  },
  {
   "cell_type": "code",
   "execution_count": 266,
   "metadata": {
    "ExecuteTime": {
     "end_time": "2020-10-12T05:58:16.987924Z",
     "start_time": "2020-10-12T05:58:16.925159Z"
    },
    "slideshow": {
     "slide_type": "-"
    }
   },
   "outputs": [
    {
     "name": "stdout",
     "output_type": "stream",
     "text": [
      "1/2 + 1 = 3/2\n",
      "1 + 1/2 = 3/2\n"
     ]
    }
   ],
   "source": [
    "#this example shows, we may have new data types, and we also need to handle it\n",
    "from fractions import Fraction  # non-built-in type for fractions\n",
    "for x, y in ((Fraction(1, 2), 1), (1, Fraction(1, 2))):\n",
    "    print(f'{x} + {y} = {x+y}')"
   ]
  },
  {
   "cell_type": "markdown",
   "metadata": {
    "slideshow": {
     "slide_type": "fragment"
    }
   },
   "source": [
    "Weaknesses of the naive approach:\n",
    "1. New data types require rewriting the addition operation.\n",
    "1. A programmer may not know all other types and combinations to rewrite the code properly."
   ]
  },
  {
   "cell_type": "markdown",
   "metadata": {
    "slideshow": {
     "slide_type": "subslide"
    }
   },
   "source": [
    "### How to have data-directed programming?"
   ]
  },
  {
   "cell_type": "markdown",
   "metadata": {
    "slideshow": {
     "slide_type": "fragment"
    }
   },
   "source": [
    "The idea is to treat an implementation as a datum that can be returned by the operand types."
   ]
  },
  {
   "cell_type": "markdown",
   "metadata": {
    "slideshow": {
     "slide_type": "fragment"
    }
   },
   "source": [
    "- `x + y` is a [*syntactic sugar*](https://en.wikipedia.org/wiki/Syntactic_sugar) that\n",
    "- invokes the method `type(x).__add__(x,y)` of `type(x)` to do the addition.\n",
    "\n",
    "In other words, the 'addition' operation is a member function of the object\n",
    "- int() has an `__add__()` function to add integers\n",
    "- float() has an `__add__()` function to add floating pointer numbers\n",
    "- string() has an `__add__()` function to add strings\n",
    "\n",
    "That means, you don't need to define an `add()` to handle all the data types. \n",
    "* `__add__()` function is defined in each class.\n",
    "* `+` operator works according to behavior defined in each class.\n",
    "\n",
    "Analogy: we don't need to define drive() for each vehicle, instead\n",
    "- car has built-in function drive()\n",
    "- boat has built-in function drive()"
   ]
  },
  {
   "cell_type": "code",
   "execution_count": 269,
   "metadata": {
    "ExecuteTime": {
     "end_time": "2020-10-12T05:58:41.492197Z",
     "start_time": "2020-10-12T05:58:41.404073Z"
    },
    "slideshow": {
     "slide_type": "subslide"
    }
   },
   "outputs": [
    {
     "name": "stdout",
     "output_type": "stream",
     "text": [
      "1/2 + 1 = 3/2\n",
      "1 + 1/2 = NotImplemented\n"
     ]
    }
   ],
   "source": [
    "#this example shows, the __add__ function will be called automatically based on the data type\n",
    "for x, y in (Fraction(1, 2), 1), (1, Fraction(1, 2)):\n",
    "    print(f'{x} + {y} = {type(x).__add__(x,y)}')  # instead of x + y"
   ]
  },
  {
   "cell_type": "markdown",
   "metadata": {
    "slideshow": {
     "slide_type": "fragment"
    }
   },
   "source": [
    "- The first case calls `Fraction.__add__`, which provides a way to add `int` to `Fraction`.\n",
    "- The second case calls `int.__add__`, which cannot provide any way of adding `Fraction` to `int`. (Why not?)\n",
    "- because the `int.__add__` can only return integers, but now the return value is fraction 3/2. So `int.__add__` cannot handle such case"
   ]
  },
  {
   "cell_type": "markdown",
   "metadata": {
    "slideshow": {
     "slide_type": "fragment"
    }
   },
   "source": [
    "**Why return a [`NotImplemented` object](https://docs.python.org/3.6/library/constants.html#NotImplemented) instead of raising an error/exception?**"
   ]
  },
  {
   "cell_type": "markdown",
   "metadata": {
    "slideshow": {
     "slide_type": "fragment"
    }
   },
   "source": [
    "- This allows `+` to continue to handle the addition by\n",
    "- dispatching on `Fraction` to call its reverse addition method [`__radd__`](https://docs.python.org/3.6/library/numbers.html#implementing-the-arithmetic-operations).\n",
    "- These functions `__radd__` are only called if the left operand does not support the corresponding operation and the operands are of different types.\n",
    "- To put it simple, `__radd__` is a backup solution for `__add__`"
   ]
  },
  {
   "cell_type": "code",
   "execution_count": 222,
   "metadata": {
    "ExecuteTime": {
     "end_time": "2020-10-12T03:30:55.985322Z",
     "start_time": "2020-10-12T03:30:55.949305Z"
    },
    "code_folding": [],
    "slideshow": {
     "slide_type": "fragment"
    }
   },
   "outputs": [
    {
     "data": {
      "text/html": [
       "\n",
       "        <iframe\n",
       "            width=\"1100\"\n",
       "            height=\"500\"\n",
       "            src=\"https://e-quiz.cs.cityu.edu.hk/opt/cs1302visualize.html#mode=display&code=from%20fractions%20import%20Fraction%0Adef%20add%28x%2C%20y%29%3A%0A%20%20%20%20%27%27%27Simulate%20the%20%2B%20operator.%27%27%27%0A%20%20%20%20sum%20%3D%20x.__add__%28y%29%0A%20%20%20%20if%20sum%20is%20NotImplemented%3A%0A%20%20%20%20%20%20%20%20sum%20%3D%20y.__radd__%28x%29%0A%20%20%20%20return%20sum%0A%0A%0Afor%20x%2C%20y%20in%20%28Fraction%281%2C%202%29%2C%201%29%2C%20%281%2C%20Fraction%281%2C%202%29%29%3A%0A%20%20%20%20print%28f%27%7Bx%7D%20%2B%20%7By%7D%20%3D%20%7Badd%28x%2Cy%29%7D%27%29%0A\"\n",
       "            frameborder=\"0\"\n",
       "            allowfullscreen\n",
       "        ></iframe>\n",
       "        "
      ],
      "text/plain": [
       "<IPython.lib.display.IFrame at 0x7fa7b746ac50>"
      ]
     },
     "metadata": {},
     "output_type": "display_data"
    }
   ],
   "source": [
    "%%mytutor -h 500\n",
    "from fractions import Fraction\n",
    "def add(x, y):\n",
    "    '''Simulate the + operator.'''\n",
    "    sum = x.__add__(y)\n",
    "    if sum is NotImplemented:\n",
    "        sum = y.__radd__(x)\n",
    "    return sum\n",
    "\n",
    "\n",
    "for x, y in (Fraction(1, 2), 1), (1, Fraction(1, 2)):\n",
    "    print(f'{x} + {y} = {add(x,y)}')"
   ]
  },
  {
   "cell_type": "markdown",
   "metadata": {
    "slideshow": {
     "slide_type": "subslide"
    }
   },
   "source": [
    "[optional]The object-oriented programming techniques involved are formally called:\n",
    "- [*Polymorphism*](https://en.wikipedia.org/wiki/Polymorphism_(computer_science)): Different types can have different implementations of the `__add__` method.  \n",
    "- [*Single dispatch*](https://en.wikipedia.org/wiki/Dynamic_dispatch): The implementation is chosen based on one single type at a time. "
   ]
  },
  {
   "cell_type": "markdown",
   "metadata": {
    "slideshow": {
     "slide_type": "subslide"
    }
   },
   "source": [
    "Remarks:\n",
    "- A method with starting and trailing double underscores in its name is called a [*dunder method*](https://dbader.org/blog/meaning-of-underscores-in-python) or special method.  \n",
    "- Dunder methods are not intended to be called directly. E.g., we normally use `+` instead of `__add__`.\n",
    "- [Other operators](https://docs.python.org/3/library/operator.html?highlight=operator) have their corresponding dunder methods that overloads the operator."
   ]
  },
  {
   "cell_type": "markdown",
   "metadata": {
    "slideshow": {
     "slide_type": "subslide"
    }
   },
   "source": [
    "**A short summary of operator overloading**\n",
    "\n",
    "This part introduces many new concepts and knowledge. What you need to understand is\n",
    "\n",
    "* what is operator overloading\n",
    "   * Operator overloading means an operator shows different behavior for different objects.\n",
    "* how it works? \n",
    "   * we don't define a single function for each operator to handle different types of data. Instead, the operator is defined in each class and will be called automatically for each data type."
   ]
  },
  {
   "cell_type": "markdown",
   "metadata": {
    "slideshow": {
     "slide_type": "slide"
    }
   },
   "source": [
    "## Object Aliasing (chapter 9.8 of reference book)"
   ]
  },
  {
   "cell_type": "markdown",
   "metadata": {
    "slideshow": {
     "slide_type": "subslide"
    }
   },
   "source": [
    "**What is object Aliasing?**\n",
    "\n",
    "In Python, aliasing happens whenever one variable's value is assigned to another variable, because variables are just names that store references to values.\n",
    "- x=5\n",
    "- y=x\n",
    "- x and y refer to the same object (i.e., 5). We say that, y is alias (another name) of x. "
   ]
  },
  {
   "cell_type": "markdown",
   "metadata": {
    "slideshow": {
     "slide_type": "subslide"
    }
   },
   "source": [
    "**When are two objects identical?**"
   ]
  },
  {
   "cell_type": "markdown",
   "metadata": {
    "slideshow": {
     "slide_type": "fragment"
    }
   },
   "source": [
    "Imagine, two students have the same name of Jack in our class. Can we say they are identical? No\n",
    "- student1.name == student2.name ('Jack' == 'Jack')\n",
    "- but student1 is student2? No\n",
    "\n",
    "We need to use their student ID to differentiate them.\n",
    "- id(student1) is 5424578\n",
    "- id(student2) is 2314574\n",
    "- each student has its unique id, so we can use id to verify if two students are the same person or not.\n",
    "\n",
    "Similarly, the following is how we verify if two objects are identical.\n",
    "\n",
    "- Two objects are the same if they occupy the same memory.  \n",
    "- The keyword `is` checks whether two objects are the same object.\n",
    "- The function `id` returns a unique id number for each object."
   ]
  },
  {
   "cell_type": "code",
   "execution_count": 4,
   "metadata": {
    "ExecuteTime": {
     "end_time": "2020-11-01T04:01:17.854287Z",
     "start_time": "2020-11-01T04:01:17.849988Z"
    },
    "slideshow": {
     "slide_type": "fragment"
    }
   },
   "outputs": [
    {
     "data": {
      "text/html": [
       "\n",
       "        <iframe\n",
       "            width=\"1100\"\n",
       "            height=\"400\"\n",
       "            src=\"https://e-quiz.cs.cityu.edu.hk/opt/cs1302visualize.html#mode=display&code=x%2C%20y%20%3D%20complex%281%2C2%29%2C%20complex%281%2C2%29%0Az%20%3D%20x%0A%0Afor%20expr%20in%20%27id%28x%29%27%2C%20%27id%28y%29%27%2C%20%27id%28z%29%27%2C%20%27x%20%3D%3D%20y%20%3D%3D%20z%27%2C%20%27x%20is%20y%27%2C%20%27x%20is%20z%27%3A%0A%20%20%20%20print%28expr%2Ceval%28expr%29%29%0A\"\n",
       "            frameborder=\"0\"\n",
       "            allowfullscreen\n",
       "        ></iframe>\n",
       "        "
      ],
      "text/plain": [
       "<IPython.lib.display.IFrame at 0x7f8b987b9ad0>"
      ]
     },
     "metadata": {},
     "output_type": "display_data"
    }
   ],
   "source": [
    "%%mytutor -h 400\n",
    "x, y = complex(1,2), complex(1,2)\n",
    "z = x\n",
    "\n",
    "for expr in 'id(x)', 'id(y)', 'id(z)', 'x == y == z', 'x is y', 'x is z':\n",
    "    print(expr,eval(expr))"
   ]
  },
  {
   "cell_type": "markdown",
   "metadata": {
    "slideshow": {
     "slide_type": "fragment"
    }
   },
   "source": [
    "As the box-pointer diagram shows:\n",
    "- `x` is not `y` because they point to objects at different memory locations,  \n",
    "  even though the objects have the same type and value.\n",
    "- `x` is `z` because the assignment `z = x` binds `z` to the same memory location `x` points to.  \n",
    "    `z` is said to be an *alias* (another name) of `x`. "
   ]
  },
  {
   "cell_type": "markdown",
   "metadata": {
    "slideshow": {
     "slide_type": "subslide"
    }
   },
   "source": [
    "**Should we use `is` or `==`?**"
   ]
  },
  {
   "cell_type": "markdown",
   "metadata": {
    "slideshow": {
     "slide_type": "fragment"
    }
   },
   "source": [
    "`is` is faster but has problems when we use it to compare different values:"
   ]
  },
  {
   "cell_type": "code",
   "execution_count": 223,
   "metadata": {
    "ExecuteTime": {
     "end_time": "2020-10-12T03:38:22.591916Z",
     "start_time": "2020-10-12T03:38:22.586608Z"
    },
    "slideshow": {
     "slide_type": "fragment"
    }
   },
   "outputs": [
    {
     "data": {
      "text/plain": [
       "(True, False, True)"
      ]
     },
     "execution_count": 223,
     "metadata": {},
     "output_type": "execute_result"
    }
   ],
   "source": [
    "#this example shows we cannot use `is` to compare different values\n",
    "1 is 1, 1 is 1., 1 == 1."
   ]
  },
  {
   "cell_type": "markdown",
   "metadata": {
    "slideshow": {
     "slide_type": "fragment"
    }
   },
   "source": [
    "- `1 is 1.` returns false because `1` is `int` but `1.` is `float`.\n",
    "- `==` calls the method `__eq__` of `float` which returns mathematical equivalence."
   ]
  },
  {
   "cell_type": "markdown",
   "metadata": {
    "slideshow": {
     "slide_type": "subslide"
    }
   },
   "source": [
    "*Can we use `is` for integer comparison?*"
   ]
  },
  {
   "cell_type": "code",
   "execution_count": 224,
   "metadata": {
    "ExecuteTime": {
     "end_time": "2020-10-12T03:39:41.986402Z",
     "start_time": "2020-10-12T03:39:41.937046Z"
    },
    "slideshow": {
     "slide_type": "fragment"
    }
   },
   "outputs": [
    {
     "data": {
      "text/plain": [
       "(True, False)"
      ]
     },
     "execution_count": 224,
     "metadata": {},
     "output_type": "execute_result"
    }
   ],
   "source": [
    "x, y = 1234, 1234\n",
    "1234 is 1234, x is y"
   ]
  },
  {
   "cell_type": "markdown",
   "metadata": {
    "ExecuteTime": {
     "end_time": "2020-07-29T15:18:31.994066Z",
     "start_time": "2020-07-29T15:18:31.985819Z"
    },
    "slideshow": {
     "slide_type": "fragment"
    }
   },
   "source": [
    "No. The behavior of `is` is not entirely predictable. The principle behind it is very complicated, no need to go deep."
   ]
  },
  {
   "cell_type": "markdown",
   "metadata": {
    "slideshow": {
     "slide_type": "fragment"
    }
   },
   "source": [
    "**When should we use `is`?**"
   ]
  },
  {
   "cell_type": "markdown",
   "metadata": {
    "slideshow": {
     "slide_type": "fragment"
    }
   },
   "source": [
    "`is` can be used for [built-in constants](https://docs.python.org/3/library/constants.html#built-in-constants) such as `None` and  `NotImplemented`  \n",
    "because there can only be one instance of each of them. In other words, constant is only defined once in the whole program."
   ]
  },
  {
   "cell_type": "markdown",
   "metadata": {
    "slideshow": {
     "slide_type": "subslide"
    }
   },
   "source": [
    "A short summmary of Object Aliasing\n",
    "\n",
    "What you need to know\n",
    "* what is object aliasing?\n",
    "* how to verify if two objects `x` and `y` are identical?\n",
    "   * `x is y`\n",
    "   * `id(x) == id(y)`"
   ]
  },
  {
   "cell_type": "markdown",
   "metadata": {
    "ExecuteTime": {
     "end_time": "2020-10-11T05:57:49.084287Z",
     "start_time": "2020-10-11T05:57:49.060085Z"
    },
    "slideshow": {
     "slide_type": "slide"
    }
   },
   "source": [
    "# Summary\n",
    "1. Understand some concepts such as class, object and object-oriented programming.\n",
    "\n",
    "2. Know how to create, read/write, close files\n",
    "\n",
    "3. Know how to operate strings, such as `upper()`, `split()`, `strip()`, `join()`\n",
    "\n",
    "4. Understand what is operator overloading\n",
    "\n",
    "5. Understand what is object aliasing"
   ]
  },
  {
   "cell_type": "code",
   "execution_count": null,
   "metadata": {},
   "outputs": [],
   "source": []
  }
 ],
 "metadata": {
  "celltoolbar": "Slideshow",
  "kernelspec": {
   "display_name": "Python 3.7",
   "language": "python",
   "name": "python3"
  },
  "language_info": {
   "codemirror_mode": {
    "name": "ipython",
    "version": 3
   },
   "file_extension": ".py",
   "mimetype": "text/x-python",
   "name": "python",
   "nbconvert_exporter": "python",
   "pygments_lexer": "ipython3",
   "version": "3.7.9"
  },
  "latex_envs": {
   "LaTeX_envs_menu_present": true,
   "autoclose": false,
   "autocomplete": true,
   "bibliofile": "biblio.bib",
   "cite_by": "apalike",
   "current_citInitial": 1,
   "eqLabelWithNumbers": true,
   "eqNumInitial": 1,
   "hotkeys": {
    "equation": "Ctrl-E",
    "itemize": "Ctrl-I"
   },
   "labels_anchors": false,
   "latex_user_defs": false,
   "report_style_numbering": false,
   "user_envs_cfg": false
  },
  "rise": {
   "enable_chalkboard": true,
   "scroll": true,
   "theme": "white"
  },
  "toc": {
   "base_numbering": 1,
   "nav_menu": {
    "height": "195px",
    "width": "330px"
   },
   "number_sections": true,
   "sideBar": true,
   "skip_h1_title": true,
   "title_cell": "Table of Contents",
   "title_sidebar": "Contents",
   "toc_cell": false,
   "toc_position": {
    "height": "582.599px",
    "left": "657.989px",
    "top": "287px",
    "width": "439.844px"
   },
   "toc_section_display": true,
   "toc_window_display": false
  }
 },
 "nbformat": 4,
 "nbformat_minor": 4
}
